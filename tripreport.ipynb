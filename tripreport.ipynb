{
  "nbformat": 4,
  "nbformat_minor": 0,
  "metadata": {
    "colab": {
      "provenance": [],
      "gpuType": "V28",
      "include_colab_link": true
    },
    "kernelspec": {
      "name": "python3",
      "display_name": "Python 3"
    },
    "language_info": {
      "name": "python"
    },
    "widgets": {
      "application/vnd.jupyter.widget-state+json": {
        "0a9dd795288b4e29972937b5c0bc44b5": {
          "model_module": "@jupyter-widgets/controls",
          "model_name": "HBoxModel",
          "model_module_version": "1.5.0",
          "state": {
            "_dom_classes": [],
            "_model_module": "@jupyter-widgets/controls",
            "_model_module_version": "1.5.0",
            "_model_name": "HBoxModel",
            "_view_count": null,
            "_view_module": "@jupyter-widgets/controls",
            "_view_module_version": "1.5.0",
            "_view_name": "HBoxView",
            "box_style": "",
            "children": [
              "IPY_MODEL_95fb2de4698343d0912e47ab7939afc0",
              "IPY_MODEL_b037f1ef72234b8f81db179ddaaa2cce",
              "IPY_MODEL_e018dbc1c2154ca194ec18aaa9047abb"
            ],
            "layout": "IPY_MODEL_9147ded2c8814029a2f14c3657df7fb8"
          }
        },
        "95fb2de4698343d0912e47ab7939afc0": {
          "model_module": "@jupyter-widgets/controls",
          "model_name": "HTMLModel",
          "model_module_version": "1.5.0",
          "state": {
            "_dom_classes": [],
            "_model_module": "@jupyter-widgets/controls",
            "_model_module_version": "1.5.0",
            "_model_name": "HTMLModel",
            "_view_count": null,
            "_view_module": "@jupyter-widgets/controls",
            "_view_module_version": "1.5.0",
            "_view_name": "HTMLView",
            "description": "",
            "description_tooltip": null,
            "layout": "IPY_MODEL_7d7da9af4d1f450abbfe9b5416a90da8",
            "placeholder": "​",
            "style": "IPY_MODEL_f123488189794dfd8d5c59e2cfa0aa40",
            "value": "modules.json: 100%"
          }
        },
        "b037f1ef72234b8f81db179ddaaa2cce": {
          "model_module": "@jupyter-widgets/controls",
          "model_name": "FloatProgressModel",
          "model_module_version": "1.5.0",
          "state": {
            "_dom_classes": [],
            "_model_module": "@jupyter-widgets/controls",
            "_model_module_version": "1.5.0",
            "_model_name": "FloatProgressModel",
            "_view_count": null,
            "_view_module": "@jupyter-widgets/controls",
            "_view_module_version": "1.5.0",
            "_view_name": "ProgressView",
            "bar_style": "success",
            "description": "",
            "description_tooltip": null,
            "layout": "IPY_MODEL_c31adb61ba1b44a78d458f12e5374be9",
            "max": 349,
            "min": 0,
            "orientation": "horizontal",
            "style": "IPY_MODEL_311fee55e1ba4dd2a7bf9686e9f50549",
            "value": 349
          }
        },
        "e018dbc1c2154ca194ec18aaa9047abb": {
          "model_module": "@jupyter-widgets/controls",
          "model_name": "HTMLModel",
          "model_module_version": "1.5.0",
          "state": {
            "_dom_classes": [],
            "_model_module": "@jupyter-widgets/controls",
            "_model_module_version": "1.5.0",
            "_model_name": "HTMLModel",
            "_view_count": null,
            "_view_module": "@jupyter-widgets/controls",
            "_view_module_version": "1.5.0",
            "_view_name": "HTMLView",
            "description": "",
            "description_tooltip": null,
            "layout": "IPY_MODEL_59d52c11e74a438485023cc6f8e0ae1e",
            "placeholder": "​",
            "style": "IPY_MODEL_1414d643819d4d89a3547ed483ea0d54",
            "value": " 349/349 [00:00&lt;00:00, 44.3kB/s]"
          }
        },
        "9147ded2c8814029a2f14c3657df7fb8": {
          "model_module": "@jupyter-widgets/base",
          "model_name": "LayoutModel",
          "model_module_version": "1.2.0",
          "state": {
            "_model_module": "@jupyter-widgets/base",
            "_model_module_version": "1.2.0",
            "_model_name": "LayoutModel",
            "_view_count": null,
            "_view_module": "@jupyter-widgets/base",
            "_view_module_version": "1.2.0",
            "_view_name": "LayoutView",
            "align_content": null,
            "align_items": null,
            "align_self": null,
            "border": null,
            "bottom": null,
            "display": null,
            "flex": null,
            "flex_flow": null,
            "grid_area": null,
            "grid_auto_columns": null,
            "grid_auto_flow": null,
            "grid_auto_rows": null,
            "grid_column": null,
            "grid_gap": null,
            "grid_row": null,
            "grid_template_areas": null,
            "grid_template_columns": null,
            "grid_template_rows": null,
            "height": null,
            "justify_content": null,
            "justify_items": null,
            "left": null,
            "margin": null,
            "max_height": null,
            "max_width": null,
            "min_height": null,
            "min_width": null,
            "object_fit": null,
            "object_position": null,
            "order": null,
            "overflow": null,
            "overflow_x": null,
            "overflow_y": null,
            "padding": null,
            "right": null,
            "top": null,
            "visibility": null,
            "width": null
          }
        },
        "7d7da9af4d1f450abbfe9b5416a90da8": {
          "model_module": "@jupyter-widgets/base",
          "model_name": "LayoutModel",
          "model_module_version": "1.2.0",
          "state": {
            "_model_module": "@jupyter-widgets/base",
            "_model_module_version": "1.2.0",
            "_model_name": "LayoutModel",
            "_view_count": null,
            "_view_module": "@jupyter-widgets/base",
            "_view_module_version": "1.2.0",
            "_view_name": "LayoutView",
            "align_content": null,
            "align_items": null,
            "align_self": null,
            "border": null,
            "bottom": null,
            "display": null,
            "flex": null,
            "flex_flow": null,
            "grid_area": null,
            "grid_auto_columns": null,
            "grid_auto_flow": null,
            "grid_auto_rows": null,
            "grid_column": null,
            "grid_gap": null,
            "grid_row": null,
            "grid_template_areas": null,
            "grid_template_columns": null,
            "grid_template_rows": null,
            "height": null,
            "justify_content": null,
            "justify_items": null,
            "left": null,
            "margin": null,
            "max_height": null,
            "max_width": null,
            "min_height": null,
            "min_width": null,
            "object_fit": null,
            "object_position": null,
            "order": null,
            "overflow": null,
            "overflow_x": null,
            "overflow_y": null,
            "padding": null,
            "right": null,
            "top": null,
            "visibility": null,
            "width": null
          }
        },
        "f123488189794dfd8d5c59e2cfa0aa40": {
          "model_module": "@jupyter-widgets/controls",
          "model_name": "DescriptionStyleModel",
          "model_module_version": "1.5.0",
          "state": {
            "_model_module": "@jupyter-widgets/controls",
            "_model_module_version": "1.5.0",
            "_model_name": "DescriptionStyleModel",
            "_view_count": null,
            "_view_module": "@jupyter-widgets/base",
            "_view_module_version": "1.2.0",
            "_view_name": "StyleView",
            "description_width": ""
          }
        },
        "c31adb61ba1b44a78d458f12e5374be9": {
          "model_module": "@jupyter-widgets/base",
          "model_name": "LayoutModel",
          "model_module_version": "1.2.0",
          "state": {
            "_model_module": "@jupyter-widgets/base",
            "_model_module_version": "1.2.0",
            "_model_name": "LayoutModel",
            "_view_count": null,
            "_view_module": "@jupyter-widgets/base",
            "_view_module_version": "1.2.0",
            "_view_name": "LayoutView",
            "align_content": null,
            "align_items": null,
            "align_self": null,
            "border": null,
            "bottom": null,
            "display": null,
            "flex": null,
            "flex_flow": null,
            "grid_area": null,
            "grid_auto_columns": null,
            "grid_auto_flow": null,
            "grid_auto_rows": null,
            "grid_column": null,
            "grid_gap": null,
            "grid_row": null,
            "grid_template_areas": null,
            "grid_template_columns": null,
            "grid_template_rows": null,
            "height": null,
            "justify_content": null,
            "justify_items": null,
            "left": null,
            "margin": null,
            "max_height": null,
            "max_width": null,
            "min_height": null,
            "min_width": null,
            "object_fit": null,
            "object_position": null,
            "order": null,
            "overflow": null,
            "overflow_x": null,
            "overflow_y": null,
            "padding": null,
            "right": null,
            "top": null,
            "visibility": null,
            "width": null
          }
        },
        "311fee55e1ba4dd2a7bf9686e9f50549": {
          "model_module": "@jupyter-widgets/controls",
          "model_name": "ProgressStyleModel",
          "model_module_version": "1.5.0",
          "state": {
            "_model_module": "@jupyter-widgets/controls",
            "_model_module_version": "1.5.0",
            "_model_name": "ProgressStyleModel",
            "_view_count": null,
            "_view_module": "@jupyter-widgets/base",
            "_view_module_version": "1.2.0",
            "_view_name": "StyleView",
            "bar_color": null,
            "description_width": ""
          }
        },
        "59d52c11e74a438485023cc6f8e0ae1e": {
          "model_module": "@jupyter-widgets/base",
          "model_name": "LayoutModel",
          "model_module_version": "1.2.0",
          "state": {
            "_model_module": "@jupyter-widgets/base",
            "_model_module_version": "1.2.0",
            "_model_name": "LayoutModel",
            "_view_count": null,
            "_view_module": "@jupyter-widgets/base",
            "_view_module_version": "1.2.0",
            "_view_name": "LayoutView",
            "align_content": null,
            "align_items": null,
            "align_self": null,
            "border": null,
            "bottom": null,
            "display": null,
            "flex": null,
            "flex_flow": null,
            "grid_area": null,
            "grid_auto_columns": null,
            "grid_auto_flow": null,
            "grid_auto_rows": null,
            "grid_column": null,
            "grid_gap": null,
            "grid_row": null,
            "grid_template_areas": null,
            "grid_template_columns": null,
            "grid_template_rows": null,
            "height": null,
            "justify_content": null,
            "justify_items": null,
            "left": null,
            "margin": null,
            "max_height": null,
            "max_width": null,
            "min_height": null,
            "min_width": null,
            "object_fit": null,
            "object_position": null,
            "order": null,
            "overflow": null,
            "overflow_x": null,
            "overflow_y": null,
            "padding": null,
            "right": null,
            "top": null,
            "visibility": null,
            "width": null
          }
        },
        "1414d643819d4d89a3547ed483ea0d54": {
          "model_module": "@jupyter-widgets/controls",
          "model_name": "DescriptionStyleModel",
          "model_module_version": "1.5.0",
          "state": {
            "_model_module": "@jupyter-widgets/controls",
            "_model_module_version": "1.5.0",
            "_model_name": "DescriptionStyleModel",
            "_view_count": null,
            "_view_module": "@jupyter-widgets/base",
            "_view_module_version": "1.2.0",
            "_view_name": "StyleView",
            "description_width": ""
          }
        },
        "909225e237454582a5321bf86e1ff31a": {
          "model_module": "@jupyter-widgets/controls",
          "model_name": "HBoxModel",
          "model_module_version": "1.5.0",
          "state": {
            "_dom_classes": [],
            "_model_module": "@jupyter-widgets/controls",
            "_model_module_version": "1.5.0",
            "_model_name": "HBoxModel",
            "_view_count": null,
            "_view_module": "@jupyter-widgets/controls",
            "_view_module_version": "1.5.0",
            "_view_name": "HBoxView",
            "box_style": "",
            "children": [
              "IPY_MODEL_d09bbf17bebc418292db60b6f7a67ce7",
              "IPY_MODEL_972eb74be7ba4edc861bf8dc3fb8ada5",
              "IPY_MODEL_1e692f2617ed47818654c199f30607fc"
            ],
            "layout": "IPY_MODEL_d76fcd54a59f4e49a6975c16942f607b"
          }
        },
        "d09bbf17bebc418292db60b6f7a67ce7": {
          "model_module": "@jupyter-widgets/controls",
          "model_name": "HTMLModel",
          "model_module_version": "1.5.0",
          "state": {
            "_dom_classes": [],
            "_model_module": "@jupyter-widgets/controls",
            "_model_module_version": "1.5.0",
            "_model_name": "HTMLModel",
            "_view_count": null,
            "_view_module": "@jupyter-widgets/controls",
            "_view_module_version": "1.5.0",
            "_view_name": "HTMLView",
            "description": "",
            "description_tooltip": null,
            "layout": "IPY_MODEL_1dd4bd7c046b4263a0cc19767f2d67c4",
            "placeholder": "​",
            "style": "IPY_MODEL_a8205df4c64b41d8b55a9ca4dc7b7fb1",
            "value": "config_sentence_transformers.json: 100%"
          }
        },
        "972eb74be7ba4edc861bf8dc3fb8ada5": {
          "model_module": "@jupyter-widgets/controls",
          "model_name": "FloatProgressModel",
          "model_module_version": "1.5.0",
          "state": {
            "_dom_classes": [],
            "_model_module": "@jupyter-widgets/controls",
            "_model_module_version": "1.5.0",
            "_model_name": "FloatProgressModel",
            "_view_count": null,
            "_view_module": "@jupyter-widgets/controls",
            "_view_module_version": "1.5.0",
            "_view_name": "ProgressView",
            "bar_style": "success",
            "description": "",
            "description_tooltip": null,
            "layout": "IPY_MODEL_98fb8c60cd9a4b8ca484814d8997fabf",
            "max": 116,
            "min": 0,
            "orientation": "horizontal",
            "style": "IPY_MODEL_e5d38cdb53fb49639af7a119a329fa74",
            "value": 116
          }
        },
        "1e692f2617ed47818654c199f30607fc": {
          "model_module": "@jupyter-widgets/controls",
          "model_name": "HTMLModel",
          "model_module_version": "1.5.0",
          "state": {
            "_dom_classes": [],
            "_model_module": "@jupyter-widgets/controls",
            "_model_module_version": "1.5.0",
            "_model_name": "HTMLModel",
            "_view_count": null,
            "_view_module": "@jupyter-widgets/controls",
            "_view_module_version": "1.5.0",
            "_view_name": "HTMLView",
            "description": "",
            "description_tooltip": null,
            "layout": "IPY_MODEL_eb7b8930efd94e6c936b001f57f14562",
            "placeholder": "​",
            "style": "IPY_MODEL_1bd55038153b4b8b81c6bf894056dd6d",
            "value": " 116/116 [00:00&lt;00:00, 15.1kB/s]"
          }
        },
        "d76fcd54a59f4e49a6975c16942f607b": {
          "model_module": "@jupyter-widgets/base",
          "model_name": "LayoutModel",
          "model_module_version": "1.2.0",
          "state": {
            "_model_module": "@jupyter-widgets/base",
            "_model_module_version": "1.2.0",
            "_model_name": "LayoutModel",
            "_view_count": null,
            "_view_module": "@jupyter-widgets/base",
            "_view_module_version": "1.2.0",
            "_view_name": "LayoutView",
            "align_content": null,
            "align_items": null,
            "align_self": null,
            "border": null,
            "bottom": null,
            "display": null,
            "flex": null,
            "flex_flow": null,
            "grid_area": null,
            "grid_auto_columns": null,
            "grid_auto_flow": null,
            "grid_auto_rows": null,
            "grid_column": null,
            "grid_gap": null,
            "grid_row": null,
            "grid_template_areas": null,
            "grid_template_columns": null,
            "grid_template_rows": null,
            "height": null,
            "justify_content": null,
            "justify_items": null,
            "left": null,
            "margin": null,
            "max_height": null,
            "max_width": null,
            "min_height": null,
            "min_width": null,
            "object_fit": null,
            "object_position": null,
            "order": null,
            "overflow": null,
            "overflow_x": null,
            "overflow_y": null,
            "padding": null,
            "right": null,
            "top": null,
            "visibility": null,
            "width": null
          }
        },
        "1dd4bd7c046b4263a0cc19767f2d67c4": {
          "model_module": "@jupyter-widgets/base",
          "model_name": "LayoutModel",
          "model_module_version": "1.2.0",
          "state": {
            "_model_module": "@jupyter-widgets/base",
            "_model_module_version": "1.2.0",
            "_model_name": "LayoutModel",
            "_view_count": null,
            "_view_module": "@jupyter-widgets/base",
            "_view_module_version": "1.2.0",
            "_view_name": "LayoutView",
            "align_content": null,
            "align_items": null,
            "align_self": null,
            "border": null,
            "bottom": null,
            "display": null,
            "flex": null,
            "flex_flow": null,
            "grid_area": null,
            "grid_auto_columns": null,
            "grid_auto_flow": null,
            "grid_auto_rows": null,
            "grid_column": null,
            "grid_gap": null,
            "grid_row": null,
            "grid_template_areas": null,
            "grid_template_columns": null,
            "grid_template_rows": null,
            "height": null,
            "justify_content": null,
            "justify_items": null,
            "left": null,
            "margin": null,
            "max_height": null,
            "max_width": null,
            "min_height": null,
            "min_width": null,
            "object_fit": null,
            "object_position": null,
            "order": null,
            "overflow": null,
            "overflow_x": null,
            "overflow_y": null,
            "padding": null,
            "right": null,
            "top": null,
            "visibility": null,
            "width": null
          }
        },
        "a8205df4c64b41d8b55a9ca4dc7b7fb1": {
          "model_module": "@jupyter-widgets/controls",
          "model_name": "DescriptionStyleModel",
          "model_module_version": "1.5.0",
          "state": {
            "_model_module": "@jupyter-widgets/controls",
            "_model_module_version": "1.5.0",
            "_model_name": "DescriptionStyleModel",
            "_view_count": null,
            "_view_module": "@jupyter-widgets/base",
            "_view_module_version": "1.2.0",
            "_view_name": "StyleView",
            "description_width": ""
          }
        },
        "98fb8c60cd9a4b8ca484814d8997fabf": {
          "model_module": "@jupyter-widgets/base",
          "model_name": "LayoutModel",
          "model_module_version": "1.2.0",
          "state": {
            "_model_module": "@jupyter-widgets/base",
            "_model_module_version": "1.2.0",
            "_model_name": "LayoutModel",
            "_view_count": null,
            "_view_module": "@jupyter-widgets/base",
            "_view_module_version": "1.2.0",
            "_view_name": "LayoutView",
            "align_content": null,
            "align_items": null,
            "align_self": null,
            "border": null,
            "bottom": null,
            "display": null,
            "flex": null,
            "flex_flow": null,
            "grid_area": null,
            "grid_auto_columns": null,
            "grid_auto_flow": null,
            "grid_auto_rows": null,
            "grid_column": null,
            "grid_gap": null,
            "grid_row": null,
            "grid_template_areas": null,
            "grid_template_columns": null,
            "grid_template_rows": null,
            "height": null,
            "justify_content": null,
            "justify_items": null,
            "left": null,
            "margin": null,
            "max_height": null,
            "max_width": null,
            "min_height": null,
            "min_width": null,
            "object_fit": null,
            "object_position": null,
            "order": null,
            "overflow": null,
            "overflow_x": null,
            "overflow_y": null,
            "padding": null,
            "right": null,
            "top": null,
            "visibility": null,
            "width": null
          }
        },
        "e5d38cdb53fb49639af7a119a329fa74": {
          "model_module": "@jupyter-widgets/controls",
          "model_name": "ProgressStyleModel",
          "model_module_version": "1.5.0",
          "state": {
            "_model_module": "@jupyter-widgets/controls",
            "_model_module_version": "1.5.0",
            "_model_name": "ProgressStyleModel",
            "_view_count": null,
            "_view_module": "@jupyter-widgets/base",
            "_view_module_version": "1.2.0",
            "_view_name": "StyleView",
            "bar_color": null,
            "description_width": ""
          }
        },
        "eb7b8930efd94e6c936b001f57f14562": {
          "model_module": "@jupyter-widgets/base",
          "model_name": "LayoutModel",
          "model_module_version": "1.2.0",
          "state": {
            "_model_module": "@jupyter-widgets/base",
            "_model_module_version": "1.2.0",
            "_model_name": "LayoutModel",
            "_view_count": null,
            "_view_module": "@jupyter-widgets/base",
            "_view_module_version": "1.2.0",
            "_view_name": "LayoutView",
            "align_content": null,
            "align_items": null,
            "align_self": null,
            "border": null,
            "bottom": null,
            "display": null,
            "flex": null,
            "flex_flow": null,
            "grid_area": null,
            "grid_auto_columns": null,
            "grid_auto_flow": null,
            "grid_auto_rows": null,
            "grid_column": null,
            "grid_gap": null,
            "grid_row": null,
            "grid_template_areas": null,
            "grid_template_columns": null,
            "grid_template_rows": null,
            "height": null,
            "justify_content": null,
            "justify_items": null,
            "left": null,
            "margin": null,
            "max_height": null,
            "max_width": null,
            "min_height": null,
            "min_width": null,
            "object_fit": null,
            "object_position": null,
            "order": null,
            "overflow": null,
            "overflow_x": null,
            "overflow_y": null,
            "padding": null,
            "right": null,
            "top": null,
            "visibility": null,
            "width": null
          }
        },
        "1bd55038153b4b8b81c6bf894056dd6d": {
          "model_module": "@jupyter-widgets/controls",
          "model_name": "DescriptionStyleModel",
          "model_module_version": "1.5.0",
          "state": {
            "_model_module": "@jupyter-widgets/controls",
            "_model_module_version": "1.5.0",
            "_model_name": "DescriptionStyleModel",
            "_view_count": null,
            "_view_module": "@jupyter-widgets/base",
            "_view_module_version": "1.2.0",
            "_view_name": "StyleView",
            "description_width": ""
          }
        },
        "46a0a292363c48ddae8d66b270299fac": {
          "model_module": "@jupyter-widgets/controls",
          "model_name": "HBoxModel",
          "model_module_version": "1.5.0",
          "state": {
            "_dom_classes": [],
            "_model_module": "@jupyter-widgets/controls",
            "_model_module_version": "1.5.0",
            "_model_name": "HBoxModel",
            "_view_count": null,
            "_view_module": "@jupyter-widgets/controls",
            "_view_module_version": "1.5.0",
            "_view_name": "HBoxView",
            "box_style": "",
            "children": [
              "IPY_MODEL_62c0bfb287e2486597f02ea7e6306ede",
              "IPY_MODEL_cc419c4a5f6e409c982fdde632c4046f",
              "IPY_MODEL_ec2bc8b2ad0d47a8951f4cb94c373cc9"
            ],
            "layout": "IPY_MODEL_8ebdefedee834b739b9f204ad6bde11d"
          }
        },
        "62c0bfb287e2486597f02ea7e6306ede": {
          "model_module": "@jupyter-widgets/controls",
          "model_name": "HTMLModel",
          "model_module_version": "1.5.0",
          "state": {
            "_dom_classes": [],
            "_model_module": "@jupyter-widgets/controls",
            "_model_module_version": "1.5.0",
            "_model_name": "HTMLModel",
            "_view_count": null,
            "_view_module": "@jupyter-widgets/controls",
            "_view_module_version": "1.5.0",
            "_view_name": "HTMLView",
            "description": "",
            "description_tooltip": null,
            "layout": "IPY_MODEL_10361859aac94c0cb9890dde3062e487",
            "placeholder": "​",
            "style": "IPY_MODEL_aa047e70c74840da9d8e3199c6d60f65",
            "value": "README.md: "
          }
        },
        "cc419c4a5f6e409c982fdde632c4046f": {
          "model_module": "@jupyter-widgets/controls",
          "model_name": "FloatProgressModel",
          "model_module_version": "1.5.0",
          "state": {
            "_dom_classes": [],
            "_model_module": "@jupyter-widgets/controls",
            "_model_module_version": "1.5.0",
            "_model_name": "FloatProgressModel",
            "_view_count": null,
            "_view_module": "@jupyter-widgets/controls",
            "_view_module_version": "1.5.0",
            "_view_name": "ProgressView",
            "bar_style": "success",
            "description": "",
            "description_tooltip": null,
            "layout": "IPY_MODEL_728e334f128f47a5bab8ef5b293f1503",
            "max": 1,
            "min": 0,
            "orientation": "horizontal",
            "style": "IPY_MODEL_2d4fe73f82e0432cba7ee6402e15e282",
            "value": 1
          }
        },
        "ec2bc8b2ad0d47a8951f4cb94c373cc9": {
          "model_module": "@jupyter-widgets/controls",
          "model_name": "HTMLModel",
          "model_module_version": "1.5.0",
          "state": {
            "_dom_classes": [],
            "_model_module": "@jupyter-widgets/controls",
            "_model_module_version": "1.5.0",
            "_model_name": "HTMLModel",
            "_view_count": null,
            "_view_module": "@jupyter-widgets/controls",
            "_view_module_version": "1.5.0",
            "_view_name": "HTMLView",
            "description": "",
            "description_tooltip": null,
            "layout": "IPY_MODEL_cc03c742941346e1a5acf173e19dfe06",
            "placeholder": "​",
            "style": "IPY_MODEL_e3683d14f7874075b4acd2ce400fd832",
            "value": " 10.5k/? [00:00&lt;00:00, 1.28MB/s]"
          }
        },
        "8ebdefedee834b739b9f204ad6bde11d": {
          "model_module": "@jupyter-widgets/base",
          "model_name": "LayoutModel",
          "model_module_version": "1.2.0",
          "state": {
            "_model_module": "@jupyter-widgets/base",
            "_model_module_version": "1.2.0",
            "_model_name": "LayoutModel",
            "_view_count": null,
            "_view_module": "@jupyter-widgets/base",
            "_view_module_version": "1.2.0",
            "_view_name": "LayoutView",
            "align_content": null,
            "align_items": null,
            "align_self": null,
            "border": null,
            "bottom": null,
            "display": null,
            "flex": null,
            "flex_flow": null,
            "grid_area": null,
            "grid_auto_columns": null,
            "grid_auto_flow": null,
            "grid_auto_rows": null,
            "grid_column": null,
            "grid_gap": null,
            "grid_row": null,
            "grid_template_areas": null,
            "grid_template_columns": null,
            "grid_template_rows": null,
            "height": null,
            "justify_content": null,
            "justify_items": null,
            "left": null,
            "margin": null,
            "max_height": null,
            "max_width": null,
            "min_height": null,
            "min_width": null,
            "object_fit": null,
            "object_position": null,
            "order": null,
            "overflow": null,
            "overflow_x": null,
            "overflow_y": null,
            "padding": null,
            "right": null,
            "top": null,
            "visibility": null,
            "width": null
          }
        },
        "10361859aac94c0cb9890dde3062e487": {
          "model_module": "@jupyter-widgets/base",
          "model_name": "LayoutModel",
          "model_module_version": "1.2.0",
          "state": {
            "_model_module": "@jupyter-widgets/base",
            "_model_module_version": "1.2.0",
            "_model_name": "LayoutModel",
            "_view_count": null,
            "_view_module": "@jupyter-widgets/base",
            "_view_module_version": "1.2.0",
            "_view_name": "LayoutView",
            "align_content": null,
            "align_items": null,
            "align_self": null,
            "border": null,
            "bottom": null,
            "display": null,
            "flex": null,
            "flex_flow": null,
            "grid_area": null,
            "grid_auto_columns": null,
            "grid_auto_flow": null,
            "grid_auto_rows": null,
            "grid_column": null,
            "grid_gap": null,
            "grid_row": null,
            "grid_template_areas": null,
            "grid_template_columns": null,
            "grid_template_rows": null,
            "height": null,
            "justify_content": null,
            "justify_items": null,
            "left": null,
            "margin": null,
            "max_height": null,
            "max_width": null,
            "min_height": null,
            "min_width": null,
            "object_fit": null,
            "object_position": null,
            "order": null,
            "overflow": null,
            "overflow_x": null,
            "overflow_y": null,
            "padding": null,
            "right": null,
            "top": null,
            "visibility": null,
            "width": null
          }
        },
        "aa047e70c74840da9d8e3199c6d60f65": {
          "model_module": "@jupyter-widgets/controls",
          "model_name": "DescriptionStyleModel",
          "model_module_version": "1.5.0",
          "state": {
            "_model_module": "@jupyter-widgets/controls",
            "_model_module_version": "1.5.0",
            "_model_name": "DescriptionStyleModel",
            "_view_count": null,
            "_view_module": "@jupyter-widgets/base",
            "_view_module_version": "1.2.0",
            "_view_name": "StyleView",
            "description_width": ""
          }
        },
        "728e334f128f47a5bab8ef5b293f1503": {
          "model_module": "@jupyter-widgets/base",
          "model_name": "LayoutModel",
          "model_module_version": "1.2.0",
          "state": {
            "_model_module": "@jupyter-widgets/base",
            "_model_module_version": "1.2.0",
            "_model_name": "LayoutModel",
            "_view_count": null,
            "_view_module": "@jupyter-widgets/base",
            "_view_module_version": "1.2.0",
            "_view_name": "LayoutView",
            "align_content": null,
            "align_items": null,
            "align_self": null,
            "border": null,
            "bottom": null,
            "display": null,
            "flex": null,
            "flex_flow": null,
            "grid_area": null,
            "grid_auto_columns": null,
            "grid_auto_flow": null,
            "grid_auto_rows": null,
            "grid_column": null,
            "grid_gap": null,
            "grid_row": null,
            "grid_template_areas": null,
            "grid_template_columns": null,
            "grid_template_rows": null,
            "height": null,
            "justify_content": null,
            "justify_items": null,
            "left": null,
            "margin": null,
            "max_height": null,
            "max_width": null,
            "min_height": null,
            "min_width": null,
            "object_fit": null,
            "object_position": null,
            "order": null,
            "overflow": null,
            "overflow_x": null,
            "overflow_y": null,
            "padding": null,
            "right": null,
            "top": null,
            "visibility": null,
            "width": "20px"
          }
        },
        "2d4fe73f82e0432cba7ee6402e15e282": {
          "model_module": "@jupyter-widgets/controls",
          "model_name": "ProgressStyleModel",
          "model_module_version": "1.5.0",
          "state": {
            "_model_module": "@jupyter-widgets/controls",
            "_model_module_version": "1.5.0",
            "_model_name": "ProgressStyleModel",
            "_view_count": null,
            "_view_module": "@jupyter-widgets/base",
            "_view_module_version": "1.2.0",
            "_view_name": "StyleView",
            "bar_color": null,
            "description_width": ""
          }
        },
        "cc03c742941346e1a5acf173e19dfe06": {
          "model_module": "@jupyter-widgets/base",
          "model_name": "LayoutModel",
          "model_module_version": "1.2.0",
          "state": {
            "_model_module": "@jupyter-widgets/base",
            "_model_module_version": "1.2.0",
            "_model_name": "LayoutModel",
            "_view_count": null,
            "_view_module": "@jupyter-widgets/base",
            "_view_module_version": "1.2.0",
            "_view_name": "LayoutView",
            "align_content": null,
            "align_items": null,
            "align_self": null,
            "border": null,
            "bottom": null,
            "display": null,
            "flex": null,
            "flex_flow": null,
            "grid_area": null,
            "grid_auto_columns": null,
            "grid_auto_flow": null,
            "grid_auto_rows": null,
            "grid_column": null,
            "grid_gap": null,
            "grid_row": null,
            "grid_template_areas": null,
            "grid_template_columns": null,
            "grid_template_rows": null,
            "height": null,
            "justify_content": null,
            "justify_items": null,
            "left": null,
            "margin": null,
            "max_height": null,
            "max_width": null,
            "min_height": null,
            "min_width": null,
            "object_fit": null,
            "object_position": null,
            "order": null,
            "overflow": null,
            "overflow_x": null,
            "overflow_y": null,
            "padding": null,
            "right": null,
            "top": null,
            "visibility": null,
            "width": null
          }
        },
        "e3683d14f7874075b4acd2ce400fd832": {
          "model_module": "@jupyter-widgets/controls",
          "model_name": "DescriptionStyleModel",
          "model_module_version": "1.5.0",
          "state": {
            "_model_module": "@jupyter-widgets/controls",
            "_model_module_version": "1.5.0",
            "_model_name": "DescriptionStyleModel",
            "_view_count": null,
            "_view_module": "@jupyter-widgets/base",
            "_view_module_version": "1.2.0",
            "_view_name": "StyleView",
            "description_width": ""
          }
        },
        "8200426059d44c238385add7a90f51c1": {
          "model_module": "@jupyter-widgets/controls",
          "model_name": "HBoxModel",
          "model_module_version": "1.5.0",
          "state": {
            "_dom_classes": [],
            "_model_module": "@jupyter-widgets/controls",
            "_model_module_version": "1.5.0",
            "_model_name": "HBoxModel",
            "_view_count": null,
            "_view_module": "@jupyter-widgets/controls",
            "_view_module_version": "1.5.0",
            "_view_name": "HBoxView",
            "box_style": "",
            "children": [
              "IPY_MODEL_c401e93db4d24e1ab861efc9d4f8e081",
              "IPY_MODEL_778db5a8e0284b2dadbf07e15c2bd020",
              "IPY_MODEL_e706ac2800d3408bba88404e7969048a"
            ],
            "layout": "IPY_MODEL_8b418cb51bb44f76899b789b692c43df"
          }
        },
        "c401e93db4d24e1ab861efc9d4f8e081": {
          "model_module": "@jupyter-widgets/controls",
          "model_name": "HTMLModel",
          "model_module_version": "1.5.0",
          "state": {
            "_dom_classes": [],
            "_model_module": "@jupyter-widgets/controls",
            "_model_module_version": "1.5.0",
            "_model_name": "HTMLModel",
            "_view_count": null,
            "_view_module": "@jupyter-widgets/controls",
            "_view_module_version": "1.5.0",
            "_view_name": "HTMLView",
            "description": "",
            "description_tooltip": null,
            "layout": "IPY_MODEL_3cf8e8a5cd1d4c388bbefbc8893b2c1c",
            "placeholder": "​",
            "style": "IPY_MODEL_99ef232f19f84327a318c9f74da57164",
            "value": "sentence_bert_config.json: 100%"
          }
        },
        "778db5a8e0284b2dadbf07e15c2bd020": {
          "model_module": "@jupyter-widgets/controls",
          "model_name": "FloatProgressModel",
          "model_module_version": "1.5.0",
          "state": {
            "_dom_classes": [],
            "_model_module": "@jupyter-widgets/controls",
            "_model_module_version": "1.5.0",
            "_model_name": "FloatProgressModel",
            "_view_count": null,
            "_view_module": "@jupyter-widgets/controls",
            "_view_module_version": "1.5.0",
            "_view_name": "ProgressView",
            "bar_style": "success",
            "description": "",
            "description_tooltip": null,
            "layout": "IPY_MODEL_5f6ece9cbe9a4c1c883e0e1910cf7e2f",
            "max": 53,
            "min": 0,
            "orientation": "horizontal",
            "style": "IPY_MODEL_09c6899ecb954e809b2378c4347c8bfd",
            "value": 53
          }
        },
        "e706ac2800d3408bba88404e7969048a": {
          "model_module": "@jupyter-widgets/controls",
          "model_name": "HTMLModel",
          "model_module_version": "1.5.0",
          "state": {
            "_dom_classes": [],
            "_model_module": "@jupyter-widgets/controls",
            "_model_module_version": "1.5.0",
            "_model_name": "HTMLModel",
            "_view_count": null,
            "_view_module": "@jupyter-widgets/controls",
            "_view_module_version": "1.5.0",
            "_view_name": "HTMLView",
            "description": "",
            "description_tooltip": null,
            "layout": "IPY_MODEL_073c5f73867744f0b82d29e4154be13d",
            "placeholder": "​",
            "style": "IPY_MODEL_dbd3ada3a9064e65a6569aeee651092e",
            "value": " 53.0/53.0 [00:00&lt;00:00, 7.60kB/s]"
          }
        },
        "8b418cb51bb44f76899b789b692c43df": {
          "model_module": "@jupyter-widgets/base",
          "model_name": "LayoutModel",
          "model_module_version": "1.2.0",
          "state": {
            "_model_module": "@jupyter-widgets/base",
            "_model_module_version": "1.2.0",
            "_model_name": "LayoutModel",
            "_view_count": null,
            "_view_module": "@jupyter-widgets/base",
            "_view_module_version": "1.2.0",
            "_view_name": "LayoutView",
            "align_content": null,
            "align_items": null,
            "align_self": null,
            "border": null,
            "bottom": null,
            "display": null,
            "flex": null,
            "flex_flow": null,
            "grid_area": null,
            "grid_auto_columns": null,
            "grid_auto_flow": null,
            "grid_auto_rows": null,
            "grid_column": null,
            "grid_gap": null,
            "grid_row": null,
            "grid_template_areas": null,
            "grid_template_columns": null,
            "grid_template_rows": null,
            "height": null,
            "justify_content": null,
            "justify_items": null,
            "left": null,
            "margin": null,
            "max_height": null,
            "max_width": null,
            "min_height": null,
            "min_width": null,
            "object_fit": null,
            "object_position": null,
            "order": null,
            "overflow": null,
            "overflow_x": null,
            "overflow_y": null,
            "padding": null,
            "right": null,
            "top": null,
            "visibility": null,
            "width": null
          }
        },
        "3cf8e8a5cd1d4c388bbefbc8893b2c1c": {
          "model_module": "@jupyter-widgets/base",
          "model_name": "LayoutModel",
          "model_module_version": "1.2.0",
          "state": {
            "_model_module": "@jupyter-widgets/base",
            "_model_module_version": "1.2.0",
            "_model_name": "LayoutModel",
            "_view_count": null,
            "_view_module": "@jupyter-widgets/base",
            "_view_module_version": "1.2.0",
            "_view_name": "LayoutView",
            "align_content": null,
            "align_items": null,
            "align_self": null,
            "border": null,
            "bottom": null,
            "display": null,
            "flex": null,
            "flex_flow": null,
            "grid_area": null,
            "grid_auto_columns": null,
            "grid_auto_flow": null,
            "grid_auto_rows": null,
            "grid_column": null,
            "grid_gap": null,
            "grid_row": null,
            "grid_template_areas": null,
            "grid_template_columns": null,
            "grid_template_rows": null,
            "height": null,
            "justify_content": null,
            "justify_items": null,
            "left": null,
            "margin": null,
            "max_height": null,
            "max_width": null,
            "min_height": null,
            "min_width": null,
            "object_fit": null,
            "object_position": null,
            "order": null,
            "overflow": null,
            "overflow_x": null,
            "overflow_y": null,
            "padding": null,
            "right": null,
            "top": null,
            "visibility": null,
            "width": null
          }
        },
        "99ef232f19f84327a318c9f74da57164": {
          "model_module": "@jupyter-widgets/controls",
          "model_name": "DescriptionStyleModel",
          "model_module_version": "1.5.0",
          "state": {
            "_model_module": "@jupyter-widgets/controls",
            "_model_module_version": "1.5.0",
            "_model_name": "DescriptionStyleModel",
            "_view_count": null,
            "_view_module": "@jupyter-widgets/base",
            "_view_module_version": "1.2.0",
            "_view_name": "StyleView",
            "description_width": ""
          }
        },
        "5f6ece9cbe9a4c1c883e0e1910cf7e2f": {
          "model_module": "@jupyter-widgets/base",
          "model_name": "LayoutModel",
          "model_module_version": "1.2.0",
          "state": {
            "_model_module": "@jupyter-widgets/base",
            "_model_module_version": "1.2.0",
            "_model_name": "LayoutModel",
            "_view_count": null,
            "_view_module": "@jupyter-widgets/base",
            "_view_module_version": "1.2.0",
            "_view_name": "LayoutView",
            "align_content": null,
            "align_items": null,
            "align_self": null,
            "border": null,
            "bottom": null,
            "display": null,
            "flex": null,
            "flex_flow": null,
            "grid_area": null,
            "grid_auto_columns": null,
            "grid_auto_flow": null,
            "grid_auto_rows": null,
            "grid_column": null,
            "grid_gap": null,
            "grid_row": null,
            "grid_template_areas": null,
            "grid_template_columns": null,
            "grid_template_rows": null,
            "height": null,
            "justify_content": null,
            "justify_items": null,
            "left": null,
            "margin": null,
            "max_height": null,
            "max_width": null,
            "min_height": null,
            "min_width": null,
            "object_fit": null,
            "object_position": null,
            "order": null,
            "overflow": null,
            "overflow_x": null,
            "overflow_y": null,
            "padding": null,
            "right": null,
            "top": null,
            "visibility": null,
            "width": null
          }
        },
        "09c6899ecb954e809b2378c4347c8bfd": {
          "model_module": "@jupyter-widgets/controls",
          "model_name": "ProgressStyleModel",
          "model_module_version": "1.5.0",
          "state": {
            "_model_module": "@jupyter-widgets/controls",
            "_model_module_version": "1.5.0",
            "_model_name": "ProgressStyleModel",
            "_view_count": null,
            "_view_module": "@jupyter-widgets/base",
            "_view_module_version": "1.2.0",
            "_view_name": "StyleView",
            "bar_color": null,
            "description_width": ""
          }
        },
        "073c5f73867744f0b82d29e4154be13d": {
          "model_module": "@jupyter-widgets/base",
          "model_name": "LayoutModel",
          "model_module_version": "1.2.0",
          "state": {
            "_model_module": "@jupyter-widgets/base",
            "_model_module_version": "1.2.0",
            "_model_name": "LayoutModel",
            "_view_count": null,
            "_view_module": "@jupyter-widgets/base",
            "_view_module_version": "1.2.0",
            "_view_name": "LayoutView",
            "align_content": null,
            "align_items": null,
            "align_self": null,
            "border": null,
            "bottom": null,
            "display": null,
            "flex": null,
            "flex_flow": null,
            "grid_area": null,
            "grid_auto_columns": null,
            "grid_auto_flow": null,
            "grid_auto_rows": null,
            "grid_column": null,
            "grid_gap": null,
            "grid_row": null,
            "grid_template_areas": null,
            "grid_template_columns": null,
            "grid_template_rows": null,
            "height": null,
            "justify_content": null,
            "justify_items": null,
            "left": null,
            "margin": null,
            "max_height": null,
            "max_width": null,
            "min_height": null,
            "min_width": null,
            "object_fit": null,
            "object_position": null,
            "order": null,
            "overflow": null,
            "overflow_x": null,
            "overflow_y": null,
            "padding": null,
            "right": null,
            "top": null,
            "visibility": null,
            "width": null
          }
        },
        "dbd3ada3a9064e65a6569aeee651092e": {
          "model_module": "@jupyter-widgets/controls",
          "model_name": "DescriptionStyleModel",
          "model_module_version": "1.5.0",
          "state": {
            "_model_module": "@jupyter-widgets/controls",
            "_model_module_version": "1.5.0",
            "_model_name": "DescriptionStyleModel",
            "_view_count": null,
            "_view_module": "@jupyter-widgets/base",
            "_view_module_version": "1.2.0",
            "_view_name": "StyleView",
            "description_width": ""
          }
        },
        "71291bef2b7b4309bd2f3be903f22c67": {
          "model_module": "@jupyter-widgets/controls",
          "model_name": "HBoxModel",
          "model_module_version": "1.5.0",
          "state": {
            "_dom_classes": [],
            "_model_module": "@jupyter-widgets/controls",
            "_model_module_version": "1.5.0",
            "_model_name": "HBoxModel",
            "_view_count": null,
            "_view_module": "@jupyter-widgets/controls",
            "_view_module_version": "1.5.0",
            "_view_name": "HBoxView",
            "box_style": "",
            "children": [
              "IPY_MODEL_127d7d9cc1f441198decbd93b1a42dcd",
              "IPY_MODEL_1c407c49a6d84d4787b876004b2ed437",
              "IPY_MODEL_b1b9d10c72b74109b209b1522aa0774e"
            ],
            "layout": "IPY_MODEL_210b8e1d84cc4f59b5d144da99ed9177"
          }
        },
        "127d7d9cc1f441198decbd93b1a42dcd": {
          "model_module": "@jupyter-widgets/controls",
          "model_name": "HTMLModel",
          "model_module_version": "1.5.0",
          "state": {
            "_dom_classes": [],
            "_model_module": "@jupyter-widgets/controls",
            "_model_module_version": "1.5.0",
            "_model_name": "HTMLModel",
            "_view_count": null,
            "_view_module": "@jupyter-widgets/controls",
            "_view_module_version": "1.5.0",
            "_view_name": "HTMLView",
            "description": "",
            "description_tooltip": null,
            "layout": "IPY_MODEL_9b82ca2ef1da4d1faae35702400c918e",
            "placeholder": "​",
            "style": "IPY_MODEL_45f55882c98f4f43b1d25eafe9d53707",
            "value": "config.json: 100%"
          }
        },
        "1c407c49a6d84d4787b876004b2ed437": {
          "model_module": "@jupyter-widgets/controls",
          "model_name": "FloatProgressModel",
          "model_module_version": "1.5.0",
          "state": {
            "_dom_classes": [],
            "_model_module": "@jupyter-widgets/controls",
            "_model_module_version": "1.5.0",
            "_model_name": "FloatProgressModel",
            "_view_count": null,
            "_view_module": "@jupyter-widgets/controls",
            "_view_module_version": "1.5.0",
            "_view_name": "ProgressView",
            "bar_style": "success",
            "description": "",
            "description_tooltip": null,
            "layout": "IPY_MODEL_6a1d1d187bfa4e96b75127557a6c6861",
            "max": 612,
            "min": 0,
            "orientation": "horizontal",
            "style": "IPY_MODEL_39ee43f3e56849c2ba870a691eca8948",
            "value": 612
          }
        },
        "b1b9d10c72b74109b209b1522aa0774e": {
          "model_module": "@jupyter-widgets/controls",
          "model_name": "HTMLModel",
          "model_module_version": "1.5.0",
          "state": {
            "_dom_classes": [],
            "_model_module": "@jupyter-widgets/controls",
            "_model_module_version": "1.5.0",
            "_model_name": "HTMLModel",
            "_view_count": null,
            "_view_module": "@jupyter-widgets/controls",
            "_view_module_version": "1.5.0",
            "_view_name": "HTMLView",
            "description": "",
            "description_tooltip": null,
            "layout": "IPY_MODEL_d0fc6462c5494663a3fc2ed456642588",
            "placeholder": "​",
            "style": "IPY_MODEL_9a360f59290745728f920fd0e0b57c91",
            "value": " 612/612 [00:00&lt;00:00, 82.7kB/s]"
          }
        },
        "210b8e1d84cc4f59b5d144da99ed9177": {
          "model_module": "@jupyter-widgets/base",
          "model_name": "LayoutModel",
          "model_module_version": "1.2.0",
          "state": {
            "_model_module": "@jupyter-widgets/base",
            "_model_module_version": "1.2.0",
            "_model_name": "LayoutModel",
            "_view_count": null,
            "_view_module": "@jupyter-widgets/base",
            "_view_module_version": "1.2.0",
            "_view_name": "LayoutView",
            "align_content": null,
            "align_items": null,
            "align_self": null,
            "border": null,
            "bottom": null,
            "display": null,
            "flex": null,
            "flex_flow": null,
            "grid_area": null,
            "grid_auto_columns": null,
            "grid_auto_flow": null,
            "grid_auto_rows": null,
            "grid_column": null,
            "grid_gap": null,
            "grid_row": null,
            "grid_template_areas": null,
            "grid_template_columns": null,
            "grid_template_rows": null,
            "height": null,
            "justify_content": null,
            "justify_items": null,
            "left": null,
            "margin": null,
            "max_height": null,
            "max_width": null,
            "min_height": null,
            "min_width": null,
            "object_fit": null,
            "object_position": null,
            "order": null,
            "overflow": null,
            "overflow_x": null,
            "overflow_y": null,
            "padding": null,
            "right": null,
            "top": null,
            "visibility": null,
            "width": null
          }
        },
        "9b82ca2ef1da4d1faae35702400c918e": {
          "model_module": "@jupyter-widgets/base",
          "model_name": "LayoutModel",
          "model_module_version": "1.2.0",
          "state": {
            "_model_module": "@jupyter-widgets/base",
            "_model_module_version": "1.2.0",
            "_model_name": "LayoutModel",
            "_view_count": null,
            "_view_module": "@jupyter-widgets/base",
            "_view_module_version": "1.2.0",
            "_view_name": "LayoutView",
            "align_content": null,
            "align_items": null,
            "align_self": null,
            "border": null,
            "bottom": null,
            "display": null,
            "flex": null,
            "flex_flow": null,
            "grid_area": null,
            "grid_auto_columns": null,
            "grid_auto_flow": null,
            "grid_auto_rows": null,
            "grid_column": null,
            "grid_gap": null,
            "grid_row": null,
            "grid_template_areas": null,
            "grid_template_columns": null,
            "grid_template_rows": null,
            "height": null,
            "justify_content": null,
            "justify_items": null,
            "left": null,
            "margin": null,
            "max_height": null,
            "max_width": null,
            "min_height": null,
            "min_width": null,
            "object_fit": null,
            "object_position": null,
            "order": null,
            "overflow": null,
            "overflow_x": null,
            "overflow_y": null,
            "padding": null,
            "right": null,
            "top": null,
            "visibility": null,
            "width": null
          }
        },
        "45f55882c98f4f43b1d25eafe9d53707": {
          "model_module": "@jupyter-widgets/controls",
          "model_name": "DescriptionStyleModel",
          "model_module_version": "1.5.0",
          "state": {
            "_model_module": "@jupyter-widgets/controls",
            "_model_module_version": "1.5.0",
            "_model_name": "DescriptionStyleModel",
            "_view_count": null,
            "_view_module": "@jupyter-widgets/base",
            "_view_module_version": "1.2.0",
            "_view_name": "StyleView",
            "description_width": ""
          }
        },
        "6a1d1d187bfa4e96b75127557a6c6861": {
          "model_module": "@jupyter-widgets/base",
          "model_name": "LayoutModel",
          "model_module_version": "1.2.0",
          "state": {
            "_model_module": "@jupyter-widgets/base",
            "_model_module_version": "1.2.0",
            "_model_name": "LayoutModel",
            "_view_count": null,
            "_view_module": "@jupyter-widgets/base",
            "_view_module_version": "1.2.0",
            "_view_name": "LayoutView",
            "align_content": null,
            "align_items": null,
            "align_self": null,
            "border": null,
            "bottom": null,
            "display": null,
            "flex": null,
            "flex_flow": null,
            "grid_area": null,
            "grid_auto_columns": null,
            "grid_auto_flow": null,
            "grid_auto_rows": null,
            "grid_column": null,
            "grid_gap": null,
            "grid_row": null,
            "grid_template_areas": null,
            "grid_template_columns": null,
            "grid_template_rows": null,
            "height": null,
            "justify_content": null,
            "justify_items": null,
            "left": null,
            "margin": null,
            "max_height": null,
            "max_width": null,
            "min_height": null,
            "min_width": null,
            "object_fit": null,
            "object_position": null,
            "order": null,
            "overflow": null,
            "overflow_x": null,
            "overflow_y": null,
            "padding": null,
            "right": null,
            "top": null,
            "visibility": null,
            "width": null
          }
        },
        "39ee43f3e56849c2ba870a691eca8948": {
          "model_module": "@jupyter-widgets/controls",
          "model_name": "ProgressStyleModel",
          "model_module_version": "1.5.0",
          "state": {
            "_model_module": "@jupyter-widgets/controls",
            "_model_module_version": "1.5.0",
            "_model_name": "ProgressStyleModel",
            "_view_count": null,
            "_view_module": "@jupyter-widgets/base",
            "_view_module_version": "1.2.0",
            "_view_name": "StyleView",
            "bar_color": null,
            "description_width": ""
          }
        },
        "d0fc6462c5494663a3fc2ed456642588": {
          "model_module": "@jupyter-widgets/base",
          "model_name": "LayoutModel",
          "model_module_version": "1.2.0",
          "state": {
            "_model_module": "@jupyter-widgets/base",
            "_model_module_version": "1.2.0",
            "_model_name": "LayoutModel",
            "_view_count": null,
            "_view_module": "@jupyter-widgets/base",
            "_view_module_version": "1.2.0",
            "_view_name": "LayoutView",
            "align_content": null,
            "align_items": null,
            "align_self": null,
            "border": null,
            "bottom": null,
            "display": null,
            "flex": null,
            "flex_flow": null,
            "grid_area": null,
            "grid_auto_columns": null,
            "grid_auto_flow": null,
            "grid_auto_rows": null,
            "grid_column": null,
            "grid_gap": null,
            "grid_row": null,
            "grid_template_areas": null,
            "grid_template_columns": null,
            "grid_template_rows": null,
            "height": null,
            "justify_content": null,
            "justify_items": null,
            "left": null,
            "margin": null,
            "max_height": null,
            "max_width": null,
            "min_height": null,
            "min_width": null,
            "object_fit": null,
            "object_position": null,
            "order": null,
            "overflow": null,
            "overflow_x": null,
            "overflow_y": null,
            "padding": null,
            "right": null,
            "top": null,
            "visibility": null,
            "width": null
          }
        },
        "9a360f59290745728f920fd0e0b57c91": {
          "model_module": "@jupyter-widgets/controls",
          "model_name": "DescriptionStyleModel",
          "model_module_version": "1.5.0",
          "state": {
            "_model_module": "@jupyter-widgets/controls",
            "_model_module_version": "1.5.0",
            "_model_name": "DescriptionStyleModel",
            "_view_count": null,
            "_view_module": "@jupyter-widgets/base",
            "_view_module_version": "1.2.0",
            "_view_name": "StyleView",
            "description_width": ""
          }
        },
        "9f887bab02f641ee8ce1b934ad58c718": {
          "model_module": "@jupyter-widgets/controls",
          "model_name": "HBoxModel",
          "model_module_version": "1.5.0",
          "state": {
            "_dom_classes": [],
            "_model_module": "@jupyter-widgets/controls",
            "_model_module_version": "1.5.0",
            "_model_name": "HBoxModel",
            "_view_count": null,
            "_view_module": "@jupyter-widgets/controls",
            "_view_module_version": "1.5.0",
            "_view_name": "HBoxView",
            "box_style": "",
            "children": [
              "IPY_MODEL_314f4d919c9f4ea794218518ac411a3a",
              "IPY_MODEL_5fd742a3251a4e78b0687cc69e6b8fc4",
              "IPY_MODEL_df78c7d90b4843a0ab2a4bf61d6e722c"
            ],
            "layout": "IPY_MODEL_18b50b1babfb45bb9c731c41dda6fc7e"
          }
        },
        "314f4d919c9f4ea794218518ac411a3a": {
          "model_module": "@jupyter-widgets/controls",
          "model_name": "HTMLModel",
          "model_module_version": "1.5.0",
          "state": {
            "_dom_classes": [],
            "_model_module": "@jupyter-widgets/controls",
            "_model_module_version": "1.5.0",
            "_model_name": "HTMLModel",
            "_view_count": null,
            "_view_module": "@jupyter-widgets/controls",
            "_view_module_version": "1.5.0",
            "_view_name": "HTMLView",
            "description": "",
            "description_tooltip": null,
            "layout": "IPY_MODEL_c458fd45d8cc45f1980815a8c07af202",
            "placeholder": "​",
            "style": "IPY_MODEL_93e51840ceca44089384e7d0c5c681d2",
            "value": "model.safetensors: 100%"
          }
        },
        "5fd742a3251a4e78b0687cc69e6b8fc4": {
          "model_module": "@jupyter-widgets/controls",
          "model_name": "FloatProgressModel",
          "model_module_version": "1.5.0",
          "state": {
            "_dom_classes": [],
            "_model_module": "@jupyter-widgets/controls",
            "_model_module_version": "1.5.0",
            "_model_name": "FloatProgressModel",
            "_view_count": null,
            "_view_module": "@jupyter-widgets/controls",
            "_view_module_version": "1.5.0",
            "_view_name": "ProgressView",
            "bar_style": "success",
            "description": "",
            "description_tooltip": null,
            "layout": "IPY_MODEL_8fc52fee769740f8ad28471b71863ffa",
            "max": 90868376,
            "min": 0,
            "orientation": "horizontal",
            "style": "IPY_MODEL_a796f94819bb45038f9d5fdc7246222f",
            "value": 90868376
          }
        },
        "df78c7d90b4843a0ab2a4bf61d6e722c": {
          "model_module": "@jupyter-widgets/controls",
          "model_name": "HTMLModel",
          "model_module_version": "1.5.0",
          "state": {
            "_dom_classes": [],
            "_model_module": "@jupyter-widgets/controls",
            "_model_module_version": "1.5.0",
            "_model_name": "HTMLModel",
            "_view_count": null,
            "_view_module": "@jupyter-widgets/controls",
            "_view_module_version": "1.5.0",
            "_view_name": "HTMLView",
            "description": "",
            "description_tooltip": null,
            "layout": "IPY_MODEL_0f1767ae04fd4ca38c52be04d0adfb53",
            "placeholder": "​",
            "style": "IPY_MODEL_7819dc307c70429babe30bb61d66b2e6",
            "value": " 90.9M/90.9M [00:00&lt;00:00, 36.8MB/s]"
          }
        },
        "18b50b1babfb45bb9c731c41dda6fc7e": {
          "model_module": "@jupyter-widgets/base",
          "model_name": "LayoutModel",
          "model_module_version": "1.2.0",
          "state": {
            "_model_module": "@jupyter-widgets/base",
            "_model_module_version": "1.2.0",
            "_model_name": "LayoutModel",
            "_view_count": null,
            "_view_module": "@jupyter-widgets/base",
            "_view_module_version": "1.2.0",
            "_view_name": "LayoutView",
            "align_content": null,
            "align_items": null,
            "align_self": null,
            "border": null,
            "bottom": null,
            "display": null,
            "flex": null,
            "flex_flow": null,
            "grid_area": null,
            "grid_auto_columns": null,
            "grid_auto_flow": null,
            "grid_auto_rows": null,
            "grid_column": null,
            "grid_gap": null,
            "grid_row": null,
            "grid_template_areas": null,
            "grid_template_columns": null,
            "grid_template_rows": null,
            "height": null,
            "justify_content": null,
            "justify_items": null,
            "left": null,
            "margin": null,
            "max_height": null,
            "max_width": null,
            "min_height": null,
            "min_width": null,
            "object_fit": null,
            "object_position": null,
            "order": null,
            "overflow": null,
            "overflow_x": null,
            "overflow_y": null,
            "padding": null,
            "right": null,
            "top": null,
            "visibility": null,
            "width": null
          }
        },
        "c458fd45d8cc45f1980815a8c07af202": {
          "model_module": "@jupyter-widgets/base",
          "model_name": "LayoutModel",
          "model_module_version": "1.2.0",
          "state": {
            "_model_module": "@jupyter-widgets/base",
            "_model_module_version": "1.2.0",
            "_model_name": "LayoutModel",
            "_view_count": null,
            "_view_module": "@jupyter-widgets/base",
            "_view_module_version": "1.2.0",
            "_view_name": "LayoutView",
            "align_content": null,
            "align_items": null,
            "align_self": null,
            "border": null,
            "bottom": null,
            "display": null,
            "flex": null,
            "flex_flow": null,
            "grid_area": null,
            "grid_auto_columns": null,
            "grid_auto_flow": null,
            "grid_auto_rows": null,
            "grid_column": null,
            "grid_gap": null,
            "grid_row": null,
            "grid_template_areas": null,
            "grid_template_columns": null,
            "grid_template_rows": null,
            "height": null,
            "justify_content": null,
            "justify_items": null,
            "left": null,
            "margin": null,
            "max_height": null,
            "max_width": null,
            "min_height": null,
            "min_width": null,
            "object_fit": null,
            "object_position": null,
            "order": null,
            "overflow": null,
            "overflow_x": null,
            "overflow_y": null,
            "padding": null,
            "right": null,
            "top": null,
            "visibility": null,
            "width": null
          }
        },
        "93e51840ceca44089384e7d0c5c681d2": {
          "model_module": "@jupyter-widgets/controls",
          "model_name": "DescriptionStyleModel",
          "model_module_version": "1.5.0",
          "state": {
            "_model_module": "@jupyter-widgets/controls",
            "_model_module_version": "1.5.0",
            "_model_name": "DescriptionStyleModel",
            "_view_count": null,
            "_view_module": "@jupyter-widgets/base",
            "_view_module_version": "1.2.0",
            "_view_name": "StyleView",
            "description_width": ""
          }
        },
        "8fc52fee769740f8ad28471b71863ffa": {
          "model_module": "@jupyter-widgets/base",
          "model_name": "LayoutModel",
          "model_module_version": "1.2.0",
          "state": {
            "_model_module": "@jupyter-widgets/base",
            "_model_module_version": "1.2.0",
            "_model_name": "LayoutModel",
            "_view_count": null,
            "_view_module": "@jupyter-widgets/base",
            "_view_module_version": "1.2.0",
            "_view_name": "LayoutView",
            "align_content": null,
            "align_items": null,
            "align_self": null,
            "border": null,
            "bottom": null,
            "display": null,
            "flex": null,
            "flex_flow": null,
            "grid_area": null,
            "grid_auto_columns": null,
            "grid_auto_flow": null,
            "grid_auto_rows": null,
            "grid_column": null,
            "grid_gap": null,
            "grid_row": null,
            "grid_template_areas": null,
            "grid_template_columns": null,
            "grid_template_rows": null,
            "height": null,
            "justify_content": null,
            "justify_items": null,
            "left": null,
            "margin": null,
            "max_height": null,
            "max_width": null,
            "min_height": null,
            "min_width": null,
            "object_fit": null,
            "object_position": null,
            "order": null,
            "overflow": null,
            "overflow_x": null,
            "overflow_y": null,
            "padding": null,
            "right": null,
            "top": null,
            "visibility": null,
            "width": null
          }
        },
        "a796f94819bb45038f9d5fdc7246222f": {
          "model_module": "@jupyter-widgets/controls",
          "model_name": "ProgressStyleModel",
          "model_module_version": "1.5.0",
          "state": {
            "_model_module": "@jupyter-widgets/controls",
            "_model_module_version": "1.5.0",
            "_model_name": "ProgressStyleModel",
            "_view_count": null,
            "_view_module": "@jupyter-widgets/base",
            "_view_module_version": "1.2.0",
            "_view_name": "StyleView",
            "bar_color": null,
            "description_width": ""
          }
        },
        "0f1767ae04fd4ca38c52be04d0adfb53": {
          "model_module": "@jupyter-widgets/base",
          "model_name": "LayoutModel",
          "model_module_version": "1.2.0",
          "state": {
            "_model_module": "@jupyter-widgets/base",
            "_model_module_version": "1.2.0",
            "_model_name": "LayoutModel",
            "_view_count": null,
            "_view_module": "@jupyter-widgets/base",
            "_view_module_version": "1.2.0",
            "_view_name": "LayoutView",
            "align_content": null,
            "align_items": null,
            "align_self": null,
            "border": null,
            "bottom": null,
            "display": null,
            "flex": null,
            "flex_flow": null,
            "grid_area": null,
            "grid_auto_columns": null,
            "grid_auto_flow": null,
            "grid_auto_rows": null,
            "grid_column": null,
            "grid_gap": null,
            "grid_row": null,
            "grid_template_areas": null,
            "grid_template_columns": null,
            "grid_template_rows": null,
            "height": null,
            "justify_content": null,
            "justify_items": null,
            "left": null,
            "margin": null,
            "max_height": null,
            "max_width": null,
            "min_height": null,
            "min_width": null,
            "object_fit": null,
            "object_position": null,
            "order": null,
            "overflow": null,
            "overflow_x": null,
            "overflow_y": null,
            "padding": null,
            "right": null,
            "top": null,
            "visibility": null,
            "width": null
          }
        },
        "7819dc307c70429babe30bb61d66b2e6": {
          "model_module": "@jupyter-widgets/controls",
          "model_name": "DescriptionStyleModel",
          "model_module_version": "1.5.0",
          "state": {
            "_model_module": "@jupyter-widgets/controls",
            "_model_module_version": "1.5.0",
            "_model_name": "DescriptionStyleModel",
            "_view_count": null,
            "_view_module": "@jupyter-widgets/base",
            "_view_module_version": "1.2.0",
            "_view_name": "StyleView",
            "description_width": ""
          }
        },
        "ad988ad30c584e6a9a604143105d04a4": {
          "model_module": "@jupyter-widgets/controls",
          "model_name": "HBoxModel",
          "model_module_version": "1.5.0",
          "state": {
            "_dom_classes": [],
            "_model_module": "@jupyter-widgets/controls",
            "_model_module_version": "1.5.0",
            "_model_name": "HBoxModel",
            "_view_count": null,
            "_view_module": "@jupyter-widgets/controls",
            "_view_module_version": "1.5.0",
            "_view_name": "HBoxView",
            "box_style": "",
            "children": [
              "IPY_MODEL_ecfb90001dc44d6e8e73877cb1f36c25",
              "IPY_MODEL_2424c57bbf6d4e7a86dd2aca909b7e47",
              "IPY_MODEL_50a83bfd5170444a8016f3cfcff20e11"
            ],
            "layout": "IPY_MODEL_1003a5cd7f6941e3b8683cdc93213e86"
          }
        },
        "ecfb90001dc44d6e8e73877cb1f36c25": {
          "model_module": "@jupyter-widgets/controls",
          "model_name": "HTMLModel",
          "model_module_version": "1.5.0",
          "state": {
            "_dom_classes": [],
            "_model_module": "@jupyter-widgets/controls",
            "_model_module_version": "1.5.0",
            "_model_name": "HTMLModel",
            "_view_count": null,
            "_view_module": "@jupyter-widgets/controls",
            "_view_module_version": "1.5.0",
            "_view_name": "HTMLView",
            "description": "",
            "description_tooltip": null,
            "layout": "IPY_MODEL_0a2cb9a3fcde408d96d79ace2f5d5966",
            "placeholder": "​",
            "style": "IPY_MODEL_e7a90b8ed29c42e4b5506a25d923550e",
            "value": "tokenizer_config.json: 100%"
          }
        },
        "2424c57bbf6d4e7a86dd2aca909b7e47": {
          "model_module": "@jupyter-widgets/controls",
          "model_name": "FloatProgressModel",
          "model_module_version": "1.5.0",
          "state": {
            "_dom_classes": [],
            "_model_module": "@jupyter-widgets/controls",
            "_model_module_version": "1.5.0",
            "_model_name": "FloatProgressModel",
            "_view_count": null,
            "_view_module": "@jupyter-widgets/controls",
            "_view_module_version": "1.5.0",
            "_view_name": "ProgressView",
            "bar_style": "success",
            "description": "",
            "description_tooltip": null,
            "layout": "IPY_MODEL_930495274a3e4c6aade26bc67addc3cc",
            "max": 350,
            "min": 0,
            "orientation": "horizontal",
            "style": "IPY_MODEL_67fdec0f4e924cec853fa2bb3f434b75",
            "value": 350
          }
        },
        "50a83bfd5170444a8016f3cfcff20e11": {
          "model_module": "@jupyter-widgets/controls",
          "model_name": "HTMLModel",
          "model_module_version": "1.5.0",
          "state": {
            "_dom_classes": [],
            "_model_module": "@jupyter-widgets/controls",
            "_model_module_version": "1.5.0",
            "_model_name": "HTMLModel",
            "_view_count": null,
            "_view_module": "@jupyter-widgets/controls",
            "_view_module_version": "1.5.0",
            "_view_name": "HTMLView",
            "description": "",
            "description_tooltip": null,
            "layout": "IPY_MODEL_a81ca18cd6884ffa94895843879ecba8",
            "placeholder": "​",
            "style": "IPY_MODEL_ce32fd5f62e44fc18332856142f95671",
            "value": " 350/350 [00:00&lt;00:00, 49.6kB/s]"
          }
        },
        "1003a5cd7f6941e3b8683cdc93213e86": {
          "model_module": "@jupyter-widgets/base",
          "model_name": "LayoutModel",
          "model_module_version": "1.2.0",
          "state": {
            "_model_module": "@jupyter-widgets/base",
            "_model_module_version": "1.2.0",
            "_model_name": "LayoutModel",
            "_view_count": null,
            "_view_module": "@jupyter-widgets/base",
            "_view_module_version": "1.2.0",
            "_view_name": "LayoutView",
            "align_content": null,
            "align_items": null,
            "align_self": null,
            "border": null,
            "bottom": null,
            "display": null,
            "flex": null,
            "flex_flow": null,
            "grid_area": null,
            "grid_auto_columns": null,
            "grid_auto_flow": null,
            "grid_auto_rows": null,
            "grid_column": null,
            "grid_gap": null,
            "grid_row": null,
            "grid_template_areas": null,
            "grid_template_columns": null,
            "grid_template_rows": null,
            "height": null,
            "justify_content": null,
            "justify_items": null,
            "left": null,
            "margin": null,
            "max_height": null,
            "max_width": null,
            "min_height": null,
            "min_width": null,
            "object_fit": null,
            "object_position": null,
            "order": null,
            "overflow": null,
            "overflow_x": null,
            "overflow_y": null,
            "padding": null,
            "right": null,
            "top": null,
            "visibility": null,
            "width": null
          }
        },
        "0a2cb9a3fcde408d96d79ace2f5d5966": {
          "model_module": "@jupyter-widgets/base",
          "model_name": "LayoutModel",
          "model_module_version": "1.2.0",
          "state": {
            "_model_module": "@jupyter-widgets/base",
            "_model_module_version": "1.2.0",
            "_model_name": "LayoutModel",
            "_view_count": null,
            "_view_module": "@jupyter-widgets/base",
            "_view_module_version": "1.2.0",
            "_view_name": "LayoutView",
            "align_content": null,
            "align_items": null,
            "align_self": null,
            "border": null,
            "bottom": null,
            "display": null,
            "flex": null,
            "flex_flow": null,
            "grid_area": null,
            "grid_auto_columns": null,
            "grid_auto_flow": null,
            "grid_auto_rows": null,
            "grid_column": null,
            "grid_gap": null,
            "grid_row": null,
            "grid_template_areas": null,
            "grid_template_columns": null,
            "grid_template_rows": null,
            "height": null,
            "justify_content": null,
            "justify_items": null,
            "left": null,
            "margin": null,
            "max_height": null,
            "max_width": null,
            "min_height": null,
            "min_width": null,
            "object_fit": null,
            "object_position": null,
            "order": null,
            "overflow": null,
            "overflow_x": null,
            "overflow_y": null,
            "padding": null,
            "right": null,
            "top": null,
            "visibility": null,
            "width": null
          }
        },
        "e7a90b8ed29c42e4b5506a25d923550e": {
          "model_module": "@jupyter-widgets/controls",
          "model_name": "DescriptionStyleModel",
          "model_module_version": "1.5.0",
          "state": {
            "_model_module": "@jupyter-widgets/controls",
            "_model_module_version": "1.5.0",
            "_model_name": "DescriptionStyleModel",
            "_view_count": null,
            "_view_module": "@jupyter-widgets/base",
            "_view_module_version": "1.2.0",
            "_view_name": "StyleView",
            "description_width": ""
          }
        },
        "930495274a3e4c6aade26bc67addc3cc": {
          "model_module": "@jupyter-widgets/base",
          "model_name": "LayoutModel",
          "model_module_version": "1.2.0",
          "state": {
            "_model_module": "@jupyter-widgets/base",
            "_model_module_version": "1.2.0",
            "_model_name": "LayoutModel",
            "_view_count": null,
            "_view_module": "@jupyter-widgets/base",
            "_view_module_version": "1.2.0",
            "_view_name": "LayoutView",
            "align_content": null,
            "align_items": null,
            "align_self": null,
            "border": null,
            "bottom": null,
            "display": null,
            "flex": null,
            "flex_flow": null,
            "grid_area": null,
            "grid_auto_columns": null,
            "grid_auto_flow": null,
            "grid_auto_rows": null,
            "grid_column": null,
            "grid_gap": null,
            "grid_row": null,
            "grid_template_areas": null,
            "grid_template_columns": null,
            "grid_template_rows": null,
            "height": null,
            "justify_content": null,
            "justify_items": null,
            "left": null,
            "margin": null,
            "max_height": null,
            "max_width": null,
            "min_height": null,
            "min_width": null,
            "object_fit": null,
            "object_position": null,
            "order": null,
            "overflow": null,
            "overflow_x": null,
            "overflow_y": null,
            "padding": null,
            "right": null,
            "top": null,
            "visibility": null,
            "width": null
          }
        },
        "67fdec0f4e924cec853fa2bb3f434b75": {
          "model_module": "@jupyter-widgets/controls",
          "model_name": "ProgressStyleModel",
          "model_module_version": "1.5.0",
          "state": {
            "_model_module": "@jupyter-widgets/controls",
            "_model_module_version": "1.5.0",
            "_model_name": "ProgressStyleModel",
            "_view_count": null,
            "_view_module": "@jupyter-widgets/base",
            "_view_module_version": "1.2.0",
            "_view_name": "StyleView",
            "bar_color": null,
            "description_width": ""
          }
        },
        "a81ca18cd6884ffa94895843879ecba8": {
          "model_module": "@jupyter-widgets/base",
          "model_name": "LayoutModel",
          "model_module_version": "1.2.0",
          "state": {
            "_model_module": "@jupyter-widgets/base",
            "_model_module_version": "1.2.0",
            "_model_name": "LayoutModel",
            "_view_count": null,
            "_view_module": "@jupyter-widgets/base",
            "_view_module_version": "1.2.0",
            "_view_name": "LayoutView",
            "align_content": null,
            "align_items": null,
            "align_self": null,
            "border": null,
            "bottom": null,
            "display": null,
            "flex": null,
            "flex_flow": null,
            "grid_area": null,
            "grid_auto_columns": null,
            "grid_auto_flow": null,
            "grid_auto_rows": null,
            "grid_column": null,
            "grid_gap": null,
            "grid_row": null,
            "grid_template_areas": null,
            "grid_template_columns": null,
            "grid_template_rows": null,
            "height": null,
            "justify_content": null,
            "justify_items": null,
            "left": null,
            "margin": null,
            "max_height": null,
            "max_width": null,
            "min_height": null,
            "min_width": null,
            "object_fit": null,
            "object_position": null,
            "order": null,
            "overflow": null,
            "overflow_x": null,
            "overflow_y": null,
            "padding": null,
            "right": null,
            "top": null,
            "visibility": null,
            "width": null
          }
        },
        "ce32fd5f62e44fc18332856142f95671": {
          "model_module": "@jupyter-widgets/controls",
          "model_name": "DescriptionStyleModel",
          "model_module_version": "1.5.0",
          "state": {
            "_model_module": "@jupyter-widgets/controls",
            "_model_module_version": "1.5.0",
            "_model_name": "DescriptionStyleModel",
            "_view_count": null,
            "_view_module": "@jupyter-widgets/base",
            "_view_module_version": "1.2.0",
            "_view_name": "StyleView",
            "description_width": ""
          }
        },
        "0cc9909d5df6416d8f7b054955bf92d3": {
          "model_module": "@jupyter-widgets/controls",
          "model_name": "HBoxModel",
          "model_module_version": "1.5.0",
          "state": {
            "_dom_classes": [],
            "_model_module": "@jupyter-widgets/controls",
            "_model_module_version": "1.5.0",
            "_model_name": "HBoxModel",
            "_view_count": null,
            "_view_module": "@jupyter-widgets/controls",
            "_view_module_version": "1.5.0",
            "_view_name": "HBoxView",
            "box_style": "",
            "children": [
              "IPY_MODEL_851d62ee79c0418aab1504f0b52a536e",
              "IPY_MODEL_70229b2f1a714469aee4a3e2d8209d22",
              "IPY_MODEL_daef968bb79d46379cfc718014cbc560"
            ],
            "layout": "IPY_MODEL_23181c10fa9d4681ba8e26ed001ae45b"
          }
        },
        "851d62ee79c0418aab1504f0b52a536e": {
          "model_module": "@jupyter-widgets/controls",
          "model_name": "HTMLModel",
          "model_module_version": "1.5.0",
          "state": {
            "_dom_classes": [],
            "_model_module": "@jupyter-widgets/controls",
            "_model_module_version": "1.5.0",
            "_model_name": "HTMLModel",
            "_view_count": null,
            "_view_module": "@jupyter-widgets/controls",
            "_view_module_version": "1.5.0",
            "_view_name": "HTMLView",
            "description": "",
            "description_tooltip": null,
            "layout": "IPY_MODEL_dce6b820186b4218b315c5b79bf92c46",
            "placeholder": "​",
            "style": "IPY_MODEL_985848ea5f1b4f08a8ad6625b5e93f6b",
            "value": "vocab.txt: "
          }
        },
        "70229b2f1a714469aee4a3e2d8209d22": {
          "model_module": "@jupyter-widgets/controls",
          "model_name": "FloatProgressModel",
          "model_module_version": "1.5.0",
          "state": {
            "_dom_classes": [],
            "_model_module": "@jupyter-widgets/controls",
            "_model_module_version": "1.5.0",
            "_model_name": "FloatProgressModel",
            "_view_count": null,
            "_view_module": "@jupyter-widgets/controls",
            "_view_module_version": "1.5.0",
            "_view_name": "ProgressView",
            "bar_style": "success",
            "description": "",
            "description_tooltip": null,
            "layout": "IPY_MODEL_724c8c18386743e98e12becb33315282",
            "max": 1,
            "min": 0,
            "orientation": "horizontal",
            "style": "IPY_MODEL_79ca88c396354281be772bb93ef33e3c",
            "value": 1
          }
        },
        "daef968bb79d46379cfc718014cbc560": {
          "model_module": "@jupyter-widgets/controls",
          "model_name": "HTMLModel",
          "model_module_version": "1.5.0",
          "state": {
            "_dom_classes": [],
            "_model_module": "@jupyter-widgets/controls",
            "_model_module_version": "1.5.0",
            "_model_name": "HTMLModel",
            "_view_count": null,
            "_view_module": "@jupyter-widgets/controls",
            "_view_module_version": "1.5.0",
            "_view_name": "HTMLView",
            "description": "",
            "description_tooltip": null,
            "layout": "IPY_MODEL_ddf16f3649c3492cbbf91f266c58af40",
            "placeholder": "​",
            "style": "IPY_MODEL_a309423b02d847d191eb557ac8560662",
            "value": " 232k/? [00:00&lt;00:00, 7.10MB/s]"
          }
        },
        "23181c10fa9d4681ba8e26ed001ae45b": {
          "model_module": "@jupyter-widgets/base",
          "model_name": "LayoutModel",
          "model_module_version": "1.2.0",
          "state": {
            "_model_module": "@jupyter-widgets/base",
            "_model_module_version": "1.2.0",
            "_model_name": "LayoutModel",
            "_view_count": null,
            "_view_module": "@jupyter-widgets/base",
            "_view_module_version": "1.2.0",
            "_view_name": "LayoutView",
            "align_content": null,
            "align_items": null,
            "align_self": null,
            "border": null,
            "bottom": null,
            "display": null,
            "flex": null,
            "flex_flow": null,
            "grid_area": null,
            "grid_auto_columns": null,
            "grid_auto_flow": null,
            "grid_auto_rows": null,
            "grid_column": null,
            "grid_gap": null,
            "grid_row": null,
            "grid_template_areas": null,
            "grid_template_columns": null,
            "grid_template_rows": null,
            "height": null,
            "justify_content": null,
            "justify_items": null,
            "left": null,
            "margin": null,
            "max_height": null,
            "max_width": null,
            "min_height": null,
            "min_width": null,
            "object_fit": null,
            "object_position": null,
            "order": null,
            "overflow": null,
            "overflow_x": null,
            "overflow_y": null,
            "padding": null,
            "right": null,
            "top": null,
            "visibility": null,
            "width": null
          }
        },
        "dce6b820186b4218b315c5b79bf92c46": {
          "model_module": "@jupyter-widgets/base",
          "model_name": "LayoutModel",
          "model_module_version": "1.2.0",
          "state": {
            "_model_module": "@jupyter-widgets/base",
            "_model_module_version": "1.2.0",
            "_model_name": "LayoutModel",
            "_view_count": null,
            "_view_module": "@jupyter-widgets/base",
            "_view_module_version": "1.2.0",
            "_view_name": "LayoutView",
            "align_content": null,
            "align_items": null,
            "align_self": null,
            "border": null,
            "bottom": null,
            "display": null,
            "flex": null,
            "flex_flow": null,
            "grid_area": null,
            "grid_auto_columns": null,
            "grid_auto_flow": null,
            "grid_auto_rows": null,
            "grid_column": null,
            "grid_gap": null,
            "grid_row": null,
            "grid_template_areas": null,
            "grid_template_columns": null,
            "grid_template_rows": null,
            "height": null,
            "justify_content": null,
            "justify_items": null,
            "left": null,
            "margin": null,
            "max_height": null,
            "max_width": null,
            "min_height": null,
            "min_width": null,
            "object_fit": null,
            "object_position": null,
            "order": null,
            "overflow": null,
            "overflow_x": null,
            "overflow_y": null,
            "padding": null,
            "right": null,
            "top": null,
            "visibility": null,
            "width": null
          }
        },
        "985848ea5f1b4f08a8ad6625b5e93f6b": {
          "model_module": "@jupyter-widgets/controls",
          "model_name": "DescriptionStyleModel",
          "model_module_version": "1.5.0",
          "state": {
            "_model_module": "@jupyter-widgets/controls",
            "_model_module_version": "1.5.0",
            "_model_name": "DescriptionStyleModel",
            "_view_count": null,
            "_view_module": "@jupyter-widgets/base",
            "_view_module_version": "1.2.0",
            "_view_name": "StyleView",
            "description_width": ""
          }
        },
        "724c8c18386743e98e12becb33315282": {
          "model_module": "@jupyter-widgets/base",
          "model_name": "LayoutModel",
          "model_module_version": "1.2.0",
          "state": {
            "_model_module": "@jupyter-widgets/base",
            "_model_module_version": "1.2.0",
            "_model_name": "LayoutModel",
            "_view_count": null,
            "_view_module": "@jupyter-widgets/base",
            "_view_module_version": "1.2.0",
            "_view_name": "LayoutView",
            "align_content": null,
            "align_items": null,
            "align_self": null,
            "border": null,
            "bottom": null,
            "display": null,
            "flex": null,
            "flex_flow": null,
            "grid_area": null,
            "grid_auto_columns": null,
            "grid_auto_flow": null,
            "grid_auto_rows": null,
            "grid_column": null,
            "grid_gap": null,
            "grid_row": null,
            "grid_template_areas": null,
            "grid_template_columns": null,
            "grid_template_rows": null,
            "height": null,
            "justify_content": null,
            "justify_items": null,
            "left": null,
            "margin": null,
            "max_height": null,
            "max_width": null,
            "min_height": null,
            "min_width": null,
            "object_fit": null,
            "object_position": null,
            "order": null,
            "overflow": null,
            "overflow_x": null,
            "overflow_y": null,
            "padding": null,
            "right": null,
            "top": null,
            "visibility": null,
            "width": "20px"
          }
        },
        "79ca88c396354281be772bb93ef33e3c": {
          "model_module": "@jupyter-widgets/controls",
          "model_name": "ProgressStyleModel",
          "model_module_version": "1.5.0",
          "state": {
            "_model_module": "@jupyter-widgets/controls",
            "_model_module_version": "1.5.0",
            "_model_name": "ProgressStyleModel",
            "_view_count": null,
            "_view_module": "@jupyter-widgets/base",
            "_view_module_version": "1.2.0",
            "_view_name": "StyleView",
            "bar_color": null,
            "description_width": ""
          }
        },
        "ddf16f3649c3492cbbf91f266c58af40": {
          "model_module": "@jupyter-widgets/base",
          "model_name": "LayoutModel",
          "model_module_version": "1.2.0",
          "state": {
            "_model_module": "@jupyter-widgets/base",
            "_model_module_version": "1.2.0",
            "_model_name": "LayoutModel",
            "_view_count": null,
            "_view_module": "@jupyter-widgets/base",
            "_view_module_version": "1.2.0",
            "_view_name": "LayoutView",
            "align_content": null,
            "align_items": null,
            "align_self": null,
            "border": null,
            "bottom": null,
            "display": null,
            "flex": null,
            "flex_flow": null,
            "grid_area": null,
            "grid_auto_columns": null,
            "grid_auto_flow": null,
            "grid_auto_rows": null,
            "grid_column": null,
            "grid_gap": null,
            "grid_row": null,
            "grid_template_areas": null,
            "grid_template_columns": null,
            "grid_template_rows": null,
            "height": null,
            "justify_content": null,
            "justify_items": null,
            "left": null,
            "margin": null,
            "max_height": null,
            "max_width": null,
            "min_height": null,
            "min_width": null,
            "object_fit": null,
            "object_position": null,
            "order": null,
            "overflow": null,
            "overflow_x": null,
            "overflow_y": null,
            "padding": null,
            "right": null,
            "top": null,
            "visibility": null,
            "width": null
          }
        },
        "a309423b02d847d191eb557ac8560662": {
          "model_module": "@jupyter-widgets/controls",
          "model_name": "DescriptionStyleModel",
          "model_module_version": "1.5.0",
          "state": {
            "_model_module": "@jupyter-widgets/controls",
            "_model_module_version": "1.5.0",
            "_model_name": "DescriptionStyleModel",
            "_view_count": null,
            "_view_module": "@jupyter-widgets/base",
            "_view_module_version": "1.2.0",
            "_view_name": "StyleView",
            "description_width": ""
          }
        },
        "5cd721efe8674eeeaabebacd97bb801d": {
          "model_module": "@jupyter-widgets/controls",
          "model_name": "HBoxModel",
          "model_module_version": "1.5.0",
          "state": {
            "_dom_classes": [],
            "_model_module": "@jupyter-widgets/controls",
            "_model_module_version": "1.5.0",
            "_model_name": "HBoxModel",
            "_view_count": null,
            "_view_module": "@jupyter-widgets/controls",
            "_view_module_version": "1.5.0",
            "_view_name": "HBoxView",
            "box_style": "",
            "children": [
              "IPY_MODEL_06ca49e374c749db89ad59b6e74fa3c1",
              "IPY_MODEL_696ce977fd8443849d235bf854d2ee4d",
              "IPY_MODEL_9de59dedda4646b6a5e54f2e4b148768"
            ],
            "layout": "IPY_MODEL_1ef970f80f6249ec83f34275dcb188f4"
          }
        },
        "06ca49e374c749db89ad59b6e74fa3c1": {
          "model_module": "@jupyter-widgets/controls",
          "model_name": "HTMLModel",
          "model_module_version": "1.5.0",
          "state": {
            "_dom_classes": [],
            "_model_module": "@jupyter-widgets/controls",
            "_model_module_version": "1.5.0",
            "_model_name": "HTMLModel",
            "_view_count": null,
            "_view_module": "@jupyter-widgets/controls",
            "_view_module_version": "1.5.0",
            "_view_name": "HTMLView",
            "description": "",
            "description_tooltip": null,
            "layout": "IPY_MODEL_32512c32c6c94374a37ac695f1e9d21b",
            "placeholder": "​",
            "style": "IPY_MODEL_f8f90df5f9594d89a35442ba5fa3a520",
            "value": "tokenizer.json: "
          }
        },
        "696ce977fd8443849d235bf854d2ee4d": {
          "model_module": "@jupyter-widgets/controls",
          "model_name": "FloatProgressModel",
          "model_module_version": "1.5.0",
          "state": {
            "_dom_classes": [],
            "_model_module": "@jupyter-widgets/controls",
            "_model_module_version": "1.5.0",
            "_model_name": "FloatProgressModel",
            "_view_count": null,
            "_view_module": "@jupyter-widgets/controls",
            "_view_module_version": "1.5.0",
            "_view_name": "ProgressView",
            "bar_style": "success",
            "description": "",
            "description_tooltip": null,
            "layout": "IPY_MODEL_6ff6741a68924982b9c48c3614dd9d5e",
            "max": 1,
            "min": 0,
            "orientation": "horizontal",
            "style": "IPY_MODEL_32a7214d7e004464a476b12cc7719493",
            "value": 1
          }
        },
        "9de59dedda4646b6a5e54f2e4b148768": {
          "model_module": "@jupyter-widgets/controls",
          "model_name": "HTMLModel",
          "model_module_version": "1.5.0",
          "state": {
            "_dom_classes": [],
            "_model_module": "@jupyter-widgets/controls",
            "_model_module_version": "1.5.0",
            "_model_name": "HTMLModel",
            "_view_count": null,
            "_view_module": "@jupyter-widgets/controls",
            "_view_module_version": "1.5.0",
            "_view_name": "HTMLView",
            "description": "",
            "description_tooltip": null,
            "layout": "IPY_MODEL_684004c5c15746d298a6b470da4a73ad",
            "placeholder": "​",
            "style": "IPY_MODEL_ec8fc5c21081410a90696bf71d8456e6",
            "value": " 466k/? [00:00&lt;00:00, 24.3MB/s]"
          }
        },
        "1ef970f80f6249ec83f34275dcb188f4": {
          "model_module": "@jupyter-widgets/base",
          "model_name": "LayoutModel",
          "model_module_version": "1.2.0",
          "state": {
            "_model_module": "@jupyter-widgets/base",
            "_model_module_version": "1.2.0",
            "_model_name": "LayoutModel",
            "_view_count": null,
            "_view_module": "@jupyter-widgets/base",
            "_view_module_version": "1.2.0",
            "_view_name": "LayoutView",
            "align_content": null,
            "align_items": null,
            "align_self": null,
            "border": null,
            "bottom": null,
            "display": null,
            "flex": null,
            "flex_flow": null,
            "grid_area": null,
            "grid_auto_columns": null,
            "grid_auto_flow": null,
            "grid_auto_rows": null,
            "grid_column": null,
            "grid_gap": null,
            "grid_row": null,
            "grid_template_areas": null,
            "grid_template_columns": null,
            "grid_template_rows": null,
            "height": null,
            "justify_content": null,
            "justify_items": null,
            "left": null,
            "margin": null,
            "max_height": null,
            "max_width": null,
            "min_height": null,
            "min_width": null,
            "object_fit": null,
            "object_position": null,
            "order": null,
            "overflow": null,
            "overflow_x": null,
            "overflow_y": null,
            "padding": null,
            "right": null,
            "top": null,
            "visibility": null,
            "width": null
          }
        },
        "32512c32c6c94374a37ac695f1e9d21b": {
          "model_module": "@jupyter-widgets/base",
          "model_name": "LayoutModel",
          "model_module_version": "1.2.0",
          "state": {
            "_model_module": "@jupyter-widgets/base",
            "_model_module_version": "1.2.0",
            "_model_name": "LayoutModel",
            "_view_count": null,
            "_view_module": "@jupyter-widgets/base",
            "_view_module_version": "1.2.0",
            "_view_name": "LayoutView",
            "align_content": null,
            "align_items": null,
            "align_self": null,
            "border": null,
            "bottom": null,
            "display": null,
            "flex": null,
            "flex_flow": null,
            "grid_area": null,
            "grid_auto_columns": null,
            "grid_auto_flow": null,
            "grid_auto_rows": null,
            "grid_column": null,
            "grid_gap": null,
            "grid_row": null,
            "grid_template_areas": null,
            "grid_template_columns": null,
            "grid_template_rows": null,
            "height": null,
            "justify_content": null,
            "justify_items": null,
            "left": null,
            "margin": null,
            "max_height": null,
            "max_width": null,
            "min_height": null,
            "min_width": null,
            "object_fit": null,
            "object_position": null,
            "order": null,
            "overflow": null,
            "overflow_x": null,
            "overflow_y": null,
            "padding": null,
            "right": null,
            "top": null,
            "visibility": null,
            "width": null
          }
        },
        "f8f90df5f9594d89a35442ba5fa3a520": {
          "model_module": "@jupyter-widgets/controls",
          "model_name": "DescriptionStyleModel",
          "model_module_version": "1.5.0",
          "state": {
            "_model_module": "@jupyter-widgets/controls",
            "_model_module_version": "1.5.0",
            "_model_name": "DescriptionStyleModel",
            "_view_count": null,
            "_view_module": "@jupyter-widgets/base",
            "_view_module_version": "1.2.0",
            "_view_name": "StyleView",
            "description_width": ""
          }
        },
        "6ff6741a68924982b9c48c3614dd9d5e": {
          "model_module": "@jupyter-widgets/base",
          "model_name": "LayoutModel",
          "model_module_version": "1.2.0",
          "state": {
            "_model_module": "@jupyter-widgets/base",
            "_model_module_version": "1.2.0",
            "_model_name": "LayoutModel",
            "_view_count": null,
            "_view_module": "@jupyter-widgets/base",
            "_view_module_version": "1.2.0",
            "_view_name": "LayoutView",
            "align_content": null,
            "align_items": null,
            "align_self": null,
            "border": null,
            "bottom": null,
            "display": null,
            "flex": null,
            "flex_flow": null,
            "grid_area": null,
            "grid_auto_columns": null,
            "grid_auto_flow": null,
            "grid_auto_rows": null,
            "grid_column": null,
            "grid_gap": null,
            "grid_row": null,
            "grid_template_areas": null,
            "grid_template_columns": null,
            "grid_template_rows": null,
            "height": null,
            "justify_content": null,
            "justify_items": null,
            "left": null,
            "margin": null,
            "max_height": null,
            "max_width": null,
            "min_height": null,
            "min_width": null,
            "object_fit": null,
            "object_position": null,
            "order": null,
            "overflow": null,
            "overflow_x": null,
            "overflow_y": null,
            "padding": null,
            "right": null,
            "top": null,
            "visibility": null,
            "width": "20px"
          }
        },
        "32a7214d7e004464a476b12cc7719493": {
          "model_module": "@jupyter-widgets/controls",
          "model_name": "ProgressStyleModel",
          "model_module_version": "1.5.0",
          "state": {
            "_model_module": "@jupyter-widgets/controls",
            "_model_module_version": "1.5.0",
            "_model_name": "ProgressStyleModel",
            "_view_count": null,
            "_view_module": "@jupyter-widgets/base",
            "_view_module_version": "1.2.0",
            "_view_name": "StyleView",
            "bar_color": null,
            "description_width": ""
          }
        },
        "684004c5c15746d298a6b470da4a73ad": {
          "model_module": "@jupyter-widgets/base",
          "model_name": "LayoutModel",
          "model_module_version": "1.2.0",
          "state": {
            "_model_module": "@jupyter-widgets/base",
            "_model_module_version": "1.2.0",
            "_model_name": "LayoutModel",
            "_view_count": null,
            "_view_module": "@jupyter-widgets/base",
            "_view_module_version": "1.2.0",
            "_view_name": "LayoutView",
            "align_content": null,
            "align_items": null,
            "align_self": null,
            "border": null,
            "bottom": null,
            "display": null,
            "flex": null,
            "flex_flow": null,
            "grid_area": null,
            "grid_auto_columns": null,
            "grid_auto_flow": null,
            "grid_auto_rows": null,
            "grid_column": null,
            "grid_gap": null,
            "grid_row": null,
            "grid_template_areas": null,
            "grid_template_columns": null,
            "grid_template_rows": null,
            "height": null,
            "justify_content": null,
            "justify_items": null,
            "left": null,
            "margin": null,
            "max_height": null,
            "max_width": null,
            "min_height": null,
            "min_width": null,
            "object_fit": null,
            "object_position": null,
            "order": null,
            "overflow": null,
            "overflow_x": null,
            "overflow_y": null,
            "padding": null,
            "right": null,
            "top": null,
            "visibility": null,
            "width": null
          }
        },
        "ec8fc5c21081410a90696bf71d8456e6": {
          "model_module": "@jupyter-widgets/controls",
          "model_name": "DescriptionStyleModel",
          "model_module_version": "1.5.0",
          "state": {
            "_model_module": "@jupyter-widgets/controls",
            "_model_module_version": "1.5.0",
            "_model_name": "DescriptionStyleModel",
            "_view_count": null,
            "_view_module": "@jupyter-widgets/base",
            "_view_module_version": "1.2.0",
            "_view_name": "StyleView",
            "description_width": ""
          }
        },
        "5ed0282f6ea34d7f9de044b5d19a7f52": {
          "model_module": "@jupyter-widgets/controls",
          "model_name": "HBoxModel",
          "model_module_version": "1.5.0",
          "state": {
            "_dom_classes": [],
            "_model_module": "@jupyter-widgets/controls",
            "_model_module_version": "1.5.0",
            "_model_name": "HBoxModel",
            "_view_count": null,
            "_view_module": "@jupyter-widgets/controls",
            "_view_module_version": "1.5.0",
            "_view_name": "HBoxView",
            "box_style": "",
            "children": [
              "IPY_MODEL_27c2020f89b44dc1b5f36a4529f0b041",
              "IPY_MODEL_3da06ebf6d7549728fb2bbbcad4aa0e5",
              "IPY_MODEL_26cc9039e3804c11b658068d58a27df0"
            ],
            "layout": "IPY_MODEL_f6c819177b41406faac4664219779132"
          }
        },
        "27c2020f89b44dc1b5f36a4529f0b041": {
          "model_module": "@jupyter-widgets/controls",
          "model_name": "HTMLModel",
          "model_module_version": "1.5.0",
          "state": {
            "_dom_classes": [],
            "_model_module": "@jupyter-widgets/controls",
            "_model_module_version": "1.5.0",
            "_model_name": "HTMLModel",
            "_view_count": null,
            "_view_module": "@jupyter-widgets/controls",
            "_view_module_version": "1.5.0",
            "_view_name": "HTMLView",
            "description": "",
            "description_tooltip": null,
            "layout": "IPY_MODEL_5b78806e1f8f4b5e971ea4b129dac59e",
            "placeholder": "​",
            "style": "IPY_MODEL_4a634b8245d94b25bef0b3f07640555f",
            "value": "special_tokens_map.json: 100%"
          }
        },
        "3da06ebf6d7549728fb2bbbcad4aa0e5": {
          "model_module": "@jupyter-widgets/controls",
          "model_name": "FloatProgressModel",
          "model_module_version": "1.5.0",
          "state": {
            "_dom_classes": [],
            "_model_module": "@jupyter-widgets/controls",
            "_model_module_version": "1.5.0",
            "_model_name": "FloatProgressModel",
            "_view_count": null,
            "_view_module": "@jupyter-widgets/controls",
            "_view_module_version": "1.5.0",
            "_view_name": "ProgressView",
            "bar_style": "success",
            "description": "",
            "description_tooltip": null,
            "layout": "IPY_MODEL_5ecffaa95723422c88c6101e7f78debb",
            "max": 112,
            "min": 0,
            "orientation": "horizontal",
            "style": "IPY_MODEL_1a82ef8711034a6986cbd369af4c04f7",
            "value": 112
          }
        },
        "26cc9039e3804c11b658068d58a27df0": {
          "model_module": "@jupyter-widgets/controls",
          "model_name": "HTMLModel",
          "model_module_version": "1.5.0",
          "state": {
            "_dom_classes": [],
            "_model_module": "@jupyter-widgets/controls",
            "_model_module_version": "1.5.0",
            "_model_name": "HTMLModel",
            "_view_count": null,
            "_view_module": "@jupyter-widgets/controls",
            "_view_module_version": "1.5.0",
            "_view_name": "HTMLView",
            "description": "",
            "description_tooltip": null,
            "layout": "IPY_MODEL_1ce937bcdfc04bb396307f73f0bbcb0f",
            "placeholder": "​",
            "style": "IPY_MODEL_99a362c076724dac9940f1fd3f666fba",
            "value": " 112/112 [00:00&lt;00:00, 16.4kB/s]"
          }
        },
        "f6c819177b41406faac4664219779132": {
          "model_module": "@jupyter-widgets/base",
          "model_name": "LayoutModel",
          "model_module_version": "1.2.0",
          "state": {
            "_model_module": "@jupyter-widgets/base",
            "_model_module_version": "1.2.0",
            "_model_name": "LayoutModel",
            "_view_count": null,
            "_view_module": "@jupyter-widgets/base",
            "_view_module_version": "1.2.0",
            "_view_name": "LayoutView",
            "align_content": null,
            "align_items": null,
            "align_self": null,
            "border": null,
            "bottom": null,
            "display": null,
            "flex": null,
            "flex_flow": null,
            "grid_area": null,
            "grid_auto_columns": null,
            "grid_auto_flow": null,
            "grid_auto_rows": null,
            "grid_column": null,
            "grid_gap": null,
            "grid_row": null,
            "grid_template_areas": null,
            "grid_template_columns": null,
            "grid_template_rows": null,
            "height": null,
            "justify_content": null,
            "justify_items": null,
            "left": null,
            "margin": null,
            "max_height": null,
            "max_width": null,
            "min_height": null,
            "min_width": null,
            "object_fit": null,
            "object_position": null,
            "order": null,
            "overflow": null,
            "overflow_x": null,
            "overflow_y": null,
            "padding": null,
            "right": null,
            "top": null,
            "visibility": null,
            "width": null
          }
        },
        "5b78806e1f8f4b5e971ea4b129dac59e": {
          "model_module": "@jupyter-widgets/base",
          "model_name": "LayoutModel",
          "model_module_version": "1.2.0",
          "state": {
            "_model_module": "@jupyter-widgets/base",
            "_model_module_version": "1.2.0",
            "_model_name": "LayoutModel",
            "_view_count": null,
            "_view_module": "@jupyter-widgets/base",
            "_view_module_version": "1.2.0",
            "_view_name": "LayoutView",
            "align_content": null,
            "align_items": null,
            "align_self": null,
            "border": null,
            "bottom": null,
            "display": null,
            "flex": null,
            "flex_flow": null,
            "grid_area": null,
            "grid_auto_columns": null,
            "grid_auto_flow": null,
            "grid_auto_rows": null,
            "grid_column": null,
            "grid_gap": null,
            "grid_row": null,
            "grid_template_areas": null,
            "grid_template_columns": null,
            "grid_template_rows": null,
            "height": null,
            "justify_content": null,
            "justify_items": null,
            "left": null,
            "margin": null,
            "max_height": null,
            "max_width": null,
            "min_height": null,
            "min_width": null,
            "object_fit": null,
            "object_position": null,
            "order": null,
            "overflow": null,
            "overflow_x": null,
            "overflow_y": null,
            "padding": null,
            "right": null,
            "top": null,
            "visibility": null,
            "width": null
          }
        },
        "4a634b8245d94b25bef0b3f07640555f": {
          "model_module": "@jupyter-widgets/controls",
          "model_name": "DescriptionStyleModel",
          "model_module_version": "1.5.0",
          "state": {
            "_model_module": "@jupyter-widgets/controls",
            "_model_module_version": "1.5.0",
            "_model_name": "DescriptionStyleModel",
            "_view_count": null,
            "_view_module": "@jupyter-widgets/base",
            "_view_module_version": "1.2.0",
            "_view_name": "StyleView",
            "description_width": ""
          }
        },
        "5ecffaa95723422c88c6101e7f78debb": {
          "model_module": "@jupyter-widgets/base",
          "model_name": "LayoutModel",
          "model_module_version": "1.2.0",
          "state": {
            "_model_module": "@jupyter-widgets/base",
            "_model_module_version": "1.2.0",
            "_model_name": "LayoutModel",
            "_view_count": null,
            "_view_module": "@jupyter-widgets/base",
            "_view_module_version": "1.2.0",
            "_view_name": "LayoutView",
            "align_content": null,
            "align_items": null,
            "align_self": null,
            "border": null,
            "bottom": null,
            "display": null,
            "flex": null,
            "flex_flow": null,
            "grid_area": null,
            "grid_auto_columns": null,
            "grid_auto_flow": null,
            "grid_auto_rows": null,
            "grid_column": null,
            "grid_gap": null,
            "grid_row": null,
            "grid_template_areas": null,
            "grid_template_columns": null,
            "grid_template_rows": null,
            "height": null,
            "justify_content": null,
            "justify_items": null,
            "left": null,
            "margin": null,
            "max_height": null,
            "max_width": null,
            "min_height": null,
            "min_width": null,
            "object_fit": null,
            "object_position": null,
            "order": null,
            "overflow": null,
            "overflow_x": null,
            "overflow_y": null,
            "padding": null,
            "right": null,
            "top": null,
            "visibility": null,
            "width": null
          }
        },
        "1a82ef8711034a6986cbd369af4c04f7": {
          "model_module": "@jupyter-widgets/controls",
          "model_name": "ProgressStyleModel",
          "model_module_version": "1.5.0",
          "state": {
            "_model_module": "@jupyter-widgets/controls",
            "_model_module_version": "1.5.0",
            "_model_name": "ProgressStyleModel",
            "_view_count": null,
            "_view_module": "@jupyter-widgets/base",
            "_view_module_version": "1.2.0",
            "_view_name": "StyleView",
            "bar_color": null,
            "description_width": ""
          }
        },
        "1ce937bcdfc04bb396307f73f0bbcb0f": {
          "model_module": "@jupyter-widgets/base",
          "model_name": "LayoutModel",
          "model_module_version": "1.2.0",
          "state": {
            "_model_module": "@jupyter-widgets/base",
            "_model_module_version": "1.2.0",
            "_model_name": "LayoutModel",
            "_view_count": null,
            "_view_module": "@jupyter-widgets/base",
            "_view_module_version": "1.2.0",
            "_view_name": "LayoutView",
            "align_content": null,
            "align_items": null,
            "align_self": null,
            "border": null,
            "bottom": null,
            "display": null,
            "flex": null,
            "flex_flow": null,
            "grid_area": null,
            "grid_auto_columns": null,
            "grid_auto_flow": null,
            "grid_auto_rows": null,
            "grid_column": null,
            "grid_gap": null,
            "grid_row": null,
            "grid_template_areas": null,
            "grid_template_columns": null,
            "grid_template_rows": null,
            "height": null,
            "justify_content": null,
            "justify_items": null,
            "left": null,
            "margin": null,
            "max_height": null,
            "max_width": null,
            "min_height": null,
            "min_width": null,
            "object_fit": null,
            "object_position": null,
            "order": null,
            "overflow": null,
            "overflow_x": null,
            "overflow_y": null,
            "padding": null,
            "right": null,
            "top": null,
            "visibility": null,
            "width": null
          }
        },
        "99a362c076724dac9940f1fd3f666fba": {
          "model_module": "@jupyter-widgets/controls",
          "model_name": "DescriptionStyleModel",
          "model_module_version": "1.5.0",
          "state": {
            "_model_module": "@jupyter-widgets/controls",
            "_model_module_version": "1.5.0",
            "_model_name": "DescriptionStyleModel",
            "_view_count": null,
            "_view_module": "@jupyter-widgets/base",
            "_view_module_version": "1.2.0",
            "_view_name": "StyleView",
            "description_width": ""
          }
        },
        "c020d24a1935416b8f1d228e872dd914": {
          "model_module": "@jupyter-widgets/controls",
          "model_name": "HBoxModel",
          "model_module_version": "1.5.0",
          "state": {
            "_dom_classes": [],
            "_model_module": "@jupyter-widgets/controls",
            "_model_module_version": "1.5.0",
            "_model_name": "HBoxModel",
            "_view_count": null,
            "_view_module": "@jupyter-widgets/controls",
            "_view_module_version": "1.5.0",
            "_view_name": "HBoxView",
            "box_style": "",
            "children": [
              "IPY_MODEL_a86a73fe09124b6d82b9acb50aa3f5ea",
              "IPY_MODEL_3e530f00467e49adb996b2ca892f4563",
              "IPY_MODEL_a9bb784352bf4cbf8d884a77d978191f"
            ],
            "layout": "IPY_MODEL_7882da97487c49ab9c9f56fd05edb01e"
          }
        },
        "a86a73fe09124b6d82b9acb50aa3f5ea": {
          "model_module": "@jupyter-widgets/controls",
          "model_name": "HTMLModel",
          "model_module_version": "1.5.0",
          "state": {
            "_dom_classes": [],
            "_model_module": "@jupyter-widgets/controls",
            "_model_module_version": "1.5.0",
            "_model_name": "HTMLModel",
            "_view_count": null,
            "_view_module": "@jupyter-widgets/controls",
            "_view_module_version": "1.5.0",
            "_view_name": "HTMLView",
            "description": "",
            "description_tooltip": null,
            "layout": "IPY_MODEL_aa38c74200674b5c974dc28d37362dde",
            "placeholder": "​",
            "style": "IPY_MODEL_30e9c390789c4143bb6168b9620f1571",
            "value": "config.json: 100%"
          }
        },
        "3e530f00467e49adb996b2ca892f4563": {
          "model_module": "@jupyter-widgets/controls",
          "model_name": "FloatProgressModel",
          "model_module_version": "1.5.0",
          "state": {
            "_dom_classes": [],
            "_model_module": "@jupyter-widgets/controls",
            "_model_module_version": "1.5.0",
            "_model_name": "FloatProgressModel",
            "_view_count": null,
            "_view_module": "@jupyter-widgets/controls",
            "_view_module_version": "1.5.0",
            "_view_name": "ProgressView",
            "bar_style": "success",
            "description": "",
            "description_tooltip": null,
            "layout": "IPY_MODEL_69f100cbf0114f91b6e5d9227f368781",
            "max": 190,
            "min": 0,
            "orientation": "horizontal",
            "style": "IPY_MODEL_36a3311dcaad4c8587dc0ff9e69a70e6",
            "value": 190
          }
        },
        "a9bb784352bf4cbf8d884a77d978191f": {
          "model_module": "@jupyter-widgets/controls",
          "model_name": "HTMLModel",
          "model_module_version": "1.5.0",
          "state": {
            "_dom_classes": [],
            "_model_module": "@jupyter-widgets/controls",
            "_model_module_version": "1.5.0",
            "_model_name": "HTMLModel",
            "_view_count": null,
            "_view_module": "@jupyter-widgets/controls",
            "_view_module_version": "1.5.0",
            "_view_name": "HTMLView",
            "description": "",
            "description_tooltip": null,
            "layout": "IPY_MODEL_e8a8495ef5dc4a6294bf473ef1d9b96a",
            "placeholder": "​",
            "style": "IPY_MODEL_d4b4d357b0df41f6a83b60738976aee9",
            "value": " 190/190 [00:00&lt;00:00, 27.3kB/s]"
          }
        },
        "7882da97487c49ab9c9f56fd05edb01e": {
          "model_module": "@jupyter-widgets/base",
          "model_name": "LayoutModel",
          "model_module_version": "1.2.0",
          "state": {
            "_model_module": "@jupyter-widgets/base",
            "_model_module_version": "1.2.0",
            "_model_name": "LayoutModel",
            "_view_count": null,
            "_view_module": "@jupyter-widgets/base",
            "_view_module_version": "1.2.0",
            "_view_name": "LayoutView",
            "align_content": null,
            "align_items": null,
            "align_self": null,
            "border": null,
            "bottom": null,
            "display": null,
            "flex": null,
            "flex_flow": null,
            "grid_area": null,
            "grid_auto_columns": null,
            "grid_auto_flow": null,
            "grid_auto_rows": null,
            "grid_column": null,
            "grid_gap": null,
            "grid_row": null,
            "grid_template_areas": null,
            "grid_template_columns": null,
            "grid_template_rows": null,
            "height": null,
            "justify_content": null,
            "justify_items": null,
            "left": null,
            "margin": null,
            "max_height": null,
            "max_width": null,
            "min_height": null,
            "min_width": null,
            "object_fit": null,
            "object_position": null,
            "order": null,
            "overflow": null,
            "overflow_x": null,
            "overflow_y": null,
            "padding": null,
            "right": null,
            "top": null,
            "visibility": null,
            "width": null
          }
        },
        "aa38c74200674b5c974dc28d37362dde": {
          "model_module": "@jupyter-widgets/base",
          "model_name": "LayoutModel",
          "model_module_version": "1.2.0",
          "state": {
            "_model_module": "@jupyter-widgets/base",
            "_model_module_version": "1.2.0",
            "_model_name": "LayoutModel",
            "_view_count": null,
            "_view_module": "@jupyter-widgets/base",
            "_view_module_version": "1.2.0",
            "_view_name": "LayoutView",
            "align_content": null,
            "align_items": null,
            "align_self": null,
            "border": null,
            "bottom": null,
            "display": null,
            "flex": null,
            "flex_flow": null,
            "grid_area": null,
            "grid_auto_columns": null,
            "grid_auto_flow": null,
            "grid_auto_rows": null,
            "grid_column": null,
            "grid_gap": null,
            "grid_row": null,
            "grid_template_areas": null,
            "grid_template_columns": null,
            "grid_template_rows": null,
            "height": null,
            "justify_content": null,
            "justify_items": null,
            "left": null,
            "margin": null,
            "max_height": null,
            "max_width": null,
            "min_height": null,
            "min_width": null,
            "object_fit": null,
            "object_position": null,
            "order": null,
            "overflow": null,
            "overflow_x": null,
            "overflow_y": null,
            "padding": null,
            "right": null,
            "top": null,
            "visibility": null,
            "width": null
          }
        },
        "30e9c390789c4143bb6168b9620f1571": {
          "model_module": "@jupyter-widgets/controls",
          "model_name": "DescriptionStyleModel",
          "model_module_version": "1.5.0",
          "state": {
            "_model_module": "@jupyter-widgets/controls",
            "_model_module_version": "1.5.0",
            "_model_name": "DescriptionStyleModel",
            "_view_count": null,
            "_view_module": "@jupyter-widgets/base",
            "_view_module_version": "1.2.0",
            "_view_name": "StyleView",
            "description_width": ""
          }
        },
        "69f100cbf0114f91b6e5d9227f368781": {
          "model_module": "@jupyter-widgets/base",
          "model_name": "LayoutModel",
          "model_module_version": "1.2.0",
          "state": {
            "_model_module": "@jupyter-widgets/base",
            "_model_module_version": "1.2.0",
            "_model_name": "LayoutModel",
            "_view_count": null,
            "_view_module": "@jupyter-widgets/base",
            "_view_module_version": "1.2.0",
            "_view_name": "LayoutView",
            "align_content": null,
            "align_items": null,
            "align_self": null,
            "border": null,
            "bottom": null,
            "display": null,
            "flex": null,
            "flex_flow": null,
            "grid_area": null,
            "grid_auto_columns": null,
            "grid_auto_flow": null,
            "grid_auto_rows": null,
            "grid_column": null,
            "grid_gap": null,
            "grid_row": null,
            "grid_template_areas": null,
            "grid_template_columns": null,
            "grid_template_rows": null,
            "height": null,
            "justify_content": null,
            "justify_items": null,
            "left": null,
            "margin": null,
            "max_height": null,
            "max_width": null,
            "min_height": null,
            "min_width": null,
            "object_fit": null,
            "object_position": null,
            "order": null,
            "overflow": null,
            "overflow_x": null,
            "overflow_y": null,
            "padding": null,
            "right": null,
            "top": null,
            "visibility": null,
            "width": null
          }
        },
        "36a3311dcaad4c8587dc0ff9e69a70e6": {
          "model_module": "@jupyter-widgets/controls",
          "model_name": "ProgressStyleModel",
          "model_module_version": "1.5.0",
          "state": {
            "_model_module": "@jupyter-widgets/controls",
            "_model_module_version": "1.5.0",
            "_model_name": "ProgressStyleModel",
            "_view_count": null,
            "_view_module": "@jupyter-widgets/base",
            "_view_module_version": "1.2.0",
            "_view_name": "StyleView",
            "bar_color": null,
            "description_width": ""
          }
        },
        "e8a8495ef5dc4a6294bf473ef1d9b96a": {
          "model_module": "@jupyter-widgets/base",
          "model_name": "LayoutModel",
          "model_module_version": "1.2.0",
          "state": {
            "_model_module": "@jupyter-widgets/base",
            "_model_module_version": "1.2.0",
            "_model_name": "LayoutModel",
            "_view_count": null,
            "_view_module": "@jupyter-widgets/base",
            "_view_module_version": "1.2.0",
            "_view_name": "LayoutView",
            "align_content": null,
            "align_items": null,
            "align_self": null,
            "border": null,
            "bottom": null,
            "display": null,
            "flex": null,
            "flex_flow": null,
            "grid_area": null,
            "grid_auto_columns": null,
            "grid_auto_flow": null,
            "grid_auto_rows": null,
            "grid_column": null,
            "grid_gap": null,
            "grid_row": null,
            "grid_template_areas": null,
            "grid_template_columns": null,
            "grid_template_rows": null,
            "height": null,
            "justify_content": null,
            "justify_items": null,
            "left": null,
            "margin": null,
            "max_height": null,
            "max_width": null,
            "min_height": null,
            "min_width": null,
            "object_fit": null,
            "object_position": null,
            "order": null,
            "overflow": null,
            "overflow_x": null,
            "overflow_y": null,
            "padding": null,
            "right": null,
            "top": null,
            "visibility": null,
            "width": null
          }
        },
        "d4b4d357b0df41f6a83b60738976aee9": {
          "model_module": "@jupyter-widgets/controls",
          "model_name": "DescriptionStyleModel",
          "model_module_version": "1.5.0",
          "state": {
            "_model_module": "@jupyter-widgets/controls",
            "_model_module_version": "1.5.0",
            "_model_name": "DescriptionStyleModel",
            "_view_count": null,
            "_view_module": "@jupyter-widgets/base",
            "_view_module_version": "1.2.0",
            "_view_name": "StyleView",
            "description_width": ""
          }
        },
        "f6204069144241ac9479e9f317ee3043": {
          "model_module": "@jupyter-widgets/controls",
          "model_name": "HBoxModel",
          "model_module_version": "1.5.0",
          "state": {
            "_dom_classes": [],
            "_model_module": "@jupyter-widgets/controls",
            "_model_module_version": "1.5.0",
            "_model_name": "HBoxModel",
            "_view_count": null,
            "_view_module": "@jupyter-widgets/controls",
            "_view_module_version": "1.5.0",
            "_view_name": "HBoxView",
            "box_style": "",
            "children": [
              "IPY_MODEL_2fb441c490ce46488d31782d87f61aa8",
              "IPY_MODEL_4fbf6c109ca34ec8a4149e4774cdb118",
              "IPY_MODEL_1fd2a23bc27b4385bf23f1e520ea3685"
            ],
            "layout": "IPY_MODEL_9dff71cdec5e462a80010a19e58147aa"
          }
        },
        "2fb441c490ce46488d31782d87f61aa8": {
          "model_module": "@jupyter-widgets/controls",
          "model_name": "HTMLModel",
          "model_module_version": "1.5.0",
          "state": {
            "_dom_classes": [],
            "_model_module": "@jupyter-widgets/controls",
            "_model_module_version": "1.5.0",
            "_model_name": "HTMLModel",
            "_view_count": null,
            "_view_module": "@jupyter-widgets/controls",
            "_view_module_version": "1.5.0",
            "_view_name": "HTMLView",
            "description": "",
            "description_tooltip": null,
            "layout": "IPY_MODEL_4060d4ef28bb45b2bb60405bc69bf64a",
            "placeholder": "​",
            "style": "IPY_MODEL_9351298d3db64a3b9c7914d9b8cdbba0",
            "value": "config.json: "
          }
        },
        "4fbf6c109ca34ec8a4149e4774cdb118": {
          "model_module": "@jupyter-widgets/controls",
          "model_name": "FloatProgressModel",
          "model_module_version": "1.5.0",
          "state": {
            "_dom_classes": [],
            "_model_module": "@jupyter-widgets/controls",
            "_model_module_version": "1.5.0",
            "_model_name": "FloatProgressModel",
            "_view_count": null,
            "_view_module": "@jupyter-widgets/controls",
            "_view_module_version": "1.5.0",
            "_view_name": "ProgressView",
            "bar_style": "success",
            "description": "",
            "description_tooltip": null,
            "layout": "IPY_MODEL_cbd8304d93df4e96bcb8c7de0655cce4",
            "max": 1,
            "min": 0,
            "orientation": "horizontal",
            "style": "IPY_MODEL_9f0e1c1e0cd648b58f00dc5015a97869",
            "value": 1
          }
        },
        "1fd2a23bc27b4385bf23f1e520ea3685": {
          "model_module": "@jupyter-widgets/controls",
          "model_name": "HTMLModel",
          "model_module_version": "1.5.0",
          "state": {
            "_dom_classes": [],
            "_model_module": "@jupyter-widgets/controls",
            "_model_module_version": "1.5.0",
            "_model_name": "HTMLModel",
            "_view_count": null,
            "_view_module": "@jupyter-widgets/controls",
            "_view_module_version": "1.5.0",
            "_view_name": "HTMLView",
            "description": "",
            "description_tooltip": null,
            "layout": "IPY_MODEL_9a1ed24c5d6945df965e90a9d7b2e6c8",
            "placeholder": "​",
            "style": "IPY_MODEL_5fd851f3ae7e4aa5b6ffa4593b5ca438",
            "value": " 1.40k/? [00:00&lt;00:00, 196kB/s]"
          }
        },
        "9dff71cdec5e462a80010a19e58147aa": {
          "model_module": "@jupyter-widgets/base",
          "model_name": "LayoutModel",
          "model_module_version": "1.2.0",
          "state": {
            "_model_module": "@jupyter-widgets/base",
            "_model_module_version": "1.2.0",
            "_model_name": "LayoutModel",
            "_view_count": null,
            "_view_module": "@jupyter-widgets/base",
            "_view_module_version": "1.2.0",
            "_view_name": "LayoutView",
            "align_content": null,
            "align_items": null,
            "align_self": null,
            "border": null,
            "bottom": null,
            "display": null,
            "flex": null,
            "flex_flow": null,
            "grid_area": null,
            "grid_auto_columns": null,
            "grid_auto_flow": null,
            "grid_auto_rows": null,
            "grid_column": null,
            "grid_gap": null,
            "grid_row": null,
            "grid_template_areas": null,
            "grid_template_columns": null,
            "grid_template_rows": null,
            "height": null,
            "justify_content": null,
            "justify_items": null,
            "left": null,
            "margin": null,
            "max_height": null,
            "max_width": null,
            "min_height": null,
            "min_width": null,
            "object_fit": null,
            "object_position": null,
            "order": null,
            "overflow": null,
            "overflow_x": null,
            "overflow_y": null,
            "padding": null,
            "right": null,
            "top": null,
            "visibility": null,
            "width": null
          }
        },
        "4060d4ef28bb45b2bb60405bc69bf64a": {
          "model_module": "@jupyter-widgets/base",
          "model_name": "LayoutModel",
          "model_module_version": "1.2.0",
          "state": {
            "_model_module": "@jupyter-widgets/base",
            "_model_module_version": "1.2.0",
            "_model_name": "LayoutModel",
            "_view_count": null,
            "_view_module": "@jupyter-widgets/base",
            "_view_module_version": "1.2.0",
            "_view_name": "LayoutView",
            "align_content": null,
            "align_items": null,
            "align_self": null,
            "border": null,
            "bottom": null,
            "display": null,
            "flex": null,
            "flex_flow": null,
            "grid_area": null,
            "grid_auto_columns": null,
            "grid_auto_flow": null,
            "grid_auto_rows": null,
            "grid_column": null,
            "grid_gap": null,
            "grid_row": null,
            "grid_template_areas": null,
            "grid_template_columns": null,
            "grid_template_rows": null,
            "height": null,
            "justify_content": null,
            "justify_items": null,
            "left": null,
            "margin": null,
            "max_height": null,
            "max_width": null,
            "min_height": null,
            "min_width": null,
            "object_fit": null,
            "object_position": null,
            "order": null,
            "overflow": null,
            "overflow_x": null,
            "overflow_y": null,
            "padding": null,
            "right": null,
            "top": null,
            "visibility": null,
            "width": null
          }
        },
        "9351298d3db64a3b9c7914d9b8cdbba0": {
          "model_module": "@jupyter-widgets/controls",
          "model_name": "DescriptionStyleModel",
          "model_module_version": "1.5.0",
          "state": {
            "_model_module": "@jupyter-widgets/controls",
            "_model_module_version": "1.5.0",
            "_model_name": "DescriptionStyleModel",
            "_view_count": null,
            "_view_module": "@jupyter-widgets/base",
            "_view_module_version": "1.2.0",
            "_view_name": "StyleView",
            "description_width": ""
          }
        },
        "cbd8304d93df4e96bcb8c7de0655cce4": {
          "model_module": "@jupyter-widgets/base",
          "model_name": "LayoutModel",
          "model_module_version": "1.2.0",
          "state": {
            "_model_module": "@jupyter-widgets/base",
            "_model_module_version": "1.2.0",
            "_model_name": "LayoutModel",
            "_view_count": null,
            "_view_module": "@jupyter-widgets/base",
            "_view_module_version": "1.2.0",
            "_view_name": "LayoutView",
            "align_content": null,
            "align_items": null,
            "align_self": null,
            "border": null,
            "bottom": null,
            "display": null,
            "flex": null,
            "flex_flow": null,
            "grid_area": null,
            "grid_auto_columns": null,
            "grid_auto_flow": null,
            "grid_auto_rows": null,
            "grid_column": null,
            "grid_gap": null,
            "grid_row": null,
            "grid_template_areas": null,
            "grid_template_columns": null,
            "grid_template_rows": null,
            "height": null,
            "justify_content": null,
            "justify_items": null,
            "left": null,
            "margin": null,
            "max_height": null,
            "max_width": null,
            "min_height": null,
            "min_width": null,
            "object_fit": null,
            "object_position": null,
            "order": null,
            "overflow": null,
            "overflow_x": null,
            "overflow_y": null,
            "padding": null,
            "right": null,
            "top": null,
            "visibility": null,
            "width": "20px"
          }
        },
        "9f0e1c1e0cd648b58f00dc5015a97869": {
          "model_module": "@jupyter-widgets/controls",
          "model_name": "ProgressStyleModel",
          "model_module_version": "1.5.0",
          "state": {
            "_model_module": "@jupyter-widgets/controls",
            "_model_module_version": "1.5.0",
            "_model_name": "ProgressStyleModel",
            "_view_count": null,
            "_view_module": "@jupyter-widgets/base",
            "_view_module_version": "1.2.0",
            "_view_name": "StyleView",
            "bar_color": null,
            "description_width": ""
          }
        },
        "9a1ed24c5d6945df965e90a9d7b2e6c8": {
          "model_module": "@jupyter-widgets/base",
          "model_name": "LayoutModel",
          "model_module_version": "1.2.0",
          "state": {
            "_model_module": "@jupyter-widgets/base",
            "_model_module_version": "1.2.0",
            "_model_name": "LayoutModel",
            "_view_count": null,
            "_view_module": "@jupyter-widgets/base",
            "_view_module_version": "1.2.0",
            "_view_name": "LayoutView",
            "align_content": null,
            "align_items": null,
            "align_self": null,
            "border": null,
            "bottom": null,
            "display": null,
            "flex": null,
            "flex_flow": null,
            "grid_area": null,
            "grid_auto_columns": null,
            "grid_auto_flow": null,
            "grid_auto_rows": null,
            "grid_column": null,
            "grid_gap": null,
            "grid_row": null,
            "grid_template_areas": null,
            "grid_template_columns": null,
            "grid_template_rows": null,
            "height": null,
            "justify_content": null,
            "justify_items": null,
            "left": null,
            "margin": null,
            "max_height": null,
            "max_width": null,
            "min_height": null,
            "min_width": null,
            "object_fit": null,
            "object_position": null,
            "order": null,
            "overflow": null,
            "overflow_x": null,
            "overflow_y": null,
            "padding": null,
            "right": null,
            "top": null,
            "visibility": null,
            "width": null
          }
        },
        "5fd851f3ae7e4aa5b6ffa4593b5ca438": {
          "model_module": "@jupyter-widgets/controls",
          "model_name": "DescriptionStyleModel",
          "model_module_version": "1.5.0",
          "state": {
            "_model_module": "@jupyter-widgets/controls",
            "_model_module_version": "1.5.0",
            "_model_name": "DescriptionStyleModel",
            "_view_count": null,
            "_view_module": "@jupyter-widgets/base",
            "_view_module_version": "1.2.0",
            "_view_name": "StyleView",
            "description_width": ""
          }
        },
        "1dcfb207b4c54216ac018b14146c77c8": {
          "model_module": "@jupyter-widgets/controls",
          "model_name": "HBoxModel",
          "model_module_version": "1.5.0",
          "state": {
            "_dom_classes": [],
            "_model_module": "@jupyter-widgets/controls",
            "_model_module_version": "1.5.0",
            "_model_name": "HBoxModel",
            "_view_count": null,
            "_view_module": "@jupyter-widgets/controls",
            "_view_module_version": "1.5.0",
            "_view_name": "HBoxView",
            "box_style": "",
            "children": [
              "IPY_MODEL_7f8b9841d3ac47ed92b80f8f8ae4596a",
              "IPY_MODEL_ece84df0f6b7400cb401a4c80ebfc112",
              "IPY_MODEL_badb7b3adda64fa9a6a3cecb94beec2e"
            ],
            "layout": "IPY_MODEL_d79372aea76340649585225929154250"
          }
        },
        "7f8b9841d3ac47ed92b80f8f8ae4596a": {
          "model_module": "@jupyter-widgets/controls",
          "model_name": "HTMLModel",
          "model_module_version": "1.5.0",
          "state": {
            "_dom_classes": [],
            "_model_module": "@jupyter-widgets/controls",
            "_model_module_version": "1.5.0",
            "_model_name": "HTMLModel",
            "_view_count": null,
            "_view_module": "@jupyter-widgets/controls",
            "_view_module_version": "1.5.0",
            "_view_name": "HTMLView",
            "description": "",
            "description_tooltip": null,
            "layout": "IPY_MODEL_4dddbfb2f1ee410d80a2b11c0826a1af",
            "placeholder": "​",
            "style": "IPY_MODEL_54fb7153d71345f6bd343c85b0cfd287",
            "value": "model.safetensors: 100%"
          }
        },
        "ece84df0f6b7400cb401a4c80ebfc112": {
          "model_module": "@jupyter-widgets/controls",
          "model_name": "FloatProgressModel",
          "model_module_version": "1.5.0",
          "state": {
            "_dom_classes": [],
            "_model_module": "@jupyter-widgets/controls",
            "_model_module_version": "1.5.0",
            "_model_name": "FloatProgressModel",
            "_view_count": null,
            "_view_module": "@jupyter-widgets/controls",
            "_view_module_version": "1.5.0",
            "_view_name": "ProgressView",
            "bar_style": "success",
            "description": "",
            "description_tooltip": null,
            "layout": "IPY_MODEL_28cb9bab03d44918bc8f5516cac0e86b",
            "max": 990345061,
            "min": 0,
            "orientation": "horizontal",
            "style": "IPY_MODEL_554ad76d54484caca1fb26d42e9a40c7",
            "value": 990345061
          }
        },
        "badb7b3adda64fa9a6a3cecb94beec2e": {
          "model_module": "@jupyter-widgets/controls",
          "model_name": "HTMLModel",
          "model_module_version": "1.5.0",
          "state": {
            "_dom_classes": [],
            "_model_module": "@jupyter-widgets/controls",
            "_model_module_version": "1.5.0",
            "_model_name": "HTMLModel",
            "_view_count": null,
            "_view_module": "@jupyter-widgets/controls",
            "_view_module_version": "1.5.0",
            "_view_name": "HTMLView",
            "description": "",
            "description_tooltip": null,
            "layout": "IPY_MODEL_3c027c68ae2c4e398f46cb29a4f0c074",
            "placeholder": "​",
            "style": "IPY_MODEL_cf76b25725d54926bfe3dd354b47a823",
            "value": " 990M/990M [00:02&lt;00:00, 1.07GB/s]"
          }
        },
        "d79372aea76340649585225929154250": {
          "model_module": "@jupyter-widgets/base",
          "model_name": "LayoutModel",
          "model_module_version": "1.2.0",
          "state": {
            "_model_module": "@jupyter-widgets/base",
            "_model_module_version": "1.2.0",
            "_model_name": "LayoutModel",
            "_view_count": null,
            "_view_module": "@jupyter-widgets/base",
            "_view_module_version": "1.2.0",
            "_view_name": "LayoutView",
            "align_content": null,
            "align_items": null,
            "align_self": null,
            "border": null,
            "bottom": null,
            "display": null,
            "flex": null,
            "flex_flow": null,
            "grid_area": null,
            "grid_auto_columns": null,
            "grid_auto_flow": null,
            "grid_auto_rows": null,
            "grid_column": null,
            "grid_gap": null,
            "grid_row": null,
            "grid_template_areas": null,
            "grid_template_columns": null,
            "grid_template_rows": null,
            "height": null,
            "justify_content": null,
            "justify_items": null,
            "left": null,
            "margin": null,
            "max_height": null,
            "max_width": null,
            "min_height": null,
            "min_width": null,
            "object_fit": null,
            "object_position": null,
            "order": null,
            "overflow": null,
            "overflow_x": null,
            "overflow_y": null,
            "padding": null,
            "right": null,
            "top": null,
            "visibility": null,
            "width": null
          }
        },
        "4dddbfb2f1ee410d80a2b11c0826a1af": {
          "model_module": "@jupyter-widgets/base",
          "model_name": "LayoutModel",
          "model_module_version": "1.2.0",
          "state": {
            "_model_module": "@jupyter-widgets/base",
            "_model_module_version": "1.2.0",
            "_model_name": "LayoutModel",
            "_view_count": null,
            "_view_module": "@jupyter-widgets/base",
            "_view_module_version": "1.2.0",
            "_view_name": "LayoutView",
            "align_content": null,
            "align_items": null,
            "align_self": null,
            "border": null,
            "bottom": null,
            "display": null,
            "flex": null,
            "flex_flow": null,
            "grid_area": null,
            "grid_auto_columns": null,
            "grid_auto_flow": null,
            "grid_auto_rows": null,
            "grid_column": null,
            "grid_gap": null,
            "grid_row": null,
            "grid_template_areas": null,
            "grid_template_columns": null,
            "grid_template_rows": null,
            "height": null,
            "justify_content": null,
            "justify_items": null,
            "left": null,
            "margin": null,
            "max_height": null,
            "max_width": null,
            "min_height": null,
            "min_width": null,
            "object_fit": null,
            "object_position": null,
            "order": null,
            "overflow": null,
            "overflow_x": null,
            "overflow_y": null,
            "padding": null,
            "right": null,
            "top": null,
            "visibility": null,
            "width": null
          }
        },
        "54fb7153d71345f6bd343c85b0cfd287": {
          "model_module": "@jupyter-widgets/controls",
          "model_name": "DescriptionStyleModel",
          "model_module_version": "1.5.0",
          "state": {
            "_model_module": "@jupyter-widgets/controls",
            "_model_module_version": "1.5.0",
            "_model_name": "DescriptionStyleModel",
            "_view_count": null,
            "_view_module": "@jupyter-widgets/base",
            "_view_module_version": "1.2.0",
            "_view_name": "StyleView",
            "description_width": ""
          }
        },
        "28cb9bab03d44918bc8f5516cac0e86b": {
          "model_module": "@jupyter-widgets/base",
          "model_name": "LayoutModel",
          "model_module_version": "1.2.0",
          "state": {
            "_model_module": "@jupyter-widgets/base",
            "_model_module_version": "1.2.0",
            "_model_name": "LayoutModel",
            "_view_count": null,
            "_view_module": "@jupyter-widgets/base",
            "_view_module_version": "1.2.0",
            "_view_name": "LayoutView",
            "align_content": null,
            "align_items": null,
            "align_self": null,
            "border": null,
            "bottom": null,
            "display": null,
            "flex": null,
            "flex_flow": null,
            "grid_area": null,
            "grid_auto_columns": null,
            "grid_auto_flow": null,
            "grid_auto_rows": null,
            "grid_column": null,
            "grid_gap": null,
            "grid_row": null,
            "grid_template_areas": null,
            "grid_template_columns": null,
            "grid_template_rows": null,
            "height": null,
            "justify_content": null,
            "justify_items": null,
            "left": null,
            "margin": null,
            "max_height": null,
            "max_width": null,
            "min_height": null,
            "min_width": null,
            "object_fit": null,
            "object_position": null,
            "order": null,
            "overflow": null,
            "overflow_x": null,
            "overflow_y": null,
            "padding": null,
            "right": null,
            "top": null,
            "visibility": null,
            "width": null
          }
        },
        "554ad76d54484caca1fb26d42e9a40c7": {
          "model_module": "@jupyter-widgets/controls",
          "model_name": "ProgressStyleModel",
          "model_module_version": "1.5.0",
          "state": {
            "_model_module": "@jupyter-widgets/controls",
            "_model_module_version": "1.5.0",
            "_model_name": "ProgressStyleModel",
            "_view_count": null,
            "_view_module": "@jupyter-widgets/base",
            "_view_module_version": "1.2.0",
            "_view_name": "StyleView",
            "bar_color": null,
            "description_width": ""
          }
        },
        "3c027c68ae2c4e398f46cb29a4f0c074": {
          "model_module": "@jupyter-widgets/base",
          "model_name": "LayoutModel",
          "model_module_version": "1.2.0",
          "state": {
            "_model_module": "@jupyter-widgets/base",
            "_model_module_version": "1.2.0",
            "_model_name": "LayoutModel",
            "_view_count": null,
            "_view_module": "@jupyter-widgets/base",
            "_view_module_version": "1.2.0",
            "_view_name": "LayoutView",
            "align_content": null,
            "align_items": null,
            "align_self": null,
            "border": null,
            "bottom": null,
            "display": null,
            "flex": null,
            "flex_flow": null,
            "grid_area": null,
            "grid_auto_columns": null,
            "grid_auto_flow": null,
            "grid_auto_rows": null,
            "grid_column": null,
            "grid_gap": null,
            "grid_row": null,
            "grid_template_areas": null,
            "grid_template_columns": null,
            "grid_template_rows": null,
            "height": null,
            "justify_content": null,
            "justify_items": null,
            "left": null,
            "margin": null,
            "max_height": null,
            "max_width": null,
            "min_height": null,
            "min_width": null,
            "object_fit": null,
            "object_position": null,
            "order": null,
            "overflow": null,
            "overflow_x": null,
            "overflow_y": null,
            "padding": null,
            "right": null,
            "top": null,
            "visibility": null,
            "width": null
          }
        },
        "cf76b25725d54926bfe3dd354b47a823": {
          "model_module": "@jupyter-widgets/controls",
          "model_name": "DescriptionStyleModel",
          "model_module_version": "1.5.0",
          "state": {
            "_model_module": "@jupyter-widgets/controls",
            "_model_module_version": "1.5.0",
            "_model_name": "DescriptionStyleModel",
            "_view_count": null,
            "_view_module": "@jupyter-widgets/base",
            "_view_module_version": "1.2.0",
            "_view_name": "StyleView",
            "description_width": ""
          }
        },
        "718b0df342574f7d96cc8f7b3307a02f": {
          "model_module": "@jupyter-widgets/controls",
          "model_name": "HBoxModel",
          "model_module_version": "1.5.0",
          "state": {
            "_dom_classes": [],
            "_model_module": "@jupyter-widgets/controls",
            "_model_module_version": "1.5.0",
            "_model_name": "HBoxModel",
            "_view_count": null,
            "_view_module": "@jupyter-widgets/controls",
            "_view_module_version": "1.5.0",
            "_view_name": "HBoxView",
            "box_style": "",
            "children": [
              "IPY_MODEL_8d22b5c6048c4504adca5c01b7376c46",
              "IPY_MODEL_c74d9c16ab38459e947ce4137c104a9c",
              "IPY_MODEL_4371a47fecb14906b5d1c271c16ecbac"
            ],
            "layout": "IPY_MODEL_04b29b086f9b4bb3909af67efe87561a"
          }
        },
        "8d22b5c6048c4504adca5c01b7376c46": {
          "model_module": "@jupyter-widgets/controls",
          "model_name": "HTMLModel",
          "model_module_version": "1.5.0",
          "state": {
            "_dom_classes": [],
            "_model_module": "@jupyter-widgets/controls",
            "_model_module_version": "1.5.0",
            "_model_name": "HTMLModel",
            "_view_count": null,
            "_view_module": "@jupyter-widgets/controls",
            "_view_module_version": "1.5.0",
            "_view_name": "HTMLView",
            "description": "",
            "description_tooltip": null,
            "layout": "IPY_MODEL_cc0e44db2189400e965352b9e884a68a",
            "placeholder": "​",
            "style": "IPY_MODEL_4572076ca21f4ce29ee1ff0d39f0e9b2",
            "value": "generation_config.json: 100%"
          }
        },
        "c74d9c16ab38459e947ce4137c104a9c": {
          "model_module": "@jupyter-widgets/controls",
          "model_name": "FloatProgressModel",
          "model_module_version": "1.5.0",
          "state": {
            "_dom_classes": [],
            "_model_module": "@jupyter-widgets/controls",
            "_model_module_version": "1.5.0",
            "_model_name": "FloatProgressModel",
            "_view_count": null,
            "_view_module": "@jupyter-widgets/controls",
            "_view_module_version": "1.5.0",
            "_view_name": "ProgressView",
            "bar_style": "success",
            "description": "",
            "description_tooltip": null,
            "layout": "IPY_MODEL_a1d47bc28f8542e4bdf7b776d02434c5",
            "max": 147,
            "min": 0,
            "orientation": "horizontal",
            "style": "IPY_MODEL_f1e34dab3bf749ea88169586ba186688",
            "value": 147
          }
        },
        "4371a47fecb14906b5d1c271c16ecbac": {
          "model_module": "@jupyter-widgets/controls",
          "model_name": "HTMLModel",
          "model_module_version": "1.5.0",
          "state": {
            "_dom_classes": [],
            "_model_module": "@jupyter-widgets/controls",
            "_model_module_version": "1.5.0",
            "_model_name": "HTMLModel",
            "_view_count": null,
            "_view_module": "@jupyter-widgets/controls",
            "_view_module_version": "1.5.0",
            "_view_name": "HTMLView",
            "description": "",
            "description_tooltip": null,
            "layout": "IPY_MODEL_5f28a014d5bf41cd9d6db1d756439e53",
            "placeholder": "​",
            "style": "IPY_MODEL_33118cba54384c5185c90f570eb5abfa",
            "value": " 147/147 [00:00&lt;00:00, 20.3kB/s]"
          }
        },
        "04b29b086f9b4bb3909af67efe87561a": {
          "model_module": "@jupyter-widgets/base",
          "model_name": "LayoutModel",
          "model_module_version": "1.2.0",
          "state": {
            "_model_module": "@jupyter-widgets/base",
            "_model_module_version": "1.2.0",
            "_model_name": "LayoutModel",
            "_view_count": null,
            "_view_module": "@jupyter-widgets/base",
            "_view_module_version": "1.2.0",
            "_view_name": "LayoutView",
            "align_content": null,
            "align_items": null,
            "align_self": null,
            "border": null,
            "bottom": null,
            "display": null,
            "flex": null,
            "flex_flow": null,
            "grid_area": null,
            "grid_auto_columns": null,
            "grid_auto_flow": null,
            "grid_auto_rows": null,
            "grid_column": null,
            "grid_gap": null,
            "grid_row": null,
            "grid_template_areas": null,
            "grid_template_columns": null,
            "grid_template_rows": null,
            "height": null,
            "justify_content": null,
            "justify_items": null,
            "left": null,
            "margin": null,
            "max_height": null,
            "max_width": null,
            "min_height": null,
            "min_width": null,
            "object_fit": null,
            "object_position": null,
            "order": null,
            "overflow": null,
            "overflow_x": null,
            "overflow_y": null,
            "padding": null,
            "right": null,
            "top": null,
            "visibility": null,
            "width": null
          }
        },
        "cc0e44db2189400e965352b9e884a68a": {
          "model_module": "@jupyter-widgets/base",
          "model_name": "LayoutModel",
          "model_module_version": "1.2.0",
          "state": {
            "_model_module": "@jupyter-widgets/base",
            "_model_module_version": "1.2.0",
            "_model_name": "LayoutModel",
            "_view_count": null,
            "_view_module": "@jupyter-widgets/base",
            "_view_module_version": "1.2.0",
            "_view_name": "LayoutView",
            "align_content": null,
            "align_items": null,
            "align_self": null,
            "border": null,
            "bottom": null,
            "display": null,
            "flex": null,
            "flex_flow": null,
            "grid_area": null,
            "grid_auto_columns": null,
            "grid_auto_flow": null,
            "grid_auto_rows": null,
            "grid_column": null,
            "grid_gap": null,
            "grid_row": null,
            "grid_template_areas": null,
            "grid_template_columns": null,
            "grid_template_rows": null,
            "height": null,
            "justify_content": null,
            "justify_items": null,
            "left": null,
            "margin": null,
            "max_height": null,
            "max_width": null,
            "min_height": null,
            "min_width": null,
            "object_fit": null,
            "object_position": null,
            "order": null,
            "overflow": null,
            "overflow_x": null,
            "overflow_y": null,
            "padding": null,
            "right": null,
            "top": null,
            "visibility": null,
            "width": null
          }
        },
        "4572076ca21f4ce29ee1ff0d39f0e9b2": {
          "model_module": "@jupyter-widgets/controls",
          "model_name": "DescriptionStyleModel",
          "model_module_version": "1.5.0",
          "state": {
            "_model_module": "@jupyter-widgets/controls",
            "_model_module_version": "1.5.0",
            "_model_name": "DescriptionStyleModel",
            "_view_count": null,
            "_view_module": "@jupyter-widgets/base",
            "_view_module_version": "1.2.0",
            "_view_name": "StyleView",
            "description_width": ""
          }
        },
        "a1d47bc28f8542e4bdf7b776d02434c5": {
          "model_module": "@jupyter-widgets/base",
          "model_name": "LayoutModel",
          "model_module_version": "1.2.0",
          "state": {
            "_model_module": "@jupyter-widgets/base",
            "_model_module_version": "1.2.0",
            "_model_name": "LayoutModel",
            "_view_count": null,
            "_view_module": "@jupyter-widgets/base",
            "_view_module_version": "1.2.0",
            "_view_name": "LayoutView",
            "align_content": null,
            "align_items": null,
            "align_self": null,
            "border": null,
            "bottom": null,
            "display": null,
            "flex": null,
            "flex_flow": null,
            "grid_area": null,
            "grid_auto_columns": null,
            "grid_auto_flow": null,
            "grid_auto_rows": null,
            "grid_column": null,
            "grid_gap": null,
            "grid_row": null,
            "grid_template_areas": null,
            "grid_template_columns": null,
            "grid_template_rows": null,
            "height": null,
            "justify_content": null,
            "justify_items": null,
            "left": null,
            "margin": null,
            "max_height": null,
            "max_width": null,
            "min_height": null,
            "min_width": null,
            "object_fit": null,
            "object_position": null,
            "order": null,
            "overflow": null,
            "overflow_x": null,
            "overflow_y": null,
            "padding": null,
            "right": null,
            "top": null,
            "visibility": null,
            "width": null
          }
        },
        "f1e34dab3bf749ea88169586ba186688": {
          "model_module": "@jupyter-widgets/controls",
          "model_name": "ProgressStyleModel",
          "model_module_version": "1.5.0",
          "state": {
            "_model_module": "@jupyter-widgets/controls",
            "_model_module_version": "1.5.0",
            "_model_name": "ProgressStyleModel",
            "_view_count": null,
            "_view_module": "@jupyter-widgets/base",
            "_view_module_version": "1.2.0",
            "_view_name": "StyleView",
            "bar_color": null,
            "description_width": ""
          }
        },
        "5f28a014d5bf41cd9d6db1d756439e53": {
          "model_module": "@jupyter-widgets/base",
          "model_name": "LayoutModel",
          "model_module_version": "1.2.0",
          "state": {
            "_model_module": "@jupyter-widgets/base",
            "_model_module_version": "1.2.0",
            "_model_name": "LayoutModel",
            "_view_count": null,
            "_view_module": "@jupyter-widgets/base",
            "_view_module_version": "1.2.0",
            "_view_name": "LayoutView",
            "align_content": null,
            "align_items": null,
            "align_self": null,
            "border": null,
            "bottom": null,
            "display": null,
            "flex": null,
            "flex_flow": null,
            "grid_area": null,
            "grid_auto_columns": null,
            "grid_auto_flow": null,
            "grid_auto_rows": null,
            "grid_column": null,
            "grid_gap": null,
            "grid_row": null,
            "grid_template_areas": null,
            "grid_template_columns": null,
            "grid_template_rows": null,
            "height": null,
            "justify_content": null,
            "justify_items": null,
            "left": null,
            "margin": null,
            "max_height": null,
            "max_width": null,
            "min_height": null,
            "min_width": null,
            "object_fit": null,
            "object_position": null,
            "order": null,
            "overflow": null,
            "overflow_x": null,
            "overflow_y": null,
            "padding": null,
            "right": null,
            "top": null,
            "visibility": null,
            "width": null
          }
        },
        "33118cba54384c5185c90f570eb5abfa": {
          "model_module": "@jupyter-widgets/controls",
          "model_name": "DescriptionStyleModel",
          "model_module_version": "1.5.0",
          "state": {
            "_model_module": "@jupyter-widgets/controls",
            "_model_module_version": "1.5.0",
            "_model_name": "DescriptionStyleModel",
            "_view_count": null,
            "_view_module": "@jupyter-widgets/base",
            "_view_module_version": "1.2.0",
            "_view_name": "StyleView",
            "description_width": ""
          }
        },
        "4805d7c7532a47cc99b2ffe3ef8e04c5": {
          "model_module": "@jupyter-widgets/controls",
          "model_name": "HBoxModel",
          "model_module_version": "1.5.0",
          "state": {
            "_dom_classes": [],
            "_model_module": "@jupyter-widgets/controls",
            "_model_module_version": "1.5.0",
            "_model_name": "HBoxModel",
            "_view_count": null,
            "_view_module": "@jupyter-widgets/controls",
            "_view_module_version": "1.5.0",
            "_view_name": "HBoxView",
            "box_style": "",
            "children": [
              "IPY_MODEL_7438f2a7af28429b9c438694ccaf4ac7",
              "IPY_MODEL_1a8c9ef43a7a4c22853e7dec9cfe321e",
              "IPY_MODEL_0918e4cb864042c2a25ba872be613a05"
            ],
            "layout": "IPY_MODEL_fe411df94c6242429a181eae0ce777e0"
          }
        },
        "7438f2a7af28429b9c438694ccaf4ac7": {
          "model_module": "@jupyter-widgets/controls",
          "model_name": "HTMLModel",
          "model_module_version": "1.5.0",
          "state": {
            "_dom_classes": [],
            "_model_module": "@jupyter-widgets/controls",
            "_model_module_version": "1.5.0",
            "_model_name": "HTMLModel",
            "_view_count": null,
            "_view_module": "@jupyter-widgets/controls",
            "_view_module_version": "1.5.0",
            "_view_name": "HTMLView",
            "description": "",
            "description_tooltip": null,
            "layout": "IPY_MODEL_c4c2348a3dd2461aa82033f92b645d1b",
            "placeholder": "​",
            "style": "IPY_MODEL_e65765e49bb24621a4cb4fe9719b836a",
            "value": "tokenizer_config.json: "
          }
        },
        "1a8c9ef43a7a4c22853e7dec9cfe321e": {
          "model_module": "@jupyter-widgets/controls",
          "model_name": "FloatProgressModel",
          "model_module_version": "1.5.0",
          "state": {
            "_dom_classes": [],
            "_model_module": "@jupyter-widgets/controls",
            "_model_module_version": "1.5.0",
            "_model_name": "FloatProgressModel",
            "_view_count": null,
            "_view_module": "@jupyter-widgets/controls",
            "_view_module_version": "1.5.0",
            "_view_name": "ProgressView",
            "bar_style": "success",
            "description": "",
            "description_tooltip": null,
            "layout": "IPY_MODEL_ff1eebfdebea48efa2fadb416bfa7f96",
            "max": 1,
            "min": 0,
            "orientation": "horizontal",
            "style": "IPY_MODEL_839f08e269d04aeab3c9fc9fde418395",
            "value": 1
          }
        },
        "0918e4cb864042c2a25ba872be613a05": {
          "model_module": "@jupyter-widgets/controls",
          "model_name": "HTMLModel",
          "model_module_version": "1.5.0",
          "state": {
            "_dom_classes": [],
            "_model_module": "@jupyter-widgets/controls",
            "_model_module_version": "1.5.0",
            "_model_name": "HTMLModel",
            "_view_count": null,
            "_view_module": "@jupyter-widgets/controls",
            "_view_module_version": "1.5.0",
            "_view_name": "HTMLView",
            "description": "",
            "description_tooltip": null,
            "layout": "IPY_MODEL_64d54419088a413ca48f1bd02a2f4938",
            "placeholder": "​",
            "style": "IPY_MODEL_2ddebd771b46406b9d0fe017120f4dfb",
            "value": " 2.54k/? [00:00&lt;00:00, 325kB/s]"
          }
        },
        "fe411df94c6242429a181eae0ce777e0": {
          "model_module": "@jupyter-widgets/base",
          "model_name": "LayoutModel",
          "model_module_version": "1.2.0",
          "state": {
            "_model_module": "@jupyter-widgets/base",
            "_model_module_version": "1.2.0",
            "_model_name": "LayoutModel",
            "_view_count": null,
            "_view_module": "@jupyter-widgets/base",
            "_view_module_version": "1.2.0",
            "_view_name": "LayoutView",
            "align_content": null,
            "align_items": null,
            "align_self": null,
            "border": null,
            "bottom": null,
            "display": null,
            "flex": null,
            "flex_flow": null,
            "grid_area": null,
            "grid_auto_columns": null,
            "grid_auto_flow": null,
            "grid_auto_rows": null,
            "grid_column": null,
            "grid_gap": null,
            "grid_row": null,
            "grid_template_areas": null,
            "grid_template_columns": null,
            "grid_template_rows": null,
            "height": null,
            "justify_content": null,
            "justify_items": null,
            "left": null,
            "margin": null,
            "max_height": null,
            "max_width": null,
            "min_height": null,
            "min_width": null,
            "object_fit": null,
            "object_position": null,
            "order": null,
            "overflow": null,
            "overflow_x": null,
            "overflow_y": null,
            "padding": null,
            "right": null,
            "top": null,
            "visibility": null,
            "width": null
          }
        },
        "c4c2348a3dd2461aa82033f92b645d1b": {
          "model_module": "@jupyter-widgets/base",
          "model_name": "LayoutModel",
          "model_module_version": "1.2.0",
          "state": {
            "_model_module": "@jupyter-widgets/base",
            "_model_module_version": "1.2.0",
            "_model_name": "LayoutModel",
            "_view_count": null,
            "_view_module": "@jupyter-widgets/base",
            "_view_module_version": "1.2.0",
            "_view_name": "LayoutView",
            "align_content": null,
            "align_items": null,
            "align_self": null,
            "border": null,
            "bottom": null,
            "display": null,
            "flex": null,
            "flex_flow": null,
            "grid_area": null,
            "grid_auto_columns": null,
            "grid_auto_flow": null,
            "grid_auto_rows": null,
            "grid_column": null,
            "grid_gap": null,
            "grid_row": null,
            "grid_template_areas": null,
            "grid_template_columns": null,
            "grid_template_rows": null,
            "height": null,
            "justify_content": null,
            "justify_items": null,
            "left": null,
            "margin": null,
            "max_height": null,
            "max_width": null,
            "min_height": null,
            "min_width": null,
            "object_fit": null,
            "object_position": null,
            "order": null,
            "overflow": null,
            "overflow_x": null,
            "overflow_y": null,
            "padding": null,
            "right": null,
            "top": null,
            "visibility": null,
            "width": null
          }
        },
        "e65765e49bb24621a4cb4fe9719b836a": {
          "model_module": "@jupyter-widgets/controls",
          "model_name": "DescriptionStyleModel",
          "model_module_version": "1.5.0",
          "state": {
            "_model_module": "@jupyter-widgets/controls",
            "_model_module_version": "1.5.0",
            "_model_name": "DescriptionStyleModel",
            "_view_count": null,
            "_view_module": "@jupyter-widgets/base",
            "_view_module_version": "1.2.0",
            "_view_name": "StyleView",
            "description_width": ""
          }
        },
        "ff1eebfdebea48efa2fadb416bfa7f96": {
          "model_module": "@jupyter-widgets/base",
          "model_name": "LayoutModel",
          "model_module_version": "1.2.0",
          "state": {
            "_model_module": "@jupyter-widgets/base",
            "_model_module_version": "1.2.0",
            "_model_name": "LayoutModel",
            "_view_count": null,
            "_view_module": "@jupyter-widgets/base",
            "_view_module_version": "1.2.0",
            "_view_name": "LayoutView",
            "align_content": null,
            "align_items": null,
            "align_self": null,
            "border": null,
            "bottom": null,
            "display": null,
            "flex": null,
            "flex_flow": null,
            "grid_area": null,
            "grid_auto_columns": null,
            "grid_auto_flow": null,
            "grid_auto_rows": null,
            "grid_column": null,
            "grid_gap": null,
            "grid_row": null,
            "grid_template_areas": null,
            "grid_template_columns": null,
            "grid_template_rows": null,
            "height": null,
            "justify_content": null,
            "justify_items": null,
            "left": null,
            "margin": null,
            "max_height": null,
            "max_width": null,
            "min_height": null,
            "min_width": null,
            "object_fit": null,
            "object_position": null,
            "order": null,
            "overflow": null,
            "overflow_x": null,
            "overflow_y": null,
            "padding": null,
            "right": null,
            "top": null,
            "visibility": null,
            "width": "20px"
          }
        },
        "839f08e269d04aeab3c9fc9fde418395": {
          "model_module": "@jupyter-widgets/controls",
          "model_name": "ProgressStyleModel",
          "model_module_version": "1.5.0",
          "state": {
            "_model_module": "@jupyter-widgets/controls",
            "_model_module_version": "1.5.0",
            "_model_name": "ProgressStyleModel",
            "_view_count": null,
            "_view_module": "@jupyter-widgets/base",
            "_view_module_version": "1.2.0",
            "_view_name": "StyleView",
            "bar_color": null,
            "description_width": ""
          }
        },
        "64d54419088a413ca48f1bd02a2f4938": {
          "model_module": "@jupyter-widgets/base",
          "model_name": "LayoutModel",
          "model_module_version": "1.2.0",
          "state": {
            "_model_module": "@jupyter-widgets/base",
            "_model_module_version": "1.2.0",
            "_model_name": "LayoutModel",
            "_view_count": null,
            "_view_module": "@jupyter-widgets/base",
            "_view_module_version": "1.2.0",
            "_view_name": "LayoutView",
            "align_content": null,
            "align_items": null,
            "align_self": null,
            "border": null,
            "bottom": null,
            "display": null,
            "flex": null,
            "flex_flow": null,
            "grid_area": null,
            "grid_auto_columns": null,
            "grid_auto_flow": null,
            "grid_auto_rows": null,
            "grid_column": null,
            "grid_gap": null,
            "grid_row": null,
            "grid_template_areas": null,
            "grid_template_columns": null,
            "grid_template_rows": null,
            "height": null,
            "justify_content": null,
            "justify_items": null,
            "left": null,
            "margin": null,
            "max_height": null,
            "max_width": null,
            "min_height": null,
            "min_width": null,
            "object_fit": null,
            "object_position": null,
            "order": null,
            "overflow": null,
            "overflow_x": null,
            "overflow_y": null,
            "padding": null,
            "right": null,
            "top": null,
            "visibility": null,
            "width": null
          }
        },
        "2ddebd771b46406b9d0fe017120f4dfb": {
          "model_module": "@jupyter-widgets/controls",
          "model_name": "DescriptionStyleModel",
          "model_module_version": "1.5.0",
          "state": {
            "_model_module": "@jupyter-widgets/controls",
            "_model_module_version": "1.5.0",
            "_model_name": "DescriptionStyleModel",
            "_view_count": null,
            "_view_module": "@jupyter-widgets/base",
            "_view_module_version": "1.2.0",
            "_view_name": "StyleView",
            "description_width": ""
          }
        },
        "83e197ae2cec49e6ad10c3959b0990f7": {
          "model_module": "@jupyter-widgets/controls",
          "model_name": "HBoxModel",
          "model_module_version": "1.5.0",
          "state": {
            "_dom_classes": [],
            "_model_module": "@jupyter-widgets/controls",
            "_model_module_version": "1.5.0",
            "_model_name": "HBoxModel",
            "_view_count": null,
            "_view_module": "@jupyter-widgets/controls",
            "_view_module_version": "1.5.0",
            "_view_name": "HBoxView",
            "box_style": "",
            "children": [
              "IPY_MODEL_6671fdf662244d5cbad22e34954c3e98",
              "IPY_MODEL_83b9579375184b85a129574f1c796d11",
              "IPY_MODEL_68cf325d9b1447e08215dfec233563ac"
            ],
            "layout": "IPY_MODEL_b188092f4773428ca047812ba378abf1"
          }
        },
        "6671fdf662244d5cbad22e34954c3e98": {
          "model_module": "@jupyter-widgets/controls",
          "model_name": "HTMLModel",
          "model_module_version": "1.5.0",
          "state": {
            "_dom_classes": [],
            "_model_module": "@jupyter-widgets/controls",
            "_model_module_version": "1.5.0",
            "_model_name": "HTMLModel",
            "_view_count": null,
            "_view_module": "@jupyter-widgets/controls",
            "_view_module_version": "1.5.0",
            "_view_name": "HTMLView",
            "description": "",
            "description_tooltip": null,
            "layout": "IPY_MODEL_3fc01da6a2a3402f95fa7ff1d3e362d6",
            "placeholder": "​",
            "style": "IPY_MODEL_2b7410394079442fa81a6a6d6ae5b838",
            "value": "spiece.model: 100%"
          }
        },
        "83b9579375184b85a129574f1c796d11": {
          "model_module": "@jupyter-widgets/controls",
          "model_name": "FloatProgressModel",
          "model_module_version": "1.5.0",
          "state": {
            "_dom_classes": [],
            "_model_module": "@jupyter-widgets/controls",
            "_model_module_version": "1.5.0",
            "_model_name": "FloatProgressModel",
            "_view_count": null,
            "_view_module": "@jupyter-widgets/controls",
            "_view_module_version": "1.5.0",
            "_view_name": "ProgressView",
            "bar_style": "success",
            "description": "",
            "description_tooltip": null,
            "layout": "IPY_MODEL_dfe32666869c4ac9a66963381f44f3fd",
            "max": 791656,
            "min": 0,
            "orientation": "horizontal",
            "style": "IPY_MODEL_95f7242a302f42ac985c8d74cfd1148e",
            "value": 791656
          }
        },
        "68cf325d9b1447e08215dfec233563ac": {
          "model_module": "@jupyter-widgets/controls",
          "model_name": "HTMLModel",
          "model_module_version": "1.5.0",
          "state": {
            "_dom_classes": [],
            "_model_module": "@jupyter-widgets/controls",
            "_model_module_version": "1.5.0",
            "_model_name": "HTMLModel",
            "_view_count": null,
            "_view_module": "@jupyter-widgets/controls",
            "_view_module_version": "1.5.0",
            "_view_name": "HTMLView",
            "description": "",
            "description_tooltip": null,
            "layout": "IPY_MODEL_8ee9944f1f2c4025ae64c2a53c9172df",
            "placeholder": "​",
            "style": "IPY_MODEL_c38de69677e641dfa84b40f2b8f2670d",
            "value": " 792k/792k [00:00&lt;00:00, 2.66MB/s]"
          }
        },
        "b188092f4773428ca047812ba378abf1": {
          "model_module": "@jupyter-widgets/base",
          "model_name": "LayoutModel",
          "model_module_version": "1.2.0",
          "state": {
            "_model_module": "@jupyter-widgets/base",
            "_model_module_version": "1.2.0",
            "_model_name": "LayoutModel",
            "_view_count": null,
            "_view_module": "@jupyter-widgets/base",
            "_view_module_version": "1.2.0",
            "_view_name": "LayoutView",
            "align_content": null,
            "align_items": null,
            "align_self": null,
            "border": null,
            "bottom": null,
            "display": null,
            "flex": null,
            "flex_flow": null,
            "grid_area": null,
            "grid_auto_columns": null,
            "grid_auto_flow": null,
            "grid_auto_rows": null,
            "grid_column": null,
            "grid_gap": null,
            "grid_row": null,
            "grid_template_areas": null,
            "grid_template_columns": null,
            "grid_template_rows": null,
            "height": null,
            "justify_content": null,
            "justify_items": null,
            "left": null,
            "margin": null,
            "max_height": null,
            "max_width": null,
            "min_height": null,
            "min_width": null,
            "object_fit": null,
            "object_position": null,
            "order": null,
            "overflow": null,
            "overflow_x": null,
            "overflow_y": null,
            "padding": null,
            "right": null,
            "top": null,
            "visibility": null,
            "width": null
          }
        },
        "3fc01da6a2a3402f95fa7ff1d3e362d6": {
          "model_module": "@jupyter-widgets/base",
          "model_name": "LayoutModel",
          "model_module_version": "1.2.0",
          "state": {
            "_model_module": "@jupyter-widgets/base",
            "_model_module_version": "1.2.0",
            "_model_name": "LayoutModel",
            "_view_count": null,
            "_view_module": "@jupyter-widgets/base",
            "_view_module_version": "1.2.0",
            "_view_name": "LayoutView",
            "align_content": null,
            "align_items": null,
            "align_self": null,
            "border": null,
            "bottom": null,
            "display": null,
            "flex": null,
            "flex_flow": null,
            "grid_area": null,
            "grid_auto_columns": null,
            "grid_auto_flow": null,
            "grid_auto_rows": null,
            "grid_column": null,
            "grid_gap": null,
            "grid_row": null,
            "grid_template_areas": null,
            "grid_template_columns": null,
            "grid_template_rows": null,
            "height": null,
            "justify_content": null,
            "justify_items": null,
            "left": null,
            "margin": null,
            "max_height": null,
            "max_width": null,
            "min_height": null,
            "min_width": null,
            "object_fit": null,
            "object_position": null,
            "order": null,
            "overflow": null,
            "overflow_x": null,
            "overflow_y": null,
            "padding": null,
            "right": null,
            "top": null,
            "visibility": null,
            "width": null
          }
        },
        "2b7410394079442fa81a6a6d6ae5b838": {
          "model_module": "@jupyter-widgets/controls",
          "model_name": "DescriptionStyleModel",
          "model_module_version": "1.5.0",
          "state": {
            "_model_module": "@jupyter-widgets/controls",
            "_model_module_version": "1.5.0",
            "_model_name": "DescriptionStyleModel",
            "_view_count": null,
            "_view_module": "@jupyter-widgets/base",
            "_view_module_version": "1.2.0",
            "_view_name": "StyleView",
            "description_width": ""
          }
        },
        "dfe32666869c4ac9a66963381f44f3fd": {
          "model_module": "@jupyter-widgets/base",
          "model_name": "LayoutModel",
          "model_module_version": "1.2.0",
          "state": {
            "_model_module": "@jupyter-widgets/base",
            "_model_module_version": "1.2.0",
            "_model_name": "LayoutModel",
            "_view_count": null,
            "_view_module": "@jupyter-widgets/base",
            "_view_module_version": "1.2.0",
            "_view_name": "LayoutView",
            "align_content": null,
            "align_items": null,
            "align_self": null,
            "border": null,
            "bottom": null,
            "display": null,
            "flex": null,
            "flex_flow": null,
            "grid_area": null,
            "grid_auto_columns": null,
            "grid_auto_flow": null,
            "grid_auto_rows": null,
            "grid_column": null,
            "grid_gap": null,
            "grid_row": null,
            "grid_template_areas": null,
            "grid_template_columns": null,
            "grid_template_rows": null,
            "height": null,
            "justify_content": null,
            "justify_items": null,
            "left": null,
            "margin": null,
            "max_height": null,
            "max_width": null,
            "min_height": null,
            "min_width": null,
            "object_fit": null,
            "object_position": null,
            "order": null,
            "overflow": null,
            "overflow_x": null,
            "overflow_y": null,
            "padding": null,
            "right": null,
            "top": null,
            "visibility": null,
            "width": null
          }
        },
        "95f7242a302f42ac985c8d74cfd1148e": {
          "model_module": "@jupyter-widgets/controls",
          "model_name": "ProgressStyleModel",
          "model_module_version": "1.5.0",
          "state": {
            "_model_module": "@jupyter-widgets/controls",
            "_model_module_version": "1.5.0",
            "_model_name": "ProgressStyleModel",
            "_view_count": null,
            "_view_module": "@jupyter-widgets/base",
            "_view_module_version": "1.2.0",
            "_view_name": "StyleView",
            "bar_color": null,
            "description_width": ""
          }
        },
        "8ee9944f1f2c4025ae64c2a53c9172df": {
          "model_module": "@jupyter-widgets/base",
          "model_name": "LayoutModel",
          "model_module_version": "1.2.0",
          "state": {
            "_model_module": "@jupyter-widgets/base",
            "_model_module_version": "1.2.0",
            "_model_name": "LayoutModel",
            "_view_count": null,
            "_view_module": "@jupyter-widgets/base",
            "_view_module_version": "1.2.0",
            "_view_name": "LayoutView",
            "align_content": null,
            "align_items": null,
            "align_self": null,
            "border": null,
            "bottom": null,
            "display": null,
            "flex": null,
            "flex_flow": null,
            "grid_area": null,
            "grid_auto_columns": null,
            "grid_auto_flow": null,
            "grid_auto_rows": null,
            "grid_column": null,
            "grid_gap": null,
            "grid_row": null,
            "grid_template_areas": null,
            "grid_template_columns": null,
            "grid_template_rows": null,
            "height": null,
            "justify_content": null,
            "justify_items": null,
            "left": null,
            "margin": null,
            "max_height": null,
            "max_width": null,
            "min_height": null,
            "min_width": null,
            "object_fit": null,
            "object_position": null,
            "order": null,
            "overflow": null,
            "overflow_x": null,
            "overflow_y": null,
            "padding": null,
            "right": null,
            "top": null,
            "visibility": null,
            "width": null
          }
        },
        "c38de69677e641dfa84b40f2b8f2670d": {
          "model_module": "@jupyter-widgets/controls",
          "model_name": "DescriptionStyleModel",
          "model_module_version": "1.5.0",
          "state": {
            "_model_module": "@jupyter-widgets/controls",
            "_model_module_version": "1.5.0",
            "_model_name": "DescriptionStyleModel",
            "_view_count": null,
            "_view_module": "@jupyter-widgets/base",
            "_view_module_version": "1.2.0",
            "_view_name": "StyleView",
            "description_width": ""
          }
        },
        "d68fbb0734614619977f17e4985a25de": {
          "model_module": "@jupyter-widgets/controls",
          "model_name": "HBoxModel",
          "model_module_version": "1.5.0",
          "state": {
            "_dom_classes": [],
            "_model_module": "@jupyter-widgets/controls",
            "_model_module_version": "1.5.0",
            "_model_name": "HBoxModel",
            "_view_count": null,
            "_view_module": "@jupyter-widgets/controls",
            "_view_module_version": "1.5.0",
            "_view_name": "HBoxView",
            "box_style": "",
            "children": [
              "IPY_MODEL_d2dc495fa3f64b648d7eec0a4b322bb7",
              "IPY_MODEL_a3667c7670c9462995f5ee8faaf29147",
              "IPY_MODEL_58dc904de4474e4ca5c45630284836ee"
            ],
            "layout": "IPY_MODEL_6e5bd3493f254fa087fb4b9da28536d6"
          }
        },
        "d2dc495fa3f64b648d7eec0a4b322bb7": {
          "model_module": "@jupyter-widgets/controls",
          "model_name": "HTMLModel",
          "model_module_version": "1.5.0",
          "state": {
            "_dom_classes": [],
            "_model_module": "@jupyter-widgets/controls",
            "_model_module_version": "1.5.0",
            "_model_name": "HTMLModel",
            "_view_count": null,
            "_view_module": "@jupyter-widgets/controls",
            "_view_module_version": "1.5.0",
            "_view_name": "HTMLView",
            "description": "",
            "description_tooltip": null,
            "layout": "IPY_MODEL_7664fb20abc243e4b717ee8881395a44",
            "placeholder": "​",
            "style": "IPY_MODEL_4d6396264d374e8db3a1b3562231f359",
            "value": "tokenizer.json: "
          }
        },
        "a3667c7670c9462995f5ee8faaf29147": {
          "model_module": "@jupyter-widgets/controls",
          "model_name": "FloatProgressModel",
          "model_module_version": "1.5.0",
          "state": {
            "_dom_classes": [],
            "_model_module": "@jupyter-widgets/controls",
            "_model_module_version": "1.5.0",
            "_model_name": "FloatProgressModel",
            "_view_count": null,
            "_view_module": "@jupyter-widgets/controls",
            "_view_module_version": "1.5.0",
            "_view_name": "ProgressView",
            "bar_style": "success",
            "description": "",
            "description_tooltip": null,
            "layout": "IPY_MODEL_287c045e8e13486aa7998b05c188aa98",
            "max": 1,
            "min": 0,
            "orientation": "horizontal",
            "style": "IPY_MODEL_402b55aa979d4a258767b478b70dab42",
            "value": 1
          }
        },
        "58dc904de4474e4ca5c45630284836ee": {
          "model_module": "@jupyter-widgets/controls",
          "model_name": "HTMLModel",
          "model_module_version": "1.5.0",
          "state": {
            "_dom_classes": [],
            "_model_module": "@jupyter-widgets/controls",
            "_model_module_version": "1.5.0",
            "_model_name": "HTMLModel",
            "_view_count": null,
            "_view_module": "@jupyter-widgets/controls",
            "_view_module_version": "1.5.0",
            "_view_name": "HTMLView",
            "description": "",
            "description_tooltip": null,
            "layout": "IPY_MODEL_8f79465f19414d378eb66e380f84b31c",
            "placeholder": "​",
            "style": "IPY_MODEL_bb3315f654f348b1938f38b4648d45f6",
            "value": " 2.42M/? [00:00&lt;00:00, 96.1MB/s]"
          }
        },
        "6e5bd3493f254fa087fb4b9da28536d6": {
          "model_module": "@jupyter-widgets/base",
          "model_name": "LayoutModel",
          "model_module_version": "1.2.0",
          "state": {
            "_model_module": "@jupyter-widgets/base",
            "_model_module_version": "1.2.0",
            "_model_name": "LayoutModel",
            "_view_count": null,
            "_view_module": "@jupyter-widgets/base",
            "_view_module_version": "1.2.0",
            "_view_name": "LayoutView",
            "align_content": null,
            "align_items": null,
            "align_self": null,
            "border": null,
            "bottom": null,
            "display": null,
            "flex": null,
            "flex_flow": null,
            "grid_area": null,
            "grid_auto_columns": null,
            "grid_auto_flow": null,
            "grid_auto_rows": null,
            "grid_column": null,
            "grid_gap": null,
            "grid_row": null,
            "grid_template_areas": null,
            "grid_template_columns": null,
            "grid_template_rows": null,
            "height": null,
            "justify_content": null,
            "justify_items": null,
            "left": null,
            "margin": null,
            "max_height": null,
            "max_width": null,
            "min_height": null,
            "min_width": null,
            "object_fit": null,
            "object_position": null,
            "order": null,
            "overflow": null,
            "overflow_x": null,
            "overflow_y": null,
            "padding": null,
            "right": null,
            "top": null,
            "visibility": null,
            "width": null
          }
        },
        "7664fb20abc243e4b717ee8881395a44": {
          "model_module": "@jupyter-widgets/base",
          "model_name": "LayoutModel",
          "model_module_version": "1.2.0",
          "state": {
            "_model_module": "@jupyter-widgets/base",
            "_model_module_version": "1.2.0",
            "_model_name": "LayoutModel",
            "_view_count": null,
            "_view_module": "@jupyter-widgets/base",
            "_view_module_version": "1.2.0",
            "_view_name": "LayoutView",
            "align_content": null,
            "align_items": null,
            "align_self": null,
            "border": null,
            "bottom": null,
            "display": null,
            "flex": null,
            "flex_flow": null,
            "grid_area": null,
            "grid_auto_columns": null,
            "grid_auto_flow": null,
            "grid_auto_rows": null,
            "grid_column": null,
            "grid_gap": null,
            "grid_row": null,
            "grid_template_areas": null,
            "grid_template_columns": null,
            "grid_template_rows": null,
            "height": null,
            "justify_content": null,
            "justify_items": null,
            "left": null,
            "margin": null,
            "max_height": null,
            "max_width": null,
            "min_height": null,
            "min_width": null,
            "object_fit": null,
            "object_position": null,
            "order": null,
            "overflow": null,
            "overflow_x": null,
            "overflow_y": null,
            "padding": null,
            "right": null,
            "top": null,
            "visibility": null,
            "width": null
          }
        },
        "4d6396264d374e8db3a1b3562231f359": {
          "model_module": "@jupyter-widgets/controls",
          "model_name": "DescriptionStyleModel",
          "model_module_version": "1.5.0",
          "state": {
            "_model_module": "@jupyter-widgets/controls",
            "_model_module_version": "1.5.0",
            "_model_name": "DescriptionStyleModel",
            "_view_count": null,
            "_view_module": "@jupyter-widgets/base",
            "_view_module_version": "1.2.0",
            "_view_name": "StyleView",
            "description_width": ""
          }
        },
        "287c045e8e13486aa7998b05c188aa98": {
          "model_module": "@jupyter-widgets/base",
          "model_name": "LayoutModel",
          "model_module_version": "1.2.0",
          "state": {
            "_model_module": "@jupyter-widgets/base",
            "_model_module_version": "1.2.0",
            "_model_name": "LayoutModel",
            "_view_count": null,
            "_view_module": "@jupyter-widgets/base",
            "_view_module_version": "1.2.0",
            "_view_name": "LayoutView",
            "align_content": null,
            "align_items": null,
            "align_self": null,
            "border": null,
            "bottom": null,
            "display": null,
            "flex": null,
            "flex_flow": null,
            "grid_area": null,
            "grid_auto_columns": null,
            "grid_auto_flow": null,
            "grid_auto_rows": null,
            "grid_column": null,
            "grid_gap": null,
            "grid_row": null,
            "grid_template_areas": null,
            "grid_template_columns": null,
            "grid_template_rows": null,
            "height": null,
            "justify_content": null,
            "justify_items": null,
            "left": null,
            "margin": null,
            "max_height": null,
            "max_width": null,
            "min_height": null,
            "min_width": null,
            "object_fit": null,
            "object_position": null,
            "order": null,
            "overflow": null,
            "overflow_x": null,
            "overflow_y": null,
            "padding": null,
            "right": null,
            "top": null,
            "visibility": null,
            "width": "20px"
          }
        },
        "402b55aa979d4a258767b478b70dab42": {
          "model_module": "@jupyter-widgets/controls",
          "model_name": "ProgressStyleModel",
          "model_module_version": "1.5.0",
          "state": {
            "_model_module": "@jupyter-widgets/controls",
            "_model_module_version": "1.5.0",
            "_model_name": "ProgressStyleModel",
            "_view_count": null,
            "_view_module": "@jupyter-widgets/base",
            "_view_module_version": "1.2.0",
            "_view_name": "StyleView",
            "bar_color": null,
            "description_width": ""
          }
        },
        "8f79465f19414d378eb66e380f84b31c": {
          "model_module": "@jupyter-widgets/base",
          "model_name": "LayoutModel",
          "model_module_version": "1.2.0",
          "state": {
            "_model_module": "@jupyter-widgets/base",
            "_model_module_version": "1.2.0",
            "_model_name": "LayoutModel",
            "_view_count": null,
            "_view_module": "@jupyter-widgets/base",
            "_view_module_version": "1.2.0",
            "_view_name": "LayoutView",
            "align_content": null,
            "align_items": null,
            "align_self": null,
            "border": null,
            "bottom": null,
            "display": null,
            "flex": null,
            "flex_flow": null,
            "grid_area": null,
            "grid_auto_columns": null,
            "grid_auto_flow": null,
            "grid_auto_rows": null,
            "grid_column": null,
            "grid_gap": null,
            "grid_row": null,
            "grid_template_areas": null,
            "grid_template_columns": null,
            "grid_template_rows": null,
            "height": null,
            "justify_content": null,
            "justify_items": null,
            "left": null,
            "margin": null,
            "max_height": null,
            "max_width": null,
            "min_height": null,
            "min_width": null,
            "object_fit": null,
            "object_position": null,
            "order": null,
            "overflow": null,
            "overflow_x": null,
            "overflow_y": null,
            "padding": null,
            "right": null,
            "top": null,
            "visibility": null,
            "width": null
          }
        },
        "bb3315f654f348b1938f38b4648d45f6": {
          "model_module": "@jupyter-widgets/controls",
          "model_name": "DescriptionStyleModel",
          "model_module_version": "1.5.0",
          "state": {
            "_model_module": "@jupyter-widgets/controls",
            "_model_module_version": "1.5.0",
            "_model_name": "DescriptionStyleModel",
            "_view_count": null,
            "_view_module": "@jupyter-widgets/base",
            "_view_module_version": "1.2.0",
            "_view_name": "StyleView",
            "description_width": ""
          }
        },
        "ec307af76ab44af8aed04bae5b5d12c9": {
          "model_module": "@jupyter-widgets/controls",
          "model_name": "HBoxModel",
          "model_module_version": "1.5.0",
          "state": {
            "_dom_classes": [],
            "_model_module": "@jupyter-widgets/controls",
            "_model_module_version": "1.5.0",
            "_model_name": "HBoxModel",
            "_view_count": null,
            "_view_module": "@jupyter-widgets/controls",
            "_view_module_version": "1.5.0",
            "_view_name": "HBoxView",
            "box_style": "",
            "children": [
              "IPY_MODEL_60c40df5bd91410eb40f01e444ebe42a",
              "IPY_MODEL_0442a93518af4d7b849f77802ecfc802",
              "IPY_MODEL_e80dc90bf70c476885d9b71a78d4db28"
            ],
            "layout": "IPY_MODEL_60fdf5d8281d449f88d2bb7593beb1ce"
          }
        },
        "60c40df5bd91410eb40f01e444ebe42a": {
          "model_module": "@jupyter-widgets/controls",
          "model_name": "HTMLModel",
          "model_module_version": "1.5.0",
          "state": {
            "_dom_classes": [],
            "_model_module": "@jupyter-widgets/controls",
            "_model_module_version": "1.5.0",
            "_model_name": "HTMLModel",
            "_view_count": null,
            "_view_module": "@jupyter-widgets/controls",
            "_view_module_version": "1.5.0",
            "_view_name": "HTMLView",
            "description": "",
            "description_tooltip": null,
            "layout": "IPY_MODEL_15c7e0585c8944abb151398c738c6dc6",
            "placeholder": "​",
            "style": "IPY_MODEL_69557fad7cbe4215a7182bee20c85105",
            "value": "special_tokens_map.json: "
          }
        },
        "0442a93518af4d7b849f77802ecfc802": {
          "model_module": "@jupyter-widgets/controls",
          "model_name": "FloatProgressModel",
          "model_module_version": "1.5.0",
          "state": {
            "_dom_classes": [],
            "_model_module": "@jupyter-widgets/controls",
            "_model_module_version": "1.5.0",
            "_model_name": "FloatProgressModel",
            "_view_count": null,
            "_view_module": "@jupyter-widgets/controls",
            "_view_module_version": "1.5.0",
            "_view_name": "ProgressView",
            "bar_style": "success",
            "description": "",
            "description_tooltip": null,
            "layout": "IPY_MODEL_c70ba3116cb045868ba8f7f512f7666f",
            "max": 1,
            "min": 0,
            "orientation": "horizontal",
            "style": "IPY_MODEL_be398ef39ec84095a4009f6cd9137a9e",
            "value": 1
          }
        },
        "e80dc90bf70c476885d9b71a78d4db28": {
          "model_module": "@jupyter-widgets/controls",
          "model_name": "HTMLModel",
          "model_module_version": "1.5.0",
          "state": {
            "_dom_classes": [],
            "_model_module": "@jupyter-widgets/controls",
            "_model_module_version": "1.5.0",
            "_model_name": "HTMLModel",
            "_view_count": null,
            "_view_module": "@jupyter-widgets/controls",
            "_view_module_version": "1.5.0",
            "_view_name": "HTMLView",
            "description": "",
            "description_tooltip": null,
            "layout": "IPY_MODEL_ac718870f4d94b189309618e4c2edecb",
            "placeholder": "​",
            "style": "IPY_MODEL_a73fd26a9b4545e5a7ec0c2c2d175887",
            "value": " 2.20k/? [00:00&lt;00:00, 267kB/s]"
          }
        },
        "60fdf5d8281d449f88d2bb7593beb1ce": {
          "model_module": "@jupyter-widgets/base",
          "model_name": "LayoutModel",
          "model_module_version": "1.2.0",
          "state": {
            "_model_module": "@jupyter-widgets/base",
            "_model_module_version": "1.2.0",
            "_model_name": "LayoutModel",
            "_view_count": null,
            "_view_module": "@jupyter-widgets/base",
            "_view_module_version": "1.2.0",
            "_view_name": "LayoutView",
            "align_content": null,
            "align_items": null,
            "align_self": null,
            "border": null,
            "bottom": null,
            "display": null,
            "flex": null,
            "flex_flow": null,
            "grid_area": null,
            "grid_auto_columns": null,
            "grid_auto_flow": null,
            "grid_auto_rows": null,
            "grid_column": null,
            "grid_gap": null,
            "grid_row": null,
            "grid_template_areas": null,
            "grid_template_columns": null,
            "grid_template_rows": null,
            "height": null,
            "justify_content": null,
            "justify_items": null,
            "left": null,
            "margin": null,
            "max_height": null,
            "max_width": null,
            "min_height": null,
            "min_width": null,
            "object_fit": null,
            "object_position": null,
            "order": null,
            "overflow": null,
            "overflow_x": null,
            "overflow_y": null,
            "padding": null,
            "right": null,
            "top": null,
            "visibility": null,
            "width": null
          }
        },
        "15c7e0585c8944abb151398c738c6dc6": {
          "model_module": "@jupyter-widgets/base",
          "model_name": "LayoutModel",
          "model_module_version": "1.2.0",
          "state": {
            "_model_module": "@jupyter-widgets/base",
            "_model_module_version": "1.2.0",
            "_model_name": "LayoutModel",
            "_view_count": null,
            "_view_module": "@jupyter-widgets/base",
            "_view_module_version": "1.2.0",
            "_view_name": "LayoutView",
            "align_content": null,
            "align_items": null,
            "align_self": null,
            "border": null,
            "bottom": null,
            "display": null,
            "flex": null,
            "flex_flow": null,
            "grid_area": null,
            "grid_auto_columns": null,
            "grid_auto_flow": null,
            "grid_auto_rows": null,
            "grid_column": null,
            "grid_gap": null,
            "grid_row": null,
            "grid_template_areas": null,
            "grid_template_columns": null,
            "grid_template_rows": null,
            "height": null,
            "justify_content": null,
            "justify_items": null,
            "left": null,
            "margin": null,
            "max_height": null,
            "max_width": null,
            "min_height": null,
            "min_width": null,
            "object_fit": null,
            "object_position": null,
            "order": null,
            "overflow": null,
            "overflow_x": null,
            "overflow_y": null,
            "padding": null,
            "right": null,
            "top": null,
            "visibility": null,
            "width": null
          }
        },
        "69557fad7cbe4215a7182bee20c85105": {
          "model_module": "@jupyter-widgets/controls",
          "model_name": "DescriptionStyleModel",
          "model_module_version": "1.5.0",
          "state": {
            "_model_module": "@jupyter-widgets/controls",
            "_model_module_version": "1.5.0",
            "_model_name": "DescriptionStyleModel",
            "_view_count": null,
            "_view_module": "@jupyter-widgets/base",
            "_view_module_version": "1.2.0",
            "_view_name": "StyleView",
            "description_width": ""
          }
        },
        "c70ba3116cb045868ba8f7f512f7666f": {
          "model_module": "@jupyter-widgets/base",
          "model_name": "LayoutModel",
          "model_module_version": "1.2.0",
          "state": {
            "_model_module": "@jupyter-widgets/base",
            "_model_module_version": "1.2.0",
            "_model_name": "LayoutModel",
            "_view_count": null,
            "_view_module": "@jupyter-widgets/base",
            "_view_module_version": "1.2.0",
            "_view_name": "LayoutView",
            "align_content": null,
            "align_items": null,
            "align_self": null,
            "border": null,
            "bottom": null,
            "display": null,
            "flex": null,
            "flex_flow": null,
            "grid_area": null,
            "grid_auto_columns": null,
            "grid_auto_flow": null,
            "grid_auto_rows": null,
            "grid_column": null,
            "grid_gap": null,
            "grid_row": null,
            "grid_template_areas": null,
            "grid_template_columns": null,
            "grid_template_rows": null,
            "height": null,
            "justify_content": null,
            "justify_items": null,
            "left": null,
            "margin": null,
            "max_height": null,
            "max_width": null,
            "min_height": null,
            "min_width": null,
            "object_fit": null,
            "object_position": null,
            "order": null,
            "overflow": null,
            "overflow_x": null,
            "overflow_y": null,
            "padding": null,
            "right": null,
            "top": null,
            "visibility": null,
            "width": "20px"
          }
        },
        "be398ef39ec84095a4009f6cd9137a9e": {
          "model_module": "@jupyter-widgets/controls",
          "model_name": "ProgressStyleModel",
          "model_module_version": "1.5.0",
          "state": {
            "_model_module": "@jupyter-widgets/controls",
            "_model_module_version": "1.5.0",
            "_model_name": "ProgressStyleModel",
            "_view_count": null,
            "_view_module": "@jupyter-widgets/base",
            "_view_module_version": "1.2.0",
            "_view_name": "StyleView",
            "bar_color": null,
            "description_width": ""
          }
        },
        "ac718870f4d94b189309618e4c2edecb": {
          "model_module": "@jupyter-widgets/base",
          "model_name": "LayoutModel",
          "model_module_version": "1.2.0",
          "state": {
            "_model_module": "@jupyter-widgets/base",
            "_model_module_version": "1.2.0",
            "_model_name": "LayoutModel",
            "_view_count": null,
            "_view_module": "@jupyter-widgets/base",
            "_view_module_version": "1.2.0",
            "_view_name": "LayoutView",
            "align_content": null,
            "align_items": null,
            "align_self": null,
            "border": null,
            "bottom": null,
            "display": null,
            "flex": null,
            "flex_flow": null,
            "grid_area": null,
            "grid_auto_columns": null,
            "grid_auto_flow": null,
            "grid_auto_rows": null,
            "grid_column": null,
            "grid_gap": null,
            "grid_row": null,
            "grid_template_areas": null,
            "grid_template_columns": null,
            "grid_template_rows": null,
            "height": null,
            "justify_content": null,
            "justify_items": null,
            "left": null,
            "margin": null,
            "max_height": null,
            "max_width": null,
            "min_height": null,
            "min_width": null,
            "object_fit": null,
            "object_position": null,
            "order": null,
            "overflow": null,
            "overflow_x": null,
            "overflow_y": null,
            "padding": null,
            "right": null,
            "top": null,
            "visibility": null,
            "width": null
          }
        },
        "a73fd26a9b4545e5a7ec0c2c2d175887": {
          "model_module": "@jupyter-widgets/controls",
          "model_name": "DescriptionStyleModel",
          "model_module_version": "1.5.0",
          "state": {
            "_model_module": "@jupyter-widgets/controls",
            "_model_module_version": "1.5.0",
            "_model_name": "DescriptionStyleModel",
            "_view_count": null,
            "_view_module": "@jupyter-widgets/base",
            "_view_module_version": "1.2.0",
            "_view_name": "StyleView",
            "description_width": ""
          }
        }
      }
    },
    "accelerator": "TPU"
  },
  "cells": [
    {
      "cell_type": "markdown",
      "metadata": {
        "id": "view-in-github",
        "colab_type": "text"
      },
      "source": [
        "<a href=\"https://colab.research.google.com/github/shatinz/tripreports/blob/master/tripreport.ipynb\" target=\"_parent\"><img src=\"https://colab.research.google.com/assets/colab-badge.svg\" alt=\"Open In Colab\"/></a>"
      ]
    },
    {
      "cell_type": "code",
      "execution_count": null,
      "metadata": {
        "colab": {
          "base_uri": "https://localhost:8080/"
        },
        "id": "r5533OYdpb6J",
        "outputId": "9ffa5f3b-679c-4270-ba35-0ff0dd8c62d6"
      },
      "outputs": [
        {
          "output_type": "stream",
          "name": "stdout",
          "text": [
            "(3, 384)\n",
            "[ 0.01194484 -0.05474842  0.03048872  0.09217522 -0.02315323 -0.08001882\n",
            " -0.05580265  0.00023716  0.0529645  -0.00910726]\n"
          ]
        }
      ],
      "source": [
        "from sentence_transformers import SentenceTransformer\n",
        "\n",
        "\n",
        "model = SentenceTransformer('all-MiniLM-L6-v2')\n",
        "\n",
        "sentences = [\n",
        "    \"I saw fractal tunnels of light.\",\n",
        "    \"A tunnel of geometry pulled me in.\",\n",
        "    \"I felt the presence of entities.\"\n",
        "]\n",
        "\n",
        "embeddings = model.encode(sentences)\n",
        "print(embeddings.shape)\n",
        "print(embeddings[0][:10]) # Corrected line to use slicing"
      ]
    },
    {
      "cell_type": "code",
      "source": [
        "!pip install sentence-transformers transformers accelerate\n"
      ],
      "metadata": {
        "colab": {
          "base_uri": "https://localhost:8080/"
        },
        "id": "6ydmYafvtBXl",
        "outputId": "c7a6a861-1f19-419d-a293-3d22da53df62",
        "collapsed": true
      },
      "execution_count": 4,
      "outputs": [
        {
          "output_type": "stream",
          "name": "stdout",
          "text": [
            "Collecting sentence-transformers\n",
            "  Downloading sentence_transformers-5.1.0-py3-none-any.whl.metadata (16 kB)\n",
            "Requirement already satisfied: transformers in /usr/local/lib/python3.12/dist-packages (4.55.2)\n",
            "Requirement already satisfied: accelerate in /usr/local/lib/python3.12/dist-packages (1.10.0)\n",
            "Requirement already satisfied: tqdm in /usr/local/lib/python3.12/dist-packages (from sentence-transformers) (4.67.1)\n",
            "Requirement already satisfied: torch>=1.11.0 in /usr/local/lib/python3.12/dist-packages (from sentence-transformers) (2.8.0+cpu)\n",
            "Requirement already satisfied: scikit-learn in /usr/local/lib/python3.12/dist-packages (from sentence-transformers) (1.6.1)\n",
            "Requirement already satisfied: scipy in /usr/local/lib/python3.12/dist-packages (from sentence-transformers) (1.16.1)\n",
            "Requirement already satisfied: huggingface-hub>=0.20.0 in /usr/local/lib/python3.12/dist-packages (from sentence-transformers) (0.34.4)\n",
            "Requirement already satisfied: Pillow in /usr/local/lib/python3.12/dist-packages (from sentence-transformers) (11.3.0)\n",
            "Requirement already satisfied: typing_extensions>=4.5.0 in /usr/local/lib/python3.12/dist-packages (from sentence-transformers) (4.14.1)\n",
            "Requirement already satisfied: filelock in /usr/local/lib/python3.12/dist-packages (from transformers) (3.19.1)\n",
            "Requirement already satisfied: numpy>=1.17 in /usr/local/lib/python3.12/dist-packages (from transformers) (2.0.2)\n",
            "Requirement already satisfied: packaging>=20.0 in /usr/local/lib/python3.12/dist-packages (from transformers) (25.0)\n",
            "Requirement already satisfied: pyyaml>=5.1 in /usr/local/lib/python3.12/dist-packages (from transformers) (6.0.2)\n",
            "Requirement already satisfied: regex!=2019.12.17 in /usr/local/lib/python3.12/dist-packages (from transformers) (2025.7.34)\n",
            "Requirement already satisfied: requests in /usr/local/lib/python3.12/dist-packages (from transformers) (2.32.4)\n",
            "Requirement already satisfied: tokenizers<0.22,>=0.21 in /usr/local/lib/python3.12/dist-packages (from transformers) (0.21.4)\n",
            "Requirement already satisfied: safetensors>=0.4.3 in /usr/local/lib/python3.12/dist-packages (from transformers) (0.6.2)\n",
            "Requirement already satisfied: psutil in /usr/local/lib/python3.12/dist-packages (from accelerate) (5.9.5)\n",
            "Requirement already satisfied: fsspec>=2023.5.0 in /usr/local/lib/python3.12/dist-packages (from huggingface-hub>=0.20.0->sentence-transformers) (2025.7.0)\n",
            "Requirement already satisfied: hf-xet<2.0.0,>=1.1.3 in /usr/local/lib/python3.12/dist-packages (from huggingface-hub>=0.20.0->sentence-transformers) (1.1.7)\n",
            "Requirement already satisfied: setuptools in /usr/local/lib/python3.12/dist-packages (from torch>=1.11.0->sentence-transformers) (75.2.0)\n",
            "Requirement already satisfied: sympy>=1.13.3 in /usr/local/lib/python3.12/dist-packages (from torch>=1.11.0->sentence-transformers) (1.14.0)\n",
            "Requirement already satisfied: networkx in /usr/local/lib/python3.12/dist-packages (from torch>=1.11.0->sentence-transformers) (3.5)\n",
            "Requirement already satisfied: jinja2 in /usr/local/lib/python3.12/dist-packages (from torch>=1.11.0->sentence-transformers) (3.1.6)\n",
            "Requirement already satisfied: charset_normalizer<4,>=2 in /usr/local/lib/python3.12/dist-packages (from requests->transformers) (3.4.3)\n",
            "Requirement already satisfied: idna<4,>=2.5 in /usr/local/lib/python3.12/dist-packages (from requests->transformers) (3.10)\n",
            "Requirement already satisfied: urllib3<3,>=1.21.1 in /usr/local/lib/python3.12/dist-packages (from requests->transformers) (2.5.0)\n",
            "Requirement already satisfied: certifi>=2017.4.17 in /usr/local/lib/python3.12/dist-packages (from requests->transformers) (2025.8.3)\n",
            "Requirement already satisfied: joblib>=1.2.0 in /usr/local/lib/python3.12/dist-packages (from scikit-learn->sentence-transformers) (1.5.1)\n",
            "Requirement already satisfied: threadpoolctl>=3.1.0 in /usr/local/lib/python3.12/dist-packages (from scikit-learn->sentence-transformers) (3.6.0)\n",
            "Requirement already satisfied: mpmath<1.4,>=1.1.0 in /usr/local/lib/python3.12/dist-packages (from sympy>=1.13.3->torch>=1.11.0->sentence-transformers) (1.3.0)\n",
            "Requirement already satisfied: MarkupSafe>=2.0 in /usr/local/lib/python3.12/dist-packages (from jinja2->torch>=1.11.0->sentence-transformers) (3.0.2)\n",
            "Downloading sentence_transformers-5.1.0-py3-none-any.whl (483 kB)\n",
            "\u001b[2K   \u001b[90m━━━━━━━━━━━━━━━━━━━━━━━━━━━━━━━━━━━━━━━━\u001b[0m \u001b[32m483.4/483.4 kB\u001b[0m \u001b[31m9.6 MB/s\u001b[0m eta \u001b[36m0:00:00\u001b[0m\n",
            "\u001b[?25hInstalling collected packages: sentence-transformers\n",
            "Successfully installed sentence-transformers-5.1.0\n"
          ]
        }
      ]
    },
    {
      "cell_type": "code",
      "source": [
        "from sentence_transformers import SentenceTransformer\n",
        "from transformers import pipeline\n",
        "\n",
        "# Embedding model (not strictly needed for extraction, but useful for later clustering)\n",
        "embedder = SentenceTransformer(\"all-MiniLM-L6-v2\")\n",
        "\n",
        "# Small open LLM for extraction (Flan-T5 is instruction-tuned)\n",
        "extractor = pipeline(\"text2text-generation\", model=\"google/flan-t5-base\")\n"
      ],
      "metadata": {
        "colab": {
          "base_uri": "https://localhost:8080/",
          "height": 735,
          "referenced_widgets": [
            "0a9dd795288b4e29972937b5c0bc44b5",
            "95fb2de4698343d0912e47ab7939afc0",
            "b037f1ef72234b8f81db179ddaaa2cce",
            "e018dbc1c2154ca194ec18aaa9047abb",
            "9147ded2c8814029a2f14c3657df7fb8",
            "7d7da9af4d1f450abbfe9b5416a90da8",
            "f123488189794dfd8d5c59e2cfa0aa40",
            "c31adb61ba1b44a78d458f12e5374be9",
            "311fee55e1ba4dd2a7bf9686e9f50549",
            "59d52c11e74a438485023cc6f8e0ae1e",
            "1414d643819d4d89a3547ed483ea0d54",
            "909225e237454582a5321bf86e1ff31a",
            "d09bbf17bebc418292db60b6f7a67ce7",
            "972eb74be7ba4edc861bf8dc3fb8ada5",
            "1e692f2617ed47818654c199f30607fc",
            "d76fcd54a59f4e49a6975c16942f607b",
            "1dd4bd7c046b4263a0cc19767f2d67c4",
            "a8205df4c64b41d8b55a9ca4dc7b7fb1",
            "98fb8c60cd9a4b8ca484814d8997fabf",
            "e5d38cdb53fb49639af7a119a329fa74",
            "eb7b8930efd94e6c936b001f57f14562",
            "1bd55038153b4b8b81c6bf894056dd6d",
            "46a0a292363c48ddae8d66b270299fac",
            "62c0bfb287e2486597f02ea7e6306ede",
            "cc419c4a5f6e409c982fdde632c4046f",
            "ec2bc8b2ad0d47a8951f4cb94c373cc9",
            "8ebdefedee834b739b9f204ad6bde11d",
            "10361859aac94c0cb9890dde3062e487",
            "aa047e70c74840da9d8e3199c6d60f65",
            "728e334f128f47a5bab8ef5b293f1503",
            "2d4fe73f82e0432cba7ee6402e15e282",
            "cc03c742941346e1a5acf173e19dfe06",
            "e3683d14f7874075b4acd2ce400fd832",
            "8200426059d44c238385add7a90f51c1",
            "c401e93db4d24e1ab861efc9d4f8e081",
            "778db5a8e0284b2dadbf07e15c2bd020",
            "e706ac2800d3408bba88404e7969048a",
            "8b418cb51bb44f76899b789b692c43df",
            "3cf8e8a5cd1d4c388bbefbc8893b2c1c",
            "99ef232f19f84327a318c9f74da57164",
            "5f6ece9cbe9a4c1c883e0e1910cf7e2f",
            "09c6899ecb954e809b2378c4347c8bfd",
            "073c5f73867744f0b82d29e4154be13d",
            "dbd3ada3a9064e65a6569aeee651092e",
            "71291bef2b7b4309bd2f3be903f22c67",
            "127d7d9cc1f441198decbd93b1a42dcd",
            "1c407c49a6d84d4787b876004b2ed437",
            "b1b9d10c72b74109b209b1522aa0774e",
            "210b8e1d84cc4f59b5d144da99ed9177",
            "9b82ca2ef1da4d1faae35702400c918e",
            "45f55882c98f4f43b1d25eafe9d53707",
            "6a1d1d187bfa4e96b75127557a6c6861",
            "39ee43f3e56849c2ba870a691eca8948",
            "d0fc6462c5494663a3fc2ed456642588",
            "9a360f59290745728f920fd0e0b57c91",
            "9f887bab02f641ee8ce1b934ad58c718",
            "314f4d919c9f4ea794218518ac411a3a",
            "5fd742a3251a4e78b0687cc69e6b8fc4",
            "df78c7d90b4843a0ab2a4bf61d6e722c",
            "18b50b1babfb45bb9c731c41dda6fc7e",
            "c458fd45d8cc45f1980815a8c07af202",
            "93e51840ceca44089384e7d0c5c681d2",
            "8fc52fee769740f8ad28471b71863ffa",
            "a796f94819bb45038f9d5fdc7246222f",
            "0f1767ae04fd4ca38c52be04d0adfb53",
            "7819dc307c70429babe30bb61d66b2e6",
            "ad988ad30c584e6a9a604143105d04a4",
            "ecfb90001dc44d6e8e73877cb1f36c25",
            "2424c57bbf6d4e7a86dd2aca909b7e47",
            "50a83bfd5170444a8016f3cfcff20e11",
            "1003a5cd7f6941e3b8683cdc93213e86",
            "0a2cb9a3fcde408d96d79ace2f5d5966",
            "e7a90b8ed29c42e4b5506a25d923550e",
            "930495274a3e4c6aade26bc67addc3cc",
            "67fdec0f4e924cec853fa2bb3f434b75",
            "a81ca18cd6884ffa94895843879ecba8",
            "ce32fd5f62e44fc18332856142f95671",
            "0cc9909d5df6416d8f7b054955bf92d3",
            "851d62ee79c0418aab1504f0b52a536e",
            "70229b2f1a714469aee4a3e2d8209d22",
            "daef968bb79d46379cfc718014cbc560",
            "23181c10fa9d4681ba8e26ed001ae45b",
            "dce6b820186b4218b315c5b79bf92c46",
            "985848ea5f1b4f08a8ad6625b5e93f6b",
            "724c8c18386743e98e12becb33315282",
            "79ca88c396354281be772bb93ef33e3c",
            "ddf16f3649c3492cbbf91f266c58af40",
            "a309423b02d847d191eb557ac8560662",
            "5cd721efe8674eeeaabebacd97bb801d",
            "06ca49e374c749db89ad59b6e74fa3c1",
            "696ce977fd8443849d235bf854d2ee4d",
            "9de59dedda4646b6a5e54f2e4b148768",
            "1ef970f80f6249ec83f34275dcb188f4",
            "32512c32c6c94374a37ac695f1e9d21b",
            "f8f90df5f9594d89a35442ba5fa3a520",
            "6ff6741a68924982b9c48c3614dd9d5e",
            "32a7214d7e004464a476b12cc7719493",
            "684004c5c15746d298a6b470da4a73ad",
            "ec8fc5c21081410a90696bf71d8456e6",
            "5ed0282f6ea34d7f9de044b5d19a7f52",
            "27c2020f89b44dc1b5f36a4529f0b041",
            "3da06ebf6d7549728fb2bbbcad4aa0e5",
            "26cc9039e3804c11b658068d58a27df0",
            "f6c819177b41406faac4664219779132",
            "5b78806e1f8f4b5e971ea4b129dac59e",
            "4a634b8245d94b25bef0b3f07640555f",
            "5ecffaa95723422c88c6101e7f78debb",
            "1a82ef8711034a6986cbd369af4c04f7",
            "1ce937bcdfc04bb396307f73f0bbcb0f",
            "99a362c076724dac9940f1fd3f666fba",
            "c020d24a1935416b8f1d228e872dd914",
            "a86a73fe09124b6d82b9acb50aa3f5ea",
            "3e530f00467e49adb996b2ca892f4563",
            "a9bb784352bf4cbf8d884a77d978191f",
            "7882da97487c49ab9c9f56fd05edb01e",
            "aa38c74200674b5c974dc28d37362dde",
            "30e9c390789c4143bb6168b9620f1571",
            "69f100cbf0114f91b6e5d9227f368781",
            "36a3311dcaad4c8587dc0ff9e69a70e6",
            "e8a8495ef5dc4a6294bf473ef1d9b96a",
            "d4b4d357b0df41f6a83b60738976aee9",
            "f6204069144241ac9479e9f317ee3043",
            "2fb441c490ce46488d31782d87f61aa8",
            "4fbf6c109ca34ec8a4149e4774cdb118",
            "1fd2a23bc27b4385bf23f1e520ea3685",
            "9dff71cdec5e462a80010a19e58147aa",
            "4060d4ef28bb45b2bb60405bc69bf64a",
            "9351298d3db64a3b9c7914d9b8cdbba0",
            "cbd8304d93df4e96bcb8c7de0655cce4",
            "9f0e1c1e0cd648b58f00dc5015a97869",
            "9a1ed24c5d6945df965e90a9d7b2e6c8",
            "5fd851f3ae7e4aa5b6ffa4593b5ca438",
            "1dcfb207b4c54216ac018b14146c77c8",
            "7f8b9841d3ac47ed92b80f8f8ae4596a",
            "ece84df0f6b7400cb401a4c80ebfc112",
            "badb7b3adda64fa9a6a3cecb94beec2e",
            "d79372aea76340649585225929154250",
            "4dddbfb2f1ee410d80a2b11c0826a1af",
            "54fb7153d71345f6bd343c85b0cfd287",
            "28cb9bab03d44918bc8f5516cac0e86b",
            "554ad76d54484caca1fb26d42e9a40c7",
            "3c027c68ae2c4e398f46cb29a4f0c074",
            "cf76b25725d54926bfe3dd354b47a823",
            "718b0df342574f7d96cc8f7b3307a02f",
            "8d22b5c6048c4504adca5c01b7376c46",
            "c74d9c16ab38459e947ce4137c104a9c",
            "4371a47fecb14906b5d1c271c16ecbac",
            "04b29b086f9b4bb3909af67efe87561a",
            "cc0e44db2189400e965352b9e884a68a",
            "4572076ca21f4ce29ee1ff0d39f0e9b2",
            "a1d47bc28f8542e4bdf7b776d02434c5",
            "f1e34dab3bf749ea88169586ba186688",
            "5f28a014d5bf41cd9d6db1d756439e53",
            "33118cba54384c5185c90f570eb5abfa",
            "4805d7c7532a47cc99b2ffe3ef8e04c5",
            "7438f2a7af28429b9c438694ccaf4ac7",
            "1a8c9ef43a7a4c22853e7dec9cfe321e",
            "0918e4cb864042c2a25ba872be613a05",
            "fe411df94c6242429a181eae0ce777e0",
            "c4c2348a3dd2461aa82033f92b645d1b",
            "e65765e49bb24621a4cb4fe9719b836a",
            "ff1eebfdebea48efa2fadb416bfa7f96",
            "839f08e269d04aeab3c9fc9fde418395",
            "64d54419088a413ca48f1bd02a2f4938",
            "2ddebd771b46406b9d0fe017120f4dfb",
            "83e197ae2cec49e6ad10c3959b0990f7",
            "6671fdf662244d5cbad22e34954c3e98",
            "83b9579375184b85a129574f1c796d11",
            "68cf325d9b1447e08215dfec233563ac",
            "b188092f4773428ca047812ba378abf1",
            "3fc01da6a2a3402f95fa7ff1d3e362d6",
            "2b7410394079442fa81a6a6d6ae5b838",
            "dfe32666869c4ac9a66963381f44f3fd",
            "95f7242a302f42ac985c8d74cfd1148e",
            "8ee9944f1f2c4025ae64c2a53c9172df",
            "c38de69677e641dfa84b40f2b8f2670d",
            "d68fbb0734614619977f17e4985a25de",
            "d2dc495fa3f64b648d7eec0a4b322bb7",
            "a3667c7670c9462995f5ee8faaf29147",
            "58dc904de4474e4ca5c45630284836ee",
            "6e5bd3493f254fa087fb4b9da28536d6",
            "7664fb20abc243e4b717ee8881395a44",
            "4d6396264d374e8db3a1b3562231f359",
            "287c045e8e13486aa7998b05c188aa98",
            "402b55aa979d4a258767b478b70dab42",
            "8f79465f19414d378eb66e380f84b31c",
            "bb3315f654f348b1938f38b4648d45f6",
            "ec307af76ab44af8aed04bae5b5d12c9",
            "60c40df5bd91410eb40f01e444ebe42a",
            "0442a93518af4d7b849f77802ecfc802",
            "e80dc90bf70c476885d9b71a78d4db28",
            "60fdf5d8281d449f88d2bb7593beb1ce",
            "15c7e0585c8944abb151398c738c6dc6",
            "69557fad7cbe4215a7182bee20c85105",
            "c70ba3116cb045868ba8f7f512f7666f",
            "be398ef39ec84095a4009f6cd9137a9e",
            "ac718870f4d94b189309618e4c2edecb",
            "a73fd26a9b4545e5a7ec0c2c2d175887"
          ]
        },
        "id": "t_PRBqwdtD76",
        "outputId": "08c53488-bd46-4279-ba4a-ad61afe4e294",
        "collapsed": true
      },
      "execution_count": 8,
      "outputs": [
        {
          "output_type": "stream",
          "name": "stderr",
          "text": [
            "/usr/local/lib/python3.12/dist-packages/huggingface_hub/utils/_auth.py:94: UserWarning: \n",
            "The secret `HF_TOKEN` does not exist in your Colab secrets.\n",
            "To authenticate with the Hugging Face Hub, create a token in your settings tab (https://huggingface.co/settings/tokens), set it as secret in your Google Colab and restart your session.\n",
            "You will be able to reuse this secret in all of your notebooks.\n",
            "Please note that authentication is recommended but still optional to access public models or datasets.\n",
            "  warnings.warn(\n"
          ]
        },
        {
          "output_type": "display_data",
          "data": {
            "text/plain": [
              "modules.json:   0%|          | 0.00/349 [00:00<?, ?B/s]"
            ],
            "application/vnd.jupyter.widget-view+json": {
              "version_major": 2,
              "version_minor": 0,
              "model_id": "0a9dd795288b4e29972937b5c0bc44b5"
            }
          },
          "metadata": {}
        },
        {
          "output_type": "display_data",
          "data": {
            "text/plain": [
              "config_sentence_transformers.json:   0%|          | 0.00/116 [00:00<?, ?B/s]"
            ],
            "application/vnd.jupyter.widget-view+json": {
              "version_major": 2,
              "version_minor": 0,
              "model_id": "909225e237454582a5321bf86e1ff31a"
            }
          },
          "metadata": {}
        },
        {
          "output_type": "display_data",
          "data": {
            "text/plain": [
              "README.md: 0.00B [00:00, ?B/s]"
            ],
            "application/vnd.jupyter.widget-view+json": {
              "version_major": 2,
              "version_minor": 0,
              "model_id": "46a0a292363c48ddae8d66b270299fac"
            }
          },
          "metadata": {}
        },
        {
          "output_type": "display_data",
          "data": {
            "text/plain": [
              "sentence_bert_config.json:   0%|          | 0.00/53.0 [00:00<?, ?B/s]"
            ],
            "application/vnd.jupyter.widget-view+json": {
              "version_major": 2,
              "version_minor": 0,
              "model_id": "8200426059d44c238385add7a90f51c1"
            }
          },
          "metadata": {}
        },
        {
          "output_type": "display_data",
          "data": {
            "text/plain": [
              "config.json:   0%|          | 0.00/612 [00:00<?, ?B/s]"
            ],
            "application/vnd.jupyter.widget-view+json": {
              "version_major": 2,
              "version_minor": 0,
              "model_id": "71291bef2b7b4309bd2f3be903f22c67"
            }
          },
          "metadata": {}
        },
        {
          "output_type": "display_data",
          "data": {
            "text/plain": [
              "model.safetensors:   0%|          | 0.00/90.9M [00:00<?, ?B/s]"
            ],
            "application/vnd.jupyter.widget-view+json": {
              "version_major": 2,
              "version_minor": 0,
              "model_id": "9f887bab02f641ee8ce1b934ad58c718"
            }
          },
          "metadata": {}
        },
        {
          "output_type": "display_data",
          "data": {
            "text/plain": [
              "tokenizer_config.json:   0%|          | 0.00/350 [00:00<?, ?B/s]"
            ],
            "application/vnd.jupyter.widget-view+json": {
              "version_major": 2,
              "version_minor": 0,
              "model_id": "ad988ad30c584e6a9a604143105d04a4"
            }
          },
          "metadata": {}
        },
        {
          "output_type": "display_data",
          "data": {
            "text/plain": [
              "vocab.txt: 0.00B [00:00, ?B/s]"
            ],
            "application/vnd.jupyter.widget-view+json": {
              "version_major": 2,
              "version_minor": 0,
              "model_id": "0cc9909d5df6416d8f7b054955bf92d3"
            }
          },
          "metadata": {}
        },
        {
          "output_type": "display_data",
          "data": {
            "text/plain": [
              "tokenizer.json: 0.00B [00:00, ?B/s]"
            ],
            "application/vnd.jupyter.widget-view+json": {
              "version_major": 2,
              "version_minor": 0,
              "model_id": "5cd721efe8674eeeaabebacd97bb801d"
            }
          },
          "metadata": {}
        },
        {
          "output_type": "display_data",
          "data": {
            "text/plain": [
              "special_tokens_map.json:   0%|          | 0.00/112 [00:00<?, ?B/s]"
            ],
            "application/vnd.jupyter.widget-view+json": {
              "version_major": 2,
              "version_minor": 0,
              "model_id": "5ed0282f6ea34d7f9de044b5d19a7f52"
            }
          },
          "metadata": {}
        },
        {
          "output_type": "display_data",
          "data": {
            "text/plain": [
              "config.json:   0%|          | 0.00/190 [00:00<?, ?B/s]"
            ],
            "application/vnd.jupyter.widget-view+json": {
              "version_major": 2,
              "version_minor": 0,
              "model_id": "c020d24a1935416b8f1d228e872dd914"
            }
          },
          "metadata": {}
        },
        {
          "output_type": "display_data",
          "data": {
            "text/plain": [
              "config.json: 0.00B [00:00, ?B/s]"
            ],
            "application/vnd.jupyter.widget-view+json": {
              "version_major": 2,
              "version_minor": 0,
              "model_id": "f6204069144241ac9479e9f317ee3043"
            }
          },
          "metadata": {}
        },
        {
          "output_type": "display_data",
          "data": {
            "text/plain": [
              "model.safetensors:   0%|          | 0.00/990M [00:00<?, ?B/s]"
            ],
            "application/vnd.jupyter.widget-view+json": {
              "version_major": 2,
              "version_minor": 0,
              "model_id": "1dcfb207b4c54216ac018b14146c77c8"
            }
          },
          "metadata": {}
        },
        {
          "output_type": "display_data",
          "data": {
            "text/plain": [
              "generation_config.json:   0%|          | 0.00/147 [00:00<?, ?B/s]"
            ],
            "application/vnd.jupyter.widget-view+json": {
              "version_major": 2,
              "version_minor": 0,
              "model_id": "718b0df342574f7d96cc8f7b3307a02f"
            }
          },
          "metadata": {}
        },
        {
          "output_type": "display_data",
          "data": {
            "text/plain": [
              "tokenizer_config.json: 0.00B [00:00, ?B/s]"
            ],
            "application/vnd.jupyter.widget-view+json": {
              "version_major": 2,
              "version_minor": 0,
              "model_id": "4805d7c7532a47cc99b2ffe3ef8e04c5"
            }
          },
          "metadata": {}
        },
        {
          "output_type": "display_data",
          "data": {
            "text/plain": [
              "spiece.model:   0%|          | 0.00/792k [00:00<?, ?B/s]"
            ],
            "application/vnd.jupyter.widget-view+json": {
              "version_major": 2,
              "version_minor": 0,
              "model_id": "83e197ae2cec49e6ad10c3959b0990f7"
            }
          },
          "metadata": {}
        },
        {
          "output_type": "display_data",
          "data": {
            "text/plain": [
              "tokenizer.json: 0.00B [00:00, ?B/s]"
            ],
            "application/vnd.jupyter.widget-view+json": {
              "version_major": 2,
              "version_minor": 0,
              "model_id": "d68fbb0734614619977f17e4985a25de"
            }
          },
          "metadata": {}
        },
        {
          "output_type": "display_data",
          "data": {
            "text/plain": [
              "special_tokens_map.json: 0.00B [00:00, ?B/s]"
            ],
            "application/vnd.jupyter.widget-view+json": {
              "version_major": 2,
              "version_minor": 0,
              "model_id": "ec307af76ab44af8aed04bae5b5d12c9"
            }
          },
          "metadata": {}
        },
        {
          "output_type": "stream",
          "name": "stderr",
          "text": [
            "Device set to use cpu\n"
          ]
        }
      ]
    },
    {
      "cell_type": "code",
      "source": [
        "schema_fields = [\n",
        "    \"previous_experience\",\n",
        "    \"set_and_setting\",\n",
        "    \"before_after_changes\",\n",
        "    \"extraordinary_thinking\",\n",
        "    \"combination_with_other_substances\",\n",
        "    \"intention\",\n",
        "    \"experience_phases\",\n",
        "    \"onset_description\",\n",
        "    \"perceived_realness\",\n",
        "    \"objective_elements\",\n",
        "    \"entities_or_other_beings\",\n",
        "    \"childhood_trauma\",\n",
        "    \"time_relation\",\n",
        "    \"sex_effects\",\n",
        "    \"self_love_experience\",\n",
        "    \"semantic_relations\",\n",
        "    \"year_of_experience\",\n",
        "    \"most_important_element\"\n",
        "]\n",
        "\n",
        "def make_prompt(report):\n",
        "    return f\"\"\"\n",
        "Extract the following DMT trip report into JSON with these fields:\n",
        "{\", \".join(schema_fields)}.\n",
        "If a field is not mentioned, return null.\n",
        "fill it summerise as possible\n",
        "\n",
        "Report: {report}\n",
        "\"\"\"\n"
      ],
      "metadata": {
        "id": "76IaWUyltWcF"
      },
      "execution_count": 13,
      "outputs": []
    },
    {
      "cell_type": "code",
      "source": [
        "report = \"\"\"\n",
        "I decided to try Ayahuasca for the first time under the supervision of my partner, E, who has a lot of experience. I have a good deal of experience with all classes of drugs in general, and with psychedelics I am particularly experienced with LSD, psilocybin mushrooms, 2C-B, 2C-D, Mescaline, 5-MeO-DMT, 5-MeO-DiPT, and DMT. I've experienced DMT vaporized but I haven't really gotten much out of vaporizing it. My most meaningful and clear DMT experiences have been with IV and IM administration.\n",
        "\n",
        "However, I have been interested in ayahuasca for quite a long time and didn't really feel like it was right until I met E, who has had significant experience with it and with whom I feel safe and comfortable taking powerful psychedelics. We have explored quite a few psychedelics together, but have more recently gotten into holding space for each other. This would be one of the first times that E was going to be holding space for me.\n",
        "\n",
        "We had originally planned for a one-night experience, but after the first night, I felt called to do it again, so this report has the report from day 1 and day 2.\n",
        "We had originally planned for a one-night experience, but after the first night, I felt called to do it again, so this report has the report from day 1 and day 2.\n",
        "In preparation for these experiences, I abstained from stimulants for 2 weeks, cut most dairy, sugar, and excessive salt out of my diet and ate mostly vegan. I use a small amount of kratom daily as a coffee replacement, and I also cut this back to about 1 gram per day from 2.5-3g that I usually take. I also abstained from any other mind-altering substances such as alcohol or cannabis. I did use .1mg of clonidine on occasion for sleep, but I didn't see any information regarding potential interactions with DMT. On the day before my experience, I did some journaling about my intentions and then following the experience I did some journaling to help me record my mindset going into the experience as well as record the experience so that I could refer back to it during the integration phase.\n",
        "\n",
        "For the DMT dosing, E provided me a Caapi extract that contains 210mg of Tetrahydroharmine (THH) and 210mg of Harmine per dose, and we converted pure Freebase DMT into DMT Fumarate using Fumaric Acid via guides on The Nexus. On Day 1, I don't have very exact time stamps because E and I didn't think they would be necessary, but on Day 2 E decided to take detailed time-stamped notes because of the unusually large dose I decided to take.\n",
        "\n",
        "Ayahuasca Day 1\n",
        "\n",
        "Pre-Ayahuasca Journaling\n",
        "\n",
        "In some ways, it’s felt like the experience has been subtly rippling backwards through time since we set the date about two weeks back. I have noticed this in the way I’m feeling about doing other drugs (less desire for them, they’re not really “doing it” for me like usual), in introspection and spending time with old feelings, and a general sense of calm and well being.\n",
        "\n",
        "The way some events have fallen around this time has been pretty serendipitous too... first my mom coming through and bringing me boxes of things from my childhood to sort, then receiving some of my past belongings from my former partner... a very physical manifestation of baggage from my past that needs to be sorted and purged. It almost feels like a given that this is what my experience is likely to center around. It does still seem wise to reflect on some intentions.\n",
        "\n",
        "• Something that is very present for me right now: The physical manifestation of the baggage from my past\n",
        "• I have concerns about: difficult things coming up and not feeling “resolved” by the end of the experience... when I say this, I’m referencing a previous IM DMT experience where emotional abuse & sexual manipulation came up and it left me in a pretty fragile state for a while.\n",
        "• I am curious about: What it will be like to be in a DMT-type space for so long, and what the MAOIs will add to it.\n",
        "• I am inspired now to create: a clean, peaceful, beautiful space in which to enjoy the journey.\n",
        "• I am inspired to let go of: patterns, beliefs, and feelings from the past that no longer serve me.\n",
        "• In this moment I deeply desire and long for: feelings of peace and clarity about my life, and the wisdom, patience, and compassion to navigate relationships with those who have unintentionally hurt me in the past.\n",
        "• My intention: to release baggage, ill-will, fear, and insecurity. To trust the process and that all is going as it should. To feel the love that surrounds me. To experience forgiveness for others and for myself. To live in peace and help others do the same.\n",
        "\n",
        "Post-Ayahuasca Journaling\n",
        "\n",
        "t-0:20 - I took the MAOI in grapefruit juice, and laid down with an eye mask. I started to feel some mild but pleasant sensations of warmth and comfort.\n",
        "\n",
        "t+0:00 - I took the 50mg DMT Fumarate capsule. It wasn’t long before I started to experience a sensation in my stomach... I believe when the capsule was penetrated and the contents met the rest of my stomach. It wasn’t nausea (I didn’t really experience much in the way of nausea the entire night), but it was a burning kind of sensation that reminded me a bit of the initial stages of food poisoning.\n",
        "\n",
        "I continued to pay attention to the sensations in my body and soon I began to have the initial, dim closed eye visuals that happen at the very beginning of a DMT trip. The visuals progressed quickly and before long I was fully immersed in the DMT visuals in a way that felt almost indistinguishable from IM (at doses around 40mg). This went on for a time, maybe 20 minutes (?). There was one point where I experienced a feminine presence(s) that told me they were there to help me.\n",
        "\n",
        "t+0:20-0:50(?) - Things started to slow down a little bit from the immersive DMT space, and I started to experience many different times & experiences from my childhood. The trip really focused on how those past experiences felt, how alone and on my own I was back then, and I started to feel extreme feelings of rage, grief, loneliness, etc. Some of the feelings, the anger & grief specifically, I felt like I experienced/embodied in almost a 3-dimensional kind of way, like a new embodied version of those emotions I'd never felt before, but I can't find precise words to explain what I mean by the 3-dimensional feeling of emotions. They were very intense and difficult emotions but it also felt really good to feel them and I welcomed them.\n",
        "\n",
        "Then I experienced things more from my parents’ perspective, and how their situations growing up, their parents situations, etc. led to this and how they were all victims too. (I think this was around the time I started crying) I felt a desire to break this chain of suffering and I felt a lot of conviction around my decision not to have children.\n",
        "\n",
        "Around that time I was feeling a lot of really intense grief and sadness and loss, for myself and also for them. I also spent some time thinking about an estranged brother... the things he went through in childhood and how difficult that must have been for him and how alone he probably felt too. I experienced grief that he wasn’t in my life but understanding and empathy for why he didn’t want anything to do with our family. I wished him the peace and healing that he needs.\n",
        "\n",
        "I had the desire to let go of some of the hurt and suffering from childhood and I felt forgiveness towards my brother, my parents, and myself. I also spent some time feeling really deep love and empathy for my childhood self. I promised her that she never had to be alone again and she never had to feel that way again.\n",
        "\n",
        "t+1:00 - I think this was about the time I took the booster capsule (35mg), though I never noticed any additional effects.\n",
        "There was a bit of a break where I was listening to the icaros that were playing through the speaker in our room... my visuals were much fainter by this point, but they were beautiful and intricate and it felt like the song WAS the visuals.\n",
        "\n",
        "After a time, I started to go back into the experience. For a little while, things started to turn towards my relationship with my ex-partner. I experienced parts of the early times in our relationship and I felt a lot of anger and disgust towards him. I started to feel a little bit around what his childhood was like. However, it didn’t last very long... it almost felt like my relationship with my ex-partner is such a mountain of things to feel and untangle, and there were some other things I had to get through before I could turn my full attention to it. Instead, I began to focus my attention on one of my oldest best friends. Lots of grief and anger and confusion. How completely in love I was with her and how cold she was and frequently totally shut down towards me. The confusion of the really warm and intimate times we would have followed rapidly by her taking out her anger on me (and her partner, whoever that was at the time). Reflecting now, it almost feels a bit similar to a pattern with my mom... of course I was never anywhere near as close to my mom as I was to my best friend, but I can see a kind of similar dynamic where she would occasionally tell me things like “you can tell me anything” or have a random small moment of affection but then right back to shutting me out and rejecting me. It felt really hurtful and inconsistent and confusing.\n",
        "\n",
        "t+3:00 - After I processed these different relationships, the trip was definitely dying down at this point and it was getting more difficult to stay focused and feel the feelings, but I also experienced a lot of empathy for the things my best friend has been through in her life that have brought these things out in her, and forgave her. I explored what it might feel like to let go of any expectations around that relationship, and let go of having to always be the one to come back and reach out and make the effort to be there... but, I realized that I’m not ready to do that, I’m not sure if I’ll ever be ready to do that, and I forgave myself for that and appreciated the part of myself that doesn’t give up on the people I love.\n",
        "\n",
        "The whole experience felt very cathartic. I feel like a made a lot of progress, but also that there is a lot of work left to do, which is why I am strongly considering doing it again. I would like the opportunity to address my time with my ex-partner... I think it might also be good for me to spend some time with the early days of my relationship with E.\n",
        "\n",
        "t+4:30 - At the end of the trip, I was exhausted in a way that felt like I was on the tail end of being on a very large dose of stimulants. I was concerned about being able to sleep... I took 2 skullcap extract tablets and .1mg clonidine, but had a very difficult time falling asleep. I ended up taking another .1mg of clonidine at some point and finally managed to drift off, but all night I was dreaming about ayahuasca... mainly in the dreams, I was trying to have another experience to finish what I started but the medicine wasn’t working.\n",
        "\n",
        "I woke up around 6:30 after around 5 hours of sleep feeling a lot of inflammation in my body, especially in my sinuses. I still felt pretty physically restless and tired but I’ve taken some ibuprofen and I’m drinking a lot of water.\n",
        "\n",
        "Ayahuasca day 2\n",
        "\n",
        "Pre-Ayahuasca Journaling\n",
        "\n",
        "I have decided to do this again today because I didn’t feel like I finished everything I needed to yesterday.\n",
        "\n",
        "I would appreciate the opportunity to process some things around my time with my ex-partner... but I am also remaining open to whatever comes up.\n",
        "\n",
        "• Something that is very present for me right now: physical tiredness\n",
        "• I have concerns about: bypassing or dissociating instead of integrating my feelings\n",
        "• I am curious about: how today’s experience might differ from yesterday’s\n",
        "• I am inspired now to create: space to feel\n",
        "• I am inspired to let go of: expectations for myself around what I should be accomplishing through this experience\n",
        "• In this moment I deeply desire and long for: patience with myself\n",
        "• My intention: to allow myself to feel things for as long as I need to, and not try to rush myself through the process.\n",
        "\n",
        "Notes from Day 2 Ayahuasca experience: The following is a mix of my notes the day after the experience, and time stamps/notes that E took for me while she was sitting for me. Notes in quotes are from E's notes and the rest is from my journaling. E used the letter \"O\" to refer to me.\n",
        "\n",
        "t-0:20 - Dosed THH + Harmine in grapefruit juice.\n",
        "\n",
        "t+:0:00 - Dosed 60mg DMT Fumarate in gel cap.\n",
        "\n",
        "t+0:20 - \"20 minutes after taking DMT, O was worried about whether she should be feeling the DMT yet. Reassured her she had plenty of time before feeling it (45 minutes is come on time).\"\n",
        "\n",
        "*To start my notes, I want to circle back around to the dream I mentioned that I had last night after my first session. That dream turned out to be not just a dream but a startlingly accurate vision of the first part of what happened on night 2.*\n",
        "\n",
        "I was feeling more restless and anxious this time around, very eager for it to start. I kept waiting and waiting but not much was happening and I was becoming increasingly frustrated (this was the part I had seen in the dream). I wondered if my brain somehow had the ability to subconsciously block the effects of the medicine. There were some mild and subtle signs that I was altered, but I wasn’t getting any visuals or any of what I would consider the DMT part of the experience.\n",
        "There were some mild and subtle signs that I was altered, but I wasn’t getting any visuals or any of what I would consider the DMT part of the experience.\n",
        "\n",
        "\n",
        "t+1:30 - \"O took another 210mg THH, 210mg Harmine, and an additional 20mg Harmaline because she hadn’t noticed any psychedelic effect. She also requested another dose of 60mg DMT Fumarate, which was administered at t+1:45.\"\n",
        "\n",
        "I decided to redose with the same dose I started with, plus some harmaline. This time, things started to happen pretty quickly though the true peak still took a little while to fully come on and it was still different from the first night. The first night, the initial peak was indistinguishable from IM DMT, but this time the visual/immersive effects were dulled somewhat (though went on for muuuch longer).\n",
        "\n",
        "t+2:00 - \"O said there were more peak-like effects starting but it felt less than day 1.\"\n",
        "\n",
        "T+2:14 - \"O seems more restless, taking deeper breaths, fidgeting more. Looks struggling to get comfortable, breathing heavy. Right arm moving around a lot. Both arms out.\"\n",
        "\n",
        "It was around this time (2 hrs, 14 min into the night, according to E's log) that things began to get extremely difficult and uncomfortable. The feeling was like something was trying to rip my mind away from my body. It was ceaseless and so completely overstimulating. It didn’t let up ever for even a second, for hours. I felt like I was fighting for my mind and I couldn’t relax or let my guard down ever. In addition, there was so much energy and tension in my body that I kept thrashing and writhing around and couldn’t get comfortable. My hands kept trying to wander away and take my mind with them. E kept returning them to my core and telling me to stay with my body and return to my breath. This was very helpful and I clung to that advice and used my breath to help keep me anchored. I had to remind myself over and over and over again.\n",
        "\n",
        "At one point E put some pressure on my body and that felt really soothing.\n",
        "\n",
        "Sometimes she would spritz me with the scented water and that was also really helpful... the cool mist hitting my skin gave me another anchor.\n",
        "\n",
        "T+2:25 - \"movements have calmed down a bit, deep sighs and heavy breaths are still happening.\"\n",
        "\n",
        "T+2:57 - \"knees pulled close to chest, heavy breathing, sighing. Then some stillness. Looks like some fighting has eased. Then resuming heavy short breaths.\"\n",
        "\n",
        "T+3:22 - \"turned face down towards elbow, covering eyes with hand, holding onto eye mask. Labored short breaths continuing.\"\n",
        "\n",
        "Sometime during all of this, I’m not sure exactly when, time gets a little confusing, I was having a very vivid and consuming DMT experience that went on for some time and continued to linger through the very end... I don’t really even know how to describe it. It involved “joisting”, and word that repeated itself in my head over and over again, there was “vanquishing”... victory and glory and hype and colors and sound and energy. Almost psychedelic Mad-Max.\n",
        "\n",
        "After this point, the order of my experience is a bit unclear so I'll write the most of my memory of it after the E's timestamps.\n",
        "\n",
        "T+3:28 - \"having some hand holding.\"\n",
        "\n",
        "T+3:31 - \"right hand “claw” made an appearance again briefly.\"\n",
        "\n",
        "T+4:00 - \"calming down a bit but still not verbal. Still taking deep sudden breaths.\"\n",
        "\n",
        "T+4:24 - \"calming down more, drinking water, still having moments of deep forceful breaths, like she’s not getting enough air. Still not much verbal ability.\"\n",
        "\n",
        "T+5:00 - \"purge, and then gradual coming down.\"\n",
        "\n",
        "At some point (again, the order of events is very foggy), I finally purged which felt really good to do. It felt like flushing a lot of old toxic shit out.\n",
        "\n",
        "T+5:46 - \"not fully down, slight headache and not fully verbal but able to make requests. Eye mask back on due to light sensitivity. Some chocolate and some banana eaten. Sipping on water autonomously since purge.\"\n",
        "\n",
        "T+6:06 - \"went to bathroom with some assistance\"\n",
        "\n",
        "T6:21 - \"She’s laughing and cracking jokes again\"\n",
        "\n",
        "Remainder of my notes from T+3:28 onward:\n",
        "\n",
        "There were a couple times when I opened my eyes and E's cat was there, staring deeply into my soul, and this helped anchor me too. She really felt like E’s familiar.\n",
        "\n",
        "There finally came a time when the fighting was fractionally less intense (though still a constant struggle). I was able to turn towards E and use her presence to keep me tethered. She was SO rock solid and steady and unwavering and I felt an overwhelming love and gratefulness towards her. This is when the lessons started.\n",
        "\n",
        "I could feel my relationship and trust with E healing old attachment wounds. It was so beautiful. I was taught a lot about being present with my emotions and allowing myself to feel them and be present with them. I was shown that I don’t often feel safe experiencing anger, but that it can be a valuable emotion.\n",
        "I was taught about asking for what I need.\n",
        "I was taught about sharing my feelings with E (and in general).\n",
        "I was taught about patience with myself.\n",
        "I was taught about patience with E. I had this realization that when E says she’s working on something about herself, I can trust that she’s doing it on her timeline and I don’t need to worry about whether it’s going to happen... I just need to have patience and trust that it will. She is a true partner and she’s holding down her side.\n",
        "\n",
        "I also really grokked what often says about making this relationship a safe harbor, and about being on the same team.\n",
        "I had a good look at the part of myself that picks fights sometimes.\n",
        "\n",
        "All these beautiful lessons and E showing up for me so hard during the entire experience. She always knew exactly what to do or say and I just felt her solid presence the whole time like an absolute rock. So beautiful it makes me want to cry. I can only hope to come anywhere close to giving her the same gift one day.\n",
        "\n",
        "Anyway... by this point I was exhausted. I was still struggling consistently to keep my mind and not slip back into the chaotic DMT space, but the struggle was becoming less intense. The energy and restlessness was still there but not as bad. I had a pretty bad headache at this point and was very light sensitive. I really wanted to put my eyemask on, but being able to make eye contact with E was the main thing keeping me anchored and I was so afraid that if I closed my eyes I would slip away again.\n",
        "\n",
        "E kept telling me I needed to eat and made me some soup, but I was really struggling. My stomach didn’t want food and the soup was making me queasy. Blueberries were easier but I was so exhausted that eating them was very difficult. Finally E ended up spooning the soup into my mouth which was very sweet and helpful, I’m not sure if I could have gotten it down otherwise.\n",
        "\n",
        "After this we cuddled, which felt really nice.\n",
        "\n",
        "As I was finally coming down from the experience, E showed me a poem that resonated so deeply...\n",
        "\n",
        "“Sleeping With You\n",
        "\n",
        "Is there anything more wonderful?\n",
        "After we have floundered through our separate pain\n",
        "we come to this. I bind myself to you, like otters wrapped in kelp, so the current will not steal us as we sleep.\n",
        "Through the night we turn together, rocked in the shallow surf, pebbles polished by the sea.\n",
        "\n",
        "-Ellen Bass”\n",
        "\n",
        "It has me considering ways to incorporate otters into my tattoo sleeve. (Before this experience, I wondered if I might come out of it with some kind of idea about what I wanted to symbolize on that arm.)\n",
        "\n",
        "Sleep was not coming to me and I spent more time thrashing. At this point it was around 4am and I was giving up hope of any sleep at all. E finally convinced me to get up and do some yoga, and that was really helpful. She was right that my body was able to settle down after that and eventually I did fall asleep for about an hour and a half, before I got hungry and got up to eat and shower and journal. Even at 7-8am, I was still getting mild waves of flickery light and unsteadiness. I am feeling surprisingly ok though so far on 1.5 hrs of sleep, though I imagine I’ll need to nap later. It’s almost 9 now and I’m still experiencing frequent waves of restless energy, I may need to do more yoga.\n",
        "\n",
        "Overall I am feeling profoundly grateful and at peace and present.\n",
        "\n",
        "~.~.~\n",
        "\n",
        "Even with the severe lack of sleep, I've had a surprising amount of energy pretty consistently throughout the day following my second dosing session. I started to get pretty sleepy around 6pm, but it's now almost 9 and I'm feeling pretty energetic again. Hopefully I can get some sleep tonight since I've got work in the morning.\n",
        "\n",
        "I can definitely see wanting to experience this medicine again, though I imagine it may be 3-5 years out.\n",
        "\n",
        "\n",
        "\n",
        "\n",
        "\"\"\"\n",
        "\n",
        "prompt = make_prompt(report)\n",
        "result = extractor(prompt, max_new_tokens=512)\n",
        "\n",
        "print(result[0]['generated_text'])\n"
      ],
      "metadata": {
        "colab": {
          "base_uri": "https://localhost:8080/",
          "height": 393
        },
        "id": "cHipJQnDtfBZ",
        "outputId": "05a93a37-0d0e-45c0-fabf-c198f3e5d4bf"
      },
      "execution_count": 7,
      "outputs": [
        {
          "output_type": "stream",
          "name": "stderr",
          "text": [
            "Token indices sequence length is longer than the specified maximum sequence length for this model (5453 > 512). Running this sequence through the model will result in indexing errors\n"
          ]
        },
        {
          "output_type": "error",
          "ename": "KeyboardInterrupt",
          "evalue": "",
          "traceback": [
            "\u001b[0;31m---------------------------------------------------------------------------\u001b[0m",
            "\u001b[0;31mKeyboardInterrupt\u001b[0m                         Traceback (most recent call last)",
            "\u001b[0;32m/tmp/ipython-input-3886953749.py\u001b[0m in \u001b[0;36m<cell line: 0>\u001b[0;34m()\u001b[0m\n\u001b[1;32m    179\u001b[0m \u001b[0;34m\u001b[0m\u001b[0m\n\u001b[1;32m    180\u001b[0m \u001b[0mprompt\u001b[0m \u001b[0;34m=\u001b[0m \u001b[0mmake_prompt\u001b[0m\u001b[0;34m(\u001b[0m\u001b[0mreport\u001b[0m\u001b[0;34m)\u001b[0m\u001b[0;34m\u001b[0m\u001b[0;34m\u001b[0m\u001b[0m\n\u001b[0;32m--> 181\u001b[0;31m \u001b[0mresult\u001b[0m \u001b[0;34m=\u001b[0m \u001b[0mextractor\u001b[0m\u001b[0;34m(\u001b[0m\u001b[0mprompt\u001b[0m\u001b[0;34m,\u001b[0m \u001b[0mmax_new_tokens\u001b[0m\u001b[0;34m=\u001b[0m\u001b[0;36m512\u001b[0m\u001b[0;34m)\u001b[0m\u001b[0;34m\u001b[0m\u001b[0;34m\u001b[0m\u001b[0m\n\u001b[0m\u001b[1;32m    182\u001b[0m \u001b[0;34m\u001b[0m\u001b[0m\n\u001b[1;32m    183\u001b[0m \u001b[0mprint\u001b[0m\u001b[0;34m(\u001b[0m\u001b[0mresult\u001b[0m\u001b[0;34m[\u001b[0m\u001b[0;36m0\u001b[0m\u001b[0;34m]\u001b[0m\u001b[0;34m[\u001b[0m\u001b[0;34m'generated_text'\u001b[0m\u001b[0;34m]\u001b[0m\u001b[0;34m)\u001b[0m\u001b[0;34m\u001b[0m\u001b[0;34m\u001b[0m\u001b[0m\n",
            "\u001b[0;32m/usr/local/lib/python3.12/dist-packages/transformers/pipelines/text2text_generation.py\u001b[0m in \u001b[0;36m__call__\u001b[0;34m(self, *args, **kwargs)\u001b[0m\n\u001b[1;32m    189\u001b[0m         \"\"\"\n\u001b[1;32m    190\u001b[0m \u001b[0;34m\u001b[0m\u001b[0m\n\u001b[0;32m--> 191\u001b[0;31m         \u001b[0mresult\u001b[0m \u001b[0;34m=\u001b[0m \u001b[0msuper\u001b[0m\u001b[0;34m(\u001b[0m\u001b[0;34m)\u001b[0m\u001b[0;34m.\u001b[0m\u001b[0m__call__\u001b[0m\u001b[0;34m(\u001b[0m\u001b[0;34m*\u001b[0m\u001b[0margs\u001b[0m\u001b[0;34m,\u001b[0m \u001b[0;34m**\u001b[0m\u001b[0mkwargs\u001b[0m\u001b[0;34m)\u001b[0m\u001b[0;34m\u001b[0m\u001b[0;34m\u001b[0m\u001b[0m\n\u001b[0m\u001b[1;32m    192\u001b[0m         if (\n\u001b[1;32m    193\u001b[0m             \u001b[0misinstance\u001b[0m\u001b[0;34m(\u001b[0m\u001b[0margs\u001b[0m\u001b[0;34m[\u001b[0m\u001b[0;36m0\u001b[0m\u001b[0;34m]\u001b[0m\u001b[0;34m,\u001b[0m \u001b[0mlist\u001b[0m\u001b[0;34m)\u001b[0m\u001b[0;34m\u001b[0m\u001b[0;34m\u001b[0m\u001b[0m\n",
            "\u001b[0;32m/usr/local/lib/python3.12/dist-packages/transformers/pipelines/base.py\u001b[0m in \u001b[0;36m__call__\u001b[0;34m(self, inputs, num_workers, batch_size, *args, **kwargs)\u001b[0m\n\u001b[1;32m   1456\u001b[0m             )\n\u001b[1;32m   1457\u001b[0m         \u001b[0;32melse\u001b[0m\u001b[0;34m:\u001b[0m\u001b[0;34m\u001b[0m\u001b[0;34m\u001b[0m\u001b[0m\n\u001b[0;32m-> 1458\u001b[0;31m             \u001b[0;32mreturn\u001b[0m \u001b[0mself\u001b[0m\u001b[0;34m.\u001b[0m\u001b[0mrun_single\u001b[0m\u001b[0;34m(\u001b[0m\u001b[0minputs\u001b[0m\u001b[0;34m,\u001b[0m \u001b[0mpreprocess_params\u001b[0m\u001b[0;34m,\u001b[0m \u001b[0mforward_params\u001b[0m\u001b[0;34m,\u001b[0m \u001b[0mpostprocess_params\u001b[0m\u001b[0;34m)\u001b[0m\u001b[0;34m\u001b[0m\u001b[0;34m\u001b[0m\u001b[0m\n\u001b[0m\u001b[1;32m   1459\u001b[0m \u001b[0;34m\u001b[0m\u001b[0m\n\u001b[1;32m   1460\u001b[0m     \u001b[0;32mdef\u001b[0m \u001b[0mrun_multi\u001b[0m\u001b[0;34m(\u001b[0m\u001b[0mself\u001b[0m\u001b[0;34m,\u001b[0m \u001b[0minputs\u001b[0m\u001b[0;34m,\u001b[0m \u001b[0mpreprocess_params\u001b[0m\u001b[0;34m,\u001b[0m \u001b[0mforward_params\u001b[0m\u001b[0;34m,\u001b[0m \u001b[0mpostprocess_params\u001b[0m\u001b[0;34m)\u001b[0m\u001b[0;34m:\u001b[0m\u001b[0;34m\u001b[0m\u001b[0;34m\u001b[0m\u001b[0m\n",
            "\u001b[0;32m/usr/local/lib/python3.12/dist-packages/transformers/pipelines/base.py\u001b[0m in \u001b[0;36mrun_single\u001b[0;34m(self, inputs, preprocess_params, forward_params, postprocess_params)\u001b[0m\n\u001b[1;32m   1463\u001b[0m     \u001b[0;32mdef\u001b[0m \u001b[0mrun_single\u001b[0m\u001b[0;34m(\u001b[0m\u001b[0mself\u001b[0m\u001b[0;34m,\u001b[0m \u001b[0minputs\u001b[0m\u001b[0;34m,\u001b[0m \u001b[0mpreprocess_params\u001b[0m\u001b[0;34m,\u001b[0m \u001b[0mforward_params\u001b[0m\u001b[0;34m,\u001b[0m \u001b[0mpostprocess_params\u001b[0m\u001b[0;34m)\u001b[0m\u001b[0;34m:\u001b[0m\u001b[0;34m\u001b[0m\u001b[0;34m\u001b[0m\u001b[0m\n\u001b[1;32m   1464\u001b[0m         \u001b[0mmodel_inputs\u001b[0m \u001b[0;34m=\u001b[0m \u001b[0mself\u001b[0m\u001b[0;34m.\u001b[0m\u001b[0mpreprocess\u001b[0m\u001b[0;34m(\u001b[0m\u001b[0minputs\u001b[0m\u001b[0;34m,\u001b[0m \u001b[0;34m**\u001b[0m\u001b[0mpreprocess_params\u001b[0m\u001b[0;34m)\u001b[0m\u001b[0;34m\u001b[0m\u001b[0;34m\u001b[0m\u001b[0m\n\u001b[0;32m-> 1465\u001b[0;31m         \u001b[0mmodel_outputs\u001b[0m \u001b[0;34m=\u001b[0m \u001b[0mself\u001b[0m\u001b[0;34m.\u001b[0m\u001b[0mforward\u001b[0m\u001b[0;34m(\u001b[0m\u001b[0mmodel_inputs\u001b[0m\u001b[0;34m,\u001b[0m \u001b[0;34m**\u001b[0m\u001b[0mforward_params\u001b[0m\u001b[0;34m)\u001b[0m\u001b[0;34m\u001b[0m\u001b[0;34m\u001b[0m\u001b[0m\n\u001b[0m\u001b[1;32m   1466\u001b[0m         \u001b[0moutputs\u001b[0m \u001b[0;34m=\u001b[0m \u001b[0mself\u001b[0m\u001b[0;34m.\u001b[0m\u001b[0mpostprocess\u001b[0m\u001b[0;34m(\u001b[0m\u001b[0mmodel_outputs\u001b[0m\u001b[0;34m,\u001b[0m \u001b[0;34m**\u001b[0m\u001b[0mpostprocess_params\u001b[0m\u001b[0;34m)\u001b[0m\u001b[0;34m\u001b[0m\u001b[0;34m\u001b[0m\u001b[0m\n\u001b[1;32m   1467\u001b[0m         \u001b[0;32mreturn\u001b[0m \u001b[0moutputs\u001b[0m\u001b[0;34m\u001b[0m\u001b[0;34m\u001b[0m\u001b[0m\n",
            "\u001b[0;32m/usr/local/lib/python3.12/dist-packages/transformers/pipelines/base.py\u001b[0m in \u001b[0;36mforward\u001b[0;34m(self, model_inputs, **forward_params)\u001b[0m\n\u001b[1;32m   1363\u001b[0m                 \u001b[0;32mwith\u001b[0m \u001b[0minference_context\u001b[0m\u001b[0;34m(\u001b[0m\u001b[0;34m)\u001b[0m\u001b[0;34m:\u001b[0m\u001b[0;34m\u001b[0m\u001b[0;34m\u001b[0m\u001b[0m\n\u001b[1;32m   1364\u001b[0m                     \u001b[0mmodel_inputs\u001b[0m \u001b[0;34m=\u001b[0m \u001b[0mself\u001b[0m\u001b[0;34m.\u001b[0m\u001b[0m_ensure_tensor_on_device\u001b[0m\u001b[0;34m(\u001b[0m\u001b[0mmodel_inputs\u001b[0m\u001b[0;34m,\u001b[0m \u001b[0mdevice\u001b[0m\u001b[0;34m=\u001b[0m\u001b[0mself\u001b[0m\u001b[0;34m.\u001b[0m\u001b[0mdevice\u001b[0m\u001b[0;34m)\u001b[0m\u001b[0;34m\u001b[0m\u001b[0;34m\u001b[0m\u001b[0m\n\u001b[0;32m-> 1365\u001b[0;31m                     \u001b[0mmodel_outputs\u001b[0m \u001b[0;34m=\u001b[0m \u001b[0mself\u001b[0m\u001b[0;34m.\u001b[0m\u001b[0m_forward\u001b[0m\u001b[0;34m(\u001b[0m\u001b[0mmodel_inputs\u001b[0m\u001b[0;34m,\u001b[0m \u001b[0;34m**\u001b[0m\u001b[0mforward_params\u001b[0m\u001b[0;34m)\u001b[0m\u001b[0;34m\u001b[0m\u001b[0;34m\u001b[0m\u001b[0m\n\u001b[0m\u001b[1;32m   1366\u001b[0m                     \u001b[0mmodel_outputs\u001b[0m \u001b[0;34m=\u001b[0m \u001b[0mself\u001b[0m\u001b[0;34m.\u001b[0m\u001b[0m_ensure_tensor_on_device\u001b[0m\u001b[0;34m(\u001b[0m\u001b[0mmodel_outputs\u001b[0m\u001b[0;34m,\u001b[0m \u001b[0mdevice\u001b[0m\u001b[0;34m=\u001b[0m\u001b[0mtorch\u001b[0m\u001b[0;34m.\u001b[0m\u001b[0mdevice\u001b[0m\u001b[0;34m(\u001b[0m\u001b[0;34m\"cpu\"\u001b[0m\u001b[0;34m)\u001b[0m\u001b[0;34m)\u001b[0m\u001b[0;34m\u001b[0m\u001b[0;34m\u001b[0m\u001b[0m\n\u001b[1;32m   1367\u001b[0m             \u001b[0;32melse\u001b[0m\u001b[0;34m:\u001b[0m\u001b[0;34m\u001b[0m\u001b[0;34m\u001b[0m\u001b[0m\n",
            "\u001b[0;32m/usr/local/lib/python3.12/dist-packages/transformers/pipelines/text2text_generation.py\u001b[0m in \u001b[0;36m_forward\u001b[0;34m(self, model_inputs, **generate_kwargs)\u001b[0m\n\u001b[1;32m    218\u001b[0m             \u001b[0mgenerate_kwargs\u001b[0m\u001b[0;34m[\u001b[0m\u001b[0;34m\"generation_config\"\u001b[0m\u001b[0;34m]\u001b[0m \u001b[0;34m=\u001b[0m \u001b[0mself\u001b[0m\u001b[0;34m.\u001b[0m\u001b[0mgeneration_config\u001b[0m\u001b[0;34m\u001b[0m\u001b[0;34m\u001b[0m\u001b[0m\n\u001b[1;32m    219\u001b[0m \u001b[0;34m\u001b[0m\u001b[0m\n\u001b[0;32m--> 220\u001b[0;31m         \u001b[0moutput_ids\u001b[0m \u001b[0;34m=\u001b[0m \u001b[0mself\u001b[0m\u001b[0;34m.\u001b[0m\u001b[0mmodel\u001b[0m\u001b[0;34m.\u001b[0m\u001b[0mgenerate\u001b[0m\u001b[0;34m(\u001b[0m\u001b[0;34m**\u001b[0m\u001b[0mmodel_inputs\u001b[0m\u001b[0;34m,\u001b[0m \u001b[0;34m**\u001b[0m\u001b[0mgenerate_kwargs\u001b[0m\u001b[0;34m)\u001b[0m\u001b[0;34m\u001b[0m\u001b[0;34m\u001b[0m\u001b[0m\n\u001b[0m\u001b[1;32m    221\u001b[0m         \u001b[0mout_b\u001b[0m \u001b[0;34m=\u001b[0m \u001b[0moutput_ids\u001b[0m\u001b[0;34m.\u001b[0m\u001b[0mshape\u001b[0m\u001b[0;34m[\u001b[0m\u001b[0;36m0\u001b[0m\u001b[0;34m]\u001b[0m\u001b[0;34m\u001b[0m\u001b[0;34m\u001b[0m\u001b[0m\n\u001b[1;32m    222\u001b[0m         \u001b[0;32mif\u001b[0m \u001b[0mself\u001b[0m\u001b[0;34m.\u001b[0m\u001b[0mframework\u001b[0m \u001b[0;34m==\u001b[0m \u001b[0;34m\"pt\"\u001b[0m\u001b[0;34m:\u001b[0m\u001b[0;34m\u001b[0m\u001b[0;34m\u001b[0m\u001b[0m\n",
            "\u001b[0;32m/usr/local/lib/python3.12/dist-packages/torch/utils/_contextlib.py\u001b[0m in \u001b[0;36mdecorate_context\u001b[0;34m(*args, **kwargs)\u001b[0m\n\u001b[1;32m    118\u001b[0m     \u001b[0;32mdef\u001b[0m \u001b[0mdecorate_context\u001b[0m\u001b[0;34m(\u001b[0m\u001b[0;34m*\u001b[0m\u001b[0margs\u001b[0m\u001b[0;34m,\u001b[0m \u001b[0;34m**\u001b[0m\u001b[0mkwargs\u001b[0m\u001b[0;34m)\u001b[0m\u001b[0;34m:\u001b[0m\u001b[0;34m\u001b[0m\u001b[0;34m\u001b[0m\u001b[0m\n\u001b[1;32m    119\u001b[0m         \u001b[0;32mwith\u001b[0m \u001b[0mctx_factory\u001b[0m\u001b[0;34m(\u001b[0m\u001b[0;34m)\u001b[0m\u001b[0;34m:\u001b[0m\u001b[0;34m\u001b[0m\u001b[0;34m\u001b[0m\u001b[0m\n\u001b[0;32m--> 120\u001b[0;31m             \u001b[0;32mreturn\u001b[0m \u001b[0mfunc\u001b[0m\u001b[0;34m(\u001b[0m\u001b[0;34m*\u001b[0m\u001b[0margs\u001b[0m\u001b[0;34m,\u001b[0m \u001b[0;34m**\u001b[0m\u001b[0mkwargs\u001b[0m\u001b[0;34m)\u001b[0m\u001b[0;34m\u001b[0m\u001b[0;34m\u001b[0m\u001b[0m\n\u001b[0m\u001b[1;32m    121\u001b[0m \u001b[0;34m\u001b[0m\u001b[0m\n\u001b[1;32m    122\u001b[0m     \u001b[0;32mreturn\u001b[0m \u001b[0mdecorate_context\u001b[0m\u001b[0;34m\u001b[0m\u001b[0;34m\u001b[0m\u001b[0m\n",
            "\u001b[0;32m/usr/local/lib/python3.12/dist-packages/transformers/generation/utils.py\u001b[0m in \u001b[0;36mgenerate\u001b[0;34m(self, inputs, generation_config, logits_processor, stopping_criteria, prefix_allowed_tokens_fn, synced_gpus, assistant_model, streamer, negative_prompt_ids, negative_prompt_attention_mask, use_model_defaults, custom_generate, **kwargs)\u001b[0m\n\u001b[1;32m   2646\u001b[0m             )\n\u001b[1;32m   2647\u001b[0m             \u001b[0;31m# 12. run beam sample\u001b[0m\u001b[0;34m\u001b[0m\u001b[0;34m\u001b[0m\u001b[0m\n\u001b[0;32m-> 2648\u001b[0;31m             result = self._beam_search(\n\u001b[0m\u001b[1;32m   2649\u001b[0m                 \u001b[0minput_ids\u001b[0m\u001b[0;34m,\u001b[0m\u001b[0;34m\u001b[0m\u001b[0;34m\u001b[0m\u001b[0m\n\u001b[1;32m   2650\u001b[0m                 \u001b[0mlogits_processor\u001b[0m\u001b[0;34m=\u001b[0m\u001b[0mprepared_logits_processor\u001b[0m\u001b[0;34m,\u001b[0m\u001b[0;34m\u001b[0m\u001b[0;34m\u001b[0m\u001b[0m\n",
            "\u001b[0;32m/usr/local/lib/python3.12/dist-packages/transformers/generation/utils.py\u001b[0m in \u001b[0;36m_beam_search\u001b[0;34m(self, input_ids, logits_processor, stopping_criteria, generation_config, synced_gpus, **model_kwargs)\u001b[0m\n\u001b[1;32m   4203\u001b[0m                     \u001b[0mmodel_kwargs\u001b[0m\u001b[0;34m[\u001b[0m\u001b[0;34m\"past_key_values\"\u001b[0m\u001b[0;34m]\u001b[0m \u001b[0;34m=\u001b[0m \u001b[0mself\u001b[0m\u001b[0;34m.\u001b[0m\u001b[0m_reorder_cache\u001b[0m\u001b[0;34m(\u001b[0m\u001b[0mmodel_kwargs\u001b[0m\u001b[0;34m[\u001b[0m\u001b[0;34m\"past_key_values\"\u001b[0m\u001b[0;34m]\u001b[0m\u001b[0;34m,\u001b[0m \u001b[0mbeam_idx\u001b[0m\u001b[0;34m)\u001b[0m\u001b[0;34m\u001b[0m\u001b[0;34m\u001b[0m\u001b[0m\n\u001b[1;32m   4204\u001b[0m                 \u001b[0;32melse\u001b[0m\u001b[0;34m:\u001b[0m\u001b[0;34m\u001b[0m\u001b[0;34m\u001b[0m\u001b[0m\n\u001b[0;32m-> 4205\u001b[0;31m                     \u001b[0mmodel_kwargs\u001b[0m\u001b[0;34m[\u001b[0m\u001b[0;34m\"past_key_values\"\u001b[0m\u001b[0;34m]\u001b[0m\u001b[0;34m.\u001b[0m\u001b[0mreorder_cache\u001b[0m\u001b[0;34m(\u001b[0m\u001b[0mbeam_idx\u001b[0m\u001b[0;34m)\u001b[0m\u001b[0;34m\u001b[0m\u001b[0;34m\u001b[0m\u001b[0m\n\u001b[0m\u001b[1;32m   4206\u001b[0m \u001b[0;34m\u001b[0m\u001b[0m\n\u001b[1;32m   4207\u001b[0m             \u001b[0mcur_len\u001b[0m \u001b[0;34m=\u001b[0m \u001b[0mcur_len\u001b[0m \u001b[0;34m+\u001b[0m \u001b[0;36m1\u001b[0m\u001b[0;34m\u001b[0m\u001b[0;34m\u001b[0m\u001b[0m\n",
            "\u001b[0;32m/usr/local/lib/python3.12/dist-packages/transformers/cache_utils.py\u001b[0m in \u001b[0;36mreorder_cache\u001b[0;34m(self, beam_idx)\u001b[0m\n\u001b[1;32m   1830\u001b[0m         \u001b[0;34m\"\"\"Reorders the cache for beam search, given the selected beam indices.\"\"\"\u001b[0m\u001b[0;34m\u001b[0m\u001b[0;34m\u001b[0m\u001b[0m\n\u001b[1;32m   1831\u001b[0m         \u001b[0mself\u001b[0m\u001b[0;34m.\u001b[0m\u001b[0mself_attention_cache\u001b[0m\u001b[0;34m.\u001b[0m\u001b[0mreorder_cache\u001b[0m\u001b[0;34m(\u001b[0m\u001b[0mbeam_idx\u001b[0m\u001b[0;34m)\u001b[0m\u001b[0;34m\u001b[0m\u001b[0;34m\u001b[0m\u001b[0m\n\u001b[0;32m-> 1832\u001b[0;31m         \u001b[0mself\u001b[0m\u001b[0;34m.\u001b[0m\u001b[0mcross_attention_cache\u001b[0m\u001b[0;34m.\u001b[0m\u001b[0mreorder_cache\u001b[0m\u001b[0;34m(\u001b[0m\u001b[0mbeam_idx\u001b[0m\u001b[0;34m)\u001b[0m\u001b[0;34m\u001b[0m\u001b[0;34m\u001b[0m\u001b[0m\n\u001b[0m\u001b[1;32m   1833\u001b[0m \u001b[0;34m\u001b[0m\u001b[0m\n\u001b[1;32m   1834\u001b[0m     \u001b[0;32mdef\u001b[0m \u001b[0mcheck_dynamic_cache\u001b[0m\u001b[0;34m(\u001b[0m\u001b[0mself\u001b[0m\u001b[0;34m,\u001b[0m \u001b[0mmethod\u001b[0m\u001b[0;34m:\u001b[0m \u001b[0mstr\u001b[0m\u001b[0;34m)\u001b[0m\u001b[0;34m:\u001b[0m\u001b[0;34m\u001b[0m\u001b[0;34m\u001b[0m\u001b[0m\n",
            "\u001b[0;32m/usr/local/lib/python3.12/dist-packages/transformers/cache_utils.py\u001b[0m in \u001b[0;36mreorder_cache\u001b[0;34m(self, beam_idx)\u001b[0m\n\u001b[1;32m   1250\u001b[0m         \u001b[0;34m\"\"\"Reorder the cache for beam search\"\"\"\u001b[0m\u001b[0;34m\u001b[0m\u001b[0;34m\u001b[0m\u001b[0m\n\u001b[1;32m   1251\u001b[0m         \u001b[0;32mfor\u001b[0m \u001b[0mlayer_idx\u001b[0m \u001b[0;32min\u001b[0m \u001b[0mrange\u001b[0m\u001b[0;34m(\u001b[0m\u001b[0mlen\u001b[0m\u001b[0;34m(\u001b[0m\u001b[0mself\u001b[0m\u001b[0;34m.\u001b[0m\u001b[0mlayers\u001b[0m\u001b[0;34m)\u001b[0m\u001b[0;34m)\u001b[0m\u001b[0;34m:\u001b[0m\u001b[0;34m\u001b[0m\u001b[0;34m\u001b[0m\u001b[0m\n\u001b[0;32m-> 1252\u001b[0;31m             \u001b[0mself\u001b[0m\u001b[0;34m.\u001b[0m\u001b[0mlayers\u001b[0m\u001b[0;34m[\u001b[0m\u001b[0mlayer_idx\u001b[0m\u001b[0;34m]\u001b[0m\u001b[0;34m.\u001b[0m\u001b[0mreorder_cache\u001b[0m\u001b[0;34m(\u001b[0m\u001b[0mbeam_idx\u001b[0m\u001b[0;34m)\u001b[0m\u001b[0;34m\u001b[0m\u001b[0;34m\u001b[0m\u001b[0m\n\u001b[0m\u001b[1;32m   1253\u001b[0m \u001b[0;34m\u001b[0m\u001b[0m\n\u001b[1;32m   1254\u001b[0m     \u001b[0;32mdef\u001b[0m \u001b[0mcrop\u001b[0m\u001b[0;34m(\u001b[0m\u001b[0mself\u001b[0m\u001b[0;34m,\u001b[0m \u001b[0mmax_length\u001b[0m\u001b[0;34m:\u001b[0m \u001b[0mint\u001b[0m\u001b[0;34m)\u001b[0m\u001b[0;34m:\u001b[0m\u001b[0;34m\u001b[0m\u001b[0;34m\u001b[0m\u001b[0m\n",
            "\u001b[0;32m/usr/local/lib/python3.12/dist-packages/transformers/cache_utils.py\u001b[0m in \u001b[0;36mreorder_cache\u001b[0;34m(self, beam_idx)\u001b[0m\n\u001b[1;32m    118\u001b[0m         \u001b[0;32mif\u001b[0m \u001b[0mself\u001b[0m\u001b[0;34m.\u001b[0m\u001b[0mkeys\u001b[0m \u001b[0;32mis\u001b[0m \u001b[0;32mnot\u001b[0m \u001b[0;32mNone\u001b[0m \u001b[0;32mand\u001b[0m \u001b[0mself\u001b[0m\u001b[0;34m.\u001b[0m\u001b[0mkeys\u001b[0m\u001b[0;34m.\u001b[0m\u001b[0mnumel\u001b[0m\u001b[0;34m(\u001b[0m\u001b[0;34m)\u001b[0m\u001b[0;34m:\u001b[0m\u001b[0;34m\u001b[0m\u001b[0;34m\u001b[0m\u001b[0m\n\u001b[1;32m    119\u001b[0m             \u001b[0mself\u001b[0m\u001b[0;34m.\u001b[0m\u001b[0mkeys\u001b[0m \u001b[0;34m=\u001b[0m \u001b[0mself\u001b[0m\u001b[0;34m.\u001b[0m\u001b[0mkeys\u001b[0m\u001b[0;34m.\u001b[0m\u001b[0mindex_select\u001b[0m\u001b[0;34m(\u001b[0m\u001b[0;36m0\u001b[0m\u001b[0;34m,\u001b[0m \u001b[0mbeam_idx\u001b[0m\u001b[0;34m.\u001b[0m\u001b[0mto\u001b[0m\u001b[0;34m(\u001b[0m\u001b[0mself\u001b[0m\u001b[0;34m.\u001b[0m\u001b[0mkeys\u001b[0m\u001b[0;34m.\u001b[0m\u001b[0mdevice\u001b[0m\u001b[0;34m)\u001b[0m\u001b[0;34m)\u001b[0m\u001b[0;34m\u001b[0m\u001b[0;34m\u001b[0m\u001b[0m\n\u001b[0;32m--> 120\u001b[0;31m             \u001b[0mself\u001b[0m\u001b[0;34m.\u001b[0m\u001b[0mvalues\u001b[0m \u001b[0;34m=\u001b[0m \u001b[0mself\u001b[0m\u001b[0;34m.\u001b[0m\u001b[0mvalues\u001b[0m\u001b[0;34m.\u001b[0m\u001b[0mindex_select\u001b[0m\u001b[0;34m(\u001b[0m\u001b[0;36m0\u001b[0m\u001b[0;34m,\u001b[0m \u001b[0mbeam_idx\u001b[0m\u001b[0;34m.\u001b[0m\u001b[0mto\u001b[0m\u001b[0;34m(\u001b[0m\u001b[0mself\u001b[0m\u001b[0;34m.\u001b[0m\u001b[0mvalues\u001b[0m\u001b[0;34m.\u001b[0m\u001b[0mdevice\u001b[0m\u001b[0;34m)\u001b[0m\u001b[0;34m)\u001b[0m\u001b[0;34m\u001b[0m\u001b[0;34m\u001b[0m\u001b[0m\n\u001b[0m\u001b[1;32m    121\u001b[0m \u001b[0;34m\u001b[0m\u001b[0m\n\u001b[1;32m    122\u001b[0m     \u001b[0;32mdef\u001b[0m \u001b[0mcrop\u001b[0m\u001b[0;34m(\u001b[0m\u001b[0mself\u001b[0m\u001b[0;34m,\u001b[0m \u001b[0mmax_length\u001b[0m\u001b[0;34m:\u001b[0m \u001b[0mint\u001b[0m\u001b[0;34m)\u001b[0m \u001b[0;34m->\u001b[0m \u001b[0;32mNone\u001b[0m\u001b[0;34m:\u001b[0m\u001b[0;34m\u001b[0m\u001b[0;34m\u001b[0m\u001b[0m\n",
            "\u001b[0;31mKeyboardInterrupt\u001b[0m: "
          ]
        }
      ]
    },
    {
      "cell_type": "code",
      "source": [],
      "metadata": {
        "id": "_21yxeLHG9Pb"
      },
      "execution_count": null,
      "outputs": []
    },
    {
      "cell_type": "code",
      "source": [],
      "metadata": {
        "id": "LNdw438vIT5O"
      },
      "execution_count": null,
      "outputs": []
    },
    {
      "cell_type": "code",
      "source": [
        "from sentence_transformers import SentenceTransformer\n",
        "\n",
        "# Already loaded embedder: embedder = SentenceTransformer(\"all-MiniLM-L6-v2\")\n",
        "\n",
        "# Suppose `extracted` is your list of JSON strings from step 5\n",
        "report_embeddings = embedder.encode(extracted, convert_to_tensor=True)\n",
        "\n",
        "print(\"Shape of embeddings:\", report_embeddings.shape)\n"
      ],
      "metadata": {
        "id": "9c6pcglhvSjF"
      },
      "execution_count": null,
      "outputs": []
    },
    {
      "cell_type": "code",
      "source": [
        "!pip install hdbscan umap-learn\n",
        "\n",
        "import hdbscan\n",
        "import umap\n",
        "import matplotlib.pyplot as plt\n",
        "\n",
        "# Reduce dimensions to 2D for visualization\n",
        "reducer = umap.UMAP(n_neighbors=15, min_dist=0.1, metric='cosine')\n",
        "emb_2d = reducer.fit_transform(report_embeddings.cpu().numpy())\n",
        "\n",
        "# Cluster\n",
        "clusterer = hdbscan.HDBSCAN(min_cluster_size=2, metric='euclidean')\n",
        "labels = clusterer.fit_predict(emb_2d)\n",
        "\n",
        "# Plot\n",
        "plt.figure(figsize=(8,6))\n",
        "plt.scatter(emb_2d[:,0], emb_2d[:,1], c=labels, cmap='tab20', s=50)\n",
        "plt.title(\"DMT Trip Report Clusters\")\n",
        "plt.show()\n"
      ],
      "metadata": {
        "id": "kdtA6SZxvc8y"
      },
      "execution_count": null,
      "outputs": []
    },
    {
      "cell_type": "code",
      "source": [
        "import pandas as pd\n",
        "import json\n",
        "\n",
        "# Convert extracted JSON strings to dicts\n",
        "data = [json.loads(r) for r in extracted]\n",
        "df = pd.DataFrame(data)\n",
        "\n",
        "# Embed only 'entities_or_other_beings'\n",
        "entities_embeddings = embedder.encode(df['entities_or_other_beings'].fillna(\"\"), convert_to_tensor=True)\n",
        "\n",
        "# Repeat UMAP + HDBSCAN as above for this field\n"
      ],
      "metadata": {
        "id": "r3bvSRjavi1N"
      },
      "execution_count": null,
      "outputs": []
    },
    {
      "cell_type": "code",
      "source": [
        "from sklearn.metrics.pairwise import cosine_similarity\n",
        "\n",
        "similarity_matrix = cosine_similarity(entities_embeddings.cpu().numpy())\n"
      ],
      "metadata": {
        "id": "MfEk7N1NvnyQ"
      },
      "execution_count": null,
      "outputs": []
    },
    {
      "cell_type": "code",
      "metadata": {
        "colab": {
          "base_uri": "https://localhost:8080/"
        },
        "id": "xwRVluluofIVgK",
        "outputId": "4b203e6a-d7ff-428b-abd4-c602dd28580a"
      },
      "source": [
        "import requests\n",
        "from bs4 import BeautifulSoup\n",
        "\n",
        "url = \"https://www.erowid.org/experiences/exp.cgi?S1=18\"\n",
        "response = requests.get(url, verify=False)  # Disable SSL verification\n",
        "soup = BeautifulSoup(response.content, 'html.parser')\n",
        "\n",
        "# Find all tr elements with class \"exp-list-row\"\n",
        "rows = soup.find_all('tr', class_='exp-list-row')\n",
        "\n",
        "# Extract href from the <a> tag within each row\n",
        "links = []\n",
        "for row in rows:\n",
        "    link_tag = row.find('a')\n",
        "    if link_tag and 'href' in link_tag.attrs:\n",
        "        links.append(\"https://www.erowid.org/experiences/\" + link_tag['href'])\n",
        "\n",
        "# Print the extracted links\n",
        "for link in links:\n",
        "    print(link)"
      ],
      "execution_count": 43,
      "outputs": [
        {
          "output_type": "stream",
          "name": "stderr",
          "text": [
            "/usr/local/lib/python3.12/dist-packages/urllib3/connectionpool.py:1097: InsecureRequestWarning: Unverified HTTPS request is being made to host 'www.erowid.org'. Adding certificate verification is strongly advised. See: https://urllib3.readthedocs.io/en/latest/advanced-usage.html#tls-warnings\n",
            "  warnings.warn(\n"
          ]
        },
        {
          "output_type": "stream",
          "name": "stdout",
          "text": [
            "https://www.erowid.org/experiences/exp.php?ID=118252\n",
            "https://www.erowid.org/experiences/exp.php?ID=112397\n",
            "https://www.erowid.org/experiences/exp.php?ID=96444\n",
            "https://www.erowid.org/experiences/exp.php?ID=64048\n",
            "https://www.erowid.org/experiences/exp.php?ID=62835\n",
            "https://www.erowid.org/experiences/exp.php?ID=34866\n",
            "https://www.erowid.org/experiences/exp.php?ID=113441\n",
            "https://www.erowid.org/experiences/exp.php?ID=113133\n",
            "https://www.erowid.org/experiences/exp.php?ID=99695\n",
            "https://www.erowid.org/experiences/exp.php?ID=94632\n",
            "https://www.erowid.org/experiences/exp.php?ID=103790\n",
            "https://www.erowid.org/experiences/exp.php?ID=96614\n",
            "https://www.erowid.org/experiences/exp.php?ID=106677\n",
            "https://www.erowid.org/experiences/exp.php?ID=89887\n",
            "https://www.erowid.org/experiences/exp.php?ID=98866\n",
            "https://www.erowid.org/experiences/exp.php?ID=101485\n",
            "https://www.erowid.org/experiences/exp.php?ID=101541\n",
            "https://www.erowid.org/experiences/exp.php?ID=93315\n",
            "https://www.erowid.org/experiences/exp.php?ID=96521\n",
            "https://www.erowid.org/experiences/exp.php?ID=94429\n",
            "https://www.erowid.org/experiences/exp.php?ID=93145\n",
            "https://www.erowid.org/experiences/exp.php?ID=80226\n",
            "https://www.erowid.org/experiences/exp.php?ID=82934\n",
            "https://www.erowid.org/experiences/exp.php?ID=86665\n",
            "https://www.erowid.org/experiences/exp.php?ID=83719\n",
            "https://www.erowid.org/experiences/exp.php?ID=82837\n",
            "https://www.erowid.org/experiences/exp.php?ID=80880\n",
            "https://www.erowid.org/experiences/exp.php?ID=76614\n",
            "https://www.erowid.org/experiences/exp.php?ID=75003\n",
            "https://www.erowid.org/experiences/exp.php?ID=70283\n",
            "https://www.erowid.org/experiences/exp.php?ID=66730\n",
            "https://www.erowid.org/experiences/exp.php?ID=65793\n",
            "https://www.erowid.org/experiences/exp.php?ID=65384\n",
            "https://www.erowid.org/experiences/exp.php?ID=58800\n",
            "https://www.erowid.org/experiences/exp.php?ID=58907\n",
            "https://www.erowid.org/experiences/exp.php?ID=52797\n",
            "https://www.erowid.org/experiences/exp.php?ID=46854\n",
            "https://www.erowid.org/experiences/exp.php?ID=46856\n",
            "https://www.erowid.org/experiences/exp.php?ID=41106\n",
            "https://www.erowid.org/experiences/exp.php?ID=30919\n",
            "https://www.erowid.org/experiences/exp.php?ID=22238\n",
            "https://www.erowid.org/experiences/exp.php?ID=31979\n",
            "https://www.erowid.org/experiences/exp.php?ID=25157\n",
            "https://www.erowid.org/experiences/exp.php?ID=23350\n",
            "https://www.erowid.org/experiences/exp.php?ID=16314\n",
            "https://www.erowid.org/experiences/exp.php?ID=8842\n",
            "https://www.erowid.org/experiences/exp.php?ID=2205\n",
            "https://www.erowid.org/experiences/exp.php?ID=1851\n",
            "https://www.erowid.org/experiences/exp.php?ID=1841\n",
            "https://www.erowid.org/experiences/exp.php?ID=1839\n",
            "https://www.erowid.org/experiences/exp.php?ID=118625\n",
            "https://www.erowid.org/experiences/exp.php?ID=117294\n",
            "https://www.erowid.org/experiences/exp.php?ID=117473\n",
            "https://www.erowid.org/experiences/exp.php?ID=102105\n",
            "https://www.erowid.org/experiences/exp.php?ID=115502\n",
            "https://www.erowid.org/experiences/exp.php?ID=114947\n",
            "https://www.erowid.org/experiences/exp.php?ID=100673\n",
            "https://www.erowid.org/experiences/exp.php?ID=99247\n",
            "https://www.erowid.org/experiences/exp.php?ID=106448\n",
            "https://www.erowid.org/experiences/exp.php?ID=106105\n",
            "https://www.erowid.org/experiences/exp.php?ID=108109\n",
            "https://www.erowid.org/experiences/exp.php?ID=113511\n",
            "https://www.erowid.org/experiences/exp.php?ID=106818\n",
            "https://www.erowid.org/experiences/exp.php?ID=101367\n",
            "https://www.erowid.org/experiences/exp.php?ID=102952\n",
            "https://www.erowid.org/experiences/exp.php?ID=112845\n",
            "https://www.erowid.org/experiences/exp.php?ID=112640\n",
            "https://www.erowid.org/experiences/exp.php?ID=112771\n",
            "https://www.erowid.org/experiences/exp.php?ID=111847\n",
            "https://www.erowid.org/experiences/exp.php?ID=87759\n",
            "https://www.erowid.org/experiences/exp.php?ID=96140\n",
            "https://www.erowid.org/experiences/exp.php?ID=85721\n",
            "https://www.erowid.org/experiences/exp.php?ID=100953\n",
            "https://www.erowid.org/experiences/exp.php?ID=99900\n",
            "https://www.erowid.org/experiences/exp.php?ID=103249\n",
            "https://www.erowid.org/experiences/exp.php?ID=109084\n",
            "https://www.erowid.org/experiences/exp.php?ID=95151\n",
            "https://www.erowid.org/experiences/exp.php?ID=100929\n",
            "https://www.erowid.org/experiences/exp.php?ID=97363\n",
            "https://www.erowid.org/experiences/exp.php?ID=110185\n",
            "https://www.erowid.org/experiences/exp.php?ID=108821\n",
            "https://www.erowid.org/experiences/exp.php?ID=91964\n",
            "https://www.erowid.org/experiences/exp.php?ID=110432\n",
            "https://www.erowid.org/experiences/exp.php?ID=81462\n",
            "https://www.erowid.org/experiences/exp.php?ID=101884\n",
            "https://www.erowid.org/experiences/exp.php?ID=108077\n",
            "https://www.erowid.org/experiences/exp.php?ID=94599\n",
            "https://www.erowid.org/experiences/exp.php?ID=90113\n",
            "https://www.erowid.org/experiences/exp.php?ID=90263\n",
            "https://www.erowid.org/experiences/exp.php?ID=88428\n",
            "https://www.erowid.org/experiences/exp.php?ID=107582\n",
            "https://www.erowid.org/experiences/exp.php?ID=100109\n",
            "https://www.erowid.org/experiences/exp.php?ID=97591\n",
            "https://www.erowid.org/experiences/exp.php?ID=90557\n",
            "https://www.erowid.org/experiences/exp.php?ID=101998\n",
            "https://www.erowid.org/experiences/exp.php?ID=87447\n",
            "https://www.erowid.org/experiences/exp.php?ID=80512\n",
            "https://www.erowid.org/experiences/exp.php?ID=90269\n",
            "https://www.erowid.org/experiences/exp.php?ID=83098\n",
            "https://www.erowid.org/experiences/exp.php?ID=92381\n"
          ]
        }
      ]
    },
    {
      "cell_type": "code",
      "source": [
        "import requests\n",
        "from bs4 import BeautifulSoup\n",
        "\n",
        "# Assuming 'links' list from the previous cell is available\n",
        "\n",
        "extracted_data = []\n",
        "\n",
        "for link in links:\n",
        "    try:\n",
        "        response = requests.get(link, verify=False)\n",
        "        soup = BeautifulSoup(response.content, 'html.parser')\n",
        "\n",
        "        substance_div = soup.find('div', class_='substance')\n",
        "        substance = substance_div.text.strip() if substance_div else None\n",
        "\n",
        "        dosechart_table = soup.find('table', class_='dosechart')\n",
        "        dosechart = str(dosechart_table) if dosechart_table else None\n",
        "\n",
        "        bodyweight_table = soup.find('table', class_='bodyweight')\n",
        "        bodyweight = str(bodyweight_table) if bodyweight_table else None\n",
        "\n",
        "        footdata_table = soup.find('table', class_='footdata')\n",
        "        footdata = str(footdata_table) if footdata_table else None\n",
        "\n",
        "        extracted_data.append({\n",
        "            'link': link,\n",
        "            'substance': substance,\n",
        "            'dosechart': dosechart,\n",
        "            'bodyweight': bodyweight,\n",
        "            'footdata': footdata\n",
        "        })\n",
        "\n",
        "    except Exception as e:\n",
        "        print(f\"Error processing link {link}: {e}\")\n",
        "\n",
        "# You can now process the extracted_data list, for example, print it\n",
        "for data in extracted_data:\n",
        "    print(data)"
      ],
      "metadata": {
        "colab": {
          "base_uri": "https://localhost:8080/"
        },
        "id": "UIzDhWaGKCX_",
        "outputId": "340d2eb0-5a84-4204-d852-fb601e6a85aa",
        "collapsed": true
      },
      "execution_count": null,
      "outputs": [
        {
          "output_type": "stream",
          "name": "stderr",
          "text": [
            "/usr/local/lib/python3.12/dist-packages/urllib3/connectionpool.py:1097: InsecureRequestWarning: Unverified HTTPS request is being made to host 'www.erowid.org'. Adding certificate verification is strongly advised. See: https://urllib3.readthedocs.io/en/latest/advanced-usage.html#tls-warnings\n",
            "  warnings.warn(\n",
            "/usr/local/lib/python3.12/dist-packages/urllib3/connectionpool.py:1097: InsecureRequestWarning: Unverified HTTPS request is being made to host 'www.erowid.org'. Adding certificate verification is strongly advised. See: https://urllib3.readthedocs.io/en/latest/advanced-usage.html#tls-warnings\n",
            "  warnings.warn(\n",
            "/usr/local/lib/python3.12/dist-packages/urllib3/connectionpool.py:1097: InsecureRequestWarning: Unverified HTTPS request is being made to host 'www.erowid.org'. Adding certificate verification is strongly advised. See: https://urllib3.readthedocs.io/en/latest/advanced-usage.html#tls-warnings\n",
            "  warnings.warn(\n",
            "/usr/local/lib/python3.12/dist-packages/urllib3/connectionpool.py:1097: InsecureRequestWarning: Unverified HTTPS request is being made to host 'www.erowid.org'. Adding certificate verification is strongly advised. See: https://urllib3.readthedocs.io/en/latest/advanced-usage.html#tls-warnings\n",
            "  warnings.warn(\n",
            "/usr/local/lib/python3.12/dist-packages/urllib3/connectionpool.py:1097: InsecureRequestWarning: Unverified HTTPS request is being made to host 'www.erowid.org'. Adding certificate verification is strongly advised. See: https://urllib3.readthedocs.io/en/latest/advanced-usage.html#tls-warnings\n",
            "  warnings.warn(\n",
            "/usr/local/lib/python3.12/dist-packages/urllib3/connectionpool.py:1097: InsecureRequestWarning: Unverified HTTPS request is being made to host 'www.erowid.org'. Adding certificate verification is strongly advised. See: https://urllib3.readthedocs.io/en/latest/advanced-usage.html#tls-warnings\n",
            "  warnings.warn(\n",
            "/usr/local/lib/python3.12/dist-packages/urllib3/connectionpool.py:1097: InsecureRequestWarning: Unverified HTTPS request is being made to host 'www.erowid.org'. Adding certificate verification is strongly advised. See: https://urllib3.readthedocs.io/en/latest/advanced-usage.html#tls-warnings\n",
            "  warnings.warn(\n",
            "/usr/local/lib/python3.12/dist-packages/urllib3/connectionpool.py:1097: InsecureRequestWarning: Unverified HTTPS request is being made to host 'www.erowid.org'. Adding certificate verification is strongly advised. See: https://urllib3.readthedocs.io/en/latest/advanced-usage.html#tls-warnings\n",
            "  warnings.warn(\n",
            "/usr/local/lib/python3.12/dist-packages/urllib3/connectionpool.py:1097: InsecureRequestWarning: Unverified HTTPS request is being made to host 'www.erowid.org'. Adding certificate verification is strongly advised. See: https://urllib3.readthedocs.io/en/latest/advanced-usage.html#tls-warnings\n",
            "  warnings.warn(\n",
            "/usr/local/lib/python3.12/dist-packages/urllib3/connectionpool.py:1097: InsecureRequestWarning: Unverified HTTPS request is being made to host 'www.erowid.org'. Adding certificate verification is strongly advised. See: https://urllib3.readthedocs.io/en/latest/advanced-usage.html#tls-warnings\n",
            "  warnings.warn(\n",
            "/usr/local/lib/python3.12/dist-packages/urllib3/connectionpool.py:1097: InsecureRequestWarning: Unverified HTTPS request is being made to host 'www.erowid.org'. Adding certificate verification is strongly advised. See: https://urllib3.readthedocs.io/en/latest/advanced-usage.html#tls-warnings\n",
            "  warnings.warn(\n",
            "/usr/local/lib/python3.12/dist-packages/urllib3/connectionpool.py:1097: InsecureRequestWarning: Unverified HTTPS request is being made to host 'www.erowid.org'. Adding certificate verification is strongly advised. See: https://urllib3.readthedocs.io/en/latest/advanced-usage.html#tls-warnings\n",
            "  warnings.warn(\n",
            "/usr/local/lib/python3.12/dist-packages/urllib3/connectionpool.py:1097: InsecureRequestWarning: Unverified HTTPS request is being made to host 'www.erowid.org'. Adding certificate verification is strongly advised. See: https://urllib3.readthedocs.io/en/latest/advanced-usage.html#tls-warnings\n",
            "  warnings.warn(\n",
            "/usr/local/lib/python3.12/dist-packages/urllib3/connectionpool.py:1097: InsecureRequestWarning: Unverified HTTPS request is being made to host 'www.erowid.org'. Adding certificate verification is strongly advised. See: https://urllib3.readthedocs.io/en/latest/advanced-usage.html#tls-warnings\n",
            "  warnings.warn(\n",
            "/usr/local/lib/python3.12/dist-packages/urllib3/connectionpool.py:1097: InsecureRequestWarning: Unverified HTTPS request is being made to host 'www.erowid.org'. Adding certificate verification is strongly advised. See: https://urllib3.readthedocs.io/en/latest/advanced-usage.html#tls-warnings\n",
            "  warnings.warn(\n",
            "/usr/local/lib/python3.12/dist-packages/urllib3/connectionpool.py:1097: InsecureRequestWarning: Unverified HTTPS request is being made to host 'www.erowid.org'. Adding certificate verification is strongly advised. See: https://urllib3.readthedocs.io/en/latest/advanced-usage.html#tls-warnings\n",
            "  warnings.warn(\n",
            "/usr/local/lib/python3.12/dist-packages/urllib3/connectionpool.py:1097: InsecureRequestWarning: Unverified HTTPS request is being made to host 'www.erowid.org'. Adding certificate verification is strongly advised. See: https://urllib3.readthedocs.io/en/latest/advanced-usage.html#tls-warnings\n",
            "  warnings.warn(\n",
            "/usr/local/lib/python3.12/dist-packages/urllib3/connectionpool.py:1097: InsecureRequestWarning: Unverified HTTPS request is being made to host 'www.erowid.org'. Adding certificate verification is strongly advised. See: https://urllib3.readthedocs.io/en/latest/advanced-usage.html#tls-warnings\n",
            "  warnings.warn(\n",
            "/usr/local/lib/python3.12/dist-packages/urllib3/connectionpool.py:1097: InsecureRequestWarning: Unverified HTTPS request is being made to host 'www.erowid.org'. Adding certificate verification is strongly advised. See: https://urllib3.readthedocs.io/en/latest/advanced-usage.html#tls-warnings\n",
            "  warnings.warn(\n",
            "/usr/local/lib/python3.12/dist-packages/urllib3/connectionpool.py:1097: InsecureRequestWarning: Unverified HTTPS request is being made to host 'www.erowid.org'. Adding certificate verification is strongly advised. See: https://urllib3.readthedocs.io/en/latest/advanced-usage.html#tls-warnings\n",
            "  warnings.warn(\n",
            "/usr/local/lib/python3.12/dist-packages/urllib3/connectionpool.py:1097: InsecureRequestWarning: Unverified HTTPS request is being made to host 'www.erowid.org'. Adding certificate verification is strongly advised. See: https://urllib3.readthedocs.io/en/latest/advanced-usage.html#tls-warnings\n",
            "  warnings.warn(\n",
            "/usr/local/lib/python3.12/dist-packages/urllib3/connectionpool.py:1097: InsecureRequestWarning: Unverified HTTPS request is being made to host 'www.erowid.org'. Adding certificate verification is strongly advised. See: https://urllib3.readthedocs.io/en/latest/advanced-usage.html#tls-warnings\n",
            "  warnings.warn(\n",
            "/usr/local/lib/python3.12/dist-packages/urllib3/connectionpool.py:1097: InsecureRequestWarning: Unverified HTTPS request is being made to host 'www.erowid.org'. Adding certificate verification is strongly advised. See: https://urllib3.readthedocs.io/en/latest/advanced-usage.html#tls-warnings\n",
            "  warnings.warn(\n",
            "/usr/local/lib/python3.12/dist-packages/urllib3/connectionpool.py:1097: InsecureRequestWarning: Unverified HTTPS request is being made to host 'www.erowid.org'. Adding certificate verification is strongly advised. See: https://urllib3.readthedocs.io/en/latest/advanced-usage.html#tls-warnings\n",
            "  warnings.warn(\n",
            "/usr/local/lib/python3.12/dist-packages/urllib3/connectionpool.py:1097: InsecureRequestWarning: Unverified HTTPS request is being made to host 'www.erowid.org'. Adding certificate verification is strongly advised. See: https://urllib3.readthedocs.io/en/latest/advanced-usage.html#tls-warnings\n",
            "  warnings.warn(\n",
            "/usr/local/lib/python3.12/dist-packages/urllib3/connectionpool.py:1097: InsecureRequestWarning: Unverified HTTPS request is being made to host 'www.erowid.org'. Adding certificate verification is strongly advised. See: https://urllib3.readthedocs.io/en/latest/advanced-usage.html#tls-warnings\n",
            "  warnings.warn(\n",
            "/usr/local/lib/python3.12/dist-packages/urllib3/connectionpool.py:1097: InsecureRequestWarning: Unverified HTTPS request is being made to host 'www.erowid.org'. Adding certificate verification is strongly advised. See: https://urllib3.readthedocs.io/en/latest/advanced-usage.html#tls-warnings\n",
            "  warnings.warn(\n",
            "/usr/local/lib/python3.12/dist-packages/urllib3/connectionpool.py:1097: InsecureRequestWarning: Unverified HTTPS request is being made to host 'www.erowid.org'. Adding certificate verification is strongly advised. See: https://urllib3.readthedocs.io/en/latest/advanced-usage.html#tls-warnings\n",
            "  warnings.warn(\n",
            "/usr/local/lib/python3.12/dist-packages/urllib3/connectionpool.py:1097: InsecureRequestWarning: Unverified HTTPS request is being made to host 'www.erowid.org'. Adding certificate verification is strongly advised. See: https://urllib3.readthedocs.io/en/latest/advanced-usage.html#tls-warnings\n",
            "  warnings.warn(\n",
            "/usr/local/lib/python3.12/dist-packages/urllib3/connectionpool.py:1097: InsecureRequestWarning: Unverified HTTPS request is being made to host 'www.erowid.org'. Adding certificate verification is strongly advised. See: https://urllib3.readthedocs.io/en/latest/advanced-usage.html#tls-warnings\n",
            "  warnings.warn(\n",
            "/usr/local/lib/python3.12/dist-packages/urllib3/connectionpool.py:1097: InsecureRequestWarning: Unverified HTTPS request is being made to host 'www.erowid.org'. Adding certificate verification is strongly advised. See: https://urllib3.readthedocs.io/en/latest/advanced-usage.html#tls-warnings\n",
            "  warnings.warn(\n",
            "/usr/local/lib/python3.12/dist-packages/urllib3/connectionpool.py:1097: InsecureRequestWarning: Unverified HTTPS request is being made to host 'www.erowid.org'. Adding certificate verification is strongly advised. See: https://urllib3.readthedocs.io/en/latest/advanced-usage.html#tls-warnings\n",
            "  warnings.warn(\n",
            "/usr/local/lib/python3.12/dist-packages/urllib3/connectionpool.py:1097: InsecureRequestWarning: Unverified HTTPS request is being made to host 'www.erowid.org'. Adding certificate verification is strongly advised. See: https://urllib3.readthedocs.io/en/latest/advanced-usage.html#tls-warnings\n",
            "  warnings.warn(\n",
            "/usr/local/lib/python3.12/dist-packages/urllib3/connectionpool.py:1097: InsecureRequestWarning: Unverified HTTPS request is being made to host 'www.erowid.org'. Adding certificate verification is strongly advised. See: https://urllib3.readthedocs.io/en/latest/advanced-usage.html#tls-warnings\n",
            "  warnings.warn(\n",
            "/usr/local/lib/python3.12/dist-packages/urllib3/connectionpool.py:1097: InsecureRequestWarning: Unverified HTTPS request is being made to host 'www.erowid.org'. Adding certificate verification is strongly advised. See: https://urllib3.readthedocs.io/en/latest/advanced-usage.html#tls-warnings\n",
            "  warnings.warn(\n",
            "/usr/local/lib/python3.12/dist-packages/urllib3/connectionpool.py:1097: InsecureRequestWarning: Unverified HTTPS request is being made to host 'www.erowid.org'. Adding certificate verification is strongly advised. See: https://urllib3.readthedocs.io/en/latest/advanced-usage.html#tls-warnings\n",
            "  warnings.warn(\n",
            "/usr/local/lib/python3.12/dist-packages/urllib3/connectionpool.py:1097: InsecureRequestWarning: Unverified HTTPS request is being made to host 'www.erowid.org'. Adding certificate verification is strongly advised. See: https://urllib3.readthedocs.io/en/latest/advanced-usage.html#tls-warnings\n",
            "  warnings.warn(\n",
            "/usr/local/lib/python3.12/dist-packages/urllib3/connectionpool.py:1097: InsecureRequestWarning: Unverified HTTPS request is being made to host 'www.erowid.org'. Adding certificate verification is strongly advised. See: https://urllib3.readthedocs.io/en/latest/advanced-usage.html#tls-warnings\n",
            "  warnings.warn(\n",
            "/usr/local/lib/python3.12/dist-packages/urllib3/connectionpool.py:1097: InsecureRequestWarning: Unverified HTTPS request is being made to host 'www.erowid.org'. Adding certificate verification is strongly advised. See: https://urllib3.readthedocs.io/en/latest/advanced-usage.html#tls-warnings\n",
            "  warnings.warn(\n",
            "/usr/local/lib/python3.12/dist-packages/urllib3/connectionpool.py:1097: InsecureRequestWarning: Unverified HTTPS request is being made to host 'www.erowid.org'. Adding certificate verification is strongly advised. See: https://urllib3.readthedocs.io/en/latest/advanced-usage.html#tls-warnings\n",
            "  warnings.warn(\n",
            "/usr/local/lib/python3.12/dist-packages/urllib3/connectionpool.py:1097: InsecureRequestWarning: Unverified HTTPS request is being made to host 'www.erowid.org'. Adding certificate verification is strongly advised. See: https://urllib3.readthedocs.io/en/latest/advanced-usage.html#tls-warnings\n",
            "  warnings.warn(\n",
            "/usr/local/lib/python3.12/dist-packages/urllib3/connectionpool.py:1097: InsecureRequestWarning: Unverified HTTPS request is being made to host 'www.erowid.org'. Adding certificate verification is strongly advised. See: https://urllib3.readthedocs.io/en/latest/advanced-usage.html#tls-warnings\n",
            "  warnings.warn(\n",
            "/usr/local/lib/python3.12/dist-packages/urllib3/connectionpool.py:1097: InsecureRequestWarning: Unverified HTTPS request is being made to host 'www.erowid.org'. Adding certificate verification is strongly advised. See: https://urllib3.readthedocs.io/en/latest/advanced-usage.html#tls-warnings\n",
            "  warnings.warn(\n",
            "/usr/local/lib/python3.12/dist-packages/urllib3/connectionpool.py:1097: InsecureRequestWarning: Unverified HTTPS request is being made to host 'www.erowid.org'. Adding certificate verification is strongly advised. See: https://urllib3.readthedocs.io/en/latest/advanced-usage.html#tls-warnings\n",
            "  warnings.warn(\n",
            "/usr/local/lib/python3.12/dist-packages/urllib3/connectionpool.py:1097: InsecureRequestWarning: Unverified HTTPS request is being made to host 'www.erowid.org'. Adding certificate verification is strongly advised. See: https://urllib3.readthedocs.io/en/latest/advanced-usage.html#tls-warnings\n",
            "  warnings.warn(\n",
            "/usr/local/lib/python3.12/dist-packages/urllib3/connectionpool.py:1097: InsecureRequestWarning: Unverified HTTPS request is being made to host 'www.erowid.org'. Adding certificate verification is strongly advised. See: https://urllib3.readthedocs.io/en/latest/advanced-usage.html#tls-warnings\n",
            "  warnings.warn(\n",
            "/usr/local/lib/python3.12/dist-packages/urllib3/connectionpool.py:1097: InsecureRequestWarning: Unverified HTTPS request is being made to host 'www.erowid.org'. Adding certificate verification is strongly advised. See: https://urllib3.readthedocs.io/en/latest/advanced-usage.html#tls-warnings\n",
            "  warnings.warn(\n",
            "/usr/local/lib/python3.12/dist-packages/urllib3/connectionpool.py:1097: InsecureRequestWarning: Unverified HTTPS request is being made to host 'www.erowid.org'. Adding certificate verification is strongly advised. See: https://urllib3.readthedocs.io/en/latest/advanced-usage.html#tls-warnings\n",
            "  warnings.warn(\n",
            "/usr/local/lib/python3.12/dist-packages/urllib3/connectionpool.py:1097: InsecureRequestWarning: Unverified HTTPS request is being made to host 'www.erowid.org'. Adding certificate verification is strongly advised. See: https://urllib3.readthedocs.io/en/latest/advanced-usage.html#tls-warnings\n",
            "  warnings.warn(\n",
            "/usr/local/lib/python3.12/dist-packages/urllib3/connectionpool.py:1097: InsecureRequestWarning: Unverified HTTPS request is being made to host 'www.erowid.org'. Adding certificate verification is strongly advised. See: https://urllib3.readthedocs.io/en/latest/advanced-usage.html#tls-warnings\n",
            "  warnings.warn(\n",
            "/usr/local/lib/python3.12/dist-packages/urllib3/connectionpool.py:1097: InsecureRequestWarning: Unverified HTTPS request is being made to host 'www.erowid.org'. Adding certificate verification is strongly advised. See: https://urllib3.readthedocs.io/en/latest/advanced-usage.html#tls-warnings\n",
            "  warnings.warn(\n",
            "/usr/local/lib/python3.12/dist-packages/urllib3/connectionpool.py:1097: InsecureRequestWarning: Unverified HTTPS request is being made to host 'www.erowid.org'. Adding certificate verification is strongly advised. See: https://urllib3.readthedocs.io/en/latest/advanced-usage.html#tls-warnings\n",
            "  warnings.warn(\n",
            "/usr/local/lib/python3.12/dist-packages/urllib3/connectionpool.py:1097: InsecureRequestWarning: Unverified HTTPS request is being made to host 'www.erowid.org'. Adding certificate verification is strongly advised. See: https://urllib3.readthedocs.io/en/latest/advanced-usage.html#tls-warnings\n",
            "  warnings.warn(\n",
            "/usr/local/lib/python3.12/dist-packages/urllib3/connectionpool.py:1097: InsecureRequestWarning: Unverified HTTPS request is being made to host 'www.erowid.org'. Adding certificate verification is strongly advised. See: https://urllib3.readthedocs.io/en/latest/advanced-usage.html#tls-warnings\n",
            "  warnings.warn(\n",
            "/usr/local/lib/python3.12/dist-packages/urllib3/connectionpool.py:1097: InsecureRequestWarning: Unverified HTTPS request is being made to host 'www.erowid.org'. Adding certificate verification is strongly advised. See: https://urllib3.readthedocs.io/en/latest/advanced-usage.html#tls-warnings\n",
            "  warnings.warn(\n",
            "/usr/local/lib/python3.12/dist-packages/urllib3/connectionpool.py:1097: InsecureRequestWarning: Unverified HTTPS request is being made to host 'www.erowid.org'. Adding certificate verification is strongly advised. See: https://urllib3.readthedocs.io/en/latest/advanced-usage.html#tls-warnings\n",
            "  warnings.warn(\n",
            "/usr/local/lib/python3.12/dist-packages/urllib3/connectionpool.py:1097: InsecureRequestWarning: Unverified HTTPS request is being made to host 'www.erowid.org'. Adding certificate verification is strongly advised. See: https://urllib3.readthedocs.io/en/latest/advanced-usage.html#tls-warnings\n",
            "  warnings.warn(\n",
            "/usr/local/lib/python3.12/dist-packages/urllib3/connectionpool.py:1097: InsecureRequestWarning: Unverified HTTPS request is being made to host 'www.erowid.org'. Adding certificate verification is strongly advised. See: https://urllib3.readthedocs.io/en/latest/advanced-usage.html#tls-warnings\n",
            "  warnings.warn(\n",
            "/usr/local/lib/python3.12/dist-packages/urllib3/connectionpool.py:1097: InsecureRequestWarning: Unverified HTTPS request is being made to host 'www.erowid.org'. Adding certificate verification is strongly advised. See: https://urllib3.readthedocs.io/en/latest/advanced-usage.html#tls-warnings\n",
            "  warnings.warn(\n",
            "/usr/local/lib/python3.12/dist-packages/urllib3/connectionpool.py:1097: InsecureRequestWarning: Unverified HTTPS request is being made to host 'www.erowid.org'. Adding certificate verification is strongly advised. See: https://urllib3.readthedocs.io/en/latest/advanced-usage.html#tls-warnings\n",
            "  warnings.warn(\n",
            "/usr/local/lib/python3.12/dist-packages/urllib3/connectionpool.py:1097: InsecureRequestWarning: Unverified HTTPS request is being made to host 'www.erowid.org'. Adding certificate verification is strongly advised. See: https://urllib3.readthedocs.io/en/latest/advanced-usage.html#tls-warnings\n",
            "  warnings.warn(\n",
            "/usr/local/lib/python3.12/dist-packages/urllib3/connectionpool.py:1097: InsecureRequestWarning: Unverified HTTPS request is being made to host 'www.erowid.org'. Adding certificate verification is strongly advised. See: https://urllib3.readthedocs.io/en/latest/advanced-usage.html#tls-warnings\n",
            "  warnings.warn(\n",
            "/usr/local/lib/python3.12/dist-packages/urllib3/connectionpool.py:1097: InsecureRequestWarning: Unverified HTTPS request is being made to host 'www.erowid.org'. Adding certificate verification is strongly advised. See: https://urllib3.readthedocs.io/en/latest/advanced-usage.html#tls-warnings\n",
            "  warnings.warn(\n",
            "/usr/local/lib/python3.12/dist-packages/urllib3/connectionpool.py:1097: InsecureRequestWarning: Unverified HTTPS request is being made to host 'www.erowid.org'. Adding certificate verification is strongly advised. See: https://urllib3.readthedocs.io/en/latest/advanced-usage.html#tls-warnings\n",
            "  warnings.warn(\n",
            "/usr/local/lib/python3.12/dist-packages/urllib3/connectionpool.py:1097: InsecureRequestWarning: Unverified HTTPS request is being made to host 'www.erowid.org'. Adding certificate verification is strongly advised. See: https://urllib3.readthedocs.io/en/latest/advanced-usage.html#tls-warnings\n",
            "  warnings.warn(\n",
            "/usr/local/lib/python3.12/dist-packages/urllib3/connectionpool.py:1097: InsecureRequestWarning: Unverified HTTPS request is being made to host 'www.erowid.org'. Adding certificate verification is strongly advised. See: https://urllib3.readthedocs.io/en/latest/advanced-usage.html#tls-warnings\n",
            "  warnings.warn(\n",
            "/usr/local/lib/python3.12/dist-packages/urllib3/connectionpool.py:1097: InsecureRequestWarning: Unverified HTTPS request is being made to host 'www.erowid.org'. Adding certificate verification is strongly advised. See: https://urllib3.readthedocs.io/en/latest/advanced-usage.html#tls-warnings\n",
            "  warnings.warn(\n",
            "/usr/local/lib/python3.12/dist-packages/urllib3/connectionpool.py:1097: InsecureRequestWarning: Unverified HTTPS request is being made to host 'www.erowid.org'. Adding certificate verification is strongly advised. See: https://urllib3.readthedocs.io/en/latest/advanced-usage.html#tls-warnings\n",
            "  warnings.warn(\n",
            "/usr/local/lib/python3.12/dist-packages/urllib3/connectionpool.py:1097: InsecureRequestWarning: Unverified HTTPS request is being made to host 'www.erowid.org'. Adding certificate verification is strongly advised. See: https://urllib3.readthedocs.io/en/latest/advanced-usage.html#tls-warnings\n",
            "  warnings.warn(\n",
            "/usr/local/lib/python3.12/dist-packages/urllib3/connectionpool.py:1097: InsecureRequestWarning: Unverified HTTPS request is being made to host 'www.erowid.org'. Adding certificate verification is strongly advised. See: https://urllib3.readthedocs.io/en/latest/advanced-usage.html#tls-warnings\n",
            "  warnings.warn(\n",
            "/usr/local/lib/python3.12/dist-packages/urllib3/connectionpool.py:1097: InsecureRequestWarning: Unverified HTTPS request is being made to host 'www.erowid.org'. Adding certificate verification is strongly advised. See: https://urllib3.readthedocs.io/en/latest/advanced-usage.html#tls-warnings\n",
            "  warnings.warn(\n",
            "/usr/local/lib/python3.12/dist-packages/urllib3/connectionpool.py:1097: InsecureRequestWarning: Unverified HTTPS request is being made to host 'www.erowid.org'. Adding certificate verification is strongly advised. See: https://urllib3.readthedocs.io/en/latest/advanced-usage.html#tls-warnings\n",
            "  warnings.warn(\n",
            "/usr/local/lib/python3.12/dist-packages/urllib3/connectionpool.py:1097: InsecureRequestWarning: Unverified HTTPS request is being made to host 'www.erowid.org'. Adding certificate verification is strongly advised. See: https://urllib3.readthedocs.io/en/latest/advanced-usage.html#tls-warnings\n",
            "  warnings.warn(\n",
            "/usr/local/lib/python3.12/dist-packages/urllib3/connectionpool.py:1097: InsecureRequestWarning: Unverified HTTPS request is being made to host 'www.erowid.org'. Adding certificate verification is strongly advised. See: https://urllib3.readthedocs.io/en/latest/advanced-usage.html#tls-warnings\n",
            "  warnings.warn(\n",
            "/usr/local/lib/python3.12/dist-packages/urllib3/connectionpool.py:1097: InsecureRequestWarning: Unverified HTTPS request is being made to host 'www.erowid.org'. Adding certificate verification is strongly advised. See: https://urllib3.readthedocs.io/en/latest/advanced-usage.html#tls-warnings\n",
            "  warnings.warn(\n",
            "/usr/local/lib/python3.12/dist-packages/urllib3/connectionpool.py:1097: InsecureRequestWarning: Unverified HTTPS request is being made to host 'www.erowid.org'. Adding certificate verification is strongly advised. See: https://urllib3.readthedocs.io/en/latest/advanced-usage.html#tls-warnings\n",
            "  warnings.warn(\n",
            "/usr/local/lib/python3.12/dist-packages/urllib3/connectionpool.py:1097: InsecureRequestWarning: Unverified HTTPS request is being made to host 'www.erowid.org'. Adding certificate verification is strongly advised. See: https://urllib3.readthedocs.io/en/latest/advanced-usage.html#tls-warnings\n",
            "  warnings.warn(\n",
            "/usr/local/lib/python3.12/dist-packages/urllib3/connectionpool.py:1097: InsecureRequestWarning: Unverified HTTPS request is being made to host 'www.erowid.org'. Adding certificate verification is strongly advised. See: https://urllib3.readthedocs.io/en/latest/advanced-usage.html#tls-warnings\n",
            "  warnings.warn(\n",
            "/usr/local/lib/python3.12/dist-packages/urllib3/connectionpool.py:1097: InsecureRequestWarning: Unverified HTTPS request is being made to host 'www.erowid.org'. Adding certificate verification is strongly advised. See: https://urllib3.readthedocs.io/en/latest/advanced-usage.html#tls-warnings\n",
            "  warnings.warn(\n",
            "/usr/local/lib/python3.12/dist-packages/urllib3/connectionpool.py:1097: InsecureRequestWarning: Unverified HTTPS request is being made to host 'www.erowid.org'. Adding certificate verification is strongly advised. See: https://urllib3.readthedocs.io/en/latest/advanced-usage.html#tls-warnings\n",
            "  warnings.warn(\n",
            "/usr/local/lib/python3.12/dist-packages/urllib3/connectionpool.py:1097: InsecureRequestWarning: Unverified HTTPS request is being made to host 'www.erowid.org'. Adding certificate verification is strongly advised. See: https://urllib3.readthedocs.io/en/latest/advanced-usage.html#tls-warnings\n",
            "  warnings.warn(\n",
            "/usr/local/lib/python3.12/dist-packages/urllib3/connectionpool.py:1097: InsecureRequestWarning: Unverified HTTPS request is being made to host 'www.erowid.org'. Adding certificate verification is strongly advised. See: https://urllib3.readthedocs.io/en/latest/advanced-usage.html#tls-warnings\n",
            "  warnings.warn(\n",
            "/usr/local/lib/python3.12/dist-packages/urllib3/connectionpool.py:1097: InsecureRequestWarning: Unverified HTTPS request is being made to host 'www.erowid.org'. Adding certificate verification is strongly advised. See: https://urllib3.readthedocs.io/en/latest/advanced-usage.html#tls-warnings\n",
            "  warnings.warn(\n",
            "/usr/local/lib/python3.12/dist-packages/urllib3/connectionpool.py:1097: InsecureRequestWarning: Unverified HTTPS request is being made to host 'www.erowid.org'. Adding certificate verification is strongly advised. See: https://urllib3.readthedocs.io/en/latest/advanced-usage.html#tls-warnings\n",
            "  warnings.warn(\n",
            "/usr/local/lib/python3.12/dist-packages/urllib3/connectionpool.py:1097: InsecureRequestWarning: Unverified HTTPS request is being made to host 'www.erowid.org'. Adding certificate verification is strongly advised. See: https://urllib3.readthedocs.io/en/latest/advanced-usage.html#tls-warnings\n",
            "  warnings.warn(\n",
            "/usr/local/lib/python3.12/dist-packages/urllib3/connectionpool.py:1097: InsecureRequestWarning: Unverified HTTPS request is being made to host 'www.erowid.org'. Adding certificate verification is strongly advised. See: https://urllib3.readthedocs.io/en/latest/advanced-usage.html#tls-warnings\n",
            "  warnings.warn(\n",
            "/usr/local/lib/python3.12/dist-packages/urllib3/connectionpool.py:1097: InsecureRequestWarning: Unverified HTTPS request is being made to host 'www.erowid.org'. Adding certificate verification is strongly advised. See: https://urllib3.readthedocs.io/en/latest/advanced-usage.html#tls-warnings\n",
            "  warnings.warn(\n",
            "/usr/local/lib/python3.12/dist-packages/urllib3/connectionpool.py:1097: InsecureRequestWarning: Unverified HTTPS request is being made to host 'www.erowid.org'. Adding certificate verification is strongly advised. See: https://urllib3.readthedocs.io/en/latest/advanced-usage.html#tls-warnings\n",
            "  warnings.warn(\n",
            "/usr/local/lib/python3.12/dist-packages/urllib3/connectionpool.py:1097: InsecureRequestWarning: Unverified HTTPS request is being made to host 'www.erowid.org'. Adding certificate verification is strongly advised. See: https://urllib3.readthedocs.io/en/latest/advanced-usage.html#tls-warnings\n",
            "  warnings.warn(\n",
            "/usr/local/lib/python3.12/dist-packages/urllib3/connectionpool.py:1097: InsecureRequestWarning: Unverified HTTPS request is being made to host 'www.erowid.org'. Adding certificate verification is strongly advised. See: https://urllib3.readthedocs.io/en/latest/advanced-usage.html#tls-warnings\n",
            "  warnings.warn(\n",
            "/usr/local/lib/python3.12/dist-packages/urllib3/connectionpool.py:1097: InsecureRequestWarning: Unverified HTTPS request is being made to host 'www.erowid.org'. Adding certificate verification is strongly advised. See: https://urllib3.readthedocs.io/en/latest/advanced-usage.html#tls-warnings\n",
            "  warnings.warn(\n",
            "/usr/local/lib/python3.12/dist-packages/urllib3/connectionpool.py:1097: InsecureRequestWarning: Unverified HTTPS request is being made to host 'www.erowid.org'. Adding certificate verification is strongly advised. See: https://urllib3.readthedocs.io/en/latest/advanced-usage.html#tls-warnings\n",
            "  warnings.warn(\n",
            "/usr/local/lib/python3.12/dist-packages/urllib3/connectionpool.py:1097: InsecureRequestWarning: Unverified HTTPS request is being made to host 'www.erowid.org'. Adding certificate verification is strongly advised. See: https://urllib3.readthedocs.io/en/latest/advanced-usage.html#tls-warnings\n",
            "  warnings.warn(\n",
            "/usr/local/lib/python3.12/dist-packages/urllib3/connectionpool.py:1097: InsecureRequestWarning: Unverified HTTPS request is being made to host 'www.erowid.org'. Adding certificate verification is strongly advised. See: https://urllib3.readthedocs.io/en/latest/advanced-usage.html#tls-warnings\n",
            "  warnings.warn(\n",
            "/usr/local/lib/python3.12/dist-packages/urllib3/connectionpool.py:1097: InsecureRequestWarning: Unverified HTTPS request is being made to host 'www.erowid.org'. Adding certificate verification is strongly advised. See: https://urllib3.readthedocs.io/en/latest/advanced-usage.html#tls-warnings\n",
            "  warnings.warn(\n",
            "/usr/local/lib/python3.12/dist-packages/urllib3/connectionpool.py:1097: InsecureRequestWarning: Unverified HTTPS request is being made to host 'www.erowid.org'. Adding certificate verification is strongly advised. See: https://urllib3.readthedocs.io/en/latest/advanced-usage.html#tls-warnings\n",
            "  warnings.warn(\n",
            "/usr/local/lib/python3.12/dist-packages/urllib3/connectionpool.py:1097: InsecureRequestWarning: Unverified HTTPS request is being made to host 'www.erowid.org'. Adding certificate verification is strongly advised. See: https://urllib3.readthedocs.io/en/latest/advanced-usage.html#tls-warnings\n",
            "  warnings.warn(\n",
            "/usr/local/lib/python3.12/dist-packages/urllib3/connectionpool.py:1097: InsecureRequestWarning: Unverified HTTPS request is being made to host 'www.erowid.org'. Adding certificate verification is strongly advised. See: https://urllib3.readthedocs.io/en/latest/advanced-usage.html#tls-warnings\n",
            "  warnings.warn(\n",
            "/usr/local/lib/python3.12/dist-packages/urllib3/connectionpool.py:1097: InsecureRequestWarning: Unverified HTTPS request is being made to host 'www.erowid.org'. Adding certificate verification is strongly advised. See: https://urllib3.readthedocs.io/en/latest/advanced-usage.html#tls-warnings\n",
            "  warnings.warn(\n"
          ]
        },
        {
          "output_type": "stream",
          "name": "stdout",
          "text": [
            "{'link': 'https://www.erowid.org/experiences/exp.php?ID=118252', 'substance': 'DMT Fumarate & Harmala Alkaloids', 'dosechart': '<table class=\"dosechart\">\\n<tr>\\n<td align=\"right\" class=\"dosechart-time\">DOSE:<br/> T+ 0:00</td>\\n<td align=\"center\" class=\"dosechart-amount\">1 - 3 g</td>\\n<td align=\"center\" class=\"dosechart-method\">oral</td>\\n<td class=\"dosechart-substance\"><a href=\"/plants/kratom/\">Kratom</a></td>\\n<td class=\"dosechart-form\">(daily)</td>\\n</tr>\\n<tr>\\n<td align=\"right\" class=\"dosechart-time\">\\xa0 T+ 0:00</td>\\n<td align=\"center\" class=\"dosechart-amount\">210 mg</td>\\n<td align=\"center\" class=\"dosechart-method\">oral</td>\\n<td class=\"dosechart-substance\">Harmine</td>\\n<td class=\"dosechart-form\">(capsule)</td>\\n</tr>\\n<tr>\\n<td align=\"right\" class=\"dosechart-time\">\\xa0 T+ 0:00</td>\\n<td align=\"center\" class=\"dosechart-amount\">210 mg</td>\\n<td align=\"center\" class=\"dosechart-method\">oral</td>\\n<td class=\"dosechart-substance\"><a href=\"/chemicals/harmala/\">Tetrahydroharmine</a></td>\\n<td class=\"dosechart-form\">(capsule)</td>\\n</tr>\\n<tr>\\n<td align=\"right\" class=\"dosechart-time\">\\xa0 T+ 0:20</td>\\n<td align=\"center\" class=\"dosechart-amount\">50 mg</td>\\n<td align=\"center\" class=\"dosechart-method\">oral</td>\\n<td class=\"dosechart-substance\"><a href=\"/chemicals/dmt/\">DMT</a></td>\\n<td class=\"dosechart-form\">(capsule)</td>\\n</tr>\\n<tr>\\n<td align=\"right\" class=\"dosechart-time\">\\xa0 T+ 1:20</td>\\n<td align=\"center\" class=\"dosechart-amount\">35 mg</td>\\n<td align=\"center\" class=\"dosechart-method\">oral</td>\\n<td class=\"dosechart-substance\"><a href=\"/chemicals/dmt/\">DMT</a></td>\\n<td class=\"dosechart-form\">(capsule)</td>\\n</tr>\\n<tr>\\n<td align=\"right\" class=\"dosechart-time\">\\xa0 T+ 4:50</td>\\n<td align=\"center\" class=\"dosechart-amount\">2 tablets</td>\\n<td align=\"center\" class=\"dosechart-method\">oral</td>\\n<td class=\"dosechart-substance\">Skullcap</td>\\n<td class=\"dosechart-form\">(extract)</td>\\n</tr>\\n<tr>\\n<td align=\"right\" class=\"dosechart-time\">\\xa0 T+ 4:50</td>\\n<td align=\"center\" class=\"dosechart-amount\">100 ug</td>\\n<td align=\"center\" class=\"dosechart-method\">oral</td>\\n<td class=\"dosechart-substance\"><a href=\"/pharms/clonidine/\">Pharms - Clonidine</a></td>\\n<td class=\"dosechart-form\">(pill / tablet)</td>\\n</tr>\\n<tr>\\n<td align=\"right\" class=\"dosechart-time\">\\xa0 T+ 0:00</td>\\n<td align=\"center\" class=\"dosechart-amount\">100 ug</td>\\n<td align=\"center\" class=\"dosechart-method\">oral</td>\\n<td class=\"dosechart-substance\"><a href=\"/pharms/clonidine/\">Pharms - Clonidine</a></td>\\n<td class=\"dosechart-form\">(pill / tablet)</td>\\n</tr>\\n<tr>\\n<td align=\"right\" class=\"dosechart-time\">\\xa0 T+ 24:00</td>\\n<td align=\"center\" class=\"dosechart-amount\">210 mg</td>\\n<td align=\"center\" class=\"dosechart-method\">oral</td>\\n<td class=\"dosechart-substance\">Harmine</td>\\n<td class=\"dosechart-form\">(capsule)</td>\\n</tr>\\n<tr>\\n<td align=\"right\" class=\"dosechart-time\">\\xa0 T+ 24:00</td>\\n<td align=\"center\" class=\"dosechart-amount\">210 mg</td>\\n<td align=\"center\" class=\"dosechart-method\">oral</td>\\n<td class=\"dosechart-substance\"><a href=\"/chemicals/harmala/\">Tetrahydroharmine</a></td>\\n<td class=\"dosechart-form\">(capsule)</td>\\n</tr>\\n<tr>\\n<td align=\"right\" class=\"dosechart-time\">\\xa0 T+ 24:20</td>\\n<td align=\"center\" class=\"dosechart-amount\">60 mg</td>\\n<td align=\"center\" class=\"dosechart-method\">oral</td>\\n<td class=\"dosechart-substance\"><a href=\"/chemicals/dmt/\">DMT</a></td>\\n<td class=\"dosechart-form\">(capsule)</td>\\n</tr>\\n<tr>\\n<td align=\"right\" class=\"dosechart-time\">\\xa0 T+ 25:30</td>\\n<td align=\"center\" class=\"dosechart-amount\">210 mg</td>\\n<td align=\"center\" class=\"dosechart-method\">oral</td>\\n<td class=\"dosechart-substance\"><a href=\"/chemicals/harmala/\">Tetrahydroharmine</a></td>\\n<td class=\"dosechart-form\">(capsule)</td>\\n</tr>\\n<tr>\\n<td align=\"right\" class=\"dosechart-time\">\\xa0 T+ 25:30</td>\\n<td align=\"center\" class=\"dosechart-amount\">210 mg</td>\\n<td align=\"center\" class=\"dosechart-method\">oral</td>\\n<td class=\"dosechart-substance\">Harmine</td>\\n<td class=\"dosechart-form\">(capsule)</td>\\n</tr>\\n<tr>\\n<td align=\"right\" class=\"dosechart-time\">\\xa0 T+ 25:30</td>\\n<td align=\"center\" class=\"dosechart-amount\">20 mg</td>\\n<td align=\"center\" class=\"dosechart-method\">oral</td>\\n<td class=\"dosechart-substance\">Harmaline</td>\\n<td class=\"dosechart-form\">(capsule)</td>\\n</tr>\\n</table>', 'bodyweight': '<table class=\"bodyweight\">\\n<tr>\\n<td class=\"bodyweight-title\">BODY WEIGHT:</td>\\n<td class=\"bodyweight-amount\">135 lb</td>\\n</tr>\\n</table>', 'footdata': '<table class=\"footdata\">\\n<tr><td class=\"footdata-expyear\">Exp Year: 2024</td><td class=\"footdata-expid\">ExpID: 118252</td></tr>\\n<tr><td class=\"footdata-gender\">Gender: Female</td><td>\\xa0</td></tr>\\n<tr><td class=\"footdata-ageofexp\" colspan=\"2\">Age at time of experience: 36</td></tr>\\n<tr><td class=\"footdata-pubdate\">Published: Oct 25, 2024</td><td class=\"footdata-numviews\">Views: 17</td></tr>\\n<tr><td class=\"footdata-other-formats\" colspan=\"2\">[ <a href=\"exp.php?ID=118252&amp;format=pdf\" type=\"text/pdf\">View PDF (to print)</a> ] [ <a href=\"exp_pdf.php?ID=118252&amp;format=latex\">View LaTeX (for geeks)</a> ]\\n[\\xa0<a href=\"#\" onclick=\"expChangeColors(); return false;\">Swap\\xa0Dark/Light</a>\\xa0]\\n</td></tr>\\n<tr><td class=\"footdata-topic-list\" colspan=\"2\">Pharmahuasca\\xa0(822), Tetrahydroharmine\\xa0(473), Harmine\\xa0(315), DMT\\xa0(18) : Small Group (2-9)\\xa0(17), Therapeutic Intent or Outcome\\xa0(49), Combinations\\xa0(3)</td></tr>\\n<!--  <img src=\"/images/new.gif\" alt=\"May\"> -->\\n</table>'}\n",
            "{'link': 'https://www.erowid.org/experiences/exp.php?ID=112397', 'substance': 'DMT & Changa', 'dosechart': '<table class=\"dosechart\">\\n<tr>\\n<td align=\"right\" class=\"dosechart-time\">DOSE:<br/> T+ 0:00</td>\\n<td align=\"center\" class=\"dosechart-amount\">138 mg</td>\\n<td align=\"center\" class=\"dosechart-method\">smoked</td>\\n<td class=\"dosechart-substance\">Changa</td>\\n<td class=\"dosechart-form\">\\xa0</td>\\n</tr>\\n<tr>\\n<td align=\"right\" class=\"dosechart-time\">\\xa0 T+ 0:05</td>\\n<td align=\"center\" class=\"dosechart-amount\">37 mg</td>\\n<td align=\"center\" class=\"dosechart-method\">vaporized</td>\\n<td class=\"dosechart-substance\"><a href=\"/chemicals/dmt/\">DMT</a></td>\\n<td class=\"dosechart-form\">(powder / crystals)</td>\\n</tr>\\n<tr>\\n<td align=\"right\" class=\"dosechart-time\">\\xa0 T+ 0:27</td>\\n<td align=\"center\" class=\"dosechart-amount\">\\xa0 repeated</td>\\n<td align=\"center\" class=\"dosechart-method\">smoked</td>\\n<td class=\"dosechart-substance\">Changa</td>\\n<td class=\"dosechart-form\">\\xa0</td>\\n</tr>\\n</table>', 'bodyweight': '<table class=\"bodyweight\">\\n<tr>\\n<td class=\"bodyweight-title\">BODY WEIGHT:</td>\\n<td class=\"bodyweight-amount\">125 lb</td>\\n</tr>\\n</table>', 'footdata': '<table class=\"footdata\">\\n<tr><td class=\"footdata-expyear\">Exp Year: 2018</td><td class=\"footdata-expid\">ExpID: 112397</td></tr>\\n<tr><td class=\"footdata-gender\">Gender: Female</td><td>\\xa0</td></tr>\\n<tr><td class=\"footdata-ageofexp\" colspan=\"2\">Age at time of experience: 25</td></tr>\\n<tr><td class=\"footdata-pubdate\">Published: Sep 24, 2018</td><td class=\"footdata-numviews\">Views: 16,930</td></tr>\\n<tr><td class=\"footdata-other-formats\" colspan=\"2\">[ <a href=\"exp.php?ID=112397&amp;format=pdf\" type=\"text/pdf\">View PDF (to print)</a> ] [ <a href=\"exp_pdf.php?ID=112397&amp;format=latex\">View LaTeX (for geeks)</a> ]\\n[\\xa0<a href=\"#\" onclick=\"expChangeColors(); return false;\">Swap\\xa0Dark/Light</a>\\xa0]\\n</td></tr>\\n<tr><td class=\"footdata-topic-list\" colspan=\"2\">Changa\\xa0(816), DMT\\xa0(18) : Small Group (2-9)\\xa0(17), Guides / Sitters\\xa0(39), Nature / Outdoors\\xa0(23), Glowing Experiences\\xa0(4), Combinations\\xa0(3), First Times\\xa0(2), General\\xa0(1)</td></tr>\\n<!--  <img src=\"/images/new.gif\" alt=\"May\"> -->\\n</table>'}\n",
            "{'link': 'https://www.erowid.org/experiences/exp.php?ID=96444', 'substance': 'DMT & Methoxetamine', 'dosechart': '<table class=\"dosechart\">\\n<tr>\\n<td align=\"right\" class=\"dosechart-time\">DOSE:<br/></td>\\n<td align=\"center\" class=\"dosechart-amount\">75 mg</td>\\n<td align=\"center\" class=\"dosechart-method\">insufflated</td>\\n<td class=\"dosechart-substance\"><a href=\"/chemicals/methoxetamine/\">Methoxetamine</a></td>\\n<td class=\"dosechart-form\">(powder / crystals)</td>\\n</tr>\\n<tr>\\n<td align=\"right\" class=\"dosechart-time\">\\xa0</td>\\n<td align=\"center\" class=\"dosechart-amount\">75 mg</td>\\n<td align=\"center\" class=\"dosechart-method\">smoked</td>\\n<td class=\"dosechart-substance\"><a href=\"/chemicals/dmt/\">DMT</a></td>\\n<td class=\"dosechart-form\">(powder / crystals)</td>\\n</tr>\\n</table>', 'bodyweight': '<table class=\"bodyweight\">\\n<tr>\\n<td class=\"bodyweight-title\">BODY WEIGHT:</td>\\n<td class=\"bodyweight-amount\">150 lb</td>\\n</tr>\\n</table>', 'footdata': '<table class=\"footdata\">\\n<tr><td class=\"footdata-expyear\">Exp Year: 2011</td><td class=\"footdata-expid\">ExpID: 96444</td></tr>\\n<tr><td class=\"footdata-gender\">Gender: Male</td><td>\\xa0</td></tr>\\n<tr><td class=\"footdata-ageofexp\" colspan=\"2\">Age at time of experience: 21</td></tr>\\n<tr><td class=\"footdata-pubdate\">Published: Oct 10, 2012</td><td class=\"footdata-numviews\">Views: 137,210</td></tr>\\n<tr><td class=\"footdata-other-formats\" colspan=\"2\">[ <a href=\"exp.php?ID=96444&amp;format=pdf\" type=\"text/pdf\">View PDF (to print)</a> ] [ <a href=\"exp_pdf.php?ID=96444&amp;format=latex\">View LaTeX (for geeks)</a> ]\\n[\\xa0<a href=\"#\" onclick=\"expChangeColors(); return false;\">Swap\\xa0Dark/Light</a>\\xa0]\\n</td></tr>\\n<tr><td class=\"footdata-topic-list\" colspan=\"2\">DMT\\xa0(18), Methoxetamine\\xa0(527) : General\\xa0(1), First Times\\xa0(2), Combinations\\xa0(3), Mystical Experiences\\xa0(9), Music Discussion\\xa0(22), Entities / Beings\\xa0(37), Hangover / Days After\\xa0(46), Alone\\xa0(16)</td></tr>\\n<!--  <img src=\"/images/new.gif\" alt=\"May\"> -->\\n</table>'}\n",
            "{'link': 'https://www.erowid.org/experiences/exp.php?ID=64048', 'substance': 'Syrian Rue, Cacti - T. peruvianus, 2C-E, 4-AcO-DMT & DMT', 'dosechart': '<table class=\"dosechart\">\\n<tr>\\n<td align=\"right\" class=\"dosechart-time\">DOSE:<br/> T+ 0:00</td>\\n<td align=\"center\" class=\"dosechart-amount\">3.0 g</td>\\n<td align=\"center\" class=\"dosechart-method\">oral</td>\\n<td class=\"dosechart-substance\"><a href=\"/plants/syrian_rue/\">Syrian Rue</a></td>\\n<td class=\"dosechart-form\">(ground / crushed)</td>\\n</tr>\\n<tr>\\n<td align=\"right\" class=\"dosechart-time\">\\xa0 T+ 0:00</td>\\n<td align=\"center\" class=\"dosechart-amount\">30 g</td>\\n<td align=\"center\" class=\"dosechart-method\">oral</td>\\n<td class=\"dosechart-substance\"><a href=\"/plants/cacti/\">Cacti - T. peruvianus</a></td>\\n<td class=\"dosechart-form\">(dried)</td>\\n</tr>\\n<tr>\\n<td align=\"right\" class=\"dosechart-time\">\\xa0 T+ 2:00</td>\\n<td align=\"center\" class=\"dosechart-amount\">3.0 mg</td>\\n<td align=\"center\" class=\"dosechart-method\">IM</td>\\n<td class=\"dosechart-substance\"><a href=\"/chemicals/2ce/\">2C-E</a></td>\\n<td class=\"dosechart-form\">\\xa0</td>\\n</tr>\\n<tr>\\n<td align=\"right\" class=\"dosechart-time\">\\xa0 T+ 3:00</td>\\n<td align=\"center\" class=\"dosechart-amount\">10 mg</td>\\n<td align=\"center\" class=\"dosechart-method\">oral</td>\\n<td class=\"dosechart-substance\"><a href=\"/chemicals/4_acetoxy_dmt/\">4-AcO-DMT</a></td>\\n<td class=\"dosechart-form\">(liquid)</td>\\n</tr>\\n<tr>\\n<td align=\"right\" class=\"dosechart-time\">\\xa0 T+ 5:00</td>\\n<td align=\"center\" class=\"dosechart-amount\">25 mg</td>\\n<td align=\"center\" class=\"dosechart-method\">IM</td>\\n<td class=\"dosechart-substance\"><a href=\"/chemicals/dmt/\">DMT</a></td>\\n<td class=\"dosechart-form\">\\xa0</td>\\n</tr>\\n<tr>\\n<td align=\"right\" class=\"dosechart-time\">\\xa0 T+ 5:09</td>\\n<td align=\"center\" class=\"dosechart-amount\">25 mg</td>\\n<td align=\"center\" class=\"dosechart-method\">IM</td>\\n<td class=\"dosechart-substance\"><a href=\"/chemicals/dmt/\">DMT</a></td>\\n<td class=\"dosechart-form\">\\xa0</td>\\n</tr>\\n</table>', 'bodyweight': '<table class=\"bodyweight\">\\n<tr>\\n<td class=\"bodyweight-title\">BODY WEIGHT:</td>\\n<td class=\"bodyweight-amount\">170 lb</td>\\n</tr>\\n</table>', 'footdata': '<table class=\"footdata\">\\n<tr><td class=\"footdata-expyear\">Exp Year: 2007</td><td class=\"footdata-expid\">ExpID: 64048</td></tr>\\n<tr><td class=\"footdata-gender\">Gender: Male</td><td>\\xa0</td></tr>\\n<tr><td class=\"footdata-ageofexp\" colspan=\"2\">Age at time of experience: Not Given</td></tr>\\n<tr><td class=\"footdata-pubdate\">Published: Jun 28, 2007</td><td class=\"footdata-numviews\">Views: 67,270</td></tr>\\n<tr><td class=\"footdata-other-formats\" colspan=\"2\">[ <a href=\"exp.php?ID=64048&amp;format=pdf\" type=\"text/pdf\">View PDF (to print)</a> ] [ <a href=\"exp_pdf.php?ID=64048&amp;format=latex\">View LaTeX (for geeks)</a> ]\\n[\\xa0<a href=\"#\" onclick=\"expChangeColors(); return false;\">Swap\\xa0Dark/Light</a>\\xa0]\\n</td></tr>\\n<tr><td class=\"footdata-topic-list\" colspan=\"2\">Huasca Combo\\xa0(269), 2C-E\\xa0(137), 4-AcO-DMT\\xa0(387), DMT\\xa0(18), Cacti - T. peruvianus\\xa0(69), Syrian Rue\\xa0(45) : Alone\\xa0(16), Combinations\\xa0(3)</td></tr>\\n<!--  <img src=\"/images/new.gif\" alt=\"May\"> -->\\n</table>'}\n",
            "{'link': 'https://www.erowid.org/experiences/exp.php?ID=62835', 'substance': 'DMT', 'dosechart': '<table class=\"dosechart\">\\n<tr>\\n<td align=\"right\" class=\"dosechart-time\">DOSE:<br/></td>\\n<td align=\"center\" class=\"dosechart-amount\">\\xa0 </td>\\n<td align=\"center\" class=\"dosechart-method\">smoked</td>\\n<td class=\"dosechart-substance\"><a href=\"/chemicals/dmt/\">DMT</a></td>\\n<td class=\"dosechart-form\">(freebase)</td>\\n</tr>\\n</table>', 'bodyweight': '<table class=\"bodyweight\">\\n<tr>\\n<td class=\"bodyweight-title\">BODY WEIGHT:</td>\\n<td class=\"bodyweight-amount\">70 kg</td>\\n</tr>\\n</table>', 'footdata': '<table class=\"footdata\">\\n<tr><td class=\"footdata-expyear\">Exp Year: 2007</td><td class=\"footdata-expid\">ExpID: 62835</td></tr>\\n<tr><td class=\"footdata-gender\">Gender: Male</td><td>\\xa0</td></tr>\\n<tr><td class=\"footdata-ageofexp\" colspan=\"2\">Age at time of experience: Not Given</td></tr>\\n<tr><td class=\"footdata-pubdate\">Published: May 24, 2007</td><td class=\"footdata-numviews\">Views: 163,085</td></tr>\\n<tr><td class=\"footdata-other-formats\" colspan=\"2\">[ <a href=\"exp.php?ID=62835&amp;format=pdf\" type=\"text/pdf\">View PDF (to print)</a> ] [ <a href=\"exp_pdf.php?ID=62835&amp;format=latex\">View LaTeX (for geeks)</a> ]\\n[\\xa0<a href=\"#\" onclick=\"expChangeColors(); return false;\">Swap\\xa0Dark/Light</a>\\xa0]\\n</td></tr>\\n<tr><td class=\"footdata-topic-list\" colspan=\"2\">DMT\\xa0(18) : Alone\\xa0(16), Retrospective / Summary\\xa0(11), General\\xa0(1)</td></tr>\\n<!--  <img src=\"/images/new.gif\" alt=\"May\"> -->\\n</table>'}\n",
            "{'link': 'https://www.erowid.org/experiences/exp.php?ID=34866', 'substance': 'Pharmahuasca (Harmaline & 5-MeO-DMT) & DMT', 'dosechart': '<table class=\"dosechart\">\\n<tr>\\n<td align=\"right\" class=\"dosechart-time\">DOSE:<br/> T+ 0:00</td>\\n<td align=\"center\" class=\"dosechart-amount\">150 mg</td>\\n<td align=\"center\" class=\"dosechart-method\">oral</td>\\n<td class=\"dosechart-substance\">Harmaline</td>\\n<td class=\"dosechart-form\">(pill / tablet)</td>\\n</tr>\\n<tr>\\n<td align=\"right\" class=\"dosechart-time\">\\xa0 T+ 0:20</td>\\n<td align=\"center\" class=\"dosechart-amount\">40 mg</td>\\n<td align=\"center\" class=\"dosechart-method\">oral</td>\\n<td class=\"dosechart-substance\"><a href=\"/chemicals/5meo_dmt/\">5-MeO-DMT</a></td>\\n<td class=\"dosechart-form\">(pill / tablet)</td>\\n</tr>\\n<tr>\\n<td align=\"right\" class=\"dosechart-time\">\\xa0 T+ 24:00</td>\\n<td align=\"center\" class=\"dosechart-amount\">20 mg</td>\\n<td align=\"center\" class=\"dosechart-method\">smoked</td>\\n<td class=\"dosechart-substance\"><a href=\"/chemicals/dmt/\">DMT</a></td>\\n<td class=\"dosechart-form\">(powder / crystals)</td>\\n</tr>\\n</table>', 'bodyweight': '<table class=\"bodyweight\">\\n<tr>\\n<td class=\"bodyweight-title\">BODY WEIGHT:</td>\\n<td class=\"bodyweight-amount\">115 lb</td>\\n</tr>\\n</table>', 'footdata': '<table class=\"footdata\">\\n<tr><td class=\"footdata-expyear\">Exp Year: 1999</td><td class=\"footdata-expid\">ExpID: 34866</td></tr>\\n<tr><td class=\"footdata-gender\">Gender: Male</td><td>\\xa0</td></tr>\\n<tr><td class=\"footdata-ageofexp\" colspan=\"2\">Age at time of experience: Not Given</td></tr>\\n<tr><td class=\"footdata-pubdate\">Published: Jul 7, 2004</td><td class=\"footdata-numviews\">Views: 142,077</td></tr>\\n<tr><td class=\"footdata-other-formats\" colspan=\"2\">[ <a href=\"exp.php?ID=34866&amp;format=pdf\" type=\"text/pdf\">View PDF (to print)</a> ] [ <a href=\"exp_pdf.php?ID=34866&amp;format=latex\">View LaTeX (for geeks)</a> ]\\n[\\xa0<a href=\"#\" onclick=\"expChangeColors(); return false;\">Swap\\xa0Dark/Light</a>\\xa0]\\n</td></tr>\\n<tr><td class=\"footdata-topic-list\" colspan=\"2\">DMT\\xa0(18), 5-MeO-DMT\\xa0(58), Harmaline\\xa0(314), Pharmahuasca\\xa0(822) : Small Group (2-9)\\xa0(17), Multi-Day Experience\\xa0(13), Guides / Sitters\\xa0(39), Entities / Beings\\xa0(37), Nature / Outdoors\\xa0(23), Mystical Experiences\\xa0(9), Glowing Experiences\\xa0(4), Difficult Experiences\\xa0(5), Combinations\\xa0(3), First Times\\xa0(2), General\\xa0(1)</td></tr>\\n<!--  <img src=\"/images/new.gif\" alt=\"May\"> -->\\n</table>'}\n",
            "{'link': 'https://www.erowid.org/experiences/exp.php?ID=113441', 'substance': 'Ketamine & DMT', 'dosechart': '<table class=\"dosechart\">\\n<tr>\\n<td align=\"right\" class=\"dosechart-time\">DOSE:<br/> T+ 0:00</td>\\n<td align=\"center\" class=\"dosechart-amount\">35 mg</td>\\n<td align=\"center\" class=\"dosechart-method\">insufflated</td>\\n<td class=\"dosechart-substance\"><a href=\"/chemicals/ketamine/\">Ketamine</a></td>\\n<td class=\"dosechart-form\">(powder / crystals)</td>\\n</tr>\\n<tr>\\n<td align=\"right\" class=\"dosechart-time\">\\xa0 T+ 0:21</td>\\n<td align=\"center\" class=\"dosechart-amount\">96 mg</td>\\n<td align=\"center\" class=\"dosechart-method\">insufflated</td>\\n<td class=\"dosechart-substance\"><a href=\"/chemicals/ketamine/\">Ketamine</a></td>\\n<td class=\"dosechart-form\">(powder / crystals)</td>\\n</tr>\\n<tr>\\n<td align=\"right\" class=\"dosechart-time\">\\xa0 T+ 0:53</td>\\n<td align=\"center\" class=\"dosechart-amount\">31 mg</td>\\n<td align=\"center\" class=\"dosechart-method\">vaporized</td>\\n<td class=\"dosechart-substance\"><a href=\"/chemicals/dmt/\">DMT</a></td>\\n<td class=\"dosechart-form\">(powder / crystals)</td>\\n</tr>\\n<tr>\\n<td align=\"right\" class=\"dosechart-time\">\\xa0 T+ 2:00</td>\\n<td align=\"center\" class=\"dosechart-amount\">12 oz</td>\\n<td align=\"center\" class=\"dosechart-method\">oral</td>\\n<td class=\"dosechart-substance\"><a href=\"/chemicals/alcohol/\">Alcohol - Beer/Wine</a></td>\\n<td class=\"dosechart-form\">(liquid)</td>\\n</tr>\\n<tr>\\n<td align=\"right\" class=\"dosechart-time\">\\xa0 T+ 2:19</td>\\n<td align=\"center\" class=\"dosechart-amount\">12 oz</td>\\n<td align=\"center\" class=\"dosechart-method\">oral</td>\\n<td class=\"dosechart-substance\"><a href=\"/chemicals/alcohol/\">Alcohol - Beer/Wine</a></td>\\n<td class=\"dosechart-form\">(liquid)</td>\\n</tr>\\n</table>', 'bodyweight': '<table class=\"bodyweight\">\\n<tr>\\n<td class=\"bodyweight-title\">BODY WEIGHT:</td>\\n<td class=\"bodyweight-amount\">184 lb</td>\\n</tr>\\n</table>', 'footdata': '<table class=\"footdata\">\\n<tr><td class=\"footdata-expyear\">Exp Year: 2019</td><td class=\"footdata-expid\">ExpID: 113441</td></tr>\\n<tr><td class=\"footdata-gender\">Gender: Male</td><td>\\xa0</td></tr>\\n<tr><td class=\"footdata-ageofexp\" colspan=\"2\">Age at time of experience: 29</td></tr>\\n<tr><td class=\"footdata-pubdate\">Published: Aug 2, 2019</td><td class=\"footdata-numviews\">Views: 9,750</td></tr>\\n<tr><td class=\"footdata-other-formats\" colspan=\"2\">[ <a href=\"exp.php?ID=113441&amp;format=pdf\" type=\"text/pdf\">View PDF (to print)</a> ] [ <a href=\"exp_pdf.php?ID=113441&amp;format=latex\">View LaTeX (for geeks)</a> ]\\n[\\xa0<a href=\"#\" onclick=\"expChangeColors(); return false;\">Swap\\xa0Dark/Light</a>\\xa0]\\n</td></tr>\\n<tr><td class=\"footdata-topic-list\" colspan=\"2\">DMT\\xa0(18), Ketamine\\xa0(31) : Small Group (2-9)\\xa0(17), Personal Preparation\\xa0(45), Combinations\\xa0(3)</td></tr>\\n<!--  <img src=\"/images/new.gif\" alt=\"May\"> -->\\n</table>'}\n",
            "{'link': 'https://www.erowid.org/experiences/exp.php?ID=113133', 'substance': 'DMT', 'dosechart': '<table class=\"dosechart\">\\n<tr>\\n<td align=\"right\" class=\"dosechart-time\">DOSE:<br/></td>\\n<td align=\"center\" class=\"dosechart-amount\">2 hits</td>\\n<td align=\"center\" class=\"dosechart-method\">vaporized</td>\\n<td class=\"dosechart-substance\"><a href=\"/chemicals/dmt/\">DMT</a></td>\\n</tr>\\n</table>', 'bodyweight': '<table class=\"bodyweight\">\\n<tr>\\n<td class=\"bodyweight-title\">BODY WEIGHT:</td>\\n<td class=\"bodyweight-amount\">150 lb</td>\\n</tr>\\n</table>', 'footdata': '<table class=\"footdata\">\\n<tr><td class=\"footdata-expyear\">Exp Year: 2018</td><td class=\"footdata-expid\">ExpID: 113133</td></tr>\\n<tr><td class=\"footdata-gender\">Gender: Male</td><td>\\xa0</td></tr>\\n<tr><td class=\"footdata-ageofexp\" colspan=\"2\">Age at time of experience: 23</td></tr>\\n<tr><td class=\"footdata-pubdate\">Published: May 4, 2019</td><td class=\"footdata-numviews\">Views: 21,572</td></tr>\\n<tr><td class=\"footdata-other-formats\" colspan=\"2\">[ <a href=\"exp.php?ID=113133&amp;format=pdf\" type=\"text/pdf\">View PDF (to print)</a> ] [ <a href=\"exp_pdf.php?ID=113133&amp;format=latex\">View LaTeX (for geeks)</a> ]\\n[\\xa0<a href=\"#\" onclick=\"expChangeColors(); return false;\">Swap\\xa0Dark/Light</a>\\xa0]\\n</td></tr>\\n<tr><td class=\"footdata-topic-list\" colspan=\"2\">DMT\\xa0(18) : Small Group (2-9)\\xa0(17), First Times\\xa0(2), General\\xa0(1)</td></tr>\\n<!--  <img src=\"/images/new.gif\" alt=\"May\"> -->\\n</table>'}\n",
            "{'link': 'https://www.erowid.org/experiences/exp.php?ID=99695', 'substance': 'DMT', 'dosechart': '<table class=\"dosechart\">\\n<tr>\\n<td align=\"right\" class=\"dosechart-time\">DOSE:<br/></td>\\n<td align=\"center\" class=\"dosechart-amount\">40 mg</td>\\n<td align=\"center\" class=\"dosechart-method\">smoked</td>\\n<td class=\"dosechart-substance\"><a href=\"/chemicals/dmt/\">DMT</a></td>\\n<td class=\"dosechart-form\">(powder / crystals)</td>\\n</tr>\\n<tr>\\n<td align=\"right\" class=\"dosechart-time\">\\xa0</td>\\n<td align=\"center\" class=\"dosechart-amount\">\\xa0 </td>\\n<td align=\"center\" class=\"dosechart-method\">smoked</td>\\n<td class=\"dosechart-substance\"><a href=\"/plants/cannabis/\">Cannabis</a></td>\\n<td class=\"dosechart-form\">\\xa0</td>\\n</tr>\\n</table>', 'bodyweight': '<table class=\"bodyweight\">\\n<tr>\\n<td class=\"bodyweight-title\">BODY WEIGHT:</td>\\n<td class=\"bodyweight-amount\">160 lb</td>\\n</tr>\\n</table>', 'footdata': '<table class=\"footdata\">\\n<tr><td class=\"footdata-expyear\">Exp Year: 2011</td><td class=\"footdata-expid\">ExpID: 99695</td></tr>\\n<tr><td class=\"footdata-gender\">Gender: Male</td><td>\\xa0</td></tr>\\n<tr><td class=\"footdata-ageofexp\" colspan=\"2\">Age at time of experience: 19</td></tr>\\n<tr><td class=\"footdata-pubdate\">Published: Nov 30, 2017</td><td class=\"footdata-numviews\">Views: 17,122</td></tr>\\n<tr><td class=\"footdata-other-formats\" colspan=\"2\">[ <a href=\"exp.php?ID=99695&amp;format=pdf\" type=\"text/pdf\">View PDF (to print)</a> ] [ <a href=\"exp_pdf.php?ID=99695&amp;format=latex\">View LaTeX (for geeks)</a> ]\\n[\\xa0<a href=\"#\" onclick=\"expChangeColors(); return false;\">Swap\\xa0Dark/Light</a>\\xa0]\\n</td></tr>\\n<tr><td class=\"footdata-topic-list\" colspan=\"2\">DMT\\xa0(18) : Families\\xa0(41), Entities / Beings\\xa0(37), Guides / Sitters\\xa0(39), First Times\\xa0(2), Small Group (2-9)\\xa0(17)</td></tr>\\n<!--  <img src=\"/images/new.gif\" alt=\"May\"> -->\\n</table>'}\n",
            "{'link': 'https://www.erowid.org/experiences/exp.php?ID=94632', 'substance': 'DMT', 'dosechart': '<table class=\"dosechart\">\\n<tr>\\n<td align=\"right\" class=\"dosechart-time\">DOSE:<br/></td>\\n<td align=\"center\" class=\"dosechart-amount\">35 mg</td>\\n<td align=\"center\" class=\"dosechart-method\">smoked</td>\\n<td class=\"dosechart-substance\"><a href=\"/chemicals/dmt/\">DMT</a></td>\\n<td class=\"dosechart-form\">(powder / crystals)</td>\\n</tr>\\n<tr>\\n<td align=\"right\" class=\"dosechart-time\">\\xa0</td>\\n<td align=\"center\" class=\"dosechart-amount\">\\xa0 </td>\\n<td align=\"center\" class=\"dosechart-method\">smoked</td>\\n<td class=\"dosechart-substance\"><a href=\"/plants/cannabis/\">Cannabis</a></td>\\n<td class=\"dosechart-form\">(plant material)</td>\\n</tr>\\n</table>', 'bodyweight': '<table class=\"bodyweight\">\\n<tr>\\n<td class=\"bodyweight-title\">BODY WEIGHT:</td>\\n<td class=\"bodyweight-amount\">185 lb</td>\\n</tr>\\n</table>', 'footdata': '<table class=\"footdata\">\\n<tr><td class=\"footdata-expyear\">Exp Year: 2012</td><td class=\"footdata-expid\">ExpID: 94632</td></tr>\\n<tr><td class=\"footdata-gender\">Gender: Male</td><td>\\xa0</td></tr>\\n<tr><td class=\"footdata-ageofexp\" colspan=\"2\">Age at time of experience: 21</td></tr>\\n<tr><td class=\"footdata-pubdate\">Published: Oct 27, 2016</td><td class=\"footdata-numviews\">Views: 14,636</td></tr>\\n<tr><td class=\"footdata-other-formats\" colspan=\"2\">[ <a href=\"exp.php?ID=94632&amp;format=pdf\" type=\"text/pdf\">View PDF (to print)</a> ] [ <a href=\"exp_pdf.php?ID=94632&amp;format=latex\">View LaTeX (for geeks)</a> ]\\n[\\xa0<a href=\"#\" onclick=\"expChangeColors(); return false;\">Swap\\xa0Dark/Light</a>\\xa0]\\n</td></tr>\\n<tr><td class=\"footdata-topic-list\" colspan=\"2\">DMT\\xa0(18) : Small Group (2-9)\\xa0(17), Personal Preparation\\xa0(45), Hangover / Days After\\xa0(46), Guides / Sitters\\xa0(39), Entities / Beings\\xa0(37), Mystical Experiences\\xa0(9)</td></tr>\\n<!--  <img src=\"/images/new.gif\" alt=\"May\"> -->\\n</table>'}\n",
            "{'link': 'https://www.erowid.org/experiences/exp.php?ID=103790', 'substance': 'Huasca Combo (Syrian Rue & DMT)', 'dosechart': '<table class=\"dosechart\">\\n<tr>\\n<td align=\"right\" class=\"dosechart-time\">DOSE:<br/> T+ 0:00</td>\\n<td align=\"center\" class=\"dosechart-amount\">3.5 g</td>\\n<td align=\"center\" class=\"dosechart-method\">oral</td>\\n<td class=\"dosechart-substance\"><a href=\"/plants/syrian_rue/\">Syrian Rue</a></td>\\n<td class=\"dosechart-form\">(tea)</td>\\n</tr>\\n<tr>\\n<td align=\"right\" class=\"dosechart-time\">\\xa0 T+ 4:00</td>\\n<td align=\"center\" class=\"dosechart-amount\">50 mg</td>\\n<td align=\"center\" class=\"dosechart-method\">vaporized</td>\\n<td class=\"dosechart-substance\"><a href=\"/chemicals/dmt/\">DMT</a></td>\\n<td class=\"dosechart-form\">(powder / crystals)</td>\\n</tr>\\n</table>', 'bodyweight': '<table class=\"bodyweight\">\\n<tr>\\n<td class=\"bodyweight-title\">BODY WEIGHT:</td>\\n<td class=\"bodyweight-amount\">140 lb</td>\\n</tr>\\n</table>', 'footdata': '<table class=\"footdata\">\\n<tr><td class=\"footdata-expyear\">Exp Year: 2014</td><td class=\"footdata-expid\">ExpID: 103790</td></tr>\\n<tr><td class=\"footdata-gender\">Gender: Male</td><td>\\xa0</td></tr>\\n<tr><td class=\"footdata-ageofexp\" colspan=\"2\">Age at time of experience: 22</td></tr>\\n<tr><td class=\"footdata-pubdate\">Published: Jul 11, 2016</td><td class=\"footdata-numviews\">Views: 21,507</td></tr>\\n<tr><td class=\"footdata-other-formats\" colspan=\"2\">[ <a href=\"exp.php?ID=103790&amp;format=pdf\" type=\"text/pdf\">View PDF (to print)</a> ] [ <a href=\"exp_pdf.php?ID=103790&amp;format=latex\">View LaTeX (for geeks)</a> ]\\n[\\xa0<a href=\"#\" onclick=\"expChangeColors(); return false;\">Swap\\xa0Dark/Light</a>\\xa0]\\n</td></tr>\\n<tr><td class=\"footdata-topic-list\" colspan=\"2\">Huasca Combo\\xa0(269), Syrian Rue\\xa0(45), DMT\\xa0(18) : Small Group (2-9)\\xa0(17), General\\xa0(1)</td></tr>\\n<!--  <img src=\"/images/new.gif\" alt=\"May\"> -->\\n</table>'}\n",
            "{'link': 'https://www.erowid.org/experiences/exp.php?ID=96614', 'substance': 'DMT', 'dosechart': '<table class=\"dosechart\">\\n<tr>\\n<td align=\"right\" class=\"dosechart-time\">DOSE:<br/> T+ 0:00</td>\\n<td align=\"center\" class=\"dosechart-amount\">60 mg</td>\\n<td align=\"center\" class=\"dosechart-method\">vaporized</td>\\n<td class=\"dosechart-substance\"><a href=\"/chemicals/dmt/\">DMT</a></td>\\n<td class=\"dosechart-form\">(powder / crystals)</td>\\n</tr>\\n<tr>\\n<td align=\"right\" class=\"dosechart-time\">\\xa0 T+ 3:00</td>\\n<td align=\"center\" class=\"dosechart-amount\">170 mg</td>\\n<td align=\"center\" class=\"dosechart-method\">vaporized</td>\\n<td class=\"dosechart-substance\"><a href=\"/chemicals/dmt/\">DMT</a></td>\\n<td class=\"dosechart-form\">(powder / crystals)</td>\\n</tr>\\n</table>', 'bodyweight': '<table class=\"bodyweight\">\\n<tr>\\n<td class=\"bodyweight-title\">BODY WEIGHT:</td>\\n<td class=\"bodyweight-amount\">160 lb</td>\\n</tr>\\n</table>', 'footdata': '<table class=\"footdata\">\\n<tr><td class=\"footdata-expyear\">Exp Year: 2012</td><td class=\"footdata-expid\">ExpID: 96614</td></tr>\\n<tr><td class=\"footdata-gender\">Gender: Male</td><td>\\xa0</td></tr>\\n<tr><td class=\"footdata-ageofexp\" colspan=\"2\">Age at time of experience: 25</td></tr>\\n<tr><td class=\"footdata-pubdate\">Published: Jun 27, 2016</td><td class=\"footdata-numviews\">Views: 37,617</td></tr>\\n<tr><td class=\"footdata-other-formats\" colspan=\"2\">[ <a href=\"exp.php?ID=96614&amp;format=pdf\" type=\"text/pdf\">View PDF (to print)</a> ] [ <a href=\"exp_pdf.php?ID=96614&amp;format=latex\">View LaTeX (for geeks)</a> ]\\n[\\xa0<a href=\"#\" onclick=\"expChangeColors(); return false;\">Swap\\xa0Dark/Light</a>\\xa0]\\n</td></tr>\\n<tr><td class=\"footdata-topic-list\" colspan=\"2\">DMT\\xa0(18) : Guides / Sitters\\xa0(39), Mystical Experiences\\xa0(9), General\\xa0(1), Alone\\xa0(16)</td></tr>\\n<!--  <img src=\"/images/new.gif\" alt=\"May\"> -->\\n</table>'}\n",
            "{'link': 'https://www.erowid.org/experiences/exp.php?ID=106677', 'substance': 'DMT', 'dosechart': '<table class=\"dosechart\">\\n<tr>\\n<td align=\"right\" class=\"dosechart-time\">DOSE:<br/></td>\\n<td align=\"center\" class=\"dosechart-amount\">\\xa0 </td>\\n<td align=\"center\" class=\"dosechart-method\">smoked</td>\\n<td class=\"dosechart-substance\"><a href=\"/chemicals/dmt/\">DMT</a></td>\\n</tr>\\n</table>', 'bodyweight': '<table class=\"bodyweight\">\\n<tr>\\n<td class=\"bodyweight-title\">BODY WEIGHT:</td>\\n<td class=\"bodyweight-amount\">170 lb</td>\\n</tr>\\n</table>', 'footdata': '<table class=\"footdata\">\\n<tr><td class=\"footdata-expyear\">Exp Year: 2014</td><td class=\"footdata-expid\">ExpID: 106677</td></tr>\\n<tr><td class=\"footdata-gender\">Gender: Male</td><td>\\xa0</td></tr>\\n<tr><td class=\"footdata-ageofexp\" colspan=\"2\">Age at time of experience: 45</td></tr>\\n<tr><td class=\"footdata-pubdate\">Published: Jun 9, 2016</td><td class=\"footdata-numviews\">Views: 11,068</td></tr>\\n<tr><td class=\"footdata-other-formats\" colspan=\"2\">[ <a href=\"exp.php?ID=106677&amp;format=pdf\" type=\"text/pdf\">View PDF (to print)</a> ] [ <a href=\"exp_pdf.php?ID=106677&amp;format=latex\">View LaTeX (for geeks)</a> ]\\n[\\xa0<a href=\"#\" onclick=\"expChangeColors(); return false;\">Swap\\xa0Dark/Light</a>\\xa0]\\n</td></tr>\\n<tr><td class=\"footdata-topic-list\" colspan=\"2\">DMT\\xa0(18) : Small Group (2-9)\\xa0(17), Entities / Beings\\xa0(37), Retrospective / Summary\\xa0(11)</td></tr>\\n<!--  <img src=\"/images/new.gif\" alt=\"May\"> -->\\n</table>'}\n",
            "{'link': 'https://www.erowid.org/experiences/exp.php?ID=89887', 'substance': 'DMT', 'dosechart': '<table class=\"dosechart\">\\n<tr>\\n<td align=\"right\" class=\"dosechart-time\">DOSE:<br/> T+ 0:00</td>\\n<td align=\"center\" class=\"dosechart-amount\">50 mg</td>\\n<td align=\"center\" class=\"dosechart-method\">vaporized</td>\\n<td class=\"dosechart-substance\"><a href=\"/chemicals/dmt/\">DMT</a></td>\\n<td class=\"dosechart-form\">(powder / crystals)</td>\\n</tr>\\n<tr>\\n<td align=\"right\" class=\"dosechart-time\">\\xa0 T+ 24:00</td>\\n<td align=\"center\" class=\"dosechart-amount\">50 mg</td>\\n<td align=\"center\" class=\"dosechart-method\">vaporized</td>\\n<td class=\"dosechart-substance\"><a href=\"/chemicals/dmt/\">DMT</a></td>\\n<td class=\"dosechart-form\">(powder / crystals)</td>\\n</tr>\\n<tr>\\n<td align=\"right\" class=\"dosechart-time\">\\xa0 T+ 48:00</td>\\n<td align=\"center\" class=\"dosechart-amount\">50 mg</td>\\n<td align=\"center\" class=\"dosechart-method\">vaporized</td>\\n<td class=\"dosechart-substance\"><a href=\"/chemicals/dmt/\">DMT</a></td>\\n<td class=\"dosechart-form\">(powder / crystals)</td>\\n</tr>\\n</table>', 'bodyweight': '<table class=\"bodyweight\">\\n<tr>\\n<td class=\"bodyweight-title\">BODY WEIGHT:</td>\\n<td class=\"bodyweight-amount\">125 lb</td>\\n</tr>\\n</table>', 'footdata': '<table class=\"footdata\">\\n<tr><td class=\"footdata-expyear\">Exp Year: 2011</td><td class=\"footdata-expid\">ExpID: 89887</td></tr>\\n<tr><td class=\"footdata-gender\">Gender: Male</td><td>\\xa0</td></tr>\\n<tr><td class=\"footdata-ageofexp\" colspan=\"2\">Age at time of experience: 18</td></tr>\\n<tr><td class=\"footdata-pubdate\">Published: Feb 7, 2016</td><td class=\"footdata-numviews\">Views: 29,061</td></tr>\\n<tr><td class=\"footdata-other-formats\" colspan=\"2\">[ <a href=\"exp.php?ID=89887&amp;format=pdf\" type=\"text/pdf\">View PDF (to print)</a> ] [ <a href=\"exp_pdf.php?ID=89887&amp;format=latex\">View LaTeX (for geeks)</a> ]\\n[\\xa0<a href=\"#\" onclick=\"expChangeColors(); return false;\">Swap\\xa0Dark/Light</a>\\xa0]\\n</td></tr>\\n<tr><td class=\"footdata-topic-list\" colspan=\"2\">DMT\\xa0(18) : First Times\\xa0(2), Retrospective / Summary\\xa0(11), Entities / Beings\\xa0(37), Mystical Experiences\\xa0(9), Alone\\xa0(16)</td></tr>\\n<!--  <img src=\"/images/new.gif\" alt=\"May\"> -->\\n</table>'}\n",
            "{'link': 'https://www.erowid.org/experiences/exp.php?ID=98866', 'substance': 'Mescaline, LSD, DMT, XLR-11', 'dosechart': '<table class=\"dosechart\">\\n<tr>\\n<td align=\"right\" class=\"dosechart-time\">DOSE:<br/> T+ 0:00</td>\\n<td align=\"center\" class=\"dosechart-amount\">10 mg</td>\\n<td align=\"center\" class=\"dosechart-method\">oral</td>\\n<td class=\"dosechart-substance\">Pharms - Escitalopram</td>\\n<td class=\"dosechart-form\">(pill / tablet)</td>\\n</tr>\\n<tr>\\n<td align=\"right\" class=\"dosechart-time\">\\xa0 T+ 0:00</td>\\n<td align=\"center\" class=\"dosechart-amount\">500 mg</td>\\n<td align=\"center\" class=\"dosechart-method\">oral</td>\\n<td class=\"dosechart-substance\"><a href=\"/chemicals/mescaline/\">Mescaline</a></td>\\n<td class=\"dosechart-form\">(powder / crystals)</td>\\n</tr>\\n<tr>\\n<td align=\"right\" class=\"dosechart-time\">\\xa0 T+ 0:00</td>\\n<td align=\"center\" class=\"dosechart-amount\">30 ml</td>\\n<td align=\"center\" class=\"dosechart-method\">oral</td>\\n<td class=\"dosechart-substance\">Bismuth Subsalicylate</td>\\n<td class=\"dosechart-form\">(liquid)</td>\\n</tr>\\n<tr>\\n<td align=\"right\" class=\"dosechart-time\">\\xa0 T+ 3:00</td>\\n<td align=\"center\" class=\"dosechart-amount\">0 hits</td>\\n<td align=\"center\" class=\"dosechart-method\">smoked</td>\\n<td class=\"dosechart-substance\"><a href=\"/chemicals/cannabinoids/\">XLR-11</a></td>\\n<td class=\"dosechart-form\">(plant material)</td>\\n</tr>\\n<tr>\\n<td align=\"right\" class=\"dosechart-time\">\\xa0 T+ 4:00</td>\\n<td align=\"center\" class=\"dosechart-amount\">100 ug</td>\\n<td align=\"center\" class=\"dosechart-method\">oral</td>\\n<td class=\"dosechart-substance\"><a href=\"/chemicals/lsd/\">LSD</a></td>\\n<td class=\"dosechart-form\">(blotter / tab)</td>\\n</tr>\\n<tr>\\n<td align=\"right\" class=\"dosechart-time\">\\xa0 T+ 5:00</td>\\n<td align=\"center\" class=\"dosechart-amount\">50 mg</td>\\n<td align=\"center\" class=\"dosechart-method\">smoked</td>\\n<td class=\"dosechart-substance\"><a href=\"/chemicals/dmt/\">DMT</a></td>\\n<td class=\"dosechart-form\">(powder / crystals)</td>\\n</tr>\\n<tr>\\n<td align=\"right\" class=\"dosechart-time\">\\xa0 T+ 5:30</td>\\n<td align=\"center\" class=\"dosechart-amount\">2 hits</td>\\n<td align=\"center\" class=\"dosechart-method\">smoked</td>\\n<td class=\"dosechart-substance\"><a href=\"/chemicals/cannabinoids/\">XLR-11</a></td>\\n<td class=\"dosechart-form\">(plant material)</td>\\n</tr>\\n<tr>\\n<td align=\"right\" class=\"dosechart-time\">\\xa0 T+ 7:00</td>\\n<td align=\"center\" class=\"dosechart-amount\">3 hits</td>\\n<td align=\"center\" class=\"dosechart-method\">smoked</td>\\n<td class=\"dosechart-substance\"><a href=\"/chemicals/cannabinoids/\">XLR-11</a></td>\\n<td class=\"dosechart-form\">(plant material)</td>\\n</tr>\\n<tr>\\n<td align=\"right\" class=\"dosechart-time\">\\xa0 T+ 10:00</td>\\n<td align=\"center\" class=\"dosechart-amount\">30 mg</td>\\n<td align=\"center\" class=\"dosechart-method\">oral</td>\\n<td class=\"dosechart-substance\"><a href=\"/pharms/codeine/\">Codeine</a></td>\\n<td class=\"dosechart-form\">(pill / tablet)</td>\\n</tr>\\n</table>', 'bodyweight': '<table class=\"bodyweight\">\\n<tr>\\n<td class=\"bodyweight-title\">BODY WEIGHT:</td>\\n<td class=\"bodyweight-amount\">120 lb</td>\\n</tr>\\n</table>', 'footdata': '<table class=\"footdata\">\\n<tr><td class=\"footdata-expyear\">Exp Year: 2012</td><td class=\"footdata-expid\">ExpID: 98866</td></tr>\\n<tr><td class=\"footdata-gender\">Gender: Male</td><td>\\xa0</td></tr>\\n<tr><td class=\"footdata-ageofexp\" colspan=\"2\">Age at time of experience: 19</td></tr>\\n<tr><td class=\"footdata-pubdate\">Published: Sep 10, 2014</td><td class=\"footdata-numviews\">Views: 42,172</td></tr>\\n<tr><td class=\"footdata-other-formats\" colspan=\"2\">[ <a href=\"exp.php?ID=98866&amp;format=pdf\" type=\"text/pdf\">View PDF (to print)</a> ] [ <a href=\"exp_pdf.php?ID=98866&amp;format=latex\">View LaTeX (for geeks)</a> ]\\n[\\xa0<a href=\"#\" onclick=\"expChangeColors(); return false;\">Swap\\xa0Dark/Light</a>\\xa0]\\n</td></tr>\\n<tr><td class=\"footdata-topic-list\" colspan=\"2\">DMT\\xa0(18), LSD\\xa0(2), Mescaline\\xa0(36), XLR-11\\xa0(666) : Small Group (2-9)\\xa0(17), Music Discussion\\xa0(22), Mystical Experiences\\xa0(9), Glowing Experiences\\xa0(4), Combinations\\xa0(3)</td></tr>\\n<!--  <img src=\"/images/new.gif\" alt=\"May\"> -->\\n</table>'}\n",
            "{'link': 'https://www.erowid.org/experiences/exp.php?ID=101485', 'substance': 'DMT (with 4-HO-MiPT, 4-AcO-DiPT, LSD, DPT, Ketamine, Methoxetamine, 5-MeO-DMT, Nitrous Oxide, & MDMA)', 'dosechart': '<table class=\"dosechart\">\\n<tr>\\n<td align=\"right\" class=\"dosechart-time\">DOSE:<br/></td>\\n<td align=\"center\" class=\"dosechart-amount\">\\xa0 </td>\\n<td align=\"center\" class=\"dosechart-method\">smoked</td>\\n<td class=\"dosechart-substance\"><a href=\"/chemicals/dmt/\">DMT</a></td>\\n<td class=\"dosechart-form\">(freebase)</td>\\n</tr>\\n<tr>\\n<td align=\"right\" class=\"dosechart-time\">\\xa0</td>\\n<td align=\"center\" class=\"dosechart-amount\">35 mg</td>\\n<td align=\"center\" class=\"dosechart-method\">oral</td>\\n<td class=\"dosechart-substance\"><a href=\"/chemicals/4_acetoxy_mipt/\">4-AcO-MiPT</a></td>\\n<td class=\"dosechart-form\">(powder / crystals)</td>\\n</tr>\\n<tr>\\n<td align=\"right\" class=\"dosechart-time\">\\xa0</td>\\n<td align=\"center\" class=\"dosechart-amount\">14 mg</td>\\n<td align=\"center\" class=\"dosechart-method\">oral</td>\\n<td class=\"dosechart-substance\"><a href=\"/chemicals/4_acetoxy_dipt/\">4-AcO-DiPT</a></td>\\n<td class=\"dosechart-form\">(powder / crystals)</td>\\n</tr>\\n<tr>\\n<td align=\"right\" class=\"dosechart-time\">\\xa0</td>\\n<td align=\"center\" class=\"dosechart-amount\">1 hit</td>\\n<td align=\"center\" class=\"dosechart-method\">oral</td>\\n<td class=\"dosechart-substance\"><a href=\"/chemicals/lsd/\">LSD</a></td>\\n<td class=\"dosechart-form\">(blotter / tab)</td>\\n</tr>\\n<tr>\\n<td align=\"right\" class=\"dosechart-time\">\\xa0</td>\\n<td align=\"center\" class=\"dosechart-amount\">30 mg</td>\\n<td align=\"center\" class=\"dosechart-method\">insufflated</td>\\n<td class=\"dosechart-substance\"><a href=\"/chemicals/dpt/\">DPT</a></td>\\n<td class=\"dosechart-form\">(powder / crystals)</td>\\n</tr>\\n<tr>\\n<td align=\"right\" class=\"dosechart-time\">\\xa0</td>\\n<td align=\"center\" class=\"dosechart-amount\">120 mg</td>\\n<td align=\"center\" class=\"dosechart-method\">oral</td>\\n<td class=\"dosechart-substance\"><a href=\"/chemicals/mdma/\">MDMA</a></td>\\n<td class=\"dosechart-form\">(powder / crystals)</td>\\n</tr>\\n</table>', 'bodyweight': '<table class=\"bodyweight\">\\n<tr>\\n<td class=\"bodyweight-title\">BODY WEIGHT:</td>\\n<td class=\"bodyweight-amount\">95 lb</td>\\n</tr>\\n</table>', 'footdata': '<table class=\"footdata\">\\n<tr><td class=\"footdata-expyear\">Exp Year: 2011-2013</td><td class=\"footdata-expid\">ExpID: 101485</td></tr>\\n<tr><td class=\"footdata-gender\">Gender: Female</td><td>\\xa0</td></tr>\\n<tr><td class=\"footdata-ageofexp\" colspan=\"2\">Age at time of experience: Not Given</td></tr>\\n<tr><td class=\"footdata-pubdate\">Published: May 16, 2014</td><td class=\"footdata-numviews\">Views: 23,586</td></tr>\\n<tr><td class=\"footdata-other-formats\" colspan=\"2\">[ <a href=\"exp.php?ID=101485&amp;format=pdf\" type=\"text/pdf\">View PDF (to print)</a> ] [ <a href=\"exp_pdf.php?ID=101485&amp;format=latex\">View LaTeX (for geeks)</a> ]\\n[\\xa0<a href=\"#\" onclick=\"expChangeColors(); return false;\">Swap\\xa0Dark/Light</a>\\xa0]\\n</td></tr>\\n<tr><td class=\"footdata-topic-list\" colspan=\"2\">Mindfulness\\xa0(405), DMT\\xa0(18) : Various\\xa0(28), Therapeutic Intent or Outcome\\xa0(49), Personal Preparation\\xa0(45), Relationships\\xa0(44), Entities / Beings\\xa0(37), Mystical Experiences\\xa0(9), Glowing Experiences\\xa0(4), Retrospective / Summary\\xa0(11), Combinations\\xa0(3), General\\xa0(1)</td></tr>\\n<!--  <img src=\"/images/new.gif\" alt=\"May\"> -->\\n</table>'}\n",
            "{'link': 'https://www.erowid.org/experiences/exp.php?ID=101541', 'substance': 'Mushrooms, B. caapi, & DMT', 'dosechart': '<table class=\"dosechart\">\\n<tr>\\n<td align=\"right\" class=\"dosechart-time\">DOSE:<br/> T+ 0:00</td>\\n<td align=\"center\" class=\"dosechart-amount\">1 g</td>\\n<td align=\"center\" class=\"dosechart-method\">oral</td>\\n<td class=\"dosechart-substance\"><a href=\"/plants/mushrooms/\">Mushrooms</a></td>\\n<td class=\"dosechart-form\">(tea)</td>\\n</tr>\\n<tr>\\n<td align=\"right\" class=\"dosechart-time\">\\xa0 T+ 1:00</td>\\n<td align=\"center\" class=\"dosechart-amount\">3 bowls</td>\\n<td align=\"center\" class=\"dosechart-method\">smoked</td>\\n<td class=\"dosechart-substance\"><a href=\"/plants/banisteriopsis/\">Banisteriopsis caapi</a></td>\\n<td class=\"dosechart-form\">(plant material)</td>\\n</tr>\\n<tr>\\n<td align=\"right\" class=\"dosechart-time\">\\xa0 T+ 1:00</td>\\n<td align=\"center\" class=\"dosechart-amount\">3 bowls</td>\\n<td align=\"center\" class=\"dosechart-method\">smoked</td>\\n<td class=\"dosechart-substance\"><a href=\"/plants/cannabis/\">Cannabis</a></td>\\n<td class=\"dosechart-form\">(plant material)</td>\\n</tr>\\n<tr>\\n<td align=\"right\" class=\"dosechart-time\">\\xa0 T+ 3:00</td>\\n<td align=\"center\" class=\"dosechart-amount\">20 mg</td>\\n<td align=\"center\" class=\"dosechart-method\">smoked</td>\\n<td class=\"dosechart-substance\"><a href=\"/chemicals/dmt/\">DMT</a></td>\\n<td class=\"dosechart-form\">(freebase)</td>\\n</tr>\\n<tr>\\n<td align=\"right\" class=\"dosechart-time\">\\xa0 T+ 4:00</td>\\n<td align=\"center\" class=\"dosechart-amount\">3 bowls</td>\\n<td align=\"center\" class=\"dosechart-method\">smoked</td>\\n<td class=\"dosechart-substance\"><a href=\"/plants/banisteriopsis/\">Banisteriopsis caapi</a></td>\\n<td class=\"dosechart-form\">(plant material)</td>\\n</tr>\\n<tr>\\n<td align=\"right\" class=\"dosechart-time\">\\xa0 T+ 4:00</td>\\n<td align=\"center\" class=\"dosechart-amount\">3 bowls</td>\\n<td align=\"center\" class=\"dosechart-method\">smoked</td>\\n<td class=\"dosechart-substance\"><a href=\"/plants/cannabis/\">Cannabis</a></td>\\n<td class=\"dosechart-form\">(plant material)</td>\\n</tr>\\n<tr>\\n<td align=\"right\" class=\"dosechart-time\">\\xa0 T+ 4:00</td>\\n<td align=\"center\" class=\"dosechart-amount\">20 mg</td>\\n<td align=\"center\" class=\"dosechart-method\">smoked</td>\\n<td class=\"dosechart-substance\"><a href=\"/chemicals/dmt/\">DMT</a></td>\\n<td class=\"dosechart-form\">(freebase)</td>\\n</tr>\\n</table>', 'bodyweight': '<table class=\"bodyweight\">\\n<tr>\\n<td class=\"bodyweight-title\">BODY WEIGHT:</td>\\n<td class=\"bodyweight-amount\">95 lb</td>\\n</tr>\\n</table>', 'footdata': '<table class=\"footdata\">\\n<tr><td class=\"footdata-expyear\">Exp Year: 2013</td><td class=\"footdata-expid\">ExpID: 101541</td></tr>\\n<tr><td class=\"footdata-gender\">Gender: Female</td><td>\\xa0</td></tr>\\n<tr><td class=\"footdata-ageofexp\" colspan=\"2\">Age at time of experience: 24</td></tr>\\n<tr><td class=\"footdata-pubdate\">Published: May 7, 2014</td><td class=\"footdata-numviews\">Views: 18,461</td></tr>\\n<tr><td class=\"footdata-other-formats\" colspan=\"2\">[ <a href=\"exp.php?ID=101541&amp;format=pdf\" type=\"text/pdf\">View PDF (to print)</a> ] [ <a href=\"exp_pdf.php?ID=101541&amp;format=latex\">View LaTeX (for geeks)</a> ]\\n[\\xa0<a href=\"#\" onclick=\"expChangeColors(); return false;\">Swap\\xa0Dark/Light</a>\\xa0]\\n</td></tr>\\n<tr><td class=\"footdata-topic-list\" colspan=\"2\">DMT\\xa0(18), Mushrooms\\xa0(39), Banisteriopsis caapi\\xa0(169), Mindfulness\\xa0(405) : Various\\xa0(28), Entities / Beings\\xa0(37), Nature / Outdoors\\xa0(23), Glowing Experiences\\xa0(4), Preparation / Recipes\\xa0(30), Combinations\\xa0(3), General\\xa0(1)</td></tr>\\n<!--  <img src=\"/images/new.gif\" alt=\"May\"> -->\\n</table>'}\n",
            "{'link': 'https://www.erowid.org/experiences/exp.php?ID=93315', 'substance': 'DMT, Mushrooms & Alcohol', 'dosechart': '<table class=\"dosechart\">\\n<tr>\\n<td align=\"right\" class=\"dosechart-time\">DOSE:<br/> T+ 0:00</td>\\n<td align=\"center\" class=\"dosechart-amount\">1 hit</td>\\n<td align=\"center\" class=\"dosechart-method\">smoked</td>\\n<td class=\"dosechart-substance\"><a href=\"/chemicals/dmt/\">DMT</a></td>\\n<td class=\"dosechart-form\">(ground / crushed)</td>\\n</tr>\\n<tr>\\n<td align=\"right\" class=\"dosechart-time\">\\xa0 T+ 1:30</td>\\n<td align=\"center\" class=\"dosechart-amount\">1 cig.</td>\\n<td align=\"center\" class=\"dosechart-method\">smoked</td>\\n<td class=\"dosechart-substance\"><a href=\"/plants/tobacco/\">Tobacco</a></td>\\n<td class=\"dosechart-form\">\\xa0</td>\\n</tr>\\n<tr>\\n<td align=\"right\" class=\"dosechart-time\">\\xa0 T+ 12:00</td>\\n<td align=\"center\" class=\"dosechart-amount\">2 g</td>\\n<td align=\"center\" class=\"dosechart-method\">oral</td>\\n<td class=\"dosechart-substance\"><a href=\"/plants/mushrooms/\">Mushrooms</a></td>\\n<td class=\"dosechart-form\">\\xa0</td>\\n</tr>\\n<tr>\\n<td align=\"right\" class=\"dosechart-time\">\\xa0 T+ 14:00</td>\\n<td align=\"center\" class=\"dosechart-amount\">1 hit</td>\\n<td align=\"center\" class=\"dosechart-method\">smoked</td>\\n<td class=\"dosechart-substance\"><a href=\"/chemicals/dmt/\">DMT</a></td>\\n<td class=\"dosechart-form\">\\xa0</td>\\n</tr>\\n<tr>\\n<td align=\"right\" class=\"dosechart-time\">\\xa0 T+ 17:00</td>\\n<td align=\"center\" class=\"dosechart-amount\">1 hit</td>\\n<td align=\"center\" class=\"dosechart-method\">smoked</td>\\n<td class=\"dosechart-substance\"><a href=\"/chemicals/dmt/\">DMT</a></td>\\n<td class=\"dosechart-form\">\\xa0</td>\\n</tr>\\n<tr>\\n<td align=\"right\" class=\"dosechart-time\">\\xa0 T+ 26:00</td>\\n<td align=\"center\" class=\"dosechart-amount\">1 hit</td>\\n<td align=\"center\" class=\"dosechart-method\">smoked</td>\\n<td class=\"dosechart-substance\"><a href=\"/chemicals/dmt/\">DMT</a></td>\\n<td class=\"dosechart-form\">\\xa0</td>\\n</tr>\\n</table>', 'bodyweight': '<table class=\"bodyweight\">\\n<tr>\\n<td class=\"bodyweight-title\">BODY WEIGHT:</td>\\n<td class=\"bodyweight-amount\">140 lb</td>\\n</tr>\\n</table>', 'footdata': '<table class=\"footdata\">\\n<tr><td class=\"footdata-expyear\">Exp Year: 2011</td><td class=\"footdata-expid\">ExpID: 93315</td></tr>\\n<tr><td class=\"footdata-gender\">Gender: Male</td><td>\\xa0</td></tr>\\n<tr><td class=\"footdata-ageofexp\" colspan=\"2\">Age at time of experience: 28</td></tr>\\n<tr><td class=\"footdata-pubdate\">Published: Jun 8, 2013</td><td class=\"footdata-numviews\">Views: 57,422</td></tr>\\n<tr><td class=\"footdata-other-formats\" colspan=\"2\">[ <a href=\"exp.php?ID=93315&amp;format=pdf\" type=\"text/pdf\">View PDF (to print)</a> ] [ <a href=\"exp_pdf.php?ID=93315&amp;format=latex\">View LaTeX (for geeks)</a> ]\\n[\\xa0<a href=\"#\" onclick=\"expChangeColors(); return false;\">Swap\\xa0Dark/Light</a>\\xa0]\\n</td></tr>\\n<tr><td class=\"footdata-topic-list\" colspan=\"2\">Alcohol - Beer/Wine\\xa0(199), Mushrooms\\xa0(39), DMT\\xa0(18) : Small Group (2-9)\\xa0(17), Glowing Experiences\\xa0(4), First Times\\xa0(2), General\\xa0(1)</td></tr>\\n<!--  <img src=\"/images/new.gif\" alt=\"May\"> -->\\n</table>'}\n",
            "{'link': 'https://www.erowid.org/experiences/exp.php?ID=96521', 'substance': 'DMT', 'dosechart': '<table class=\"dosechart\">\\n<tr>\\n<td align=\"right\" class=\"dosechart-time\">DOSE:<br/></td>\\n<td align=\"center\" class=\"dosechart-amount\">1 hit</td>\\n<td align=\"center\" class=\"dosechart-method\">smoked</td>\\n<td class=\"dosechart-substance\"><a href=\"/chemicals/dmt/\">DMT</a></td>\\n<td class=\"dosechart-form\">(powder / crystals)</td>\\n</tr>\\n</table>', 'bodyweight': '<table class=\"bodyweight\">\\n<tr>\\n<td class=\"bodyweight-title\">BODY WEIGHT:</td>\\n<td class=\"bodyweight-amount\">165 lb</td>\\n</tr>\\n</table>', 'footdata': '<table class=\"footdata\">\\n<tr><td class=\"footdata-expyear\">Exp Year: 2011</td><td class=\"footdata-expid\">ExpID: 96521</td></tr>\\n<tr><td class=\"footdata-gender\">Gender: Male</td><td>\\xa0</td></tr>\\n<tr><td class=\"footdata-ageofexp\" colspan=\"2\">Age at time of experience: 18</td></tr>\\n<tr><td class=\"footdata-pubdate\">Published: Jun 22, 2012</td><td class=\"footdata-numviews\">Views: 49,701</td></tr>\\n<tr><td class=\"footdata-other-formats\" colspan=\"2\">[ <a href=\"exp.php?ID=96521&amp;format=pdf\" type=\"text/pdf\">View PDF (to print)</a> ] [ <a href=\"exp_pdf.php?ID=96521&amp;format=latex\">View LaTeX (for geeks)</a> ]\\n[\\xa0<a href=\"#\" onclick=\"expChangeColors(); return false;\">Swap\\xa0Dark/Light</a>\\xa0]\\n</td></tr>\\n<tr><td class=\"footdata-topic-list\" colspan=\"2\">DMT\\xa0(18) : Entities / Beings\\xa0(37), Overdose\\xa0(29), Post Trip Problems\\xa0(8), HPPD / Lasting Visuals\\xa0(40), Difficult Experiences\\xa0(5), Small Group (2-9)\\xa0(17)</td></tr>\\n<!--  <img src=\"/images/new.gif\" alt=\"May\"> -->\\n</table>'}\n",
            "{'link': 'https://www.erowid.org/experiences/exp.php?ID=94429', 'substance': 'DMT', 'dosechart': '<table class=\"dosechart\">\\n<tr>\\n<td align=\"right\" class=\"dosechart-time\">DOSE:<br/></td>\\n<td align=\"center\" class=\"dosechart-amount\">\\xa0 </td>\\n<td align=\"center\" class=\"dosechart-method\">smoked</td>\\n<td class=\"dosechart-substance\"><a href=\"/chemicals/dmt/\">DMT</a></td>\\n<td class=\"dosechart-form\">(powder / crystals)</td>\\n</tr>\\n</table>', 'bodyweight': '<table class=\"bodyweight\">\\n<tr>\\n<td class=\"bodyweight-title\">BODY WEIGHT:</td>\\n<td class=\"bodyweight-amount\">58 kg</td>\\n</tr>\\n</table>', 'footdata': '<table class=\"footdata\">\\n<tr><td class=\"footdata-expyear\">Exp Year: 2010</td><td class=\"footdata-expid\">ExpID: 94429</td></tr>\\n<tr><td class=\"footdata-gender\">Gender: Male</td><td>\\xa0</td></tr>\\n<tr><td class=\"footdata-ageofexp\" colspan=\"2\">Age at time of experience: 16</td></tr>\\n<tr><td class=\"footdata-pubdate\">Published: Apr 11, 2012</td><td class=\"footdata-numviews\">Views: 63,448</td></tr>\\n<tr><td class=\"footdata-other-formats\" colspan=\"2\">[ <a href=\"exp.php?ID=94429&amp;format=pdf\" type=\"text/pdf\">View PDF (to print)</a> ] [ <a href=\"exp_pdf.php?ID=94429&amp;format=latex\">View LaTeX (for geeks)</a> ]\\n[\\xa0<a href=\"#\" onclick=\"expChangeColors(); return false;\">Swap\\xa0Dark/Light</a>\\xa0]\\n</td></tr>\\n<tr><td class=\"footdata-topic-list\" colspan=\"2\">DMT\\xa0(18) : General\\xa0(1), First Times\\xa0(2), Glowing Experiences\\xa0(4), Mystical Experiences\\xa0(9), Small Group (2-9)\\xa0(17)</td></tr>\\n<!--  <img src=\"/images/new.gif\" alt=\"May\"> -->\\n</table>'}\n",
            "{'link': 'https://www.erowid.org/experiences/exp.php?ID=93145', 'substance': '25C-NBOMe & DMT (?)', 'dosechart': '<table class=\"dosechart\">\\n<tr>\\n<td align=\"right\" class=\"dosechart-time\">DOSE:<br/> T+ 0:00</td>\\n<td align=\"center\" class=\"dosechart-amount\">830 ug</td>\\n<td align=\"center\" class=\"dosechart-method\">\\xa0</td>\\n<td class=\"dosechart-substance\"><a href=\"/chemicals/2cc_nbome/\">25C-NBOMe</a></td>\\n<td class=\"dosechart-form\">(powder / crystals)</td>\\n</tr>\\n<tr>\\n<td align=\"right\" class=\"dosechart-time\">\\xa0 T+ 4:00</td>\\n<td align=\"center\" class=\"dosechart-amount\">\\xa0 </td>\\n<td align=\"center\" class=\"dosechart-method\">smoked</td>\\n<td class=\"dosechart-substance\"><a href=\"/chemicals/dmt/\">DMT</a></td>\\n<td class=\"dosechart-form\">(powder / crystals)</td>\\n</tr>\\n</table>', 'bodyweight': '<table class=\"bodyweight\">\\n<tr>\\n<td class=\"bodyweight-title\">BODY WEIGHT:</td>\\n<td class=\"bodyweight-amount\">135 lb</td>\\n</tr>\\n</table>', 'footdata': '<table class=\"footdata\">\\n<tr><td class=\"footdata-expyear\">Exp Year: 2011</td><td class=\"footdata-expid\">ExpID: 93145</td></tr>\\n<tr><td class=\"footdata-gender\">Gender: Male</td><td>\\xa0</td></tr>\\n<tr><td class=\"footdata-ageofexp\" colspan=\"2\">Age at time of experience: 21</td></tr>\\n<tr><td class=\"footdata-pubdate\">Published: Oct 7, 2011</td><td class=\"footdata-numviews\">Views: 40,674</td></tr>\\n<tr><td class=\"footdata-other-formats\" colspan=\"2\">[ <a href=\"exp.php?ID=93145&amp;format=pdf\" type=\"text/pdf\">View PDF (to print)</a> ] [ <a href=\"exp_pdf.php?ID=93145&amp;format=latex\">View LaTeX (for geeks)</a> ]\\n[\\xa0<a href=\"#\" onclick=\"expChangeColors(); return false;\">Swap\\xa0Dark/Light</a>\\xa0]\\n</td></tr>\\n<tr><td class=\"footdata-topic-list\" colspan=\"2\">25C-NBOMe\\xa0(540), DMT\\xa0(18) : Small Group (2-9)\\xa0(17), Glowing Experiences\\xa0(4), Retrospective / Summary\\xa0(11), General\\xa0(1)</td></tr>\\n<!--  <img src=\"/images/new.gif\" alt=\"May\"> -->\\n</table>'}\n",
            "{'link': 'https://www.erowid.org/experiences/exp.php?ID=80226', 'substance': 'DMT, MDMA (Ecstasy) & LSD', 'dosechart': '<table class=\"dosechart\">\\n<tr>\\n<td align=\"right\" class=\"dosechart-time\">DOSE:<br/> T+ 0:00</td>\\n<td align=\"center\" class=\"dosechart-amount\">350 mg</td>\\n<td align=\"center\" class=\"dosechart-method\">oral</td>\\n<td class=\"dosechart-substance\"><a href=\"/chemicals/mdma/\">MDMA</a></td>\\n<td class=\"dosechart-form\">(capsule)</td>\\n</tr>\\n<tr>\\n<td align=\"right\" class=\"dosechart-time\">\\xa0 T+ 13:00</td>\\n<td align=\"center\" class=\"dosechart-amount\">4 hits</td>\\n<td align=\"center\" class=\"dosechart-method\">oral</td>\\n<td class=\"dosechart-substance\"><a href=\"/chemicals/lsd/\">LSD</a></td>\\n<td class=\"dosechart-form\">\\xa0</td>\\n</tr>\\n<tr>\\n<td align=\"right\" class=\"dosechart-time\">\\xa0 T+ 13:00</td>\\n<td align=\"center\" class=\"dosechart-amount\">200 mg</td>\\n<td align=\"center\" class=\"dosechart-method\">oral</td>\\n<td class=\"dosechart-substance\"><a href=\"/chemicals/mdma/\">MDMA</a></td>\\n<td class=\"dosechart-form\">(capsule)</td>\\n</tr>\\n<tr>\\n<td align=\"right\" class=\"dosechart-time\">\\xa0 T+ 13:30</td>\\n<td align=\"center\" class=\"dosechart-amount\">75 mg</td>\\n<td align=\"center\" class=\"dosechart-method\">smoked</td>\\n<td class=\"dosechart-substance\"><a href=\"/chemicals/dmt/\">DMT</a></td>\\n<td class=\"dosechart-form\">(extract)</td>\\n</tr>\\n<tr>\\n<td align=\"right\" class=\"dosechart-time\">\\xa0 T+ 0:00</td>\\n<td align=\"center\" class=\"dosechart-amount\">\\xa0 </td>\\n<td align=\"center\" class=\"dosechart-method\">smoked</td>\\n<td class=\"dosechart-substance\"><a href=\"/chemicals/dmt/\">DMT</a></td>\\n<td class=\"dosechart-form\">(extract)</td>\\n</tr>\\n</table>', 'bodyweight': '<table class=\"bodyweight\">\\n<tr>\\n<td class=\"bodyweight-title\">BODY WEIGHT:</td>\\n<td class=\"bodyweight-amount\">120 lb</td>\\n</tr>\\n</table>', 'footdata': '<table class=\"footdata\">\\n<tr><td class=\"footdata-expyear\">Exp Year: 2008</td><td class=\"footdata-expid\">ExpID: 80226</td></tr>\\n<tr><td class=\"footdata-gender\">Gender: Male</td><td>\\xa0</td></tr>\\n<tr><td class=\"footdata-ageofexp\" colspan=\"2\">Age at time of experience: 24</td></tr>\\n<tr><td class=\"footdata-pubdate\">Published: Oct 6, 2010</td><td class=\"footdata-numviews\">Views: 74,919</td></tr>\\n<tr><td class=\"footdata-other-formats\" colspan=\"2\">[ <a href=\"exp.php?ID=80226&amp;format=pdf\" type=\"text/pdf\">View PDF (to print)</a> ] [ <a href=\"exp_pdf.php?ID=80226&amp;format=latex\">View LaTeX (for geeks)</a> ]\\n[\\xa0<a href=\"#\" onclick=\"expChangeColors(); return false;\">Swap\\xa0Dark/Light</a>\\xa0]\\n</td></tr>\\n<tr><td class=\"footdata-topic-list\" colspan=\"2\">DMT\\xa0(18), MDMA\\xa0(3), LSD\\xa0(2) : Various\\xa0(28), Relationships\\xa0(44), Difficult Experiences\\xa0(5), Combinations\\xa0(3)</td></tr>\\n<!--  <img src=\"/images/new.gif\" alt=\"May\"> -->\\n</table>'}\n",
            "{'link': 'https://www.erowid.org/experiences/exp.php?ID=82934', 'substance': 'DMT', 'dosechart': '<table class=\"dosechart\">\\n<tr>\\n<td align=\"right\" class=\"dosechart-time\">DOSE:<br/></td>\\n<td align=\"center\" class=\"dosechart-amount\">50 mg</td>\\n<td align=\"center\" class=\"dosechart-method\">smoked</td>\\n<td class=\"dosechart-substance\"><a href=\"/chemicals/dmt/\">DMT</a></td>\\n<td class=\"dosechart-form\">(powder / crystals)</td>\\n</tr>\\n</table>', 'bodyweight': '<table class=\"bodyweight\">\\n<tr>\\n<td class=\"bodyweight-title\">BODY WEIGHT:</td>\\n<td class=\"bodyweight-amount\">180 lb</td>\\n</tr>\\n</table>', 'footdata': '<table class=\"footdata\">\\n<tr><td class=\"footdata-expyear\">Exp Year: 2009</td><td class=\"footdata-expid\">ExpID: 82934</td></tr>\\n<tr><td class=\"footdata-gender\">Gender: Male</td><td>\\xa0</td></tr>\\n<tr><td class=\"footdata-ageofexp\" colspan=\"2\">Age at time of experience: 20</td></tr>\\n<tr><td class=\"footdata-pubdate\">Published: Sep 22, 2010</td><td class=\"footdata-numviews\">Views: 46,071</td></tr>\\n<tr><td class=\"footdata-other-formats\" colspan=\"2\">[ <a href=\"exp.php?ID=82934&amp;format=pdf\" type=\"text/pdf\">View PDF (to print)</a> ] [ <a href=\"exp_pdf.php?ID=82934&amp;format=latex\">View LaTeX (for geeks)</a> ]\\n[\\xa0<a href=\"#\" onclick=\"expChangeColors(); return false;\">Swap\\xa0Dark/Light</a>\\xa0]\\n</td></tr>\\n<tr><td class=\"footdata-topic-list\" colspan=\"2\">DMT\\xa0(18) : Glowing Experiences\\xa0(4), Entities / Beings\\xa0(37), Relationships\\xa0(44), Mystical Experiences\\xa0(9), Small Group (2-9)\\xa0(17)</td></tr>\\n<!--  <img src=\"/images/new.gif\" alt=\"May\"> -->\\n</table>'}\n",
            "{'link': 'https://www.erowid.org/experiences/exp.php?ID=86665', 'substance': 'DMT & Cannabis', 'dosechart': '<table class=\"dosechart\">\\n<tr>\\n<td align=\"right\" class=\"dosechart-time\">DOSE:<br/></td>\\n<td align=\"center\" class=\"dosechart-amount\">15 mg</td>\\n<td align=\"center\" class=\"dosechart-method\">smoked</td>\\n<td class=\"dosechart-substance\"><a href=\"/chemicals/dmt/\">DMT</a></td>\\n<td class=\"dosechart-form\">(powder / crystals)</td>\\n</tr>\\n<tr>\\n<td align=\"right\" class=\"dosechart-time\">\\xa0</td>\\n<td align=\"center\" class=\"dosechart-amount\">2 hits</td>\\n<td align=\"center\" class=\"dosechart-method\">smoked</td>\\n<td class=\"dosechart-substance\"><a href=\"/plants/cannabis/\">Cannabis</a></td>\\n<td class=\"dosechart-form\">(plant material)</td>\\n</tr>\\n</table>', 'bodyweight': '<table class=\"bodyweight\">\\n<tr>\\n<td class=\"bodyweight-title\">BODY WEIGHT:</td>\\n<td class=\"bodyweight-amount\">195 lb</td>\\n</tr>\\n</table>', 'footdata': '<table class=\"footdata\">\\n<tr><td class=\"footdata-expyear\">Exp Year: 2010</td><td class=\"footdata-expid\">ExpID: 86665</td></tr>\\n<tr><td class=\"footdata-gender\">Gender: Male</td><td>\\xa0</td></tr>\\n<tr><td class=\"footdata-ageofexp\" colspan=\"2\">Age at time of experience: 33</td></tr>\\n<tr><td class=\"footdata-pubdate\">Published: Sep 14, 2010</td><td class=\"footdata-numviews\">Views: 68,823</td></tr>\\n<tr><td class=\"footdata-other-formats\" colspan=\"2\">[ <a href=\"exp.php?ID=86665&amp;format=pdf\" type=\"text/pdf\">View PDF (to print)</a> ] [ <a href=\"exp_pdf.php?ID=86665&amp;format=latex\">View LaTeX (for geeks)</a> ]\\n[\\xa0<a href=\"#\" onclick=\"expChangeColors(); return false;\">Swap\\xa0Dark/Light</a>\\xa0]\\n</td></tr>\\n<tr><td class=\"footdata-topic-list\" colspan=\"2\">DMT\\xa0(18) : General\\xa0(1), First Times\\xa0(2), Mystical Experiences\\xa0(9), Festival / Lg. Crowd\\xa0(24)</td></tr>\\n<!--  <img src=\"/images/new.gif\" alt=\"May\"> -->\\n</table>'}\n",
            "{'link': 'https://www.erowid.org/experiences/exp.php?ID=83719', 'substance': 'DMT & Cannabis', 'dosechart': '<table class=\"dosechart\">\\n<tr>\\n<td align=\"right\" class=\"dosechart-time\">DOSE:<br/></td>\\n<td align=\"center\" class=\"dosechart-amount\">\\xa0 </td>\\n<td align=\"center\" class=\"dosechart-method\">smoked</td>\\n<td class=\"dosechart-substance\"><a href=\"/chemicals/dmt/\">DMT</a></td>\\n<td class=\"dosechart-form\">(powder / crystals)</td>\\n</tr>\\n<tr>\\n<td align=\"right\" class=\"dosechart-time\">\\xa0</td>\\n<td align=\"center\" class=\"dosechart-amount\">\\xa0 </td>\\n<td align=\"center\" class=\"dosechart-method\">smoked</td>\\n<td class=\"dosechart-substance\"><a href=\"/plants/cannabis/\">Cannabis</a></td>\\n<td class=\"dosechart-form\">(plant material)</td>\\n</tr>\\n</table>', 'bodyweight': '<table class=\"bodyweight\">\\n<tr>\\n<td class=\"bodyweight-title\">BODY WEIGHT:</td>\\n<td class=\"bodyweight-amount\">77 kg</td>\\n</tr>\\n</table>', 'footdata': '<table class=\"footdata\">\\n<tr><td class=\"footdata-expyear\">Exp Year: 2010</td><td class=\"footdata-expid\">ExpID: 83719</td></tr>\\n<tr><td class=\"footdata-gender\">Gender: Male</td><td>\\xa0</td></tr>\\n<tr><td class=\"footdata-ageofexp\" colspan=\"2\">Age at time of experience: 26</td></tr>\\n<tr><td class=\"footdata-pubdate\">Published: Sep 7, 2010</td><td class=\"footdata-numviews\">Views: 46,759</td></tr>\\n<tr><td class=\"footdata-other-formats\" colspan=\"2\">[ <a href=\"exp.php?ID=83719&amp;format=pdf\" type=\"text/pdf\">View PDF (to print)</a> ] [ <a href=\"exp_pdf.php?ID=83719&amp;format=latex\">View LaTeX (for geeks)</a> ]\\n[\\xa0<a href=\"#\" onclick=\"expChangeColors(); return false;\">Swap\\xa0Dark/Light</a>\\xa0]\\n</td></tr>\\n<tr><td class=\"footdata-topic-list\" colspan=\"2\">DMT\\xa0(18) : General\\xa0(1), Alone\\xa0(16)</td></tr>\\n<!--  <img src=\"/images/new.gif\" alt=\"May\"> -->\\n</table>'}\n",
            "{'link': 'https://www.erowid.org/experiences/exp.php?ID=82837', 'substance': 'DMT, LSD & Cannabis', 'dosechart': '<table class=\"dosechart\">\\n<tr>\\n<td align=\"right\" class=\"dosechart-time\">DOSE:<br/> T+ 0:00</td>\\n<td align=\"center\" class=\"dosechart-amount\">3 hits</td>\\n<td align=\"center\" class=\"dosechart-method\">smoked</td>\\n<td class=\"dosechart-substance\"><a href=\"/chemicals/dmt/\">DMT</a></td>\\n</tr>\\n<tr>\\n<td align=\"right\" class=\"dosechart-time\">\\xa0 T+ 1:00</td>\\n<td align=\"center\" class=\"dosechart-amount\">1 hit</td>\\n<td align=\"center\" class=\"dosechart-method\">oral</td>\\n<td class=\"dosechart-substance\"><a href=\"/chemicals/lsd/\">LSD</a></td>\\n</tr>\\n<tr>\\n<td align=\"right\" class=\"dosechart-time\">\\xa0 T+ 1:15</td>\\n<td align=\"center\" class=\"dosechart-amount\">1 hit</td>\\n<td align=\"center\" class=\"dosechart-method\">oral</td>\\n<td class=\"dosechart-substance\"><a href=\"/chemicals/lsd/\">LSD</a></td>\\n</tr>\\n<tr>\\n<td align=\"right\" class=\"dosechart-time\">\\xa0 T+ 0:00</td>\\n<td align=\"center\" class=\"dosechart-amount\">\\xa0 repeated</td>\\n<td align=\"center\" class=\"dosechart-method\">smoked</td>\\n<td class=\"dosechart-substance\"><a href=\"/chemicals/dmt/\">DMT</a></td>\\n</tr>\\n<tr>\\n<td align=\"right\" class=\"dosechart-time\">\\xa0 T+ 0:00</td>\\n<td align=\"center\" class=\"dosechart-amount\">\\xa0 repeated</td>\\n<td align=\"center\" class=\"dosechart-method\">smoked</td>\\n<td class=\"dosechart-substance\"><a href=\"/plants/cannabis/\">Cannabis</a></td>\\n</tr>\\n</table>', 'bodyweight': '<table class=\"bodyweight\">\\n<tr>\\n<td class=\"bodyweight-title\">BODY WEIGHT:</td>\\n<td class=\"bodyweight-amount\">135 lb</td>\\n</tr>\\n</table>', 'footdata': '<table class=\"footdata\">\\n<tr><td class=\"footdata-expyear\">Exp Year: 2009</td><td class=\"footdata-expid\">ExpID: 82837</td></tr>\\n<tr><td class=\"footdata-gender\">Gender: Male</td><td>\\xa0</td></tr>\\n<tr><td class=\"footdata-ageofexp\" colspan=\"2\">Age at time of experience: 26</td></tr>\\n<tr><td class=\"footdata-pubdate\">Published: Aug 19, 2010</td><td class=\"footdata-numviews\">Views: 38,817</td></tr>\\n<tr><td class=\"footdata-other-formats\" colspan=\"2\">[ <a href=\"exp.php?ID=82837&amp;format=pdf\" type=\"text/pdf\">View PDF (to print)</a> ] [ <a href=\"exp_pdf.php?ID=82837&amp;format=latex\">View LaTeX (for geeks)</a> ]\\n[\\xa0<a href=\"#\" onclick=\"expChangeColors(); return false;\">Swap\\xa0Dark/Light</a>\\xa0]\\n</td></tr>\\n<tr><td class=\"footdata-topic-list\" colspan=\"2\">DMT\\xa0(18), LSD\\xa0(2) : Combinations\\xa0(3), Mystical Experiences\\xa0(9), Small Group (2-9)\\xa0(17)</td></tr>\\n<!--  <img src=\"/images/new.gif\" alt=\"May\"> -->\\n</table>'}\n",
            "{'link': 'https://www.erowid.org/experiences/exp.php?ID=80880', 'substance': 'DMT', 'dosechart': '<table class=\"dosechart\">\\n<tr>\\n<td align=\"right\" class=\"dosechart-time\">DOSE:<br/></td>\\n<td align=\"center\" class=\"dosechart-amount\">\\xa0 repeated</td>\\n<td align=\"center\" class=\"dosechart-method\">smoked</td>\\n<td class=\"dosechart-substance\"><a href=\"/chemicals/dmt/\">DMT</a></td>\\n<td class=\"dosechart-form\">(powder / crystals)</td>\\n</tr>\\n</table>', 'bodyweight': '<table class=\"bodyweight\">\\n<tr>\\n<td class=\"bodyweight-title\">BODY WEIGHT:</td>\\n<td class=\"bodyweight-amount\">190 lb</td>\\n</tr>\\n</table>', 'footdata': '<table class=\"footdata\">\\n<tr><td class=\"footdata-expyear\">Exp Year: 2009</td><td class=\"footdata-expid\">ExpID: 80880</td></tr>\\n<tr><td class=\"footdata-gender\">Gender: Male</td><td>\\xa0</td></tr>\\n<tr><td class=\"footdata-ageofexp\" colspan=\"2\">Age at time of experience: 27</td></tr>\\n<tr><td class=\"footdata-pubdate\">Published: Aug 12, 2010</td><td class=\"footdata-numviews\">Views: 66,487</td></tr>\\n<tr><td class=\"footdata-other-formats\" colspan=\"2\">[ <a href=\"exp.php?ID=80880&amp;format=pdf\" type=\"text/pdf\">View PDF (to print)</a> ] [ <a href=\"exp_pdf.php?ID=80880&amp;format=latex\">View LaTeX (for geeks)</a> ]\\n[\\xa0<a href=\"#\" onclick=\"expChangeColors(); return false;\">Swap\\xa0Dark/Light</a>\\xa0]\\n</td></tr>\\n<tr><td class=\"footdata-topic-list\" colspan=\"2\">DMT\\xa0(18) : Not Applicable\\xa0(38), Entities / Beings\\xa0(37), Mystical Experiences\\xa0(9), Glowing Experiences\\xa0(4), Retrospective / Summary\\xa0(11)</td></tr>\\n<!--  <img src=\"/images/new.gif\" alt=\"May\"> -->\\n</table>'}\n",
            "{'link': 'https://www.erowid.org/experiences/exp.php?ID=76614', 'substance': 'DMT (extracted from M. tenuiflora) & Salvia divinorum', 'dosechart': '<table class=\"dosechart\">\\n<tr>\\n<td align=\"right\" class=\"dosechart-time\">DOSE:<br/></td>\\n<td align=\"center\" class=\"dosechart-amount\">70 mg</td>\\n<td align=\"center\" class=\"dosechart-method\">oral</td>\\n<td class=\"dosechart-substance\"><a href=\"/chemicals/dmt/\">DMT</a></td>\\n<td class=\"dosechart-form\">(powder / crystals)</td>\\n</tr>\\n</table>', 'bodyweight': '<table class=\"bodyweight\">\\n<tr>\\n<td class=\"bodyweight-title\">BODY WEIGHT:</td>\\n<td class=\"bodyweight-amount\">220 lb</td>\\n</tr>\\n</table>', 'footdata': '<table class=\"footdata\">\\n<tr><td class=\"footdata-expyear\">Exp Year: 2009</td><td class=\"footdata-expid\">ExpID: 76614</td></tr>\\n<tr><td class=\"footdata-gender\">Gender: Male</td><td>\\xa0</td></tr>\\n<tr><td class=\"footdata-ageofexp\" colspan=\"2\">Age at time of experience: Not Given</td></tr>\\n<tr><td class=\"footdata-pubdate\">Published: Jun 13, 2009</td><td class=\"footdata-numviews\">Views: 56,863</td></tr>\\n<tr><td class=\"footdata-other-formats\" colspan=\"2\">[ <a href=\"exp.php?ID=76614&amp;format=pdf\" type=\"text/pdf\">View PDF (to print)</a> ] [ <a href=\"exp_pdf.php?ID=76614&amp;format=latex\">View LaTeX (for geeks)</a> ]\\n[\\xa0<a href=\"#\" onclick=\"expChangeColors(); return false;\">Swap\\xa0Dark/Light</a>\\xa0]\\n</td></tr>\\n<tr><td class=\"footdata-topic-list\" colspan=\"2\">DMT\\xa0(18), Mimosa tenuiflora\\xa0(74) : Alone\\xa0(16), Therapeutic Intent or Outcome\\xa0(49), Entities / Beings\\xa0(37), Mystical Experiences\\xa0(9), Preparation / Recipes\\xa0(30), Retrospective / Summary\\xa0(11)</td></tr>\\n<!--  <img src=\"/images/new.gif\" alt=\"May\"> -->\\n</table>'}\n",
            "{'link': 'https://www.erowid.org/experiences/exp.php?ID=75003', 'substance': 'DMT, 5-MeO-DMT & Salvia divinorum', 'dosechart': '<table class=\"dosechart\">\\n<tr>\\n<td align=\"right\" class=\"dosechart-time\">DOSE:<br/></td>\\n<td align=\"center\" class=\"dosechart-amount\">15 mg</td>\\n<td align=\"center\" class=\"dosechart-method\">smoked</td>\\n<td class=\"dosechart-substance\"><a href=\"/chemicals/dmt/\">DMT</a></td>\\n<td class=\"dosechart-form\">\\xa0</td>\\n</tr>\\n<tr>\\n<td align=\"right\" class=\"dosechart-time\">\\xa0</td>\\n<td align=\"center\" class=\"dosechart-amount\">15 mg</td>\\n<td align=\"center\" class=\"dosechart-method\">smoked</td>\\n<td class=\"dosechart-substance\"><a href=\"/chemicals/5meo_dmt/\">5-MeO-DMT</a></td>\\n<td class=\"dosechart-form\">\\xa0</td>\\n</tr>\\n<tr>\\n<td align=\"right\" class=\"dosechart-time\">\\xa0</td>\\n<td align=\"center\" class=\"dosechart-amount\">2 leaves</td>\\n<td align=\"center\" class=\"dosechart-method\">buccal</td>\\n<td class=\"dosechart-substance\"><a href=\"/plants/salvia/\">Salvia divinorum</a></td>\\n<td class=\"dosechart-form\">(dried)</td>\\n</tr>\\n</table>', 'bodyweight': '<table class=\"bodyweight\">\\n<tr>\\n<td class=\"bodyweight-title\">BODY WEIGHT:</td>\\n<td class=\"bodyweight-amount\">125 lb</td>\\n</tr>\\n</table>', 'footdata': '<table class=\"footdata\">\\n<tr><td class=\"footdata-expyear\">Exp Year: 2008</td><td class=\"footdata-expid\">ExpID: 75003</td></tr>\\n<tr><td class=\"footdata-gender\">Gender: Male</td><td>\\xa0</td></tr>\\n<tr><td class=\"footdata-ageofexp\" colspan=\"2\">Age at time of experience: Not Given</td></tr>\\n<tr><td class=\"footdata-pubdate\">Published: Feb 24, 2009</td><td class=\"footdata-numviews\">Views: 59,611</td></tr>\\n<tr><td class=\"footdata-other-formats\" colspan=\"2\">[ <a href=\"exp.php?ID=75003&amp;format=pdf\" type=\"text/pdf\">View PDF (to print)</a> ] [ <a href=\"exp_pdf.php?ID=75003&amp;format=latex\">View LaTeX (for geeks)</a> ]\\n[\\xa0<a href=\"#\" onclick=\"expChangeColors(); return false;\">Swap\\xa0Dark/Light</a>\\xa0]\\n</td></tr>\\n<tr><td class=\"footdata-topic-list\" colspan=\"2\">DMT\\xa0(18), 5-MeO-DMT\\xa0(58), Salvia divinorum\\xa0(44) : Various\\xa0(28), Entities / Beings\\xa0(37), Nature / Outdoors\\xa0(23), Retrospective / Summary\\xa0(11), Combinations\\xa0(3)</td></tr>\\n<!--  <img src=\"/images/new.gif\" alt=\"May\"> -->\\n</table>'}\n",
            "{'link': 'https://www.erowid.org/experiences/exp.php?ID=70283', 'substance': 'Mushrooms - P. cubensis, LSD, 2C-B, MDMA (Ecstasy), DMT, Ketamine, Mescaline & Cannabis', 'dosechart': '<table class=\"dosechart\">\\n<tr>\\n<td align=\"right\" class=\"dosechart-time\">DOSE:<br/> T+ 0:00</td>\\n<td align=\"center\" class=\"dosechart-amount\">2.0 g</td>\\n<td align=\"center\" class=\"dosechart-method\">oral</td>\\n<td class=\"dosechart-substance\"><a href=\"/plants/mushrooms/\">Mushrooms - P. cubensis</a></td>\\n<td class=\"dosechart-form\">(dried)</td>\\n</tr>\\n<tr>\\n<td align=\"right\" class=\"dosechart-time\">\\xa0 T+ 3:30</td>\\n<td align=\"center\" class=\"dosechart-amount\">3.0 g</td>\\n<td align=\"center\" class=\"dosechart-method\">oral</td>\\n<td class=\"dosechart-substance\"><a href=\"/plants/mushrooms/\">Mushrooms - P. cubensis</a></td>\\n<td class=\"dosechart-form\">(dried)</td>\\n</tr>\\n<tr>\\n<td align=\"right\" class=\"dosechart-time\">\\xa0 T+ 3:30</td>\\n<td align=\"center\" class=\"dosechart-amount\">3 hits</td>\\n<td align=\"center\" class=\"dosechart-method\">oral</td>\\n<td class=\"dosechart-substance\"><a href=\"/chemicals/lsd/\">LSD</a></td>\\n<td class=\"dosechart-form\">(blotter / tab)</td>\\n</tr>\\n<tr>\\n<td align=\"right\" class=\"dosechart-time\">\\xa0 T+ 6:00</td>\\n<td align=\"center\" class=\"dosechart-amount\">2 hits</td>\\n<td align=\"center\" class=\"dosechart-method\">oral</td>\\n<td class=\"dosechart-substance\"><a href=\"/chemicals/lsd/\">LSD</a></td>\\n<td class=\"dosechart-form\">(blotter / tab)</td>\\n</tr>\\n<tr>\\n<td align=\"right\" class=\"dosechart-time\">\\xa0 T+ 6:00</td>\\n<td align=\"center\" class=\"dosechart-amount\">1 capsl</td>\\n<td align=\"center\" class=\"dosechart-method\">oral</td>\\n<td class=\"dosechart-substance\"><a href=\"/chemicals/2cb/\">2C-B</a></td>\\n<td class=\"dosechart-form\">(capsule)</td>\\n</tr>\\n<tr>\\n<td align=\"right\" class=\"dosechart-time\">\\xa0 T+ 6:00</td>\\n<td align=\"center\" class=\"dosechart-amount\">2 lines</td>\\n<td align=\"center\" class=\"dosechart-method\">insufflated</td>\\n<td class=\"dosechart-substance\"><a href=\"/chemicals/mdma/\">MDMA</a></td>\\n<td class=\"dosechart-form\">(powder / crystals)</td>\\n</tr>\\n<tr>\\n<td align=\"right\" class=\"dosechart-time\">\\xa0 T+ 10:00</td>\\n<td align=\"center\" class=\"dosechart-amount\">1 hit</td>\\n<td align=\"center\" class=\"dosechart-method\">smoked</td>\\n<td class=\"dosechart-substance\"><a href=\"/chemicals/dmt/\">DMT</a></td>\\n<td class=\"dosechart-form\">(powder / crystals)</td>\\n</tr>\\n<tr>\\n<td align=\"right\" class=\"dosechart-time\">\\xa0 T+ 10:45</td>\\n<td align=\"center\" class=\"dosechart-amount\">1 capsl</td>\\n<td align=\"center\" class=\"dosechart-method\">oral</td>\\n<td class=\"dosechart-substance\"><a href=\"/chemicals/2cb/\">2C-B</a></td>\\n<td class=\"dosechart-form\">(capsule)</td>\\n</tr>\\n<tr>\\n<td align=\"right\" class=\"dosechart-time\">\\xa0 T+ 14:30</td>\\n<td align=\"center\" class=\"dosechart-amount\">1 capsl</td>\\n<td align=\"center\" class=\"dosechart-method\">oral</td>\\n<td class=\"dosechart-substance\"><a href=\"/chemicals/mdma/\">MDMA</a></td>\\n<td class=\"dosechart-form\">(capsule)</td>\\n</tr>\\n<tr>\\n<td align=\"right\" class=\"dosechart-time\">\\xa0 T+ 15:30</td>\\n<td align=\"center\" class=\"dosechart-amount\">1 bump</td>\\n<td align=\"center\" class=\"dosechart-method\">insufflated</td>\\n<td class=\"dosechart-substance\"><a href=\"/chemicals/ketamine/\">Ketamine</a></td>\\n<td class=\"dosechart-form\">(powder / crystals)</td>\\n</tr>\\n<tr>\\n<td align=\"right\" class=\"dosechart-time\">\\xa0 T+ 16:30</td>\\n<td align=\"center\" class=\"dosechart-amount\">2 bumps</td>\\n<td align=\"center\" class=\"dosechart-method\">insufflated</td>\\n<td class=\"dosechart-substance\"><a href=\"/chemicals/ketamine/\">Ketamine</a></td>\\n<td class=\"dosechart-form\">(powder / crystals)</td>\\n</tr>\\n<tr>\\n<td align=\"right\" class=\"dosechart-time\">\\xa0 T+ 18:00</td>\\n<td align=\"center\" class=\"dosechart-amount\">2 capsls</td>\\n<td align=\"center\" class=\"dosechart-method\">oral</td>\\n<td class=\"dosechart-substance\"><a href=\"/chemicals/mdma/\">MDMA</a></td>\\n<td class=\"dosechart-form\">(capsule)</td>\\n</tr>\\n<tr>\\n<td align=\"right\" class=\"dosechart-time\">\\xa0 T+ 23:00</td>\\n<td align=\"center\" class=\"dosechart-amount\">5.0 g</td>\\n<td align=\"center\" class=\"dosechart-method\">oral</td>\\n<td class=\"dosechart-substance\"><a href=\"/plants/mushrooms/\">Mushrooms - P. cubensis</a></td>\\n<td class=\"dosechart-form\">(dried)</td>\\n</tr>\\n<tr>\\n<td align=\"right\" class=\"dosechart-time\">\\xa0 T+ 23:00</td>\\n<td align=\"center\" class=\"dosechart-amount\">2 bumps</td>\\n<td align=\"center\" class=\"dosechart-method\">insufflated</td>\\n<td class=\"dosechart-substance\"><a href=\"/chemicals/ketamine/\">Ketamine</a></td>\\n<td class=\"dosechart-form\">(powder / crystals)</td>\\n</tr>\\n</table>', 'bodyweight': '<table class=\"bodyweight\">\\n<tr>\\n<td class=\"bodyweight-title\">BODY WEIGHT:</td>\\n<td class=\"bodyweight-amount\">95 kg</td>\\n</tr>\\n</table>', 'footdata': '<table class=\"footdata\">\\n<tr><td class=\"footdata-expyear\">Exp Year: 2008</td><td class=\"footdata-expid\">ExpID: 70283</td></tr>\\n<tr><td class=\"footdata-gender\">Gender: Male</td><td>\\xa0</td></tr>\\n<tr><td class=\"footdata-ageofexp\" colspan=\"2\">Age at time of experience: Not Given</td></tr>\\n<tr><td class=\"footdata-pubdate\">Published: Jun 21, 2008</td><td class=\"footdata-numviews\">Views: 303,937</td></tr>\\n<tr><td class=\"footdata-other-formats\" colspan=\"2\">[ <a href=\"exp.php?ID=70283&amp;format=pdf\" type=\"text/pdf\">View PDF (to print)</a> ] [ <a href=\"exp_pdf.php?ID=70283&amp;format=latex\">View LaTeX (for geeks)</a> ]\\n[\\xa0<a href=\"#\" onclick=\"expChangeColors(); return false;\">Swap\\xa0Dark/Light</a>\\xa0]\\n</td></tr>\\n<tr><td class=\"footdata-topic-list\" colspan=\"2\">Ketamine\\xa0(31), DMT\\xa0(18), MDMA\\xa0(3), Mescaline\\xa0(36), 2C-B\\xa0(52), LSD\\xa0(2), Mushrooms - P. cubensis\\xa0(66) : Glowing Experiences\\xa0(4), Difficult Experiences\\xa0(5), Mystical Experiences\\xa0(9), Entities / Beings\\xa0(37), Multi-Day Experience\\xa0(13), Combinations\\xa0(3), Festival / Lg. Crowd\\xa0(24)</td></tr>\\n<!--  <img src=\"/images/new.gif\" alt=\"May\"> -->\\n</table>'}\n",
            "{'link': 'https://www.erowid.org/experiences/exp.php?ID=66730', 'substance': 'MDMA, Cacti - T. bridgesii & DMT', 'dosechart': '<table class=\"dosechart\">\\n<tr>\\n<td align=\"right\" class=\"dosechart-time\">DOSE:<br/> T+ 0:00</td>\\n<td align=\"center\" class=\"dosechart-amount\">300 mg</td>\\n<td align=\"center\" class=\"dosechart-method\">oral</td>\\n<td class=\"dosechart-substance\"><a href=\"/chemicals/mdma/\">MDMA</a></td>\\n<td class=\"dosechart-form\">\\xa0</td>\\n</tr>\\n<tr>\\n<td align=\"right\" class=\"dosechart-time\">\\xa0 T+ 0:30</td>\\n<td align=\"center\" class=\"dosechart-amount\">7.0 g</td>\\n<td align=\"center\" class=\"dosechart-method\">oral</td>\\n<td class=\"dosechart-substance\"><a href=\"/plants/cacti/\">Cacti - T. bridgesii</a></td>\\n<td class=\"dosechart-form\">(dried)</td>\\n</tr>\\n<tr>\\n<td align=\"right\" class=\"dosechart-time\">\\xa0 T+ 0:00</td>\\n<td align=\"center\" class=\"dosechart-amount\">\\xa0 </td>\\n<td align=\"center\" class=\"dosechart-method\">smoked</td>\\n<td class=\"dosechart-substance\"><a href=\"/plants/cannabis/\">Cannabis</a></td>\\n<td class=\"dosechart-form\">(plant material)</td>\\n</tr>\\n<tr>\\n<td align=\"right\" class=\"dosechart-time\">\\xa0 T+ 10:00</td>\\n<td align=\"center\" class=\"dosechart-amount\">2 hits</td>\\n<td align=\"center\" class=\"dosechart-method\">smoked</td>\\n<td class=\"dosechart-substance\"><a href=\"/chemicals/dmt/\">DMT</a></td>\\n<td class=\"dosechart-form\">\\xa0</td>\\n</tr>\\n</table>', 'bodyweight': '<table class=\"bodyweight\">\\n<tr>\\n<td class=\"bodyweight-title\">BODY WEIGHT:</td>\\n<td class=\"bodyweight-amount\">120 lb</td>\\n</tr>\\n</table>', 'footdata': '<table class=\"footdata\">\\n<tr><td class=\"footdata-expyear\">Exp Year: 2007</td><td class=\"footdata-expid\">ExpID: 66730</td></tr>\\n<tr><td class=\"footdata-gender\">Gender: Male</td><td>\\xa0</td></tr>\\n<tr><td class=\"footdata-ageofexp\" colspan=\"2\">Age at time of experience: Not Given</td></tr>\\n<tr><td class=\"footdata-pubdate\">Published: Dec 1, 2007</td><td class=\"footdata-numviews\">Views: 44,652</td></tr>\\n<tr><td class=\"footdata-other-formats\" colspan=\"2\">[ <a href=\"exp.php?ID=66730&amp;format=pdf\" type=\"text/pdf\">View PDF (to print)</a> ] [ <a href=\"exp_pdf.php?ID=66730&amp;format=latex\">View LaTeX (for geeks)</a> ]\\n[\\xa0<a href=\"#\" onclick=\"expChangeColors(); return false;\">Swap\\xa0Dark/Light</a>\\xa0]\\n</td></tr>\\n<tr><td class=\"footdata-topic-list\" colspan=\"2\">Cacti - T. bridgesii\\xa0(448), MDMA\\xa0(3), DMT\\xa0(18) : Small Group (2-9)\\xa0(17), Glowing Experiences\\xa0(4), Combinations\\xa0(3)</td></tr>\\n<!--  <img src=\"/images/new.gif\" alt=\"May\"> -->\\n</table>'}\n",
            "{'link': 'https://www.erowid.org/experiences/exp.php?ID=65793', 'substance': 'LSD, DMT & Cannabis', 'dosechart': '<table class=\"dosechart\">\\n<tr>\\n<td align=\"right\" class=\"dosechart-time\">DOSE:<br/></td>\\n<td align=\"center\" class=\"dosechart-amount\">3 hits</td>\\n<td align=\"center\" class=\"dosechart-method\">oral</td>\\n<td class=\"dosechart-substance\"><a href=\"/chemicals/lsd/\">LSD</a></td>\\n<td class=\"dosechart-form\">(blotter / tab)</td>\\n</tr>\\n<tr>\\n<td align=\"right\" class=\"dosechart-time\">\\xa0</td>\\n<td align=\"center\" class=\"dosechart-amount\">\\xa0 repeated</td>\\n<td align=\"center\" class=\"dosechart-method\">smoked</td>\\n<td class=\"dosechart-substance\"><a href=\"/plants/cannabis/\">Cannabis</a></td>\\n<td class=\"dosechart-form\">(plant material)</td>\\n</tr>\\n<tr>\\n<td align=\"right\" class=\"dosechart-time\">\\xa0</td>\\n<td align=\"center\" class=\"dosechart-amount\">\\xa0 </td>\\n<td align=\"center\" class=\"dosechart-method\">smoked</td>\\n<td class=\"dosechart-substance\"><a href=\"/chemicals/dmt/\">DMT</a></td>\\n<td class=\"dosechart-form\">(powder / crystals)</td>\\n</tr>\\n</table>', 'bodyweight': '<table class=\"bodyweight\">\\n<tr>\\n<td class=\"bodyweight-title\">BODY WEIGHT:</td>\\n<td class=\"bodyweight-amount\">150 lb</td>\\n</tr>\\n</table>', 'footdata': '<table class=\"footdata\">\\n<tr><td class=\"footdata-expyear\">Exp Year: 2007</td><td class=\"footdata-expid\">ExpID: 65793</td></tr>\\n<tr><td class=\"footdata-gender\">Gender: Male</td><td>\\xa0</td></tr>\\n<tr><td class=\"footdata-ageofexp\" colspan=\"2\">Age at time of experience: Not Given</td></tr>\\n<tr><td class=\"footdata-pubdate\">Published: Oct 9, 2007</td><td class=\"footdata-numviews\">Views: 42,948</td></tr>\\n<tr><td class=\"footdata-other-formats\" colspan=\"2\">[ <a href=\"exp.php?ID=65793&amp;format=pdf\" type=\"text/pdf\">View PDF (to print)</a> ] [ <a href=\"exp_pdf.php?ID=65793&amp;format=latex\">View LaTeX (for geeks)</a> ]\\n[\\xa0<a href=\"#\" onclick=\"expChangeColors(); return false;\">Swap\\xa0Dark/Light</a>\\xa0]\\n</td></tr>\\n<tr><td class=\"footdata-topic-list\" colspan=\"2\">DMT\\xa0(18), LSD\\xa0(2) : Alone\\xa0(16), Mystical Experiences\\xa0(9), Entities / Beings\\xa0(37), Nature / Outdoors\\xa0(23), Combinations\\xa0(3)</td></tr>\\n<!--  <img src=\"/images/new.gif\" alt=\"May\"> -->\\n</table>'}\n",
            "{'link': 'https://www.erowid.org/experiences/exp.php?ID=65384', 'substance': 'DMT (Extracted from M. tenuiflora)', 'dosechart': '<table class=\"dosechart\">\\n<tr>\\n<td align=\"right\" class=\"dosechart-time\">DOSE:<br/></td>\\n<td align=\"center\" class=\"dosechart-amount\">\\xa0 </td>\\n<td align=\"center\" class=\"dosechart-method\">smoked</td>\\n<td class=\"dosechart-substance\"><a href=\"/chemicals/dmt/\">DMT</a></td>\\n<td class=\"dosechart-form\">(powder / crystals)</td>\\n</tr>\\n<tr>\\n<td align=\"right\" class=\"dosechart-time\">\\xa0</td>\\n<td align=\"center\" class=\"dosechart-amount\">\\xa0 </td>\\n<td align=\"center\" class=\"dosechart-method\">smoked</td>\\n<td class=\"dosechart-substance\"><a href=\"/plants/cannabis/\">Cannabis</a></td>\\n<td class=\"dosechart-form\">(plant material)</td>\\n</tr>\\n</table>', 'bodyweight': '<table class=\"bodyweight\">\\n<tr>\\n<td class=\"bodyweight-title\">BODY WEIGHT:</td>\\n<td class=\"bodyweight-amount\">180 lb</td>\\n</tr>\\n</table>', 'footdata': '<table class=\"footdata\">\\n<tr><td class=\"footdata-expyear\">Exp Year: 2007</td><td class=\"footdata-expid\">ExpID: 65384</td></tr>\\n<tr><td class=\"footdata-gender\">Gender: Male</td><td>\\xa0</td></tr>\\n<tr><td class=\"footdata-ageofexp\" colspan=\"2\">Age at time of experience: Not Given</td></tr>\\n<tr><td class=\"footdata-pubdate\">Published: Oct 3, 2007</td><td class=\"footdata-numviews\">Views: 56,492</td></tr>\\n<tr><td class=\"footdata-other-formats\" colspan=\"2\">[ <a href=\"exp.php?ID=65384&amp;format=pdf\" type=\"text/pdf\">View PDF (to print)</a> ] [ <a href=\"exp_pdf.php?ID=65384&amp;format=latex\">View LaTeX (for geeks)</a> ]\\n[\\xa0<a href=\"#\" onclick=\"expChangeColors(); return false;\">Swap\\xa0Dark/Light</a>\\xa0]\\n</td></tr>\\n<tr><td class=\"footdata-topic-list\" colspan=\"2\">Mimosa tenuiflora\\xa0(74), DMT\\xa0(18) : Small Group (2-9)\\xa0(17), Entities / Beings\\xa0(37), Mystical Experiences\\xa0(9), Difficult Experiences\\xa0(5)</td></tr>\\n<!--  <img src=\"/images/new.gif\" alt=\"May\"> -->\\n</table>'}\n",
            "{'link': 'https://www.erowid.org/experiences/exp.php?ID=58800', 'substance': 'Huasca Combo (Syrian Rue & DMT)', 'dosechart': '<table class=\"dosechart\">\\n<tr>\\n<td align=\"right\" class=\"dosechart-time\">DOSE:<br/> T+ 0:00</td>\\n<td align=\"center\" class=\"dosechart-amount\">3.0 g</td>\\n<td align=\"center\" class=\"dosechart-method\">oral</td>\\n<td class=\"dosechart-substance\"><a href=\"/plants/syrian_rue/\">Syrian Rue</a></td>\\n<td class=\"dosechart-form\">(powder / crystals)</td>\\n</tr>\\n<tr>\\n<td align=\"right\" class=\"dosechart-time\">\\xa0 T+ 0:45</td>\\n<td align=\"center\" class=\"dosechart-amount\">50 mg</td>\\n<td align=\"center\" class=\"dosechart-method\">oral</td>\\n<td class=\"dosechart-substance\"><a href=\"/chemicals/dmt/\">DMT</a></td>\\n<td class=\"dosechart-form\">(powder / crystals)</td>\\n</tr>\\n</table>', 'bodyweight': '<table class=\"bodyweight\">\\n<tr>\\n<td class=\"bodyweight-title\">BODY WEIGHT:</td>\\n<td class=\"bodyweight-amount\">165 lb</td>\\n</tr>\\n</table>', 'footdata': '<table class=\"footdata\">\\n<tr><td class=\"footdata-expyear\">Exp Year: 2006</td><td class=\"footdata-expid\">ExpID: 58800</td></tr>\\n<tr><td class=\"footdata-gender\">Gender: Male</td><td>\\xa0</td></tr>\\n<tr><td class=\"footdata-ageofexp\" colspan=\"2\">Age at time of experience: Not Given</td></tr>\\n<tr><td class=\"footdata-pubdate\">Published: Jan 20, 2007</td><td class=\"footdata-numviews\">Views: 68,525</td></tr>\\n<tr><td class=\"footdata-other-formats\" colspan=\"2\">[ <a href=\"exp.php?ID=58800&amp;format=pdf\" type=\"text/pdf\">View PDF (to print)</a> ] [ <a href=\"exp_pdf.php?ID=58800&amp;format=latex\">View LaTeX (for geeks)</a> ]\\n[\\xa0<a href=\"#\" onclick=\"expChangeColors(); return false;\">Swap\\xa0Dark/Light</a>\\xa0]\\n</td></tr>\\n<tr><td class=\"footdata-topic-list\" colspan=\"2\">Huasca Combo\\xa0(269), DMT\\xa0(18), Syrian Rue\\xa0(45) : Small Group (2-9)\\xa0(17), Mystical Experiences\\xa0(9), Difficult Experiences\\xa0(5), Combinations\\xa0(3)</td></tr>\\n<!--  <img src=\"/images/new.gif\" alt=\"May\"> -->\\n</table>'}\n",
            "{'link': 'https://www.erowid.org/experiences/exp.php?ID=58907', 'substance': 'DMT', 'dosechart': '<table class=\"dosechart\">\\n<tr>\\n<td align=\"right\" class=\"dosechart-time\">DOSE:<br/></td>\\n<td align=\"center\" class=\"dosechart-amount\">35 mg</td>\\n<td align=\"center\" class=\"dosechart-method\">smoked</td>\\n<td class=\"dosechart-substance\"><a href=\"/chemicals/dmt/\">DMT</a></td>\\n<td class=\"dosechart-form\">(powder / crystals)</td>\\n</tr>\\n</table>', 'bodyweight': '<table class=\"bodyweight\">\\n<tr>\\n<td class=\"bodyweight-title\">BODY WEIGHT:</td>\\n<td class=\"bodyweight-amount\">160 lb</td>\\n</tr>\\n</table>', 'footdata': '<table class=\"footdata\">\\n<tr><td class=\"footdata-expyear\">Exp Year: 2007</td><td class=\"footdata-expid\">ExpID: 58907</td></tr>\\n<tr><td class=\"footdata-gender\">Gender: Male</td><td>\\xa0</td></tr>\\n<tr><td class=\"footdata-ageofexp\" colspan=\"2\">Age at time of experience: Not Given</td></tr>\\n<tr><td class=\"footdata-pubdate\">Published: Jan 19, 2007</td><td class=\"footdata-numviews\">Views: 70,642</td></tr>\\n<tr><td class=\"footdata-other-formats\" colspan=\"2\">[ <a href=\"exp.php?ID=58907&amp;format=pdf\" type=\"text/pdf\">View PDF (to print)</a> ] [ <a href=\"exp_pdf.php?ID=58907&amp;format=latex\">View LaTeX (for geeks)</a> ]\\n[\\xa0<a href=\"#\" onclick=\"expChangeColors(); return false;\">Swap\\xa0Dark/Light</a>\\xa0]\\n</td></tr>\\n<tr><td class=\"footdata-topic-list\" colspan=\"2\">DMT\\xa0(18) : Alone\\xa0(16), Mystical Experiences\\xa0(9), Entities / Beings\\xa0(37), First Times\\xa0(2)</td></tr>\\n<!--  <img src=\"/images/new.gif\" alt=\"May\"> -->\\n</table>'}\n",
            "{'link': 'https://www.erowid.org/experiences/exp.php?ID=52797', 'substance': 'DMT', 'dosechart': '<table class=\"dosechart\">\\n<tr>\\n<td align=\"right\" class=\"dosechart-time\">DOSE:<br/></td>\\n<td align=\"center\" class=\"dosechart-amount\">70 mg</td>\\n<td align=\"center\" class=\"dosechart-method\">smoked</td>\\n<td class=\"dosechart-substance\"><a href=\"/chemicals/dmt/\">DMT</a></td>\\n<td class=\"dosechart-form\">(powder / crystals)</td>\\n</tr>\\n</table>', 'bodyweight': '<table class=\"bodyweight\">\\n<tr>\\n<td class=\"bodyweight-title\">BODY WEIGHT:</td>\\n<td class=\"bodyweight-amount\">175 lb</td>\\n</tr>\\n</table>', 'footdata': '<table class=\"footdata\">\\n<tr><td class=\"footdata-expyear\">Exp Year: 2005</td><td class=\"footdata-expid\">ExpID: 52797</td></tr>\\n<tr><td class=\"footdata-gender\">Gender: Male</td><td>\\xa0</td></tr>\\n<tr><td class=\"footdata-ageofexp\" colspan=\"2\">Age at time of experience: Not Given</td></tr>\\n<tr><td class=\"footdata-pubdate\">Published: May 31, 2006</td><td class=\"footdata-numviews\">Views: 84,835</td></tr>\\n<tr><td class=\"footdata-other-formats\" colspan=\"2\">[ <a href=\"exp.php?ID=52797&amp;format=pdf\" type=\"text/pdf\">View PDF (to print)</a> ] [ <a href=\"exp_pdf.php?ID=52797&amp;format=latex\">View LaTeX (for geeks)</a> ]\\n[\\xa0<a href=\"#\" onclick=\"expChangeColors(); return false;\">Swap\\xa0Dark/Light</a>\\xa0]\\n</td></tr>\\n<tr><td class=\"footdata-topic-list\" colspan=\"2\">DMT\\xa0(18) : Alone\\xa0(16), Entities / Beings\\xa0(37), Glowing Experiences\\xa0(4)</td></tr>\\n<!--  <img src=\"/images/new.gif\" alt=\"May\"> -->\\n</table>'}\n",
            "{'link': 'https://www.erowid.org/experiences/exp.php?ID=46854', 'substance': 'DMT & Moclobemide', 'dosechart': '<table class=\"dosechart\">\\n<tr>\\n<td align=\"right\" class=\"dosechart-time\">DOSE:<br/> T+ 0:00</td>\\n<td align=\"center\" class=\"dosechart-amount\">150 mg</td>\\n<td align=\"center\" class=\"dosechart-method\">oral</td>\\n<td class=\"dosechart-substance\"><a href=\"/pharms/moclobemide/\">Moclobemide</a></td>\\n</tr>\\n<tr>\\n<td align=\"right\" class=\"dosechart-time\">\\xa0 T+ 0:30</td>\\n<td align=\"center\" class=\"dosechart-amount\">50 mg</td>\\n<td align=\"center\" class=\"dosechart-method\">oral</td>\\n<td class=\"dosechart-substance\"><a href=\"/chemicals/dmt/\">DMT</a></td>\\n</tr>\\n<tr>\\n<td align=\"right\" class=\"dosechart-time\">\\xa0 T+ 1:00</td>\\n<td align=\"center\" class=\"dosechart-amount\">30 mg</td>\\n<td align=\"center\" class=\"dosechart-method\">oral</td>\\n<td class=\"dosechart-substance\"><a href=\"/chemicals/dmt/\">DMT</a></td>\\n</tr>\\n</table>', 'bodyweight': '<table class=\"bodyweight\">\\n<tr>\\n<td class=\"bodyweight-title\">BODY WEIGHT:</td>\\n<td class=\"bodyweight-amount\">150 lb</td>\\n</tr>\\n</table>', 'footdata': '<table class=\"footdata\">\\n<tr><td class=\"footdata-expyear\">Exp Year: 2004</td><td class=\"footdata-expid\">ExpID: 46854</td></tr>\\n<tr><td class=\"footdata-gender\">Gender: Male</td><td>\\xa0</td></tr>\\n<tr><td class=\"footdata-ageofexp\" colspan=\"2\">Age at time of experience: Not Given</td></tr>\\n<tr><td class=\"footdata-pubdate\">Published: Nov 1, 2005</td><td class=\"footdata-numviews\">Views: 79,649</td></tr>\\n<tr><td class=\"footdata-other-formats\" colspan=\"2\">[ <a href=\"exp.php?ID=46854&amp;format=pdf\" type=\"text/pdf\">View PDF (to print)</a> ] [ <a href=\"exp_pdf.php?ID=46854&amp;format=latex\">View LaTeX (for geeks)</a> ]\\n[\\xa0<a href=\"#\" onclick=\"expChangeColors(); return false;\">Swap\\xa0Dark/Light</a>\\xa0]\\n</td></tr>\\n<tr><td class=\"footdata-topic-list\" colspan=\"2\">DMT\\xa0(18), Moclobemide\\xa0(75) : Entities / Beings\\xa0(37), First Times\\xa0(2), Small Group (2-9)\\xa0(17)</td></tr>\\n<!--  <img src=\"/images/new.gif\" alt=\"May\"> -->\\n</table>'}\n",
            "{'link': 'https://www.erowid.org/experiences/exp.php?ID=46856', 'substance': 'DMT & Cannabis', 'dosechart': '<table class=\"dosechart\">\\n<tr>\\n<td align=\"right\" class=\"dosechart-time\">DOSE:<br/></td>\\n<td align=\"center\" class=\"dosechart-amount\">\\xa0 repeated</td>\\n<td align=\"center\" class=\"dosechart-method\">smoked</td>\\n<td class=\"dosechart-substance\"><a href=\"/chemicals/dmt/\">DMT</a></td>\\n<td class=\"dosechart-form\">(powder / crystals)</td>\\n</tr>\\n<tr>\\n<td align=\"right\" class=\"dosechart-time\">\\xa0</td>\\n<td align=\"center\" class=\"dosechart-amount\">\\xa0 repeated</td>\\n<td align=\"center\" class=\"dosechart-method\">smoked</td>\\n<td class=\"dosechart-substance\"><a href=\"/plants/cannabis/\">Cannabis</a></td>\\n<td class=\"dosechart-form\">(plant material)</td>\\n</tr>\\n</table>', 'bodyweight': '<table class=\"bodyweight\">\\n<tr>\\n<td class=\"bodyweight-title\">BODY WEIGHT:</td>\\n<td class=\"bodyweight-amount\">150 lb</td>\\n</tr>\\n</table>', 'footdata': '<table class=\"footdata\">\\n<tr><td class=\"footdata-expyear\">Exp Year: 2005</td><td class=\"footdata-expid\">ExpID: 46856</td></tr>\\n<tr><td class=\"footdata-gender\">Gender: Male</td><td>\\xa0</td></tr>\\n<tr><td class=\"footdata-ageofexp\" colspan=\"2\">Age at time of experience: Not Given</td></tr>\\n<tr><td class=\"footdata-pubdate\">Published: Oct 20, 2005</td><td class=\"footdata-numviews\">Views: 91,781</td></tr>\\n<tr><td class=\"footdata-other-formats\" colspan=\"2\">[ <a href=\"exp.php?ID=46856&amp;format=pdf\" type=\"text/pdf\">View PDF (to print)</a> ] [ <a href=\"exp_pdf.php?ID=46856&amp;format=latex\">View LaTeX (for geeks)</a> ]\\n[\\xa0<a href=\"#\" onclick=\"expChangeColors(); return false;\">Swap\\xa0Dark/Light</a>\\xa0]\\n</td></tr>\\n<tr><td class=\"footdata-topic-list\" colspan=\"2\">DMT\\xa0(18), Cannabis\\xa0(1) : Combinations\\xa0(3), Glowing Experiences\\xa0(4), Mystical Experiences\\xa0(9), Entities / Beings\\xa0(37), Small Group (2-9)\\xa0(17)</td></tr>\\n<!--  <img src=\"/images/new.gif\" alt=\"May\"> -->\\n</table>'}\n",
            "{'link': 'https://www.erowid.org/experiences/exp.php?ID=41106', 'substance': 'DMT, DPT, Moclobemide & Nitrous Oxide', 'dosechart': '<table class=\"dosechart\">\\n<tr>\\n<td align=\"right\" class=\"dosechart-time\">DOSE:<br/> T+ 0:00</td>\\n<td align=\"center\" class=\"dosechart-amount\">150 mg</td>\\n<td align=\"center\" class=\"dosechart-method\">oral</td>\\n<td class=\"dosechart-substance\"><a href=\"/pharms/moclobemide/\">Moclobemide</a></td>\\n<td class=\"dosechart-form\">\\xa0</td>\\n</tr>\\n<tr>\\n<td align=\"right\" class=\"dosechart-time\">\\xa0 T+ 0:00</td>\\n<td align=\"center\" class=\"dosechart-amount\">55 mg</td>\\n<td align=\"center\" class=\"dosechart-method\">insufflated</td>\\n<td class=\"dosechart-substance\"><a href=\"/chemicals/dpt/\">DPT</a></td>\\n<td class=\"dosechart-form\">(powder / crystals)</td>\\n</tr>\\n<tr>\\n<td align=\"right\" class=\"dosechart-time\">\\xa0 T+ 0:00</td>\\n<td align=\"center\" class=\"dosechart-amount\">1 cart.</td>\\n<td align=\"center\" class=\"dosechart-method\">inhaled</td>\\n<td class=\"dosechart-substance\"><a href=\"/chemicals/nitrous/\">Nitrous Oxide</a></td>\\n<td class=\"dosechart-form\">(gas)</td>\\n</tr>\\n<tr>\\n<td align=\"right\" class=\"dosechart-time\">\\xa0 T+ 0:20</td>\\n<td align=\"center\" class=\"dosechart-amount\">20 carts.</td>\\n<td align=\"center\" class=\"dosechart-method\">inhaled</td>\\n<td class=\"dosechart-substance\"><a href=\"/chemicals/nitrous/\">Nitrous Oxide</a></td>\\n<td class=\"dosechart-form\">(gas)</td>\\n</tr>\\n<tr>\\n<td align=\"right\" class=\"dosechart-time\">\\xa0 T+ 2:15</td>\\n<td align=\"center\" class=\"dosechart-amount\">80 mg</td>\\n<td align=\"center\" class=\"dosechart-method\">smoked</td>\\n<td class=\"dosechart-substance\"><a href=\"/chemicals/dmt/\">DMT</a></td>\\n<td class=\"dosechart-form\">(freebase)</td>\\n</tr>\\n<tr>\\n<td align=\"right\" class=\"dosechart-time\">\\xa0 T+ 4:00</td>\\n<td align=\"center\" class=\"dosechart-amount\">50 mg</td>\\n<td align=\"center\" class=\"dosechart-method\">insufflated</td>\\n<td class=\"dosechart-substance\"><a href=\"/chemicals/dpt/\">DPT</a></td>\\n<td class=\"dosechart-form\">(powder / crystals)</td>\\n</tr>\\n<tr>\\n<td align=\"right\" class=\"dosechart-time\">\\xa0 T+ 0:00</td>\\n<td align=\"center\" class=\"dosechart-amount\">\\xa0 repeated</td>\\n<td align=\"center\" class=\"dosechart-method\">inhaled</td>\\n<td class=\"dosechart-substance\"><a href=\"/chemicals/nitrous/\">Nitrous Oxide</a></td>\\n<td class=\"dosechart-form\">(gas)</td>\\n</tr>\\n</table>', 'bodyweight': '<table class=\"bodyweight\">\\n<tr>\\n<td class=\"bodyweight-title\">BODY WEIGHT:</td>\\n<td class=\"bodyweight-amount\">125 lb</td>\\n</tr>\\n</table>', 'footdata': '<table class=\"footdata\">\\n<tr><td class=\"footdata-expyear\">Exp Year: 2004</td><td class=\"footdata-expid\">ExpID: 41106</td></tr>\\n<tr><td class=\"footdata-gender\">Gender: Male</td><td>\\xa0</td></tr>\\n<tr><td class=\"footdata-ageofexp\" colspan=\"2\">Age at time of experience: Not Given</td></tr>\\n<tr><td class=\"footdata-pubdate\">Published: Jun 7, 2005</td><td class=\"footdata-numviews\">Views: 34,261</td></tr>\\n<tr><td class=\"footdata-other-formats\" colspan=\"2\">[ <a href=\"exp.php?ID=41106&amp;format=pdf\" type=\"text/pdf\">View PDF (to print)</a> ] [ <a href=\"exp_pdf.php?ID=41106&amp;format=latex\">View LaTeX (for geeks)</a> ]\\n[\\xa0<a href=\"#\" onclick=\"expChangeColors(); return false;\">Swap\\xa0Dark/Light</a>\\xa0]\\n</td></tr>\\n<tr><td class=\"footdata-topic-list\" colspan=\"2\">DMT\\xa0(18), DPT\\xa0(21) : Entities / Beings\\xa0(37), Combinations\\xa0(3), Alone\\xa0(16)</td></tr>\\n<!--  <img src=\"/images/new.gif\" alt=\"May\"> -->\\n</table>'}\n",
            "{'link': 'https://www.erowid.org/experiences/exp.php?ID=30919', 'substance': 'DMT', 'dosechart': '<table class=\"dosechart\">\\n<tr>\\n<td align=\"right\" class=\"dosechart-time\">DOSE:<br/> T+ 0:00</td>\\n<td align=\"center\" class=\"dosechart-amount\">25 mg</td>\\n<td align=\"center\" class=\"dosechart-method\">smoked</td>\\n<td class=\"dosechart-substance\"><a href=\"/chemicals/dmt/\">DMT</a></td>\\n</tr>\\n<tr>\\n<td align=\"right\" class=\"dosechart-time\">\\xa0 T+ 0:15</td>\\n<td align=\"center\" class=\"dosechart-amount\">50 mg</td>\\n<td align=\"center\" class=\"dosechart-method\">smoked</td>\\n<td class=\"dosechart-substance\"><a href=\"/chemicals/dmt/\">DMT</a></td>\\n</tr>\\n</table>', 'bodyweight': '<table class=\"bodyweight\">\\n<tr>\\n<td class=\"bodyweight-title\">BODY WEIGHT:</td>\\n<td class=\"bodyweight-amount\">135 lb</td>\\n</tr>\\n</table>', 'footdata': '<table class=\"footdata\">\\n<tr><td class=\"footdata-expyear\">Exp Year: 2004</td><td class=\"footdata-expid\">ExpID: 30919</td></tr>\\n<tr><td class=\"footdata-gender\">Gender: Male</td><td>\\xa0</td></tr>\\n<tr><td class=\"footdata-ageofexp\" colspan=\"2\">Age at time of experience: Not Given</td></tr>\\n<tr><td class=\"footdata-pubdate\">Published: Sep 28, 2004</td><td class=\"footdata-numviews\">Views: 70,517</td></tr>\\n<tr><td class=\"footdata-other-formats\" colspan=\"2\">[ <a href=\"exp.php?ID=30919&amp;format=pdf\" type=\"text/pdf\">View PDF (to print)</a> ] [ <a href=\"exp_pdf.php?ID=30919&amp;format=latex\">View LaTeX (for geeks)</a> ]\\n[\\xa0<a href=\"#\" onclick=\"expChangeColors(); return false;\">Swap\\xa0Dark/Light</a>\\xa0]\\n</td></tr>\\n<tr><td class=\"footdata-topic-list\" colspan=\"2\">DMT\\xa0(18) : Small Group (2-9)\\xa0(17), Entities / Beings\\xa0(37), Nature / Outdoors\\xa0(23), Glowing Experiences\\xa0(4), First Times\\xa0(2)</td></tr>\\n<!--  <img src=\"/images/new.gif\" alt=\"May\"> -->\\n</table>'}\n",
            "{'link': 'https://www.erowid.org/experiences/exp.php?ID=22238', 'substance': 'DMT', 'dosechart': '<table class=\"dosechart\">\\n<tr>\\n<td align=\"right\" class=\"dosechart-time\">DOSE:<br/></td>\\n<td align=\"center\" class=\"dosechart-amount\">50 mg</td>\\n<td align=\"center\" class=\"dosechart-method\">smoked</td>\\n<td class=\"dosechart-substance\"><a href=\"/chemicals/dmt/\">DMT</a></td>\\n</tr>\\n</table>', 'bodyweight': '<table class=\"bodyweight\">\\n<tr>\\n<td class=\"bodyweight-title\">BODY WEIGHT:</td>\\n<td class=\"bodyweight-amount\">155 lb</td>\\n</tr>\\n</table>', 'footdata': '<table class=\"footdata\">\\n<tr><td class=\"footdata-expyear\">Exp Year: 2003</td><td class=\"footdata-expid\">ExpID: 22238</td></tr>\\n<tr><td class=\"footdata-gender\">Gender: Male</td><td>\\xa0</td></tr>\\n<tr><td class=\"footdata-ageofexp\" colspan=\"2\">Age at time of experience: Not Given</td></tr>\\n<tr><td class=\"footdata-pubdate\">Published: Sep 27, 2004</td><td class=\"footdata-numviews\">Views: 51,465</td></tr>\\n<tr><td class=\"footdata-other-formats\" colspan=\"2\">[ <a href=\"exp.php?ID=22238&amp;format=pdf\" type=\"text/pdf\">View PDF (to print)</a> ] [ <a href=\"exp_pdf.php?ID=22238&amp;format=latex\">View LaTeX (for geeks)</a> ]\\n[\\xa0<a href=\"#\" onclick=\"expChangeColors(); return false;\">Swap\\xa0Dark/Light</a>\\xa0]\\n</td></tr>\\n<tr><td class=\"footdata-topic-list\" colspan=\"2\">DMT\\xa0(18) : First Times\\xa0(2), Entities / Beings\\xa0(37), Personal Preparation\\xa0(45), Mystical Experiences\\xa0(9), Small Group (2-9)\\xa0(17)</td></tr>\\n<!--  <img src=\"/images/new.gif\" alt=\"May\"> -->\\n</table>'}\n",
            "{'link': 'https://www.erowid.org/experiences/exp.php?ID=31979', 'substance': 'DMT', 'dosechart': '<table class=\"dosechart\">\\n<tr>\\n<td align=\"right\" class=\"dosechart-time\">DOSE:<br/></td>\\n<td align=\"center\" class=\"dosechart-amount\">\\xa0 </td>\\n<td align=\"center\" class=\"dosechart-method\">smoked</td>\\n<td class=\"dosechart-substance\"><a href=\"/chemicals/dmt/\">DMT</a></td>\\n<td class=\"dosechart-form\">(powder / crystals)</td>\\n</tr>\\n</table>', 'bodyweight': '<table class=\"bodyweight\">\\n<tr>\\n<td class=\"bodyweight-title\">BODY WEIGHT:</td>\\n<td class=\"bodyweight-amount\">90 kg</td>\\n</tr>\\n</table>', 'footdata': '<table class=\"footdata\">\\n<tr><td class=\"footdata-expyear\">Exp Year: 2000</td><td class=\"footdata-expid\">ExpID: 31979</td></tr>\\n<tr><td class=\"footdata-gender\">Gender: Male</td><td>\\xa0</td></tr>\\n<tr><td class=\"footdata-ageofexp\" colspan=\"2\">Age at time of experience: Not Given</td></tr>\\n<tr><td class=\"footdata-pubdate\">Published: Mar 21, 2004</td><td class=\"footdata-numviews\">Views: 122,851</td></tr>\\n<tr><td class=\"footdata-other-formats\" colspan=\"2\">[ <a href=\"exp.php?ID=31979&amp;format=pdf\" type=\"text/pdf\">View PDF (to print)</a> ] [ <a href=\"exp_pdf.php?ID=31979&amp;format=latex\">View LaTeX (for geeks)</a> ]\\n[\\xa0<a href=\"#\" onclick=\"expChangeColors(); return false;\">Swap\\xa0Dark/Light</a>\\xa0]\\n</td></tr>\\n<tr><td class=\"footdata-topic-list\" colspan=\"2\">DMT\\xa0(18) : Small Group (2-9)\\xa0(17), Entities / Beings\\xa0(37), Mystical Experiences\\xa0(9), General\\xa0(1)</td></tr>\\n<!--  <img src=\"/images/new.gif\" alt=\"May\"> -->\\n</table>'}\n",
            "{'link': 'https://www.erowid.org/experiences/exp.php?ID=25157', 'substance': 'Pharmahuasca (Syrian Rue & DMT)', 'dosechart': '<table class=\"dosechart\">\\n<tr>\\n<td align=\"right\" class=\"dosechart-time\">DOSE:<br/></td>\\n<td align=\"center\" class=\"dosechart-amount\">\\xa0 </td>\\n<td align=\"center\" class=\"dosechart-method\">oral</td>\\n<td class=\"dosechart-substance\"><a href=\"/chemicals/dmt/\">DMT</a></td>\\n<td class=\"dosechart-form\">(powder / crystals)</td>\\n</tr>\\n<tr>\\n<td align=\"right\" class=\"dosechart-time\">\\xa0</td>\\n<td align=\"center\" class=\"dosechart-amount\">\\xa0 </td>\\n<td align=\"center\" class=\"dosechart-method\">oral</td>\\n<td class=\"dosechart-substance\"><a href=\"/plants/syrian_rue/\">Syrian Rue</a></td>\\n<td class=\"dosechart-form\">(extract)</td>\\n</tr>\\n</table>', 'bodyweight': None, 'footdata': '<table class=\"footdata\">\\n<tr><td class=\"footdata-expyear\">Exp Year: 2003</td><td class=\"footdata-expid\">ExpID: 25157</td></tr>\\n<tr><td class=\"footdata-gender\">Gender: Male</td><td>\\xa0</td></tr>\\n<tr><td class=\"footdata-ageofexp\" colspan=\"2\">Age at time of experience: Not Given</td></tr>\\n<tr><td class=\"footdata-pubdate\">Published: Jul 10, 2003</td><td class=\"footdata-numviews\">Views: 81,644</td></tr>\\n<tr><td class=\"footdata-other-formats\" colspan=\"2\">[ <a href=\"exp.php?ID=25157&amp;format=pdf\" type=\"text/pdf\">View PDF (to print)</a> ] [ <a href=\"exp_pdf.php?ID=25157&amp;format=latex\">View LaTeX (for geeks)</a> ]\\n[\\xa0<a href=\"#\" onclick=\"expChangeColors(); return false;\">Swap\\xa0Dark/Light</a>\\xa0]\\n</td></tr>\\n<tr><td class=\"footdata-topic-list\" colspan=\"2\">Pharmahuasca\\xa0(822), DMT\\xa0(18), Syrian Rue\\xa0(45) : Large Group (10+)\\xa0(19), Preparation / Recipes\\xa0(30), Retrospective / Summary\\xa0(11)</td></tr>\\n<!--  <img src=\"/images/new.gif\" alt=\"May\"> -->\\n</table>'}\n",
            "{'link': 'https://www.erowid.org/experiences/exp.php?ID=23350', 'substance': 'Mushrooms & DMT', 'dosechart': '<table class=\"dosechart\">\\n<tr>\\n<td align=\"right\" class=\"dosechart-time\">DOSE:<br/></td>\\n<td align=\"center\" class=\"dosechart-amount\">3.0 g</td>\\n<td align=\"center\" class=\"dosechart-method\">oral</td>\\n<td class=\"dosechart-substance\"><a href=\"/plants/mushrooms/\">Mushrooms</a></td>\\n<td class=\"dosechart-form\">(edible / food)</td>\\n</tr>\\n<tr>\\n<td align=\"right\" class=\"dosechart-time\">\\xa0</td>\\n<td align=\"center\" class=\"dosechart-amount\">50 mg</td>\\n<td align=\"center\" class=\"dosechart-method\">smoked</td>\\n<td class=\"dosechart-substance\"><a href=\"/chemicals/dmt/\">DMT</a></td>\\n<td class=\"dosechart-form\">(powder / crystals)</td>\\n</tr>\\n</table>', 'bodyweight': '<table class=\"bodyweight\">\\n<tr>\\n<td class=\"bodyweight-title\">BODY WEIGHT:</td>\\n<td class=\"bodyweight-amount\">130 lb</td>\\n</tr>\\n</table>', 'footdata': '<table class=\"footdata\">\\n<tr><td class=\"footdata-expyear\">Exp Year: 2003</td><td class=\"footdata-expid\">ExpID: 23350</td></tr>\\n<tr><td class=\"footdata-gender\">Gender: Male</td><td>\\xa0</td></tr>\\n<tr><td class=\"footdata-ageofexp\" colspan=\"2\">Age at time of experience: Not Given</td></tr>\\n<tr><td class=\"footdata-pubdate\">Published: Apr 29, 2003</td><td class=\"footdata-numviews\">Views: 133,235</td></tr>\\n<tr><td class=\"footdata-other-formats\" colspan=\"2\">[ <a href=\"exp.php?ID=23350&amp;format=pdf\" type=\"text/pdf\">View PDF (to print)</a> ] [ <a href=\"exp_pdf.php?ID=23350&amp;format=latex\">View LaTeX (for geeks)</a> ]\\n[\\xa0<a href=\"#\" onclick=\"expChangeColors(); return false;\">Swap\\xa0Dark/Light</a>\\xa0]\\n</td></tr>\\n<tr><td class=\"footdata-topic-list\" colspan=\"2\">DMT\\xa0(18), Mushrooms\\xa0(39) : Small Group (2-9)\\xa0(17), Mystical Experiences\\xa0(9), Glowing Experiences\\xa0(4), Combinations\\xa0(3), First Times\\xa0(2)</td></tr>\\n<!--  <img src=\"/images/new.gif\" alt=\"May\"> -->\\n</table>'}\n",
            "{'link': 'https://www.erowid.org/experiences/exp.php?ID=16314', 'substance': 'DMT', 'dosechart': '<table class=\"dosechart\">\\n<tr>\\n<td align=\"right\" class=\"dosechart-time\">DOSE:<br/></td>\\n<td align=\"center\" class=\"dosechart-amount\">\\xa0 </td>\\n<td align=\"center\" class=\"dosechart-method\">smoked</td>\\n<td class=\"dosechart-substance\"><a href=\"/chemicals/dmt/\">DMT</a></td>\\n<td class=\"dosechart-form\">(powder / crystals)</td>\\n</tr>\\n</table>', 'bodyweight': '<table class=\"bodyweight\">\\n<tr>\\n<td class=\"bodyweight-title\">BODY WEIGHT:</td>\\n<td class=\"bodyweight-amount\">175 lb</td>\\n</tr>\\n</table>', 'footdata': '<table class=\"footdata\">\\n<tr><td class=\"footdata-expyear\">Exp Year: 2001</td><td class=\"footdata-expid\">ExpID: 16314</td></tr>\\n<tr><td class=\"footdata-gender\">Gender: Male</td><td>\\xa0</td></tr>\\n<tr><td class=\"footdata-ageofexp\" colspan=\"2\">Age at time of experience: Not Given</td></tr>\\n<tr><td class=\"footdata-pubdate\">Published: Jul 25, 2002</td><td class=\"footdata-numviews\">Views: 255,712</td></tr>\\n<tr><td class=\"footdata-other-formats\" colspan=\"2\">[ <a href=\"exp.php?ID=16314&amp;format=pdf\" type=\"text/pdf\">View PDF (to print)</a> ] [ <a href=\"exp_pdf.php?ID=16314&amp;format=latex\">View LaTeX (for geeks)</a> ]\\n[\\xa0<a href=\"#\" onclick=\"expChangeColors(); return false;\">Swap\\xa0Dark/Light</a>\\xa0]\\n</td></tr>\\n<tr><td class=\"footdata-topic-list\" colspan=\"2\">DMT\\xa0(18) : Small Group (2-9)\\xa0(17), Glowing Experiences\\xa0(4), First Times\\xa0(2)</td></tr>\\n<!--  <img src=\"/images/new.gif\" alt=\"May\"> -->\\n</table>'}\n",
            "{'link': 'https://www.erowid.org/experiences/exp.php?ID=8842', 'substance': 'Salvia divinorum (5x extract) & DMT', 'dosechart': '<table class=\"dosechart\">\\n<tr>\\n<td align=\"right\" class=\"dosechart-time\">DOSE:<br/></td>\\n<td align=\"center\" class=\"dosechart-amount\">250 mg</td>\\n<td align=\"center\" class=\"dosechart-method\">smoked</td>\\n<td class=\"dosechart-substance\"><a href=\"/plants/salvia/\">Salvia divinorum</a></td>\\n<td class=\"dosechart-form\">(extract - 5x)</td>\\n</tr>\\n<tr>\\n<td align=\"right\" class=\"dosechart-time\">\\xa0</td>\\n<td align=\"center\" class=\"dosechart-amount\">50 mg</td>\\n<td align=\"center\" class=\"dosechart-method\">smoked</td>\\n<td class=\"dosechart-substance\"><a href=\"/chemicals/dmt/\">DMT</a></td>\\n<td class=\"dosechart-form\">(powder / crystals)</td>\\n</tr>\\n</table>', 'bodyweight': '<table class=\"bodyweight\">\\n<tr>\\n<td class=\"bodyweight-title\">BODY WEIGHT:</td>\\n<td class=\"bodyweight-amount\">55 kg</td>\\n</tr>\\n</table>', 'footdata': '<table class=\"footdata\">\\n<tr><td class=\"footdata-expyear\">Exp Year: 2001</td><td class=\"footdata-expid\">ExpID: 8842</td></tr>\\n<tr><td class=\"footdata-gender\">Gender: Male</td><td>\\xa0</td></tr>\\n<tr><td class=\"footdata-ageofexp\" colspan=\"2\">Age at time of experience: Not Given</td></tr>\\n<tr><td class=\"footdata-pubdate\">Published: May 20, 2002</td><td class=\"footdata-numviews\">Views: 61,977</td></tr>\\n<tr><td class=\"footdata-other-formats\" colspan=\"2\">[ <a href=\"exp.php?ID=8842&amp;format=pdf\" type=\"text/pdf\">View PDF (to print)</a> ] [ <a href=\"exp_pdf.php?ID=8842&amp;format=latex\">View LaTeX (for geeks)</a> ]\\n[\\xa0<a href=\"#\" onclick=\"expChangeColors(); return false;\">Swap\\xa0Dark/Light</a>\\xa0]\\n</td></tr>\\n<tr><td class=\"footdata-topic-list\" colspan=\"2\">DMT\\xa0(18), Salvia divinorum\\xa0(44) : Unknown Context\\xa0(20), Combinations\\xa0(3), Entities / Beings\\xa0(37)</td></tr>\\n<!--  <img src=\"/images/new.gif\" alt=\"May\"> -->\\n</table>'}\n",
            "{'link': 'https://www.erowid.org/experiences/exp.php?ID=2205', 'substance': '2C-T-7 & DMT', 'dosechart': '<table class=\"dosechart\">\\n<tr>\\n<td align=\"right\" class=\"dosechart-time\">DOSE:<br/> T+ 0:00</td>\\n<td align=\"center\" class=\"dosechart-amount\">30 mg</td>\\n<td align=\"center\" class=\"dosechart-method\">oral</td>\\n<td class=\"dosechart-substance\"><a href=\"/chemicals/2ct7/\">2C-T-7</a></td>\\n<td class=\"dosechart-form\">(capsule)</td>\\n</tr>\\n<tr>\\n<td align=\"right\" class=\"dosechart-time\">\\xa0 T+ 3:00</td>\\n<td align=\"center\" class=\"dosechart-amount\">5.0 mg</td>\\n<td align=\"center\" class=\"dosechart-method\">oral</td>\\n<td class=\"dosechart-substance\"><a href=\"/chemicals/2ct7/\">2C-T-7</a></td>\\n<td class=\"dosechart-form\">\\xa0</td>\\n</tr>\\n<tr>\\n<td align=\"right\" class=\"dosechart-time\">\\xa0 T+ 0:59</td>\\n<td align=\"center\" class=\"dosechart-amount\">1 hit</td>\\n<td align=\"center\" class=\"dosechart-method\">smoked</td>\\n<td class=\"dosechart-substance\"><a href=\"/chemicals/dmt/\">DMT</a></td>\\n<td class=\"dosechart-form\">(powder / crystals)</td>\\n</tr>\\n</table>', 'bodyweight': '<table class=\"bodyweight\">\\n<tr>\\n<td class=\"bodyweight-title\">BODY WEIGHT:</td>\\n<td class=\"bodyweight-amount\">162 lb</td>\\n</tr>\\n</table>', 'footdata': '<table class=\"footdata\">\\n<tr><td class=\"footdata-expyear\">Exp Year: 2000</td><td class=\"footdata-expid\">ExpID: 2205</td></tr>\\n<tr><td class=\"footdata-gender\">Gender: Male</td><td>\\xa0</td></tr>\\n<tr><td class=\"footdata-ageofexp\" colspan=\"2\">Age at time of experience: Not Given</td></tr>\\n<tr><td class=\"footdata-pubdate\">Published: Jun 27, 2000</td><td class=\"footdata-numviews\">Views: 29,778</td></tr>\\n<tr><td class=\"footdata-other-formats\" colspan=\"2\">[ <a href=\"exp.php?ID=2205&amp;format=pdf\" type=\"text/pdf\">View PDF (to print)</a> ] [ <a href=\"exp_pdf.php?ID=2205&amp;format=latex\">View LaTeX (for geeks)</a> ]\\n[\\xa0<a href=\"#\" onclick=\"expChangeColors(); return false;\">Swap\\xa0Dark/Light</a>\\xa0]\\n</td></tr>\\n<tr><td class=\"footdata-topic-list\" colspan=\"2\">DMT\\xa0(18), 2C-T-7\\xa0(54) : Small Group (2-9)\\xa0(17), Combinations\\xa0(3)</td></tr>\\n<!--  <img src=\"/images/new.gif\" alt=\"May\"> -->\\n</table>'}\n",
            "{'link': 'https://www.erowid.org/experiences/exp.php?ID=1851', 'substance': 'DMT', 'dosechart': '<table class=\"dosechart\">\\n<tr>\\n<td align=\"right\" class=\"dosechart-time\">DOSE:<br/></td>\\n<td align=\"center\" class=\"dosechart-amount\">50 mg</td>\\n<td align=\"center\" class=\"dosechart-method\">smoked</td>\\n<td class=\"dosechart-substance\"><a href=\"/chemicals/dmt/\">DMT</a></td>\\n<td class=\"dosechart-form\">(powder / crystals)</td>\\n</tr>\\n</table>', 'bodyweight': None, 'footdata': '<table class=\"footdata\">\\n<tr><td class=\"footdata-expyear\">Exp Year: 1998</td><td class=\"footdata-expid\">ExpID: 1851</td></tr>\\n<tr><td class=\"footdata-gender\">Gender: Male</td><td>\\xa0</td></tr>\\n<tr><td class=\"footdata-ageofexp\" colspan=\"2\">Age at time of experience: Not Given</td></tr>\\n<tr><td class=\"footdata-pubdate\">Published: Jun 15, 2000</td><td class=\"footdata-numviews\">Views: 63,571</td></tr>\\n<tr><td class=\"footdata-other-formats\" colspan=\"2\">[ <a href=\"exp.php?ID=1851&amp;format=pdf\" type=\"text/pdf\">View PDF (to print)</a> ] [ <a href=\"exp_pdf.php?ID=1851&amp;format=latex\">View LaTeX (for geeks)</a> ]\\n[\\xa0<a href=\"#\" onclick=\"expChangeColors(); return false;\">Swap\\xa0Dark/Light</a>\\xa0]\\n</td></tr>\\n<tr><td class=\"footdata-topic-list\" colspan=\"2\">DMT\\xa0(18) : Small Group (2-9)\\xa0(17), Mystical Experiences\\xa0(9), Glowing Experiences\\xa0(4)</td></tr>\\n<!--  <img src=\"/images/new.gif\" alt=\"May\"> -->\\n</table>'}\n",
            "{'link': 'https://www.erowid.org/experiences/exp.php?ID=1841', 'substance': 'DMT', 'dosechart': '<table class=\"dosechart\">\\n<tr>\\n<td align=\"right\" class=\"dosechart-time\">DOSE:<br/></td>\\n<td align=\"center\" class=\"dosechart-amount\">\\xa0 </td>\\n<td align=\"center\" class=\"dosechart-method\">smoked</td>\\n<td class=\"dosechart-substance\"><a href=\"/chemicals/dmt/\">DMT</a></td>\\n<td class=\"dosechart-form\">(freebase)</td>\\n</tr>\\n</table>', 'bodyweight': None, 'footdata': '<table class=\"footdata\">\\n<tr><td class=\"footdata-expyear\">Exp Year: 1995</td><td class=\"footdata-expid\">ExpID: 1841</td></tr>\\n<tr><td class=\"footdata-gender\">Gender: Male</td><td>\\xa0</td></tr>\\n<tr><td class=\"footdata-ageofexp\" colspan=\"2\">Age at time of experience: Not Given</td></tr>\\n<tr><td class=\"footdata-pubdate\">Published: Jun 14, 2000</td><td class=\"footdata-numviews\">Views: 140,317</td></tr>\\n<tr><td class=\"footdata-other-formats\" colspan=\"2\">[ <a href=\"exp.php?ID=1841&amp;format=pdf\" type=\"text/pdf\">View PDF (to print)</a> ] [ <a href=\"exp_pdf.php?ID=1841&amp;format=latex\">View LaTeX (for geeks)</a> ]\\n[\\xa0<a href=\"#\" onclick=\"expChangeColors(); return false;\">Swap\\xa0Dark/Light</a>\\xa0]\\n</td></tr>\\n<tr><td class=\"footdata-topic-list\" colspan=\"2\">DMT\\xa0(18) : Small Group (2-9)\\xa0(17), Entities / Beings\\xa0(37), First Times\\xa0(2), General\\xa0(1)</td></tr>\\n<!--  <img src=\"/images/new.gif\" alt=\"May\"> -->\\n</table>'}\n",
            "{'link': 'https://www.erowid.org/experiences/exp.php?ID=1839', 'substance': 'DMT', 'dosechart': '<table class=\"dosechart\">\\n<tr>\\n<td align=\"right\" class=\"dosechart-time\">DOSE:<br/></td>\\n<td align=\"center\" class=\"dosechart-amount\">\\xa0 </td>\\n<td align=\"center\" class=\"dosechart-method\">smoked</td>\\n<td class=\"dosechart-substance\"><a href=\"/chemicals/dmt/\">DMT</a></td>\\n<td class=\"dosechart-form\">(freebase)</td>\\n</tr>\\n</table>', 'bodyweight': None, 'footdata': '<table class=\"footdata\">\\n<tr><td class=\"footdata-expyear\">Exp Year: 1998</td><td class=\"footdata-expid\">ExpID: 1839</td></tr>\\n<tr><td class=\"footdata-gender\">Gender: Male</td><td>\\xa0</td></tr>\\n<tr><td class=\"footdata-ageofexp\" colspan=\"2\">Age at time of experience: Not Given</td></tr>\\n<tr><td class=\"footdata-pubdate\">Published: Jun 14, 2000</td><td class=\"footdata-numviews\">Views: 182,274</td></tr>\\n<tr><td class=\"footdata-other-formats\" colspan=\"2\">[ <a href=\"exp.php?ID=1839&amp;format=pdf\" type=\"text/pdf\">View PDF (to print)</a> ] [ <a href=\"exp_pdf.php?ID=1839&amp;format=latex\">View LaTeX (for geeks)</a> ]\\n[\\xa0<a href=\"#\" onclick=\"expChangeColors(); return false;\">Swap\\xa0Dark/Light</a>\\xa0]\\n</td></tr>\\n<tr><td class=\"footdata-topic-list\" colspan=\"2\">DMT\\xa0(18) : Small Group (2-9)\\xa0(17), Difficult Experiences\\xa0(5), General\\xa0(1)</td></tr>\\n<!--  <img src=\"/images/new.gif\" alt=\"May\"> -->\\n</table>'}\n",
            "{'link': 'https://www.erowid.org/experiences/exp.php?ID=118625', 'substance': 'DMT & Cannabis', 'dosechart': '<table class=\"dosechart\">\\n<tr>\\n<td align=\"right\" class=\"dosechart-time\">DOSE:<br/></td>\\n<td align=\"center\" class=\"dosechart-amount\">3 hits</td>\\n<td align=\"center\" class=\"dosechart-method\">smoked</td>\\n<td class=\"dosechart-substance\"><a href=\"/chemicals/dmt/\">DMT</a></td>\\n<td class=\"dosechart-form\">(powder / crystals)</td>\\n</tr>\\n<tr>\\n<td align=\"right\" class=\"dosechart-time\">\\xa0</td>\\n<td align=\"center\" class=\"dosechart-amount\">3 hits</td>\\n<td align=\"center\" class=\"dosechart-method\">smoked</td>\\n<td class=\"dosechart-substance\"><a href=\"/plants/cannabis/\">Cannabis</a></td>\\n<td class=\"dosechart-form\">(flowers)</td>\\n</tr>\\n</table>', 'bodyweight': '<table class=\"bodyweight\">\\n<tr>\\n<td class=\"bodyweight-title\">BODY WEIGHT:</td>\\n<td class=\"bodyweight-amount\">160 lb</td>\\n</tr>\\n</table>', 'footdata': '<table class=\"footdata\">\\n<tr><td class=\"footdata-expyear\">Exp Year: 2009</td><td class=\"footdata-expid\">ExpID: 118625</td></tr>\\n<tr><td class=\"footdata-gender\">Gender: Male</td><td>\\xa0</td></tr>\\n<tr><td class=\"footdata-ageofexp\" colspan=\"2\">Age at time of experience: 19</td></tr>\\n<tr><td class=\"footdata-pubdate\">Published: Apr 18, 2025</td><td class=\"footdata-numviews\">Views: 15</td></tr>\\n<tr><td class=\"footdata-other-formats\" colspan=\"2\">[ <a href=\"exp.php?ID=118625&amp;format=pdf\" type=\"text/pdf\">View PDF (to print)</a> ] [ <a href=\"exp_pdf.php?ID=118625&amp;format=latex\">View LaTeX (for geeks)</a> ]\\n[\\xa0<a href=\"#\" onclick=\"expChangeColors(); return false;\">Swap\\xa0Dark/Light</a>\\xa0]\\n</td></tr>\\n<tr><td class=\"footdata-topic-list\" colspan=\"2\">Cannabis\\xa0(1), DMT\\xa0(18) : Small Group (2-9)\\xa0(17), Personal Preparation\\xa0(45), Guides / Sitters\\xa0(39), Entities / Beings\\xa0(37), Mystical Experiences\\xa0(9), Glowing Experiences\\xa0(4), First Times\\xa0(2)</td></tr>\\n<!--  <img src=\"/images/new.gif\" alt=\"May\"> -->\\n</table>'}\n",
            "{'link': 'https://www.erowid.org/experiences/exp.php?ID=117294', 'substance': 'DMT', 'dosechart': '<table class=\"dosechart\">\\n<tr>\\n<td align=\"right\" class=\"dosechart-time\">DOSE:<br/></td>\\n<td align=\"center\" class=\"dosechart-amount\">\\xa0 </td>\\n<td align=\"center\" class=\"dosechart-method\">smoked</td>\\n<td class=\"dosechart-substance\"><a href=\"/chemicals/dmt/\">DMT</a></td>\\n<td class=\"dosechart-form\">(powder / crystals)</td>\\n</tr>\\n</table>', 'bodyweight': '<table class=\"bodyweight\">\\n<tr>\\n<td class=\"bodyweight-title\">BODY WEIGHT:</td>\\n<td class=\"bodyweight-amount\">80 lb</td>\\n</tr>\\n</table>', 'footdata': '<table class=\"footdata\">\\n<tr><td class=\"footdata-expyear\">Exp Year: 2023</td><td class=\"footdata-expid\">ExpID: 117294</td></tr>\\n<tr><td class=\"footdata-gender\">Gender: Male</td><td>\\xa0</td></tr>\\n<tr><td class=\"footdata-ageofexp\" colspan=\"2\">Age at time of experience: Not Given</td></tr>\\n<tr><td class=\"footdata-pubdate\">Published: Jan 4, 2025</td><td class=\"footdata-numviews\">Views: 15</td></tr>\\n<tr><td class=\"footdata-other-formats\" colspan=\"2\">[ <a href=\"exp.php?ID=117294&amp;format=pdf\" type=\"text/pdf\">View PDF (to print)</a> ] [ <a href=\"exp_pdf.php?ID=117294&amp;format=latex\">View LaTeX (for geeks)</a> ]\\n[\\xa0<a href=\"#\" onclick=\"expChangeColors(); return false;\">Swap\\xa0Dark/Light</a>\\xa0]\\n</td></tr>\\n<tr><td class=\"footdata-topic-list\" colspan=\"2\">DMT\\xa0(18) : Alone\\xa0(16), Entities / Beings\\xa0(37), Glowing Experiences\\xa0(4), Retrospective / Summary\\xa0(11)</td></tr>\\n<!--  <img src=\"/images/new.gif\" alt=\"May\"> -->\\n</table>'}\n",
            "{'link': 'https://www.erowid.org/experiences/exp.php?ID=117473', 'substance': 'DMT', 'dosechart': '<table class=\"dosechart\">\\n<tr>\\n<td align=\"right\" class=\"dosechart-time\">DOSE:<br/></td>\\n<td align=\"center\" class=\"dosechart-amount\">11 mg</td>\\n<td align=\"center\" class=\"dosechart-method\">vaporized</td>\\n<td class=\"dosechart-substance\"><a href=\"/chemicals/dmt/\">DMT</a></td>\\n</tr>\\n<tr>\\n<td align=\"right\" class=\"dosechart-time\">\\xa0</td>\\n<td align=\"center\" class=\"dosechart-amount\">17 mg</td>\\n<td align=\"center\" class=\"dosechart-method\">vaporized</td>\\n<td class=\"dosechart-substance\"><a href=\"/chemicals/dmt/\">DMT</a></td>\\n</tr>\\n<tr>\\n<td align=\"right\" class=\"dosechart-time\">\\xa0</td>\\n<td align=\"center\" class=\"dosechart-amount\">22 mg</td>\\n<td align=\"center\" class=\"dosechart-method\">vaporized</td>\\n<td class=\"dosechart-substance\"><a href=\"/chemicals/dmt/\">DMT</a></td>\\n</tr>\\n</table>', 'bodyweight': '<table class=\"bodyweight\">\\n<tr>\\n<td class=\"bodyweight-title\">BODY WEIGHT:</td>\\n<td class=\"bodyweight-amount\">130 lb</td>\\n</tr>\\n</table>', 'footdata': '<table class=\"footdata\">\\n<tr><td class=\"footdata-expyear\">Exp Year: 2023</td><td class=\"footdata-expid\">ExpID: 117473</td></tr>\\n<tr><td class=\"footdata-gender\">Gender: Female</td><td>\\xa0</td></tr>\\n<tr><td class=\"footdata-ageofexp\" colspan=\"2\">Age at time of experience: 55</td></tr>\\n<tr><td class=\"footdata-pubdate\">Published: Nov 6, 2024</td><td class=\"footdata-numviews\">Views: 16</td></tr>\\n<tr><td class=\"footdata-other-formats\" colspan=\"2\">[ <a href=\"exp.php?ID=117473&amp;format=pdf\" type=\"text/pdf\">View PDF (to print)</a> ] [ <a href=\"exp_pdf.php?ID=117473&amp;format=latex\">View LaTeX (for geeks)</a> ]\\n[\\xa0<a href=\"#\" onclick=\"expChangeColors(); return false;\">Swap\\xa0Dark/Light</a>\\xa0]\\n</td></tr>\\n<tr><td class=\"footdata-topic-list\" colspan=\"2\">DMT\\xa0(18) : Small Group (2-9)\\xa0(17), Entities / Beings\\xa0(37), General\\xa0(1)</td></tr>\\n<!--  <img src=\"/images/new.gif\" alt=\"May\"> -->\\n</table>'}\n",
            "{'link': 'https://www.erowid.org/experiences/exp.php?ID=102105', 'substance': 'DMT', 'dosechart': '<table class=\"dosechart\">\\n<tr>\\n<td align=\"right\" class=\"dosechart-time\">DOSE:<br/></td>\\n<td align=\"center\" class=\"dosechart-amount\">1 hit</td>\\n<td align=\"center\" class=\"dosechart-method\">smoked</td>\\n<td class=\"dosechart-substance\"><a href=\"/chemicals/dmt/\">DMT</a></td>\\n</tr>\\n</table>', 'bodyweight': '<table class=\"bodyweight\">\\n<tr>\\n<td class=\"bodyweight-title\">BODY WEIGHT:</td>\\n<td class=\"bodyweight-amount\">250 lb</td>\\n</tr>\\n</table>', 'footdata': '<table class=\"footdata\">\\n<tr><td class=\"footdata-expyear\">Exp Year: 2012</td><td class=\"footdata-expid\">ExpID: 102105</td></tr>\\n<tr><td class=\"footdata-gender\">Gender: Male</td><td>\\xa0</td></tr>\\n<tr><td class=\"footdata-ageofexp\" colspan=\"2\">Age at time of experience: Not Given</td></tr>\\n<tr><td class=\"footdata-pubdate\">Published: Jun 14, 2021</td><td class=\"footdata-numviews\">Views: 8,238</td></tr>\\n<tr><td class=\"footdata-other-formats\" colspan=\"2\">[ <a href=\"exp.php?ID=102105&amp;format=pdf\" type=\"text/pdf\">View PDF (to print)</a> ] [ <a href=\"exp_pdf.php?ID=102105&amp;format=latex\">View LaTeX (for geeks)</a> ]\\n[\\xa0<a href=\"#\" onclick=\"expChangeColors(); return false;\">Swap\\xa0Dark/Light</a>\\xa0]\\n</td></tr>\\n<tr><td class=\"footdata-topic-list\" colspan=\"2\">DMT\\xa0(18) : First Times\\xa0(2), Entities / Beings\\xa0(37), Small Group (2-9)\\xa0(17)</td></tr>\\n<!--  <img src=\"/images/new.gif\" alt=\"May\"> -->\\n</table>'}\n",
            "{'link': 'https://www.erowid.org/experiences/exp.php?ID=115502', 'substance': 'DMT', 'dosechart': '<table class=\"dosechart\">\\n<tr>\\n<td align=\"right\" class=\"dosechart-time\">DOSE:<br/></td>\\n<td align=\"center\" class=\"dosechart-amount\">2 hits</td>\\n<td align=\"center\" class=\"dosechart-method\">smoked</td>\\n<td class=\"dosechart-substance\"><a href=\"/chemicals/dmt/\">DMT</a></td>\\n<td class=\"dosechart-form\">(freebase)</td>\\n</tr>\\n</table>', 'bodyweight': '<table class=\"bodyweight\">\\n<tr>\\n<td class=\"bodyweight-title\">BODY WEIGHT:</td>\\n<td class=\"bodyweight-amount\">150 lb</td>\\n</tr>\\n</table>', 'footdata': '<table class=\"footdata\">\\n<tr><td class=\"footdata-expyear\">Exp Year: 2021</td><td class=\"footdata-expid\">ExpID: 115502</td></tr>\\n<tr><td class=\"footdata-gender\">Gender: Female</td><td>\\xa0</td></tr>\\n<tr><td class=\"footdata-ageofexp\" colspan=\"2\">Age at time of experience: 41</td></tr>\\n<tr><td class=\"footdata-pubdate\">Published: Jun 14, 2021</td><td class=\"footdata-numviews\">Views: 4,350</td></tr>\\n<tr><td class=\"footdata-other-formats\" colspan=\"2\">[ <a href=\"exp.php?ID=115502&amp;format=pdf\" type=\"text/pdf\">View PDF (to print)</a> ] [ <a href=\"exp_pdf.php?ID=115502&amp;format=latex\">View LaTeX (for geeks)</a> ]\\n[\\xa0<a href=\"#\" onclick=\"expChangeColors(); return false;\">Swap\\xa0Dark/Light</a>\\xa0]\\n</td></tr>\\n<tr><td class=\"footdata-topic-list\" colspan=\"2\">DMT\\xa0(18) : General\\xa0(1), Entities / Beings\\xa0(37), First Times\\xa0(2), Alone\\xa0(16)</td></tr>\\n<!--  <img src=\"/images/new.gif\" alt=\"May\"> -->\\n</table>'}\n",
            "{'link': 'https://www.erowid.org/experiences/exp.php?ID=114947', 'substance': 'DMT, MET, MPT, MiPT, EPT, DPT, 5-MeO-MiPT & 5-MeO-EiPT', 'dosechart': '<table class=\"dosechart\">\\n<tr>\\n<td align=\"right\" class=\"dosechart-time\">DOSE:<br/></td>\\n<td align=\"center\" class=\"dosechart-amount\">10 mg</td>\\n<td align=\"center\" class=\"dosechart-method\">smoked</td>\\n<td class=\"dosechart-substance\"><a href=\"/chemicals/met/\">MET</a></td>\\n<td class=\"dosechart-form\">(powder / crystals)</td>\\n</tr>\\n<tr>\\n<td align=\"right\" class=\"dosechart-time\">\\xa0</td>\\n<td align=\"center\" class=\"dosechart-amount\">15 mg</td>\\n<td align=\"center\" class=\"dosechart-method\">smoked</td>\\n<td class=\"dosechart-substance\"><a href=\"/chemicals/mipt/\">MIPT</a></td>\\n<td class=\"dosechart-form\">(powder / crystals)</td>\\n</tr>\\n<tr>\\n<td align=\"right\" class=\"dosechart-time\">\\xa0</td>\\n<td align=\"center\" class=\"dosechart-amount\">10 mg</td>\\n<td align=\"center\" class=\"dosechart-method\">smoked</td>\\n<td class=\"dosechart-substance\">MPT</td>\\n<td class=\"dosechart-form\">(powder / crystals)</td>\\n</tr>\\n<tr>\\n<td align=\"right\" class=\"dosechart-time\">\\xa0</td>\\n<td align=\"center\" class=\"dosechart-amount\">45 mg</td>\\n<td align=\"center\" class=\"dosechart-method\">\\xa0</td>\\n<td class=\"dosechart-substance\"><a href=\"/chemicals/tma2/\">TMA-2</a></td>\\n<td class=\"dosechart-form\">\\xa0</td>\\n</tr>\\n<tr>\\n<td align=\"right\" class=\"dosechart-time\">\\xa0</td>\\n<td align=\"center\" class=\"dosechart-amount\">20 mg</td>\\n<td align=\"center\" class=\"dosechart-method\">smoked</td>\\n<td class=\"dosechart-substance\"><a href=\"/chemicals/met/\">MET</a></td>\\n<td class=\"dosechart-form\">(powder / crystals)</td>\\n</tr>\\n<tr>\\n<td align=\"right\" class=\"dosechart-time\">\\xa0</td>\\n<td align=\"center\" class=\"dosechart-amount\">20 mg</td>\\n<td align=\"center\" class=\"dosechart-method\">smoked</td>\\n<td class=\"dosechart-substance\">MPT</td>\\n<td class=\"dosechart-form\">(powder / crystals)</td>\\n</tr>\\n<tr>\\n<td align=\"right\" class=\"dosechart-time\">\\xa0</td>\\n<td align=\"center\" class=\"dosechart-amount\">20 mg</td>\\n<td align=\"center\" class=\"dosechart-method\">smoked</td>\\n<td class=\"dosechart-substance\">MPT</td>\\n<td class=\"dosechart-form\">(powder / crystals)</td>\\n</tr>\\n<tr>\\n<td align=\"right\" class=\"dosechart-time\">\\xa0</td>\\n<td align=\"center\" class=\"dosechart-amount\">30 mg</td>\\n<td align=\"center\" class=\"dosechart-method\">smoked</td>\\n<td class=\"dosechart-substance\"><a href=\"/chemicals/dpt/\">DPT</a></td>\\n<td class=\"dosechart-form\">(powder / crystals)</td>\\n</tr>\\n<tr>\\n<td align=\"right\" class=\"dosechart-time\">\\xa0</td>\\n<td align=\"center\" class=\"dosechart-amount\">10 mg</td>\\n<td align=\"center\" class=\"dosechart-method\">smoked</td>\\n<td class=\"dosechart-substance\">5-MeO-EIPT</td>\\n<td class=\"dosechart-form\">(powder / crystals)</td>\\n</tr>\\n<tr>\\n<td align=\"right\" class=\"dosechart-time\">\\xa0</td>\\n<td align=\"center\" class=\"dosechart-amount\">5 mg</td>\\n<td align=\"center\" class=\"dosechart-method\">smoked</td>\\n<td class=\"dosechart-substance\"><a href=\"/chemicals/5meo_mipt/\">5-MeO-MIPT</a></td>\\n<td class=\"dosechart-form\">(powder / crystals)</td>\\n</tr>\\n<tr>\\n<td align=\"right\" class=\"dosechart-time\">\\xa0</td>\\n<td align=\"center\" class=\"dosechart-amount\">30 mg</td>\\n<td align=\"center\" class=\"dosechart-method\">smoked</td>\\n<td class=\"dosechart-substance\"><a href=\"/chemicals/met/\">MET</a></td>\\n<td class=\"dosechart-form\">(powder / crystals)</td>\\n</tr>\\n<tr>\\n<td align=\"right\" class=\"dosechart-time\">\\xa0</td>\\n<td align=\"center\" class=\"dosechart-amount\">30 mg</td>\\n<td align=\"center\" class=\"dosechart-method\">smoked</td>\\n<td class=\"dosechart-substance\"><a href=\"/\">EPT</a></td>\\n<td class=\"dosechart-form\">(powder / crystals)</td>\\n</tr>\\n<tr>\\n<td align=\"right\" class=\"dosechart-time\">\\xa0</td>\\n<td align=\"center\" class=\"dosechart-amount\">10 mg</td>\\n<td align=\"center\" class=\"dosechart-method\">smoked</td>\\n<td class=\"dosechart-substance\"><a href=\"/chemicals/5meo_mipt/\">5-MeO-MIPT</a></td>\\n<td class=\"dosechart-form\">(powder / crystals)</td>\\n</tr>\\n<tr>\\n<td align=\"right\" class=\"dosechart-time\">\\xa0</td>\\n<td align=\"center\" class=\"dosechart-amount\">15 mg</td>\\n<td align=\"center\" class=\"dosechart-method\">smoked</td>\\n<td class=\"dosechart-substance\">5-MeO-EIPT</td>\\n<td class=\"dosechart-form\">(powder / crystals)</td>\\n</tr>\\n</table>', 'bodyweight': None, 'footdata': '<table class=\"footdata\">\\n<tr><td class=\"footdata-expyear\">Exp Year: 2020</td><td class=\"footdata-expid\">ExpID: 114947</td></tr>\\n<tr><td class=\"footdata-gender\">Gender: Female</td><td>\\xa0</td></tr>\\n<tr><td class=\"footdata-ageofexp\" colspan=\"2\">Age at time of experience: 29</td></tr>\\n<tr><td class=\"footdata-pubdate\">Published: Nov 21, 2020</td><td class=\"footdata-numviews\">Views: 5,940</td></tr>\\n<tr><td class=\"footdata-other-formats\" colspan=\"2\">[ <a href=\"exp.php?ID=114947&amp;format=pdf\" type=\"text/pdf\">View PDF (to print)</a> ] [ <a href=\"exp_pdf.php?ID=114947&amp;format=latex\">View LaTeX (for geeks)</a> ]\\n[\\xa0<a href=\"#\" onclick=\"expChangeColors(); return false;\">Swap\\xa0Dark/Light</a>\\xa0]\\n</td></tr>\\n<tr><td class=\"footdata-topic-list\" colspan=\"2\">5-MeO-EIPT\\xa0(727), 5-MeO-MIPT\\xa0(287), DPT\\xa0(21), EPT\\xa0(776), MIPT\\xa0(251), MPT\\xa0(804), MET\\xa0(381), DMT\\xa0(18) : General\\xa0(1), First Times\\xa0(2), Combinations\\xa0(3), Retrospective / Summary\\xa0(11), Not Applicable\\xa0(38)</td></tr>\\n<!--  <img src=\"/images/new.gif\" alt=\"May\"> -->\\n</table>'}\n",
            "{'link': 'https://www.erowid.org/experiences/exp.php?ID=100673', 'substance': 'DMT & Cannabis', 'dosechart': '<table class=\"dosechart\">\\n<tr>\\n<td align=\"right\" class=\"dosechart-time\">DOSE:<br/></td>\\n<td align=\"center\" class=\"dosechart-amount\">1 bowl</td>\\n<td align=\"center\" class=\"dosechart-method\">smoked</td>\\n<td class=\"dosechart-substance\"><a href=\"/plants/cannabis/\">Cannabis</a></td>\\n<td class=\"dosechart-form\">\\xa0</td>\\n</tr>\\n<tr>\\n<td align=\"right\" class=\"dosechart-time\">\\xa0</td>\\n<td align=\"center\" class=\"dosechart-amount\">\\xa0 </td>\\n<td align=\"center\" class=\"dosechart-method\">smoked</td>\\n<td class=\"dosechart-substance\"><a href=\"/chemicals/dmt/\">DMT</a></td>\\n<td class=\"dosechart-form\">(powder / crystals)</td>\\n</tr>\\n</table>', 'bodyweight': '<table class=\"bodyweight\">\\n<tr>\\n<td class=\"bodyweight-title\">BODY WEIGHT:</td>\\n<td class=\"bodyweight-amount\">155 lb</td>\\n</tr>\\n</table>', 'footdata': '<table class=\"footdata\">\\n<tr><td class=\"footdata-expyear\">Exp Year: 2013</td><td class=\"footdata-expid\">ExpID: 100673</td></tr>\\n<tr><td class=\"footdata-gender\">Gender: Male</td><td>\\xa0</td></tr>\\n<tr><td class=\"footdata-ageofexp\" colspan=\"2\">Age at time of experience: 20</td></tr>\\n<tr><td class=\"footdata-pubdate\">Published: Nov 9, 2020</td><td class=\"footdata-numviews\">Views: 2,526</td></tr>\\n<tr><td class=\"footdata-other-formats\" colspan=\"2\">[ <a href=\"exp.php?ID=100673&amp;format=pdf\" type=\"text/pdf\">View PDF (to print)</a> ] [ <a href=\"exp_pdf.php?ID=100673&amp;format=latex\">View LaTeX (for geeks)</a> ]\\n[\\xa0<a href=\"#\" onclick=\"expChangeColors(); return false;\">Swap\\xa0Dark/Light</a>\\xa0]\\n</td></tr>\\n<tr><td class=\"footdata-topic-list\" colspan=\"2\">DMT\\xa0(18) : Combinations\\xa0(3), Entities / Beings\\xa0(37), Glowing Experiences\\xa0(4), Small Group (2-9)\\xa0(17)</td></tr>\\n<!--  <img src=\"/images/new.gif\" alt=\"May\"> -->\\n</table>'}\n",
            "{'link': 'https://www.erowid.org/experiences/exp.php?ID=99247', 'substance': 'DMT', 'dosechart': '<table class=\"dosechart\">\\n<tr>\\n<td align=\"right\" class=\"dosechart-time\">DOSE:<br/></td>\\n<td align=\"center\" class=\"dosechart-amount\">2 hits</td>\\n<td align=\"center\" class=\"dosechart-method\">vaporized</td>\\n<td class=\"dosechart-substance\"><a href=\"/chemicals/dmt/\">DMT</a></td>\\n</tr>\\n</table>', 'bodyweight': '<table class=\"bodyweight\">\\n<tr>\\n<td class=\"bodyweight-title\">BODY WEIGHT:</td>\\n<td class=\"bodyweight-amount\">185 lb</td>\\n</tr>\\n</table>', 'footdata': '<table class=\"footdata\">\\n<tr><td class=\"footdata-expyear\">Exp Year: 2011</td><td class=\"footdata-expid\">ExpID: 99247</td></tr>\\n<tr><td class=\"footdata-gender\">Gender: Male</td><td>\\xa0</td></tr>\\n<tr><td class=\"footdata-ageofexp\" colspan=\"2\">Age at time of experience: 19</td></tr>\\n<tr><td class=\"footdata-pubdate\">Published: Oct 14, 2020</td><td class=\"footdata-numviews\">Views: 3,281</td></tr>\\n<tr><td class=\"footdata-other-formats\" colspan=\"2\">[ <a href=\"exp.php?ID=99247&amp;format=pdf\" type=\"text/pdf\">View PDF (to print)</a> ] [ <a href=\"exp_pdf.php?ID=99247&amp;format=latex\">View LaTeX (for geeks)</a> ]\\n[\\xa0<a href=\"#\" onclick=\"expChangeColors(); return false;\">Swap\\xa0Dark/Light</a>\\xa0]\\n</td></tr>\\n<tr><td class=\"footdata-topic-list\" colspan=\"2\">DMT\\xa0(18) : General\\xa0(1), Mystical Experiences\\xa0(9), Nature / Outdoors\\xa0(23), Entities / Beings\\xa0(37), Glowing Experiences\\xa0(4), Small Group (2-9)\\xa0(17)</td></tr>\\n<!--  <img src=\"/images/new.gif\" alt=\"May\"> -->\\n</table>'}\n",
            "{'link': 'https://www.erowid.org/experiences/exp.php?ID=106448', 'substance': 'DMT', 'dosechart': '<table class=\"dosechart\">\\n<tr>\\n<td align=\"right\" class=\"dosechart-time\">DOSE:<br/></td>\\n<td align=\"center\" class=\"dosechart-amount\">2 hits</td>\\n<td align=\"center\" class=\"dosechart-method\">smoked</td>\\n<td class=\"dosechart-substance\"><a href=\"/chemicals/dmt/\">DMT</a></td>\\n</tr>\\n</table>', 'bodyweight': '<table class=\"bodyweight\">\\n<tr>\\n<td class=\"bodyweight-title\">BODY WEIGHT:</td>\\n<td class=\"bodyweight-amount\">110 lb</td>\\n</tr>\\n</table>', 'footdata': '<table class=\"footdata\">\\n<tr><td class=\"footdata-expyear\">Exp Year: 2015</td><td class=\"footdata-expid\">ExpID: 106448</td></tr>\\n<tr><td class=\"footdata-gender\">Gender: Female</td><td>\\xa0</td></tr>\\n<tr><td class=\"footdata-ageofexp\" colspan=\"2\">Age at time of experience: 26</td></tr>\\n<tr><td class=\"footdata-pubdate\">Published: Jul 24, 2020</td><td class=\"footdata-numviews\">Views: 8,387</td></tr>\\n<tr><td class=\"footdata-other-formats\" colspan=\"2\">[ <a href=\"exp.php?ID=106448&amp;format=pdf\" type=\"text/pdf\">View PDF (to print)</a> ] [ <a href=\"exp_pdf.php?ID=106448&amp;format=latex\">View LaTeX (for geeks)</a> ]\\n[\\xa0<a href=\"#\" onclick=\"expChangeColors(); return false;\">Swap\\xa0Dark/Light</a>\\xa0]\\n</td></tr>\\n<tr><td class=\"footdata-topic-list\" colspan=\"2\">DMT\\xa0(18) : Glowing Experiences\\xa0(4), Entities / Beings\\xa0(37), First Times\\xa0(2), Small Group (2-9)\\xa0(17)</td></tr>\\n<!--  <img src=\"/images/new.gif\" alt=\"May\"> -->\\n</table>'}\n",
            "{'link': 'https://www.erowid.org/experiences/exp.php?ID=106105', 'substance': 'DMT', 'dosechart': '<table class=\"dosechart\">\\n<tr>\\n<td align=\"right\" class=\"dosechart-time\">DOSE:<br/></td>\\n<td align=\"center\" class=\"dosechart-amount\">25 - 30 mg</td>\\n<td align=\"center\" class=\"dosechart-method\">vaporized</td>\\n<td class=\"dosechart-substance\"><a href=\"/chemicals/dmt/\">DMT</a></td>\\n<td class=\"dosechart-form\">(powder / crystals)</td>\\n</tr>\\n</table>', 'bodyweight': '<table class=\"bodyweight\">\\n<tr>\\n<td class=\"bodyweight-title\">BODY WEIGHT:</td>\\n<td class=\"bodyweight-amount\">205 lb</td>\\n</tr>\\n</table>', 'footdata': '<table class=\"footdata\">\\n<tr><td class=\"footdata-expyear\">Exp Year: 2015</td><td class=\"footdata-expid\">ExpID: 106105</td></tr>\\n<tr><td class=\"footdata-gender\">Gender: Male</td><td>\\xa0</td></tr>\\n<tr><td class=\"footdata-ageofexp\" colspan=\"2\">Age at time of experience: 26</td></tr>\\n<tr><td class=\"footdata-pubdate\">Published: Jun 4, 2020</td><td class=\"footdata-numviews\">Views: 4,390</td></tr>\\n<tr><td class=\"footdata-other-formats\" colspan=\"2\">[ <a href=\"exp.php?ID=106105&amp;format=pdf\" type=\"text/pdf\">View PDF (to print)</a> ] [ <a href=\"exp_pdf.php?ID=106105&amp;format=latex\">View LaTeX (for geeks)</a> ]\\n[\\xa0<a href=\"#\" onclick=\"expChangeColors(); return false;\">Swap\\xa0Dark/Light</a>\\xa0]\\n</td></tr>\\n<tr><td class=\"footdata-topic-list\" colspan=\"2\">DMT\\xa0(18) : Glowing Experiences\\xa0(4), Personal Preparation\\xa0(45), First Times\\xa0(2), Alone\\xa0(16)</td></tr>\\n<!--  <img src=\"/images/new.gif\" alt=\"May\"> -->\\n</table>'}\n",
            "{'link': 'https://www.erowid.org/experiences/exp.php?ID=108109', 'substance': 'DMT', 'dosechart': '<table class=\"dosechart\">\\n<tr>\\n<td align=\"right\" class=\"dosechart-time\">DOSE:<br/></td>\\n<td align=\"center\" class=\"dosechart-amount\">1 hit</td>\\n<td align=\"center\" class=\"dosechart-method\">smoked</td>\\n<td class=\"dosechart-substance\"><a href=\"/chemicals/dmt/\">DMT</a></td>\\n</tr>\\n</table>', 'bodyweight': '<table class=\"bodyweight\">\\n<tr>\\n<td class=\"bodyweight-title\">BODY WEIGHT:</td>\\n<td class=\"bodyweight-amount\">100 kg</td>\\n</tr>\\n</table>', 'footdata': '<table class=\"footdata\">\\n<tr><td class=\"footdata-expyear\">Exp Year: 2016</td><td class=\"footdata-expid\">ExpID: 108109</td></tr>\\n<tr><td class=\"footdata-gender\">Gender: Male</td><td>\\xa0</td></tr>\\n<tr><td class=\"footdata-ageofexp\" colspan=\"2\">Age at time of experience: 35</td></tr>\\n<tr><td class=\"footdata-pubdate\">Published: Feb 3, 2020</td><td class=\"footdata-numviews\">Views: 12,200</td></tr>\\n<tr><td class=\"footdata-other-formats\" colspan=\"2\">[ <a href=\"exp.php?ID=108109&amp;format=pdf\" type=\"text/pdf\">View PDF (to print)</a> ] [ <a href=\"exp_pdf.php?ID=108109&amp;format=latex\">View LaTeX (for geeks)</a> ]\\n[\\xa0<a href=\"#\" onclick=\"expChangeColors(); return false;\">Swap\\xa0Dark/Light</a>\\xa0]\\n</td></tr>\\n<tr><td class=\"footdata-topic-list\" colspan=\"2\">DMT\\xa0(18) : Alone\\xa0(16), Therapeutic Intent or Outcome\\xa0(49), Bad Trips\\xa0(6), First Times\\xa0(2), General\\xa0(1)</td></tr>\\n<!--  <img src=\"/images/new.gif\" alt=\"May\"> -->\\n</table>'}\n",
            "{'link': 'https://www.erowid.org/experiences/exp.php?ID=113511', 'substance': 'DMT', 'dosechart': '<table class=\"dosechart\">\\n<tr>\\n<td align=\"right\" class=\"dosechart-time\">DOSE:<br/></td>\\n<td align=\"center\" class=\"dosechart-amount\">40 mg</td>\\n<td align=\"center\" class=\"dosechart-method\">vaporized</td>\\n<td class=\"dosechart-substance\"><a href=\"/chemicals/dmt/\">DMT</a></td>\\n<td class=\"dosechart-form\">(powder / crystals)</td>\\n</tr>\\n</table>', 'bodyweight': '<table class=\"bodyweight\">\\n<tr>\\n<td class=\"bodyweight-title\">BODY WEIGHT:</td>\\n<td class=\"bodyweight-amount\">125 lb</td>\\n</tr>\\n</table>', 'footdata': '<table class=\"footdata\">\\n<tr><td class=\"footdata-expyear\">Exp Year: 2019</td><td class=\"footdata-expid\">ExpID: 113511</td></tr>\\n<tr><td class=\"footdata-gender\">Gender: Female</td><td>\\xa0</td></tr>\\n<tr><td class=\"footdata-ageofexp\" colspan=\"2\">Age at time of experience: 33</td></tr>\\n<tr><td class=\"footdata-pubdate\">Published: Oct 21, 2019</td><td class=\"footdata-numviews\">Views: 7,025</td></tr>\\n<tr><td class=\"footdata-other-formats\" colspan=\"2\">[ <a href=\"exp.php?ID=113511&amp;format=pdf\" type=\"text/pdf\">View PDF (to print)</a> ] [ <a href=\"exp_pdf.php?ID=113511&amp;format=latex\">View LaTeX (for geeks)</a> ]\\n[\\xa0<a href=\"#\" onclick=\"expChangeColors(); return false;\">Swap\\xa0Dark/Light</a>\\xa0]\\n</td></tr>\\n<tr><td class=\"footdata-topic-list\" colspan=\"2\">DMT\\xa0(18) : Small Group (2-9)\\xa0(17), Post Trip Problems\\xa0(8), Entities / Beings\\xa0(37), Health Problems\\xa0(27), Difficult Experiences\\xa0(5)</td></tr>\\n<!--  <img src=\"/images/new.gif\" alt=\"May\"> -->\\n</table>'}\n",
            "{'link': 'https://www.erowid.org/experiences/exp.php?ID=106818', 'substance': 'Pharmahuasca (Syrian Rue & DMT)', 'dosechart': '<table class=\"dosechart\">\\n<tr>\\n<td align=\"right\" class=\"dosechart-time\">DOSE:<br/> T+ 0:00</td>\\n<td align=\"center\" class=\"dosechart-amount\">3.5 g</td>\\n<td align=\"center\" class=\"dosechart-method\">oral</td>\\n<td class=\"dosechart-substance\"><a href=\"/plants/syrian_rue/\">Syrian Rue</a></td>\\n<td class=\"dosechart-form\">(tea)</td>\\n</tr>\\n<tr>\\n<td align=\"right\" class=\"dosechart-time\">\\xa0 T+ 1:00</td>\\n<td align=\"center\" class=\"dosechart-amount\">150 mg</td>\\n<td align=\"center\" class=\"dosechart-method\">oral</td>\\n<td class=\"dosechart-substance\"><a href=\"/chemicals/dmt/\">DMT</a></td>\\n<td class=\"dosechart-form\">(freebase)</td>\\n</tr>\\n</table>', 'bodyweight': '<table class=\"bodyweight\">\\n<tr>\\n<td class=\"bodyweight-title\">BODY WEIGHT:</td>\\n<td class=\"bodyweight-amount\">140 lb</td>\\n</tr>\\n</table>', 'footdata': '<table class=\"footdata\">\\n<tr><td class=\"footdata-expyear\">Exp Year: 2015</td><td class=\"footdata-expid\">ExpID: 106818</td></tr>\\n<tr><td class=\"footdata-gender\">Gender: Male</td><td>\\xa0</td></tr>\\n<tr><td class=\"footdata-ageofexp\" colspan=\"2\">Age at time of experience: 22</td></tr>\\n<tr><td class=\"footdata-pubdate\">Published: Oct 10, 2019</td><td class=\"footdata-numviews\">Views: 3,584</td></tr>\\n<tr><td class=\"footdata-other-formats\" colspan=\"2\">[ <a href=\"exp.php?ID=106818&amp;format=pdf\" type=\"text/pdf\">View PDF (to print)</a> ] [ <a href=\"exp_pdf.php?ID=106818&amp;format=latex\">View LaTeX (for geeks)</a> ]\\n[\\xa0<a href=\"#\" onclick=\"expChangeColors(); return false;\">Swap\\xa0Dark/Light</a>\\xa0]\\n</td></tr>\\n<tr><td class=\"footdata-topic-list\" colspan=\"2\">DMT\\xa0(18), Syrian Rue\\xa0(45), Pharmahuasca\\xa0(822) : Alone\\xa0(16), Entities / Beings\\xa0(37), Combinations\\xa0(3)</td></tr>\\n<!--  <img src=\"/images/new.gif\" alt=\"May\"> -->\\n</table>'}\n",
            "{'link': 'https://www.erowid.org/experiences/exp.php?ID=101367', 'substance': 'DMT', 'dosechart': '<table class=\"dosechart\">\\n<tr>\\n<td align=\"right\" class=\"dosechart-time\">DOSE:<br/></td>\\n<td align=\"center\" class=\"dosechart-amount\">3 hits</td>\\n<td align=\"center\" class=\"dosechart-method\">smoked</td>\\n<td class=\"dosechart-substance\"><a href=\"/chemicals/dmt/\">DMT</a></td>\\n</tr>\\n</table>', 'bodyweight': '<table class=\"bodyweight\">\\n<tr>\\n<td class=\"bodyweight-title\">BODY WEIGHT:</td>\\n<td class=\"bodyweight-amount\">69 kg</td>\\n</tr>\\n</table>', 'footdata': '<table class=\"footdata\">\\n<tr><td class=\"footdata-expyear\">Exp Year: 2013</td><td class=\"footdata-expid\">ExpID: 101367</td></tr>\\n<tr><td class=\"footdata-gender\">Gender: Male</td><td>\\xa0</td></tr>\\n<tr><td class=\"footdata-ageofexp\" colspan=\"2\">Age at time of experience: 21</td></tr>\\n<tr><td class=\"footdata-pubdate\">Published: Oct 2, 2019</td><td class=\"footdata-numviews\">Views: 8,583</td></tr>\\n<tr><td class=\"footdata-other-formats\" colspan=\"2\">[ <a href=\"exp.php?ID=101367&amp;format=pdf\" type=\"text/pdf\">View PDF (to print)</a> ] [ <a href=\"exp_pdf.php?ID=101367&amp;format=latex\">View LaTeX (for geeks)</a> ]\\n[\\xa0<a href=\"#\" onclick=\"expChangeColors(); return false;\">Swap\\xa0Dark/Light</a>\\xa0]\\n</td></tr>\\n<tr><td class=\"footdata-topic-list\" colspan=\"2\">DMT\\xa0(18) : Entities / Beings\\xa0(37), First Times\\xa0(2), Small Group (2-9)\\xa0(17)</td></tr>\\n<!--  <img src=\"/images/new.gif\" alt=\"May\"> -->\\n</table>'}\n",
            "{'link': 'https://www.erowid.org/experiences/exp.php?ID=102952', 'substance': 'DiPT & DMT', 'dosechart': '<table class=\"dosechart\">\\n<tr>\\n<td align=\"right\" class=\"dosechart-time\">DOSE:<br/> T+ 0:00</td>\\n<td align=\"center\" class=\"dosechart-amount\">45 mg</td>\\n<td align=\"center\" class=\"dosechart-method\">oral</td>\\n<td class=\"dosechart-substance\"><a href=\"/chemicals/dipt/\">DiPT</a></td>\\n<td class=\"dosechart-form\">(capsule)</td>\\n</tr>\\n<tr>\\n<td align=\"right\" class=\"dosechart-time\">\\xa0 T+ 3:30</td>\\n<td align=\"center\" class=\"dosechart-amount\">22 mg</td>\\n<td align=\"center\" class=\"dosechart-method\">vaporized</td>\\n<td class=\"dosechart-substance\"><a href=\"/chemicals/dmt/\">DMT</a></td>\\n<td class=\"dosechart-form\">(powder / crystals)</td>\\n</tr>\\n<tr>\\n<td align=\"right\" class=\"dosechart-time\">\\xa0 T+ 0:00</td>\\n<td align=\"center\" class=\"dosechart-amount\">\\xa0 </td>\\n<td align=\"center\" class=\"dosechart-method\">smoked</td>\\n<td class=\"dosechart-substance\"><a href=\"/plants/cannabis/\">Cannabis</a></td>\\n<td class=\"dosechart-form\">\\xa0</td>\\n</tr>\\n</table>', 'bodyweight': '<table class=\"bodyweight\">\\n<tr>\\n<td class=\"bodyweight-title\">BODY WEIGHT:</td>\\n<td class=\"bodyweight-amount\">145 lb</td>\\n</tr>\\n</table>', 'footdata': '<table class=\"footdata\">\\n<tr><td class=\"footdata-expyear\">Exp Year: 2014</td><td class=\"footdata-expid\">ExpID: 102952</td></tr>\\n<tr><td class=\"footdata-gender\">Gender: Male</td><td>\\xa0</td></tr>\\n<tr><td class=\"footdata-ageofexp\" colspan=\"2\">Age at time of experience: 18</td></tr>\\n<tr><td class=\"footdata-pubdate\">Published: Mar 29, 2019</td><td class=\"footdata-numviews\">Views: 3,050</td></tr>\\n<tr><td class=\"footdata-other-formats\" colspan=\"2\">[ <a href=\"exp.php?ID=102952&amp;format=pdf\" type=\"text/pdf\">View PDF (to print)</a> ] [ <a href=\"exp_pdf.php?ID=102952&amp;format=latex\">View LaTeX (for geeks)</a> ]\\n[\\xa0<a href=\"#\" onclick=\"expChangeColors(); return false;\">Swap\\xa0Dark/Light</a>\\xa0]\\n</td></tr>\\n<tr><td class=\"footdata-topic-list\" colspan=\"2\">DiPT\\xa0(110), DMT\\xa0(18) : Glowing Experiences\\xa0(4), Entities / Beings\\xa0(37), Combinations\\xa0(3), Alone\\xa0(16)</td></tr>\\n<!--  <img src=\"/images/new.gif\" alt=\"May\"> -->\\n</table>'}\n",
            "{'link': 'https://www.erowid.org/experiences/exp.php?ID=112845', 'substance': 'DMT', 'dosechart': '<table class=\"dosechart\">\\n<tr>\\n<td align=\"right\" class=\"dosechart-time\">DOSE:<br/></td>\\n<td align=\"center\" class=\"dosechart-amount\">2 hits</td>\\n<td align=\"center\" class=\"dosechart-method\">vaporized</td>\\n<td class=\"dosechart-substance\"><a href=\"/chemicals/dmt/\">DMT</a></td>\\n<td class=\"dosechart-form\">(powder / crystals)</td>\\n</tr>\\n</table>', 'bodyweight': '<table class=\"bodyweight\">\\n<tr>\\n<td class=\"bodyweight-title\">BODY WEIGHT:</td>\\n<td class=\"bodyweight-amount\">180 lb</td>\\n</tr>\\n</table>', 'footdata': '<table class=\"footdata\">\\n<tr><td class=\"footdata-expyear\">Exp Year: 2017</td><td class=\"footdata-expid\">ExpID: 112845</td></tr>\\n<tr><td class=\"footdata-gender\">Gender: Male</td><td>\\xa0</td></tr>\\n<tr><td class=\"footdata-ageofexp\" colspan=\"2\">Age at time of experience: 23</td></tr>\\n<tr><td class=\"footdata-pubdate\">Published: Feb 22, 2019</td><td class=\"footdata-numviews\">Views: 3,641</td></tr>\\n<tr><td class=\"footdata-other-formats\" colspan=\"2\">[ <a href=\"exp.php?ID=112845&amp;format=pdf\" type=\"text/pdf\">View PDF (to print)</a> ] [ <a href=\"exp_pdf.php?ID=112845&amp;format=latex\">View LaTeX (for geeks)</a> ]\\n[\\xa0<a href=\"#\" onclick=\"expChangeColors(); return false;\">Swap\\xa0Dark/Light</a>\\xa0]\\n</td></tr>\\n<tr><td class=\"footdata-topic-list\" colspan=\"2\">DMT\\xa0(18) : Alone\\xa0(16), Entities / Beings\\xa0(37), Mystical Experiences\\xa0(9), Difficult Experiences\\xa0(5), General\\xa0(1)</td></tr>\\n<!--  <img src=\"/images/new.gif\" alt=\"May\"> -->\\n</table>'}\n",
            "{'link': 'https://www.erowid.org/experiences/exp.php?ID=112640', 'substance': 'DMT', 'dosechart': '<table class=\"dosechart\">\\n<tr>\\n<td align=\"right\" class=\"dosechart-time\">DOSE:<br/></td>\\n<td align=\"center\" class=\"dosechart-amount\">\\xa0 </td>\\n<td align=\"center\" class=\"dosechart-method\">IV</td>\\n<td class=\"dosechart-substance\"><a href=\"/chemicals/dmt/\">DMT</a></td>\\n</tr>\\n</table>', 'bodyweight': '<table class=\"bodyweight\">\\n<tr>\\n<td class=\"bodyweight-title\">BODY WEIGHT:</td>\\n<td class=\"bodyweight-amount\">92 kg</td>\\n</tr>\\n</table>', 'footdata': '<table class=\"footdata\">\\n<tr><td class=\"footdata-expyear\">Exp Year: 2018</td><td class=\"footdata-expid\">ExpID: 112640</td></tr>\\n<tr><td class=\"footdata-gender\">Gender: Male</td><td>\\xa0</td></tr>\\n<tr><td class=\"footdata-ageofexp\" colspan=\"2\">Age at time of experience: 33</td></tr>\\n<tr><td class=\"footdata-pubdate\">Published: Feb 12, 2019</td><td class=\"footdata-numviews\">Views: 10,798</td></tr>\\n<tr><td class=\"footdata-other-formats\" colspan=\"2\">[ <a href=\"exp.php?ID=112640&amp;format=pdf\" type=\"text/pdf\">View PDF (to print)</a> ] [ <a href=\"exp_pdf.php?ID=112640&amp;format=latex\">View LaTeX (for geeks)</a> ]\\n[\\xa0<a href=\"#\" onclick=\"expChangeColors(); return false;\">Swap\\xa0Dark/Light</a>\\xa0]\\n</td></tr>\\n<tr><td class=\"footdata-topic-list\" colspan=\"2\">DMT\\xa0(18) : Multi-Day Experience\\xa0(13), General\\xa0(1), Hospital\\xa0(36)</td></tr>\\n<!--  <img src=\"/images/new.gif\" alt=\"May\"> -->\\n</table>'}\n",
            "{'link': 'https://www.erowid.org/experiences/exp.php?ID=112771', 'substance': 'DMT', 'dosechart': '<table class=\"dosechart\">\\n<tr>\\n<td align=\"right\" class=\"dosechart-time\">DOSE:<br/></td>\\n<td align=\"center\" class=\"dosechart-amount\">40 mg</td>\\n<td align=\"center\" class=\"dosechart-method\">vaporized</td>\\n<td class=\"dosechart-substance\"><a href=\"/chemicals/dmt/\">DMT</a></td>\\n</tr>\\n<tr>\\n<td align=\"right\" class=\"dosechart-time\">\\xa0</td>\\n<td align=\"center\" class=\"dosechart-amount\">45 mg</td>\\n<td align=\"center\" class=\"dosechart-method\">vaporized</td>\\n<td class=\"dosechart-substance\"><a href=\"/chemicals/dmt/\">DMT</a></td>\\n</tr>\\n</table>', 'bodyweight': '<table class=\"bodyweight\">\\n<tr>\\n<td class=\"bodyweight-title\">BODY WEIGHT:</td>\\n<td class=\"bodyweight-amount\">80 kg</td>\\n</tr>\\n</table>', 'footdata': '<table class=\"footdata\">\\n<tr><td class=\"footdata-expyear\">Exp Year: 2018</td><td class=\"footdata-expid\">ExpID: 112771</td></tr>\\n<tr><td class=\"footdata-gender\">Gender: Male</td><td>\\xa0</td></tr>\\n<tr><td class=\"footdata-ageofexp\" colspan=\"2\">Age at time of experience: 25</td></tr>\\n<tr><td class=\"footdata-pubdate\">Published: Jan 12, 2019</td><td class=\"footdata-numviews\">Views: 8,111</td></tr>\\n<tr><td class=\"footdata-other-formats\" colspan=\"2\">[ <a href=\"exp.php?ID=112771&amp;format=pdf\" type=\"text/pdf\">View PDF (to print)</a> ] [ <a href=\"exp_pdf.php?ID=112771&amp;format=latex\">View LaTeX (for geeks)</a> ]\\n[\\xa0<a href=\"#\" onclick=\"expChangeColors(); return false;\">Swap\\xa0Dark/Light</a>\\xa0]\\n</td></tr>\\n<tr><td class=\"footdata-topic-list\" colspan=\"2\">DMT\\xa0(18) : Alone\\xa0(16), Glowing Experiences\\xa0(4)</td></tr>\\n<!--  <img src=\"/images/new.gif\" alt=\"May\"> -->\\n</table>'}\n",
            "{'link': 'https://www.erowid.org/experiences/exp.php?ID=111847', 'substance': 'DMT', 'dosechart': '<table class=\"dosechart\">\\n<tr>\\n<td align=\"right\" class=\"dosechart-time\">DOSE:<br/></td>\\n<td align=\"center\" class=\"dosechart-amount\">3 hits</td>\\n<td align=\"center\" class=\"dosechart-method\">vaporized</td>\\n<td class=\"dosechart-substance\"><a href=\"/chemicals/dmt/\">DMT</a></td>\\n</tr>\\n<tr>\\n<td align=\"right\" class=\"dosechart-time\">\\xa0</td>\\n<td align=\"center\" class=\"dosechart-amount\">\\xa0 </td>\\n<td align=\"center\" class=\"dosechart-method\">oral</td>\\n<td class=\"dosechart-substance\"><a href=\"/chemicals/maois/\">MAOIs</a></td>\\n</tr>\\n</table>', 'bodyweight': '<table class=\"bodyweight\">\\n<tr>\\n<td class=\"bodyweight-title\">BODY WEIGHT:</td>\\n<td class=\"bodyweight-amount\">160 lb</td>\\n</tr>\\n</table>', 'footdata': '<table class=\"footdata\">\\n<tr><td class=\"footdata-expyear\">Exp Year: 2016</td><td class=\"footdata-expid\">ExpID: 111847</td></tr>\\n<tr><td class=\"footdata-gender\">Gender: Male</td><td>\\xa0</td></tr>\\n<tr><td class=\"footdata-ageofexp\" colspan=\"2\">Age at time of experience: 27</td></tr>\\n<tr><td class=\"footdata-pubdate\">Published: Apr 24, 2018</td><td class=\"footdata-numviews\">Views: 5,420</td></tr>\\n<tr><td class=\"footdata-other-formats\" colspan=\"2\">[ <a href=\"exp.php?ID=111847&amp;format=pdf\" type=\"text/pdf\">View PDF (to print)</a> ] [ <a href=\"exp_pdf.php?ID=111847&amp;format=latex\">View LaTeX (for geeks)</a> ]\\n[\\xa0<a href=\"#\" onclick=\"expChangeColors(); return false;\">Swap\\xa0Dark/Light</a>\\xa0]\\n</td></tr>\\n<tr><td class=\"footdata-topic-list\" colspan=\"2\">DMT\\xa0(18), MAOIs\\xa0(83) : Small Group (2-9)\\xa0(17), Guides / Sitters\\xa0(39), Entities / Beings\\xa0(37), General\\xa0(1)</td></tr>\\n<!--  <img src=\"/images/new.gif\" alt=\"May\"> -->\\n</table>'}\n",
            "{'link': 'https://www.erowid.org/experiences/exp.php?ID=87759', 'substance': 'DMT', 'dosechart': '<table class=\"dosechart\">\\n<tr>\\n<td align=\"right\" class=\"dosechart-time\">DOSE:<br/></td>\\n<td align=\"center\" class=\"dosechart-amount\">1 hit</td>\\n<td align=\"center\" class=\"dosechart-method\">smoked</td>\\n<td class=\"dosechart-substance\"><a href=\"/chemicals/dmt/\">DMT</a></td>\\n<td class=\"dosechart-form\">(powder / crystals)</td>\\n</tr>\\n</table>', 'bodyweight': '<table class=\"bodyweight\">\\n<tr>\\n<td class=\"bodyweight-title\">BODY WEIGHT:</td>\\n<td class=\"bodyweight-amount\">160 lb</td>\\n</tr>\\n</table>', 'footdata': '<table class=\"footdata\">\\n<tr><td class=\"footdata-expyear\">Exp Year: 2010</td><td class=\"footdata-expid\">ExpID: 87759</td></tr>\\n<tr><td class=\"footdata-gender\">Gender: Male</td><td>\\xa0</td></tr>\\n<tr><td class=\"footdata-ageofexp\" colspan=\"2\">Age at time of experience: 25</td></tr>\\n<tr><td class=\"footdata-pubdate\">Published: Apr 4, 2018</td><td class=\"footdata-numviews\">Views: 8,663</td></tr>\\n<tr><td class=\"footdata-other-formats\" colspan=\"2\">[ <a href=\"exp.php?ID=87759&amp;format=pdf\" type=\"text/pdf\">View PDF (to print)</a> ] [ <a href=\"exp_pdf.php?ID=87759&amp;format=latex\">View LaTeX (for geeks)</a> ]\\n[\\xa0<a href=\"#\" onclick=\"expChangeColors(); return false;\">Swap\\xa0Dark/Light</a>\\xa0]\\n</td></tr>\\n<tr><td class=\"footdata-topic-list\" colspan=\"2\">DMT\\xa0(18) : Small Group (2-9)\\xa0(17), First Times\\xa0(2)</td></tr>\\n<!--  <img src=\"/images/new.gif\" alt=\"May\"> -->\\n</table>'}\n",
            "{'link': 'https://www.erowid.org/experiences/exp.php?ID=96140', 'substance': 'DMT', 'dosechart': '<table class=\"dosechart\">\\n<tr>\\n<td align=\"right\" class=\"dosechart-time\">DOSE:<br/></td>\\n<td align=\"center\" class=\"dosechart-amount\">40 mg</td>\\n<td align=\"center\" class=\"dosechart-method\">smoked</td>\\n<td class=\"dosechart-substance\"><a href=\"/chemicals/dmt/\">DMT</a></td>\\n<td class=\"dosechart-form\">(freebase)</td>\\n</tr>\\n</table>', 'bodyweight': '<table class=\"bodyweight\">\\n<tr>\\n<td class=\"bodyweight-title\">BODY WEIGHT:</td>\\n<td class=\"bodyweight-amount\">200 lb</td>\\n</tr>\\n</table>', 'footdata': '<table class=\"footdata\">\\n<tr><td class=\"footdata-expyear\">Exp Year: 2012</td><td class=\"footdata-expid\">ExpID: 96140</td></tr>\\n<tr><td class=\"footdata-gender\">Gender: Male</td><td>\\xa0</td></tr>\\n<tr><td class=\"footdata-ageofexp\" colspan=\"2\">Age at time of experience: 35</td></tr>\\n<tr><td class=\"footdata-pubdate\">Published: Mar 8, 2018</td><td class=\"footdata-numviews\">Views: 4,797</td></tr>\\n<tr><td class=\"footdata-other-formats\" colspan=\"2\">[ <a href=\"exp.php?ID=96140&amp;format=pdf\" type=\"text/pdf\">View PDF (to print)</a> ] [ <a href=\"exp_pdf.php?ID=96140&amp;format=latex\">View LaTeX (for geeks)</a> ]\\n[\\xa0<a href=\"#\" onclick=\"expChangeColors(); return false;\">Swap\\xa0Dark/Light</a>\\xa0]\\n</td></tr>\\n<tr><td class=\"footdata-topic-list\" colspan=\"2\">DMT\\xa0(18) : General\\xa0(1), First Times\\xa0(2), Glowing Experiences\\xa0(4), Entities / Beings\\xa0(37), Alone\\xa0(16)</td></tr>\\n<!--  <img src=\"/images/new.gif\" alt=\"May\"> -->\\n</table>'}\n",
            "{'link': 'https://www.erowid.org/experiences/exp.php?ID=85721', 'substance': 'DMT', 'dosechart': '<table class=\"dosechart\">\\n<tr>\\n<td align=\"right\" class=\"dosechart-time\">DOSE:<br/></td>\\n<td align=\"center\" class=\"dosechart-amount\">1 bowl</td>\\n<td align=\"center\" class=\"dosechart-method\">smoked</td>\\n<td class=\"dosechart-substance\"><a href=\"/herbs/damiana/\">Damiana</a></td>\\n</tr>\\n<tr>\\n<td align=\"right\" class=\"dosechart-time\">\\xa0</td>\\n<td align=\"center\" class=\"dosechart-amount\">1 bowl</td>\\n<td align=\"center\" class=\"dosechart-method\">smoked</td>\\n<td class=\"dosechart-substance\"><a href=\"/chemicals/dmt/\">DMT</a></td>\\n</tr>\\n</table>', 'bodyweight': '<table class=\"bodyweight\">\\n<tr>\\n<td class=\"bodyweight-title\">BODY WEIGHT:</td>\\n<td class=\"bodyweight-amount\">145 lb</td>\\n</tr>\\n</table>', 'footdata': '<table class=\"footdata\">\\n<tr><td class=\"footdata-expyear\">Exp Year: 2010</td><td class=\"footdata-expid\">ExpID: 85721</td></tr>\\n<tr><td class=\"footdata-gender\">Gender: Male</td><td>\\xa0</td></tr>\\n<tr><td class=\"footdata-ageofexp\" colspan=\"2\">Age at time of experience: 21</td></tr>\\n<tr><td class=\"footdata-pubdate\">Published: Mar 4, 2018</td><td class=\"footdata-numviews\">Views: 14,816</td></tr>\\n<tr><td class=\"footdata-other-formats\" colspan=\"2\">[ <a href=\"exp.php?ID=85721&amp;format=pdf\" type=\"text/pdf\">View PDF (to print)</a> ] [ <a href=\"exp_pdf.php?ID=85721&amp;format=latex\">View LaTeX (for geeks)</a> ]\\n[\\xa0<a href=\"#\" onclick=\"expChangeColors(); return false;\">Swap\\xa0Dark/Light</a>\\xa0]\\n</td></tr>\\n<tr><td class=\"footdata-topic-list\" colspan=\"2\">DMT\\xa0(18) : Small Group (2-9)\\xa0(17), Train Wrecks &amp; Trip Disasters\\xa0(7), Difficult Experiences\\xa0(5), First Times\\xa0(2)</td></tr>\\n<!--  <img src=\"/images/new.gif\" alt=\"May\"> -->\\n</table>'}\n",
            "{'link': 'https://www.erowid.org/experiences/exp.php?ID=100953', 'substance': 'DMT', 'dosechart': '<table class=\"dosechart\">\\n<tr>\\n<td align=\"right\" class=\"dosechart-time\">DOSE:<br/> T+ 0:00</td>\\n<td align=\"center\" class=\"dosechart-amount\">1 hit</td>\\n<td align=\"center\" class=\"dosechart-method\">smoked</td>\\n<td class=\"dosechart-substance\"><a href=\"/chemicals/dmt/\">DMT</a></td>\\n</tr>\\n<tr>\\n<td align=\"right\" class=\"dosechart-time\">\\xa0 T+ 1:10</td>\\n<td align=\"center\" class=\"dosechart-amount\">1 hit</td>\\n<td align=\"center\" class=\"dosechart-method\">smoked</td>\\n<td class=\"dosechart-substance\"><a href=\"/chemicals/dmt/\">DMT</a></td>\\n</tr>\\n<tr>\\n<td align=\"right\" class=\"dosechart-time\">\\xa0 T+ 2:05</td>\\n<td align=\"center\" class=\"dosechart-amount\">1 hit</td>\\n<td align=\"center\" class=\"dosechart-method\">smoked</td>\\n<td class=\"dosechart-substance\"><a href=\"/chemicals/dmt/\">DMT</a></td>\\n</tr>\\n<tr>\\n<td align=\"right\" class=\"dosechart-time\">\\xa0 T+ 2:50</td>\\n<td align=\"center\" class=\"dosechart-amount\">2 hits</td>\\n<td align=\"center\" class=\"dosechart-method\">smoked</td>\\n<td class=\"dosechart-substance\"><a href=\"/chemicals/dmt/\">DMT</a></td>\\n</tr>\\n</table>', 'bodyweight': '<table class=\"bodyweight\">\\n<tr>\\n<td class=\"bodyweight-title\">BODY WEIGHT:</td>\\n<td class=\"bodyweight-amount\">180 lb</td>\\n</tr>\\n</table>', 'footdata': '<table class=\"footdata\">\\n<tr><td class=\"footdata-expyear\">Exp Year: 2007</td><td class=\"footdata-expid\">ExpID: 100953</td></tr>\\n<tr><td class=\"footdata-gender\">Gender: Male</td><td>\\xa0</td></tr>\\n<tr><td class=\"footdata-ageofexp\" colspan=\"2\">Age at time of experience: 50</td></tr>\\n<tr><td class=\"footdata-pubdate\">Published: Jan 19, 2018</td><td class=\"footdata-numviews\">Views: 6,614</td></tr>\\n<tr><td class=\"footdata-other-formats\" colspan=\"2\">[ <a href=\"exp.php?ID=100953&amp;format=pdf\" type=\"text/pdf\">View PDF (to print)</a> ] [ <a href=\"exp_pdf.php?ID=100953&amp;format=latex\">View LaTeX (for geeks)</a> ]\\n[\\xa0<a href=\"#\" onclick=\"expChangeColors(); return false;\">Swap\\xa0Dark/Light</a>\\xa0]\\n</td></tr>\\n<tr><td class=\"footdata-topic-list\" colspan=\"2\">DMT\\xa0(18) : Alone\\xa0(16), Therapeutic Intent or Outcome\\xa0(49), Retrospective / Summary\\xa0(11), First Times\\xa0(2)</td></tr>\\n<!--  <img src=\"/images/new.gif\" alt=\"May\"> -->\\n</table>'}\n",
            "{'link': 'https://www.erowid.org/experiences/exp.php?ID=99900', 'substance': 'DMT & Phenethylamines', 'dosechart': '<table class=\"dosechart\">\\n<tr>\\n<td align=\"right\" class=\"dosechart-time\">DOSE:<br/> T+ 0:00</td>\\n<td align=\"center\" class=\"dosechart-amount\">48 mg</td>\\n<td align=\"center\" class=\"dosechart-method\">vaporized</td>\\n<td class=\"dosechart-substance\"><a href=\"/chemicals/dmt/\">DMT</a></td>\\n<td class=\"dosechart-form\">(powder / crystals)</td>\\n</tr>\\n<tr>\\n<td align=\"right\" class=\"dosechart-time\">\\xa0 T+ 0:00</td>\\n<td align=\"center\" class=\"dosechart-amount\">170 mg</td>\\n<td align=\"center\" class=\"dosechart-method\">oral</td>\\n<td class=\"dosechart-substance\"><a href=\"/chemicals/mdma/\">MDMA</a></td>\\n<td class=\"dosechart-form\">(capsule)</td>\\n</tr>\\n<tr>\\n<td align=\"right\" class=\"dosechart-time\">\\xa0 T+ 0:00</td>\\n<td align=\"center\" class=\"dosechart-amount\">5 mg</td>\\n<td align=\"center\" class=\"dosechart-method\">insufflated</td>\\n<td class=\"dosechart-substance\"><a href=\"/chemicals/mdma/\">MDMA</a></td>\\n<td class=\"dosechart-form\">(powder / crystals)</td>\\n</tr>\\n<tr>\\n<td align=\"right\" class=\"dosechart-time\">\\xa0 T+ 0:00</td>\\n<td align=\"center\" class=\"dosechart-amount\">5 mg</td>\\n<td align=\"center\" class=\"dosechart-method\">insufflated</td>\\n<td class=\"dosechart-substance\"><a href=\"/chemicals/2cb/\">2C-B</a></td>\\n<td class=\"dosechart-form\">(powder / crystals)</td>\\n</tr>\\n<tr>\\n<td align=\"right\" class=\"dosechart-time\">\\xa0 T+ 0:00</td>\\n<td align=\"center\" class=\"dosechart-amount\">5 mg</td>\\n<td align=\"center\" class=\"dosechart-method\">insufflated</td>\\n<td class=\"dosechart-substance\"><a href=\"/chemicals/2ct2/\">2C-T-2</a></td>\\n<td class=\"dosechart-form\">(powder / crystals)</td>\\n</tr>\\n<tr>\\n<td align=\"right\" class=\"dosechart-time\">\\xa0 T+ 0:00</td>\\n<td align=\"center\" class=\"dosechart-amount\">\\xa0 </td>\\n<td align=\"center\" class=\"dosechart-method\">oral</td>\\n<td class=\"dosechart-substance\">Vitamin B-6</td>\\n<td class=\"dosechart-form\">\\xa0</td>\\n</tr>\\n<tr>\\n<td align=\"right\" class=\"dosechart-time\">\\xa0 T+ 24:00</td>\\n<td align=\"center\" class=\"dosechart-amount\">1 hit</td>\\n<td align=\"center\" class=\"dosechart-method\">vaporized</td>\\n<td class=\"dosechart-substance\"><a href=\"/chemicals/dmt/\">DMT</a></td>\\n<td class=\"dosechart-form\">(powder / crystals)</td>\\n</tr>\\n<tr>\\n<td align=\"right\" class=\"dosechart-time\">\\xa0 T+ 24:00</td>\\n<td align=\"center\" class=\"dosechart-amount\">1 capsl</td>\\n<td align=\"center\" class=\"dosechart-method\">oral</td>\\n<td class=\"dosechart-substance\"><a href=\"/chemicals/mdma/\">MDMA</a></td>\\n<td class=\"dosechart-form\">(powder / crystals)</td>\\n</tr>\\n<tr>\\n<td align=\"right\" class=\"dosechart-time\">\\xa0 T+ 24:00</td>\\n<td align=\"center\" class=\"dosechart-amount\">85 mg</td>\\n<td align=\"center\" class=\"dosechart-method\">oral</td>\\n<td class=\"dosechart-substance\"><a href=\"/chemicals/mdma/\">MDMA</a></td>\\n<td class=\"dosechart-form\">(capsule)</td>\\n</tr>\\n<tr>\\n<td align=\"right\" class=\"dosechart-time\">\\xa0 T+ 0:00</td>\\n<td align=\"center\" class=\"dosechart-amount\">\\xa0 </td>\\n<td align=\"center\" class=\"dosechart-method\">oral</td>\\n<td class=\"dosechart-substance\"><a href=\"/chemicals/alcohol/\">Alcohol - Beer/Wine</a></td>\\n<td class=\"dosechart-form\">\\xa0</td>\\n</tr>\\n<tr>\\n<td align=\"right\" class=\"dosechart-time\">\\xa0 T+ 96:00</td>\\n<td align=\"center\" class=\"dosechart-amount\">4 mg</td>\\n<td align=\"center\" class=\"dosechart-method\">oral</td>\\n<td class=\"dosechart-substance\"><a href=\"/chemicals/2ci/\">2C-I</a></td>\\n<td class=\"dosechart-form\">\\xa0</td>\\n</tr>\\n<tr>\\n<td align=\"right\" class=\"dosechart-time\">\\xa0 T+ 96:00</td>\\n<td align=\"center\" class=\"dosechart-amount\">\\xa0 </td>\\n<td align=\"center\" class=\"dosechart-method\">oral</td>\\n<td class=\"dosechart-substance\">Vitamins - Choline</td>\\n<td class=\"dosechart-form\">\\xa0</td>\\n</tr>\\n<tr>\\n<td align=\"right\" class=\"dosechart-time\">\\xa0 T+ 96:00</td>\\n<td align=\"center\" class=\"dosechart-amount\">\\xa0 </td>\\n<td align=\"center\" class=\"dosechart-method\">oral</td>\\n<td class=\"dosechart-substance\"><a href=\"/smarts/\">Smarts</a></td>\\n<td class=\"dosechart-form\">\\xa0</td>\\n</tr>\\n<tr>\\n<td align=\"right\" class=\"dosechart-time\">\\xa0 T+ 96:00</td>\\n<td align=\"center\" class=\"dosechart-amount\">12 mg</td>\\n<td align=\"center\" class=\"dosechart-method\">oral</td>\\n<td class=\"dosechart-substance\"><a href=\"/chemicals/2ce/\">2C-E</a></td>\\n<td class=\"dosechart-form\">(capsule)</td>\\n</tr>\\n</table>', 'bodyweight': '<table class=\"bodyweight\">\\n<tr>\\n<td class=\"bodyweight-title\">BODY WEIGHT:</td>\\n<td class=\"bodyweight-amount\">190 lb</td>\\n</tr>\\n</table>', 'footdata': '<table class=\"footdata\">\\n<tr><td class=\"footdata-expyear\">Exp Year: 2012</td><td class=\"footdata-expid\">ExpID: 99900</td></tr>\\n<tr><td class=\"footdata-gender\">Gender: Male</td><td>\\xa0</td></tr>\\n<tr><td class=\"footdata-ageofexp\" colspan=\"2\">Age at time of experience: 23</td></tr>\\n<tr><td class=\"footdata-pubdate\">Published: Dec 30, 2017</td><td class=\"footdata-numviews\">Views: 5,234</td></tr>\\n<tr><td class=\"footdata-other-formats\" colspan=\"2\">[ <a href=\"exp.php?ID=99900&amp;format=pdf\" type=\"text/pdf\">View PDF (to print)</a> ] [ <a href=\"exp_pdf.php?ID=99900&amp;format=latex\">View LaTeX (for geeks)</a> ]\\n[\\xa0<a href=\"#\" onclick=\"expChangeColors(); return false;\">Swap\\xa0Dark/Light</a>\\xa0]\\n</td></tr>\\n<tr><td class=\"footdata-topic-list\" colspan=\"2\">MDMA\\xa0(3), DMT\\xa0(18) : Small Group (2-9)\\xa0(17), Relationships\\xa0(44), Multi-Day Experience\\xa0(13), Glowing Experiences\\xa0(4), Combinations\\xa0(3)</td></tr>\\n<!--  <img src=\"/images/new.gif\" alt=\"May\"> -->\\n</table>'}\n",
            "{'link': 'https://www.erowid.org/experiences/exp.php?ID=103249', 'substance': 'DMT', 'dosechart': '<table class=\"dosechart\">\\n<tr>\\n<td align=\"right\" class=\"dosechart-time\">DOSE:<br/></td>\\n<td align=\"center\" class=\"dosechart-amount\">4 hits</td>\\n<td align=\"center\" class=\"dosechart-method\">smoked</td>\\n<td class=\"dosechart-substance\"><a href=\"/chemicals/dmt/\">DMT</a></td>\\n<td class=\"dosechart-form\">(powder / crystals)</td>\\n</tr>\\n</table>', 'bodyweight': '<table class=\"bodyweight\">\\n<tr>\\n<td class=\"bodyweight-title\">BODY WEIGHT:</td>\\n<td class=\"bodyweight-amount\">165 lb</td>\\n</tr>\\n</table>', 'footdata': '<table class=\"footdata\">\\n<tr><td class=\"footdata-expyear\">Exp Year: 2011</td><td class=\"footdata-expid\">ExpID: 103249</td></tr>\\n<tr><td class=\"footdata-gender\">Gender: Male</td><td>\\xa0</td></tr>\\n<tr><td class=\"footdata-ageofexp\" colspan=\"2\">Age at time of experience: 54</td></tr>\\n<tr><td class=\"footdata-pubdate\">Published: Dec 8, 2017</td><td class=\"footdata-numviews\">Views: 5,525</td></tr>\\n<tr><td class=\"footdata-other-formats\" colspan=\"2\">[ <a href=\"exp.php?ID=103249&amp;format=pdf\" type=\"text/pdf\">View PDF (to print)</a> ] [ <a href=\"exp_pdf.php?ID=103249&amp;format=latex\">View LaTeX (for geeks)</a> ]\\n[\\xa0<a href=\"#\" onclick=\"expChangeColors(); return false;\">Swap\\xa0Dark/Light</a>\\xa0]\\n</td></tr>\\n<tr><td class=\"footdata-topic-list\" colspan=\"2\">DMT\\xa0(18) : Glowing Experiences\\xa0(4), Entities / Beings\\xa0(37), General\\xa0(1), Small Group (2-9)\\xa0(17)</td></tr>\\n<!--  <img src=\"/images/new.gif\" alt=\"May\"> -->\\n</table>'}\n",
            "{'link': 'https://www.erowid.org/experiences/exp.php?ID=109084', 'substance': 'Pharmahuasca (Moclobemide & DMT)', 'dosechart': '<table class=\"dosechart\">\\n<tr>\\n<td align=\"right\" class=\"dosechart-time\">DOSE:<br/> T+ 0:00</td>\\n<td align=\"center\" class=\"dosechart-amount\">150 mg</td>\\n<td align=\"center\" class=\"dosechart-method\">oral</td>\\n<td class=\"dosechart-substance\"><a href=\"/pharms/moclobemide/\">Moclobemide</a></td>\\n<td class=\"dosechart-form\">(pill / tablet)</td>\\n</tr>\\n<tr>\\n<td align=\"right\" class=\"dosechart-time\">\\xa0 T+ 0:00</td>\\n<td align=\"center\" class=\"dosechart-amount\">8 mg</td>\\n<td align=\"center\" class=\"dosechart-method\">oral</td>\\n<td class=\"dosechart-substance\">Ondansetron</td>\\n<td class=\"dosechart-form\">(pill / tablet)</td>\\n</tr>\\n<tr>\\n<td align=\"right\" class=\"dosechart-time\">\\xa0 T+ 0:15</td>\\n<td align=\"center\" class=\"dosechart-amount\">70 mg</td>\\n<td align=\"center\" class=\"dosechart-method\">oral</td>\\n<td class=\"dosechart-substance\"><a href=\"/chemicals/dmt/\">DMT</a></td>\\n<td class=\"dosechart-form\">(liquid)</td>\\n</tr>\\n<tr>\\n<td align=\"right\" class=\"dosechart-time\">\\xa0 T+ 1:00</td>\\n<td align=\"center\" class=\"dosechart-amount\">4 mg</td>\\n<td align=\"center\" class=\"dosechart-method\">oral</td>\\n<td class=\"dosechart-substance\">Ondansetron</td>\\n<td class=\"dosechart-form\">(pill / tablet)</td>\\n</tr>\\n<tr>\\n<td align=\"right\" class=\"dosechart-time\">\\xa0 T+ 1:00</td>\\n<td align=\"center\" class=\"dosechart-amount\">70 mg</td>\\n<td align=\"center\" class=\"dosechart-method\">oral</td>\\n<td class=\"dosechart-substance\"><a href=\"/chemicals/dmt/\">DMT</a></td>\\n<td class=\"dosechart-form\">(liquid)</td>\\n</tr>\\n</table>', 'bodyweight': '<table class=\"bodyweight\">\\n<tr>\\n<td class=\"bodyweight-title\">BODY WEIGHT:</td>\\n<td class=\"bodyweight-amount\">70 kg</td>\\n</tr>\\n</table>', 'footdata': '<table class=\"footdata\">\\n<tr><td class=\"footdata-expyear\">Exp Year: 2016</td><td class=\"footdata-expid\">ExpID: 109084</td></tr>\\n<tr><td class=\"footdata-gender\">Gender: Male</td><td>\\xa0</td></tr>\\n<tr><td class=\"footdata-ageofexp\" colspan=\"2\">Age at time of experience: 23</td></tr>\\n<tr><td class=\"footdata-pubdate\">Published: Dec 1, 2017</td><td class=\"footdata-numviews\">Views: 4,641</td></tr>\\n<tr><td class=\"footdata-other-formats\" colspan=\"2\">[ <a href=\"exp.php?ID=109084&amp;format=pdf\" type=\"text/pdf\">View PDF (to print)</a> ] [ <a href=\"exp_pdf.php?ID=109084&amp;format=latex\">View LaTeX (for geeks)</a> ]\\n[\\xa0<a href=\"#\" onclick=\"expChangeColors(); return false;\">Swap\\xa0Dark/Light</a>\\xa0]\\n</td></tr>\\n<tr><td class=\"footdata-topic-list\" colspan=\"2\">Meditation\\xa0(128), Moclobemide\\xa0(75), DMT\\xa0(18), Pharmahuasca\\xa0(822) : Small Group (2-9)\\xa0(17), Combinations\\xa0(3), Therapeutic Intent or Outcome\\xa0(49), Entities / Beings\\xa0(37), Mystical Experiences\\xa0(9)</td></tr>\\n<!--  <img src=\"/images/new.gif\" alt=\"May\"> -->\\n</table>'}\n",
            "{'link': 'https://www.erowid.org/experiences/exp.php?ID=95151', 'substance': 'DMT after LSD', 'dosechart': '<table class=\"dosechart\">\\n<tr>\\n<td align=\"right\" class=\"dosechart-time\">DOSE:<br/></td>\\n<td align=\"center\" class=\"dosechart-amount\">\\xa0 </td>\\n<td align=\"center\" class=\"dosechart-method\">\\xa0</td>\\n<td class=\"dosechart-substance\"><a href=\"/chemicals/lsd/\">LSD</a></td>\\n</tr>\\n<tr>\\n<td align=\"right\" class=\"dosechart-time\">\\xa0</td>\\n<td align=\"center\" class=\"dosechart-amount\">3 hits</td>\\n<td align=\"center\" class=\"dosechart-method\">smoked</td>\\n<td class=\"dosechart-substance\"><a href=\"/chemicals/dmt/\">DMT</a></td>\\n</tr>\\n</table>', 'bodyweight': '<table class=\"bodyweight\">\\n<tr>\\n<td class=\"bodyweight-title\">BODY WEIGHT:</td>\\n<td class=\"bodyweight-amount\">155 lb</td>\\n</tr>\\n</table>', 'footdata': '<table class=\"footdata\">\\n<tr><td class=\"footdata-expyear\">Exp Year: 2008</td><td class=\"footdata-expid\">ExpID: 95151</td></tr>\\n<tr><td class=\"footdata-gender\">Gender: Female</td><td>\\xa0</td></tr>\\n<tr><td class=\"footdata-ageofexp\" colspan=\"2\">Age at time of experience: 24</td></tr>\\n<tr><td class=\"footdata-pubdate\">Published: Dec 1, 2017</td><td class=\"footdata-numviews\">Views: 8,527</td></tr>\\n<tr><td class=\"footdata-other-formats\" colspan=\"2\">[ <a href=\"exp.php?ID=95151&amp;format=pdf\" type=\"text/pdf\">View PDF (to print)</a> ] [ <a href=\"exp_pdf.php?ID=95151&amp;format=latex\">View LaTeX (for geeks)</a> ]\\n[\\xa0<a href=\"#\" onclick=\"expChangeColors(); return false;\">Swap\\xa0Dark/Light</a>\\xa0]\\n</td></tr>\\n<tr><td class=\"footdata-topic-list\" colspan=\"2\">DMT\\xa0(18) : Combinations\\xa0(3), First Times\\xa0(2), Small Group (2-9)\\xa0(17)</td></tr>\\n<!--  <img src=\"/images/new.gif\" alt=\"May\"> -->\\n</table>'}\n",
            "{'link': 'https://www.erowid.org/experiences/exp.php?ID=100929', 'substance': 'DMT', 'dosechart': '<table class=\"dosechart\">\\n<tr>\\n<td align=\"right\" class=\"dosechart-time\">DOSE:<br/></td>\\n<td align=\"center\" class=\"dosechart-amount\">60 mg</td>\\n<td align=\"center\" class=\"dosechart-method\">smoked</td>\\n<td class=\"dosechart-substance\"><a href=\"/chemicals/dmt/\">DMT</a></td>\\n<td class=\"dosechart-form\">(powder / crystals)</td>\\n</tr>\\n</table>', 'bodyweight': '<table class=\"bodyweight\">\\n<tr>\\n<td class=\"bodyweight-title\">BODY WEIGHT:</td>\\n<td class=\"bodyweight-amount\">85 kg</td>\\n</tr>\\n</table>', 'footdata': '<table class=\"footdata\">\\n<tr><td class=\"footdata-expyear\">Exp Year: 2013</td><td class=\"footdata-expid\">ExpID: 100929</td></tr>\\n<tr><td class=\"footdata-gender\">Gender: Male</td><td>\\xa0</td></tr>\\n<tr><td class=\"footdata-ageofexp\" colspan=\"2\">Age at time of experience: 25</td></tr>\\n<tr><td class=\"footdata-pubdate\">Published: Oct 27, 2017</td><td class=\"footdata-numviews\">Views: 3,722</td></tr>\\n<tr><td class=\"footdata-other-formats\" colspan=\"2\">[ <a href=\"exp.php?ID=100929&amp;format=pdf\" type=\"text/pdf\">View PDF (to print)</a> ] [ <a href=\"exp_pdf.php?ID=100929&amp;format=latex\">View LaTeX (for geeks)</a> ]\\n[\\xa0<a href=\"#\" onclick=\"expChangeColors(); return false;\">Swap\\xa0Dark/Light</a>\\xa0]\\n</td></tr>\\n<tr><td class=\"footdata-topic-list\" colspan=\"2\">DMT\\xa0(18) : Entities / Beings\\xa0(37), Mystical Experiences\\xa0(9), Small Group (2-9)\\xa0(17)</td></tr>\\n<!--  <img src=\"/images/new.gif\" alt=\"May\"> -->\\n</table>'}\n",
            "{'link': 'https://www.erowid.org/experiences/exp.php?ID=97363', 'substance': 'DMT & Damiana', 'dosechart': '<table class=\"dosechart\">\\n<tr>\\n<td align=\"right\" class=\"dosechart-time\">DOSE:<br/></td>\\n<td align=\"center\" class=\"dosechart-amount\">1 hit</td>\\n<td align=\"center\" class=\"dosechart-method\">smoked</td>\\n<td class=\"dosechart-substance\"><a href=\"/chemicals/dmt/\">DMT</a></td>\\n</tr>\\n<tr>\\n<td align=\"right\" class=\"dosechart-time\">\\xa0</td>\\n<td align=\"center\" class=\"dosechart-amount\">1 hit</td>\\n<td align=\"center\" class=\"dosechart-method\">smoked</td>\\n<td class=\"dosechart-substance\"><a href=\"/herbs/damiana/\">Damiana</a></td>\\n</tr>\\n</table>', 'bodyweight': '<table class=\"bodyweight\">\\n<tr>\\n<td class=\"bodyweight-title\">BODY WEIGHT:</td>\\n<td class=\"bodyweight-amount\">150 lb</td>\\n</tr>\\n</table>', 'footdata': '<table class=\"footdata\">\\n<tr><td class=\"footdata-expyear\">Exp Year: 2010</td><td class=\"footdata-expid\">ExpID: 97363</td></tr>\\n<tr><td class=\"footdata-gender\">Gender: Male</td><td>\\xa0</td></tr>\\n<tr><td class=\"footdata-ageofexp\" colspan=\"2\">Age at time of experience: 21</td></tr>\\n<tr><td class=\"footdata-pubdate\">Published: Oct 26, 2017</td><td class=\"footdata-numviews\">Views: 4,472</td></tr>\\n<tr><td class=\"footdata-other-formats\" colspan=\"2\">[ <a href=\"exp.php?ID=97363&amp;format=pdf\" type=\"text/pdf\">View PDF (to print)</a> ] [ <a href=\"exp_pdf.php?ID=97363&amp;format=latex\">View LaTeX (for geeks)</a> ]\\n[\\xa0<a href=\"#\" onclick=\"expChangeColors(); return false;\">Swap\\xa0Dark/Light</a>\\xa0]\\n</td></tr>\\n<tr><td class=\"footdata-topic-list\" colspan=\"2\">DMT\\xa0(18) : Combinations\\xa0(3), Hangover / Days After\\xa0(46), Difficult Experiences\\xa0(5), Small Group (2-9)\\xa0(17)</td></tr>\\n<!--  <img src=\"/images/new.gif\" alt=\"May\"> -->\\n</table>'}\n",
            "{'link': 'https://www.erowid.org/experiences/exp.php?ID=110185', 'substance': 'DMT', 'dosechart': '<table class=\"dosechart\">\\n<tr>\\n<td align=\"right\" class=\"dosechart-time\">DOSE:<br/></td>\\n<td align=\"center\" class=\"dosechart-amount\">50 mg</td>\\n<td align=\"center\" class=\"dosechart-method\">smoked</td>\\n<td class=\"dosechart-substance\"><a href=\"/chemicals/dmt/\">DMT</a></td>\\n<td class=\"dosechart-form\">(powder / crystals)</td>\\n</tr>\\n</table>', 'bodyweight': '<table class=\"bodyweight\">\\n<tr>\\n<td class=\"bodyweight-title\">BODY WEIGHT:</td>\\n<td class=\"bodyweight-amount\">160 lb</td>\\n</tr>\\n</table>', 'footdata': '<table class=\"footdata\">\\n<tr><td class=\"footdata-expyear\">Exp Year: 2017</td><td class=\"footdata-expid\">ExpID: 110185</td></tr>\\n<tr><td class=\"footdata-gender\">Gender: Male</td><td>\\xa0</td></tr>\\n<tr><td class=\"footdata-ageofexp\" colspan=\"2\">Age at time of experience: 25</td></tr>\\n<tr><td class=\"footdata-pubdate\">Published: Oct 15, 2017</td><td class=\"footdata-numviews\">Views: 14,112</td></tr>\\n<tr><td class=\"footdata-other-formats\" colspan=\"2\">[ <a href=\"exp.php?ID=110185&amp;format=pdf\" type=\"text/pdf\">View PDF (to print)</a> ] [ <a href=\"exp_pdf.php?ID=110185&amp;format=latex\">View LaTeX (for geeks)</a> ]\\n[\\xa0<a href=\"#\" onclick=\"expChangeColors(); return false;\">Swap\\xa0Dark/Light</a>\\xa0]\\n</td></tr>\\n<tr><td class=\"footdata-topic-list\" colspan=\"2\">DMT\\xa0(18) : Alone\\xa0(16), Preparation / Recipes\\xa0(30)</td></tr>\\n<!--  <img src=\"/images/new.gif\" alt=\"May\"> -->\\n</table>'}\n",
            "{'link': 'https://www.erowid.org/experiences/exp.php?ID=108821', 'substance': 'DMT', 'dosechart': '<table class=\"dosechart\">\\n<tr>\\n<td align=\"right\" class=\"dosechart-time\">DOSE:<br/></td>\\n<td align=\"center\" class=\"dosechart-amount\">1 hit</td>\\n<td align=\"center\" class=\"dosechart-method\">vaporized</td>\\n<td class=\"dosechart-substance\"><a href=\"/chemicals/dmt/\">DMT</a></td>\\n<td class=\"dosechart-form\">(powder / crystals)</td>\\n</tr>\\n</table>', 'bodyweight': '<table class=\"bodyweight\">\\n<tr>\\n<td class=\"bodyweight-title\">BODY WEIGHT:</td>\\n<td class=\"bodyweight-amount\">240 lb</td>\\n</tr>\\n</table>', 'footdata': '<table class=\"footdata\">\\n<tr><td class=\"footdata-expyear\">Exp Year: 2016</td><td class=\"footdata-expid\">ExpID: 108821</td></tr>\\n<tr><td class=\"footdata-gender\">Gender: Male</td><td>\\xa0</td></tr>\\n<tr><td class=\"footdata-ageofexp\" colspan=\"2\">Age at time of experience: 48</td></tr>\\n<tr><td class=\"footdata-pubdate\">Published: Oct 10, 2017</td><td class=\"footdata-numviews\">Views: 7,556</td></tr>\\n<tr><td class=\"footdata-other-formats\" colspan=\"2\">[ <a href=\"exp.php?ID=108821&amp;format=pdf\" type=\"text/pdf\">View PDF (to print)</a> ] [ <a href=\"exp_pdf.php?ID=108821&amp;format=latex\">View LaTeX (for geeks)</a> ]\\n[\\xa0<a href=\"#\" onclick=\"expChangeColors(); return false;\">Swap\\xa0Dark/Light</a>\\xa0]\\n</td></tr>\\n<tr><td class=\"footdata-topic-list\" colspan=\"2\">DMT\\xa0(18) : Glowing Experiences\\xa0(4), Personal Preparation\\xa0(45), General\\xa0(1), Small Group (2-9)\\xa0(17)</td></tr>\\n<!--  <img src=\"/images/new.gif\" alt=\"May\"> -->\\n</table>'}\n",
            "{'link': 'https://www.erowid.org/experiences/exp.php?ID=91964', 'substance': 'DMT', 'dosechart': '<table class=\"dosechart\">\\n<tr>\\n<td align=\"right\" class=\"dosechart-time\">DOSE:<br/></td>\\n<td align=\"center\" class=\"dosechart-amount\">25 mg</td>\\n<td align=\"center\" class=\"dosechart-method\">vaporized</td>\\n<td class=\"dosechart-substance\"><a href=\"/chemicals/dmt/\">DMT</a></td>\\n<td class=\"dosechart-form\">(extract)</td>\\n</tr>\\n</table>', 'bodyweight': '<table class=\"bodyweight\">\\n<tr>\\n<td class=\"bodyweight-title\">BODY WEIGHT:</td>\\n<td class=\"bodyweight-amount\">190 lb</td>\\n</tr>\\n</table>', 'footdata': '<table class=\"footdata\">\\n<tr><td class=\"footdata-expyear\">Exp Year: 2011</td><td class=\"footdata-expid\">ExpID: 91964</td></tr>\\n<tr><td class=\"footdata-gender\">Gender: Male</td><td>\\xa0</td></tr>\\n<tr><td class=\"footdata-ageofexp\" colspan=\"2\">Age at time of experience: 30</td></tr>\\n<tr><td class=\"footdata-pubdate\">Published: Aug 17, 2017</td><td class=\"footdata-numviews\">Views: 4,462</td></tr>\\n<tr><td class=\"footdata-other-formats\" colspan=\"2\">[ <a href=\"exp.php?ID=91964&amp;format=pdf\" type=\"text/pdf\">View PDF (to print)</a> ] [ <a href=\"exp_pdf.php?ID=91964&amp;format=latex\">View LaTeX (for geeks)</a> ]\\n[\\xa0<a href=\"#\" onclick=\"expChangeColors(); return false;\">Swap\\xa0Dark/Light</a>\\xa0]\\n</td></tr>\\n<tr><td class=\"footdata-topic-list\" colspan=\"2\">DMT\\xa0(18) : Entities / Beings\\xa0(37), General\\xa0(1), Alone\\xa0(16)</td></tr>\\n<!--  <img src=\"/images/new.gif\" alt=\"May\"> -->\\n</table>'}\n",
            "{'link': 'https://www.erowid.org/experiences/exp.php?ID=110432', 'substance': 'Pharmahuasca (Syrian Rue & DMT)', 'dosechart': '<table class=\"dosechart\">\\n<tr>\\n<td align=\"right\" class=\"dosechart-time\">DOSE:<br/> T+ 0:00</td>\\n<td align=\"center\" class=\"dosechart-amount\">10 g</td>\\n<td align=\"center\" class=\"dosechart-method\">oral</td>\\n<td class=\"dosechart-substance\"><a href=\"/plants/syrian_rue/\">Syrian Rue</a></td>\\n<td class=\"dosechart-form\">(tea)</td>\\n</tr>\\n<tr>\\n<td align=\"right\" class=\"dosechart-time\">\\xa0 T+ 0:45</td>\\n<td align=\"center\" class=\"dosechart-amount\">200 mg</td>\\n<td align=\"center\" class=\"dosechart-method\">oral</td>\\n<td class=\"dosechart-substance\"><a href=\"/chemicals/dmt/\">DMT</a></td>\\n<td class=\"dosechart-form\">(capsule)</td>\\n</tr>\\n<tr>\\n<td align=\"right\" class=\"dosechart-time\">\\xa0 T+ 1:00</td>\\n<td align=\"center\" class=\"dosechart-amount\">200 mg</td>\\n<td align=\"center\" class=\"dosechart-method\">oral</td>\\n<td class=\"dosechart-substance\"><a href=\"/chemicals/dmt/\">DMT</a></td>\\n<td class=\"dosechart-form\">(capsule)</td>\\n</tr>\\n<tr>\\n<td align=\"right\" class=\"dosechart-time\">\\xa0 T+ 0:00</td>\\n<td align=\"center\" class=\"dosechart-amount\">1 hit</td>\\n<td align=\"center\" class=\"dosechart-method\">vaporized</td>\\n<td class=\"dosechart-substance\"><a href=\"/chemicals/dmt/\">DMT</a></td>\\n<td class=\"dosechart-form\">\\xa0</td>\\n</tr>\\n<tr>\\n<td align=\"right\" class=\"dosechart-time\">\\xa0 T+ 24:00</td>\\n<td align=\"center\" class=\"dosechart-amount\">3 mg</td>\\n<td align=\"center\" class=\"dosechart-method\">oral</td>\\n<td class=\"dosechart-substance\"><a href=\"/smarts/melatonin/\">Melatonin</a></td>\\n<td class=\"dosechart-form\">\\xa0</td>\\n</tr>\\n</table>', 'bodyweight': '<table class=\"bodyweight\">\\n<tr>\\n<td class=\"bodyweight-title\">BODY WEIGHT:</td>\\n<td class=\"bodyweight-amount\">150 lb</td>\\n</tr>\\n</table>', 'footdata': '<table class=\"footdata\">\\n<tr><td class=\"footdata-expyear\">Exp Year: 2014</td><td class=\"footdata-expid\">ExpID: 110432</td></tr>\\n<tr><td class=\"footdata-gender\">Gender: Male</td><td>\\xa0</td></tr>\\n<tr><td class=\"footdata-ageofexp\" colspan=\"2\">Age at time of experience: 24</td></tr>\\n<tr><td class=\"footdata-pubdate\">Published: Jun 29, 2017</td><td class=\"footdata-numviews\">Views: 5,468</td></tr>\\n<tr><td class=\"footdata-other-formats\" colspan=\"2\">[ <a href=\"exp.php?ID=110432&amp;format=pdf\" type=\"text/pdf\">View PDF (to print)</a> ] [ <a href=\"exp_pdf.php?ID=110432&amp;format=latex\">View LaTeX (for geeks)</a> ]\\n[\\xa0<a href=\"#\" onclick=\"expChangeColors(); return false;\">Swap\\xa0Dark/Light</a>\\xa0]\\n</td></tr>\\n<tr><td class=\"footdata-topic-list\" colspan=\"2\">Yoga / Bodywork\\xa0(202), Pharmahuasca\\xa0(822), DMT\\xa0(18), Syrian Rue\\xa0(45) : Alone\\xa0(16), Multi-Day Experience\\xa0(13), Entities / Beings\\xa0(37), Combinations\\xa0(3)</td></tr>\\n<!--  <img src=\"/images/new.gif\" alt=\"May\"> -->\\n</table>'}\n",
            "{'link': 'https://www.erowid.org/experiences/exp.php?ID=81462', 'substance': 'Huasca Combo (Syrian Rue & DMT)', 'dosechart': '<table class=\"dosechart\">\\n<tr>\\n<td align=\"right\" class=\"dosechart-time\">DOSE:<br/> T+ 0:00</td>\\n<td align=\"center\" class=\"dosechart-amount\">3 g</td>\\n<td align=\"center\" class=\"dosechart-method\">oral</td>\\n<td class=\"dosechart-substance\"><a href=\"/plants/syrian_rue/\">Syrian Rue</a></td>\\n<td class=\"dosechart-form\">(extract)</td>\\n</tr>\\n<tr>\\n<td align=\"right\" class=\"dosechart-time\">\\xa0 T+ 0:40</td>\\n<td align=\"center\" class=\"dosechart-amount\">320 mg</td>\\n<td align=\"center\" class=\"dosechart-method\">oral</td>\\n<td class=\"dosechart-substance\"><a href=\"/chemicals/dmt/\">DMT</a></td>\\n<td class=\"dosechart-form\">(capsule)</td>\\n</tr>\\n</table>', 'bodyweight': '<table class=\"bodyweight\">\\n<tr>\\n<td class=\"bodyweight-title\">BODY WEIGHT:</td>\\n<td class=\"bodyweight-amount\">73 kg</td>\\n</tr>\\n</table>', 'footdata': '<table class=\"footdata\">\\n<tr><td class=\"footdata-expyear\">Exp Year: 2008</td><td class=\"footdata-expid\">ExpID: 81462</td></tr>\\n<tr><td class=\"footdata-gender\">Gender: Male</td><td>\\xa0</td></tr>\\n<tr><td class=\"footdata-ageofexp\" colspan=\"2\">Age at time of experience: 43</td></tr>\\n<tr><td class=\"footdata-pubdate\">Published: Feb 13, 2017</td><td class=\"footdata-numviews\">Views: 4,452</td></tr>\\n<tr><td class=\"footdata-other-formats\" colspan=\"2\">[ <a href=\"exp.php?ID=81462&amp;format=pdf\" type=\"text/pdf\">View PDF (to print)</a> ] [ <a href=\"exp_pdf.php?ID=81462&amp;format=latex\">View LaTeX (for geeks)</a> ]\\n[\\xa0<a href=\"#\" onclick=\"expChangeColors(); return false;\">Swap\\xa0Dark/Light</a>\\xa0]\\n</td></tr>\\n<tr><td class=\"footdata-topic-list\" colspan=\"2\">DMT\\xa0(18), Syrian Rue\\xa0(45), Huasca Combo\\xa0(269) : Alone\\xa0(16), Entities / Beings\\xa0(37), Difficult Experiences\\xa0(5), Combinations\\xa0(3)</td></tr>\\n<!--  <img src=\"/images/new.gif\" alt=\"May\"> -->\\n</table>'}\n",
            "{'link': 'https://www.erowid.org/experiences/exp.php?ID=101884', 'substance': 'DMT', 'dosechart': '<table class=\"dosechart\">\\n<tr>\\n<td align=\"right\" class=\"dosechart-time\">DOSE:<br/></td>\\n<td align=\"center\" class=\"dosechart-amount\">\\xa0 repeated</td>\\n<td align=\"center\" class=\"dosechart-method\">vaporized</td>\\n<td class=\"dosechart-substance\"><a href=\"/chemicals/dmt/\">DMT</a></td>\\n</tr>\\n</table>', 'bodyweight': '<table class=\"bodyweight\">\\n<tr>\\n<td class=\"bodyweight-title\">BODY WEIGHT:</td>\\n<td class=\"bodyweight-amount\">240 lb</td>\\n</tr>\\n</table>', 'footdata': '<table class=\"footdata\">\\n<tr><td class=\"footdata-expyear\">Exp Year: 2013</td><td class=\"footdata-expid\">ExpID: 101884</td></tr>\\n<tr><td class=\"footdata-gender\">Gender: Female</td><td>\\xa0</td></tr>\\n<tr><td class=\"footdata-ageofexp\" colspan=\"2\">Age at time of experience: 35</td></tr>\\n<tr><td class=\"footdata-pubdate\">Published: Dec 11, 2016</td><td class=\"footdata-numviews\">Views: 6,830</td></tr>\\n<tr><td class=\"footdata-other-formats\" colspan=\"2\">[ <a href=\"exp.php?ID=101884&amp;format=pdf\" type=\"text/pdf\">View PDF (to print)</a> ] [ <a href=\"exp_pdf.php?ID=101884&amp;format=latex\">View LaTeX (for geeks)</a> ]\\n[\\xa0<a href=\"#\" onclick=\"expChangeColors(); return false;\">Swap\\xa0Dark/Light</a>\\xa0]\\n</td></tr>\\n<tr><td class=\"footdata-topic-list\" colspan=\"2\">DMT\\xa0(18) : Glowing Experiences\\xa0(4), Entities / Beings\\xa0(37), Guides / Sitters\\xa0(39), Multi-Day Experience\\xa0(13), Relationships\\xa0(44), Personal Preparation\\xa0(45), Therapeutic Intent or Outcome\\xa0(49), Retrospective / Summary\\xa0(11), Small Group (2-9)\\xa0(17)</td></tr>\\n<!--  <img src=\"/images/new.gif\" alt=\"May\"> -->\\n</table>'}\n",
            "{'link': 'https://www.erowid.org/experiences/exp.php?ID=108077', 'substance': 'DOC, Clonazolam & DMT', 'dosechart': '<table class=\"dosechart\">\\n<tr>\\n<td align=\"right\" class=\"dosechart-time\">DOSE:<br/> T+ 0:00</td>\\n<td align=\"center\" class=\"dosechart-amount\">7 mg</td>\\n<td align=\"center\" class=\"dosechart-method\">\\xa0</td>\\n<td class=\"dosechart-substance\"><a href=\"/chemicals/doc/\">DOC</a></td>\\n</tr>\\n<tr>\\n<td align=\"right\" class=\"dosechart-time\">\\xa0 T+ 0:00</td>\\n<td align=\"center\" class=\"dosechart-amount\">1 mg</td>\\n<td align=\"center\" class=\"dosechart-method\">\\xa0</td>\\n<td class=\"dosechart-substance\"><a href=\"/pharms/benzodiazepine/\">Clonazolam</a></td>\\n</tr>\\n<tr>\\n<td align=\"right\" class=\"dosechart-time\">\\xa0 T+ 1:45</td>\\n<td align=\"center\" class=\"dosechart-amount\">3 mg</td>\\n<td align=\"center\" class=\"dosechart-method\">IM</td>\\n<td class=\"dosechart-substance\"><a href=\"/chemicals/doc/\">DOC</a></td>\\n</tr>\\n<tr>\\n<td align=\"right\" class=\"dosechart-time\">\\xa0 T+ 0:00</td>\\n<td align=\"center\" class=\"dosechart-amount\">23 mg</td>\\n<td align=\"center\" class=\"dosechart-method\">vaporized</td>\\n<td class=\"dosechart-substance\"><a href=\"/chemicals/dmt/\">DMT</a></td>\\n</tr>\\n</table>', 'bodyweight': '<table class=\"bodyweight\">\\n<tr>\\n<td class=\"bodyweight-title\">BODY WEIGHT:</td>\\n<td class=\"bodyweight-amount\">150 lb</td>\\n</tr>\\n</table>', 'footdata': '<table class=\"footdata\">\\n<tr><td class=\"footdata-expyear\">Exp Year: 2016</td><td class=\"footdata-expid\">ExpID: 108077</td></tr>\\n<tr><td class=\"footdata-gender\">Gender: Male</td><td>\\xa0</td></tr>\\n<tr><td class=\"footdata-ageofexp\" colspan=\"2\">Age at time of experience: 39</td></tr>\\n<tr><td class=\"footdata-pubdate\">Published: Nov 3, 2016</td><td class=\"footdata-numviews\">Views: 4,926</td></tr>\\n<tr><td class=\"footdata-other-formats\" colspan=\"2\">[ <a href=\"exp.php?ID=108077&amp;format=pdf\" type=\"text/pdf\">View PDF (to print)</a> ] [ <a href=\"exp_pdf.php?ID=108077&amp;format=latex\">View LaTeX (for geeks)</a> ]\\n[\\xa0<a href=\"#\" onclick=\"expChangeColors(); return false;\">Swap\\xa0Dark/Light</a>\\xa0]\\n</td></tr>\\n<tr><td class=\"footdata-topic-list\" colspan=\"2\">DMT\\xa0(18), DOC\\xa0(357) : Small Group (2-9)\\xa0(17), Entities / Beings\\xa0(37), Combinations\\xa0(3)</td></tr>\\n<!--  <img src=\"/images/new.gif\" alt=\"May\"> -->\\n</table>'}\n",
            "{'link': 'https://www.erowid.org/experiences/exp.php?ID=94599', 'substance': 'DMT', 'dosechart': '<table class=\"dosechart\">\\n<tr>\\n<td align=\"right\" class=\"dosechart-time\">DOSE:<br/></td>\\n<td align=\"center\" class=\"dosechart-amount\">150 mg</td>\\n<td align=\"center\" class=\"dosechart-method\">smoked</td>\\n<td class=\"dosechart-substance\"><a href=\"/chemicals/dmt/\">DMT</a></td>\\n<td class=\"dosechart-form\">(powder / crystals)</td>\\n</tr>\\n</table>', 'bodyweight': '<table class=\"bodyweight\">\\n<tr>\\n<td class=\"bodyweight-title\">BODY WEIGHT:</td>\\n<td class=\"bodyweight-amount\">180 lb</td>\\n</tr>\\n</table>', 'footdata': '<table class=\"footdata\">\\n<tr><td class=\"footdata-expyear\">Exp Year: 2012</td><td class=\"footdata-expid\">ExpID: 94599</td></tr>\\n<tr><td class=\"footdata-gender\">Gender: Male</td><td>\\xa0</td></tr>\\n<tr><td class=\"footdata-ageofexp\" colspan=\"2\">Age at time of experience: 21</td></tr>\\n<tr><td class=\"footdata-pubdate\">Published: Oct 29, 2016</td><td class=\"footdata-numviews\">Views: 8,076</td></tr>\\n<tr><td class=\"footdata-other-formats\" colspan=\"2\">[ <a href=\"exp.php?ID=94599&amp;format=pdf\" type=\"text/pdf\">View PDF (to print)</a> ] [ <a href=\"exp_pdf.php?ID=94599&amp;format=latex\">View LaTeX (for geeks)</a> ]\\n[\\xa0<a href=\"#\" onclick=\"expChangeColors(); return false;\">Swap\\xa0Dark/Light</a>\\xa0]\\n</td></tr>\\n<tr><td class=\"footdata-topic-list\" colspan=\"2\">DMT\\xa0(18) : Small Group (2-9)\\xa0(17), Entities / Beings\\xa0(37), Glowing Experiences\\xa0(4), First Times\\xa0(2)</td></tr>\\n<!--  <img src=\"/images/new.gif\" alt=\"May\"> -->\\n</table>'}\n",
            "{'link': 'https://www.erowid.org/experiences/exp.php?ID=90113', 'substance': 'DMT', 'dosechart': '<table class=\"dosechart\">\\n<tr>\\n<td align=\"right\" class=\"dosechart-time\">DOSE:<br/></td>\\n<td align=\"center\" class=\"dosechart-amount\">\\xa0 </td>\\n<td align=\"center\" class=\"dosechart-method\">smoked</td>\\n<td class=\"dosechart-substance\"><a href=\"/chemicals/dmt/\">DMT</a></td>\\n</tr>\\n</table>', 'bodyweight': None, 'footdata': '<table class=\"footdata\">\\n<tr><td class=\"footdata-expyear\">Exp Year: 2011</td><td class=\"footdata-expid\">ExpID: 90113</td></tr>\\n<tr><td class=\"footdata-gender\">Gender: Female</td><td>\\xa0</td></tr>\\n<tr><td class=\"footdata-ageofexp\" colspan=\"2\">Age at time of experience: 22</td></tr>\\n<tr><td class=\"footdata-pubdate\">Published: Feb 10, 2016</td><td class=\"footdata-numviews\">Views: 9,512</td></tr>\\n<tr><td class=\"footdata-other-formats\" colspan=\"2\">[ <a href=\"exp.php?ID=90113&amp;format=pdf\" type=\"text/pdf\">View PDF (to print)</a> ] [ <a href=\"exp_pdf.php?ID=90113&amp;format=latex\">View LaTeX (for geeks)</a> ]\\n[\\xa0<a href=\"#\" onclick=\"expChangeColors(); return false;\">Swap\\xa0Dark/Light</a>\\xa0]\\n</td></tr>\\n<tr><td class=\"footdata-topic-list\" colspan=\"2\">DMT\\xa0(18) : Relationships\\xa0(44), Therapeutic Intent or Outcome\\xa0(49), General\\xa0(1), Small Group (2-9)\\xa0(17)</td></tr>\\n<!--  <img src=\"/images/new.gif\" alt=\"May\"> -->\\n</table>'}\n",
            "{'link': 'https://www.erowid.org/experiences/exp.php?ID=90263', 'substance': 'DMT & Cannabis', 'dosechart': '<table class=\"dosechart\">\\n<tr>\\n<td align=\"right\" class=\"dosechart-time\">DOSE:<br/></td>\\n<td align=\"center\" class=\"dosechart-amount\">\\xa0 </td>\\n<td align=\"center\" class=\"dosechart-method\">smoked</td>\\n<td class=\"dosechart-substance\"><a href=\"/plants/cannabis/\">Cannabis</a></td>\\n<td class=\"dosechart-form\">(plant material)</td>\\n</tr>\\n<tr>\\n<td align=\"right\" class=\"dosechart-time\">\\xa0</td>\\n<td align=\"center\" class=\"dosechart-amount\">\\xa0 </td>\\n<td align=\"center\" class=\"dosechart-method\">vaporized</td>\\n<td class=\"dosechart-substance\"><a href=\"/chemicals/dmt/\">DMT</a></td>\\n<td class=\"dosechart-form\">(powder / crystals)</td>\\n</tr>\\n</table>', 'bodyweight': '<table class=\"bodyweight\">\\n<tr>\\n<td class=\"bodyweight-title\">BODY WEIGHT:</td>\\n<td class=\"bodyweight-amount\">61 kg</td>\\n</tr>\\n</table>', 'footdata': '<table class=\"footdata\">\\n<tr><td class=\"footdata-expyear\">Exp Year: 2011</td><td class=\"footdata-expid\">ExpID: 90263</td></tr>\\n<tr><td class=\"footdata-gender\">Gender: Male</td><td>\\xa0</td></tr>\\n<tr><td class=\"footdata-ageofexp\" colspan=\"2\">Age at time of experience: 22</td></tr>\\n<tr><td class=\"footdata-pubdate\">Published: Feb 7, 2016</td><td class=\"footdata-numviews\">Views: 12,459</td></tr>\\n<tr><td class=\"footdata-other-formats\" colspan=\"2\">[ <a href=\"exp.php?ID=90263&amp;format=pdf\" type=\"text/pdf\">View PDF (to print)</a> ] [ <a href=\"exp_pdf.php?ID=90263&amp;format=latex\">View LaTeX (for geeks)</a> ]\\n[\\xa0<a href=\"#\" onclick=\"expChangeColors(); return false;\">Swap\\xa0Dark/Light</a>\\xa0]\\n</td></tr>\\n<tr><td class=\"footdata-topic-list\" colspan=\"2\">DMT\\xa0(18) : First Times\\xa0(2), Glowing Experiences\\xa0(4), Entities / Beings\\xa0(37), Small Group (2-9)\\xa0(17)</td></tr>\\n<!--  <img src=\"/images/new.gif\" alt=\"May\"> -->\\n</table>'}\n",
            "{'link': 'https://www.erowid.org/experiences/exp.php?ID=88428', 'substance': 'LSD & DMT', 'dosechart': '<table class=\"dosechart\">\\n<tr>\\n<td align=\"right\" class=\"dosechart-time\">DOSE:<br/></td>\\n<td align=\"center\" class=\"dosechart-amount\">\\xa0 </td>\\n<td align=\"center\" class=\"dosechart-method\">\\xa0</td>\\n<td class=\"dosechart-substance\"><a href=\"/chemicals/lsd/\">LSD</a></td>\\n<td class=\"dosechart-form\">\\xa0</td>\\n</tr>\\n<tr>\\n<td align=\"right\" class=\"dosechart-time\">\\xa0</td>\\n<td align=\"center\" class=\"dosechart-amount\">70 mg</td>\\n<td align=\"center\" class=\"dosechart-method\">vaporized</td>\\n<td class=\"dosechart-substance\"><a href=\"/chemicals/dmt/\">DMT</a></td>\\n<td class=\"dosechart-form\">(powder / crystals)</td>\\n</tr>\\n</table>', 'bodyweight': '<table class=\"bodyweight\">\\n<tr>\\n<td class=\"bodyweight-title\">BODY WEIGHT:</td>\\n<td class=\"bodyweight-amount\">170 lb</td>\\n</tr>\\n</table>', 'footdata': '<table class=\"footdata\">\\n<tr><td class=\"footdata-expyear\">Exp Year: 2010</td><td class=\"footdata-expid\">ExpID: 88428</td></tr>\\n<tr><td class=\"footdata-gender\">Gender: Male</td><td>\\xa0</td></tr>\\n<tr><td class=\"footdata-ageofexp\" colspan=\"2\">Age at time of experience: 16</td></tr>\\n<tr><td class=\"footdata-pubdate\">Published: Feb 7, 2016</td><td class=\"footdata-numviews\">Views: 11,897</td></tr>\\n<tr><td class=\"footdata-other-formats\" colspan=\"2\">[ <a href=\"exp.php?ID=88428&amp;format=pdf\" type=\"text/pdf\">View PDF (to print)</a> ] [ <a href=\"exp_pdf.php?ID=88428&amp;format=latex\">View LaTeX (for geeks)</a> ]\\n[\\xa0<a href=\"#\" onclick=\"expChangeColors(); return false;\">Swap\\xa0Dark/Light</a>\\xa0]\\n</td></tr>\\n<tr><td class=\"footdata-topic-list\" colspan=\"2\">DMT\\xa0(18) : First Times\\xa0(2), Glowing Experiences\\xa0(4), Therapeutic Intent or Outcome\\xa0(49), Mystical Experiences\\xa0(9), Small Group (2-9)\\xa0(17)</td></tr>\\n<!--  <img src=\"/images/new.gif\" alt=\"May\"> -->\\n</table>'}\n",
            "{'link': 'https://www.erowid.org/experiences/exp.php?ID=107582', 'substance': 'Changa (Smoked B. caapi & DMT)', 'dosechart': '<table class=\"dosechart\">\\n<tr>\\n<td align=\"right\" class=\"dosechart-time\">DOSE:<br/></td>\\n<td align=\"center\" class=\"dosechart-amount\">3 hits</td>\\n<td align=\"center\" class=\"dosechart-method\">smoked</td>\\n<td class=\"dosechart-substance\">Changa</td>\\n<td class=\"dosechart-form\">(plant material)</td>\\n</tr>\\n</table>', 'bodyweight': '<table class=\"bodyweight\">\\n<tr>\\n<td class=\"bodyweight-title\">BODY WEIGHT:</td>\\n<td class=\"bodyweight-amount\">70 kg</td>\\n</tr>\\n</table>', 'footdata': '<table class=\"footdata\">\\n<tr><td class=\"footdata-expyear\">Exp Year: 2015</td><td class=\"footdata-expid\">ExpID: 107582</td></tr>\\n<tr><td class=\"footdata-gender\">Gender: Male</td><td>\\xa0</td></tr>\\n<tr><td class=\"footdata-ageofexp\" colspan=\"2\">Age at time of experience: 31</td></tr>\\n<tr><td class=\"footdata-pubdate\">Published: Jan 8, 2016</td><td class=\"footdata-numviews\">Views: 9,167</td></tr>\\n<tr><td class=\"footdata-other-formats\" colspan=\"2\">[ <a href=\"exp.php?ID=107582&amp;format=pdf\" type=\"text/pdf\">View PDF (to print)</a> ] [ <a href=\"exp_pdf.php?ID=107582&amp;format=latex\">View LaTeX (for geeks)</a> ]\\n[\\xa0<a href=\"#\" onclick=\"expChangeColors(); return false;\">Swap\\xa0Dark/Light</a>\\xa0]\\n</td></tr>\\n<tr><td class=\"footdata-topic-list\" colspan=\"2\">DMT\\xa0(18), Banisteriopsis caapi\\xa0(169), Changa\\xa0(816) : Combinations\\xa0(3), First Times\\xa0(2), General\\xa0(1), Music Discussion\\xa0(22), Small Group (2-9)\\xa0(17)</td></tr>\\n<!--  <img src=\"/images/new.gif\" alt=\"May\"> -->\\n</table>'}\n",
            "{'link': 'https://www.erowid.org/experiences/exp.php?ID=100109', 'substance': 'Mushrooms, DMT, & Cannabis', 'dosechart': '<table class=\"dosechart\">\\n<tr>\\n<td align=\"right\" class=\"dosechart-time\">DOSE:<br/> T+ 0:00</td>\\n<td align=\"center\" class=\"dosechart-amount\">3.5 g</td>\\n<td align=\"center\" class=\"dosechart-method\">oral</td>\\n<td class=\"dosechart-substance\"><a href=\"/plants/mushrooms/\">Mushrooms</a></td>\\n<td class=\"dosechart-form\">(dried)</td>\\n</tr>\\n<tr>\\n<td align=\"right\" class=\"dosechart-time\">\\xa0 T+ 0:30</td>\\n<td align=\"center\" class=\"dosechart-amount\">\\xa0 </td>\\n<td align=\"center\" class=\"dosechart-method\">smoked</td>\\n<td class=\"dosechart-substance\"><a href=\"/plants/cannabis/\">Cannabis - Hash</a></td>\\n<td class=\"dosechart-form\">(plant material)</td>\\n</tr>\\n<tr>\\n<td align=\"right\" class=\"dosechart-time\">\\xa0 T+ 3:00</td>\\n<td align=\"center\" class=\"dosechart-amount\">4 hits</td>\\n<td align=\"center\" class=\"dosechart-method\">smoked</td>\\n<td class=\"dosechart-substance\"><a href=\"/chemicals/dmt/\">DMT</a></td>\\n<td class=\"dosechart-form\">(powder / crystals)</td>\\n</tr>\\n</table>', 'bodyweight': '<table class=\"bodyweight\">\\n<tr>\\n<td class=\"bodyweight-title\">BODY WEIGHT:</td>\\n<td class=\"bodyweight-amount\">170 lb</td>\\n</tr>\\n</table>', 'footdata': '<table class=\"footdata\">\\n<tr><td class=\"footdata-expyear\">Exp Year: 2012</td><td class=\"footdata-expid\">ExpID: 100109</td></tr>\\n<tr><td class=\"footdata-gender\">Gender: Male</td><td>\\xa0</td></tr>\\n<tr><td class=\"footdata-ageofexp\" colspan=\"2\">Age at time of experience: 20</td></tr>\\n<tr><td class=\"footdata-pubdate\">Published: Dec 28, 2015</td><td class=\"footdata-numviews\">Views: 7,763</td></tr>\\n<tr><td class=\"footdata-other-formats\" colspan=\"2\">[ <a href=\"exp.php?ID=100109&amp;format=pdf\" type=\"text/pdf\">View PDF (to print)</a> ] [ <a href=\"exp_pdf.php?ID=100109&amp;format=latex\">View LaTeX (for geeks)</a> ]\\n[\\xa0<a href=\"#\" onclick=\"expChangeColors(); return false;\">Swap\\xa0Dark/Light</a>\\xa0]\\n</td></tr>\\n<tr><td class=\"footdata-topic-list\" colspan=\"2\">Mushrooms\\xa0(39), DMT\\xa0(18) : Small Group (2-9)\\xa0(17), Mystical Experiences\\xa0(9), Glowing Experiences\\xa0(4), Combinations\\xa0(3)</td></tr>\\n<!--  <img src=\"/images/new.gif\" alt=\"May\"> -->\\n</table>'}\n",
            "{'link': 'https://www.erowid.org/experiences/exp.php?ID=97591', 'substance': 'DMT', 'dosechart': '<table class=\"dosechart\">\\n<tr>\\n<td align=\"right\" class=\"dosechart-time\">DOSE:<br/></td>\\n<td align=\"center\" class=\"dosechart-amount\">\\xa0 </td>\\n<td align=\"center\" class=\"dosechart-method\">smoked</td>\\n<td class=\"dosechart-substance\"><a href=\"/chemicals/dmt/\">DMT</a></td>\\n</tr>\\n</table>', 'bodyweight': '<table class=\"bodyweight\">\\n<tr>\\n<td class=\"bodyweight-title\">BODY WEIGHT:</td>\\n<td class=\"bodyweight-amount\">160 lb</td>\\n</tr>\\n</table>', 'footdata': '<table class=\"footdata\">\\n<tr><td class=\"footdata-expyear\">Exp Year: 2012</td><td class=\"footdata-expid\">ExpID: 97591</td></tr>\\n<tr><td class=\"footdata-gender\">Gender: Male</td><td>\\xa0</td></tr>\\n<tr><td class=\"footdata-ageofexp\" colspan=\"2\">Age at time of experience: 29</td></tr>\\n<tr><td class=\"footdata-pubdate\">Published: May 13, 2015</td><td class=\"footdata-numviews\">Views: 9,364</td></tr>\\n<tr><td class=\"footdata-other-formats\" colspan=\"2\">[ <a href=\"exp.php?ID=97591&amp;format=pdf\" type=\"text/pdf\">View PDF (to print)</a> ] [ <a href=\"exp_pdf.php?ID=97591&amp;format=latex\">View LaTeX (for geeks)</a> ]\\n[\\xa0<a href=\"#\" onclick=\"expChangeColors(); return false;\">Swap\\xa0Dark/Light</a>\\xa0]\\n</td></tr>\\n<tr><td class=\"footdata-topic-list\" colspan=\"2\">DMT\\xa0(18) : Entities / Beings\\xa0(37), General\\xa0(1), Alone\\xa0(16)</td></tr>\\n<!--  <img src=\"/images/new.gif\" alt=\"May\"> -->\\n</table>'}\n",
            "{'link': 'https://www.erowid.org/experiences/exp.php?ID=90557', 'substance': 'DMT', 'dosechart': '<table class=\"dosechart\">\\n<tr>\\n<td align=\"right\" class=\"dosechart-time\">DOSE:<br/></td>\\n<td align=\"center\" class=\"dosechart-amount\">100 mg</td>\\n<td align=\"center\" class=\"dosechart-method\">vaporized</td>\\n<td class=\"dosechart-substance\"><a href=\"/chemicals/dmt/\">DMT</a></td>\\n<td class=\"dosechart-form\">(powder / crystals)</td>\\n</tr>\\n</table>', 'bodyweight': None, 'footdata': '<table class=\"footdata\">\\n<tr><td class=\"footdata-expyear\">Exp Year: 2009</td><td class=\"footdata-expid\">ExpID: 90557</td></tr>\\n<tr><td class=\"footdata-gender\">Gender: Not Specified</td><td>\\xa0</td></tr>\\n<tr><td class=\"footdata-ageofexp\" colspan=\"2\">Age at time of experience: Not Given</td></tr>\\n<tr><td class=\"footdata-pubdate\">Published: Mar 17, 2014</td><td class=\"footdata-numviews\">Views: 15,630</td></tr>\\n<tr><td class=\"footdata-other-formats\" colspan=\"2\">[ <a href=\"exp.php?ID=90557&amp;format=pdf\" type=\"text/pdf\">View PDF (to print)</a> ] [ <a href=\"exp_pdf.php?ID=90557&amp;format=latex\">View LaTeX (for geeks)</a> ]\\n[\\xa0<a href=\"#\" onclick=\"expChangeColors(); return false;\">Swap\\xa0Dark/Light</a>\\xa0]\\n</td></tr>\\n<tr><td class=\"footdata-topic-list\" colspan=\"2\">DMT\\xa0(18) : General\\xa0(1), Mystical Experiences\\xa0(9), Music Discussion\\xa0(22), Entities / Beings\\xa0(37), Small Group (2-9)\\xa0(17)</td></tr>\\n<!--  <img src=\"/images/new.gif\" alt=\"May\"> -->\\n</table>'}\n",
            "{'link': 'https://www.erowid.org/experiences/exp.php?ID=101998', 'substance': 'DMT', 'dosechart': '<table class=\"dosechart\">\\n<tr>\\n<td align=\"right\" class=\"dosechart-time\">DOSE:<br/></td>\\n<td align=\"center\" class=\"dosechart-amount\">\\xa0 repeated</td>\\n<td align=\"center\" class=\"dosechart-method\">smoked</td>\\n<td class=\"dosechart-substance\"><a href=\"/chemicals/dmt/\">DMT</a></td>\\n</tr>\\n</table>', 'bodyweight': None, 'footdata': '<table class=\"footdata\">\\n<tr><td class=\"footdata-expyear\">Exp Year: 2013</td><td class=\"footdata-expid\">ExpID: 101998</td></tr>\\n<tr><td class=\"footdata-gender\">Gender: Female</td><td>\\xa0</td></tr>\\n<tr><td class=\"footdata-ageofexp\" colspan=\"2\">Age at time of experience: 22</td></tr>\\n<tr><td class=\"footdata-pubdate\">Published: Jan 28, 2014</td><td class=\"footdata-numviews\">Views: 21,572</td></tr>\\n<tr><td class=\"footdata-other-formats\" colspan=\"2\">[ <a href=\"exp.php?ID=101998&amp;format=pdf\" type=\"text/pdf\">View PDF (to print)</a> ] [ <a href=\"exp_pdf.php?ID=101998&amp;format=latex\">View LaTeX (for geeks)</a> ]\\n[\\xa0<a href=\"#\" onclick=\"expChangeColors(); return false;\">Swap\\xa0Dark/Light</a>\\xa0]\\n</td></tr>\\n<tr><td class=\"footdata-topic-list\" colspan=\"2\">DMT\\xa0(18) : General\\xa0(1), Entities / Beings\\xa0(37), Multi-Day Experience\\xa0(13), Alone\\xa0(16)</td></tr>\\n<!--  <img src=\"/images/new.gif\" alt=\"May\"> -->\\n</table>'}\n",
            "{'link': 'https://www.erowid.org/experiences/exp.php?ID=87447', 'substance': 'DMT', 'dosechart': '<table class=\"dosechart\">\\n<tr>\\n<td align=\"right\" class=\"dosechart-time\">DOSE:<br/></td>\\n<td align=\"center\" class=\"dosechart-amount\">30 mg</td>\\n<td align=\"center\" class=\"dosechart-method\">smoked</td>\\n<td class=\"dosechart-substance\"><a href=\"/chemicals/dmt/\">DMT</a></td>\\n</tr>\\n</table>', 'bodyweight': '<table class=\"bodyweight\">\\n<tr>\\n<td class=\"bodyweight-title\">BODY WEIGHT:</td>\\n<td class=\"bodyweight-amount\">150 lb</td>\\n</tr>\\n</table>', 'footdata': '<table class=\"footdata\">\\n<tr><td class=\"footdata-expyear\">Exp Year: 2010</td><td class=\"footdata-expid\">ExpID: 87447</td></tr>\\n<tr><td class=\"footdata-gender\">Gender: Male</td><td>\\xa0</td></tr>\\n<tr><td class=\"footdata-ageofexp\" colspan=\"2\">Age at time of experience: 18</td></tr>\\n<tr><td class=\"footdata-pubdate\">Published: Jan 14, 2014</td><td class=\"footdata-numviews\">Views: 8,549</td></tr>\\n<tr><td class=\"footdata-other-formats\" colspan=\"2\">[ <a href=\"exp.php?ID=87447&amp;format=pdf\" type=\"text/pdf\">View PDF (to print)</a> ] [ <a href=\"exp_pdf.php?ID=87447&amp;format=latex\">View LaTeX (for geeks)</a> ]\\n[\\xa0<a href=\"#\" onclick=\"expChangeColors(); return false;\">Swap\\xa0Dark/Light</a>\\xa0]\\n</td></tr>\\n<tr><td class=\"footdata-topic-list\" colspan=\"2\">DMT\\xa0(18) : Mystical Experiences\\xa0(9), Entities / Beings\\xa0(37), Small Group (2-9)\\xa0(17)</td></tr>\\n<!--  <img src=\"/images/new.gif\" alt=\"May\"> -->\\n</table>'}\n",
            "{'link': 'https://www.erowid.org/experiences/exp.php?ID=80512', 'substance': 'DMT', 'dosechart': '<table class=\"dosechart\">\\n<tr>\\n<td align=\"right\" class=\"dosechart-time\">DOSE:<br/></td>\\n<td align=\"center\" class=\"dosechart-amount\">40 mg</td>\\n<td align=\"center\" class=\"dosechart-method\">smoked</td>\\n<td class=\"dosechart-substance\"><a href=\"/chemicals/dmt/\">DMT</a></td>\\n</tr>\\n<tr>\\n<td align=\"right\" class=\"dosechart-time\">\\xa0</td>\\n<td align=\"center\" class=\"dosechart-amount\">55 mg</td>\\n<td align=\"center\" class=\"dosechart-method\">smoked</td>\\n<td class=\"dosechart-substance\"><a href=\"/chemicals/dmt/\">DMT</a></td>\\n</tr>\\n</table>', 'bodyweight': '<table class=\"bodyweight\">\\n<tr>\\n<td class=\"bodyweight-title\">BODY WEIGHT:</td>\\n<td class=\"bodyweight-amount\">175 lb</td>\\n</tr>\\n</table>', 'footdata': '<table class=\"footdata\">\\n<tr><td class=\"footdata-expyear\">Exp Year: 2009</td><td class=\"footdata-expid\">ExpID: 80512</td></tr>\\n<tr><td class=\"footdata-gender\">Gender: Female</td><td>\\xa0</td></tr>\\n<tr><td class=\"footdata-ageofexp\" colspan=\"2\">Age at time of experience: Not Given</td></tr>\\n<tr><td class=\"footdata-pubdate\">Published: Jan 11, 2014</td><td class=\"footdata-numviews\">Views: 25,491</td></tr>\\n<tr><td class=\"footdata-other-formats\" colspan=\"2\">[ <a href=\"exp.php?ID=80512&amp;format=pdf\" type=\"text/pdf\">View PDF (to print)</a> ] [ <a href=\"exp_pdf.php?ID=80512&amp;format=latex\">View LaTeX (for geeks)</a> ]\\n[\\xa0<a href=\"#\" onclick=\"expChangeColors(); return false;\">Swap\\xa0Dark/Light</a>\\xa0]\\n</td></tr>\\n<tr><td class=\"footdata-topic-list\" colspan=\"2\">DMT\\xa0(18) : First Times\\xa0(2), Mystical Experiences\\xa0(9), Alone\\xa0(16)</td></tr>\\n<!--  <img src=\"/images/new.gif\" alt=\"May\"> -->\\n</table>'}\n",
            "{'link': 'https://www.erowid.org/experiences/exp.php?ID=90269', 'substance': 'DMT', 'dosechart': '<table class=\"dosechart\">\\n<tr>\\n<td align=\"right\" class=\"dosechart-time\">DOSE:<br/></td>\\n<td align=\"center\" class=\"dosechart-amount\">50 mg</td>\\n<td align=\"center\" class=\"dosechart-method\">smoked</td>\\n<td class=\"dosechart-substance\"><a href=\"/chemicals/dmt/\">DMT</a></td>\\n<td class=\"dosechart-form\">(powder / crystals)</td>\\n</tr>\\n</table>', 'bodyweight': '<table class=\"bodyweight\">\\n<tr>\\n<td class=\"bodyweight-title\">BODY WEIGHT:</td>\\n<td class=\"bodyweight-amount\">240 lb</td>\\n</tr>\\n</table>', 'footdata': '<table class=\"footdata\">\\n<tr><td class=\"footdata-expyear\">Exp Year: 2010</td><td class=\"footdata-expid\">ExpID: 90269</td></tr>\\n<tr><td class=\"footdata-gender\">Gender: Male</td><td>\\xa0</td></tr>\\n<tr><td class=\"footdata-ageofexp\" colspan=\"2\">Age at time of experience: 20</td></tr>\\n<tr><td class=\"footdata-pubdate\">Published: Dec 24, 2013</td><td class=\"footdata-numviews\">Views: 34,130</td></tr>\\n<tr><td class=\"footdata-other-formats\" colspan=\"2\">[ <a href=\"exp.php?ID=90269&amp;format=pdf\" type=\"text/pdf\">View PDF (to print)</a> ] [ <a href=\"exp_pdf.php?ID=90269&amp;format=latex\">View LaTeX (for geeks)</a> ]\\n[\\xa0<a href=\"#\" onclick=\"expChangeColors(); return false;\">Swap\\xa0Dark/Light</a>\\xa0]\\n</td></tr>\\n<tr><td class=\"footdata-topic-list\" colspan=\"2\">DMT\\xa0(18) : First Times\\xa0(2), Glowing Experiences\\xa0(4), Small Group (2-9)\\xa0(17)</td></tr>\\n<!--  <img src=\"/images/new.gif\" alt=\"May\"> -->\\n</table>'}\n",
            "{'link': 'https://www.erowid.org/experiences/exp.php?ID=83098', 'substance': 'DMT', 'dosechart': '<table class=\"dosechart\">\\n<tr>\\n<td align=\"right\" class=\"dosechart-time\">DOSE:<br/></td>\\n<td align=\"center\" class=\"dosechart-amount\">\\xa0 </td>\\n<td align=\"center\" class=\"dosechart-method\">\\xa0</td>\\n<td class=\"dosechart-substance\">Vitamins / Supplements</td>\\n<td class=\"dosechart-form\">(pill / tablet)</td>\\n</tr>\\n<tr>\\n<td align=\"right\" class=\"dosechart-time\">\\xa0</td>\\n<td align=\"center\" class=\"dosechart-amount\">100 ug</td>\\n<td align=\"center\" class=\"dosechart-method\">insufflated</td>\\n<td class=\"dosechart-substance\"><a href=\"/chemicals/dmt/\">DMT</a></td>\\n<td class=\"dosechart-form\">(powder / crystals)</td>\\n</tr>\\n</table>', 'bodyweight': '<table class=\"bodyweight\">\\n<tr>\\n<td class=\"bodyweight-title\">BODY WEIGHT:</td>\\n<td class=\"bodyweight-amount\">151 lb</td>\\n</tr>\\n</table>', 'footdata': '<table class=\"footdata\">\\n<tr><td class=\"footdata-expyear\">Exp Year: 2010</td><td class=\"footdata-expid\">ExpID: 83098</td></tr>\\n<tr><td class=\"footdata-gender\">Gender: Male</td><td>\\xa0</td></tr>\\n<tr><td class=\"footdata-ageofexp\" colspan=\"2\">Age at time of experience: 26</td></tr>\\n<tr><td class=\"footdata-pubdate\">Published: Dec 15, 2013</td><td class=\"footdata-numviews\">Views: 41,026</td></tr>\\n<tr><td class=\"footdata-other-formats\" colspan=\"2\">[ <a href=\"exp.php?ID=83098&amp;format=pdf\" type=\"text/pdf\">View PDF (to print)</a> ] [ <a href=\"exp_pdf.php?ID=83098&amp;format=latex\">View LaTeX (for geeks)</a> ]\\n[\\xa0<a href=\"#\" onclick=\"expChangeColors(); return false;\">Swap\\xa0Dark/Light</a>\\xa0]\\n</td></tr>\\n<tr><td class=\"footdata-topic-list\" colspan=\"2\">DMT\\xa0(18) : Small Group (2-9)\\xa0(17), Guides / Sitters\\xa0(39), Entities / Beings\\xa0(37), Music Discussion\\xa0(22), General\\xa0(1)</td></tr>\\n<!--  <img src=\"/images/new.gif\" alt=\"May\"> -->\\n</table>'}\n",
            "{'link': 'https://www.erowid.org/experiences/exp.php?ID=92381', 'substance': 'DMT & LSD', 'dosechart': '<table class=\"dosechart\">\\n<tr>\\n<td align=\"right\" class=\"dosechart-time\">DOSE:<br/> T+ 0:00</td>\\n<td align=\"center\" class=\"dosechart-amount\">0.5 hits</td>\\n<td align=\"center\" class=\"dosechart-method\">oral</td>\\n<td class=\"dosechart-substance\"><a href=\"/chemicals/lsd/\">LSD</a></td>\\n</tr>\\n<tr>\\n<td align=\"right\" class=\"dosechart-time\">\\xa0 T+ 0:45</td>\\n<td align=\"center\" class=\"dosechart-amount\">3 hits</td>\\n<td align=\"center\" class=\"dosechart-method\">smoked</td>\\n<td class=\"dosechart-substance\"><a href=\"/chemicals/dmt/\">DMT</a></td>\\n</tr>\\n</table>', 'bodyweight': None, 'footdata': '<table class=\"footdata\">\\n<tr><td class=\"footdata-expyear\">Exp Year: 2011</td><td class=\"footdata-expid\">ExpID: 92381</td></tr>\\n<tr><td class=\"footdata-gender\">Gender: Female</td><td>\\xa0</td></tr>\\n<tr><td class=\"footdata-ageofexp\" colspan=\"2\">Age at time of experience: 27</td></tr>\\n<tr><td class=\"footdata-pubdate\">Published: Jul 20, 2013</td><td class=\"footdata-numviews\">Views: 26,619</td></tr>\\n<tr><td class=\"footdata-other-formats\" colspan=\"2\">[ <a href=\"exp.php?ID=92381&amp;format=pdf\" type=\"text/pdf\">View PDF (to print)</a> ] [ <a href=\"exp_pdf.php?ID=92381&amp;format=latex\">View LaTeX (for geeks)</a> ]\\n[\\xa0<a href=\"#\" onclick=\"expChangeColors(); return false;\">Swap\\xa0Dark/Light</a>\\xa0]\\n</td></tr>\\n<tr><td class=\"footdata-topic-list\" colspan=\"2\">DMT\\xa0(18), LSD\\xa0(2) : First Times\\xa0(2), Combinations\\xa0(3), Festival / Lg. Crowd\\xa0(24)</td></tr>\\n<!--  <img src=\"/images/new.gif\" alt=\"May\"> -->\\n</table>'}\n"
          ]
        },
        {
          "output_type": "stream",
          "name": "stderr",
          "text": [
            "/usr/local/lib/python3.12/dist-packages/urllib3/connectionpool.py:1097: InsecureRequestWarning: Unverified HTTPS request is being made to host 'www.erowid.org'. Adding certificate verification is strongly advised. See: https://urllib3.readthedocs.io/en/latest/advanced-usage.html#tls-warnings\n",
            "  warnings.warn(\n"
          ]
        }
      ]
    },
    {
      "cell_type": "code",
      "source": [
        "import pandas as pd\n",
        "from bs4 import BeautifulSoup\n",
        "\n",
        "schema_fields = [\n",
        "    \"previous_experience\",\n",
        "    \"set_and_setting\",\n",
        "    \"dose_amount\", # Renamed dose_and_route to dose_amount\n",
        "    \"dose_method\", # Added new field for dose method\n",
        "    \"before_after_changes\",\n",
        "    \"extraordinary_thinking\",\n",
        "    \"combination_with_other_substances\",\n",
        "    \"intention\",\n",
        "    \"experience_phases\",\n",
        "    \"onset_description\",\n",
        "    \"perceived_realness\",\n",
        "    \"objective_elements\",\n",
        "    \"entities_or_other_beings\",\n",
        "    \"childhood_trauma\",\n",
        "    \"time_relation\",\n",
        "    \"sex_effects\",\n",
        "    \"self_love_experience\",\n",
        "    \"semantic_relations\",\n",
        "    \"year_of_experience\",\n",
        "    \"age\",\n",
        "    \"gender\",\n",
        "    \"substance_used\",\n",
        "    \"most_important_element\"\n",
        "]\n",
        "\n",
        "processed_reports = []\n",
        "\n",
        "for report_data in extracted_data:\n",
        "    processed_report = {}\n",
        "    for field in schema_fields:\n",
        "        processed_report[field] = None  # Initialize all fields to None\n",
        "\n",
        "    # Map scraped data to schema_fields\n",
        "    if report_data.get('substance'):\n",
        "        processed_report['substance_used'] = report_data['substance']\n",
        "\n",
        "    if report_data.get('bodyweight'):\n",
        "        bodyweight_soup = BeautifulSoup(report_data['bodyweight'], 'html.parser')\n",
        "        bodyweight_td = bodyweight_soup.find('td', class_='bodyweight-amount')\n",
        "        processed_report['age'] = bodyweight_td.text.strip() if bodyweight_td else None\n",
        "\n",
        "    if report_data.get('footdata'):\n",
        "        footdata_soup = BeautifulSoup(report_data['footdata'], 'html.parser')\n",
        "\n",
        "        year_td = footdata_soup.find('td', class_='footdata-expyear')\n",
        "        processed_report['year_of_experience'] = year_td.text.replace('Exp Year:', '').strip() if year_td else None\n",
        "\n",
        "        gender_td = footdata_soup.find('td', class_='footdata-gender')\n",
        "        processed_report['gender'] = gender_td.text.replace('Gender:', '').strip() if gender_td else None\n",
        "\n",
        "        age_td = footdata_soup.find('td', class_='footdata-ageofexp')\n",
        "        processed_report['age'] = age_td.text.replace('Age at time of experience:', '').strip() if age_td else None\n",
        "\n",
        "    # Extract dose amount and method from dosechart\n",
        "    if report_data.get('dosechart'):\n",
        "        dosechart_soup = BeautifulSoup(report_data['dosechart'], 'html.parser')\n",
        "        amount_td = dosechart_soup.find('td', class_='dosechart-amount')\n",
        "        method_td = dosechart_soup.find('td', class_='dosechart-method')\n",
        "\n",
        "        processed_report['dose_amount'] = amount_td.text.strip() if amount_td else None\n",
        "        processed_report['dose_method'] = method_td.text.strip() if method_td else None\n",
        "\n",
        "    processed_reports.append(processed_report)\n",
        "\n",
        "# Create a pandas DataFrame from the processed data\n",
        "df_processed_reports = pd.DataFrame(processed_reports)\n",
        "\n",
        "# Display the first few rows of the DataFrame\n",
        "display(df_processed_reports.head())"
      ],
      "metadata": {
        "colab": {
          "base_uri": "https://localhost:8080/",
          "height": 342
        },
        "id": "BpczTyB7L8jn",
        "outputId": "9d65bdea-78ba-4ec2-eecb-2d5da1a6e7cf"
      },
      "execution_count": null,
      "outputs": [
        {
          "output_type": "display_data",
          "data": {
            "text/plain": [
              "  previous_experience set_and_setting dose_amount  dose_method  \\\n",
              "0                None            None     1 - 3 g         oral   \n",
              "1                None            None      138 mg       smoked   \n",
              "2                None            None       75 mg  insufflated   \n",
              "3                None            None       3.0 g         oral   \n",
              "4                None            None                   smoked   \n",
              "\n",
              "  before_after_changes extraordinary_thinking  \\\n",
              "0                 None                   None   \n",
              "1                 None                   None   \n",
              "2                 None                   None   \n",
              "3                 None                   None   \n",
              "4                 None                   None   \n",
              "\n",
              "  combination_with_other_substances intention experience_phases  \\\n",
              "0                              None      None              None   \n",
              "1                              None      None              None   \n",
              "2                              None      None              None   \n",
              "3                              None      None              None   \n",
              "4                              None      None              None   \n",
              "\n",
              "  onset_description  ... childhood_trauma time_relation sex_effects  \\\n",
              "0              None  ...             None          None        None   \n",
              "1              None  ...             None          None        None   \n",
              "2              None  ...             None          None        None   \n",
              "3              None  ...             None          None        None   \n",
              "4              None  ...             None          None        None   \n",
              "\n",
              "  self_love_experience semantic_relations year_of_experience        age  \\\n",
              "0                 None               None               2024         36   \n",
              "1                 None               None               2018         25   \n",
              "2                 None               None               2011         21   \n",
              "3                 None               None               2007  Not Given   \n",
              "4                 None               None               2007  Not Given   \n",
              "\n",
              "   gender                                     substance_used  \\\n",
              "0  Female                   DMT Fumarate & Harmala Alkaloids   \n",
              "1  Female                                       DMT & Changa   \n",
              "2    Male                                DMT & Methoxetamine   \n",
              "3    Male  Syrian Rue, Cacti - T. peruvianus, 2C-E, 4-AcO...   \n",
              "4    Male                                                DMT   \n",
              "\n",
              "  most_important_element  \n",
              "0                   None  \n",
              "1                   None  \n",
              "2                   None  \n",
              "3                   None  \n",
              "4                   None  \n",
              "\n",
              "[5 rows x 23 columns]"
            ],
            "text/html": [
              "\n",
              "  <div id=\"df-623d736b-a388-4860-96a7-65aead0e9625\" class=\"colab-df-container\">\n",
              "    <div>\n",
              "<style scoped>\n",
              "    .dataframe tbody tr th:only-of-type {\n",
              "        vertical-align: middle;\n",
              "    }\n",
              "\n",
              "    .dataframe tbody tr th {\n",
              "        vertical-align: top;\n",
              "    }\n",
              "\n",
              "    .dataframe thead th {\n",
              "        text-align: right;\n",
              "    }\n",
              "</style>\n",
              "<table border=\"1\" class=\"dataframe\">\n",
              "  <thead>\n",
              "    <tr style=\"text-align: right;\">\n",
              "      <th></th>\n",
              "      <th>previous_experience</th>\n",
              "      <th>set_and_setting</th>\n",
              "      <th>dose_amount</th>\n",
              "      <th>dose_method</th>\n",
              "      <th>before_after_changes</th>\n",
              "      <th>extraordinary_thinking</th>\n",
              "      <th>combination_with_other_substances</th>\n",
              "      <th>intention</th>\n",
              "      <th>experience_phases</th>\n",
              "      <th>onset_description</th>\n",
              "      <th>...</th>\n",
              "      <th>childhood_trauma</th>\n",
              "      <th>time_relation</th>\n",
              "      <th>sex_effects</th>\n",
              "      <th>self_love_experience</th>\n",
              "      <th>semantic_relations</th>\n",
              "      <th>year_of_experience</th>\n",
              "      <th>age</th>\n",
              "      <th>gender</th>\n",
              "      <th>substance_used</th>\n",
              "      <th>most_important_element</th>\n",
              "    </tr>\n",
              "  </thead>\n",
              "  <tbody>\n",
              "    <tr>\n",
              "      <th>0</th>\n",
              "      <td>None</td>\n",
              "      <td>None</td>\n",
              "      <td>1 - 3 g</td>\n",
              "      <td>oral</td>\n",
              "      <td>None</td>\n",
              "      <td>None</td>\n",
              "      <td>None</td>\n",
              "      <td>None</td>\n",
              "      <td>None</td>\n",
              "      <td>None</td>\n",
              "      <td>...</td>\n",
              "      <td>None</td>\n",
              "      <td>None</td>\n",
              "      <td>None</td>\n",
              "      <td>None</td>\n",
              "      <td>None</td>\n",
              "      <td>2024</td>\n",
              "      <td>36</td>\n",
              "      <td>Female</td>\n",
              "      <td>DMT Fumarate &amp; Harmala Alkaloids</td>\n",
              "      <td>None</td>\n",
              "    </tr>\n",
              "    <tr>\n",
              "      <th>1</th>\n",
              "      <td>None</td>\n",
              "      <td>None</td>\n",
              "      <td>138 mg</td>\n",
              "      <td>smoked</td>\n",
              "      <td>None</td>\n",
              "      <td>None</td>\n",
              "      <td>None</td>\n",
              "      <td>None</td>\n",
              "      <td>None</td>\n",
              "      <td>None</td>\n",
              "      <td>...</td>\n",
              "      <td>None</td>\n",
              "      <td>None</td>\n",
              "      <td>None</td>\n",
              "      <td>None</td>\n",
              "      <td>None</td>\n",
              "      <td>2018</td>\n",
              "      <td>25</td>\n",
              "      <td>Female</td>\n",
              "      <td>DMT &amp; Changa</td>\n",
              "      <td>None</td>\n",
              "    </tr>\n",
              "    <tr>\n",
              "      <th>2</th>\n",
              "      <td>None</td>\n",
              "      <td>None</td>\n",
              "      <td>75 mg</td>\n",
              "      <td>insufflated</td>\n",
              "      <td>None</td>\n",
              "      <td>None</td>\n",
              "      <td>None</td>\n",
              "      <td>None</td>\n",
              "      <td>None</td>\n",
              "      <td>None</td>\n",
              "      <td>...</td>\n",
              "      <td>None</td>\n",
              "      <td>None</td>\n",
              "      <td>None</td>\n",
              "      <td>None</td>\n",
              "      <td>None</td>\n",
              "      <td>2011</td>\n",
              "      <td>21</td>\n",
              "      <td>Male</td>\n",
              "      <td>DMT &amp; Methoxetamine</td>\n",
              "      <td>None</td>\n",
              "    </tr>\n",
              "    <tr>\n",
              "      <th>3</th>\n",
              "      <td>None</td>\n",
              "      <td>None</td>\n",
              "      <td>3.0 g</td>\n",
              "      <td>oral</td>\n",
              "      <td>None</td>\n",
              "      <td>None</td>\n",
              "      <td>None</td>\n",
              "      <td>None</td>\n",
              "      <td>None</td>\n",
              "      <td>None</td>\n",
              "      <td>...</td>\n",
              "      <td>None</td>\n",
              "      <td>None</td>\n",
              "      <td>None</td>\n",
              "      <td>None</td>\n",
              "      <td>None</td>\n",
              "      <td>2007</td>\n",
              "      <td>Not Given</td>\n",
              "      <td>Male</td>\n",
              "      <td>Syrian Rue, Cacti - T. peruvianus, 2C-E, 4-AcO...</td>\n",
              "      <td>None</td>\n",
              "    </tr>\n",
              "    <tr>\n",
              "      <th>4</th>\n",
              "      <td>None</td>\n",
              "      <td>None</td>\n",
              "      <td></td>\n",
              "      <td>smoked</td>\n",
              "      <td>None</td>\n",
              "      <td>None</td>\n",
              "      <td>None</td>\n",
              "      <td>None</td>\n",
              "      <td>None</td>\n",
              "      <td>None</td>\n",
              "      <td>...</td>\n",
              "      <td>None</td>\n",
              "      <td>None</td>\n",
              "      <td>None</td>\n",
              "      <td>None</td>\n",
              "      <td>None</td>\n",
              "      <td>2007</td>\n",
              "      <td>Not Given</td>\n",
              "      <td>Male</td>\n",
              "      <td>DMT</td>\n",
              "      <td>None</td>\n",
              "    </tr>\n",
              "  </tbody>\n",
              "</table>\n",
              "<p>5 rows × 23 columns</p>\n",
              "</div>\n",
              "    <div class=\"colab-df-buttons\">\n",
              "\n",
              "  <div class=\"colab-df-container\">\n",
              "    <button class=\"colab-df-convert\" onclick=\"convertToInteractive('df-623d736b-a388-4860-96a7-65aead0e9625')\"\n",
              "            title=\"Convert this dataframe to an interactive table.\"\n",
              "            style=\"display:none;\">\n",
              "\n",
              "  <svg xmlns=\"http://www.w3.org/2000/svg\" height=\"24px\" viewBox=\"0 -960 960 960\">\n",
              "    <path d=\"M120-120v-720h720v720H120Zm60-500h600v-160H180v160Zm220 220h160v-160H400v160Zm0 220h160v-160H400v160ZM180-400h160v-160H180v160Zm440 0h160v-160H620v160ZM180-180h160v-160H180v160Zm440 0h160v-160H620v160Z\"/>\n",
              "  </svg>\n",
              "    </button>\n",
              "\n",
              "  <style>\n",
              "    .colab-df-container {\n",
              "      display:flex;\n",
              "      gap: 12px;\n",
              "    }\n",
              "\n",
              "    .colab-df-convert {\n",
              "      background-color: #E8F0FE;\n",
              "      border: none;\n",
              "      border-radius: 50%;\n",
              "      cursor: pointer;\n",
              "      display: none;\n",
              "      fill: #1967D2;\n",
              "      height: 32px;\n",
              "      padding: 0 0 0 0;\n",
              "      width: 32px;\n",
              "    }\n",
              "\n",
              "    .colab-df-convert:hover {\n",
              "      background-color: #E2EBFA;\n",
              "      box-shadow: 0px 1px 2px rgba(60, 64, 67, 0.3), 0px 1px 3px 1px rgba(60, 64, 67, 0.15);\n",
              "      fill: #174EA6;\n",
              "    }\n",
              "\n",
              "    .colab-df-buttons div {\n",
              "      margin-bottom: 4px;\n",
              "    }\n",
              "\n",
              "    [theme=dark] .colab-df-convert {\n",
              "      background-color: #3B4455;\n",
              "      fill: #D2E3FC;\n",
              "    }\n",
              "\n",
              "    [theme=dark] .colab-df-convert:hover {\n",
              "      background-color: #434B5C;\n",
              "      box-shadow: 0px 1px 3px 1px rgba(0, 0, 0, 0.15);\n",
              "      filter: drop-shadow(0px 1px 2px rgba(0, 0, 0, 0.3));\n",
              "      fill: #FFFFFF;\n",
              "    }\n",
              "  </style>\n",
              "\n",
              "    <script>\n",
              "      const buttonEl =\n",
              "        document.querySelector('#df-623d736b-a388-4860-96a7-65aead0e9625 button.colab-df-convert');\n",
              "      buttonEl.style.display =\n",
              "        google.colab.kernel.accessAllowed ? 'block' : 'none';\n",
              "\n",
              "      async function convertToInteractive(key) {\n",
              "        const element = document.querySelector('#df-623d736b-a388-4860-96a7-65aead0e9625');\n",
              "        const dataTable =\n",
              "          await google.colab.kernel.invokeFunction('convertToInteractive',\n",
              "                                                    [key], {});\n",
              "        if (!dataTable) return;\n",
              "\n",
              "        const docLinkHtml = 'Like what you see? Visit the ' +\n",
              "          '<a target=\"_blank\" href=https://colab.research.google.com/notebooks/data_table.ipynb>data table notebook</a>'\n",
              "          + ' to learn more about interactive tables.';\n",
              "        element.innerHTML = '';\n",
              "        dataTable['output_type'] = 'display_data';\n",
              "        await google.colab.output.renderOutput(dataTable, element);\n",
              "        const docLink = document.createElement('div');\n",
              "        docLink.innerHTML = docLinkHtml;\n",
              "        element.appendChild(docLink);\n",
              "      }\n",
              "    </script>\n",
              "  </div>\n",
              "\n",
              "\n",
              "    <div id=\"df-48cdc1fe-c6f7-4790-9407-d042e88bbb7a\">\n",
              "      <button class=\"colab-df-quickchart\" onclick=\"quickchart('df-48cdc1fe-c6f7-4790-9407-d042e88bbb7a')\"\n",
              "                title=\"Suggest charts\"\n",
              "                style=\"display:none;\">\n",
              "\n",
              "<svg xmlns=\"http://www.w3.org/2000/svg\" height=\"24px\"viewBox=\"0 0 24 24\"\n",
              "     width=\"24px\">\n",
              "    <g>\n",
              "        <path d=\"M19 3H5c-1.1 0-2 .9-2 2v14c0 1.1.9 2 2 2h14c1.1 0 2-.9 2-2V5c0-1.1-.9-2-2-2zM9 17H7v-7h2v7zm4 0h-2V7h2v10zm4 0h-2v-4h2v4z\"/>\n",
              "    </g>\n",
              "</svg>\n",
              "      </button>\n",
              "\n",
              "<style>\n",
              "  .colab-df-quickchart {\n",
              "      --bg-color: #E8F0FE;\n",
              "      --fill-color: #1967D2;\n",
              "      --hover-bg-color: #E2EBFA;\n",
              "      --hover-fill-color: #174EA6;\n",
              "      --disabled-fill-color: #AAA;\n",
              "      --disabled-bg-color: #DDD;\n",
              "  }\n",
              "\n",
              "  [theme=dark] .colab-df-quickchart {\n",
              "      --bg-color: #3B4455;\n",
              "      --fill-color: #D2E3FC;\n",
              "      --hover-bg-color: #434B5C;\n",
              "      --hover-fill-color: #FFFFFF;\n",
              "      --disabled-bg-color: #3B4455;\n",
              "      --disabled-fill-color: #666;\n",
              "  }\n",
              "\n",
              "  .colab-df-quickchart {\n",
              "    background-color: var(--bg-color);\n",
              "    border: none;\n",
              "    border-radius: 50%;\n",
              "    cursor: pointer;\n",
              "    display: none;\n",
              "    fill: var(--fill-color);\n",
              "    height: 32px;\n",
              "    padding: 0;\n",
              "    width: 32px;\n",
              "  }\n",
              "\n",
              "  .colab-df-quickchart:hover {\n",
              "    background-color: var(--hover-bg-color);\n",
              "    box-shadow: 0 1px 2px rgba(60, 64, 67, 0.3), 0 1px 3px 1px rgba(60, 64, 67, 0.15);\n",
              "    fill: var(--button-hover-fill-color);\n",
              "  }\n",
              "\n",
              "  .colab-df-quickchart-complete:disabled,\n",
              "  .colab-df-quickchart-complete:disabled:hover {\n",
              "    background-color: var(--disabled-bg-color);\n",
              "    fill: var(--disabled-fill-color);\n",
              "    box-shadow: none;\n",
              "  }\n",
              "\n",
              "  .colab-df-spinner {\n",
              "    border: 2px solid var(--fill-color);\n",
              "    border-color: transparent;\n",
              "    border-bottom-color: var(--fill-color);\n",
              "    animation:\n",
              "      spin 1s steps(1) infinite;\n",
              "  }\n",
              "\n",
              "  @keyframes spin {\n",
              "    0% {\n",
              "      border-color: transparent;\n",
              "      border-bottom-color: var(--fill-color);\n",
              "      border-left-color: var(--fill-color);\n",
              "    }\n",
              "    20% {\n",
              "      border-color: transparent;\n",
              "      border-left-color: var(--fill-color);\n",
              "      border-top-color: var(--fill-color);\n",
              "    }\n",
              "    30% {\n",
              "      border-color: transparent;\n",
              "      border-left-color: var(--fill-color);\n",
              "      border-top-color: var(--fill-color);\n",
              "      border-right-color: var(--fill-color);\n",
              "    }\n",
              "    40% {\n",
              "      border-color: transparent;\n",
              "      border-right-color: var(--fill-color);\n",
              "      border-top-color: var(--fill-color);\n",
              "    }\n",
              "    60% {\n",
              "      border-color: transparent;\n",
              "      border-right-color: var(--fill-color);\n",
              "    }\n",
              "    80% {\n",
              "      border-color: transparent;\n",
              "      border-right-color: var(--fill-color);\n",
              "      border-bottom-color: var(--fill-color);\n",
              "    }\n",
              "    90% {\n",
              "      border-color: transparent;\n",
              "      border-bottom-color: var(--fill-color);\n",
              "    }\n",
              "  }\n",
              "</style>\n",
              "\n",
              "      <script>\n",
              "        async function quickchart(key) {\n",
              "          const quickchartButtonEl =\n",
              "            document.querySelector('#' + key + ' button');\n",
              "          quickchartButtonEl.disabled = true;  // To prevent multiple clicks.\n",
              "          quickchartButtonEl.classList.add('colab-df-spinner');\n",
              "          try {\n",
              "            const charts = await google.colab.kernel.invokeFunction(\n",
              "                'suggestCharts', [key], {});\n",
              "          } catch (error) {\n",
              "            console.error('Error during call to suggestCharts:', error);\n",
              "          }\n",
              "          quickchartButtonEl.classList.remove('colab-df-spinner');\n",
              "          quickchartButtonEl.classList.add('colab-df-quickchart-complete');\n",
              "        }\n",
              "        (() => {\n",
              "          let quickchartButtonEl =\n",
              "            document.querySelector('#df-48cdc1fe-c6f7-4790-9407-d042e88bbb7a button');\n",
              "          quickchartButtonEl.style.display =\n",
              "            google.colab.kernel.accessAllowed ? 'block' : 'none';\n",
              "        })();\n",
              "      </script>\n",
              "    </div>\n",
              "    </div>\n",
              "  </div>\n"
            ],
            "application/vnd.google.colaboratory.intrinsic+json": {
              "type": "dataframe"
            }
          },
          "metadata": {}
        }
      ]
    },
    {
      "cell_type": "code",
      "source": [
        "report = '''\n",
        "I decided to try Ayahuasca for the first time under the supervision of my partner, E, who has a lot of experience. I have a good deal of experience with all classes of drugs in general, and with psychedelics I am particularly experienced with LSD, psilocybin mushrooms, 2C-B, 2C-D, Mescaline, 5-MeO-DMT, 5-MeO-DiPT, and DMT. I've experienced DMT vaporized but I haven't really gotten much out of vaporizing it. My most meaningful and clear DMT experiences have been with IV and IM administration.\n",
        "\n",
        "However, I have been interested in ayahuasca for quite a long time and didn't really feel like it was right until I met E, who has had significant experience with it and with whom I feel safe and comfortable taking powerful psychedelics. We have explored quite a few psychedelics together, but have more recently gotten into holding space for each other. This would be one of the first times that E was going to be holding space for me.\n",
        "\n",
        "We had originally planned for a one-night experience, but after the first night, I felt called to do it again, so this report has the report from day 1 and day 2.\n",
        "We had originally planned for a one-night experience, but after the first night, I felt called to do it again, so this report has the report from day 1 and day 2.\n",
        "In preparation for these experiences, I abstained from stimulants for 2 weeks, cut most dairy, sugar, and excessive salt out of my diet and ate mostly vegan. I use a small amount of kratom daily as a coffee replacement, and I also cut this back to about 1 gram per day from 2.5-3g that I usually take. I also abstained from any other mind-altering substances such as alcohol or cannabis. I did use .1mg of clonidine on occasion for sleep, but I didn't see any information regarding potential interactions with DMT. On the day before my experience, I did some journaling about my intentions and then following the experience I did some journaling to help me record my mindset going into the experience as well as record the experience so that I could refer back to it during the integration phase.\n",
        "\n",
        "For the DMT dosing, E provided me a Caapi extract that contains 210mg of Tetrahydroharmine (THH) and 210mg of Harmine per dose, and we converted pure Freebase DMT into DMT Fumarate using Fumaric Acid via guides on The Nexus. On Day 1, I don't have very exact time stamps because E and I didn't think they would be necessary, but on Day 2 E decided to take detailed time-stamped notes because of the unusually large dose I decided to take.\n",
        "\n",
        "Ayahuasca Day 1\n",
        "\n",
        "Pre-Ayahuasca Journaling\n",
        "\n",
        "In some ways, it’s felt like the experience has been subtly rippling backwards through time since we set the date about two weeks back. I have noticed this in the way I’m feeling about doing other drugs (less desire for them, they’re not really “doing it” for me like usual), in introspection and spending time with old feelings, and a general sense of calm and well being.\n",
        "\n",
        "The way some events have fallen around this time has been pretty serendipitous too... first my mom coming through and bringing me boxes of things from my childhood to sort, then receiving some of my past belongings from my former partner... a very physical manifestation of baggage from my past that needs to be sorted and purged. It almost feels like a given that this is what my experience is likely to center around. It does still seem wise to reflect on some intentions.\n",
        "\n",
        "• Something that is very present for me right now: The physical manifestation of the baggage from my past\n",
        "• I have concerns about: difficult things coming up and not feeling “resolved” by the end of the experience... when I say this, I’m referencing a previous IM DMT experience where emotional abuse & sexual manipulation came up and it left me in a pretty fragile state for a while.\n",
        "• I am curious about: What it will be like to be in a DMT-type space for so long, and what the MAOIs will add to it.\n",
        "• I am inspired now to create: a clean, peaceful, beautiful space in which to enjoy the journey.\n",
        "• I am inspired to let go of: patterns, beliefs, and feelings from the past that no longer serve me.\n",
        "• In this moment I deeply desire and long for: feelings of peace and clarity about my life, and the wisdom, patience, and compassion to navigate relationships with those who have unintentionally hurt me in the past.\n",
        "• My intention: to release baggage, ill-will, fear, and insecurity. To trust the process and that all is going as it should. To feel the love that surrounds me. To experience forgiveness for others and for myself. To live in peace and help others do the same.\n",
        "\n",
        "Post-Ayahuasca Journaling\n",
        "\n",
        "t-0:20 - I took the MAOI in grapefruit juice, and laid down with an eye mask. I started to feel some mild but pleasant sensations of warmth and comfort.\n",
        "\n",
        "t+0:00 - I took the 50mg DMT Fumarate capsule. It wasn’t long before I started to experience a sensation in my stomach... I believe when the capsule was penetrated and the contents met the rest of my stomach. It wasn’t nausea (I didn’t really experience much in the way of nausea the entire night), but it was a burning kind of sensation that reminded me a bit of the initial stages of food poisoning.\n",
        "\n",
        "I continued to pay attention to the sensations in my body and soon I began to have the initial, dim closed eye visuals that happen at the very beginning of a DMT trip. The visuals progressed quickly and before long I was fully immersed in the DMT visuals in a way that felt almost indistinguishable from IM (at doses around 40mg). This went on for a time, maybe 20 minutes (?). There was one point where I experienced a feminine presence(s) that told me they were there to help me.\n",
        "\n",
        "t+0:20-0:50(?) - Things started to slow down a little bit from the immersive DMT space, and I started to experience many different times & experiences from my childhood. The trip really focused on how those past experiences felt, how alone and on my own I was back then, and I started to feel extreme feelings of rage, grief, loneliness, etc. Some of the feelings, the anger & grief specifically, I felt like I experienced/embodied in almost a 3-dimensional kind of way, like a new embodied version of those emotions I'd never felt before, but I can't find precise words to explain what I mean by the 3-dimensional feeling of emotions. They were very intense and difficult emotions but it also felt really good to feel them and I welcomed them.\n",
        "\n",
        "Then I experienced things more from my parents’ perspective, and how their situations growing up, their parents situations, etc. led to this and how they were all victims too. (I think this was around the time I started crying) I felt a desire to break this chain of suffering and I felt a lot of conviction around my decision not to have children.\n",
        "\n",
        "Around that time I was feeling a lot of really intense grief and sadness and loss, for myself and also for them. I also spent some time thinking about an estranged brother... the things he went through in childhood and how difficult that must have been for him and how alone he probably felt too. I experienced grief that he wasn’t in my life but understanding and empathy for why he didn’t want anything to do with our family. I wished him the peace and healing that he needs.\n",
        "\n",
        "I had the desire to let go of some of the hurt and suffering from childhood and I felt forgiveness towards my brother, my parents, and myself. I also spent some time feeling really deep love and empathy for my childhood self. I promised her that she never had to be alone again and she never had to feel that way again.\n",
        "\n",
        "t+1:00 - I think this was about the time I took the booster capsule (35mg), though I never noticed any additional effects.\n",
        "There was a bit of a break where I was listening to the icaros that were playing through the speaker in our room... my visuals were much fainter by this point, but they were beautiful and intricate and it felt like the song WAS the visuals.\n",
        "\n",
        "After a time, I started to go back into the experience. For a little while, things started to turn towards my relationship with my ex-partner. I experienced parts of the early times in our relationship and I felt a lot of anger and disgust towards him. I started to feel a little bit around what his childhood was like. However, it didn’t last very long... it almost felt like my relationship with my ex-partner is such a mountain of things to feel and untangle, and there were some other things I had to get through before I could turn my full attention to it. Instead, I began to focus my attention on one of my oldest best friends. Lots of grief and anger and confusion. How completely in love I was with her and how cold she was and frequently totally shut down towards me. The confusion of the really warm and intimate times we would have followed rapidly by her taking out her anger on me (and her partner, whoever that was at the time). Reflecting now, it almost feels a bit similar to a pattern with my mom... of course I was never anywhere near as close to my mom as I was to my best friend, but I can see a kind of similar dynamic where she would occasionally tell me things like “you can tell me anything” or have a random small moment of affection but then right back to shutting me out and rejecting me. It felt really hurtful and inconsistent and confusing.\n",
        "\n",
        "t+3:00 - After I processed these different relationships, the trip was definitely dying down at this point and it was getting more difficult to stay focused and feel the feelings, but I also experienced a lot of empathy for the things my best friend has been through in her life that have brought these things out in her, and forgave her. I explored what it might feel like to let go of any expectations around that relationship, and let go of having to always be the one to come back and reach out and make the effort to be there... but, I realized that I’m not ready to do that, I’m not sure if I’ll ever be ready to do that, and I forgave myself for that and appreciated the part of myself that doesn’t give up on the people I love.\n",
        "\n",
        "The whole experience felt very cathartic. I feel like a made a lot of progress, but also that there is a lot of work left to do, which is why I am strongly considering doing it again. I would like the opportunity to address my time with my ex-partner... I think it might also be good for me to spend some time with the early days of my relationship with E.\n",
        "\n",
        "t+4:30 - At the end of the trip, I was exhausted in a way that felt like I was on the tail end of being on a very large dose of stimulants. I was concerned about being able to sleep... I took 2 skullcap extract tablets and .1mg clonidine, but had a very difficult time falling asleep. I ended up taking another .1mg of clonidine at some point and finally managed to drift off, but all night I was dreaming about ayahuasca... mainly in the dreams, I was trying to have another experience to finish what I started but the medicine wasn’t working.\n",
        "\n",
        "I woke up around 6:30 after around 5 hours of sleep feeling a lot of inflammation in my body, especially in my sinuses. I still felt pretty physically restless and tired but I’ve taken some ibuprofen and I’m drinking a lot of water.\n",
        "\n",
        "Ayahuasca day 2\n",
        "\n",
        "Pre-Ayahuasca Journaling\n",
        "\n",
        "I have decided to do this again today because I didn’t feel like I finished everything I needed to yesterday.\n",
        "\n",
        "I would appreciate the opportunity to process some things around my time with my ex-partner... but I am also remaining open to whatever comes up.\n",
        "\n",
        "• Something that is very present for me right now: physical tiredness\n",
        "• I have concerns about: bypassing or dissociating instead of integrating my feelings\n",
        "• I am curious about: how today’s experience might differ from yesterday’s\n",
        "• I am inspired now to create: space to feel\n",
        "• I am inspired to let go of: expectations for myself around what I should be accomplishing through this experience\n",
        "• In this moment I deeply desire and long for: patience with myself\n",
        "• My intention: to allow myself to feel things for as long as I need to, and not try to rush myself through the process.\n",
        "\n",
        "Notes from Day 2 Ayahuasca experience: The following is a mix of my notes the day after the experience, and time stamps/notes that E took for me while she was sitting for me. Notes in quotes are from E's notes and the rest is from my journaling. E used the letter \"O\" to refer to me.\n",
        "\n",
        "t-0:20 - Dosed THH + Harmine in grapefruit juice.\n",
        "\n",
        "t+:0:00 - Dosed 60mg DMT Fumarate in gel cap.\n",
        "\n",
        "t+0:20 - \"20 minutes after taking DMT, O was worried about whether she should be feeling the DMT yet. Reassured her she had plenty of time before feeling it (45 minutes is come on time).\"\n",
        "\n",
        "*To start my notes, I want to circle back around to the dream I mentioned that I had last night after my first session. That dream turned out to be not just a dream but a startlingly accurate vision of the first part of what happened on night 2.*\n",
        "\n",
        "I was feeling more restless and anxious this time around, very eager for it to start. I kept waiting and waiting but not much was happening and I was becoming increasingly frustrated (this was the part I had seen in the dream). I wondered if my brain somehow had the ability to subconsciously block the effects of the medicine. There were some mild and subtle signs that I was altered, but I wasn’t getting any visuals or any of what I would consider the DMT part of the experience.\n",
        "There were some mild and subtle signs that I was altered, but I wasn’t getting any visuals or any of what I would consider the DMT part of the experience.\n",
        "\n",
        "\n",
        "t+1:30 - \"O took another 210mg THH, 210mg Harmine, and an additional 20mg Harmaline because she hadn’t noticed any psychedelic effect. She also requested another dose of 60mg DMT Fumarate, which was administered at t+1:45.\"\n",
        "\n",
        "I decided to redose with the same dose I started with, plus some harmaline. This time, things started to happen pretty quickly though the true peak still took a little while to fully come on and it was still different from the first night. The first night, the initial peak was indistinguishable from IM DMT, but this time the visual/immersive effects were dulled somewhat (though went on for muuuch longer).\n",
        "\n",
        "t+2:00 - \"O said there were more peak-like effects starting but it felt less than day 1.\"\n",
        "\n",
        "T+2:14 - \"O seems more restless, taking deeper breaths, fidgeting more. Looks struggling to get comfortable, breathing heavy. Right arm moving around a lot. Both arms out.\"\n",
        "\n",
        "It was around this time (2 hrs, 14 min into the night, according to E's log) that things began to get extremely difficult and uncomfortable. The feeling was like something was trying to rip my mind away from my body. It was ceaseless and so completely overstimulating. It didn’t let up ever for even a second, for hours. I felt like I was fighting for my mind and I couldn’t relax or let my guard down ever. In addition, there was so much energy and tension in my body that I kept thrashing and writhing around and couldn’t get comfortable. My hands kept trying to wander away and take my mind with them. E kept returning them to my core and telling me to stay with my body and return to my breath. This was very helpful and I clung to that advice and used my breath to help keep me anchored. I had to remind myself over and over and over again.\n",
        "\n",
        "At one point E put some pressure on my body and that felt really soothing.\n",
        "\n",
        "Sometimes she would spritz me with the scented water and that was also really helpful... the cool mist hitting my skin gave me another anchor.\n",
        "\n",
        "T+2:25 - \"movements have calmed down a bit, deep sighs and heavy breaths are still happening.\"\n",
        "\n",
        "T+2:57 - \"knees pulled close to chest, heavy breathing, sighing. Then some stillness. Looks like some fighting has eased. Then resuming heavy short breaths.\"\n",
        "\n",
        "T+3:22 - \"turned face down towards elbow, covering eyes with hand, holding onto eye mask. Labored short breaths continuing.\"\n",
        "\n",
        "Sometime during all of this, I’m not sure exactly when, time gets a little confusing, I was having a very vivid and consuming DMT experience that went on for some time and continued to linger through the very end... I don’t really even know how to describe it. It involved “joisting”, and word that repeated itself in my head over and over again, there was “vanquishing”... victory and glory and hype and colors and sound and energy. Almost psychedelic Mad-Max.\n",
        "\n",
        "After this point, the order of my experience is a bit unclear so I'll write the most of my memory of it after the E's timestamps.\n",
        "\n",
        "T+3:28 - \"having some hand holding.\"\n",
        "\n",
        "T+3:31 - \"right hand “claw” made an appearance again briefly.\"\n",
        "\n",
        "T+4:00 - \"calming down a bit but still not verbal. Still taking deep sudden breaths.\"\n",
        "\n",
        "T+4:24 - \"calming down more, drinking water, still having moments of deep forceful breaths, like she’s not getting enough air. Still not much verbal ability.\"\n",
        "\n",
        "T+5:00 - \"purge, and then gradual coming down.\"\n",
        "\n",
        "At some point (again, the order of events is very foggy), I finally purged which felt really good to do. It felt like flushing a lot of old toxic shit out.\n",
        "\n",
        "T+5:46 - \"not fully down, slight headache and not fully verbal but able to make requests. Eye mask back on due to light sensitivity. Some chocolate and some banana eaten. Sipping on water autonomously since purge.\"\n",
        "\n",
        "T+6:06 - \"went to bathroom with some assistance\"\n",
        "\n",
        "T6:21 - \"She’s laughing and cracking jokes again\"\n",
        "\n",
        "Remainder of my notes from T+3:28 onward:\n",
        "\n",
        "There were a couple times when I opened my eyes and E's cat was there, staring deeply into my soul, and this helped anchor me too. She really felt like E’s familiar.\n",
        "\n",
        "There finally came a time when the fighting was fractionally less intense (though still a constant struggle). I was able to turn towards E and use her presence to keep me tethered. She was SO rock solid and steady and unwavering and I felt an overwhelming love and gratefulness towards her. This is when the lessons started.\n",
        "\n",
        "I could feel my relationship and trust with E healing old attachment wounds. It was so beautiful. I was taught a lot about being present with my emotions and allowing myself to feel them and be present with them. I was shown that I don’t often feel safe experiencing anger, but that it can be a valuable emotion.\n",
        "I was taught about asking for what I need.\n",
        "I was taught about sharing my feelings with E (and in general).\n",
        "I was taught about patience with myself.\n",
        "I was taught about patience with E. I had this realization that when E says she’s working on something about herself, I can trust that she’s doing it on her timeline and I don’t need to worry about whether it’s going to happen... I just need to have patience and trust that it will. She is a true partner and she’s holding down her side.\n",
        "\n",
        "I also really grokked what often says about making this relationship a safe harbor, and about being on the same team.\n",
        "I had a good look at the part of myself that picks fights sometimes.\n",
        "\n",
        "All these beautiful lessons and E showing up for me so hard during the entire experience. She always knew exactly what to do or say and I just felt her solid presence the whole time like an absolute rock. So beautiful it makes me want to cry. I can only hope to come anywhere close to giving her the same gift one day.\n",
        "\n",
        "Anyway... by this point I was exhausted. I was still struggling consistently to keep my mind and not slip back into the chaotic DMT space, but the struggle was becoming less intense. The energy and restlessness was still there but not as bad. I had a pretty bad headache at this point and was very light sensitive. I really wanted to put my eyemask on, but being able to make eye contact with E was the main thing keeping me anchored and I was so afraid that if I closed my eyes I would slip away again.\n",
        "\n",
        "E kept telling me I needed to eat and made me some soup, but I was really struggling. My stomach didn’t want food and the soup was making me queasy. Blueberries were easier but I was so exhausted that eating them was very difficult. Finally E ended up spooning the soup into my mouth which was very sweet and helpful, I’m not sure if I could have gotten it down otherwise.\n",
        "\n",
        "After this we cuddled, which felt really nice.\n",
        "\n",
        "As I was finally coming down from the experience, E showed me a poem that resonated so deeply...\n",
        "\n",
        "“Sleeping With You\n",
        "\n",
        "Is there anything more wonderful?\n",
        "After we have floundered through our separate pain\n",
        "we come to this. I bind myself to you, like otters wrapped in kelp, so the current will not steal us as we sleep.\n",
        "Through the night we turn together, rocked in the shallow surf, pebbles polished by the sea.\n",
        "\n",
        "-Ellen Bass”\n",
        "\n",
        "It has me considering ways to incorporate otters into my tattoo sleeve. (Before this experience, I wondered if I might come out of it with some kind of idea about what I wanted to symbolize on that arm.)\n",
        "\n",
        "Sleep was not coming to me and I spent more time thrashing. At this point it was around 4am and I was giving up hope of any sleep at all. E finally convinced me to get up and do some yoga, and that was really helpful. She was right that my body was able to settle down after that and eventually I did fall asleep for about an hour and a half, before I got hungry and got up to eat and shower and journal. Even at 7-8am, I was still getting mild waves of flickery light and unsteadiness. I am feeling surprisingly ok though so far on 1.5 hrs of sleep, though I imagine I’ll need to nap later. It’s almost 9 now and I’m still experiencing frequent waves of restless energy, I may need to do more yoga.\n",
        "\n",
        "Overall I am feeling profoundly grateful and at peace and present.\n",
        "\n",
        "~.~.~\n",
        "\n",
        "Even with the severe lack of sleep, I've had a surprising amount of energy pretty consistently throughout the day following my second dosing session. I started to get pretty sleepy around 6pm, but it's now almost 9 and I'm feeling pretty energetic again. Hopefully I can get some sleep tonight since I've got work in the morning.\n",
        "\n",
        "I can definitely see wanting to experience this medicine again, though I imagine it may be 3-5 years out.\n",
        "'''"
      ],
      "metadata": {
        "id": "f-hG14hYbcsX"
      },
      "execution_count": 10,
      "outputs": []
    },
    {
      "cell_type": "code",
      "metadata": {
        "id": "58181146"
      },
      "source": [
        "import json # Added json import\n",
        "#from sentence_transformers import SentenceTransformer\n",
        "from transformers import pipeline\n",
        "\n",
        "def chunk_text(text, chunk_size=500, overlap=50):\n",
        "    \"\"\"Splits text into overlapping chunks.\"\"\"\n",
        "    chunks = []\n",
        "    start = 0\n",
        "    while start < len(text):\n",
        "        end = start + chunk_size\n",
        "        chunk = text[start:end]\n",
        "        chunks.append(chunk)\n",
        "        start += chunk_size - overlap\n",
        "    return chunks\n",
        "\n",
        "def make_prompt(report, schema_fields): # Modified to accept schema_fields\n",
        "    return f\"\"\"\n",
        "Extract ONLY the following DMT trip report into a JSON object with these fields:\n",
        "{\", \".join(schema_fields)}.\n",
        "If a field is not explicitly mentioned in the report, return null for that field.\n",
        "Ensure the output is valid JSON.\n",
        "short and extracted as possible\n",
        "\n",
        "Report: {report}\n",
        "\"\"\" # Added more specific instructions and JSON format emphasis\n",
        "\n",
        "def extract_from_chunks(report, extractor, schema_fields, chunk_size=500, overlap=50):\n",
        "    \"\"\"Extracts information from text by processing it in chunks.\"\"\"\n",
        "    chunks = chunk_text(report, chunk_size, overlap)\n",
        "    extracted_chunks = []\n",
        "    for chunk in chunks:\n",
        "        prompt = make_prompt(chunk, schema_fields) # Passed schema_fields to make_prompt\n",
        "        result = extractor(prompt, max_new_tokens=512)\n",
        "        extracted_chunks.append(result[0]['generated_text'])\n",
        "    return extracted_chunks\n",
        "\n",
        "# Example usage with the 'report' variable from a previous cell\n",
        "#extracted_chunks_list = extract_from_chunks(report, extractor, schema_fields)\n",
        "#print(extracted_chunks_list)"
      ],
      "execution_count": 16,
      "outputs": []
    },
    {
      "cell_type": "code",
      "metadata": {
        "colab": {
          "base_uri": "https://localhost:8080/"
        },
        "id": "d739bbff",
        "outputId": "5d67df0c-b34f-4ef1-9962-f7f539a3002b"
      },
      "source": [
        "import json\n",
        "\n",
        "def combine_extracted_data(extracted_chunks_list, schema_fields):\n",
        "    \"\"\"Combines extracted data from multiple chunks into a single dictionary based on specified rules.\"\"\"\n",
        "    combined_data = {field: [] for field in schema_fields}\n",
        "\n",
        "    for chunk_data_str in extracted_chunks_list:\n",
        "        try:\n",
        "            # Attempt to parse the chunk data as JSON.\n",
        "            # If it's not valid JSON, you might need a more robust parsing method\n",
        "            # or handle the error appropriately.\n",
        "            chunk_data = json.loads(chunk_data_str)\n",
        "            for field in schema_fields:\n",
        "                if field in chunk_data and chunk_data[field] is not None:\n",
        "                    combined_data[field].append(chunk_data[field])\n",
        "        except json.JSONDecodeError:\n",
        "            print(f\"Warning: Could not decode JSON from chunk: {chunk_data_str}\")\n",
        "            # Handle cases where the chunk output is not valid JSON\n",
        "\n",
        "    final_combined_data = {}\n",
        "    for field in schema_fields:\n",
        "        values = combined_data[field]\n",
        "        if not values:\n",
        "            final_combined_data[field] = None\n",
        "        elif len(values) == 1:\n",
        "            final_combined_data[field] = values[0]\n",
        "        else:\n",
        "            # Apply combining rules for multiple values\n",
        "            if all(isinstance(v, str) for v in values):\n",
        "                # Concatenate strings\n",
        "                final_combined_data[field] = \" ; \".join(v for v in values if v)\n",
        "            elif all(isinstance(v, list) for v in values):\n",
        "                # Merge lists and avoid duplicates\n",
        "                merged_list = []\n",
        "                for sublist in values:\n",
        "                    for item in sublist:\n",
        "                        if item not in merged_list:\n",
        "                            merged_list.append(item)\n",
        "                final_combined_data[field] = merged_list\n",
        "            else:\n",
        "                # Handle conflicting scalars or mixed types - keeping the first non-null value for simplicity\n",
        "                # More complex logic could be added here based on specific field requirements\n",
        "                first_non_null = next((v for v in values if v is not None), None)\n",
        "                final_combined_data[field] = first_non_null\n",
        "                if len(set(values)) > 1 and first_non_null is not None:\n",
        "                     print(f\"Warning: Conflicting values found for field '{field}'. Keeping the first non-null value: {first_non_null}\")\n",
        "\n",
        "\n",
        "    return final_combined_data\n",
        "\n",
        "# Example usage:\n",
        "# Assuming extracted_chunks_list and schema_fields are defined\n",
        "final_report_data = combine_extracted_data(final_report_data_gemini, schema_fields)\n",
        "print(final_report_data)"
      ],
      "execution_count": 24,
      "outputs": [
        {
          "output_type": "stream",
          "name": "stdout",
          "text": [
            "Warning: Could not decode JSON from chunk: previous_experience\n",
            "Warning: Could not decode JSON from chunk: set_and_setting\n",
            "Warning: Could not decode JSON from chunk: before_after_changes\n",
            "Warning: Could not decode JSON from chunk: extraordinary_thinking\n",
            "Warning: Could not decode JSON from chunk: combination_with_other_substances\n",
            "Warning: Could not decode JSON from chunk: intention\n",
            "Warning: Could not decode JSON from chunk: experience_phases\n",
            "Warning: Could not decode JSON from chunk: onset_description\n",
            "Warning: Could not decode JSON from chunk: perceived_realness\n",
            "Warning: Could not decode JSON from chunk: objective_elements\n",
            "Warning: Could not decode JSON from chunk: entities_or_other_beings\n",
            "Warning: Could not decode JSON from chunk: childhood_trauma\n",
            "Warning: Could not decode JSON from chunk: time_relation\n",
            "Warning: Could not decode JSON from chunk: sex_effects\n",
            "Warning: Could not decode JSON from chunk: self_love_experience\n",
            "Warning: Could not decode JSON from chunk: semantic_relations\n",
            "Warning: Could not decode JSON from chunk: year_of_experience\n",
            "Warning: Could not decode JSON from chunk: most_important_element\n",
            "{'previous_experience': None, 'set_and_setting': None, 'before_after_changes': None, 'extraordinary_thinking': None, 'combination_with_other_substances': None, 'intention': None, 'experience_phases': None, 'onset_description': None, 'perceived_realness': None, 'objective_elements': None, 'entities_or_other_beings': None, 'childhood_trauma': None, 'time_relation': None, 'sex_effects': None, 'self_love_experience': None, 'semantic_relations': None, 'year_of_experience': None, 'most_important_element': None}\n"
          ]
        }
      ]
    },
    {
      "cell_type": "code",
      "source": [
        "!pip install pandas"
      ],
      "metadata": {
        "colab": {
          "base_uri": "https://localhost:8080/"
        },
        "id": "HlEbC0zW0P0j",
        "outputId": "306c0ed9-80e2-43d0-af5d-ddde9ad1cc05"
      },
      "execution_count": 20,
      "outputs": [
        {
          "output_type": "stream",
          "name": "stdout",
          "text": [
            "Requirement already satisfied: pandas in /usr/local/lib/python3.12/dist-packages (2.2.2)\n",
            "Requirement already satisfied: numpy>=1.26.0 in /usr/local/lib/python3.12/dist-packages (from pandas) (2.0.2)\n",
            "Requirement already satisfied: python-dateutil>=2.8.2 in /usr/local/lib/python3.12/dist-packages (from pandas) (2.9.0.post0)\n",
            "Requirement already satisfied: pytz>=2020.1 in /usr/local/lib/python3.12/dist-packages (from pandas) (2025.2)\n",
            "Requirement already satisfied: tzdata>=2022.7 in /usr/local/lib/python3.12/dist-packages (from pandas) (2025.2)\n",
            "Requirement already satisfied: six>=1.5 in /usr/local/lib/python3.12/dist-packages (from python-dateutil>=2.8.2->pandas) (1.17.0)\n"
          ]
        }
      ]
    },
    {
      "cell_type": "code",
      "source": [
        "!pip install generativeai"
      ],
      "metadata": {
        "colab": {
          "base_uri": "https://localhost:8080/"
        },
        "collapsed": true,
        "id": "mRSOiSxVIqRi",
        "outputId": "e7cdd265-c97e-4b78-db5b-a369b3153afa"
      },
      "execution_count": 7,
      "outputs": [
        {
          "output_type": "stream",
          "name": "stdout",
          "text": [
            "Collecting generativeai\n",
            "  Downloading generativeai-0.0.1-py3-none-any.whl.metadata (479 bytes)\n",
            "Requirement already satisfied: huggingface-hub in /usr/local/lib/python3.12/dist-packages (from generativeai) (0.34.4)\n",
            "Requirement already satisfied: filelock in /usr/local/lib/python3.12/dist-packages (from huggingface-hub->generativeai) (3.19.1)\n",
            "Requirement already satisfied: fsspec>=2023.5.0 in /usr/local/lib/python3.12/dist-packages (from huggingface-hub->generativeai) (2025.7.0)\n",
            "Requirement already satisfied: packaging>=20.9 in /usr/local/lib/python3.12/dist-packages (from huggingface-hub->generativeai) (25.0)\n",
            "Requirement already satisfied: pyyaml>=5.1 in /usr/local/lib/python3.12/dist-packages (from huggingface-hub->generativeai) (6.0.2)\n",
            "Requirement already satisfied: requests in /usr/local/lib/python3.12/dist-packages (from huggingface-hub->generativeai) (2.32.4)\n",
            "Requirement already satisfied: tqdm>=4.42.1 in /usr/local/lib/python3.12/dist-packages (from huggingface-hub->generativeai) (4.67.1)\n",
            "Requirement already satisfied: typing-extensions>=3.7.4.3 in /usr/local/lib/python3.12/dist-packages (from huggingface-hub->generativeai) (4.14.1)\n",
            "Requirement already satisfied: hf-xet<2.0.0,>=1.1.3 in /usr/local/lib/python3.12/dist-packages (from huggingface-hub->generativeai) (1.1.7)\n",
            "Requirement already satisfied: charset_normalizer<4,>=2 in /usr/local/lib/python3.12/dist-packages (from requests->huggingface-hub->generativeai) (3.4.3)\n",
            "Requirement already satisfied: idna<4,>=2.5 in /usr/local/lib/python3.12/dist-packages (from requests->huggingface-hub->generativeai) (3.10)\n",
            "Requirement already satisfied: urllib3<3,>=1.21.1 in /usr/local/lib/python3.12/dist-packages (from requests->huggingface-hub->generativeai) (2.5.0)\n",
            "Requirement already satisfied: certifi>=2017.4.17 in /usr/local/lib/python3.12/dist-packages (from requests->huggingface-hub->generativeai) (2025.8.3)\n",
            "Downloading generativeai-0.0.1-py3-none-any.whl (1.2 kB)\n",
            "Installing collected packages: generativeai\n",
            "Successfully installed generativeai-0.0.1\n"
          ]
        }
      ]
    },
    {
      "cell_type": "markdown",
      "metadata": {
        "id": "02bb5456"
      },
      "source": [
        "To use the Gemini API, you'll need an API key. If you don't already have one, create a key in Google AI Studio.\n",
        "In Colab, add the key to the secrets manager under the \"🔑\" in the left panel. Give it the name `GOOGLE_API_KEY`. Then pass the key to the SDK:"
      ]
    },
    {
      "cell_type": "code",
      "metadata": {
        "id": "c64c1253"
      },
      "source": [
        "# Import the Python SDK\n",
        "import google.generativeai as genai\n",
        "# Used to securely store your API key\n",
        "from google.colab import userdata\n",
        "\n",
        "GOOGLE_API_KEY=userdata.get('GOOGLE_API_KEY')\n",
        "genai.configure(api_key=GOOGLE_API_KEY)"
      ],
      "execution_count": 8,
      "outputs": []
    },
    {
      "cell_type": "markdown",
      "metadata": {
        "id": "7799ec4f"
      },
      "source": [
        "Now, let's use the Gemini API with the chunking and combining functions. We'll use the `gemini-1.5-flash-latest` model, which has a large context window."
      ]
    },
    {
      "cell_type": "code",
      "metadata": {
        "colab": {
          "base_uri": "https://localhost:8080/",
          "height": 1000
        },
        "id": "4ac5acaf",
        "outputId": "cba854b8-bf60-4123-df13-94272fe56130"
      },
      "source": [
        "# Initialize the Gemini API model\n",
        "gemini_model = genai.GenerativeModel('gemini-1.5-flash-latest')\n",
        "\n",
        "# Removed chunk_text import as it's no longer strictly needed if processing whole reports\n",
        "# from .ipynb_checkpoints.58181146-checkpoint import chunk_text # Assuming chunk_text is defined in a previous cell\n",
        "\n",
        "def extract_report_data(report, model, schema_fields, chunk_size=8000, overlap=1000):\n",
        "    \"\"\"Extracts information from text, optionally chunking for very long reports.\"\"\"\n",
        "    # Check if chunking is necessary based on report length\n",
        "    if len(report) > chunk_size:\n",
        "        # If chunking is needed, use the existing chunking logic\n",
        "        chunks = chunk_text(report, chunk_size, overlap) # chunk_text needs to be available\n",
        "    else:\n",
        "        # If report is within chunk size, treat it as a single chunk\n",
        "        chunks = [report]\n",
        "\n",
        "    extracted_chunks = []\n",
        "    for chunk in chunks:\n",
        "        prompt = make_prompt(chunk, schema_fields)\n",
        "        try:\n",
        "            response = model.generate_content(prompt)\n",
        "            extracted_chunks.append(response.text)\n",
        "        except Exception as e:\n",
        "            print(f\"Error generating content for chunk: {e}\")\n",
        "            extracted_chunks.append(\"\") # Append an empty string or handle error as needed\n",
        "    return extracted_chunks\n",
        "\n",
        "# Assuming 'report' and 'schema_fields' are defined in previous cells\n",
        "# Assuming 'combine_extracted_data' is defined in a previous cell\n",
        "\n",
        "# Example usage:\n",
        "extracted_data_gemini = extract_report_data(report, gemini_model, schema_fields)\n",
        "final_report_data_gemini = combine_extracted_data(extracted_data_gemini, schema_fields)\n",
        "print(final_report_data_gemini)"
      ],
      "execution_count": 18,
      "outputs": [
        {
          "output_type": "stream",
          "name": "stdout",
          "text": [
            "Warning: Could not decode JSON from chunk: ```json\n",
            "{\n",
            "  \"previous_experience\": \"Experienced with LSD, psilocybin mushrooms, 2C-B, 2C-D, Mescaline, 5-MeO-DMT, 5-MeO-DiPT, and DMT (vaporized, IV, IM).\",\n",
            "  \"set_and_setting\": \"With experienced partner E in a safe and comfortable setting. Partner held space.\",\n",
            "  \"before_after_changes\": \"Reduced stimulant use, dietary changes (vegan, reduced dairy, sugar, salt), reduced kratom consumption, abstinence from alcohol and cannabis. Journaling before and after.\",\n",
            "  \"extraordinary_thinking\": \"Felt a desire to break the chain of suffering; experienced empathy for family members and a desire for their healing.\",\n",
            "  \"combination_with_other_substances\": \"Ayahuasca (containing THH and Harmine), small amount of clonidine for sleep.\",\n",
            "  \"intention\": \"Release baggage, ill-will, fear, insecurity; trust the process; feel love; experience forgiveness; live in peace; help others.\",\n",
            "  \"experience_phases\": \"Initial DMT visuals, childhood trauma processing, empathy for family, forgiveness, self-love.\",\n",
            "  \"onset_description\": \"Mild warmth and comfort, followed by burning sensation in stomach, then rapid progression into DMT visuals.\",\n",
            "  \"perceived_realness\": \"Almost indistinguishable from IM DMT experience at 40mg.\",\n",
            "  \"objective_elements\": \"null\",\n",
            "  \"entities_or_other_beings\": \"Feminine presence(s) offering help.\",\n",
            "  \"childhood_trauma\": \"Experienced intense emotions (rage, grief, loneliness) related to childhood experiences of feeling alone and isolated.  Processed these feelings and offered forgiveness.\",\n",
            "  \"time_relation\": \"Distorted time perception, particularly during the main phase of the experience.\",\n",
            "  \"sex_effects\": \"null\",\n",
            "  \"self_love_experience\": \"Promised childhood self she would never be alone again.\",\n",
            "  \"semantic_relations\": \"null\",\n",
            "  \"year_of_experience\": \"null\",\n",
            "  \"most_important_element\": \"Processing and releasing childhood trauma and offering self-forgiveness.\"\n",
            "}\n",
            "```\n",
            "\n",
            "Warning: Could not decode JSON from chunk: ```json\n",
            "{\n",
            "  \"previous_experience\": null,\n",
            "  \"set_and_setting\": null,\n",
            "  \"before_after_changes\": \"Felt exhausted like being on a large dose of stimulants after the first experience. Experienced inflammation in the body, especially sinuses, after waking up.\",\n",
            "  \"extraordinary_thinking\": null,\n",
            "  \"combination_with_other_substances\": \"First experience: 35mg DMT booster capsule, 2 skullcap extract tablets and .1mg clonidine, another .1mg of clonidine later. Second experience: THH + Harmine in grapefruit juice, 60mg DMT Fumarate in gel cap, another 210mg THH, 210mg Harmine, and an additional 20mg Harmaline.\",\n",
            "  \"intention\": \"To let go of hurt and suffering from childhood, forgiveness, process relationships with ex-partner and best friend. Second experience: process things around time with ex-partner, allow self to feel things without rushing.\",\n",
            "  \"experience_phases\": \"First experience: Grief, forgiveness, love and empathy for childhood self, anger and disgust towards ex-partner, grief, anger, and confusion about relationship with best friend, empathy and forgiveness for best friend, letting go of expectations. Second experience: Restlessness and anxiety, mild and subtle altered state, redose, peak effects less intense than day 1, extremely difficult and uncomfortable experience, feeling like mind was being ripped from body.\",\n",
            "  \"onset_description\": \"First experience: Gradual. Second experience: Slow onset, initially felt little to no effects, then rapid onset after redosing.\",\n",
            "  \"perceived_realness\": null,\n",
            "  \"objective_elements\": null,\n",
            "  \"entities_or_other_beings\": null,\n",
            "  \"childhood_trauma\": \"Experienced grief and forgiveness towards family members, deep love and empathy for childhood self, promising never to be alone or feel that way again.\",\n",
            "  \"time_relation\": null,\n",
            "  \"sex_effects\": null,\n",
            "  \"self_love_experience\": \"Deep love and empathy for childhood self, promising never to be alone or feel that way again.\",\n",
            "  \"semantic_relations\": null,\n",
            "  \"year_of_experience\": null,\n",
            "  \"most_important_element\": \"Cathartic processing of relationships and childhood trauma.\"\n",
            "}\n",
            "```\n",
            "\n",
            "Warning: Could not decode JSON from chunk: ```json\n",
            "{\n",
            "  \"previous_experience\": \"distinguishable from IM DMT, but this time the visual/immersive effects were dulled somewhat\",\n",
            "  \"set_and_setting\": null,\n",
            "  \"before_after_changes\": \"Overall I am feeling profoundly grateful and at peace and present.\",\n",
            "  \"extraordinary_thinking\": \"lessons started...being present with my emotions and allowing myself to feel them and be present with them...I don’t often feel safe experiencing anger, but that it can be a valuable emotion...asking for what I need...sharing my feelings with E (and in general)...patience with myself...patience with E\",\n",
            "  \"combination_with_other_substances\": null,\n",
            "  \"intention\": null,\n",
            "  \"experience_phases\": [\"intense discomfort and overstimulation\", \"vivid and consuming DMT experience with \\\"joisting\\\" and \\\"vanquishing\\\"\", \"healing and learning phase with E's support\"],\n",
            "  \"onset_description\": \"The feeling was like something was trying to rip my mind away from my body. It was ceaseless and so completely overstimulating.\",\n",
            "  \"perceived_realness\": null,\n",
            "  \"objective_elements\": null,\n",
            "  \"entities_or_other_beings\": \"E's cat...felt like E’s familiar\",\n",
            "  \"childhood_trauma\": null,\n",
            "  \"time_relation\": \"time gets a little confusing\",\n",
            "  \"sex_effects\": null,\n",
            "  \"self_love_experience\": null,\n",
            "  \"semantic_relations\": null,\n",
            "  \"year_of_experience\": null,\n",
            "  \"most_important_element\": \"E showing up for me so hard during the entire experience\"\n",
            "}\n",
            "```\n",
            "\n",
            "Warning: Could not decode JSON from chunk: ```json\n",
            "{\n",
            "  \"previous_experience\": null,\n",
            "  \"set_and_setting\": null,\n",
            "  \"before_after_changes\": \"Feeling profoundly grateful and at peace and present.  Surprising amount of energy throughout the day following the second dosing session.\",\n",
            "  \"extraordinary_thinking\": null,\n",
            "  \"combination_with_other_substances\": null,\n",
            "  \"intention\": null,\n",
            "  \"experience_phases\": null,\n",
            "  \"onset_description\": \"Mild waves of flickery light and unsteadiness. Frequent waves of restless energy.\",\n",
            "  \"perceived_realness\": null,\n",
            "  \"objective_elements\": null,\n",
            "  \"entities_or_other_beings\": null,\n",
            "  \"childhood_trauma\": null,\n",
            "  \"time_relation\": null,\n",
            "  \"sex_effects\": null,\n",
            "  \"self_love_experience\": null,\n",
            "  \"semantic_relations\": null,\n",
            "  \"year_of_experience\": null,\n",
            "  \"most_important_element\": \"Feeling profoundly grateful and at peace and present.\"\n",
            "}\n",
            "```\n",
            "\n",
            "{'previous_experience': None, 'set_and_setting': None, 'before_after_changes': None, 'extraordinary_thinking': None, 'combination_with_other_substances': None, 'intention': None, 'experience_phases': None, 'onset_description': None, 'perceived_realness': None, 'objective_elements': None, 'entities_or_other_beings': None, 'childhood_trauma': None, 'time_relation': None, 'sex_effects': None, 'self_love_experience': None, 'semantic_relations': None, 'year_of_experience': None, 'most_important_element': None}\n"
          ]
        }
      ]
    },
    {
      "cell_type": "code",
      "source": [],
      "metadata": {
        "id": "sNAudwMdLJtL"
      },
      "execution_count": null,
      "outputs": []
    },
    {
      "cell_type": "code",
      "metadata": {
        "colab": {
          "base_uri": "https://localhost:8080/",
          "height": 1000
        },
        "id": "68b97f56",
        "outputId": "5f177675-1892-4996-d32a-6039fc454e87"
      },
      "source": [
        "!pip install google-generativeai"
      ],
      "execution_count": 5,
      "outputs": [
        {
          "output_type": "stream",
          "name": "stdout",
          "text": [
            "Collecting google-generativeai\n",
            "  Downloading google_generativeai-0.8.5-py3-none-any.whl.metadata (3.9 kB)\n",
            "Collecting google-ai-generativelanguage==0.6.15 (from google-generativeai)\n",
            "  Downloading google_ai_generativelanguage-0.6.15-py3-none-any.whl.metadata (5.7 kB)\n",
            "Requirement already satisfied: google-api-core in /usr/local/lib/python3.12/dist-packages (from google-generativeai) (2.25.1)\n",
            "Collecting google-api-python-client (from google-generativeai)\n",
            "  Downloading google_api_python_client-2.179.0-py3-none-any.whl.metadata (7.0 kB)\n",
            "Requirement already satisfied: google-auth>=2.15.0 in /usr/local/lib/python3.12/dist-packages (from google-generativeai) (2.38.0)\n",
            "Requirement already satisfied: protobuf in /usr/local/lib/python3.12/dist-packages (from google-generativeai) (6.32.0)\n",
            "Requirement already satisfied: pydantic in /usr/local/lib/python3.12/dist-packages (from google-generativeai) (2.11.7)\n",
            "Requirement already satisfied: tqdm in /usr/local/lib/python3.12/dist-packages (from google-generativeai) (4.67.1)\n",
            "Requirement already satisfied: typing-extensions in /usr/local/lib/python3.12/dist-packages (from google-generativeai) (4.14.1)\n",
            "Requirement already satisfied: proto-plus<2.0.0dev,>=1.22.3 in /usr/local/lib/python3.12/dist-packages (from google-ai-generativelanguage==0.6.15->google-generativeai) (1.26.1)\n",
            "Collecting protobuf (from google-generativeai)\n",
            "  Downloading protobuf-5.29.5-cp38-abi3-manylinux2014_x86_64.whl.metadata (592 bytes)\n",
            "Requirement already satisfied: googleapis-common-protos<2.0.0,>=1.56.2 in /usr/local/lib/python3.12/dist-packages (from google-api-core->google-generativeai) (1.70.0)\n",
            "Requirement already satisfied: requests<3.0.0,>=2.18.0 in /usr/local/lib/python3.12/dist-packages (from google-api-core->google-generativeai) (2.32.4)\n",
            "Requirement already satisfied: cachetools<6.0,>=2.0.0 in /usr/local/lib/python3.12/dist-packages (from google-auth>=2.15.0->google-generativeai) (5.5.2)\n",
            "Requirement already satisfied: pyasn1-modules>=0.2.1 in /usr/local/lib/python3.12/dist-packages (from google-auth>=2.15.0->google-generativeai) (0.4.2)\n",
            "Requirement already satisfied: rsa<5,>=3.1.4 in /usr/local/lib/python3.12/dist-packages (from google-auth>=2.15.0->google-generativeai) (4.9.1)\n",
            "Requirement already satisfied: httplib2<1.0.0,>=0.19.0 in /usr/lib/python3/dist-packages (from google-api-python-client->google-generativeai) (0.20.2)\n",
            "Collecting google-auth-httplib2<1.0.0,>=0.2.0 (from google-api-python-client->google-generativeai)\n",
            "  Downloading google_auth_httplib2-0.2.0-py2.py3-none-any.whl.metadata (2.2 kB)\n",
            "Collecting uritemplate<5,>=3.0.1 (from google-api-python-client->google-generativeai)\n",
            "  Downloading uritemplate-4.2.0-py3-none-any.whl.metadata (2.6 kB)\n",
            "Requirement already satisfied: annotated-types>=0.6.0 in /usr/local/lib/python3.12/dist-packages (from pydantic->google-generativeai) (0.7.0)\n",
            "Requirement already satisfied: pydantic-core==2.33.2 in /usr/local/lib/python3.12/dist-packages (from pydantic->google-generativeai) (2.33.2)\n",
            "Requirement already satisfied: typing-inspection>=0.4.0 in /usr/local/lib/python3.12/dist-packages (from pydantic->google-generativeai) (0.4.1)\n",
            "Requirement already satisfied: grpcio<2.0.0,>=1.33.2 in /usr/local/lib/python3.12/dist-packages (from google-api-core[grpc]!=2.0.*,!=2.1.*,!=2.10.*,!=2.2.*,!=2.3.*,!=2.4.*,!=2.5.*,!=2.6.*,!=2.7.*,!=2.8.*,!=2.9.*,<3.0.0dev,>=1.34.1->google-ai-generativelanguage==0.6.15->google-generativeai) (1.74.0)\n",
            "Collecting grpcio-status<2.0.0,>=1.33.2 (from google-api-core[grpc]!=2.0.*,!=2.1.*,!=2.10.*,!=2.2.*,!=2.3.*,!=2.4.*,!=2.5.*,!=2.6.*,!=2.7.*,!=2.8.*,!=2.9.*,<3.0.0dev,>=1.34.1->google-ai-generativelanguage==0.6.15->google-generativeai)\n",
            "  Downloading grpcio_status-1.74.0-py3-none-any.whl.metadata (1.1 kB)\n",
            "Requirement already satisfied: pyparsing!=3.0.0,!=3.0.1,!=3.0.2,!=3.0.3,<4,>=2.4.2 in /usr/local/lib/python3.12/dist-packages (from httplib2<1.0.0,>=0.19.0->google-api-python-client->google-generativeai) (3.2.3)\n",
            "Requirement already satisfied: pyasn1<0.7.0,>=0.6.1 in /usr/local/lib/python3.12/dist-packages (from pyasn1-modules>=0.2.1->google-auth>=2.15.0->google-generativeai) (0.6.1)\n",
            "Requirement already satisfied: charset_normalizer<4,>=2 in /usr/local/lib/python3.12/dist-packages (from requests<3.0.0,>=2.18.0->google-api-core->google-generativeai) (3.4.3)\n",
            "Requirement already satisfied: idna<4,>=2.5 in /usr/local/lib/python3.12/dist-packages (from requests<3.0.0,>=2.18.0->google-api-core->google-generativeai) (3.10)\n",
            "Requirement already satisfied: urllib3<3,>=1.21.1 in /usr/local/lib/python3.12/dist-packages (from requests<3.0.0,>=2.18.0->google-api-core->google-generativeai) (2.5.0)\n",
            "Requirement already satisfied: certifi>=2017.4.17 in /usr/local/lib/python3.12/dist-packages (from requests<3.0.0,>=2.18.0->google-api-core->google-generativeai) (2025.8.3)\n",
            "INFO: pip is looking at multiple versions of grpcio-status to determine which version is compatible with other requirements. This could take a while.\n",
            "  Downloading grpcio_status-1.73.1-py3-none-any.whl.metadata (1.1 kB)\n",
            "  Downloading grpcio_status-1.73.0-py3-none-any.whl.metadata (1.1 kB)\n",
            "  Downloading grpcio_status-1.72.2-py3-none-any.whl.metadata (1.1 kB)\n",
            "  Downloading grpcio_status-1.72.1-py3-none-any.whl.metadata (1.1 kB)\n",
            "  Downloading grpcio_status-1.71.2-py3-none-any.whl.metadata (1.1 kB)\n",
            "Downloading google_generativeai-0.8.5-py3-none-any.whl (155 kB)\n",
            "\u001b[2K   \u001b[90m━━━━━━━━━━━━━━━━━━━━━━━━━━━━━━━━━━━━━━━━\u001b[0m \u001b[32m155.4/155.4 kB\u001b[0m \u001b[31m4.8 MB/s\u001b[0m eta \u001b[36m0:00:00\u001b[0m\n",
            "\u001b[?25hDownloading google_ai_generativelanguage-0.6.15-py3-none-any.whl (1.3 MB)\n",
            "\u001b[2K   \u001b[90m━━━━━━━━━━━━━━━━━━━━━━━━━━━━━━━━━━━━━━━━\u001b[0m \u001b[32m1.3/1.3 MB\u001b[0m \u001b[31m30.7 MB/s\u001b[0m eta \u001b[36m0:00:00\u001b[0m\n",
            "\u001b[?25hDownloading protobuf-5.29.5-cp38-abi3-manylinux2014_x86_64.whl (319 kB)\n",
            "\u001b[2K   \u001b[90m━━━━━━━━━━━━━━━━━━━━━━━━━━━━━━━━━━━━━━━━\u001b[0m \u001b[32m319.9/319.9 kB\u001b[0m \u001b[31m22.6 MB/s\u001b[0m eta \u001b[36m0:00:00\u001b[0m\n",
            "\u001b[?25hDownloading google_api_python_client-2.179.0-py3-none-any.whl (14.0 MB)\n",
            "\u001b[2K   \u001b[90m━━━━━━━━━━━━━━━━━━━━━━━━━━━━━━━━━━━━━━━━\u001b[0m \u001b[32m14.0/14.0 MB\u001b[0m \u001b[31m99.5 MB/s\u001b[0m eta \u001b[36m0:00:00\u001b[0m\n",
            "\u001b[?25hDownloading google_auth_httplib2-0.2.0-py2.py3-none-any.whl (9.3 kB)\n",
            "Downloading uritemplate-4.2.0-py3-none-any.whl (11 kB)\n",
            "Downloading grpcio_status-1.71.2-py3-none-any.whl (14 kB)\n",
            "Installing collected packages: uritemplate, protobuf, grpcio-status, google-auth-httplib2, google-api-python-client, google-ai-generativelanguage, google-generativeai\n",
            "  Attempting uninstall: protobuf\n",
            "    Found existing installation: protobuf 6.32.0\n",
            "    Uninstalling protobuf-6.32.0:\n",
            "      Successfully uninstalled protobuf-6.32.0\n",
            "Successfully installed google-ai-generativelanguage-0.6.15 google-api-python-client-2.179.0 google-auth-httplib2-0.2.0 google-generativeai-0.8.5 grpcio-status-1.71.2 protobuf-5.29.5 uritemplate-4.2.0\n"
          ]
        },
        {
          "output_type": "display_data",
          "data": {
            "application/vnd.colab-display-data+json": {
              "pip_warning": {
                "packages": [
                  "google"
                ]
              },
              "id": "9841746917bf4d4db8a8b034cd906e93"
            }
          },
          "metadata": {}
        }
      ]
    },
    {
      "cell_type": "code",
      "source": [],
      "metadata": {
        "id": "3zGNSI4owlSN"
      },
      "execution_count": null,
      "outputs": []
    },
    {
      "cell_type": "code",
      "metadata": {
        "colab": {
          "base_uri": "https://localhost:8080/"
        },
        "id": "7bc57cf3",
        "outputId": "9d13746b-ebdf-4a4c-a5a6-83efbf1d0753"
      },
      "source": [
        "import json\n",
        "import re # Import the regular expression module\n",
        "\n",
        "def combine_extracted_data(extracted_chunks_list, schema_fields):\n",
        "    \"\"\"Combines extracted data from multiple chunks into a single dictionary based on specified rules.\"\"\"\n",
        "    combined_data = {field: [] for field in schema_fields}\n",
        "\n",
        "    for chunk_data_str in extracted_chunks_list:\n",
        "        try:\n",
        "            # Attempt to find and parse the JSON content within ```json ``` markers\n",
        "            json_match = re.search(r'```json\\s*(.*?)\\s*```', chunk_data_str, re.DOTALL)\n",
        "            if json_match:\n",
        "                json_content = json_match.group(1)\n",
        "                chunk_data = json.loads(json_content)\n",
        "                for field in schema_fields:\n",
        "                    if field in chunk_data and chunk_data[field] is not None:\n",
        "                        combined_data[field].append(chunk_data[field])\n",
        "            else:\n",
        "                # If no ```json ``` markers, try to parse the whole string as JSON\n",
        "                chunk_data = json.loads(chunk_data_str)\n",
        "                for field in schema_fields:\n",
        "                    if field in chunk_data and chunk_data[field] is not None:\n",
        "                        combined_data[field].append(chunk_data[field])\n",
        "        except json.JSONDecodeError:\n",
        "            print(f\"Warning: Could not decode JSON from chunk: {chunk_data_str[:200]}...\") # Print only start of problematic chunk\n",
        "            # Handle cases where the chunk output is not valid JSON\n",
        "\n",
        "    final_combined_data = {}\n",
        "    for field in schema_fields:\n",
        "        values = combined_data[field]\n",
        "        if not values:\n",
        "            final_combined_data[field] = None\n",
        "        elif len(values) == 1:\n",
        "            final_combined_data[field] = values[0]\n",
        "        else:\n",
        "            # Apply combining rules for multiple values\n",
        "            if all(isinstance(v, str) for v in values):\n",
        "                # Concatenate strings\n",
        "                final_combined_data[field] = \" ; \".join(v for v in values if v)\n",
        "            elif all(isinstance(v, list) for v in values):\n",
        "                # Merge lists and avoid duplicates\n",
        "                merged_list = []\n",
        "                for sublist in values:\n",
        "                    for item in sublist:\n",
        "                        if item not in merged_list:\n",
        "                            merged_list.append(item)\n",
        "                final_combined_data[field] = merged_list\n",
        "            else:\n",
        "                # Handle conflicting scalars or mixed types - keeping the first non-null value for simplicity\n",
        "                # More complex logic could be added here based on specific field requirements\n",
        "                # Check if values contains lists before attempting to create a set\n",
        "                if any(isinstance(v, list) for v in values):\n",
        "                     # If there are lists, apply list merging logic\n",
        "                     merged_list = []\n",
        "                     for item in values:\n",
        "                          if isinstance(item, list):\n",
        "                               for sub_item in item:\n",
        "                                    if sub_item not in merged_list:\n",
        "                                         merged_list.append(sub_item)\n",
        "                          elif item is not None and item not in merged_list:\n",
        "                               merged_list.append(item)\n",
        "                     final_combined_data[field] = merged_list if merged_list else None\n",
        "                else:\n",
        "                    # If no lists, proceed with scalar conflict check\n",
        "                    first_non_null = next((v for v in values if v is not None), None)\n",
        "                    final_combined_data[field] = first_non_null\n",
        "                    if len(set(values)) > 1 and first_non_null is not None:\n",
        "                         print(f\"Warning: Conflicting values found for field '{field}'. Keeping the first non-null value: {first_non_null}\")\n",
        "\n",
        "\n",
        "    return final_combined_data\n",
        "\n",
        "# Assuming extracted_data_gemini and schema_fields are defined in previous cells\n",
        "# Assuming combine_extracted_data is defined in a previous cell\n",
        "\n",
        "final_report_data_gemini_combined = combine_extracted_data(extracted_data_gemini, schema_fields)\n",
        "print(json.dumps(final_report_data_gemini_combined, indent=2))"
      ],
      "execution_count": 27,
      "outputs": [
        {
          "output_type": "stream",
          "name": "stdout",
          "text": [
            "{\n",
            "  \"previous_experience\": \"Experienced with LSD, psilocybin mushrooms, 2C-B, 2C-D, Mescaline, 5-MeO-DMT, 5-MeO-DiPT, and DMT (vaporized, IV, IM). ; distinguishable from IM DMT, but this time the visual/immersive effects were dulled somewhat\",\n",
            "  \"set_and_setting\": \"With experienced partner E in a safe and comfortable setting. Partner held space.\",\n",
            "  \"before_after_changes\": \"Reduced stimulant use, dietary changes (vegan, reduced dairy, sugar, salt), reduced kratom consumption, abstinence from alcohol and cannabis. Journaling before and after. ; Felt exhausted like being on a large dose of stimulants after the first experience. Experienced inflammation in the body, especially sinuses, after waking up. ; Overall I am feeling profoundly grateful and at peace and present. ; Feeling profoundly grateful and at peace and present.  Surprising amount of energy throughout the day following the second dosing session.\",\n",
            "  \"extraordinary_thinking\": \"Felt a desire to break the chain of suffering; experienced empathy for family members and a desire for their healing. ; lessons started...being present with my emotions and allowing myself to feel them and be present with them...I don\\u2019t often feel safe experiencing anger, but that it can be a valuable emotion...asking for what I need...sharing my feelings with E (and in general)...patience with myself...patience with E\",\n",
            "  \"combination_with_other_substances\": \"Ayahuasca (containing THH and Harmine), small amount of clonidine for sleep. ; First experience: 35mg DMT booster capsule, 2 skullcap extract tablets and .1mg clonidine, another .1mg of clonidine later. Second experience: THH + Harmine in grapefruit juice, 60mg DMT Fumarate in gel cap, another 210mg THH, 210mg Harmine, and an additional 20mg Harmaline.\",\n",
            "  \"intention\": \"Release baggage, ill-will, fear, insecurity; trust the process; feel love; experience forgiveness; live in peace; help others. ; To let go of hurt and suffering from childhood, forgiveness, process relationships with ex-partner and best friend. Second experience: process things around time with ex-partner, allow self to feel things without rushing.\",\n",
            "  \"experience_phases\": [\n",
            "    \"Initial DMT visuals, childhood trauma processing, empathy for family, forgiveness, self-love.\",\n",
            "    \"First experience: Grief, forgiveness, love and empathy for childhood self, anger and disgust towards ex-partner, grief, anger, and confusion about relationship with best friend, empathy and forgiveness for best friend, letting go of expectations. Second experience: Restlessness and anxiety, mild and subtle altered state, redose, peak effects less intense than day 1, extremely difficult and uncomfortable experience, feeling like mind was being ripped from body.\",\n",
            "    \"intense discomfort and overstimulation\",\n",
            "    \"vivid and consuming DMT experience with \\\"joisting\\\" and \\\"vanquishing\\\"\",\n",
            "    \"healing and learning phase with E's support\"\n",
            "  ],\n",
            "  \"onset_description\": \"Mild warmth and comfort, followed by burning sensation in stomach, then rapid progression into DMT visuals. ; First experience: Gradual. Second experience: Slow onset, initially felt little to no effects, then rapid onset after redosing. ; The feeling was like something was trying to rip my mind away from my body. It was ceaseless and so completely overstimulating. ; Mild waves of flickery light and unsteadiness. Frequent waves of restless energy.\",\n",
            "  \"perceived_realness\": \"Almost indistinguishable from IM DMT experience at 40mg.\",\n",
            "  \"objective_elements\": \"null\",\n",
            "  \"entities_or_other_beings\": \"Feminine presence(s) offering help. ; E's cat...felt like E\\u2019s familiar\",\n",
            "  \"childhood_trauma\": \"Experienced intense emotions (rage, grief, loneliness) related to childhood experiences of feeling alone and isolated.  Processed these feelings and offered forgiveness. ; Experienced grief and forgiveness towards family members, deep love and empathy for childhood self, promising never to be alone or feel that way again.\",\n",
            "  \"time_relation\": \"Distorted time perception, particularly during the main phase of the experience. ; time gets a little confusing\",\n",
            "  \"sex_effects\": \"null\",\n",
            "  \"self_love_experience\": \"Promised childhood self she would never be alone again. ; Deep love and empathy for childhood self, promising never to be alone or feel that way again.\",\n",
            "  \"semantic_relations\": \"null\",\n",
            "  \"year_of_experience\": \"null\",\n",
            "  \"most_important_element\": \"Processing and releasing childhood trauma and offering self-forgiveness. ; Cathartic processing of relationships and childhood trauma. ; E showing up for me so hard during the entire experience ; Feeling profoundly grateful and at peace and present.\"\n",
            "}\n"
          ]
        }
      ]
    },
    {
      "cell_type": "code",
      "source": [],
      "metadata": {
        "id": "wWBrSdCj4QG4"
      },
      "execution_count": null,
      "outputs": []
    },
    {
      "cell_type": "markdown",
      "metadata": {
        "id": "f5e312fb"
      },
      "source": [
        "# Task\n",
        "Extract structured data from Erowid trip reports linked from \"https://www.erowid.org/experiences/search.cgi?Search=&amp;Move=Search&amp;MSID=&amp;ALL=lsd&amp;C1=-1&amp;C2=-1&amp;C3=-1&amp;C4=-1&amp;Context=1&amp;SortBy=Date&amp;filtered=0&amp;Limit=10\" using the Gemini API, combining data from multiple JSON chunks into a single JSON object per report, including the original link in the output."
      ]
    },
    {
      "cell_type": "markdown",
      "metadata": {
        "id": "d6acacdb"
      },
      "source": [
        "## Iterate through erowid links\n",
        "\n",
        "### Subtask:\n",
        "Loop through the `links` list obtained from scraping the Erowid search results page.\n"
      ]
    },
    {
      "cell_type": "markdown",
      "metadata": {
        "id": "fd3226e8"
      },
      "source": [
        "**Reasoning**:\n",
        "Initialize an empty list to store the structured reports and start a loop to iterate through the extracted links.\n",
        "\n"
      ]
    },
    {
      "cell_type": "code",
      "metadata": {
        "colab": {
          "base_uri": "https://localhost:8080/",
          "height": 176
        },
        "id": "85ce69c4",
        "outputId": "5312c435-7ace-4c29-dcb3-8e08a62276ae"
      },
      "source": [
        "structured_reports = []\n",
        "for link in links:\n",
        "    pass  # This is where the extraction and combining logic will go in the next steps"
      ],
      "execution_count": 28,
      "outputs": [
        {
          "output_type": "error",
          "ename": "NameError",
          "evalue": "name 'links' is not defined",
          "traceback": [
            "\u001b[0;31m---------------------------------------------------------------------------\u001b[0m",
            "\u001b[0;31mNameError\u001b[0m                                 Traceback (most recent call last)",
            "\u001b[0;32m/tmp/ipython-input-1394981208.py\u001b[0m in \u001b[0;36m<cell line: 0>\u001b[0;34m()\u001b[0m\n\u001b[1;32m      1\u001b[0m \u001b[0mstructured_reports\u001b[0m \u001b[0;34m=\u001b[0m \u001b[0;34m[\u001b[0m\u001b[0;34m]\u001b[0m\u001b[0;34m\u001b[0m\u001b[0;34m\u001b[0m\u001b[0m\n\u001b[0;32m----> 2\u001b[0;31m \u001b[0;32mfor\u001b[0m \u001b[0mlink\u001b[0m \u001b[0;32min\u001b[0m \u001b[0mlinks\u001b[0m\u001b[0;34m:\u001b[0m\u001b[0;34m\u001b[0m\u001b[0;34m\u001b[0m\u001b[0m\n\u001b[0m\u001b[1;32m      3\u001b[0m     \u001b[0;32mpass\u001b[0m  \u001b[0;31m# This is where the extraction and combining logic will go in the next steps\u001b[0m\u001b[0;34m\u001b[0m\u001b[0;34m\u001b[0m\u001b[0m\n",
            "\u001b[0;31mNameError\u001b[0m: name 'links' is not defined"
          ]
        }
      ]
    },
    {
      "cell_type": "markdown",
      "metadata": {
        "id": "b0ac59ba"
      },
      "source": [
        "**Reasoning**:\n",
        "The `links` variable was not defined because the previous cell that scraped the links failed to execute completely due to a KeyboardInterrupt. Need to re-execute the scraping process to get the list of links.\n",
        "\n"
      ]
    },
    {
      "cell_type": "code",
      "metadata": {
        "colab": {
          "base_uri": "https://localhost:8080/"
        },
        "id": "L6NmtQPT7lO9",
        "outputId": "97a429da-bd54-429f-cb95-851f64a9993e"
      },
      "source": [
        "import requests\n",
        "from bs4 import BeautifulSoup\n",
        "\n",
        "url = \"https://www.erowid.org/experiences/search.cgi?Search=&amp;Move=Search&amp;MSID=&amp;ALL=lsd&amp;C1=-1&amp;C2=-1&amp;C3=-1&amp;C4=-1&amp;Context=1&amp;SortBy=Date&amp;filtered=0&amp;Limit=10\"\n",
        "response = requests.get(url, verify=False)  # Disable SSL verification\n",
        "soup = BeautifulSoup(response.content, 'html.parser')\n",
        "\n",
        "# Find all tr elements with class \"exp-list-row\"\n",
        "rows = soup.find_all('tr', class_='exp-list-row')\n",
        "\n",
        "# Extract href from the <a> tag within each row\n",
        "links = []\n",
        "for row in rows:\n",
        "    link_tag = row.find('a')\n",
        "    if link_tag and 'href' in link_tag.attrs:\n",
        "        links.append(\"https://www.erowid.org/experiences/\" + link_tag['href'])\n",
        "\n",
        "# Initialize the list and start the loop as per the subtask\n",
        "structured_reports = []\n",
        "for link in links:\n",
        "    pass  # This is where the extraction and combining logic will go in the next steps"
      ],
      "execution_count": 29,
      "outputs": [
        {
          "output_type": "stream",
          "name": "stderr",
          "text": [
            "/usr/local/lib/python3.12/dist-packages/urllib3/connectionpool.py:1097: InsecureRequestWarning: Unverified HTTPS request is being made to host 'www.erowid.org'. Adding certificate verification is strongly advised. See: https://urllib3.readthedocs.io/en/latest/advanced-usage.html#tls-warnings\n",
            "  warnings.warn(\n"
          ]
        }
      ]
    },
    {
      "cell_type": "markdown",
      "metadata": {
        "id": "c0e5afdf"
      },
      "source": [
        "**Reasoning**:\n",
        "Inside the loop, for each link, fetch the content of the trip report, extract the relevant parts (substance, dosechart, bodyweight, footdata), and store this raw extracted data along with the link.\n",
        "\n"
      ]
    },
    {
      "cell_type": "code",
      "metadata": {
        "id": "wW3WebK07oiM"
      },
      "source": [
        "import requests\n",
        "from bs4 import BeautifulSoup\n",
        "\n",
        "structured_reports = []\n",
        "\n",
        "for link in links:\n",
        "    try:\n",
        "        response = requests.get(link, verify=False)\n",
        "        soup = BeautifulSoup(response.content, 'html.parser')\n",
        "\n",
        "        # Extract substance\n",
        "        substance_div = soup.find('div', class_='substance')\n",
        "        substance = substance_div.text.strip() if substance_div else None\n",
        "\n",
        "        # Extract dosechart table (as HTML string)\n",
        "        dosechart_table = soup.find('table', class_='dosechart')\n",
        "        dosechart = str(dosechart_table) if dosechart_table else None\n",
        "\n",
        "        # Extract bodyweight table (as HTML string)\n",
        "        bodyweight_table = soup.find('table', class_='bodyweight')\n",
        "        bodyweight = str(bodyweight_table) if bodyweight_table else None\n",
        "\n",
        "        # Extract footdata table (as HTML string)\n",
        "        footdata_table = soup.find('table', class_='footdata')\n",
        "        footdata = str(footdata_table) if footdata_table else None\n",
        "\n",
        "        # Store the raw extracted data for this report\n",
        "        structured_reports.append({\n",
        "            'link': link,\n",
        "            'substance': substance,\n",
        "            'dosechart': dosechart,\n",
        "            'bodyweight': bodyweight,\n",
        "            'footdata': footdata\n",
        "        })\n",
        "\n",
        "    except Exception as e:\n",
        "        print(f\"Error processing link {link}: {e}\")\n",
        "\n",
        "# Now structured_reports contains the raw scraped data for each link"
      ],
      "execution_count": 30,
      "outputs": []
    },
    {
      "cell_type": "markdown",
      "metadata": {
        "id": "39c550aa"
      },
      "source": [
        "**Reasoning**:\n",
        "The current subtask is to loop through the `links` list and extract the raw data. The previous code block successfully completed this task. The next logical step to fully complete the subtask is to apply the extraction and combination logic using the Gemini API to the scraped data.\n",
        "\n"
      ]
    },
    {
      "cell_type": "code",
      "metadata": {
        "id": "90e49a88"
      },
      "source": [
        "def chunk_text(text, chunk_size=500, overlap=50):\n",
        "    \"\"\"Splits text into overlapping chunks.\"\"\"\n",
        "    chunks = []\n",
        "    start = 0\n",
        "    while start < len(text):\n",
        "        end = start + chunk_size\n",
        "        chunk = text[start:end]\n",
        "        chunks.append(chunk)\n",
        "        start += chunk_size - overlap\n",
        "    return chunks\n",
        "\n",
        "def make_prompt(report, schema_fields):\n",
        "    return f\"\"\"\n",
        "Extract ONLY the following DMT trip report into a JSON object with these fields:\n",
        "{', '.join(schema_fields)}.\n",
        "If a field is not explicitly mentioned in the report, return null for that field.\n",
        "Ensure the output is valid JSON.\n",
        "short and extracted as possible\n",
        "\n",
        "Report: {report}\n",
        "\"\"\"\n",
        "\n",
        "def extract_report_data(report_text, model, schema_fields, chunk_size=8000, overlap=1000):\n",
        "    \"\"\"Extracts information from text, optionally chunking for very long reports.\"\"\"\n",
        "    if len(report_text) > chunk_size:\n",
        "        chunks = chunk_text(report_text, chunk_size, overlap)\n",
        "    else:\n",
        "        chunks = [report_text]\n",
        "\n",
        "    extracted_chunks = []\n",
        "    for chunk in chunks:\n",
        "        prompt = make_prompt(chunk, schema_fields)\n",
        "        try:\n",
        "            response = model.generate_content(prompt)\n",
        "            extracted_chunks.append(response.text)\n",
        "        except Exception as e:\n",
        "            print(f\"Error generating content for chunk: {e}\")\n",
        "            extracted_chunks.append(\"\")\n",
        "    return extracted_chunks\n",
        "\n",
        "import re\n",
        "\n",
        "def combine_extracted_data(extracted_chunks_list, schema_fields):\n",
        "    \"\"\"Combines extracted data from multiple chunks into a single dictionary based on specified rules.\"\"\"\n",
        "    combined_data = {field: [] for field in schema_fields}\n",
        "\n",
        "    for chunk_data_str in extracted_chunks_list:\n",
        "        try:\n",
        "            json_match = re.search(r'```json\\s*(.*?)\\s*```', chunk_data_str, re.DOTALL)\n",
        "            if json_match:\n",
        "                json_content = json_match.group(1)\n",
        "                chunk_data = json.loads(json_content)\n",
        "                for field in schema_fields:\n",
        "                    if field in chunk_data and chunk_data[field] is not None:\n",
        "                        combined_data[field].append(chunk_data[field])\n",
        "            else:\n",
        "                chunk_data = json.loads(chunk_data_str)\n",
        "                for field in schema_fields:\n",
        "                    if field in chunk_data and chunk_data[field] is not None:\n",
        "                        combined_data[field].append(chunk_data[field])\n",
        "        except json.JSONDecodeError:\n",
        "            print(f\"Warning: Could not decode JSON from chunk: {chunk_data_str[:200]}...\")\n",
        "\n",
        "    final_combined_data = {}\n",
        "    for field in schema_fields:\n",
        "        values = combined_data[field]\n",
        "        if not values:\n",
        "            final_combined_data[field] = None\n",
        "        elif len(values) == 1:\n",
        "            final_combined_data[field] = values[0]\n",
        "        else:\n",
        "            if all(isinstance(v, str) for v in values):\n",
        "                final_combined_data[field] = \" ; \".join(v for v in values if v)\n",
        "            elif all(isinstance(v, list) for v in values):\n",
        "                merged_list = []\n",
        "                for sublist in values:\n",
        "                    for item in sublist:\n",
        "                        if item not in merged_list:\n",
        "                            merged_list.append(item)\n",
        "                final_combined_data[field] = merged_list\n",
        "            else:\n",
        "                if any(isinstance(v, list) for v in values):\n",
        "                     merged_list = []\n",
        "                     for item in values:\n",
        "                          if isinstance(item, list):\n",
        "                               for sub_item in item:\n",
        "                                    if sub_item not in merged_list:\n",
        "                                         merged_list.append(sub_item)\n",
        "                          elif item is not None and item not in merged_list:\n",
        "                               merged_list.append(item)\n",
        "                     final_combined_data[field] = merged_list if merged_list else None\n",
        "                else:\n",
        "                    first_non_null = next((v for v in values if v is not None), None)\n",
        "                    final_combined_data[field] = first_non_null\n",
        "                    if len(set(values)) > 1 and first_non_null is not None:\n",
        "                         print(f\"Warning: Conflicting values found for field '{field}'. Keeping the first non-null value: {first_non_null})\")\n",
        "\n",
        "\n",
        "    return final_combined_data\n",
        "\n",
        "# Now, process each scraped report using Gemini and combine the results\n",
        "processed_reports = []\n",
        "\n",
        "for report_data in structured_reports:\n",
        "    # Assuming the main report text is within a specific HTML element on the page\n",
        "    # This part needs to be adjusted based on the actual Erowid page structure\n",
        "    # For now, let's assume the report text is available in a 'report_text' key\n",
        "    # which we would have scraped in the previous step (but haven't explicitly shown here)\n",
        "    # As a placeholder, let's use a dummy report text or assume it's in the 'report_data' dict\n",
        "    # If the report text isn't directly in structured_reports, you would need to scrape it here.\n",
        "\n",
        "    # *** IMPORTANT ***\n",
        "    # The previous step only scraped metadata (substance, dosechart, etc.).\n",
        "    # To get the full trip report text, we need to scrape the main content area of each linked page.\n",
        "    # This was not explicitly done in the previous step.\n",
        "    # For now, let's assume we have the full report text in a variable `full_report_text`\n",
        "    # fetched from the current `link`.\n",
        "\n",
        "    try:\n",
        "        # Re-fetch the page content to get the main report text\n",
        "        response = requests.get(report_data['link'], verify=False)\n",
        "        soup = BeautifulSoup(response.content, 'html.parser')\n",
        "\n",
        "        # *** Need to identify the HTML element containing the main report text ***\n",
        "        # Based on typical Erowid pages, the report text is often within a <td> or <div>\n",
        "        # with a specific class or ID. Let's assume it's a <td> with class 'text'\n",
        "        # You might need to inspect the actual page source to find the correct element.\n",
        "        report_text_element = soup.find('td', class_='text') # Placeholder element\n",
        "        full_report_text = report_text_element.get_text(strip=True) if report_text_element else \"\"\n",
        "\n",
        "\n",
        "        # Extract and combine data using Gemini\n",
        "        extracted_data_gemini = extract_report_data(full_report_text, gemini_model, schema_fields)\n",
        "        final_report_data_gemini_combined = combine_extracted_data(extracted_data_gemini, schema_fields)\n",
        "\n",
        "        # Add the original link to the combined data\n",
        "        final_report_data_gemini_combined['original_link'] = report_data['link']\n",
        "\n",
        "        # Append the combined data to the processed_reports list\n",
        "        processed_reports.append(final_report_data_gemini_combined)\n",
        "\n",
        "    except Exception as e:\n",
        "        print(f\"Error processing report from link {report_data['link']}: {e}\")\n",
        "\n",
        "# The processed_reports list now contains the structured data for each report\n",
        "# You can now inspect or further process processed_reports"
      ],
      "execution_count": 31,
      "outputs": []
    },
    {
      "cell_type": "markdown",
      "metadata": {
        "id": "6653a799"
      },
      "source": [
        "**Reasoning**:\n",
        "The current subtask is to loop through the `links` list and extract structured data. The previous code block successfully scraped the raw metadata and then attempted to scrape the full report text and process it with Gemini. The next step is to verify that the extraction and combination process worked correctly for at least the first few reports by displaying the contents of the `processed_reports` list.\n",
        "\n"
      ]
    },
    {
      "cell_type": "code",
      "metadata": {
        "colab": {
          "base_uri": "https://localhost:8080/",
          "height": 53
        },
        "id": "962f761a",
        "outputId": "8cdba250-e9d8-40af-88eb-bcc27ad56da9"
      },
      "source": [
        "import pandas as pd\n",
        "\n",
        "# Convert the list of dictionaries into a pandas DataFrame for easier viewing\n",
        "df_processed_reports = pd.DataFrame(processed_reports)\n",
        "\n",
        "# Display the first few rows of the DataFrame\n",
        "display(df_processed_reports.head())"
      ],
      "execution_count": 32,
      "outputs": [
        {
          "output_type": "display_data",
          "data": {
            "text/plain": [
              "Empty DataFrame\n",
              "Columns: []\n",
              "Index: []"
            ],
            "text/html": [
              "\n",
              "  <div id=\"df-df82d8bb-04b5-4ee1-bbd0-a22577ca93a3\" class=\"colab-df-container\">\n",
              "    <div>\n",
              "<style scoped>\n",
              "    .dataframe tbody tr th:only-of-type {\n",
              "        vertical-align: middle;\n",
              "    }\n",
              "\n",
              "    .dataframe tbody tr th {\n",
              "        vertical-align: top;\n",
              "    }\n",
              "\n",
              "    .dataframe thead th {\n",
              "        text-align: right;\n",
              "    }\n",
              "</style>\n",
              "<table border=\"1\" class=\"dataframe\">\n",
              "  <thead>\n",
              "    <tr style=\"text-align: right;\">\n",
              "      <th></th>\n",
              "    </tr>\n",
              "  </thead>\n",
              "  <tbody>\n",
              "  </tbody>\n",
              "</table>\n",
              "</div>\n",
              "    <div class=\"colab-df-buttons\">\n",
              "\n",
              "  <div class=\"colab-df-container\">\n",
              "    <button class=\"colab-df-convert\" onclick=\"convertToInteractive('df-df82d8bb-04b5-4ee1-bbd0-a22577ca93a3')\"\n",
              "            title=\"Convert this dataframe to an interactive table.\"\n",
              "            style=\"display:none;\">\n",
              "\n",
              "  <svg xmlns=\"http://www.w3.org/2000/svg\" height=\"24px\" viewBox=\"0 -960 960 960\">\n",
              "    <path d=\"M120-120v-720h720v720H120Zm60-500h600v-160H180v160Zm220 220h160v-160H400v160Zm0 220h160v-160H400v160ZM180-400h160v-160H180v160Zm440 0h160v-160H620v160ZM180-180h160v-160H180v160Zm440 0h160v-160H620v160Z\"/>\n",
              "  </svg>\n",
              "    </button>\n",
              "\n",
              "  <style>\n",
              "    .colab-df-container {\n",
              "      display:flex;\n",
              "      gap: 12px;\n",
              "    }\n",
              "\n",
              "    .colab-df-convert {\n",
              "      background-color: #E8F0FE;\n",
              "      border: none;\n",
              "      border-radius: 50%;\n",
              "      cursor: pointer;\n",
              "      display: none;\n",
              "      fill: #1967D2;\n",
              "      height: 32px;\n",
              "      padding: 0 0 0 0;\n",
              "      width: 32px;\n",
              "    }\n",
              "\n",
              "    .colab-df-convert:hover {\n",
              "      background-color: #E2EBFA;\n",
              "      box-shadow: 0px 1px 2px rgba(60, 64, 67, 0.3), 0px 1px 3px 1px rgba(60, 64, 67, 0.15);\n",
              "      fill: #174EA6;\n",
              "    }\n",
              "\n",
              "    .colab-df-buttons div {\n",
              "      margin-bottom: 4px;\n",
              "    }\n",
              "\n",
              "    [theme=dark] .colab-df-convert {\n",
              "      background-color: #3B4455;\n",
              "      fill: #D2E3FC;\n",
              "    }\n",
              "\n",
              "    [theme=dark] .colab-df-convert:hover {\n",
              "      background-color: #434B5C;\n",
              "      box-shadow: 0px 1px 3px 1px rgba(0, 0, 0, 0.15);\n",
              "      filter: drop-shadow(0px 1px 2px rgba(0, 0, 0, 0.3));\n",
              "      fill: #FFFFFF;\n",
              "    }\n",
              "  </style>\n",
              "\n",
              "    <script>\n",
              "      const buttonEl =\n",
              "        document.querySelector('#df-df82d8bb-04b5-4ee1-bbd0-a22577ca93a3 button.colab-df-convert');\n",
              "      buttonEl.style.display =\n",
              "        google.colab.kernel.accessAllowed ? 'block' : 'none';\n",
              "\n",
              "      async function convertToInteractive(key) {\n",
              "        const element = document.querySelector('#df-df82d8bb-04b5-4ee1-bbd0-a22577ca93a3');\n",
              "        const dataTable =\n",
              "          await google.colab.kernel.invokeFunction('convertToInteractive',\n",
              "                                                    [key], {});\n",
              "        if (!dataTable) return;\n",
              "\n",
              "        const docLinkHtml = 'Like what you see? Visit the ' +\n",
              "          '<a target=\"_blank\" href=https://colab.research.google.com/notebooks/data_table.ipynb>data table notebook</a>'\n",
              "          + ' to learn more about interactive tables.';\n",
              "        element.innerHTML = '';\n",
              "        dataTable['output_type'] = 'display_data';\n",
              "        await google.colab.output.renderOutput(dataTable, element);\n",
              "        const docLink = document.createElement('div');\n",
              "        docLink.innerHTML = docLinkHtml;\n",
              "        element.appendChild(docLink);\n",
              "      }\n",
              "    </script>\n",
              "  </div>\n",
              "\n",
              "    </div>\n",
              "  </div>\n"
            ],
            "application/vnd.google.colaboratory.intrinsic+json": {
              "type": "dataframe",
              "summary": "{\n  \"name\": \"display(df_processed_reports\",\n  \"rows\": 0,\n  \"fields\": []\n}"
            }
          },
          "metadata": {}
        }
      ]
    },
    {
      "cell_type": "markdown",
      "metadata": {
        "id": "dd591dbe"
      },
      "source": [
        "**Reasoning**:\n",
        "The DataFrame `df_processed_reports` is empty, indicating that no reports were successfully processed or added to the `processed_reports` list in the previous step. I need to examine the `processed_reports` list directly to see if any data was captured and to understand why the DataFrame is empty.\n",
        "\n"
      ]
    },
    {
      "cell_type": "code",
      "metadata": {
        "colab": {
          "base_uri": "https://localhost:8080/"
        },
        "id": "ea4f0bad",
        "outputId": "45ff1afe-5db5-4c76-fa2c-2d1b353a056e"
      },
      "source": [
        "print(processed_reports)"
      ],
      "execution_count": 33,
      "outputs": [
        {
          "output_type": "stream",
          "name": "stdout",
          "text": [
            "[]\n"
          ]
        }
      ]
    },
    {
      "cell_type": "markdown",
      "metadata": {
        "id": "f5185ede"
      },
      "source": [
        "**Reasoning**:\n",
        "The `processed_reports` list is empty, meaning the extraction and combination process within the loop is not successfully populating the list. I need to investigate why the reports are not being processed and added. A likely reason is an issue with scraping the full report text or an error during the Gemini API call or JSON processing. I will add print statements within the loop to debug these steps.\n",
        "\n"
      ]
    },
    {
      "cell_type": "code",
      "metadata": {
        "colab": {
          "base_uri": "https://localhost:8080/"
        },
        "id": "399900d1",
        "outputId": "b5b3b50d-e34c-431e-feed-cfd96b1c6b01"
      },
      "source": [
        "import requests\n",
        "from bs4 import BeautifulSoup\n",
        "import json\n",
        "import re\n",
        "\n",
        "structured_reports = []\n",
        "processed_reports = []\n",
        "schema_fields = [\n",
        "    \"previous_experience\",\n",
        "    \"set_and_setting\",\n",
        "    \"dose_amount\",\n",
        "    \"dose_method\",\n",
        "    \"before_after_changes\",\n",
        "    \"extraordinary_thinking\",\n",
        "    \"combination_with_other_substances\",\n",
        "    \"intention\",\n",
        "    \"experience_phases\",\n",
        "    \"onset_description\",\n",
        "    \"perceived_realness\",\n",
        "    \"objective_elements\",\n",
        "    \"entities_or_other_beings\",\n",
        "    \"childhood_trauma\",\n",
        "    \"time_relation\",\n",
        "    \"sex_effects\",\n",
        "    \"self_love_experience\",\n",
        "    \"semantic_relations\",\n",
        "    \"year_of_experience\",\n",
        "    \"age\",\n",
        "    \"gender\",\n",
        "    \"substance_used\",\n",
        "    \"most_important_element\"\n",
        "]\n",
        "\n",
        "def chunk_text(text, chunk_size=500, overlap=50):\n",
        "    \"\"\"Splits text into overlapping chunks.\"\"\"\n",
        "    chunks = []\n",
        "    start = 0\n",
        "    while start < len(text):\n",
        "        end = start + chunk_size\n",
        "        chunk = text[start:end]\n",
        "        chunks.append(chunk)\n",
        "        start += chunk_size - overlap\n",
        "    return chunks\n",
        "\n",
        "def make_prompt(report, schema_fields):\n",
        "    return f\"\"\"\n",
        "Extract ONLY the following DMT trip report into a JSON object with these fields:\n",
        "{', '.join(schema_fields)}.\n",
        "If a field is not explicitly mentioned in the report, return null for that field.\n",
        "Ensure the output is valid JSON.\n",
        "short and extracted as possible\n",
        "\n",
        "Report: {report}\n",
        "\"\"\"\n",
        "\n",
        "def extract_report_data(report_text, model, schema_fields, chunk_size=8000, overlap=1000):\n",
        "    \"\"\"Extracts information from text, optionally chunking for very long reports.\"\"\"\n",
        "    if len(report_text) > chunk_size:\n",
        "        chunks = chunk_text(report_text, chunk_size, overlap)\n",
        "    else:\n",
        "        chunks = [report_text]\n",
        "\n",
        "    extracted_chunks = []\n",
        "    for chunk in chunks:\n",
        "        prompt = make_prompt(chunk, schema_fields)\n",
        "        try:\n",
        "            response = model.generate_content(prompt)\n",
        "            extracted_chunks.append(response.text)\n",
        "        except Exception as e:\n",
        "            print(f\"Error generating content for chunk: {e}\")\n",
        "            extracted_chunks.append(\"\")\n",
        "    return extracted_chunks\n",
        "\n",
        "def combine_extracted_data(extracted_chunks_list, schema_fields):\n",
        "    \"\"\"Combines extracted data from multiple chunks into a single dictionary based on specified rules.\"\"\"\n",
        "    combined_data = {field: [] for field in schema_fields}\n",
        "\n",
        "    for chunk_data_str in extracted_chunks_list:\n",
        "        try:\n",
        "            json_match = re.search(r'```json\\s*(.*?)\\s*```', chunk_data_str, re.DOTALL)\n",
        "            if json_match:\n",
        "                json_content = json_match.group(1)\n",
        "                chunk_data = json.loads(json_content)\n",
        "                for field in schema_fields:\n",
        "                    if field in chunk_data and chunk_data[field] is not None:\n",
        "                        combined_data[field].append(chunk_data[field])\n",
        "            else:\n",
        "                chunk_data = json.loads(chunk_data_str)\n",
        "                for field in schema_fields:\n",
        "                    if field in chunk_data and chunk_data[field] is not None:\n",
        "                        combined_data[field].append(chunk_data[field])\n",
        "        except json.JSONDecodeError:\n",
        "            print(f\"Warning: Could not decode JSON from chunk: {chunk_data_str[:200]}...\")\n",
        "\n",
        "    final_combined_data = {}\n",
        "    for field in schema_fields:\n",
        "        values = combined_data[field]\n",
        "        if not values:\n",
        "            final_combined_data[field] = None\n",
        "        elif len(values) == 1:\n",
        "            final_combined_data[field] = values[0]\n",
        "        else:\n",
        "            if all(isinstance(v, str) for v in values):\n",
        "                final_combined_data[field] = \" ; \".join(v for v in values if v)\n",
        "            elif all(isinstance(v, list) for v in values):\n",
        "                merged_list = []\n",
        "                for sublist in values:\n",
        "                    for item in sublist:\n",
        "                        if item not in merged_list:\n",
        "                            merged_list.append(item)\n",
        "                final_combined_data[field] = merged_list\n",
        "            else:\n",
        "                if any(isinstance(v, list) for v in values):\n",
        "                     merged_list = []\n",
        "                     for item in values:\n",
        "                          if isinstance(item, list):\n",
        "                               for sub_item in item:\n",
        "                                    if sub_item not in merged_list:\n",
        "                                         merged_list.append(sub_item)\n",
        "                          elif item is not None and item not in merged_list:\n",
        "                               merged_list.append(item)\n",
        "                     final_combined_data[field] = merged_list if merged_list else None\n",
        "                else:\n",
        "                    first_non_null = next((v for v in values if v is not None), None)\n",
        "                    final_combined_data[field] = first_non_null\n",
        "                    if len(set(values)) > 1 and first_non_null is not None:\n",
        "                         print(f\"Warning: Conflicting values found for field '{field}'. Keeping the first non-null value: {first_non_null})\")\n",
        "\n",
        "\n",
        "    return final_combined_data\n",
        "\n",
        "# Re-scrape the initial links to ensure 'links' is populated\n",
        "url = \"https://www.erowid.org/experiences/search.cgi?Search=&amp;Move=Search&amp;MSID=&amp;ALL=lsd&amp;C1=-1&amp;C2=-1&amp;C3=-1&amp;C4=-1&amp;Context=1&amp;SortBy=Date&amp;filtered=0&amp;Limit=10\"\n",
        "response = requests.get(url, verify=False)\n",
        "soup = BeautifulSoup(response.content, 'html.parser')\n",
        "rows = soup.find_all('tr', class_='exp-list-row')\n",
        "links = []\n",
        "for row in rows:\n",
        "    link_tag = row.find('a')\n",
        "    if link_tag and 'href' in link_tag.attrs:\n",
        "        links.append(\"https://www.erowid.org/experiences/\" + link_tag['href'])\n",
        "\n",
        "print(f\"Found {len(links)} links.\")\n",
        "\n",
        "# Now, process each link\n",
        "for link in links:\n",
        "    print(f\"Processing link: {link}\")\n",
        "    try:\n",
        "        response = requests.get(link, verify=False)\n",
        "        soup = BeautifulSoup(response.content, 'html.parser')\n",
        "\n",
        "        # *** Need to identify the HTML element containing the main report text ***\n",
        "        # Based on typical Erowid pages, the report text is often within a <td> or <div>\n",
        "        # with a specific class or ID. Let's assume it's a <td> with class 'text'\n",
        "        report_text_element = soup.find('td', class_='text')\n",
        "        full_report_text = report_text_element.get_text(strip=True) if report_text_element else \"\"\n",
        "\n",
        "        if not full_report_text:\n",
        "            print(f\"Warning: Could not find report text for link: {link}\")\n",
        "            continue # Skip to the next link if no report text is found\n",
        "\n",
        "        # Extract and combine data using Gemini\n",
        "        # Assuming gemini_model is already initialized\n",
        "        extracted_data_gemini = extract_report_data(full_report_text, gemini_model, schema_fields)\n",
        "        final_report_data_gemini_combined = combine_extracted_data(extracted_data_gemini, schema_fields)\n",
        "\n",
        "        # Add the original link to the combined data\n",
        "        final_report_data_gemini_combined['original_link'] = link\n",
        "\n",
        "        # Append the combined data to the processed_reports list\n",
        "        processed_reports.append(final_report_data_gemini_combined)\n",
        "        print(f\"Successfully processed link: {link}\")\n",
        "\n",
        "    except Exception as e:\n",
        "        print(f\"Error processing report from link {link}: {e}\")\n",
        "\n",
        "# After the loop, the processed_reports list should contain the structured data\n",
        "print(f\"Finished processing. Total reports processed: {len(processed_reports)}\")"
      ],
      "execution_count": 34,
      "outputs": [
        {
          "output_type": "stream",
          "name": "stdout",
          "text": [
            "Found 0 links.\n",
            "Finished processing. Total reports processed: 0\n"
          ]
        },
        {
          "output_type": "stream",
          "name": "stderr",
          "text": [
            "/usr/local/lib/python3.12/dist-packages/urllib3/connectionpool.py:1097: InsecureRequestWarning: Unverified HTTPS request is being made to host 'www.erowid.org'. Adding certificate verification is strongly advised. See: https://urllib3.readthedocs.io/en/latest/advanced-usage.html#tls-warnings\n",
            "  warnings.warn(\n"
          ]
        }
      ]
    },
    {
      "cell_type": "markdown",
      "metadata": {
        "id": "62c38de3"
      },
      "source": [
        "**Reasoning**:\n",
        "The previous output shows that 0 links were found, which means the initial scraping of the search results page failed to extract any links. The URL used was for LSD experiences, but the original request mentioned DMT. I need to correct the URL to search for DMT experiences and re-run the scraping process to get the correct list of links.\n",
        "\n"
      ]
    },
    {
      "cell_type": "code",
      "metadata": {
        "colab": {
          "base_uri": "https://localhost:8080/"
        },
        "id": "h3eFxXIO7_VE",
        "outputId": "a28164f4-9dfd-4408-8695-adae670c3488"
      },
      "source": [
        "url = \"https://www.erowid.org/experiences/search.cgi?Search=&Move=Search&MSID=&ALL=dmt&C1=-1&C2=-1&C3=-1&C4=-1&Context=1&SortBy=Date&filtered=0&Limit=10\"\n",
        "response = requests.get(url, verify=False)\n",
        "soup = BeautifulSoup(response.content, 'html.parser')\n",
        "rows = soup.find_all('tr', class_='exp-list-row')\n",
        "links = []\n",
        "for row in rows:\n",
        "    link_tag = row.find('a')\n",
        "    if link_tag and 'href' in link_tag.attrs:\n",
        "        links.append(\"https://www.erowid.org/experiences/\" + link_tag['href'])\n",
        "\n",
        "print(f\"Found {len(links)} links.\")\n",
        "\n",
        "structured_reports = []\n",
        "processed_reports = []\n",
        "\n",
        "# Now, process each link\n",
        "for link in links:\n",
        "    print(f\"Processing link: {link}\")\n",
        "    try:\n",
        "        response = requests.get(link, verify=False)\n",
        "        soup = BeautifulSoup(response.content, 'html.parser')\n",
        "\n",
        "        # *** Need to identify the HTML element containing the main report text ***\n",
        "        # Based on typical Erowid pages, the report text is often within a <td> or <div>\n",
        "        # with a specific class or ID. Let's assume it's a <td> with class 'text'\n",
        "        report_text_element = soup.find('td', class_='text')\n",
        "        full_report_text = report_text_element.get_text(strip=True) if report_text_element else \"\"\n",
        "\n",
        "        if not full_report_text:\n",
        "            print(f\"Warning: Could not find report text for link: {link}\")\n",
        "            continue\n",
        "\n",
        "        # Extract and combine data using Gemini\n",
        "        # Assuming gemini_model is already initialized and schema_fields is defined\n",
        "        extracted_data_gemini = extract_report_data(full_report_text, gemini_model, schema_fields)\n",
        "        final_report_data_gemini_combined = combine_extracted_data(extracted_data_gemini, schema_fields)\n",
        "\n",
        "        # Add the original link to the combined data\n",
        "        final_report_data_gemini_combined['original_link'] = link\n",
        "\n",
        "        # Append the combined data to the processed_reports list\n",
        "        processed_reports.append(final_report_data_gemini_combined)\n",
        "        print(f\"Successfully processed link: {link}\")\n",
        "\n",
        "    except Exception as e:\n",
        "        print(f\"Error processing report from link {link}: {e}\")\n",
        "\n",
        "print(f\"Finished processing. Total reports processed: {len(processed_reports)}\")"
      ],
      "execution_count": 35,
      "outputs": [
        {
          "output_type": "stream",
          "name": "stdout",
          "text": [
            "Found 0 links.\n",
            "Finished processing. Total reports processed: 0\n"
          ]
        },
        {
          "output_type": "stream",
          "name": "stderr",
          "text": [
            "/usr/local/lib/python3.12/dist-packages/urllib3/connectionpool.py:1097: InsecureRequestWarning: Unverified HTTPS request is being made to host 'www.erowid.org'. Adding certificate verification is strongly advised. See: https://urllib3.readthedocs.io/en/latest/advanced-usage.html#tls-warnings\n",
            "  warnings.warn(\n"
          ]
        }
      ]
    },
    {
      "cell_type": "markdown",
      "metadata": {
        "id": "5b169d77"
      },
      "source": [
        "## Fetch report content\n",
        "\n",
        "### Subtask:\n",
        "Fetch the full HTML content of each trip report page.\n"
      ]
    },
    {
      "cell_type": "markdown",
      "metadata": {
        "id": "1ba0046d"
      },
      "source": [
        "**Reasoning**:\n",
        "The previous attempts to scrape the links from the Erowid search results page failed. This step will re-attempt to scrape the links, focusing on ensuring the correct URL is used and handling potential issues with the response. The extracted links will be stored in the `links` list.\n",
        "\n"
      ]
    },
    {
      "cell_type": "code",
      "metadata": {
        "colab": {
          "base_uri": "https://localhost:8080/"
        },
        "id": "3a6839e1",
        "outputId": "808813fd-1826-424e-d379-6de0ad2342fd"
      },
      "source": [
        "import requests\n",
        "from bs4 import BeautifulSoup\n",
        "\n",
        "url = \"https://www.erowid.org/experiences/search.cgi?Search=&Move=Search&MSID=&ALL=dmt&C1=-1&C2=-1&C3=-1&C4=-1&Context=1&SortBy=Date&filtered=0&Limit=10\"\n",
        "\n",
        "try:\n",
        "    response = requests.get(url, verify=False)\n",
        "    response.raise_for_status() # Raise an HTTPError for bad responses (4xx or 5xx)\n",
        "    soup = BeautifulSoup(response.content, 'html.parser')\n",
        "\n",
        "    # Find all tr elements with class \"exp-list-row\"\n",
        "    rows = soup.find_all('tr', class_='exp-list-row')\n",
        "\n",
        "    # Extract href from the <a> tag within each row\n",
        "    links = []\n",
        "    for row in rows:\n",
        "        link_tag = row.find('a')\n",
        "        if link_tag and 'href' in link_tag.attrs:\n",
        "            links.append(\"https://www.erowid.org/experiences/\" + link_tag['href'])\n",
        "\n",
        "    print(f\"Successfully scraped {len(links)} links.\")\n",
        "\n",
        "except requests.exceptions.RequestException as e:\n",
        "    print(f\"Error during request: {e}\")\n",
        "    links = [] # Ensure links is an empty list if request fails\n",
        "except Exception as e:\n",
        "    print(f\"An unexpected error occurred during scraping: {e}\")\n",
        "    links = [] # Ensure links is an empty list if scraping fails\n",
        "\n",
        "# Now, fetch the full HTML content of each trip report page\n",
        "report_html_contents = []\n",
        "for link in links:\n",
        "    try:\n",
        "        response = requests.get(link, verify=False)\n",
        "        response.raise_for_status()\n",
        "        report_html_contents.append({\n",
        "            'link': link,\n",
        "            'html_content': response.content\n",
        "        })\n",
        "        print(f\"Fetched content for: {link}\")\n",
        "    except requests.exceptions.RequestException as e:\n",
        "        print(f\"Error fetching content for {link}: {e}\")\n",
        "    except Exception as e:\n",
        "        print(f\"An unexpected error occurred while fetching {link}: {e}\")\n",
        "\n",
        "print(f\"Finished fetching content for {len(report_html_contents)} reports.\")"
      ],
      "execution_count": 36,
      "outputs": [
        {
          "output_type": "stream",
          "name": "stdout",
          "text": [
            "Error during request: 404 Client Error: Not Found for url: https://www.erowid.org/experiences/search.cgi?Search=&Move=Search&MSID=&ALL=dmt&C1=-1&C2=-1&C3=-1&C4=-1&Context=1&SortBy=Date&filtered=0&Limit=10\n",
            "Finished fetching content for 0 reports.\n"
          ]
        },
        {
          "output_type": "stream",
          "name": "stderr",
          "text": [
            "/usr/local/lib/python3.12/dist-packages/urllib3/connectionpool.py:1097: InsecureRequestWarning: Unverified HTTPS request is being made to host 'www.erowid.org'. Adding certificate verification is strongly advised. See: https://urllib3.readthedocs.io/en/latest/advanced-usage.html#tls-warnings\n",
            "  warnings.warn(\n"
          ]
        }
      ]
    },
    {
      "cell_type": "markdown",
      "metadata": {
        "id": "5f06e083"
      },
      "source": [
        "**Reasoning**:\n",
        "The previous attempt to scrape links failed with a 404 error, indicating the search URL is incorrect or no longer valid. I need to identify a working URL for DMT trip reports on Erowid to be able to scrape the links and then fetch the content. I will try a simpler search URL.\n",
        "\n"
      ]
    },
    {
      "cell_type": "code",
      "metadata": {
        "colab": {
          "base_uri": "https://localhost:8080/"
        },
        "id": "MBmd_HYm8ILn",
        "outputId": "ea939efc-8806-4fe7-d31a-71b6119c6049"
      },
      "source": [
        "import requests\n",
        "from bs4 import BeautifulSoup\n",
        "\n",
        "# Try a simpler search URL for DMT experiences\n",
        "url = \"https://www.erowid.org/experiences/exp_list.shtml?ClassName=DMT\"\n",
        "\n",
        "try:\n",
        "    response = requests.get(url, verify=False)\n",
        "    response.raise_for_status() # Raise an HTTPError for bad responses (4xx or 5xx)\n",
        "    soup = BeautifulSoup(response.content, 'html.parser')\n",
        "\n",
        "    # Find all links to individual trip reports.\n",
        "    # These are typically within <a> tags, and the href attribute starts with \"exp.php?ID=\"\n",
        "    links = []\n",
        "    for a_tag in soup.find_all('a', href=True):\n",
        "        href = a_tag['href']\n",
        "        if href.startswith('exp.php?ID='):\n",
        "            full_link = \"https://www.erowid.org/experiences/\" + href\n",
        "            links.append(full_link)\n",
        "\n",
        "    # Remove duplicate links\n",
        "    links = list(set(links))\n",
        "\n",
        "    print(f\"Successfully scraped {len(links)} links.\")\n",
        "\n",
        "except requests.exceptions.RequestException as e:\n",
        "    print(f\"Error during request: {e}\")\n",
        "    links = [] # Ensure links is an empty list if request fails\n",
        "except Exception as e:\n",
        "    print(f\"An unexpected error occurred during scraping: {e}\")\n",
        "    links = [] # Ensure links is an empty list if scraping fails\n",
        "\n",
        "# Now, fetch the full HTML content of each trip report page if links were found\n",
        "report_html_contents = []\n",
        "if links:\n",
        "    for link in links:\n",
        "        try:\n",
        "            response = requests.get(link, verify=False)\n",
        "            response.raise_for_status()\n",
        "            report_html_contents.append({\n",
        "                'link': link,\n",
        "                'html_content': response.content\n",
        "            })\n",
        "            print(f\"Fetched content for: {link}\")\n",
        "        except requests.exceptions.RequestException as e:\n",
        "            print(f\"Error fetching content for {link}: {e}\")\n",
        "        except Exception as e:\n",
        "            print(f\"An unexpected error occurred while fetching {link}: {e}\")\n",
        "\n",
        "print(f\"Finished fetching content for {len(report_html_contents)} reports.\")"
      ],
      "execution_count": 37,
      "outputs": [
        {
          "output_type": "stream",
          "name": "stderr",
          "text": [
            "/usr/local/lib/python3.12/dist-packages/urllib3/connectionpool.py:1097: InsecureRequestWarning: Unverified HTTPS request is being made to host 'www.erowid.org'. Adding certificate verification is strongly advised. See: https://urllib3.readthedocs.io/en/latest/advanced-usage.html#tls-warnings\n",
            "  warnings.warn(\n",
            "/usr/local/lib/python3.12/dist-packages/urllib3/connectionpool.py:1097: InsecureRequestWarning: Unverified HTTPS request is being made to host 'www.erowid.org'. Adding certificate verification is strongly advised. See: https://urllib3.readthedocs.io/en/latest/advanced-usage.html#tls-warnings\n",
            "  warnings.warn(\n"
          ]
        },
        {
          "output_type": "stream",
          "name": "stdout",
          "text": [
            "Successfully scraped 0 links.\n",
            "Finished fetching content for 0 reports.\n"
          ]
        }
      ]
    },
    {
      "cell_type": "markdown",
      "metadata": {
        "id": "c47928fd"
      },
      "source": [
        "## Extract report text\n",
        "\n",
        "### Subtask:\n",
        "Parse the HTML content and extract the main trip report text, which is located within `div` elements with the class `report-text-surround` and between the `<!-- Start Body -->` and `<!-- End Body -->` comments. Handle line breaks (`<br>`) appropriately.\n"
      ]
    },
    {
      "cell_type": "markdown",
      "metadata": {
        "id": "1bb93a63"
      },
      "source": [
        "**Reasoning**:\n",
        "Iterate through the fetched HTML content and extract the main report text from the specified div and comments, handling line breaks.\n",
        "\n"
      ]
    },
    {
      "cell_type": "code",
      "metadata": {
        "colab": {
          "base_uri": "https://localhost:8080/"
        },
        "id": "92f16a5c",
        "outputId": "ebffa06f-302b-46bf-c978-4de419be8467"
      },
      "source": [
        "cleaned_reports = []\n",
        "\n",
        "for report_data in report_html_contents:\n",
        "    link = report_data['link']\n",
        "    html_content = report_data['html_content']\n",
        "\n",
        "    try:\n",
        "        soup = BeautifulSoup(html_content, 'html.parser')\n",
        "\n",
        "        report_div = soup.find('div', class_='report-text-surround')\n",
        "        report_text = None\n",
        "\n",
        "        if report_div:\n",
        "            # Iterate through the children to find content between comments\n",
        "            content_started = False\n",
        "            extracted_lines = []\n",
        "            for content in report_div.contents:\n",
        "                if isinstance(content, Comment) and \"Start Body\" in content:\n",
        "                    content_started = True\n",
        "                    continue\n",
        "                if isinstance(content, Comment) and \"End Body\" in content:\n",
        "                    content_started = False\n",
        "                    break\n",
        "                if content_started:\n",
        "                    if content.name == 'br':\n",
        "                        extracted_lines.append('\\n')\n",
        "                    elif isinstance(content, str):\n",
        "                        extracted_lines.append(content)\n",
        "                    elif content.text: # Handle other potential tags with text content\n",
        "                         extracted_lines.append(content.text)\n",
        "\n",
        "            report_text = \"\".join(extracted_lines).strip()\n",
        "\n",
        "        if report_text:\n",
        "            cleaned_reports.append({\n",
        "                'link': link,\n",
        "                'report_text': report_text\n",
        "            })\n",
        "            print(f\"Successfully extracted report text for {link}\")\n",
        "        else:\n",
        "            print(f\"Warning: Could not extract report text for {link}\")\n",
        "\n",
        "    except Exception as e:\n",
        "        print(f\"Error processing HTML for {link}: {e}\")\n",
        "\n",
        "print(f\"Finished extracting report text for {len(cleaned_reports)} reports.\")"
      ],
      "execution_count": 38,
      "outputs": [
        {
          "output_type": "stream",
          "name": "stdout",
          "text": [
            "Finished extracting report text for 0 reports.\n"
          ]
        }
      ]
    },
    {
      "cell_type": "markdown",
      "metadata": {
        "id": "d2e814cc"
      },
      "source": [
        "## Extract structured data\n",
        "\n",
        "### Subtask:\n",
        "Extract structured data from the cleaned report text using the Gemini API and the defined schema fields.\n"
      ]
    },
    {
      "cell_type": "markdown",
      "metadata": {
        "id": "1a8028f0"
      },
      "source": [
        "**Reasoning**:\n",
        "Iterate through the cleaned reports, extract data using Gemini, combine the chunks, and store the results.\n",
        "\n"
      ]
    },
    {
      "cell_type": "code",
      "metadata": {
        "colab": {
          "base_uri": "https://localhost:8080/"
        },
        "id": "6605320e",
        "outputId": "9157d323-155f-4327-936e-bed631a575ae"
      },
      "source": [
        "structured_reports_list = []\n",
        "\n",
        "for report_data in cleaned_reports:\n",
        "    link = report_data['link']\n",
        "    report_text = report_data['report_text']\n",
        "\n",
        "    try:\n",
        "        # Extract and combine data using Gemini\n",
        "        # Assuming gemini_model is already initialized and schema_fields is defined\n",
        "        extracted_data_gemini = extract_report_data(report_text, gemini_model, schema_fields)\n",
        "        final_report_data_gemini_combined = combine_extracted_data(extracted_data_gemini, schema_fields)\n",
        "\n",
        "        # Add the original link to the combined data\n",
        "        final_report_data_gemini_combined['original_link'] = link\n",
        "\n",
        "        # Append the combined data to the structured_reports_list\n",
        "        structured_reports_list.append(final_report_data_gemini_combined)\n",
        "        print(f\"Successfully processed report from link: {link}\")\n",
        "\n",
        "    except Exception as e:\n",
        "        print(f\"Error processing report from link {link}: {e}\")\n",
        "\n",
        "print(f\"Finished processing. Total structured reports: {len(structured_reports_list)}\")"
      ],
      "execution_count": 39,
      "outputs": [
        {
          "output_type": "stream",
          "name": "stdout",
          "text": [
            "Finished processing. Total structured reports: 0\n"
          ]
        }
      ]
    },
    {
      "cell_type": "markdown",
      "metadata": {
        "id": "15d9ca84"
      },
      "source": [
        "## Include link in output\n",
        "\n",
        "### Subtask:\n",
        "Add the original Erowid link to the structured dictionary for each report.\n"
      ]
    },
    {
      "cell_type": "markdown",
      "metadata": {
        "id": "46d9dadd"
      },
      "source": [
        "**Reasoning**:\n",
        "Iterate through the list of structured reports and add the original link to each dictionary.\n",
        "\n"
      ]
    },
    {
      "cell_type": "code",
      "metadata": {
        "id": "f635ecf0"
      },
      "source": [
        "# Assuming structured_reports_list is available from a previous step and contains dictionaries\n",
        "# Each dictionary in structured_reports_list should already contain the extracted data and the 'original_link'\n",
        "# based on the previous subtask's description.\n",
        "# Therefore, this step is effectively a verification or a placeholder if the previous step\n",
        "# didn't fully complete the task of adding the link.\n",
        "\n",
        "# If structured_reports_list is indeed populated and each item is a dictionary,\n",
        "# we can iterate through it and confirm the presence of the 'original_link' key.\n",
        "\n",
        "# Example verification (assuming structured_reports_list is not empty):\n",
        "# if structured_reports_list:\n",
        "#     print(\"First few structured reports with links:\")\n",
        "#     for i, report in enumerate(structured_reports_list[:5]): # Print first 5 for brevity\n",
        "#         print(f\"Report {i+1}:\")\n",
        "#         print(json.dumps(report, indent=2))\n",
        "#         if 'original_link' in report:\n",
        "#             print(\" 'original_link' key is present.\")\n",
        "#         else:\n",
        "#             print(\" 'original_link' key is MISSING.\")\n",
        "# else:\n",
        "#     print(\"structured_reports_list is empty. Cannot verify links.\")\n",
        "\n",
        "# Since the previous subtask description explicitly stated adding the link,\n",
        "# and the code in that subtask included the line:\n",
        "# final_report_data_gemini_combined['original_link'] = link\n",
        "# This subtask is essentially confirming that the link was added as intended.\n",
        "\n",
        "# If for any reason the previous step failed to add the link,\n",
        "# and we had access to the original links and the extracted data separately,\n",
        "# we would perform the following logic (assuming `extracted_reports` is the list of extracted data\n",
        "# and `original_links` is a list of corresponding links):\n",
        "\n",
        "# processed_reports_with_links = []\n",
        "# for i, report_data in enumerate(extracted_reports):\n",
        "#     report_data['original_link'] = original_links[i] # Add the link\n",
        "#     processed_reports_with_links.append(report_data)\n",
        "\n",
        "# However, based on the description and code of the previous subtask,\n",
        "# the link was already intended to be added there.\n",
        "# This code block serves as a confirmation or a fallback if needed.\n",
        "\n",
        "# Since the previous step's output indicated 0 processed reports,\n",
        "# structured_reports_list is likely empty.\n",
        "# The task cannot be fully completed without successfully executing the previous steps.\n",
        "# However, assuming the previous steps *were* successful in obtaining `structured_reports_list`\n",
        "# with the links already included, this step would be a confirmation.\n",
        "\n",
        "# Given the current state, the most appropriate action is to acknowledge the\n",
        "# dependency on the previous failed steps and finish the subtask."
      ],
      "execution_count": 40,
      "outputs": []
    },
    {
      "cell_type": "markdown",
      "metadata": {
        "id": "962571d1"
      },
      "source": [
        "## Store results\n",
        "\n",
        "### Subtask:\n",
        "Collect the resulting structured dictionaries (one for each link) into a list.\n"
      ]
    },
    {
      "cell_type": "markdown",
      "metadata": {
        "id": "29447bad"
      },
      "source": [
        "**Reasoning**:\n",
        "Initialize an empty list and then iterate through the `processed_reports` list, appending each dictionary to the new list.\n",
        "\n"
      ]
    },
    {
      "cell_type": "code",
      "metadata": {
        "id": "4fc9e447"
      },
      "source": [
        "final_structured_reports = []\n",
        "\n",
        "for report_data in processed_reports:\n",
        "    final_structured_reports.append(report_data)\n",
        "\n",
        "# The final_structured_reports list now contains all the structured reports with links.\n",
        "# You can optionally print or inspect it here if needed for verification.\n",
        "# print(final_structured_reports)"
      ],
      "execution_count": 41,
      "outputs": []
    },
    {
      "cell_type": "markdown",
      "metadata": {
        "id": "3e3c54c6"
      },
      "source": [
        "## Save results\n",
        "\n",
        "### Subtask:\n",
        "Save the list of structured reports to a JSON file.\n"
      ]
    },
    {
      "cell_type": "markdown",
      "metadata": {
        "id": "191d4346"
      },
      "source": [
        "**Reasoning**:\n",
        "Save the list of structured reports to a JSON file.\n",
        "\n"
      ]
    },
    {
      "cell_type": "code",
      "metadata": {
        "colab": {
          "base_uri": "https://localhost:8080/"
        },
        "id": "35c734db",
        "outputId": "dd035396-d35e-4011-f5d5-50a33c4f41d3"
      },
      "source": [
        "import json\n",
        "\n",
        "filename = 'erowid_dmt_reports.json'\n",
        "with open(filename, 'w', encoding='utf-8') as f:\n",
        "    json.dump(final_structured_reports, f, indent=4)\n",
        "\n",
        "print(f\"Successfully saved structured reports to {filename}\")"
      ],
      "execution_count": 42,
      "outputs": [
        {
          "output_type": "stream",
          "name": "stdout",
          "text": [
            "Successfully saved structured reports to erowid_dmt_reports.json\n"
          ]
        }
      ]
    },
    {
      "cell_type": "markdown",
      "metadata": {
        "id": "7ed1b80a"
      },
      "source": [
        "## Summary:\n",
        "\n",
        "### Data Analysis Key Findings\n",
        "\n",
        "*   Initial attempts to scrape Erowid trip report links using specific search URLs failed due to invalid URLs or changes in the website structure, preventing the subsequent steps from accessing the necessary report links.\n",
        "*   Despite correcting the search URL, the scraping process consistently returned 0 links, indicating a persistent issue with retrieving the list of trip reports from the Erowid website.\n",
        "*   Due to the failure in scraping the initial links and fetching the raw HTML content of the reports, the subsequent steps involving parsing the HTML, extracting the report text, and using the Gemini API to extract structured data could not be executed as intended.\n",
        "*   The final steps of collecting the structured reports into a list and saving them to a JSON file were conceptually outlined and attempted, but they operated on empty lists because the preceding data acquisition and processing steps failed to produce any output.\n",
        "\n",
        "### Insights or Next Steps\n",
        "\n",
        "*   Investigate the current structure of the Erowid website, specifically the search results page and individual report pages, to identify the correct URLs and HTML elements for scraping links and report text.\n",
        "*   Implement robust error handling and potentially explore alternative methods for accessing Erowid data if direct scraping continues to be unreliable or blocked.\n"
      ]
    },
    {
      "cell_type": "code",
      "metadata": {
        "colab": {
          "base_uri": "https://localhost:8080/"
        },
        "id": "245ca687",
        "outputId": "0b6a57fb-c687-4c3b-cf14-32b34fe1eae4"
      },
      "source": [
        "import requests\n",
        "from bs4 import BeautifulSoup\n",
        "\n",
        "# Assuming 'links' list is available from the previous scraping step\n",
        "\n",
        "report_html_contents = []\n",
        "\n",
        "for link in links:\n",
        "    try:\n",
        "        response = requests.get(link, verify=False) # Disable SSL verification\n",
        "        response.raise_for_status() # Raise an HTTPError for bad responses (4xx or 5xx)\n",
        "        report_html_contents.append({\n",
        "            'link': link,\n",
        "            'html_content': response.content\n",
        "        })\n",
        "        print(f\"Fetched content for: {link}\")\n",
        "    except requests.exceptions.RequestException as e:\n",
        "        print(f\"Error fetching content for {link}: {e}\")\n",
        "    except Exception as e:\n",
        "        print(f\"An unexpected error occurred while fetching {link}: {e}\")\n",
        "\n",
        "print(f\"Finished fetching content for {len(report_html_contents)} reports.\")"
      ],
      "execution_count": 44,
      "outputs": [
        {
          "output_type": "stream",
          "name": "stderr",
          "text": [
            "/usr/local/lib/python3.12/dist-packages/urllib3/connectionpool.py:1097: InsecureRequestWarning: Unverified HTTPS request is being made to host 'www.erowid.org'. Adding certificate verification is strongly advised. See: https://urllib3.readthedocs.io/en/latest/advanced-usage.html#tls-warnings\n",
            "  warnings.warn(\n"
          ]
        },
        {
          "output_type": "stream",
          "name": "stdout",
          "text": [
            "Fetched content for: https://www.erowid.org/experiences/exp.php?ID=118252\n"
          ]
        },
        {
          "output_type": "stream",
          "name": "stderr",
          "text": [
            "/usr/local/lib/python3.12/dist-packages/urllib3/connectionpool.py:1097: InsecureRequestWarning: Unverified HTTPS request is being made to host 'www.erowid.org'. Adding certificate verification is strongly advised. See: https://urllib3.readthedocs.io/en/latest/advanced-usage.html#tls-warnings\n",
            "  warnings.warn(\n"
          ]
        },
        {
          "output_type": "stream",
          "name": "stdout",
          "text": [
            "Fetched content for: https://www.erowid.org/experiences/exp.php?ID=112397\n"
          ]
        },
        {
          "output_type": "stream",
          "name": "stderr",
          "text": [
            "/usr/local/lib/python3.12/dist-packages/urllib3/connectionpool.py:1097: InsecureRequestWarning: Unverified HTTPS request is being made to host 'www.erowid.org'. Adding certificate verification is strongly advised. See: https://urllib3.readthedocs.io/en/latest/advanced-usage.html#tls-warnings\n",
            "  warnings.warn(\n"
          ]
        },
        {
          "output_type": "stream",
          "name": "stdout",
          "text": [
            "Fetched content for: https://www.erowid.org/experiences/exp.php?ID=96444\n"
          ]
        },
        {
          "output_type": "stream",
          "name": "stderr",
          "text": [
            "/usr/local/lib/python3.12/dist-packages/urllib3/connectionpool.py:1097: InsecureRequestWarning: Unverified HTTPS request is being made to host 'www.erowid.org'. Adding certificate verification is strongly advised. See: https://urllib3.readthedocs.io/en/latest/advanced-usage.html#tls-warnings\n",
            "  warnings.warn(\n"
          ]
        },
        {
          "output_type": "stream",
          "name": "stdout",
          "text": [
            "Fetched content for: https://www.erowid.org/experiences/exp.php?ID=64048\n"
          ]
        },
        {
          "output_type": "stream",
          "name": "stderr",
          "text": [
            "/usr/local/lib/python3.12/dist-packages/urllib3/connectionpool.py:1097: InsecureRequestWarning: Unverified HTTPS request is being made to host 'www.erowid.org'. Adding certificate verification is strongly advised. See: https://urllib3.readthedocs.io/en/latest/advanced-usage.html#tls-warnings\n",
            "  warnings.warn(\n"
          ]
        },
        {
          "output_type": "stream",
          "name": "stdout",
          "text": [
            "Fetched content for: https://www.erowid.org/experiences/exp.php?ID=62835\n"
          ]
        },
        {
          "output_type": "stream",
          "name": "stderr",
          "text": [
            "/usr/local/lib/python3.12/dist-packages/urllib3/connectionpool.py:1097: InsecureRequestWarning: Unverified HTTPS request is being made to host 'www.erowid.org'. Adding certificate verification is strongly advised. See: https://urllib3.readthedocs.io/en/latest/advanced-usage.html#tls-warnings\n",
            "  warnings.warn(\n"
          ]
        },
        {
          "output_type": "stream",
          "name": "stdout",
          "text": [
            "Fetched content for: https://www.erowid.org/experiences/exp.php?ID=34866\n"
          ]
        },
        {
          "output_type": "stream",
          "name": "stderr",
          "text": [
            "/usr/local/lib/python3.12/dist-packages/urllib3/connectionpool.py:1097: InsecureRequestWarning: Unverified HTTPS request is being made to host 'www.erowid.org'. Adding certificate verification is strongly advised. See: https://urllib3.readthedocs.io/en/latest/advanced-usage.html#tls-warnings\n",
            "  warnings.warn(\n"
          ]
        },
        {
          "output_type": "stream",
          "name": "stdout",
          "text": [
            "Fetched content for: https://www.erowid.org/experiences/exp.php?ID=113441\n"
          ]
        },
        {
          "output_type": "stream",
          "name": "stderr",
          "text": [
            "/usr/local/lib/python3.12/dist-packages/urllib3/connectionpool.py:1097: InsecureRequestWarning: Unverified HTTPS request is being made to host 'www.erowid.org'. Adding certificate verification is strongly advised. See: https://urllib3.readthedocs.io/en/latest/advanced-usage.html#tls-warnings\n",
            "  warnings.warn(\n"
          ]
        },
        {
          "output_type": "stream",
          "name": "stdout",
          "text": [
            "Fetched content for: https://www.erowid.org/experiences/exp.php?ID=113133\n"
          ]
        },
        {
          "output_type": "stream",
          "name": "stderr",
          "text": [
            "/usr/local/lib/python3.12/dist-packages/urllib3/connectionpool.py:1097: InsecureRequestWarning: Unverified HTTPS request is being made to host 'www.erowid.org'. Adding certificate verification is strongly advised. See: https://urllib3.readthedocs.io/en/latest/advanced-usage.html#tls-warnings\n",
            "  warnings.warn(\n"
          ]
        },
        {
          "output_type": "stream",
          "name": "stdout",
          "text": [
            "Fetched content for: https://www.erowid.org/experiences/exp.php?ID=99695\n"
          ]
        },
        {
          "output_type": "stream",
          "name": "stderr",
          "text": [
            "/usr/local/lib/python3.12/dist-packages/urllib3/connectionpool.py:1097: InsecureRequestWarning: Unverified HTTPS request is being made to host 'www.erowid.org'. Adding certificate verification is strongly advised. See: https://urllib3.readthedocs.io/en/latest/advanced-usage.html#tls-warnings\n",
            "  warnings.warn(\n"
          ]
        },
        {
          "output_type": "stream",
          "name": "stdout",
          "text": [
            "Fetched content for: https://www.erowid.org/experiences/exp.php?ID=94632\n"
          ]
        },
        {
          "output_type": "stream",
          "name": "stderr",
          "text": [
            "/usr/local/lib/python3.12/dist-packages/urllib3/connectionpool.py:1097: InsecureRequestWarning: Unverified HTTPS request is being made to host 'www.erowid.org'. Adding certificate verification is strongly advised. See: https://urllib3.readthedocs.io/en/latest/advanced-usage.html#tls-warnings\n",
            "  warnings.warn(\n"
          ]
        },
        {
          "output_type": "stream",
          "name": "stdout",
          "text": [
            "Fetched content for: https://www.erowid.org/experiences/exp.php?ID=103790\n"
          ]
        },
        {
          "output_type": "stream",
          "name": "stderr",
          "text": [
            "/usr/local/lib/python3.12/dist-packages/urllib3/connectionpool.py:1097: InsecureRequestWarning: Unverified HTTPS request is being made to host 'www.erowid.org'. Adding certificate verification is strongly advised. See: https://urllib3.readthedocs.io/en/latest/advanced-usage.html#tls-warnings\n",
            "  warnings.warn(\n"
          ]
        },
        {
          "output_type": "stream",
          "name": "stdout",
          "text": [
            "Fetched content for: https://www.erowid.org/experiences/exp.php?ID=96614\n"
          ]
        },
        {
          "output_type": "stream",
          "name": "stderr",
          "text": [
            "/usr/local/lib/python3.12/dist-packages/urllib3/connectionpool.py:1097: InsecureRequestWarning: Unverified HTTPS request is being made to host 'www.erowid.org'. Adding certificate verification is strongly advised. See: https://urllib3.readthedocs.io/en/latest/advanced-usage.html#tls-warnings\n",
            "  warnings.warn(\n"
          ]
        },
        {
          "output_type": "stream",
          "name": "stdout",
          "text": [
            "Fetched content for: https://www.erowid.org/experiences/exp.php?ID=106677\n"
          ]
        },
        {
          "output_type": "stream",
          "name": "stderr",
          "text": [
            "/usr/local/lib/python3.12/dist-packages/urllib3/connectionpool.py:1097: InsecureRequestWarning: Unverified HTTPS request is being made to host 'www.erowid.org'. Adding certificate verification is strongly advised. See: https://urllib3.readthedocs.io/en/latest/advanced-usage.html#tls-warnings\n",
            "  warnings.warn(\n"
          ]
        },
        {
          "output_type": "stream",
          "name": "stdout",
          "text": [
            "Fetched content for: https://www.erowid.org/experiences/exp.php?ID=89887\n"
          ]
        },
        {
          "output_type": "stream",
          "name": "stderr",
          "text": [
            "/usr/local/lib/python3.12/dist-packages/urllib3/connectionpool.py:1097: InsecureRequestWarning: Unverified HTTPS request is being made to host 'www.erowid.org'. Adding certificate verification is strongly advised. See: https://urllib3.readthedocs.io/en/latest/advanced-usage.html#tls-warnings\n",
            "  warnings.warn(\n"
          ]
        },
        {
          "output_type": "stream",
          "name": "stdout",
          "text": [
            "Fetched content for: https://www.erowid.org/experiences/exp.php?ID=98866\n"
          ]
        },
        {
          "output_type": "stream",
          "name": "stderr",
          "text": [
            "/usr/local/lib/python3.12/dist-packages/urllib3/connectionpool.py:1097: InsecureRequestWarning: Unverified HTTPS request is being made to host 'www.erowid.org'. Adding certificate verification is strongly advised. See: https://urllib3.readthedocs.io/en/latest/advanced-usage.html#tls-warnings\n",
            "  warnings.warn(\n"
          ]
        },
        {
          "output_type": "stream",
          "name": "stdout",
          "text": [
            "Fetched content for: https://www.erowid.org/experiences/exp.php?ID=101485\n"
          ]
        },
        {
          "output_type": "stream",
          "name": "stderr",
          "text": [
            "/usr/local/lib/python3.12/dist-packages/urllib3/connectionpool.py:1097: InsecureRequestWarning: Unverified HTTPS request is being made to host 'www.erowid.org'. Adding certificate verification is strongly advised. See: https://urllib3.readthedocs.io/en/latest/advanced-usage.html#tls-warnings\n",
            "  warnings.warn(\n"
          ]
        },
        {
          "output_type": "stream",
          "name": "stdout",
          "text": [
            "Fetched content for: https://www.erowid.org/experiences/exp.php?ID=101541\n"
          ]
        },
        {
          "output_type": "stream",
          "name": "stderr",
          "text": [
            "/usr/local/lib/python3.12/dist-packages/urllib3/connectionpool.py:1097: InsecureRequestWarning: Unverified HTTPS request is being made to host 'www.erowid.org'. Adding certificate verification is strongly advised. See: https://urllib3.readthedocs.io/en/latest/advanced-usage.html#tls-warnings\n",
            "  warnings.warn(\n"
          ]
        },
        {
          "output_type": "stream",
          "name": "stdout",
          "text": [
            "Fetched content for: https://www.erowid.org/experiences/exp.php?ID=93315\n"
          ]
        },
        {
          "output_type": "stream",
          "name": "stderr",
          "text": [
            "/usr/local/lib/python3.12/dist-packages/urllib3/connectionpool.py:1097: InsecureRequestWarning: Unverified HTTPS request is being made to host 'www.erowid.org'. Adding certificate verification is strongly advised. See: https://urllib3.readthedocs.io/en/latest/advanced-usage.html#tls-warnings\n",
            "  warnings.warn(\n"
          ]
        },
        {
          "output_type": "stream",
          "name": "stdout",
          "text": [
            "Fetched content for: https://www.erowid.org/experiences/exp.php?ID=96521\n"
          ]
        },
        {
          "output_type": "stream",
          "name": "stderr",
          "text": [
            "/usr/local/lib/python3.12/dist-packages/urllib3/connectionpool.py:1097: InsecureRequestWarning: Unverified HTTPS request is being made to host 'www.erowid.org'. Adding certificate verification is strongly advised. See: https://urllib3.readthedocs.io/en/latest/advanced-usage.html#tls-warnings\n",
            "  warnings.warn(\n"
          ]
        },
        {
          "output_type": "stream",
          "name": "stdout",
          "text": [
            "Fetched content for: https://www.erowid.org/experiences/exp.php?ID=94429\n"
          ]
        },
        {
          "output_type": "stream",
          "name": "stderr",
          "text": [
            "/usr/local/lib/python3.12/dist-packages/urllib3/connectionpool.py:1097: InsecureRequestWarning: Unverified HTTPS request is being made to host 'www.erowid.org'. Adding certificate verification is strongly advised. See: https://urllib3.readthedocs.io/en/latest/advanced-usage.html#tls-warnings\n",
            "  warnings.warn(\n"
          ]
        },
        {
          "output_type": "stream",
          "name": "stdout",
          "text": [
            "Fetched content for: https://www.erowid.org/experiences/exp.php?ID=93145\n"
          ]
        },
        {
          "output_type": "stream",
          "name": "stderr",
          "text": [
            "/usr/local/lib/python3.12/dist-packages/urllib3/connectionpool.py:1097: InsecureRequestWarning: Unverified HTTPS request is being made to host 'www.erowid.org'. Adding certificate verification is strongly advised. See: https://urllib3.readthedocs.io/en/latest/advanced-usage.html#tls-warnings\n",
            "  warnings.warn(\n"
          ]
        },
        {
          "output_type": "stream",
          "name": "stdout",
          "text": [
            "Fetched content for: https://www.erowid.org/experiences/exp.php?ID=80226\n"
          ]
        },
        {
          "output_type": "stream",
          "name": "stderr",
          "text": [
            "/usr/local/lib/python3.12/dist-packages/urllib3/connectionpool.py:1097: InsecureRequestWarning: Unverified HTTPS request is being made to host 'www.erowid.org'. Adding certificate verification is strongly advised. See: https://urllib3.readthedocs.io/en/latest/advanced-usage.html#tls-warnings\n",
            "  warnings.warn(\n"
          ]
        },
        {
          "output_type": "stream",
          "name": "stdout",
          "text": [
            "Fetched content for: https://www.erowid.org/experiences/exp.php?ID=82934\n"
          ]
        },
        {
          "output_type": "stream",
          "name": "stderr",
          "text": [
            "/usr/local/lib/python3.12/dist-packages/urllib3/connectionpool.py:1097: InsecureRequestWarning: Unverified HTTPS request is being made to host 'www.erowid.org'. Adding certificate verification is strongly advised. See: https://urllib3.readthedocs.io/en/latest/advanced-usage.html#tls-warnings\n",
            "  warnings.warn(\n"
          ]
        },
        {
          "output_type": "stream",
          "name": "stdout",
          "text": [
            "Fetched content for: https://www.erowid.org/experiences/exp.php?ID=86665\n"
          ]
        },
        {
          "output_type": "stream",
          "name": "stderr",
          "text": [
            "/usr/local/lib/python3.12/dist-packages/urllib3/connectionpool.py:1097: InsecureRequestWarning: Unverified HTTPS request is being made to host 'www.erowid.org'. Adding certificate verification is strongly advised. See: https://urllib3.readthedocs.io/en/latest/advanced-usage.html#tls-warnings\n",
            "  warnings.warn(\n"
          ]
        },
        {
          "output_type": "stream",
          "name": "stdout",
          "text": [
            "Fetched content for: https://www.erowid.org/experiences/exp.php?ID=83719\n"
          ]
        },
        {
          "output_type": "stream",
          "name": "stderr",
          "text": [
            "/usr/local/lib/python3.12/dist-packages/urllib3/connectionpool.py:1097: InsecureRequestWarning: Unverified HTTPS request is being made to host 'www.erowid.org'. Adding certificate verification is strongly advised. See: https://urllib3.readthedocs.io/en/latest/advanced-usage.html#tls-warnings\n",
            "  warnings.warn(\n"
          ]
        },
        {
          "output_type": "stream",
          "name": "stdout",
          "text": [
            "Fetched content for: https://www.erowid.org/experiences/exp.php?ID=82837\n"
          ]
        },
        {
          "output_type": "stream",
          "name": "stderr",
          "text": [
            "/usr/local/lib/python3.12/dist-packages/urllib3/connectionpool.py:1097: InsecureRequestWarning: Unverified HTTPS request is being made to host 'www.erowid.org'. Adding certificate verification is strongly advised. See: https://urllib3.readthedocs.io/en/latest/advanced-usage.html#tls-warnings\n",
            "  warnings.warn(\n"
          ]
        },
        {
          "output_type": "stream",
          "name": "stdout",
          "text": [
            "Fetched content for: https://www.erowid.org/experiences/exp.php?ID=80880\n"
          ]
        },
        {
          "output_type": "stream",
          "name": "stderr",
          "text": [
            "/usr/local/lib/python3.12/dist-packages/urllib3/connectionpool.py:1097: InsecureRequestWarning: Unverified HTTPS request is being made to host 'www.erowid.org'. Adding certificate verification is strongly advised. See: https://urllib3.readthedocs.io/en/latest/advanced-usage.html#tls-warnings\n",
            "  warnings.warn(\n"
          ]
        },
        {
          "output_type": "stream",
          "name": "stdout",
          "text": [
            "Fetched content for: https://www.erowid.org/experiences/exp.php?ID=76614\n"
          ]
        },
        {
          "output_type": "stream",
          "name": "stderr",
          "text": [
            "/usr/local/lib/python3.12/dist-packages/urllib3/connectionpool.py:1097: InsecureRequestWarning: Unverified HTTPS request is being made to host 'www.erowid.org'. Adding certificate verification is strongly advised. See: https://urllib3.readthedocs.io/en/latest/advanced-usage.html#tls-warnings\n",
            "  warnings.warn(\n"
          ]
        },
        {
          "output_type": "stream",
          "name": "stdout",
          "text": [
            "Fetched content for: https://www.erowid.org/experiences/exp.php?ID=75003\n"
          ]
        },
        {
          "output_type": "stream",
          "name": "stderr",
          "text": [
            "/usr/local/lib/python3.12/dist-packages/urllib3/connectionpool.py:1097: InsecureRequestWarning: Unverified HTTPS request is being made to host 'www.erowid.org'. Adding certificate verification is strongly advised. See: https://urllib3.readthedocs.io/en/latest/advanced-usage.html#tls-warnings\n",
            "  warnings.warn(\n"
          ]
        },
        {
          "output_type": "stream",
          "name": "stdout",
          "text": [
            "Fetched content for: https://www.erowid.org/experiences/exp.php?ID=70283\n"
          ]
        },
        {
          "output_type": "stream",
          "name": "stderr",
          "text": [
            "/usr/local/lib/python3.12/dist-packages/urllib3/connectionpool.py:1097: InsecureRequestWarning: Unverified HTTPS request is being made to host 'www.erowid.org'. Adding certificate verification is strongly advised. See: https://urllib3.readthedocs.io/en/latest/advanced-usage.html#tls-warnings\n",
            "  warnings.warn(\n"
          ]
        },
        {
          "output_type": "stream",
          "name": "stdout",
          "text": [
            "Fetched content for: https://www.erowid.org/experiences/exp.php?ID=66730\n"
          ]
        },
        {
          "output_type": "stream",
          "name": "stderr",
          "text": [
            "/usr/local/lib/python3.12/dist-packages/urllib3/connectionpool.py:1097: InsecureRequestWarning: Unverified HTTPS request is being made to host 'www.erowid.org'. Adding certificate verification is strongly advised. See: https://urllib3.readthedocs.io/en/latest/advanced-usage.html#tls-warnings\n",
            "  warnings.warn(\n"
          ]
        },
        {
          "output_type": "stream",
          "name": "stdout",
          "text": [
            "Fetched content for: https://www.erowid.org/experiences/exp.php?ID=65793\n"
          ]
        },
        {
          "output_type": "stream",
          "name": "stderr",
          "text": [
            "/usr/local/lib/python3.12/dist-packages/urllib3/connectionpool.py:1097: InsecureRequestWarning: Unverified HTTPS request is being made to host 'www.erowid.org'. Adding certificate verification is strongly advised. See: https://urllib3.readthedocs.io/en/latest/advanced-usage.html#tls-warnings\n",
            "  warnings.warn(\n"
          ]
        },
        {
          "output_type": "stream",
          "name": "stdout",
          "text": [
            "Fetched content for: https://www.erowid.org/experiences/exp.php?ID=65384\n"
          ]
        },
        {
          "output_type": "stream",
          "name": "stderr",
          "text": [
            "/usr/local/lib/python3.12/dist-packages/urllib3/connectionpool.py:1097: InsecureRequestWarning: Unverified HTTPS request is being made to host 'www.erowid.org'. Adding certificate verification is strongly advised. See: https://urllib3.readthedocs.io/en/latest/advanced-usage.html#tls-warnings\n",
            "  warnings.warn(\n"
          ]
        },
        {
          "output_type": "stream",
          "name": "stdout",
          "text": [
            "Fetched content for: https://www.erowid.org/experiences/exp.php?ID=58800\n"
          ]
        },
        {
          "output_type": "stream",
          "name": "stderr",
          "text": [
            "/usr/local/lib/python3.12/dist-packages/urllib3/connectionpool.py:1097: InsecureRequestWarning: Unverified HTTPS request is being made to host 'www.erowid.org'. Adding certificate verification is strongly advised. See: https://urllib3.readthedocs.io/en/latest/advanced-usage.html#tls-warnings\n",
            "  warnings.warn(\n"
          ]
        },
        {
          "output_type": "stream",
          "name": "stdout",
          "text": [
            "Fetched content for: https://www.erowid.org/experiences/exp.php?ID=58907\n"
          ]
        },
        {
          "output_type": "stream",
          "name": "stderr",
          "text": [
            "/usr/local/lib/python3.12/dist-packages/urllib3/connectionpool.py:1097: InsecureRequestWarning: Unverified HTTPS request is being made to host 'www.erowid.org'. Adding certificate verification is strongly advised. See: https://urllib3.readthedocs.io/en/latest/advanced-usage.html#tls-warnings\n",
            "  warnings.warn(\n"
          ]
        },
        {
          "output_type": "stream",
          "name": "stdout",
          "text": [
            "Fetched content for: https://www.erowid.org/experiences/exp.php?ID=52797\n"
          ]
        },
        {
          "output_type": "stream",
          "name": "stderr",
          "text": [
            "/usr/local/lib/python3.12/dist-packages/urllib3/connectionpool.py:1097: InsecureRequestWarning: Unverified HTTPS request is being made to host 'www.erowid.org'. Adding certificate verification is strongly advised. See: https://urllib3.readthedocs.io/en/latest/advanced-usage.html#tls-warnings\n",
            "  warnings.warn(\n"
          ]
        },
        {
          "output_type": "stream",
          "name": "stdout",
          "text": [
            "Fetched content for: https://www.erowid.org/experiences/exp.php?ID=46854\n"
          ]
        },
        {
          "output_type": "stream",
          "name": "stderr",
          "text": [
            "/usr/local/lib/python3.12/dist-packages/urllib3/connectionpool.py:1097: InsecureRequestWarning: Unverified HTTPS request is being made to host 'www.erowid.org'. Adding certificate verification is strongly advised. See: https://urllib3.readthedocs.io/en/latest/advanced-usage.html#tls-warnings\n",
            "  warnings.warn(\n"
          ]
        },
        {
          "output_type": "stream",
          "name": "stdout",
          "text": [
            "Fetched content for: https://www.erowid.org/experiences/exp.php?ID=46856\n"
          ]
        },
        {
          "output_type": "stream",
          "name": "stderr",
          "text": [
            "/usr/local/lib/python3.12/dist-packages/urllib3/connectionpool.py:1097: InsecureRequestWarning: Unverified HTTPS request is being made to host 'www.erowid.org'. Adding certificate verification is strongly advised. See: https://urllib3.readthedocs.io/en/latest/advanced-usage.html#tls-warnings\n",
            "  warnings.warn(\n"
          ]
        },
        {
          "output_type": "stream",
          "name": "stdout",
          "text": [
            "Fetched content for: https://www.erowid.org/experiences/exp.php?ID=41106\n"
          ]
        },
        {
          "output_type": "stream",
          "name": "stderr",
          "text": [
            "/usr/local/lib/python3.12/dist-packages/urllib3/connectionpool.py:1097: InsecureRequestWarning: Unverified HTTPS request is being made to host 'www.erowid.org'. Adding certificate verification is strongly advised. See: https://urllib3.readthedocs.io/en/latest/advanced-usage.html#tls-warnings\n",
            "  warnings.warn(\n"
          ]
        },
        {
          "output_type": "stream",
          "name": "stdout",
          "text": [
            "Fetched content for: https://www.erowid.org/experiences/exp.php?ID=30919\n"
          ]
        },
        {
          "output_type": "stream",
          "name": "stderr",
          "text": [
            "/usr/local/lib/python3.12/dist-packages/urllib3/connectionpool.py:1097: InsecureRequestWarning: Unverified HTTPS request is being made to host 'www.erowid.org'. Adding certificate verification is strongly advised. See: https://urllib3.readthedocs.io/en/latest/advanced-usage.html#tls-warnings\n",
            "  warnings.warn(\n"
          ]
        },
        {
          "output_type": "stream",
          "name": "stdout",
          "text": [
            "Fetched content for: https://www.erowid.org/experiences/exp.php?ID=22238\n"
          ]
        },
        {
          "output_type": "stream",
          "name": "stderr",
          "text": [
            "/usr/local/lib/python3.12/dist-packages/urllib3/connectionpool.py:1097: InsecureRequestWarning: Unverified HTTPS request is being made to host 'www.erowid.org'. Adding certificate verification is strongly advised. See: https://urllib3.readthedocs.io/en/latest/advanced-usage.html#tls-warnings\n",
            "  warnings.warn(\n"
          ]
        },
        {
          "output_type": "stream",
          "name": "stdout",
          "text": [
            "Fetched content for: https://www.erowid.org/experiences/exp.php?ID=31979\n"
          ]
        },
        {
          "output_type": "stream",
          "name": "stderr",
          "text": [
            "/usr/local/lib/python3.12/dist-packages/urllib3/connectionpool.py:1097: InsecureRequestWarning: Unverified HTTPS request is being made to host 'www.erowid.org'. Adding certificate verification is strongly advised. See: https://urllib3.readthedocs.io/en/latest/advanced-usage.html#tls-warnings\n",
            "  warnings.warn(\n"
          ]
        },
        {
          "output_type": "stream",
          "name": "stdout",
          "text": [
            "Fetched content for: https://www.erowid.org/experiences/exp.php?ID=25157\n"
          ]
        },
        {
          "output_type": "stream",
          "name": "stderr",
          "text": [
            "/usr/local/lib/python3.12/dist-packages/urllib3/connectionpool.py:1097: InsecureRequestWarning: Unverified HTTPS request is being made to host 'www.erowid.org'. Adding certificate verification is strongly advised. See: https://urllib3.readthedocs.io/en/latest/advanced-usage.html#tls-warnings\n",
            "  warnings.warn(\n"
          ]
        },
        {
          "output_type": "stream",
          "name": "stdout",
          "text": [
            "Fetched content for: https://www.erowid.org/experiences/exp.php?ID=23350\n"
          ]
        },
        {
          "output_type": "stream",
          "name": "stderr",
          "text": [
            "/usr/local/lib/python3.12/dist-packages/urllib3/connectionpool.py:1097: InsecureRequestWarning: Unverified HTTPS request is being made to host 'www.erowid.org'. Adding certificate verification is strongly advised. See: https://urllib3.readthedocs.io/en/latest/advanced-usage.html#tls-warnings\n",
            "  warnings.warn(\n"
          ]
        },
        {
          "output_type": "stream",
          "name": "stdout",
          "text": [
            "Fetched content for: https://www.erowid.org/experiences/exp.php?ID=16314\n"
          ]
        },
        {
          "output_type": "stream",
          "name": "stderr",
          "text": [
            "/usr/local/lib/python3.12/dist-packages/urllib3/connectionpool.py:1097: InsecureRequestWarning: Unverified HTTPS request is being made to host 'www.erowid.org'. Adding certificate verification is strongly advised. See: https://urllib3.readthedocs.io/en/latest/advanced-usage.html#tls-warnings\n",
            "  warnings.warn(\n"
          ]
        },
        {
          "output_type": "stream",
          "name": "stdout",
          "text": [
            "Fetched content for: https://www.erowid.org/experiences/exp.php?ID=8842\n"
          ]
        },
        {
          "output_type": "stream",
          "name": "stderr",
          "text": [
            "/usr/local/lib/python3.12/dist-packages/urllib3/connectionpool.py:1097: InsecureRequestWarning: Unverified HTTPS request is being made to host 'www.erowid.org'. Adding certificate verification is strongly advised. See: https://urllib3.readthedocs.io/en/latest/advanced-usage.html#tls-warnings\n",
            "  warnings.warn(\n"
          ]
        },
        {
          "output_type": "stream",
          "name": "stdout",
          "text": [
            "Fetched content for: https://www.erowid.org/experiences/exp.php?ID=2205\n"
          ]
        },
        {
          "output_type": "stream",
          "name": "stderr",
          "text": [
            "/usr/local/lib/python3.12/dist-packages/urllib3/connectionpool.py:1097: InsecureRequestWarning: Unverified HTTPS request is being made to host 'www.erowid.org'. Adding certificate verification is strongly advised. See: https://urllib3.readthedocs.io/en/latest/advanced-usage.html#tls-warnings\n",
            "  warnings.warn(\n"
          ]
        },
        {
          "output_type": "stream",
          "name": "stdout",
          "text": [
            "Fetched content for: https://www.erowid.org/experiences/exp.php?ID=1851\n"
          ]
        },
        {
          "output_type": "stream",
          "name": "stderr",
          "text": [
            "/usr/local/lib/python3.12/dist-packages/urllib3/connectionpool.py:1097: InsecureRequestWarning: Unverified HTTPS request is being made to host 'www.erowid.org'. Adding certificate verification is strongly advised. See: https://urllib3.readthedocs.io/en/latest/advanced-usage.html#tls-warnings\n",
            "  warnings.warn(\n"
          ]
        },
        {
          "output_type": "stream",
          "name": "stdout",
          "text": [
            "Fetched content for: https://www.erowid.org/experiences/exp.php?ID=1841\n"
          ]
        },
        {
          "output_type": "stream",
          "name": "stderr",
          "text": [
            "/usr/local/lib/python3.12/dist-packages/urllib3/connectionpool.py:1097: InsecureRequestWarning: Unverified HTTPS request is being made to host 'www.erowid.org'. Adding certificate verification is strongly advised. See: https://urllib3.readthedocs.io/en/latest/advanced-usage.html#tls-warnings\n",
            "  warnings.warn(\n"
          ]
        },
        {
          "output_type": "stream",
          "name": "stdout",
          "text": [
            "Fetched content for: https://www.erowid.org/experiences/exp.php?ID=1839\n"
          ]
        },
        {
          "output_type": "stream",
          "name": "stderr",
          "text": [
            "/usr/local/lib/python3.12/dist-packages/urllib3/connectionpool.py:1097: InsecureRequestWarning: Unverified HTTPS request is being made to host 'www.erowid.org'. Adding certificate verification is strongly advised. See: https://urllib3.readthedocs.io/en/latest/advanced-usage.html#tls-warnings\n",
            "  warnings.warn(\n"
          ]
        },
        {
          "output_type": "stream",
          "name": "stdout",
          "text": [
            "Fetched content for: https://www.erowid.org/experiences/exp.php?ID=118625\n"
          ]
        },
        {
          "output_type": "stream",
          "name": "stderr",
          "text": [
            "/usr/local/lib/python3.12/dist-packages/urllib3/connectionpool.py:1097: InsecureRequestWarning: Unverified HTTPS request is being made to host 'www.erowid.org'. Adding certificate verification is strongly advised. See: https://urllib3.readthedocs.io/en/latest/advanced-usage.html#tls-warnings\n",
            "  warnings.warn(\n"
          ]
        },
        {
          "output_type": "stream",
          "name": "stdout",
          "text": [
            "Fetched content for: https://www.erowid.org/experiences/exp.php?ID=117294\n"
          ]
        },
        {
          "output_type": "stream",
          "name": "stderr",
          "text": [
            "/usr/local/lib/python3.12/dist-packages/urllib3/connectionpool.py:1097: InsecureRequestWarning: Unverified HTTPS request is being made to host 'www.erowid.org'. Adding certificate verification is strongly advised. See: https://urllib3.readthedocs.io/en/latest/advanced-usage.html#tls-warnings\n",
            "  warnings.warn(\n"
          ]
        },
        {
          "output_type": "stream",
          "name": "stdout",
          "text": [
            "Fetched content for: https://www.erowid.org/experiences/exp.php?ID=117473\n"
          ]
        },
        {
          "output_type": "stream",
          "name": "stderr",
          "text": [
            "/usr/local/lib/python3.12/dist-packages/urllib3/connectionpool.py:1097: InsecureRequestWarning: Unverified HTTPS request is being made to host 'www.erowid.org'. Adding certificate verification is strongly advised. See: https://urllib3.readthedocs.io/en/latest/advanced-usage.html#tls-warnings\n",
            "  warnings.warn(\n"
          ]
        },
        {
          "output_type": "stream",
          "name": "stdout",
          "text": [
            "Fetched content for: https://www.erowid.org/experiences/exp.php?ID=102105\n"
          ]
        },
        {
          "output_type": "stream",
          "name": "stderr",
          "text": [
            "/usr/local/lib/python3.12/dist-packages/urllib3/connectionpool.py:1097: InsecureRequestWarning: Unverified HTTPS request is being made to host 'www.erowid.org'. Adding certificate verification is strongly advised. See: https://urllib3.readthedocs.io/en/latest/advanced-usage.html#tls-warnings\n",
            "  warnings.warn(\n"
          ]
        },
        {
          "output_type": "stream",
          "name": "stdout",
          "text": [
            "Fetched content for: https://www.erowid.org/experiences/exp.php?ID=115502\n"
          ]
        },
        {
          "output_type": "stream",
          "name": "stderr",
          "text": [
            "/usr/local/lib/python3.12/dist-packages/urllib3/connectionpool.py:1097: InsecureRequestWarning: Unverified HTTPS request is being made to host 'www.erowid.org'. Adding certificate verification is strongly advised. See: https://urllib3.readthedocs.io/en/latest/advanced-usage.html#tls-warnings\n",
            "  warnings.warn(\n"
          ]
        },
        {
          "output_type": "stream",
          "name": "stdout",
          "text": [
            "Fetched content for: https://www.erowid.org/experiences/exp.php?ID=114947\n"
          ]
        },
        {
          "output_type": "stream",
          "name": "stderr",
          "text": [
            "/usr/local/lib/python3.12/dist-packages/urllib3/connectionpool.py:1097: InsecureRequestWarning: Unverified HTTPS request is being made to host 'www.erowid.org'. Adding certificate verification is strongly advised. See: https://urllib3.readthedocs.io/en/latest/advanced-usage.html#tls-warnings\n",
            "  warnings.warn(\n"
          ]
        },
        {
          "output_type": "stream",
          "name": "stdout",
          "text": [
            "Fetched content for: https://www.erowid.org/experiences/exp.php?ID=100673\n"
          ]
        },
        {
          "output_type": "stream",
          "name": "stderr",
          "text": [
            "/usr/local/lib/python3.12/dist-packages/urllib3/connectionpool.py:1097: InsecureRequestWarning: Unverified HTTPS request is being made to host 'www.erowid.org'. Adding certificate verification is strongly advised. See: https://urllib3.readthedocs.io/en/latest/advanced-usage.html#tls-warnings\n",
            "  warnings.warn(\n"
          ]
        },
        {
          "output_type": "stream",
          "name": "stdout",
          "text": [
            "Fetched content for: https://www.erowid.org/experiences/exp.php?ID=99247\n"
          ]
        },
        {
          "output_type": "stream",
          "name": "stderr",
          "text": [
            "/usr/local/lib/python3.12/dist-packages/urllib3/connectionpool.py:1097: InsecureRequestWarning: Unverified HTTPS request is being made to host 'www.erowid.org'. Adding certificate verification is strongly advised. See: https://urllib3.readthedocs.io/en/latest/advanced-usage.html#tls-warnings\n",
            "  warnings.warn(\n"
          ]
        },
        {
          "output_type": "stream",
          "name": "stdout",
          "text": [
            "Fetched content for: https://www.erowid.org/experiences/exp.php?ID=106448\n"
          ]
        },
        {
          "output_type": "stream",
          "name": "stderr",
          "text": [
            "/usr/local/lib/python3.12/dist-packages/urllib3/connectionpool.py:1097: InsecureRequestWarning: Unverified HTTPS request is being made to host 'www.erowid.org'. Adding certificate verification is strongly advised. See: https://urllib3.readthedocs.io/en/latest/advanced-usage.html#tls-warnings\n",
            "  warnings.warn(\n"
          ]
        },
        {
          "output_type": "stream",
          "name": "stdout",
          "text": [
            "Fetched content for: https://www.erowid.org/experiences/exp.php?ID=106105\n"
          ]
        },
        {
          "output_type": "stream",
          "name": "stderr",
          "text": [
            "/usr/local/lib/python3.12/dist-packages/urllib3/connectionpool.py:1097: InsecureRequestWarning: Unverified HTTPS request is being made to host 'www.erowid.org'. Adding certificate verification is strongly advised. See: https://urllib3.readthedocs.io/en/latest/advanced-usage.html#tls-warnings\n",
            "  warnings.warn(\n"
          ]
        },
        {
          "output_type": "stream",
          "name": "stdout",
          "text": [
            "Fetched content for: https://www.erowid.org/experiences/exp.php?ID=108109\n"
          ]
        },
        {
          "output_type": "stream",
          "name": "stderr",
          "text": [
            "/usr/local/lib/python3.12/dist-packages/urllib3/connectionpool.py:1097: InsecureRequestWarning: Unverified HTTPS request is being made to host 'www.erowid.org'. Adding certificate verification is strongly advised. See: https://urllib3.readthedocs.io/en/latest/advanced-usage.html#tls-warnings\n",
            "  warnings.warn(\n"
          ]
        },
        {
          "output_type": "stream",
          "name": "stdout",
          "text": [
            "Fetched content for: https://www.erowid.org/experiences/exp.php?ID=113511\n"
          ]
        },
        {
          "output_type": "stream",
          "name": "stderr",
          "text": [
            "/usr/local/lib/python3.12/dist-packages/urllib3/connectionpool.py:1097: InsecureRequestWarning: Unverified HTTPS request is being made to host 'www.erowid.org'. Adding certificate verification is strongly advised. See: https://urllib3.readthedocs.io/en/latest/advanced-usage.html#tls-warnings\n",
            "  warnings.warn(\n"
          ]
        },
        {
          "output_type": "stream",
          "name": "stdout",
          "text": [
            "Fetched content for: https://www.erowid.org/experiences/exp.php?ID=106818\n"
          ]
        },
        {
          "output_type": "stream",
          "name": "stderr",
          "text": [
            "/usr/local/lib/python3.12/dist-packages/urllib3/connectionpool.py:1097: InsecureRequestWarning: Unverified HTTPS request is being made to host 'www.erowid.org'. Adding certificate verification is strongly advised. See: https://urllib3.readthedocs.io/en/latest/advanced-usage.html#tls-warnings\n",
            "  warnings.warn(\n"
          ]
        },
        {
          "output_type": "stream",
          "name": "stdout",
          "text": [
            "Fetched content for: https://www.erowid.org/experiences/exp.php?ID=101367\n"
          ]
        },
        {
          "output_type": "stream",
          "name": "stderr",
          "text": [
            "/usr/local/lib/python3.12/dist-packages/urllib3/connectionpool.py:1097: InsecureRequestWarning: Unverified HTTPS request is being made to host 'www.erowid.org'. Adding certificate verification is strongly advised. See: https://urllib3.readthedocs.io/en/latest/advanced-usage.html#tls-warnings\n",
            "  warnings.warn(\n"
          ]
        },
        {
          "output_type": "stream",
          "name": "stdout",
          "text": [
            "Fetched content for: https://www.erowid.org/experiences/exp.php?ID=102952\n"
          ]
        },
        {
          "output_type": "stream",
          "name": "stderr",
          "text": [
            "/usr/local/lib/python3.12/dist-packages/urllib3/connectionpool.py:1097: InsecureRequestWarning: Unverified HTTPS request is being made to host 'www.erowid.org'. Adding certificate verification is strongly advised. See: https://urllib3.readthedocs.io/en/latest/advanced-usage.html#tls-warnings\n",
            "  warnings.warn(\n"
          ]
        },
        {
          "output_type": "stream",
          "name": "stdout",
          "text": [
            "Fetched content for: https://www.erowid.org/experiences/exp.php?ID=112845\n"
          ]
        },
        {
          "output_type": "stream",
          "name": "stderr",
          "text": [
            "/usr/local/lib/python3.12/dist-packages/urllib3/connectionpool.py:1097: InsecureRequestWarning: Unverified HTTPS request is being made to host 'www.erowid.org'. Adding certificate verification is strongly advised. See: https://urllib3.readthedocs.io/en/latest/advanced-usage.html#tls-warnings\n",
            "  warnings.warn(\n"
          ]
        },
        {
          "output_type": "stream",
          "name": "stdout",
          "text": [
            "Fetched content for: https://www.erowid.org/experiences/exp.php?ID=112640\n"
          ]
        },
        {
          "output_type": "stream",
          "name": "stderr",
          "text": [
            "/usr/local/lib/python3.12/dist-packages/urllib3/connectionpool.py:1097: InsecureRequestWarning: Unverified HTTPS request is being made to host 'www.erowid.org'. Adding certificate verification is strongly advised. See: https://urllib3.readthedocs.io/en/latest/advanced-usage.html#tls-warnings\n",
            "  warnings.warn(\n"
          ]
        },
        {
          "output_type": "stream",
          "name": "stdout",
          "text": [
            "Fetched content for: https://www.erowid.org/experiences/exp.php?ID=112771\n"
          ]
        },
        {
          "output_type": "stream",
          "name": "stderr",
          "text": [
            "/usr/local/lib/python3.12/dist-packages/urllib3/connectionpool.py:1097: InsecureRequestWarning: Unverified HTTPS request is being made to host 'www.erowid.org'. Adding certificate verification is strongly advised. See: https://urllib3.readthedocs.io/en/latest/advanced-usage.html#tls-warnings\n",
            "  warnings.warn(\n"
          ]
        },
        {
          "output_type": "stream",
          "name": "stdout",
          "text": [
            "Fetched content for: https://www.erowid.org/experiences/exp.php?ID=111847\n"
          ]
        },
        {
          "output_type": "stream",
          "name": "stderr",
          "text": [
            "/usr/local/lib/python3.12/dist-packages/urllib3/connectionpool.py:1097: InsecureRequestWarning: Unverified HTTPS request is being made to host 'www.erowid.org'. Adding certificate verification is strongly advised. See: https://urllib3.readthedocs.io/en/latest/advanced-usage.html#tls-warnings\n",
            "  warnings.warn(\n"
          ]
        },
        {
          "output_type": "stream",
          "name": "stdout",
          "text": [
            "Fetched content for: https://www.erowid.org/experiences/exp.php?ID=87759\n"
          ]
        },
        {
          "output_type": "stream",
          "name": "stderr",
          "text": [
            "/usr/local/lib/python3.12/dist-packages/urllib3/connectionpool.py:1097: InsecureRequestWarning: Unverified HTTPS request is being made to host 'www.erowid.org'. Adding certificate verification is strongly advised. See: https://urllib3.readthedocs.io/en/latest/advanced-usage.html#tls-warnings\n",
            "  warnings.warn(\n"
          ]
        },
        {
          "output_type": "stream",
          "name": "stdout",
          "text": [
            "Fetched content for: https://www.erowid.org/experiences/exp.php?ID=96140\n"
          ]
        },
        {
          "output_type": "stream",
          "name": "stderr",
          "text": [
            "/usr/local/lib/python3.12/dist-packages/urllib3/connectionpool.py:1097: InsecureRequestWarning: Unverified HTTPS request is being made to host 'www.erowid.org'. Adding certificate verification is strongly advised. See: https://urllib3.readthedocs.io/en/latest/advanced-usage.html#tls-warnings\n",
            "  warnings.warn(\n"
          ]
        },
        {
          "output_type": "stream",
          "name": "stdout",
          "text": [
            "Fetched content for: https://www.erowid.org/experiences/exp.php?ID=85721\n"
          ]
        },
        {
          "output_type": "stream",
          "name": "stderr",
          "text": [
            "/usr/local/lib/python3.12/dist-packages/urllib3/connectionpool.py:1097: InsecureRequestWarning: Unverified HTTPS request is being made to host 'www.erowid.org'. Adding certificate verification is strongly advised. See: https://urllib3.readthedocs.io/en/latest/advanced-usage.html#tls-warnings\n",
            "  warnings.warn(\n"
          ]
        },
        {
          "output_type": "stream",
          "name": "stdout",
          "text": [
            "Fetched content for: https://www.erowid.org/experiences/exp.php?ID=100953\n"
          ]
        },
        {
          "output_type": "stream",
          "name": "stderr",
          "text": [
            "/usr/local/lib/python3.12/dist-packages/urllib3/connectionpool.py:1097: InsecureRequestWarning: Unverified HTTPS request is being made to host 'www.erowid.org'. Adding certificate verification is strongly advised. See: https://urllib3.readthedocs.io/en/latest/advanced-usage.html#tls-warnings\n",
            "  warnings.warn(\n"
          ]
        },
        {
          "output_type": "stream",
          "name": "stdout",
          "text": [
            "Fetched content for: https://www.erowid.org/experiences/exp.php?ID=99900\n"
          ]
        },
        {
          "output_type": "stream",
          "name": "stderr",
          "text": [
            "/usr/local/lib/python3.12/dist-packages/urllib3/connectionpool.py:1097: InsecureRequestWarning: Unverified HTTPS request is being made to host 'www.erowid.org'. Adding certificate verification is strongly advised. See: https://urllib3.readthedocs.io/en/latest/advanced-usage.html#tls-warnings\n",
            "  warnings.warn(\n"
          ]
        },
        {
          "output_type": "stream",
          "name": "stdout",
          "text": [
            "Fetched content for: https://www.erowid.org/experiences/exp.php?ID=103249\n"
          ]
        },
        {
          "output_type": "stream",
          "name": "stderr",
          "text": [
            "/usr/local/lib/python3.12/dist-packages/urllib3/connectionpool.py:1097: InsecureRequestWarning: Unverified HTTPS request is being made to host 'www.erowid.org'. Adding certificate verification is strongly advised. See: https://urllib3.readthedocs.io/en/latest/advanced-usage.html#tls-warnings\n",
            "  warnings.warn(\n"
          ]
        },
        {
          "output_type": "stream",
          "name": "stdout",
          "text": [
            "Fetched content for: https://www.erowid.org/experiences/exp.php?ID=109084\n"
          ]
        },
        {
          "output_type": "stream",
          "name": "stderr",
          "text": [
            "/usr/local/lib/python3.12/dist-packages/urllib3/connectionpool.py:1097: InsecureRequestWarning: Unverified HTTPS request is being made to host 'www.erowid.org'. Adding certificate verification is strongly advised. See: https://urllib3.readthedocs.io/en/latest/advanced-usage.html#tls-warnings\n",
            "  warnings.warn(\n"
          ]
        },
        {
          "output_type": "stream",
          "name": "stdout",
          "text": [
            "Fetched content for: https://www.erowid.org/experiences/exp.php?ID=95151\n"
          ]
        },
        {
          "output_type": "stream",
          "name": "stderr",
          "text": [
            "/usr/local/lib/python3.12/dist-packages/urllib3/connectionpool.py:1097: InsecureRequestWarning: Unverified HTTPS request is being made to host 'www.erowid.org'. Adding certificate verification is strongly advised. See: https://urllib3.readthedocs.io/en/latest/advanced-usage.html#tls-warnings\n",
            "  warnings.warn(\n"
          ]
        },
        {
          "output_type": "stream",
          "name": "stdout",
          "text": [
            "Fetched content for: https://www.erowid.org/experiences/exp.php?ID=100929\n"
          ]
        },
        {
          "output_type": "stream",
          "name": "stderr",
          "text": [
            "/usr/local/lib/python3.12/dist-packages/urllib3/connectionpool.py:1097: InsecureRequestWarning: Unverified HTTPS request is being made to host 'www.erowid.org'. Adding certificate verification is strongly advised. See: https://urllib3.readthedocs.io/en/latest/advanced-usage.html#tls-warnings\n",
            "  warnings.warn(\n"
          ]
        },
        {
          "output_type": "stream",
          "name": "stdout",
          "text": [
            "Fetched content for: https://www.erowid.org/experiences/exp.php?ID=97363\n"
          ]
        },
        {
          "output_type": "stream",
          "name": "stderr",
          "text": [
            "/usr/local/lib/python3.12/dist-packages/urllib3/connectionpool.py:1097: InsecureRequestWarning: Unverified HTTPS request is being made to host 'www.erowid.org'. Adding certificate verification is strongly advised. See: https://urllib3.readthedocs.io/en/latest/advanced-usage.html#tls-warnings\n",
            "  warnings.warn(\n"
          ]
        },
        {
          "output_type": "stream",
          "name": "stdout",
          "text": [
            "Fetched content for: https://www.erowid.org/experiences/exp.php?ID=110185\n"
          ]
        },
        {
          "output_type": "stream",
          "name": "stderr",
          "text": [
            "/usr/local/lib/python3.12/dist-packages/urllib3/connectionpool.py:1097: InsecureRequestWarning: Unverified HTTPS request is being made to host 'www.erowid.org'. Adding certificate verification is strongly advised. See: https://urllib3.readthedocs.io/en/latest/advanced-usage.html#tls-warnings\n",
            "  warnings.warn(\n"
          ]
        },
        {
          "output_type": "stream",
          "name": "stdout",
          "text": [
            "Fetched content for: https://www.erowid.org/experiences/exp.php?ID=108821\n"
          ]
        },
        {
          "output_type": "stream",
          "name": "stderr",
          "text": [
            "/usr/local/lib/python3.12/dist-packages/urllib3/connectionpool.py:1097: InsecureRequestWarning: Unverified HTTPS request is being made to host 'www.erowid.org'. Adding certificate verification is strongly advised. See: https://urllib3.readthedocs.io/en/latest/advanced-usage.html#tls-warnings\n",
            "  warnings.warn(\n"
          ]
        },
        {
          "output_type": "stream",
          "name": "stdout",
          "text": [
            "Fetched content for: https://www.erowid.org/experiences/exp.php?ID=91964\n"
          ]
        },
        {
          "output_type": "stream",
          "name": "stderr",
          "text": [
            "/usr/local/lib/python3.12/dist-packages/urllib3/connectionpool.py:1097: InsecureRequestWarning: Unverified HTTPS request is being made to host 'www.erowid.org'. Adding certificate verification is strongly advised. See: https://urllib3.readthedocs.io/en/latest/advanced-usage.html#tls-warnings\n",
            "  warnings.warn(\n"
          ]
        },
        {
          "output_type": "stream",
          "name": "stdout",
          "text": [
            "Fetched content for: https://www.erowid.org/experiences/exp.php?ID=110432\n"
          ]
        },
        {
          "output_type": "stream",
          "name": "stderr",
          "text": [
            "/usr/local/lib/python3.12/dist-packages/urllib3/connectionpool.py:1097: InsecureRequestWarning: Unverified HTTPS request is being made to host 'www.erowid.org'. Adding certificate verification is strongly advised. See: https://urllib3.readthedocs.io/en/latest/advanced-usage.html#tls-warnings\n",
            "  warnings.warn(\n"
          ]
        },
        {
          "output_type": "stream",
          "name": "stdout",
          "text": [
            "Fetched content for: https://www.erowid.org/experiences/exp.php?ID=81462\n"
          ]
        },
        {
          "output_type": "stream",
          "name": "stderr",
          "text": [
            "/usr/local/lib/python3.12/dist-packages/urllib3/connectionpool.py:1097: InsecureRequestWarning: Unverified HTTPS request is being made to host 'www.erowid.org'. Adding certificate verification is strongly advised. See: https://urllib3.readthedocs.io/en/latest/advanced-usage.html#tls-warnings\n",
            "  warnings.warn(\n"
          ]
        },
        {
          "output_type": "stream",
          "name": "stdout",
          "text": [
            "Fetched content for: https://www.erowid.org/experiences/exp.php?ID=101884\n"
          ]
        },
        {
          "output_type": "stream",
          "name": "stderr",
          "text": [
            "/usr/local/lib/python3.12/dist-packages/urllib3/connectionpool.py:1097: InsecureRequestWarning: Unverified HTTPS request is being made to host 'www.erowid.org'. Adding certificate verification is strongly advised. See: https://urllib3.readthedocs.io/en/latest/advanced-usage.html#tls-warnings\n",
            "  warnings.warn(\n"
          ]
        },
        {
          "output_type": "stream",
          "name": "stdout",
          "text": [
            "Fetched content for: https://www.erowid.org/experiences/exp.php?ID=108077\n"
          ]
        },
        {
          "output_type": "stream",
          "name": "stderr",
          "text": [
            "/usr/local/lib/python3.12/dist-packages/urllib3/connectionpool.py:1097: InsecureRequestWarning: Unverified HTTPS request is being made to host 'www.erowid.org'. Adding certificate verification is strongly advised. See: https://urllib3.readthedocs.io/en/latest/advanced-usage.html#tls-warnings\n",
            "  warnings.warn(\n"
          ]
        },
        {
          "output_type": "stream",
          "name": "stdout",
          "text": [
            "Fetched content for: https://www.erowid.org/experiences/exp.php?ID=94599\n"
          ]
        },
        {
          "output_type": "stream",
          "name": "stderr",
          "text": [
            "/usr/local/lib/python3.12/dist-packages/urllib3/connectionpool.py:1097: InsecureRequestWarning: Unverified HTTPS request is being made to host 'www.erowid.org'. Adding certificate verification is strongly advised. See: https://urllib3.readthedocs.io/en/latest/advanced-usage.html#tls-warnings\n",
            "  warnings.warn(\n"
          ]
        },
        {
          "output_type": "stream",
          "name": "stdout",
          "text": [
            "Fetched content for: https://www.erowid.org/experiences/exp.php?ID=90113\n"
          ]
        },
        {
          "output_type": "stream",
          "name": "stderr",
          "text": [
            "/usr/local/lib/python3.12/dist-packages/urllib3/connectionpool.py:1097: InsecureRequestWarning: Unverified HTTPS request is being made to host 'www.erowid.org'. Adding certificate verification is strongly advised. See: https://urllib3.readthedocs.io/en/latest/advanced-usage.html#tls-warnings\n",
            "  warnings.warn(\n"
          ]
        },
        {
          "output_type": "stream",
          "name": "stdout",
          "text": [
            "Fetched content for: https://www.erowid.org/experiences/exp.php?ID=90263\n"
          ]
        },
        {
          "output_type": "stream",
          "name": "stderr",
          "text": [
            "/usr/local/lib/python3.12/dist-packages/urllib3/connectionpool.py:1097: InsecureRequestWarning: Unverified HTTPS request is being made to host 'www.erowid.org'. Adding certificate verification is strongly advised. See: https://urllib3.readthedocs.io/en/latest/advanced-usage.html#tls-warnings\n",
            "  warnings.warn(\n"
          ]
        },
        {
          "output_type": "stream",
          "name": "stdout",
          "text": [
            "Fetched content for: https://www.erowid.org/experiences/exp.php?ID=88428\n"
          ]
        },
        {
          "output_type": "stream",
          "name": "stderr",
          "text": [
            "/usr/local/lib/python3.12/dist-packages/urllib3/connectionpool.py:1097: InsecureRequestWarning: Unverified HTTPS request is being made to host 'www.erowid.org'. Adding certificate verification is strongly advised. See: https://urllib3.readthedocs.io/en/latest/advanced-usage.html#tls-warnings\n",
            "  warnings.warn(\n"
          ]
        },
        {
          "output_type": "stream",
          "name": "stdout",
          "text": [
            "Fetched content for: https://www.erowid.org/experiences/exp.php?ID=107582\n"
          ]
        },
        {
          "output_type": "stream",
          "name": "stderr",
          "text": [
            "/usr/local/lib/python3.12/dist-packages/urllib3/connectionpool.py:1097: InsecureRequestWarning: Unverified HTTPS request is being made to host 'www.erowid.org'. Adding certificate verification is strongly advised. See: https://urllib3.readthedocs.io/en/latest/advanced-usage.html#tls-warnings\n",
            "  warnings.warn(\n"
          ]
        },
        {
          "output_type": "stream",
          "name": "stdout",
          "text": [
            "Fetched content for: https://www.erowid.org/experiences/exp.php?ID=100109\n"
          ]
        },
        {
          "output_type": "stream",
          "name": "stderr",
          "text": [
            "/usr/local/lib/python3.12/dist-packages/urllib3/connectionpool.py:1097: InsecureRequestWarning: Unverified HTTPS request is being made to host 'www.erowid.org'. Adding certificate verification is strongly advised. See: https://urllib3.readthedocs.io/en/latest/advanced-usage.html#tls-warnings\n",
            "  warnings.warn(\n"
          ]
        },
        {
          "output_type": "stream",
          "name": "stdout",
          "text": [
            "Fetched content for: https://www.erowid.org/experiences/exp.php?ID=97591\n"
          ]
        },
        {
          "output_type": "stream",
          "name": "stderr",
          "text": [
            "/usr/local/lib/python3.12/dist-packages/urllib3/connectionpool.py:1097: InsecureRequestWarning: Unverified HTTPS request is being made to host 'www.erowid.org'. Adding certificate verification is strongly advised. See: https://urllib3.readthedocs.io/en/latest/advanced-usage.html#tls-warnings\n",
            "  warnings.warn(\n"
          ]
        },
        {
          "output_type": "stream",
          "name": "stdout",
          "text": [
            "Fetched content for: https://www.erowid.org/experiences/exp.php?ID=90557\n"
          ]
        },
        {
          "output_type": "stream",
          "name": "stderr",
          "text": [
            "/usr/local/lib/python3.12/dist-packages/urllib3/connectionpool.py:1097: InsecureRequestWarning: Unverified HTTPS request is being made to host 'www.erowid.org'. Adding certificate verification is strongly advised. See: https://urllib3.readthedocs.io/en/latest/advanced-usage.html#tls-warnings\n",
            "  warnings.warn(\n"
          ]
        },
        {
          "output_type": "stream",
          "name": "stdout",
          "text": [
            "Fetched content for: https://www.erowid.org/experiences/exp.php?ID=101998\n"
          ]
        },
        {
          "output_type": "stream",
          "name": "stderr",
          "text": [
            "/usr/local/lib/python3.12/dist-packages/urllib3/connectionpool.py:1097: InsecureRequestWarning: Unverified HTTPS request is being made to host 'www.erowid.org'. Adding certificate verification is strongly advised. See: https://urllib3.readthedocs.io/en/latest/advanced-usage.html#tls-warnings\n",
            "  warnings.warn(\n"
          ]
        },
        {
          "output_type": "stream",
          "name": "stdout",
          "text": [
            "Fetched content for: https://www.erowid.org/experiences/exp.php?ID=87447\n"
          ]
        },
        {
          "output_type": "stream",
          "name": "stderr",
          "text": [
            "/usr/local/lib/python3.12/dist-packages/urllib3/connectionpool.py:1097: InsecureRequestWarning: Unverified HTTPS request is being made to host 'www.erowid.org'. Adding certificate verification is strongly advised. See: https://urllib3.readthedocs.io/en/latest/advanced-usage.html#tls-warnings\n",
            "  warnings.warn(\n"
          ]
        },
        {
          "output_type": "stream",
          "name": "stdout",
          "text": [
            "Fetched content for: https://www.erowid.org/experiences/exp.php?ID=80512\n"
          ]
        },
        {
          "output_type": "stream",
          "name": "stderr",
          "text": [
            "/usr/local/lib/python3.12/dist-packages/urllib3/connectionpool.py:1097: InsecureRequestWarning: Unverified HTTPS request is being made to host 'www.erowid.org'. Adding certificate verification is strongly advised. See: https://urllib3.readthedocs.io/en/latest/advanced-usage.html#tls-warnings\n",
            "  warnings.warn(\n"
          ]
        },
        {
          "output_type": "stream",
          "name": "stdout",
          "text": [
            "Fetched content for: https://www.erowid.org/experiences/exp.php?ID=90269\n"
          ]
        },
        {
          "output_type": "stream",
          "name": "stderr",
          "text": [
            "/usr/local/lib/python3.12/dist-packages/urllib3/connectionpool.py:1097: InsecureRequestWarning: Unverified HTTPS request is being made to host 'www.erowid.org'. Adding certificate verification is strongly advised. See: https://urllib3.readthedocs.io/en/latest/advanced-usage.html#tls-warnings\n",
            "  warnings.warn(\n"
          ]
        },
        {
          "output_type": "stream",
          "name": "stdout",
          "text": [
            "Fetched content for: https://www.erowid.org/experiences/exp.php?ID=83098\n",
            "Fetched content for: https://www.erowid.org/experiences/exp.php?ID=92381\n",
            "Finished fetching content for 100 reports.\n"
          ]
        },
        {
          "output_type": "stream",
          "name": "stderr",
          "text": [
            "/usr/local/lib/python3.12/dist-packages/urllib3/connectionpool.py:1097: InsecureRequestWarning: Unverified HTTPS request is being made to host 'www.erowid.org'. Adding certificate verification is strongly advised. See: https://urllib3.readthedocs.io/en/latest/advanced-usage.html#tls-warnings\n",
            "  warnings.warn(\n"
          ]
        }
      ]
    },
    {
      "cell_type": "code",
      "metadata": {
        "colab": {
          "base_uri": "https://localhost:8080/"
        },
        "id": "49670e67",
        "outputId": "d9a9cd10-5433-49e5-a388-641d66d4bd2b"
      },
      "source": [
        "from bs4 import BeautifulSoup, Comment # Import Comment to find HTML comments\n",
        "\n",
        "cleaned_reports = []\n",
        "\n",
        "for report_data in report_html_contents:\n",
        "    link = report_data['link']\n",
        "    html_content = report_data['html_content']\n",
        "\n",
        "    try:\n",
        "        soup = BeautifulSoup(html_content, 'html.parser')\n",
        "\n",
        "        # Find the div containing the report text\n",
        "        report_div = soup.find('div', class_='report-text-surround')\n",
        "        report_text = None\n",
        "\n",
        "        if report_div:\n",
        "            # The main report text is often between <!-- Start Body --> and <!-- End Body --> comments\n",
        "            # within the 'report-text-surround' div. We need to iterate through the contents\n",
        "            # to find the text nodes and handle <br> tags.\n",
        "            content_started = False\n",
        "            extracted_lines = []\n",
        "            for content in report_div.contents:\n",
        "                if isinstance(content, Comment) and \"Start Body\" in content:\n",
        "                    content_started = True\n",
        "                    continue\n",
        "                if isinstance(content, Comment) and \"End Body\" in content:\n",
        "                    content_started = False\n",
        "                    break\n",
        "                if content_started:\n",
        "                    if content.name == 'br':\n",
        "                        extracted_lines.append('\\n') # Replace <br> with newline\n",
        "                    elif isinstance(content, str):\n",
        "                        extracted_lines.append(content)\n",
        "                    # You might need to handle other tags within the text if they exist,\n",
        "                    # but for simple text and line breaks, this should work.\n",
        "                    # If there are nested tags with text, you might need a recursive approach\n",
        "                    # or use get_text() on specific elements if they consistently contain text.\n",
        "                    elif hasattr(content, 'get_text'):\n",
        "                         extracted_lines.append(content.get_text())\n",
        "\n",
        "\n",
        "            report_text = \"\".join(extracted_lines).strip()\n",
        "\n",
        "        if report_text:\n",
        "            cleaned_reports.append({\n",
        "                'link': link,\n",
        "                'report_text': report_text\n",
        "            })\n",
        "            print(f\"Successfully extracted report text for {link}\")\n",
        "        else:\n",
        "            print(f\"Warning: Could not extract report text for {link}\")\n",
        "\n",
        "    except Exception as e:\n",
        "        print(f\"Error processing HTML for {link}: {e}\")\n",
        "\n",
        "print(f\"Finished extracting report text for {len(cleaned_reports)} reports.\")"
      ],
      "execution_count": 45,
      "outputs": [
        {
          "output_type": "stream",
          "name": "stdout",
          "text": [
            "Successfully extracted report text for https://www.erowid.org/experiences/exp.php?ID=118252\n",
            "Successfully extracted report text for https://www.erowid.org/experiences/exp.php?ID=112397\n",
            "Successfully extracted report text for https://www.erowid.org/experiences/exp.php?ID=96444\n",
            "Successfully extracted report text for https://www.erowid.org/experiences/exp.php?ID=64048\n",
            "Successfully extracted report text for https://www.erowid.org/experiences/exp.php?ID=62835\n",
            "Successfully extracted report text for https://www.erowid.org/experiences/exp.php?ID=34866\n",
            "Successfully extracted report text for https://www.erowid.org/experiences/exp.php?ID=113441\n",
            "Successfully extracted report text for https://www.erowid.org/experiences/exp.php?ID=113133\n",
            "Successfully extracted report text for https://www.erowid.org/experiences/exp.php?ID=99695\n",
            "Successfully extracted report text for https://www.erowid.org/experiences/exp.php?ID=94632\n",
            "Successfully extracted report text for https://www.erowid.org/experiences/exp.php?ID=103790\n",
            "Successfully extracted report text for https://www.erowid.org/experiences/exp.php?ID=96614\n",
            "Successfully extracted report text for https://www.erowid.org/experiences/exp.php?ID=106677\n",
            "Successfully extracted report text for https://www.erowid.org/experiences/exp.php?ID=89887\n",
            "Successfully extracted report text for https://www.erowid.org/experiences/exp.php?ID=98866\n",
            "Successfully extracted report text for https://www.erowid.org/experiences/exp.php?ID=101485\n",
            "Successfully extracted report text for https://www.erowid.org/experiences/exp.php?ID=101541\n",
            "Successfully extracted report text for https://www.erowid.org/experiences/exp.php?ID=93315\n",
            "Successfully extracted report text for https://www.erowid.org/experiences/exp.php?ID=96521\n",
            "Successfully extracted report text for https://www.erowid.org/experiences/exp.php?ID=94429\n",
            "Successfully extracted report text for https://www.erowid.org/experiences/exp.php?ID=93145\n",
            "Successfully extracted report text for https://www.erowid.org/experiences/exp.php?ID=80226\n",
            "Successfully extracted report text for https://www.erowid.org/experiences/exp.php?ID=82934\n",
            "Successfully extracted report text for https://www.erowid.org/experiences/exp.php?ID=86665\n",
            "Successfully extracted report text for https://www.erowid.org/experiences/exp.php?ID=83719\n",
            "Successfully extracted report text for https://www.erowid.org/experiences/exp.php?ID=82837\n",
            "Successfully extracted report text for https://www.erowid.org/experiences/exp.php?ID=80880\n",
            "Successfully extracted report text for https://www.erowid.org/experiences/exp.php?ID=76614\n",
            "Successfully extracted report text for https://www.erowid.org/experiences/exp.php?ID=75003\n",
            "Successfully extracted report text for https://www.erowid.org/experiences/exp.php?ID=70283\n",
            "Successfully extracted report text for https://www.erowid.org/experiences/exp.php?ID=66730\n",
            "Successfully extracted report text for https://www.erowid.org/experiences/exp.php?ID=65793\n",
            "Successfully extracted report text for https://www.erowid.org/experiences/exp.php?ID=65384\n",
            "Successfully extracted report text for https://www.erowid.org/experiences/exp.php?ID=58800\n",
            "Successfully extracted report text for https://www.erowid.org/experiences/exp.php?ID=58907\n",
            "Successfully extracted report text for https://www.erowid.org/experiences/exp.php?ID=52797\n",
            "Successfully extracted report text for https://www.erowid.org/experiences/exp.php?ID=46854\n",
            "Successfully extracted report text for https://www.erowid.org/experiences/exp.php?ID=46856\n",
            "Successfully extracted report text for https://www.erowid.org/experiences/exp.php?ID=41106\n",
            "Successfully extracted report text for https://www.erowid.org/experiences/exp.php?ID=30919\n",
            "Successfully extracted report text for https://www.erowid.org/experiences/exp.php?ID=22238\n",
            "Successfully extracted report text for https://www.erowid.org/experiences/exp.php?ID=31979\n",
            "Successfully extracted report text for https://www.erowid.org/experiences/exp.php?ID=25157\n",
            "Successfully extracted report text for https://www.erowid.org/experiences/exp.php?ID=23350\n",
            "Successfully extracted report text for https://www.erowid.org/experiences/exp.php?ID=16314\n",
            "Successfully extracted report text for https://www.erowid.org/experiences/exp.php?ID=8842\n",
            "Successfully extracted report text for https://www.erowid.org/experiences/exp.php?ID=2205\n",
            "Successfully extracted report text for https://www.erowid.org/experiences/exp.php?ID=1851\n",
            "Successfully extracted report text for https://www.erowid.org/experiences/exp.php?ID=1841\n",
            "Successfully extracted report text for https://www.erowid.org/experiences/exp.php?ID=1839\n",
            "Successfully extracted report text for https://www.erowid.org/experiences/exp.php?ID=118625\n",
            "Successfully extracted report text for https://www.erowid.org/experiences/exp.php?ID=117294\n",
            "Successfully extracted report text for https://www.erowid.org/experiences/exp.php?ID=117473\n",
            "Successfully extracted report text for https://www.erowid.org/experiences/exp.php?ID=102105\n",
            "Successfully extracted report text for https://www.erowid.org/experiences/exp.php?ID=115502\n",
            "Successfully extracted report text for https://www.erowid.org/experiences/exp.php?ID=114947\n",
            "Successfully extracted report text for https://www.erowid.org/experiences/exp.php?ID=100673\n",
            "Successfully extracted report text for https://www.erowid.org/experiences/exp.php?ID=99247\n",
            "Successfully extracted report text for https://www.erowid.org/experiences/exp.php?ID=106448\n",
            "Successfully extracted report text for https://www.erowid.org/experiences/exp.php?ID=106105\n",
            "Successfully extracted report text for https://www.erowid.org/experiences/exp.php?ID=108109\n",
            "Successfully extracted report text for https://www.erowid.org/experiences/exp.php?ID=113511\n",
            "Successfully extracted report text for https://www.erowid.org/experiences/exp.php?ID=106818\n",
            "Successfully extracted report text for https://www.erowid.org/experiences/exp.php?ID=101367\n",
            "Successfully extracted report text for https://www.erowid.org/experiences/exp.php?ID=102952\n",
            "Successfully extracted report text for https://www.erowid.org/experiences/exp.php?ID=112845\n",
            "Successfully extracted report text for https://www.erowid.org/experiences/exp.php?ID=112640\n",
            "Successfully extracted report text for https://www.erowid.org/experiences/exp.php?ID=112771\n",
            "Successfully extracted report text for https://www.erowid.org/experiences/exp.php?ID=111847\n",
            "Successfully extracted report text for https://www.erowid.org/experiences/exp.php?ID=87759\n",
            "Successfully extracted report text for https://www.erowid.org/experiences/exp.php?ID=96140\n",
            "Successfully extracted report text for https://www.erowid.org/experiences/exp.php?ID=85721\n",
            "Successfully extracted report text for https://www.erowid.org/experiences/exp.php?ID=100953\n",
            "Successfully extracted report text for https://www.erowid.org/experiences/exp.php?ID=99900\n",
            "Successfully extracted report text for https://www.erowid.org/experiences/exp.php?ID=103249\n",
            "Successfully extracted report text for https://www.erowid.org/experiences/exp.php?ID=109084\n",
            "Successfully extracted report text for https://www.erowid.org/experiences/exp.php?ID=95151\n",
            "Successfully extracted report text for https://www.erowid.org/experiences/exp.php?ID=100929\n",
            "Successfully extracted report text for https://www.erowid.org/experiences/exp.php?ID=97363\n",
            "Successfully extracted report text for https://www.erowid.org/experiences/exp.php?ID=110185\n",
            "Successfully extracted report text for https://www.erowid.org/experiences/exp.php?ID=108821\n",
            "Successfully extracted report text for https://www.erowid.org/experiences/exp.php?ID=91964\n",
            "Successfully extracted report text for https://www.erowid.org/experiences/exp.php?ID=110432\n",
            "Successfully extracted report text for https://www.erowid.org/experiences/exp.php?ID=81462\n",
            "Successfully extracted report text for https://www.erowid.org/experiences/exp.php?ID=101884\n",
            "Successfully extracted report text for https://www.erowid.org/experiences/exp.php?ID=108077\n",
            "Successfully extracted report text for https://www.erowid.org/experiences/exp.php?ID=94599\n",
            "Successfully extracted report text for https://www.erowid.org/experiences/exp.php?ID=90113\n",
            "Successfully extracted report text for https://www.erowid.org/experiences/exp.php?ID=90263\n",
            "Successfully extracted report text for https://www.erowid.org/experiences/exp.php?ID=88428\n",
            "Successfully extracted report text for https://www.erowid.org/experiences/exp.php?ID=107582\n",
            "Successfully extracted report text for https://www.erowid.org/experiences/exp.php?ID=100109\n",
            "Successfully extracted report text for https://www.erowid.org/experiences/exp.php?ID=97591\n",
            "Successfully extracted report text for https://www.erowid.org/experiences/exp.php?ID=90557\n",
            "Successfully extracted report text for https://www.erowid.org/experiences/exp.php?ID=101998\n",
            "Successfully extracted report text for https://www.erowid.org/experiences/exp.php?ID=87447\n",
            "Successfully extracted report text for https://www.erowid.org/experiences/exp.php?ID=80512\n",
            "Successfully extracted report text for https://www.erowid.org/experiences/exp.php?ID=90269\n",
            "Successfully extracted report text for https://www.erowid.org/experiences/exp.php?ID=83098\n",
            "Successfully extracted report text for https://www.erowid.org/experiences/exp.php?ID=92381\n",
            "Finished extracting report text for 100 reports.\n"
          ]
        }
      ]
    },
    {
      "cell_type": "code",
      "metadata": {
        "colab": {
          "base_uri": "https://localhost:8080/",
          "height": 428
        },
        "id": "4fc4bd02",
        "outputId": "e5a74b07-81f1-4756-870a-509133929129"
      },
      "source": [
        "import time # Import the time module for delays\n",
        "\n",
        "structured_reports_list = []\n",
        "processed_count = 0 # Counter for processed reports\n",
        "\n",
        "for report_data in cleaned_reports:\n",
        "    link = report_data['link']\n",
        "    report_text = report_data['report_text']\n",
        "\n",
        "    print(f\"Processing report from link: {link}\")\n",
        "\n",
        "    try:\n",
        "        # Extract and combine data using Gemini\n",
        "        # Assuming gemini_model is already initialized and schema_fields is defined\n",
        "        extracted_data_gemini = extract_report_data(report_text, gemini_model, schema_fields)\n",
        "        final_report_data_gemini_combined = combine_extracted_data(extracted_data_gemini, schema_fields)\n",
        "\n",
        "        # Add the original link to the combined data\n",
        "        final_report_data_gemini_combined['original_link'] = link\n",
        "\n",
        "        # Append the combined data to the structured_reports_list\n",
        "        structured_reports_list.append(final_report_data_gemini_combined)\n",
        "        processed_count += 1\n",
        "        print(f\"Successfully processed report from link: {link}\")\n",
        "\n",
        "        # Print the first result and stop for verification\n",
        "        if processed_count == 1:\n",
        "            print(\"\\nFirst processed report:\")\n",
        "            import json\n",
        "            print(json.dumps(final_report_data_gemini_combined, indent=2))\n",
        "            print(\"\\nStopping after the first report for verification.\")\n",
        "            break # Stop the loop after processing the first report\n",
        "\n",
        "    except Exception as e:\n",
        "        print(f\"Error processing report from link {link}: {e}\")\n",
        "\n",
        "    # Add a delay to manage request rate (e.g., 4 seconds for roughly 15 requests per minute)\n",
        "    time.sleep(4)\n",
        "\n",
        "\n",
        "print(f\"\\nFinished processing. Total structured reports processed in this run: {processed_count}\")\n",
        "# The structured_reports_list now contains the structured data for the processed reports"
      ],
      "execution_count": 47,
      "outputs": [
        {
          "output_type": "stream",
          "name": "stdout",
          "text": [
            "Processing report from link: https://www.erowid.org/experiences/exp.php?ID=118252\n",
            "Error generating content for chunk: HTTPConnectionPool(host='localhost', port=40339): Read timed out. (read timeout=600.0)\n"
          ]
        },
        {
          "output_type": "error",
          "ename": "KeyboardInterrupt",
          "evalue": "",
          "traceback": [
            "\u001b[0;31m---------------------------------------------------------------------------\u001b[0m",
            "\u001b[0;31mKeyboardInterrupt\u001b[0m                         Traceback (most recent call last)",
            "\u001b[0;32m/tmp/ipython-input-409193203.py\u001b[0m in \u001b[0;36m<cell line: 0>\u001b[0;34m()\u001b[0m\n\u001b[1;32m     13\u001b[0m         \u001b[0;31m# Extract and combine data using Gemini\u001b[0m\u001b[0;34m\u001b[0m\u001b[0;34m\u001b[0m\u001b[0m\n\u001b[1;32m     14\u001b[0m         \u001b[0;31m# Assuming gemini_model is already initialized and schema_fields is defined\u001b[0m\u001b[0;34m\u001b[0m\u001b[0;34m\u001b[0m\u001b[0m\n\u001b[0;32m---> 15\u001b[0;31m         \u001b[0mextracted_data_gemini\u001b[0m \u001b[0;34m=\u001b[0m \u001b[0mextract_report_data\u001b[0m\u001b[0;34m(\u001b[0m\u001b[0mreport_text\u001b[0m\u001b[0;34m,\u001b[0m \u001b[0mgemini_model\u001b[0m\u001b[0;34m,\u001b[0m \u001b[0mschema_fields\u001b[0m\u001b[0;34m)\u001b[0m\u001b[0;34m\u001b[0m\u001b[0;34m\u001b[0m\u001b[0m\n\u001b[0m\u001b[1;32m     16\u001b[0m         \u001b[0mfinal_report_data_gemini_combined\u001b[0m \u001b[0;34m=\u001b[0m \u001b[0mcombine_extracted_data\u001b[0m\u001b[0;34m(\u001b[0m\u001b[0mextracted_data_gemini\u001b[0m\u001b[0;34m,\u001b[0m \u001b[0mschema_fields\u001b[0m\u001b[0;34m)\u001b[0m\u001b[0;34m\u001b[0m\u001b[0;34m\u001b[0m\u001b[0m\n\u001b[1;32m     17\u001b[0m \u001b[0;34m\u001b[0m\u001b[0m\n",
            "\u001b[0;32m/tmp/ipython-input-2579032425.py\u001b[0m in \u001b[0;36mextract_report_data\u001b[0;34m(report_text, model, schema_fields, chunk_size, overlap)\u001b[0m\n\u001b[1;32m     65\u001b[0m         \u001b[0mprompt\u001b[0m \u001b[0;34m=\u001b[0m \u001b[0mmake_prompt\u001b[0m\u001b[0;34m(\u001b[0m\u001b[0mchunk\u001b[0m\u001b[0;34m,\u001b[0m \u001b[0mschema_fields\u001b[0m\u001b[0;34m)\u001b[0m\u001b[0;34m\u001b[0m\u001b[0;34m\u001b[0m\u001b[0m\n\u001b[1;32m     66\u001b[0m         \u001b[0;32mtry\u001b[0m\u001b[0;34m:\u001b[0m\u001b[0;34m\u001b[0m\u001b[0;34m\u001b[0m\u001b[0m\n\u001b[0;32m---> 67\u001b[0;31m             \u001b[0mresponse\u001b[0m \u001b[0;34m=\u001b[0m \u001b[0mmodel\u001b[0m\u001b[0;34m.\u001b[0m\u001b[0mgenerate_content\u001b[0m\u001b[0;34m(\u001b[0m\u001b[0mprompt\u001b[0m\u001b[0;34m)\u001b[0m\u001b[0;34m\u001b[0m\u001b[0;34m\u001b[0m\u001b[0m\n\u001b[0m\u001b[1;32m     68\u001b[0m             \u001b[0mextracted_chunks\u001b[0m\u001b[0;34m.\u001b[0m\u001b[0mappend\u001b[0m\u001b[0;34m(\u001b[0m\u001b[0mresponse\u001b[0m\u001b[0;34m.\u001b[0m\u001b[0mtext\u001b[0m\u001b[0;34m)\u001b[0m\u001b[0;34m\u001b[0m\u001b[0;34m\u001b[0m\u001b[0m\n\u001b[1;32m     69\u001b[0m         \u001b[0;32mexcept\u001b[0m \u001b[0mException\u001b[0m \u001b[0;32mas\u001b[0m \u001b[0me\u001b[0m\u001b[0;34m:\u001b[0m\u001b[0;34m\u001b[0m\u001b[0;34m\u001b[0m\u001b[0m\n",
            "\u001b[0;32m/usr/local/lib/python3.12/dist-packages/google/generativeai/generative_models.py\u001b[0m in \u001b[0;36mgenerate_content\u001b[0;34m(self, contents, generation_config, safety_settings, stream, tools, tool_config, request_options)\u001b[0m\n\u001b[1;32m    329\u001b[0m                 \u001b[0;32mreturn\u001b[0m \u001b[0mgeneration_types\u001b[0m\u001b[0;34m.\u001b[0m\u001b[0mGenerateContentResponse\u001b[0m\u001b[0;34m.\u001b[0m\u001b[0mfrom_iterator\u001b[0m\u001b[0;34m(\u001b[0m\u001b[0miterator\u001b[0m\u001b[0;34m)\u001b[0m\u001b[0;34m\u001b[0m\u001b[0;34m\u001b[0m\u001b[0m\n\u001b[1;32m    330\u001b[0m             \u001b[0;32melse\u001b[0m\u001b[0;34m:\u001b[0m\u001b[0;34m\u001b[0m\u001b[0;34m\u001b[0m\u001b[0m\n\u001b[0;32m--> 331\u001b[0;31m                 response = self._client.generate_content(\n\u001b[0m\u001b[1;32m    332\u001b[0m                     \u001b[0mrequest\u001b[0m\u001b[0;34m,\u001b[0m\u001b[0;34m\u001b[0m\u001b[0;34m\u001b[0m\u001b[0m\n\u001b[1;32m    333\u001b[0m                     \u001b[0;34m**\u001b[0m\u001b[0mrequest_options\u001b[0m\u001b[0;34m,\u001b[0m\u001b[0;34m\u001b[0m\u001b[0;34m\u001b[0m\u001b[0m\n",
            "\u001b[0;32m/usr/local/lib/python3.12/dist-packages/google/ai/generativelanguage_v1beta/services/generative_service/client.py\u001b[0m in \u001b[0;36mgenerate_content\u001b[0;34m(self, request, model, contents, retry, timeout, metadata)\u001b[0m\n\u001b[1;32m    833\u001b[0m \u001b[0;34m\u001b[0m\u001b[0m\n\u001b[1;32m    834\u001b[0m         \u001b[0;31m# Send the request.\u001b[0m\u001b[0;34m\u001b[0m\u001b[0;34m\u001b[0m\u001b[0m\n\u001b[0;32m--> 835\u001b[0;31m         response = rpc(\n\u001b[0m\u001b[1;32m    836\u001b[0m             \u001b[0mrequest\u001b[0m\u001b[0;34m,\u001b[0m\u001b[0;34m\u001b[0m\u001b[0;34m\u001b[0m\u001b[0m\n\u001b[1;32m    837\u001b[0m             \u001b[0mretry\u001b[0m\u001b[0;34m=\u001b[0m\u001b[0mretry\u001b[0m\u001b[0;34m,\u001b[0m\u001b[0;34m\u001b[0m\u001b[0;34m\u001b[0m\u001b[0m\n",
            "\u001b[0;32m/usr/local/lib/python3.12/dist-packages/google/api_core/gapic_v1/method.py\u001b[0m in \u001b[0;36m__call__\u001b[0;34m(self, timeout, retry, compression, *args, **kwargs)\u001b[0m\n\u001b[1;32m    129\u001b[0m             \u001b[0mkwargs\u001b[0m\u001b[0;34m[\u001b[0m\u001b[0;34m\"compression\"\u001b[0m\u001b[0;34m]\u001b[0m \u001b[0;34m=\u001b[0m \u001b[0mcompression\u001b[0m\u001b[0;34m\u001b[0m\u001b[0;34m\u001b[0m\u001b[0m\n\u001b[1;32m    130\u001b[0m \u001b[0;34m\u001b[0m\u001b[0m\n\u001b[0;32m--> 131\u001b[0;31m         \u001b[0;32mreturn\u001b[0m \u001b[0mwrapped_func\u001b[0m\u001b[0;34m(\u001b[0m\u001b[0;34m*\u001b[0m\u001b[0margs\u001b[0m\u001b[0;34m,\u001b[0m \u001b[0;34m**\u001b[0m\u001b[0mkwargs\u001b[0m\u001b[0;34m)\u001b[0m\u001b[0;34m\u001b[0m\u001b[0;34m\u001b[0m\u001b[0m\n\u001b[0m\u001b[1;32m    132\u001b[0m \u001b[0;34m\u001b[0m\u001b[0m\n\u001b[1;32m    133\u001b[0m \u001b[0;34m\u001b[0m\u001b[0m\n",
            "\u001b[0;32m/usr/local/lib/python3.12/dist-packages/google/api_core/retry/retry_unary.py\u001b[0m in \u001b[0;36mretry_wrapped_func\u001b[0;34m(*args, **kwargs)\u001b[0m\n\u001b[1;32m    292\u001b[0m                 \u001b[0mself\u001b[0m\u001b[0;34m.\u001b[0m\u001b[0m_initial\u001b[0m\u001b[0;34m,\u001b[0m \u001b[0mself\u001b[0m\u001b[0;34m.\u001b[0m\u001b[0m_maximum\u001b[0m\u001b[0;34m,\u001b[0m \u001b[0mmultiplier\u001b[0m\u001b[0;34m=\u001b[0m\u001b[0mself\u001b[0m\u001b[0;34m.\u001b[0m\u001b[0m_multiplier\u001b[0m\u001b[0;34m\u001b[0m\u001b[0;34m\u001b[0m\u001b[0m\n\u001b[1;32m    293\u001b[0m             )\n\u001b[0;32m--> 294\u001b[0;31m             return retry_target(\n\u001b[0m\u001b[1;32m    295\u001b[0m                 \u001b[0mtarget\u001b[0m\u001b[0;34m,\u001b[0m\u001b[0;34m\u001b[0m\u001b[0;34m\u001b[0m\u001b[0m\n\u001b[1;32m    296\u001b[0m                 \u001b[0mself\u001b[0m\u001b[0;34m.\u001b[0m\u001b[0m_predicate\u001b[0m\u001b[0;34m,\u001b[0m\u001b[0;34m\u001b[0m\u001b[0;34m\u001b[0m\u001b[0m\n",
            "\u001b[0;32m/usr/local/lib/python3.12/dist-packages/google/api_core/retry/retry_unary.py\u001b[0m in \u001b[0;36mretry_target\u001b[0;34m(target, predicate, sleep_generator, timeout, on_error, exception_factory, **kwargs)\u001b[0m\n\u001b[1;32m    145\u001b[0m     \u001b[0;32mwhile\u001b[0m \u001b[0;32mTrue\u001b[0m\u001b[0;34m:\u001b[0m\u001b[0;34m\u001b[0m\u001b[0;34m\u001b[0m\u001b[0m\n\u001b[1;32m    146\u001b[0m         \u001b[0;32mtry\u001b[0m\u001b[0;34m:\u001b[0m\u001b[0;34m\u001b[0m\u001b[0;34m\u001b[0m\u001b[0m\n\u001b[0;32m--> 147\u001b[0;31m             \u001b[0mresult\u001b[0m \u001b[0;34m=\u001b[0m \u001b[0mtarget\u001b[0m\u001b[0;34m(\u001b[0m\u001b[0;34m)\u001b[0m\u001b[0;34m\u001b[0m\u001b[0;34m\u001b[0m\u001b[0m\n\u001b[0m\u001b[1;32m    148\u001b[0m             \u001b[0;32mif\u001b[0m \u001b[0minspect\u001b[0m\u001b[0;34m.\u001b[0m\u001b[0misawaitable\u001b[0m\u001b[0;34m(\u001b[0m\u001b[0mresult\u001b[0m\u001b[0;34m)\u001b[0m\u001b[0;34m:\u001b[0m\u001b[0;34m\u001b[0m\u001b[0;34m\u001b[0m\u001b[0m\n\u001b[1;32m    149\u001b[0m                 \u001b[0mwarnings\u001b[0m\u001b[0;34m.\u001b[0m\u001b[0mwarn\u001b[0m\u001b[0;34m(\u001b[0m\u001b[0m_ASYNC_RETRY_WARNING\u001b[0m\u001b[0;34m)\u001b[0m\u001b[0;34m\u001b[0m\u001b[0;34m\u001b[0m\u001b[0m\n",
            "\u001b[0;32m/usr/local/lib/python3.12/dist-packages/google/api_core/timeout.py\u001b[0m in \u001b[0;36mfunc_with_timeout\u001b[0;34m(*args, **kwargs)\u001b[0m\n\u001b[1;32m    128\u001b[0m                 \u001b[0mkwargs\u001b[0m\u001b[0;34m[\u001b[0m\u001b[0;34m\"timeout\"\u001b[0m\u001b[0;34m]\u001b[0m \u001b[0;34m=\u001b[0m \u001b[0mremaining_timeout\u001b[0m\u001b[0;34m\u001b[0m\u001b[0;34m\u001b[0m\u001b[0m\n\u001b[1;32m    129\u001b[0m \u001b[0;34m\u001b[0m\u001b[0m\n\u001b[0;32m--> 130\u001b[0;31m             \u001b[0;32mreturn\u001b[0m \u001b[0mfunc\u001b[0m\u001b[0;34m(\u001b[0m\u001b[0;34m*\u001b[0m\u001b[0margs\u001b[0m\u001b[0;34m,\u001b[0m \u001b[0;34m**\u001b[0m\u001b[0mkwargs\u001b[0m\u001b[0;34m)\u001b[0m\u001b[0;34m\u001b[0m\u001b[0;34m\u001b[0m\u001b[0m\n\u001b[0m\u001b[1;32m    131\u001b[0m \u001b[0;34m\u001b[0m\u001b[0m\n\u001b[1;32m    132\u001b[0m         \u001b[0;32mreturn\u001b[0m \u001b[0mfunc_with_timeout\u001b[0m\u001b[0;34m\u001b[0m\u001b[0;34m\u001b[0m\u001b[0m\n",
            "\u001b[0;32m/usr/local/lib/python3.12/dist-packages/google/api_core/grpc_helpers.py\u001b[0m in \u001b[0;36merror_remapped_callable\u001b[0;34m(*args, **kwargs)\u001b[0m\n\u001b[1;32m     74\u001b[0m     \u001b[0;32mdef\u001b[0m \u001b[0merror_remapped_callable\u001b[0m\u001b[0;34m(\u001b[0m\u001b[0;34m*\u001b[0m\u001b[0margs\u001b[0m\u001b[0;34m,\u001b[0m \u001b[0;34m**\u001b[0m\u001b[0mkwargs\u001b[0m\u001b[0;34m)\u001b[0m\u001b[0;34m:\u001b[0m\u001b[0;34m\u001b[0m\u001b[0;34m\u001b[0m\u001b[0m\n\u001b[1;32m     75\u001b[0m         \u001b[0;32mtry\u001b[0m\u001b[0;34m:\u001b[0m\u001b[0;34m\u001b[0m\u001b[0;34m\u001b[0m\u001b[0m\n\u001b[0;32m---> 76\u001b[0;31m             \u001b[0;32mreturn\u001b[0m \u001b[0mcallable_\u001b[0m\u001b[0;34m(\u001b[0m\u001b[0;34m*\u001b[0m\u001b[0margs\u001b[0m\u001b[0;34m,\u001b[0m \u001b[0;34m**\u001b[0m\u001b[0mkwargs\u001b[0m\u001b[0;34m)\u001b[0m\u001b[0;34m\u001b[0m\u001b[0;34m\u001b[0m\u001b[0m\n\u001b[0m\u001b[1;32m     77\u001b[0m         \u001b[0;32mexcept\u001b[0m \u001b[0mgrpc\u001b[0m\u001b[0;34m.\u001b[0m\u001b[0mRpcError\u001b[0m \u001b[0;32mas\u001b[0m \u001b[0mexc\u001b[0m\u001b[0;34m:\u001b[0m\u001b[0;34m\u001b[0m\u001b[0;34m\u001b[0m\u001b[0m\n\u001b[1;32m     78\u001b[0m             \u001b[0;32mraise\u001b[0m \u001b[0mexceptions\u001b[0m\u001b[0;34m.\u001b[0m\u001b[0mfrom_grpc_error\u001b[0m\u001b[0;34m(\u001b[0m\u001b[0mexc\u001b[0m\u001b[0;34m)\u001b[0m \u001b[0;32mfrom\u001b[0m \u001b[0mexc\u001b[0m\u001b[0;34m\u001b[0m\u001b[0;34m\u001b[0m\u001b[0m\n",
            "\u001b[0;32m/usr/local/lib/python3.12/dist-packages/google/ai/generativelanguage_v1beta/services/generative_service/transports/rest.py\u001b[0m in \u001b[0;36m__call__\u001b[0;34m(self, request, retry, timeout, metadata)\u001b[0m\n\u001b[1;32m   1146\u001b[0m \u001b[0;34m\u001b[0m\u001b[0m\n\u001b[1;32m   1147\u001b[0m             \u001b[0;31m# Send the request\u001b[0m\u001b[0;34m\u001b[0m\u001b[0;34m\u001b[0m\u001b[0m\n\u001b[0;32m-> 1148\u001b[0;31m             response = GenerativeServiceRestTransport._GenerateContent._get_response(\n\u001b[0m\u001b[1;32m   1149\u001b[0m                 \u001b[0mself\u001b[0m\u001b[0;34m.\u001b[0m\u001b[0m_host\u001b[0m\u001b[0;34m,\u001b[0m\u001b[0;34m\u001b[0m\u001b[0;34m\u001b[0m\u001b[0m\n\u001b[1;32m   1150\u001b[0m                 \u001b[0mmetadata\u001b[0m\u001b[0;34m,\u001b[0m\u001b[0;34m\u001b[0m\u001b[0;34m\u001b[0m\u001b[0m\n",
            "\u001b[0;32m/usr/local/lib/python3.12/dist-packages/google/ai/generativelanguage_v1beta/services/generative_service/transports/rest.py\u001b[0m in \u001b[0;36m_get_response\u001b[0;34m(host, metadata, query_params, session, timeout, transcoded_request, body)\u001b[0m\n\u001b[1;32m   1046\u001b[0m             \u001b[0mheaders\u001b[0m \u001b[0;34m=\u001b[0m \u001b[0mdict\u001b[0m\u001b[0;34m(\u001b[0m\u001b[0mmetadata\u001b[0m\u001b[0;34m)\u001b[0m\u001b[0;34m\u001b[0m\u001b[0;34m\u001b[0m\u001b[0m\n\u001b[1;32m   1047\u001b[0m             \u001b[0mheaders\u001b[0m\u001b[0;34m[\u001b[0m\u001b[0;34m\"Content-Type\"\u001b[0m\u001b[0;34m]\u001b[0m \u001b[0;34m=\u001b[0m \u001b[0;34m\"application/json\"\u001b[0m\u001b[0;34m\u001b[0m\u001b[0;34m\u001b[0m\u001b[0m\n\u001b[0;32m-> 1048\u001b[0;31m             response = getattr(session, method)(\n\u001b[0m\u001b[1;32m   1049\u001b[0m                 \u001b[0;34m\"{host}{uri}\"\u001b[0m\u001b[0;34m.\u001b[0m\u001b[0mformat\u001b[0m\u001b[0;34m(\u001b[0m\u001b[0mhost\u001b[0m\u001b[0;34m=\u001b[0m\u001b[0mhost\u001b[0m\u001b[0;34m,\u001b[0m \u001b[0muri\u001b[0m\u001b[0;34m=\u001b[0m\u001b[0muri\u001b[0m\u001b[0;34m)\u001b[0m\u001b[0;34m,\u001b[0m\u001b[0;34m\u001b[0m\u001b[0;34m\u001b[0m\u001b[0m\n\u001b[1;32m   1050\u001b[0m                 \u001b[0mtimeout\u001b[0m\u001b[0;34m=\u001b[0m\u001b[0mtimeout\u001b[0m\u001b[0;34m,\u001b[0m\u001b[0;34m\u001b[0m\u001b[0;34m\u001b[0m\u001b[0m\n",
            "\u001b[0;32m/usr/local/lib/python3.12/dist-packages/requests/sessions.py\u001b[0m in \u001b[0;36mpost\u001b[0;34m(self, url, data, json, **kwargs)\u001b[0m\n\u001b[1;32m    635\u001b[0m         \"\"\"\n\u001b[1;32m    636\u001b[0m \u001b[0;34m\u001b[0m\u001b[0m\n\u001b[0;32m--> 637\u001b[0;31m         \u001b[0;32mreturn\u001b[0m \u001b[0mself\u001b[0m\u001b[0;34m.\u001b[0m\u001b[0mrequest\u001b[0m\u001b[0;34m(\u001b[0m\u001b[0;34m\"POST\"\u001b[0m\u001b[0;34m,\u001b[0m \u001b[0murl\u001b[0m\u001b[0;34m,\u001b[0m \u001b[0mdata\u001b[0m\u001b[0;34m=\u001b[0m\u001b[0mdata\u001b[0m\u001b[0;34m,\u001b[0m \u001b[0mjson\u001b[0m\u001b[0;34m=\u001b[0m\u001b[0mjson\u001b[0m\u001b[0;34m,\u001b[0m \u001b[0;34m**\u001b[0m\u001b[0mkwargs\u001b[0m\u001b[0;34m)\u001b[0m\u001b[0;34m\u001b[0m\u001b[0;34m\u001b[0m\u001b[0m\n\u001b[0m\u001b[1;32m    638\u001b[0m \u001b[0;34m\u001b[0m\u001b[0m\n\u001b[1;32m    639\u001b[0m     \u001b[0;32mdef\u001b[0m \u001b[0mput\u001b[0m\u001b[0;34m(\u001b[0m\u001b[0mself\u001b[0m\u001b[0;34m,\u001b[0m \u001b[0murl\u001b[0m\u001b[0;34m,\u001b[0m \u001b[0mdata\u001b[0m\u001b[0;34m=\u001b[0m\u001b[0;32mNone\u001b[0m\u001b[0;34m,\u001b[0m \u001b[0;34m**\u001b[0m\u001b[0mkwargs\u001b[0m\u001b[0;34m)\u001b[0m\u001b[0;34m:\u001b[0m\u001b[0;34m\u001b[0m\u001b[0;34m\u001b[0m\u001b[0m\n",
            "\u001b[0;32m/usr/local/lib/python3.12/dist-packages/google/auth/transport/requests.py\u001b[0m in \u001b[0;36mrequest\u001b[0;34m(self, method, url, data, headers, max_allowed_time, timeout, **kwargs)\u001b[0m\n\u001b[1;32m    535\u001b[0m \u001b[0;34m\u001b[0m\u001b[0m\n\u001b[1;32m    536\u001b[0m         \u001b[0;32mwith\u001b[0m \u001b[0mTimeoutGuard\u001b[0m\u001b[0;34m(\u001b[0m\u001b[0mremaining_time\u001b[0m\u001b[0;34m)\u001b[0m \u001b[0;32mas\u001b[0m \u001b[0mguard\u001b[0m\u001b[0;34m:\u001b[0m\u001b[0;34m\u001b[0m\u001b[0;34m\u001b[0m\u001b[0m\n\u001b[0;32m--> 537\u001b[0;31m             response = super(AuthorizedSession, self).request(\n\u001b[0m\u001b[1;32m    538\u001b[0m                 \u001b[0mmethod\u001b[0m\u001b[0;34m,\u001b[0m\u001b[0;34m\u001b[0m\u001b[0;34m\u001b[0m\u001b[0m\n\u001b[1;32m    539\u001b[0m                 \u001b[0murl\u001b[0m\u001b[0;34m,\u001b[0m\u001b[0;34m\u001b[0m\u001b[0;34m\u001b[0m\u001b[0m\n",
            "\u001b[0;32m/usr/local/lib/python3.12/dist-packages/requests/sessions.py\u001b[0m in \u001b[0;36mrequest\u001b[0;34m(self, method, url, params, data, headers, cookies, files, auth, timeout, allow_redirects, proxies, hooks, stream, verify, cert, json)\u001b[0m\n\u001b[1;32m    587\u001b[0m         }\n\u001b[1;32m    588\u001b[0m         \u001b[0msend_kwargs\u001b[0m\u001b[0;34m.\u001b[0m\u001b[0mupdate\u001b[0m\u001b[0;34m(\u001b[0m\u001b[0msettings\u001b[0m\u001b[0;34m)\u001b[0m\u001b[0;34m\u001b[0m\u001b[0;34m\u001b[0m\u001b[0m\n\u001b[0;32m--> 589\u001b[0;31m         \u001b[0mresp\u001b[0m \u001b[0;34m=\u001b[0m \u001b[0mself\u001b[0m\u001b[0;34m.\u001b[0m\u001b[0msend\u001b[0m\u001b[0;34m(\u001b[0m\u001b[0mprep\u001b[0m\u001b[0;34m,\u001b[0m \u001b[0;34m**\u001b[0m\u001b[0msend_kwargs\u001b[0m\u001b[0;34m)\u001b[0m\u001b[0;34m\u001b[0m\u001b[0;34m\u001b[0m\u001b[0m\n\u001b[0m\u001b[1;32m    590\u001b[0m \u001b[0;34m\u001b[0m\u001b[0m\n\u001b[1;32m    591\u001b[0m         \u001b[0;32mreturn\u001b[0m \u001b[0mresp\u001b[0m\u001b[0;34m\u001b[0m\u001b[0;34m\u001b[0m\u001b[0m\n",
            "\u001b[0;32m/usr/local/lib/python3.12/dist-packages/requests/sessions.py\u001b[0m in \u001b[0;36msend\u001b[0;34m(self, request, **kwargs)\u001b[0m\n\u001b[1;32m    701\u001b[0m \u001b[0;34m\u001b[0m\u001b[0m\n\u001b[1;32m    702\u001b[0m         \u001b[0;31m# Send the request\u001b[0m\u001b[0;34m\u001b[0m\u001b[0;34m\u001b[0m\u001b[0m\n\u001b[0;32m--> 703\u001b[0;31m         \u001b[0mr\u001b[0m \u001b[0;34m=\u001b[0m \u001b[0madapter\u001b[0m\u001b[0;34m.\u001b[0m\u001b[0msend\u001b[0m\u001b[0;34m(\u001b[0m\u001b[0mrequest\u001b[0m\u001b[0;34m,\u001b[0m \u001b[0;34m**\u001b[0m\u001b[0mkwargs\u001b[0m\u001b[0;34m)\u001b[0m\u001b[0;34m\u001b[0m\u001b[0;34m\u001b[0m\u001b[0m\n\u001b[0m\u001b[1;32m    704\u001b[0m \u001b[0;34m\u001b[0m\u001b[0m\n\u001b[1;32m    705\u001b[0m         \u001b[0;31m# Total elapsed time of the request (approximately)\u001b[0m\u001b[0;34m\u001b[0m\u001b[0;34m\u001b[0m\u001b[0m\n",
            "\u001b[0;32m/usr/local/lib/python3.12/dist-packages/requests/adapters.py\u001b[0m in \u001b[0;36msend\u001b[0;34m(self, request, stream, timeout, verify, cert, proxies)\u001b[0m\n\u001b[1;32m    665\u001b[0m \u001b[0;34m\u001b[0m\u001b[0m\n\u001b[1;32m    666\u001b[0m         \u001b[0;32mtry\u001b[0m\u001b[0;34m:\u001b[0m\u001b[0;34m\u001b[0m\u001b[0;34m\u001b[0m\u001b[0m\n\u001b[0;32m--> 667\u001b[0;31m             resp = conn.urlopen(\n\u001b[0m\u001b[1;32m    668\u001b[0m                 \u001b[0mmethod\u001b[0m\u001b[0;34m=\u001b[0m\u001b[0mrequest\u001b[0m\u001b[0;34m.\u001b[0m\u001b[0mmethod\u001b[0m\u001b[0;34m,\u001b[0m\u001b[0;34m\u001b[0m\u001b[0;34m\u001b[0m\u001b[0m\n\u001b[1;32m    669\u001b[0m                 \u001b[0murl\u001b[0m\u001b[0;34m=\u001b[0m\u001b[0murl\u001b[0m\u001b[0;34m,\u001b[0m\u001b[0;34m\u001b[0m\u001b[0;34m\u001b[0m\u001b[0m\n",
            "\u001b[0;32m/usr/local/lib/python3.12/dist-packages/urllib3/connectionpool.py\u001b[0m in \u001b[0;36murlopen\u001b[0;34m(self, method, url, body, headers, retries, redirect, assert_same_host, timeout, pool_timeout, release_conn, chunked, body_pos, preload_content, decode_content, **response_kw)\u001b[0m\n\u001b[1;32m    785\u001b[0m \u001b[0;34m\u001b[0m\u001b[0m\n\u001b[1;32m    786\u001b[0m             \u001b[0;31m# Make the request on the HTTPConnection object\u001b[0m\u001b[0;34m\u001b[0m\u001b[0;34m\u001b[0m\u001b[0m\n\u001b[0;32m--> 787\u001b[0;31m             response = self._make_request(\n\u001b[0m\u001b[1;32m    788\u001b[0m                 \u001b[0mconn\u001b[0m\u001b[0;34m,\u001b[0m\u001b[0;34m\u001b[0m\u001b[0;34m\u001b[0m\u001b[0m\n\u001b[1;32m    789\u001b[0m                 \u001b[0mmethod\u001b[0m\u001b[0;34m,\u001b[0m\u001b[0;34m\u001b[0m\u001b[0;34m\u001b[0m\u001b[0m\n",
            "\u001b[0;32m/usr/local/lib/python3.12/dist-packages/urllib3/connectionpool.py\u001b[0m in \u001b[0;36m_make_request\u001b[0;34m(self, conn, method, url, body, headers, retries, timeout, chunked, response_conn, preload_content, decode_content, enforce_content_length)\u001b[0m\n\u001b[1;32m    532\u001b[0m         \u001b[0;31m# Receive the response from the server\u001b[0m\u001b[0;34m\u001b[0m\u001b[0;34m\u001b[0m\u001b[0m\n\u001b[1;32m    533\u001b[0m         \u001b[0;32mtry\u001b[0m\u001b[0;34m:\u001b[0m\u001b[0;34m\u001b[0m\u001b[0;34m\u001b[0m\u001b[0m\n\u001b[0;32m--> 534\u001b[0;31m             \u001b[0mresponse\u001b[0m \u001b[0;34m=\u001b[0m \u001b[0mconn\u001b[0m\u001b[0;34m.\u001b[0m\u001b[0mgetresponse\u001b[0m\u001b[0;34m(\u001b[0m\u001b[0;34m)\u001b[0m\u001b[0;34m\u001b[0m\u001b[0;34m\u001b[0m\u001b[0m\n\u001b[0m\u001b[1;32m    535\u001b[0m         \u001b[0;32mexcept\u001b[0m \u001b[0;34m(\u001b[0m\u001b[0mBaseSSLError\u001b[0m\u001b[0;34m,\u001b[0m \u001b[0mOSError\u001b[0m\u001b[0;34m)\u001b[0m \u001b[0;32mas\u001b[0m \u001b[0me\u001b[0m\u001b[0;34m:\u001b[0m\u001b[0;34m\u001b[0m\u001b[0;34m\u001b[0m\u001b[0m\n\u001b[1;32m    536\u001b[0m             \u001b[0mself\u001b[0m\u001b[0;34m.\u001b[0m\u001b[0m_raise_timeout\u001b[0m\u001b[0;34m(\u001b[0m\u001b[0merr\u001b[0m\u001b[0;34m=\u001b[0m\u001b[0me\u001b[0m\u001b[0;34m,\u001b[0m \u001b[0murl\u001b[0m\u001b[0;34m=\u001b[0m\u001b[0murl\u001b[0m\u001b[0;34m,\u001b[0m \u001b[0mtimeout_value\u001b[0m\u001b[0;34m=\u001b[0m\u001b[0mread_timeout\u001b[0m\u001b[0;34m)\u001b[0m\u001b[0;34m\u001b[0m\u001b[0;34m\u001b[0m\u001b[0m\n",
            "\u001b[0;32m/usr/local/lib/python3.12/dist-packages/urllib3/connection.py\u001b[0m in \u001b[0;36mgetresponse\u001b[0;34m(self)\u001b[0m\n\u001b[1;32m    563\u001b[0m \u001b[0;34m\u001b[0m\u001b[0m\n\u001b[1;32m    564\u001b[0m         \u001b[0;31m# Get the response from http.client.HTTPConnection\u001b[0m\u001b[0;34m\u001b[0m\u001b[0;34m\u001b[0m\u001b[0m\n\u001b[0;32m--> 565\u001b[0;31m         \u001b[0mhttplib_response\u001b[0m \u001b[0;34m=\u001b[0m \u001b[0msuper\u001b[0m\u001b[0;34m(\u001b[0m\u001b[0;34m)\u001b[0m\u001b[0;34m.\u001b[0m\u001b[0mgetresponse\u001b[0m\u001b[0;34m(\u001b[0m\u001b[0;34m)\u001b[0m\u001b[0;34m\u001b[0m\u001b[0;34m\u001b[0m\u001b[0m\n\u001b[0m\u001b[1;32m    566\u001b[0m \u001b[0;34m\u001b[0m\u001b[0m\n\u001b[1;32m    567\u001b[0m         \u001b[0;32mtry\u001b[0m\u001b[0;34m:\u001b[0m\u001b[0;34m\u001b[0m\u001b[0;34m\u001b[0m\u001b[0m\n",
            "\u001b[0;32m/usr/lib/python3.12/http/client.py\u001b[0m in \u001b[0;36mgetresponse\u001b[0;34m(self)\u001b[0m\n\u001b[1;32m   1428\u001b[0m         \u001b[0;32mtry\u001b[0m\u001b[0;34m:\u001b[0m\u001b[0;34m\u001b[0m\u001b[0;34m\u001b[0m\u001b[0m\n\u001b[1;32m   1429\u001b[0m             \u001b[0;32mtry\u001b[0m\u001b[0;34m:\u001b[0m\u001b[0;34m\u001b[0m\u001b[0;34m\u001b[0m\u001b[0m\n\u001b[0;32m-> 1430\u001b[0;31m                 \u001b[0mresponse\u001b[0m\u001b[0;34m.\u001b[0m\u001b[0mbegin\u001b[0m\u001b[0;34m(\u001b[0m\u001b[0;34m)\u001b[0m\u001b[0;34m\u001b[0m\u001b[0;34m\u001b[0m\u001b[0m\n\u001b[0m\u001b[1;32m   1431\u001b[0m             \u001b[0;32mexcept\u001b[0m \u001b[0mConnectionError\u001b[0m\u001b[0;34m:\u001b[0m\u001b[0;34m\u001b[0m\u001b[0;34m\u001b[0m\u001b[0m\n\u001b[1;32m   1432\u001b[0m                 \u001b[0mself\u001b[0m\u001b[0;34m.\u001b[0m\u001b[0mclose\u001b[0m\u001b[0;34m(\u001b[0m\u001b[0;34m)\u001b[0m\u001b[0;34m\u001b[0m\u001b[0;34m\u001b[0m\u001b[0m\n",
            "\u001b[0;32m/usr/lib/python3.12/http/client.py\u001b[0m in \u001b[0;36mbegin\u001b[0;34m(self)\u001b[0m\n\u001b[1;32m    329\u001b[0m         \u001b[0;31m# read until we get a non-100 response\u001b[0m\u001b[0;34m\u001b[0m\u001b[0;34m\u001b[0m\u001b[0m\n\u001b[1;32m    330\u001b[0m         \u001b[0;32mwhile\u001b[0m \u001b[0;32mTrue\u001b[0m\u001b[0;34m:\u001b[0m\u001b[0;34m\u001b[0m\u001b[0;34m\u001b[0m\u001b[0m\n\u001b[0;32m--> 331\u001b[0;31m             \u001b[0mversion\u001b[0m\u001b[0;34m,\u001b[0m \u001b[0mstatus\u001b[0m\u001b[0;34m,\u001b[0m \u001b[0mreason\u001b[0m \u001b[0;34m=\u001b[0m \u001b[0mself\u001b[0m\u001b[0;34m.\u001b[0m\u001b[0m_read_status\u001b[0m\u001b[0;34m(\u001b[0m\u001b[0;34m)\u001b[0m\u001b[0;34m\u001b[0m\u001b[0;34m\u001b[0m\u001b[0m\n\u001b[0m\u001b[1;32m    332\u001b[0m             \u001b[0;32mif\u001b[0m \u001b[0mstatus\u001b[0m \u001b[0;34m!=\u001b[0m \u001b[0mCONTINUE\u001b[0m\u001b[0;34m:\u001b[0m\u001b[0;34m\u001b[0m\u001b[0;34m\u001b[0m\u001b[0m\n\u001b[1;32m    333\u001b[0m                 \u001b[0;32mbreak\u001b[0m\u001b[0;34m\u001b[0m\u001b[0;34m\u001b[0m\u001b[0m\n",
            "\u001b[0;32m/usr/lib/python3.12/http/client.py\u001b[0m in \u001b[0;36m_read_status\u001b[0;34m(self)\u001b[0m\n\u001b[1;32m    290\u001b[0m \u001b[0;34m\u001b[0m\u001b[0m\n\u001b[1;32m    291\u001b[0m     \u001b[0;32mdef\u001b[0m \u001b[0m_read_status\u001b[0m\u001b[0;34m(\u001b[0m\u001b[0mself\u001b[0m\u001b[0;34m)\u001b[0m\u001b[0;34m:\u001b[0m\u001b[0;34m\u001b[0m\u001b[0;34m\u001b[0m\u001b[0m\n\u001b[0;32m--> 292\u001b[0;31m         \u001b[0mline\u001b[0m \u001b[0;34m=\u001b[0m \u001b[0mstr\u001b[0m\u001b[0;34m(\u001b[0m\u001b[0mself\u001b[0m\u001b[0;34m.\u001b[0m\u001b[0mfp\u001b[0m\u001b[0;34m.\u001b[0m\u001b[0mreadline\u001b[0m\u001b[0;34m(\u001b[0m\u001b[0m_MAXLINE\u001b[0m \u001b[0;34m+\u001b[0m \u001b[0;36m1\u001b[0m\u001b[0;34m)\u001b[0m\u001b[0;34m,\u001b[0m \u001b[0;34m\"iso-8859-1\"\u001b[0m\u001b[0;34m)\u001b[0m\u001b[0;34m\u001b[0m\u001b[0;34m\u001b[0m\u001b[0m\n\u001b[0m\u001b[1;32m    293\u001b[0m         \u001b[0;32mif\u001b[0m \u001b[0mlen\u001b[0m\u001b[0;34m(\u001b[0m\u001b[0mline\u001b[0m\u001b[0;34m)\u001b[0m \u001b[0;34m>\u001b[0m \u001b[0m_MAXLINE\u001b[0m\u001b[0;34m:\u001b[0m\u001b[0;34m\u001b[0m\u001b[0;34m\u001b[0m\u001b[0m\n\u001b[1;32m    294\u001b[0m             \u001b[0;32mraise\u001b[0m \u001b[0mLineTooLong\u001b[0m\u001b[0;34m(\u001b[0m\u001b[0;34m\"status line\"\u001b[0m\u001b[0;34m)\u001b[0m\u001b[0;34m\u001b[0m\u001b[0;34m\u001b[0m\u001b[0m\n",
            "\u001b[0;32m/usr/lib/python3.12/socket.py\u001b[0m in \u001b[0;36mreadinto\u001b[0;34m(self, b)\u001b[0m\n\u001b[1;32m    718\u001b[0m         \u001b[0;32mwhile\u001b[0m \u001b[0;32mTrue\u001b[0m\u001b[0;34m:\u001b[0m\u001b[0;34m\u001b[0m\u001b[0;34m\u001b[0m\u001b[0m\n\u001b[1;32m    719\u001b[0m             \u001b[0;32mtry\u001b[0m\u001b[0;34m:\u001b[0m\u001b[0;34m\u001b[0m\u001b[0;34m\u001b[0m\u001b[0m\n\u001b[0;32m--> 720\u001b[0;31m                 \u001b[0;32mreturn\u001b[0m \u001b[0mself\u001b[0m\u001b[0;34m.\u001b[0m\u001b[0m_sock\u001b[0m\u001b[0;34m.\u001b[0m\u001b[0mrecv_into\u001b[0m\u001b[0;34m(\u001b[0m\u001b[0mb\u001b[0m\u001b[0;34m)\u001b[0m\u001b[0;34m\u001b[0m\u001b[0;34m\u001b[0m\u001b[0m\n\u001b[0m\u001b[1;32m    721\u001b[0m             \u001b[0;32mexcept\u001b[0m \u001b[0mtimeout\u001b[0m\u001b[0;34m:\u001b[0m\u001b[0;34m\u001b[0m\u001b[0;34m\u001b[0m\u001b[0m\n\u001b[1;32m    722\u001b[0m                 \u001b[0mself\u001b[0m\u001b[0;34m.\u001b[0m\u001b[0m_timeout_occurred\u001b[0m \u001b[0;34m=\u001b[0m \u001b[0;32mTrue\u001b[0m\u001b[0;34m\u001b[0m\u001b[0;34m\u001b[0m\u001b[0m\n",
            "\u001b[0;31mKeyboardInterrupt\u001b[0m: "
          ]
        }
      ]
    }
  ]
}