{
  "nbformat": 4,
  "nbformat_minor": 0,
  "metadata": {
    "colab": {
      "provenance": [],
      "authorship_tag": "ABX9TyMc+IUd+7dKHy4RF28KB0lP",
      "include_colab_link": true
    },
    "kernelspec": {
      "name": "python3",
      "display_name": "Python 3"
    },
    "language_info": {
      "name": "python"
    }
  },
  "cells": [
    {
      "cell_type": "markdown",
      "metadata": {
        "id": "view-in-github",
        "colab_type": "text"
      },
      "source": [
        "<a href=\"https://colab.research.google.com/github/shatinz/tripreports/blob/master/tripreport2.ipynb\" target=\"_parent\"><img src=\"https://colab.research.google.com/assets/colab-badge.svg\" alt=\"Open In Colab\"/></a>"
      ]
    },
    {
      "cell_type": "code",
      "execution_count": 1,
      "metadata": {
        "colab": {
          "base_uri": "https://localhost:8080/"
        },
        "collapsed": true,
        "id": "wZIdluzWMMJv",
        "outputId": "8108d2df-0b6e-43b9-af72-3f719d867fe3"
      },
      "outputs": [
        {
          "output_type": "stream",
          "name": "stdout",
          "text": [
            "Requirement already satisfied: sentence-transformers in /usr/local/lib/python3.12/dist-packages (5.1.0)\n",
            "Requirement already satisfied: transformers in /usr/local/lib/python3.12/dist-packages (4.55.2)\n",
            "Requirement already satisfied: accelerate in /usr/local/lib/python3.12/dist-packages (1.10.0)\n",
            "Requirement already satisfied: tqdm in /usr/local/lib/python3.12/dist-packages (from sentence-transformers) (4.67.1)\n",
            "Requirement already satisfied: torch>=1.11.0 in /usr/local/lib/python3.12/dist-packages (from sentence-transformers) (2.8.0+cu126)\n",
            "Requirement already satisfied: scikit-learn in /usr/local/lib/python3.12/dist-packages (from sentence-transformers) (1.6.1)\n",
            "Requirement already satisfied: scipy in /usr/local/lib/python3.12/dist-packages (from sentence-transformers) (1.16.1)\n",
            "Requirement already satisfied: huggingface-hub>=0.20.0 in /usr/local/lib/python3.12/dist-packages (from sentence-transformers) (0.34.4)\n",
            "Requirement already satisfied: Pillow in /usr/local/lib/python3.12/dist-packages (from sentence-transformers) (11.3.0)\n",
            "Requirement already satisfied: typing_extensions>=4.5.0 in /usr/local/lib/python3.12/dist-packages (from sentence-transformers) (4.14.1)\n",
            "Requirement already satisfied: filelock in /usr/local/lib/python3.12/dist-packages (from transformers) (3.19.1)\n",
            "Requirement already satisfied: numpy>=1.17 in /usr/local/lib/python3.12/dist-packages (from transformers) (2.0.2)\n",
            "Requirement already satisfied: packaging>=20.0 in /usr/local/lib/python3.12/dist-packages (from transformers) (25.0)\n",
            "Requirement already satisfied: pyyaml>=5.1 in /usr/local/lib/python3.12/dist-packages (from transformers) (6.0.2)\n",
            "Requirement already satisfied: regex!=2019.12.17 in /usr/local/lib/python3.12/dist-packages (from transformers) (2024.11.6)\n",
            "Requirement already satisfied: requests in /usr/local/lib/python3.12/dist-packages (from transformers) (2.32.4)\n",
            "Requirement already satisfied: tokenizers<0.22,>=0.21 in /usr/local/lib/python3.12/dist-packages (from transformers) (0.21.4)\n",
            "Requirement already satisfied: safetensors>=0.4.3 in /usr/local/lib/python3.12/dist-packages (from transformers) (0.6.2)\n",
            "Requirement already satisfied: psutil in /usr/local/lib/python3.12/dist-packages (from accelerate) (5.9.5)\n",
            "Requirement already satisfied: fsspec>=2023.5.0 in /usr/local/lib/python3.12/dist-packages (from huggingface-hub>=0.20.0->sentence-transformers) (2025.3.0)\n",
            "Requirement already satisfied: hf-xet<2.0.0,>=1.1.3 in /usr/local/lib/python3.12/dist-packages (from huggingface-hub>=0.20.0->sentence-transformers) (1.1.7)\n",
            "Requirement already satisfied: setuptools in /usr/local/lib/python3.12/dist-packages (from torch>=1.11.0->sentence-transformers) (75.2.0)\n",
            "Requirement already satisfied: sympy>=1.13.3 in /usr/local/lib/python3.12/dist-packages (from torch>=1.11.0->sentence-transformers) (1.13.3)\n",
            "Requirement already satisfied: networkx in /usr/local/lib/python3.12/dist-packages (from torch>=1.11.0->sentence-transformers) (3.5)\n",
            "Requirement already satisfied: jinja2 in /usr/local/lib/python3.12/dist-packages (from torch>=1.11.0->sentence-transformers) (3.1.6)\n",
            "Requirement already satisfied: nvidia-cuda-nvrtc-cu12==12.6.77 in /usr/local/lib/python3.12/dist-packages (from torch>=1.11.0->sentence-transformers) (12.6.77)\n",
            "Requirement already satisfied: nvidia-cuda-runtime-cu12==12.6.77 in /usr/local/lib/python3.12/dist-packages (from torch>=1.11.0->sentence-transformers) (12.6.77)\n",
            "Requirement already satisfied: nvidia-cuda-cupti-cu12==12.6.80 in /usr/local/lib/python3.12/dist-packages (from torch>=1.11.0->sentence-transformers) (12.6.80)\n",
            "Requirement already satisfied: nvidia-cudnn-cu12==9.10.2.21 in /usr/local/lib/python3.12/dist-packages (from torch>=1.11.0->sentence-transformers) (9.10.2.21)\n",
            "Requirement already satisfied: nvidia-cublas-cu12==12.6.4.1 in /usr/local/lib/python3.12/dist-packages (from torch>=1.11.0->sentence-transformers) (12.6.4.1)\n",
            "Requirement already satisfied: nvidia-cufft-cu12==11.3.0.4 in /usr/local/lib/python3.12/dist-packages (from torch>=1.11.0->sentence-transformers) (11.3.0.4)\n",
            "Requirement already satisfied: nvidia-curand-cu12==10.3.7.77 in /usr/local/lib/python3.12/dist-packages (from torch>=1.11.0->sentence-transformers) (10.3.7.77)\n",
            "Requirement already satisfied: nvidia-cusolver-cu12==11.7.1.2 in /usr/local/lib/python3.12/dist-packages (from torch>=1.11.0->sentence-transformers) (11.7.1.2)\n",
            "Requirement already satisfied: nvidia-cusparse-cu12==12.5.4.2 in /usr/local/lib/python3.12/dist-packages (from torch>=1.11.0->sentence-transformers) (12.5.4.2)\n",
            "Requirement already satisfied: nvidia-cusparselt-cu12==0.7.1 in /usr/local/lib/python3.12/dist-packages (from torch>=1.11.0->sentence-transformers) (0.7.1)\n",
            "Requirement already satisfied: nvidia-nccl-cu12==2.27.3 in /usr/local/lib/python3.12/dist-packages (from torch>=1.11.0->sentence-transformers) (2.27.3)\n",
            "Requirement already satisfied: nvidia-nvtx-cu12==12.6.77 in /usr/local/lib/python3.12/dist-packages (from torch>=1.11.0->sentence-transformers) (12.6.77)\n",
            "Requirement already satisfied: nvidia-nvjitlink-cu12==12.6.85 in /usr/local/lib/python3.12/dist-packages (from torch>=1.11.0->sentence-transformers) (12.6.85)\n",
            "Requirement already satisfied: nvidia-cufile-cu12==1.11.1.6 in /usr/local/lib/python3.12/dist-packages (from torch>=1.11.0->sentence-transformers) (1.11.1.6)\n",
            "Requirement already satisfied: triton==3.4.0 in /usr/local/lib/python3.12/dist-packages (from torch>=1.11.0->sentence-transformers) (3.4.0)\n",
            "Requirement already satisfied: charset_normalizer<4,>=2 in /usr/local/lib/python3.12/dist-packages (from requests->transformers) (3.4.3)\n",
            "Requirement already satisfied: idna<4,>=2.5 in /usr/local/lib/python3.12/dist-packages (from requests->transformers) (3.10)\n",
            "Requirement already satisfied: urllib3<3,>=1.21.1 in /usr/local/lib/python3.12/dist-packages (from requests->transformers) (2.5.0)\n",
            "Requirement already satisfied: certifi>=2017.4.17 in /usr/local/lib/python3.12/dist-packages (from requests->transformers) (2025.8.3)\n",
            "Requirement already satisfied: joblib>=1.2.0 in /usr/local/lib/python3.12/dist-packages (from scikit-learn->sentence-transformers) (1.5.1)\n",
            "Requirement already satisfied: threadpoolctl>=3.1.0 in /usr/local/lib/python3.12/dist-packages (from scikit-learn->sentence-transformers) (3.6.0)\n",
            "Requirement already satisfied: mpmath<1.4,>=1.1.0 in /usr/local/lib/python3.12/dist-packages (from sympy>=1.13.3->torch>=1.11.0->sentence-transformers) (1.3.0)\n",
            "Requirement already satisfied: MarkupSafe>=2.0 in /usr/local/lib/python3.12/dist-packages (from jinja2->torch>=1.11.0->sentence-transformers) (3.0.2)\n",
            "Collecting generativeai\n",
            "  Downloading generativeai-0.0.1-py3-none-any.whl.metadata (479 bytes)\n",
            "Requirement already satisfied: huggingface-hub in /usr/local/lib/python3.12/dist-packages (from generativeai) (0.34.4)\n",
            "Requirement already satisfied: filelock in /usr/local/lib/python3.12/dist-packages (from huggingface-hub->generativeai) (3.19.1)\n",
            "Requirement already satisfied: fsspec>=2023.5.0 in /usr/local/lib/python3.12/dist-packages (from huggingface-hub->generativeai) (2025.3.0)\n",
            "Requirement already satisfied: packaging>=20.9 in /usr/local/lib/python3.12/dist-packages (from huggingface-hub->generativeai) (25.0)\n",
            "Requirement already satisfied: pyyaml>=5.1 in /usr/local/lib/python3.12/dist-packages (from huggingface-hub->generativeai) (6.0.2)\n",
            "Requirement already satisfied: requests in /usr/local/lib/python3.12/dist-packages (from huggingface-hub->generativeai) (2.32.4)\n",
            "Requirement already satisfied: tqdm>=4.42.1 in /usr/local/lib/python3.12/dist-packages (from huggingface-hub->generativeai) (4.67.1)\n",
            "Requirement already satisfied: typing-extensions>=3.7.4.3 in /usr/local/lib/python3.12/dist-packages (from huggingface-hub->generativeai) (4.14.1)\n",
            "Requirement already satisfied: hf-xet<2.0.0,>=1.1.3 in /usr/local/lib/python3.12/dist-packages (from huggingface-hub->generativeai) (1.1.7)\n",
            "Requirement already satisfied: charset_normalizer<4,>=2 in /usr/local/lib/python3.12/dist-packages (from requests->huggingface-hub->generativeai) (3.4.3)\n",
            "Requirement already satisfied: idna<4,>=2.5 in /usr/local/lib/python3.12/dist-packages (from requests->huggingface-hub->generativeai) (3.10)\n",
            "Requirement already satisfied: urllib3<3,>=1.21.1 in /usr/local/lib/python3.12/dist-packages (from requests->huggingface-hub->generativeai) (2.5.0)\n",
            "Requirement already satisfied: certifi>=2017.4.17 in /usr/local/lib/python3.12/dist-packages (from requests->huggingface-hub->generativeai) (2025.8.3)\n",
            "Downloading generativeai-0.0.1-py3-none-any.whl (1.2 kB)\n",
            "Installing collected packages: generativeai\n",
            "Successfully installed generativeai-0.0.1\n",
            "Requirement already satisfied: pandas in /usr/local/lib/python3.12/dist-packages (2.2.2)\n",
            "Requirement already satisfied: numpy>=1.26.0 in /usr/local/lib/python3.12/dist-packages (from pandas) (2.0.2)\n",
            "Requirement already satisfied: python-dateutil>=2.8.2 in /usr/local/lib/python3.12/dist-packages (from pandas) (2.9.0.post0)\n",
            "Requirement already satisfied: pytz>=2020.1 in /usr/local/lib/python3.12/dist-packages (from pandas) (2025.2)\n",
            "Requirement already satisfied: tzdata>=2022.7 in /usr/local/lib/python3.12/dist-packages (from pandas) (2025.2)\n",
            "Requirement already satisfied: six>=1.5 in /usr/local/lib/python3.12/dist-packages (from python-dateutil>=2.8.2->pandas) (1.17.0)\n",
            "Requirement already satisfied: google-generativeai in /usr/local/lib/python3.12/dist-packages (0.8.5)\n",
            "Requirement already satisfied: google-ai-generativelanguage==0.6.15 in /usr/local/lib/python3.12/dist-packages (from google-generativeai) (0.6.15)\n",
            "Requirement already satisfied: google-api-core in /usr/local/lib/python3.12/dist-packages (from google-generativeai) (2.25.1)\n",
            "Requirement already satisfied: google-api-python-client in /usr/local/lib/python3.12/dist-packages (from google-generativeai) (2.179.0)\n",
            "Requirement already satisfied: google-auth>=2.15.0 in /usr/local/lib/python3.12/dist-packages (from google-generativeai) (2.38.0)\n",
            "Requirement already satisfied: protobuf in /usr/local/lib/python3.12/dist-packages (from google-generativeai) (5.29.5)\n",
            "Requirement already satisfied: pydantic in /usr/local/lib/python3.12/dist-packages (from google-generativeai) (2.11.7)\n",
            "Requirement already satisfied: tqdm in /usr/local/lib/python3.12/dist-packages (from google-generativeai) (4.67.1)\n",
            "Requirement already satisfied: typing-extensions in /usr/local/lib/python3.12/dist-packages (from google-generativeai) (4.14.1)\n",
            "Requirement already satisfied: proto-plus<2.0.0dev,>=1.22.3 in /usr/local/lib/python3.12/dist-packages (from google-ai-generativelanguage==0.6.15->google-generativeai) (1.26.1)\n",
            "Requirement already satisfied: googleapis-common-protos<2.0.0,>=1.56.2 in /usr/local/lib/python3.12/dist-packages (from google-api-core->google-generativeai) (1.70.0)\n",
            "Requirement already satisfied: requests<3.0.0,>=2.18.0 in /usr/local/lib/python3.12/dist-packages (from google-api-core->google-generativeai) (2.32.4)\n",
            "Requirement already satisfied: cachetools<6.0,>=2.0.0 in /usr/local/lib/python3.12/dist-packages (from google-auth>=2.15.0->google-generativeai) (5.5.2)\n",
            "Requirement already satisfied: pyasn1-modules>=0.2.1 in /usr/local/lib/python3.12/dist-packages (from google-auth>=2.15.0->google-generativeai) (0.4.2)\n",
            "Requirement already satisfied: rsa<5,>=3.1.4 in /usr/local/lib/python3.12/dist-packages (from google-auth>=2.15.0->google-generativeai) (4.9.1)\n",
            "Requirement already satisfied: httplib2<1.0.0,>=0.19.0 in /usr/local/lib/python3.12/dist-packages (from google-api-python-client->google-generativeai) (0.22.0)\n",
            "Requirement already satisfied: google-auth-httplib2<1.0.0,>=0.2.0 in /usr/local/lib/python3.12/dist-packages (from google-api-python-client->google-generativeai) (0.2.0)\n",
            "Requirement already satisfied: uritemplate<5,>=3.0.1 in /usr/local/lib/python3.12/dist-packages (from google-api-python-client->google-generativeai) (4.2.0)\n",
            "Requirement already satisfied: annotated-types>=0.6.0 in /usr/local/lib/python3.12/dist-packages (from pydantic->google-generativeai) (0.7.0)\n",
            "Requirement already satisfied: pydantic-core==2.33.2 in /usr/local/lib/python3.12/dist-packages (from pydantic->google-generativeai) (2.33.2)\n",
            "Requirement already satisfied: typing-inspection>=0.4.0 in /usr/local/lib/python3.12/dist-packages (from pydantic->google-generativeai) (0.4.1)\n",
            "Requirement already satisfied: grpcio<2.0.0,>=1.33.2 in /usr/local/lib/python3.12/dist-packages (from google-api-core[grpc]!=2.0.*,!=2.1.*,!=2.10.*,!=2.2.*,!=2.3.*,!=2.4.*,!=2.5.*,!=2.6.*,!=2.7.*,!=2.8.*,!=2.9.*,<3.0.0dev,>=1.34.1->google-ai-generativelanguage==0.6.15->google-generativeai) (1.74.0)\n",
            "Requirement already satisfied: grpcio-status<2.0.0,>=1.33.2 in /usr/local/lib/python3.12/dist-packages (from google-api-core[grpc]!=2.0.*,!=2.1.*,!=2.10.*,!=2.2.*,!=2.3.*,!=2.4.*,!=2.5.*,!=2.6.*,!=2.7.*,!=2.8.*,!=2.9.*,<3.0.0dev,>=1.34.1->google-ai-generativelanguage==0.6.15->google-generativeai) (1.71.2)\n",
            "Requirement already satisfied: pyparsing!=3.0.0,!=3.0.1,!=3.0.2,!=3.0.3,<4,>=2.4.2 in /usr/local/lib/python3.12/dist-packages (from httplib2<1.0.0,>=0.19.0->google-api-python-client->google-generativeai) (3.2.3)\n",
            "Requirement already satisfied: pyasn1<0.7.0,>=0.6.1 in /usr/local/lib/python3.12/dist-packages (from pyasn1-modules>=0.2.1->google-auth>=2.15.0->google-generativeai) (0.6.1)\n",
            "Requirement already satisfied: charset_normalizer<4,>=2 in /usr/local/lib/python3.12/dist-packages (from requests<3.0.0,>=2.18.0->google-api-core->google-generativeai) (3.4.3)\n",
            "Requirement already satisfied: idna<4,>=2.5 in /usr/local/lib/python3.12/dist-packages (from requests<3.0.0,>=2.18.0->google-api-core->google-generativeai) (3.10)\n",
            "Requirement already satisfied: urllib3<3,>=1.21.1 in /usr/local/lib/python3.12/dist-packages (from requests<3.0.0,>=2.18.0->google-api-core->google-generativeai) (2.5.0)\n",
            "Requirement already satisfied: certifi>=2017.4.17 in /usr/local/lib/python3.12/dist-packages (from requests<3.0.0,>=2.18.0->google-api-core->google-generativeai) (2025.8.3)\n"
          ]
        }
      ],
      "source": [
        "!pip install sentence-transformers transformers accelerate\n",
        "!pip install generativeai\n",
        "!pip install pandas\n",
        "!pip install google-generativeai"
      ]
    },
    {
      "cell_type": "code",
      "source": [
        "#1.extracting links\n",
        "import requests\n",
        "from bs4 import BeautifulSoup\n",
        "\n",
        "url = \"https://www.erowid.org/experiences/exp.cgi?S1=18\"\n",
        "response = requests.get(url, verify=False)  # Disable SSL verification\n",
        "soup = BeautifulSoup(response.content, 'html.parser')\n",
        "\n",
        "# Find all tr elements with class \"exp-list-row\"\n",
        "rows = soup.find_all('tr', class_='exp-list-row')\n",
        "\n",
        "# Extract href from the <a> tag within each row\n",
        "links = []\n",
        "for row in rows:\n",
        "    link_tag = row.find('a')\n",
        "    if link_tag and 'href' in link_tag.attrs:\n",
        "        links.append(\"https://www.erowid.org/experiences/\" + link_tag['href'])\n",
        "\n",
        "# Print the extracted links\n",
        "for link in links:\n",
        "    print(link)"
      ],
      "metadata": {
        "colab": {
          "base_uri": "https://localhost:8080/"
        },
        "collapsed": true,
        "id": "QmaSTioHMWQB",
        "outputId": "f1474564-f206-43ea-ac12-1b9892353083"
      },
      "execution_count": 2,
      "outputs": [
        {
          "output_type": "stream",
          "name": "stderr",
          "text": [
            "/usr/local/lib/python3.12/dist-packages/urllib3/connectionpool.py:1097: InsecureRequestWarning: Unverified HTTPS request is being made to host 'www.erowid.org'. Adding certificate verification is strongly advised. See: https://urllib3.readthedocs.io/en/latest/advanced-usage.html#tls-warnings\n",
            "  warnings.warn(\n"
          ]
        },
        {
          "output_type": "stream",
          "name": "stdout",
          "text": [
            "https://www.erowid.org/experiences/exp.php?ID=118252\n",
            "https://www.erowid.org/experiences/exp.php?ID=112397\n",
            "https://www.erowid.org/experiences/exp.php?ID=96444\n",
            "https://www.erowid.org/experiences/exp.php?ID=64048\n",
            "https://www.erowid.org/experiences/exp.php?ID=62835\n",
            "https://www.erowid.org/experiences/exp.php?ID=34866\n",
            "https://www.erowid.org/experiences/exp.php?ID=113441\n",
            "https://www.erowid.org/experiences/exp.php?ID=113133\n",
            "https://www.erowid.org/experiences/exp.php?ID=99695\n",
            "https://www.erowid.org/experiences/exp.php?ID=94632\n",
            "https://www.erowid.org/experiences/exp.php?ID=103790\n",
            "https://www.erowid.org/experiences/exp.php?ID=96614\n",
            "https://www.erowid.org/experiences/exp.php?ID=106677\n",
            "https://www.erowid.org/experiences/exp.php?ID=89887\n",
            "https://www.erowid.org/experiences/exp.php?ID=98866\n",
            "https://www.erowid.org/experiences/exp.php?ID=101485\n",
            "https://www.erowid.org/experiences/exp.php?ID=101541\n",
            "https://www.erowid.org/experiences/exp.php?ID=93315\n",
            "https://www.erowid.org/experiences/exp.php?ID=96521\n",
            "https://www.erowid.org/experiences/exp.php?ID=94429\n",
            "https://www.erowid.org/experiences/exp.php?ID=93145\n",
            "https://www.erowid.org/experiences/exp.php?ID=80226\n",
            "https://www.erowid.org/experiences/exp.php?ID=82934\n",
            "https://www.erowid.org/experiences/exp.php?ID=86665\n",
            "https://www.erowid.org/experiences/exp.php?ID=83719\n",
            "https://www.erowid.org/experiences/exp.php?ID=82837\n",
            "https://www.erowid.org/experiences/exp.php?ID=80880\n",
            "https://www.erowid.org/experiences/exp.php?ID=76614\n",
            "https://www.erowid.org/experiences/exp.php?ID=75003\n",
            "https://www.erowid.org/experiences/exp.php?ID=70283\n",
            "https://www.erowid.org/experiences/exp.php?ID=66730\n",
            "https://www.erowid.org/experiences/exp.php?ID=65793\n",
            "https://www.erowid.org/experiences/exp.php?ID=65384\n",
            "https://www.erowid.org/experiences/exp.php?ID=58800\n",
            "https://www.erowid.org/experiences/exp.php?ID=58907\n",
            "https://www.erowid.org/experiences/exp.php?ID=52797\n",
            "https://www.erowid.org/experiences/exp.php?ID=46854\n",
            "https://www.erowid.org/experiences/exp.php?ID=46856\n",
            "https://www.erowid.org/experiences/exp.php?ID=41106\n",
            "https://www.erowid.org/experiences/exp.php?ID=30919\n",
            "https://www.erowid.org/experiences/exp.php?ID=22238\n",
            "https://www.erowid.org/experiences/exp.php?ID=31979\n",
            "https://www.erowid.org/experiences/exp.php?ID=25157\n",
            "https://www.erowid.org/experiences/exp.php?ID=23350\n",
            "https://www.erowid.org/experiences/exp.php?ID=16314\n",
            "https://www.erowid.org/experiences/exp.php?ID=8842\n",
            "https://www.erowid.org/experiences/exp.php?ID=2205\n",
            "https://www.erowid.org/experiences/exp.php?ID=1851\n",
            "https://www.erowid.org/experiences/exp.php?ID=1841\n",
            "https://www.erowid.org/experiences/exp.php?ID=1839\n",
            "https://www.erowid.org/experiences/exp.php?ID=118625\n",
            "https://www.erowid.org/experiences/exp.php?ID=117294\n",
            "https://www.erowid.org/experiences/exp.php?ID=117473\n",
            "https://www.erowid.org/experiences/exp.php?ID=102105\n",
            "https://www.erowid.org/experiences/exp.php?ID=115502\n",
            "https://www.erowid.org/experiences/exp.php?ID=114947\n",
            "https://www.erowid.org/experiences/exp.php?ID=100673\n",
            "https://www.erowid.org/experiences/exp.php?ID=99247\n",
            "https://www.erowid.org/experiences/exp.php?ID=106448\n",
            "https://www.erowid.org/experiences/exp.php?ID=106105\n",
            "https://www.erowid.org/experiences/exp.php?ID=108109\n",
            "https://www.erowid.org/experiences/exp.php?ID=113511\n",
            "https://www.erowid.org/experiences/exp.php?ID=106818\n",
            "https://www.erowid.org/experiences/exp.php?ID=101367\n",
            "https://www.erowid.org/experiences/exp.php?ID=102952\n",
            "https://www.erowid.org/experiences/exp.php?ID=112845\n",
            "https://www.erowid.org/experiences/exp.php?ID=112640\n",
            "https://www.erowid.org/experiences/exp.php?ID=112771\n",
            "https://www.erowid.org/experiences/exp.php?ID=111847\n",
            "https://www.erowid.org/experiences/exp.php?ID=87759\n",
            "https://www.erowid.org/experiences/exp.php?ID=96140\n",
            "https://www.erowid.org/experiences/exp.php?ID=85721\n",
            "https://www.erowid.org/experiences/exp.php?ID=100953\n",
            "https://www.erowid.org/experiences/exp.php?ID=99900\n",
            "https://www.erowid.org/experiences/exp.php?ID=103249\n",
            "https://www.erowid.org/experiences/exp.php?ID=109084\n",
            "https://www.erowid.org/experiences/exp.php?ID=95151\n",
            "https://www.erowid.org/experiences/exp.php?ID=100929\n",
            "https://www.erowid.org/experiences/exp.php?ID=97363\n",
            "https://www.erowid.org/experiences/exp.php?ID=110185\n",
            "https://www.erowid.org/experiences/exp.php?ID=108821\n",
            "https://www.erowid.org/experiences/exp.php?ID=91964\n",
            "https://www.erowid.org/experiences/exp.php?ID=110432\n",
            "https://www.erowid.org/experiences/exp.php?ID=81462\n",
            "https://www.erowid.org/experiences/exp.php?ID=101884\n",
            "https://www.erowid.org/experiences/exp.php?ID=108077\n",
            "https://www.erowid.org/experiences/exp.php?ID=94599\n",
            "https://www.erowid.org/experiences/exp.php?ID=90113\n",
            "https://www.erowid.org/experiences/exp.php?ID=90263\n",
            "https://www.erowid.org/experiences/exp.php?ID=88428\n",
            "https://www.erowid.org/experiences/exp.php?ID=107582\n",
            "https://www.erowid.org/experiences/exp.php?ID=100109\n",
            "https://www.erowid.org/experiences/exp.php?ID=97591\n",
            "https://www.erowid.org/experiences/exp.php?ID=90557\n",
            "https://www.erowid.org/experiences/exp.php?ID=101998\n",
            "https://www.erowid.org/experiences/exp.php?ID=87447\n",
            "https://www.erowid.org/experiences/exp.php?ID=80512\n",
            "https://www.erowid.org/experiences/exp.php?ID=90269\n",
            "https://www.erowid.org/experiences/exp.php?ID=83098\n",
            "https://www.erowid.org/experiences/exp.php?ID=92381\n"
          ]
        }
      ]
    },
    {
      "cell_type": "code",
      "source": [
        "#extracting html of tables\n",
        "import requests\n",
        "from bs4 import BeautifulSoup\n",
        "from IPython.display import display\n",
        "\n",
        "# Assuming 'links' list from the previous cell is available\n",
        "\n",
        "extracted_data = []\n",
        "\n",
        "for link in links:\n",
        "    try:\n",
        "        response = requests.get(link, verify=False)\n",
        "        soup = BeautifulSoup(response.content, 'html.parser')\n",
        "\n",
        "        substance_div = soup.find('div', class_='substance')\n",
        "        substance = substance_div.text.strip() if substance_div else None\n",
        "\n",
        "        dosechart_table = soup.find('table', class_='dosechart')\n",
        "        dosechart = str(dosechart_table) if dosechart_table else None\n",
        "\n",
        "        bodyweight_table = soup.find('table', class_='bodyweight')\n",
        "        bodyweight = str(bodyweight_table) if bodyweight_table else None\n",
        "\n",
        "        footdata_table = soup.find('table', class_='footdata')\n",
        "        footdata = str(footdata_table) if footdata_table else None\n",
        "\n",
        "        extracted_data.append({\n",
        "            'link': link,\n",
        "            'substance': substance,\n",
        "            'dosechart': dosechart,\n",
        "            'bodyweight': bodyweight,\n",
        "            'footdata': footdata\n",
        "        })\n",
        "\n",
        "    except Exception as e:\n",
        "        print(f\"Error processing link {link}: {e}\")\n",
        "\n",
        "# You can now process the extracted_data list, for example, print it\n",
        "display(extracted_data)"
      ],
      "metadata": {
        "colab": {
          "base_uri": "https://localhost:8080/",
          "height": 1000
        },
        "collapsed": true,
        "id": "w_f7jTXXMmdM",
        "outputId": "4295f94e-3890-4c52-b6c9-baba0e4025a1"
      },
      "execution_count": 4,
      "outputs": [
        {
          "output_type": "stream",
          "name": "stderr",
          "text": [
            "/usr/local/lib/python3.12/dist-packages/urllib3/connectionpool.py:1097: InsecureRequestWarning: Unverified HTTPS request is being made to host 'www.erowid.org'. Adding certificate verification is strongly advised. See: https://urllib3.readthedocs.io/en/latest/advanced-usage.html#tls-warnings\n",
            "  warnings.warn(\n",
            "/usr/local/lib/python3.12/dist-packages/urllib3/connectionpool.py:1097: InsecureRequestWarning: Unverified HTTPS request is being made to host 'www.erowid.org'. Adding certificate verification is strongly advised. See: https://urllib3.readthedocs.io/en/latest/advanced-usage.html#tls-warnings\n",
            "  warnings.warn(\n",
            "/usr/local/lib/python3.12/dist-packages/urllib3/connectionpool.py:1097: InsecureRequestWarning: Unverified HTTPS request is being made to host 'www.erowid.org'. Adding certificate verification is strongly advised. See: https://urllib3.readthedocs.io/en/latest/advanced-usage.html#tls-warnings\n",
            "  warnings.warn(\n",
            "/usr/local/lib/python3.12/dist-packages/urllib3/connectionpool.py:1097: InsecureRequestWarning: Unverified HTTPS request is being made to host 'www.erowid.org'. Adding certificate verification is strongly advised. See: https://urllib3.readthedocs.io/en/latest/advanced-usage.html#tls-warnings\n",
            "  warnings.warn(\n",
            "/usr/local/lib/python3.12/dist-packages/urllib3/connectionpool.py:1097: InsecureRequestWarning: Unverified HTTPS request is being made to host 'www.erowid.org'. Adding certificate verification is strongly advised. See: https://urllib3.readthedocs.io/en/latest/advanced-usage.html#tls-warnings\n",
            "  warnings.warn(\n",
            "/usr/local/lib/python3.12/dist-packages/urllib3/connectionpool.py:1097: InsecureRequestWarning: Unverified HTTPS request is being made to host 'www.erowid.org'. Adding certificate verification is strongly advised. See: https://urllib3.readthedocs.io/en/latest/advanced-usage.html#tls-warnings\n",
            "  warnings.warn(\n",
            "/usr/local/lib/python3.12/dist-packages/urllib3/connectionpool.py:1097: InsecureRequestWarning: Unverified HTTPS request is being made to host 'www.erowid.org'. Adding certificate verification is strongly advised. See: https://urllib3.readthedocs.io/en/latest/advanced-usage.html#tls-warnings\n",
            "  warnings.warn(\n",
            "/usr/local/lib/python3.12/dist-packages/urllib3/connectionpool.py:1097: InsecureRequestWarning: Unverified HTTPS request is being made to host 'www.erowid.org'. Adding certificate verification is strongly advised. See: https://urllib3.readthedocs.io/en/latest/advanced-usage.html#tls-warnings\n",
            "  warnings.warn(\n",
            "/usr/local/lib/python3.12/dist-packages/urllib3/connectionpool.py:1097: InsecureRequestWarning: Unverified HTTPS request is being made to host 'www.erowid.org'. Adding certificate verification is strongly advised. See: https://urllib3.readthedocs.io/en/latest/advanced-usage.html#tls-warnings\n",
            "  warnings.warn(\n",
            "/usr/local/lib/python3.12/dist-packages/urllib3/connectionpool.py:1097: InsecureRequestWarning: Unverified HTTPS request is being made to host 'www.erowid.org'. Adding certificate verification is strongly advised. See: https://urllib3.readthedocs.io/en/latest/advanced-usage.html#tls-warnings\n",
            "  warnings.warn(\n",
            "/usr/local/lib/python3.12/dist-packages/urllib3/connectionpool.py:1097: InsecureRequestWarning: Unverified HTTPS request is being made to host 'www.erowid.org'. Adding certificate verification is strongly advised. See: https://urllib3.readthedocs.io/en/latest/advanced-usage.html#tls-warnings\n",
            "  warnings.warn(\n",
            "/usr/local/lib/python3.12/dist-packages/urllib3/connectionpool.py:1097: InsecureRequestWarning: Unverified HTTPS request is being made to host 'www.erowid.org'. Adding certificate verification is strongly advised. See: https://urllib3.readthedocs.io/en/latest/advanced-usage.html#tls-warnings\n",
            "  warnings.warn(\n",
            "/usr/local/lib/python3.12/dist-packages/urllib3/connectionpool.py:1097: InsecureRequestWarning: Unverified HTTPS request is being made to host 'www.erowid.org'. Adding certificate verification is strongly advised. See: https://urllib3.readthedocs.io/en/latest/advanced-usage.html#tls-warnings\n",
            "  warnings.warn(\n",
            "/usr/local/lib/python3.12/dist-packages/urllib3/connectionpool.py:1097: InsecureRequestWarning: Unverified HTTPS request is being made to host 'www.erowid.org'. Adding certificate verification is strongly advised. See: https://urllib3.readthedocs.io/en/latest/advanced-usage.html#tls-warnings\n",
            "  warnings.warn(\n",
            "/usr/local/lib/python3.12/dist-packages/urllib3/connectionpool.py:1097: InsecureRequestWarning: Unverified HTTPS request is being made to host 'www.erowid.org'. Adding certificate verification is strongly advised. See: https://urllib3.readthedocs.io/en/latest/advanced-usage.html#tls-warnings\n",
            "  warnings.warn(\n",
            "/usr/local/lib/python3.12/dist-packages/urllib3/connectionpool.py:1097: InsecureRequestWarning: Unverified HTTPS request is being made to host 'www.erowid.org'. Adding certificate verification is strongly advised. See: https://urllib3.readthedocs.io/en/latest/advanced-usage.html#tls-warnings\n",
            "  warnings.warn(\n",
            "/usr/local/lib/python3.12/dist-packages/urllib3/connectionpool.py:1097: InsecureRequestWarning: Unverified HTTPS request is being made to host 'www.erowid.org'. Adding certificate verification is strongly advised. See: https://urllib3.readthedocs.io/en/latest/advanced-usage.html#tls-warnings\n",
            "  warnings.warn(\n",
            "/usr/local/lib/python3.12/dist-packages/urllib3/connectionpool.py:1097: InsecureRequestWarning: Unverified HTTPS request is being made to host 'www.erowid.org'. Adding certificate verification is strongly advised. See: https://urllib3.readthedocs.io/en/latest/advanced-usage.html#tls-warnings\n",
            "  warnings.warn(\n",
            "/usr/local/lib/python3.12/dist-packages/urllib3/connectionpool.py:1097: InsecureRequestWarning: Unverified HTTPS request is being made to host 'www.erowid.org'. Adding certificate verification is strongly advised. See: https://urllib3.readthedocs.io/en/latest/advanced-usage.html#tls-warnings\n",
            "  warnings.warn(\n",
            "/usr/local/lib/python3.12/dist-packages/urllib3/connectionpool.py:1097: InsecureRequestWarning: Unverified HTTPS request is being made to host 'www.erowid.org'. Adding certificate verification is strongly advised. See: https://urllib3.readthedocs.io/en/latest/advanced-usage.html#tls-warnings\n",
            "  warnings.warn(\n",
            "/usr/local/lib/python3.12/dist-packages/urllib3/connectionpool.py:1097: InsecureRequestWarning: Unverified HTTPS request is being made to host 'www.erowid.org'. Adding certificate verification is strongly advised. See: https://urllib3.readthedocs.io/en/latest/advanced-usage.html#tls-warnings\n",
            "  warnings.warn(\n",
            "/usr/local/lib/python3.12/dist-packages/urllib3/connectionpool.py:1097: InsecureRequestWarning: Unverified HTTPS request is being made to host 'www.erowid.org'. Adding certificate verification is strongly advised. See: https://urllib3.readthedocs.io/en/latest/advanced-usage.html#tls-warnings\n",
            "  warnings.warn(\n",
            "/usr/local/lib/python3.12/dist-packages/urllib3/connectionpool.py:1097: InsecureRequestWarning: Unverified HTTPS request is being made to host 'www.erowid.org'. Adding certificate verification is strongly advised. See: https://urllib3.readthedocs.io/en/latest/advanced-usage.html#tls-warnings\n",
            "  warnings.warn(\n",
            "/usr/local/lib/python3.12/dist-packages/urllib3/connectionpool.py:1097: InsecureRequestWarning: Unverified HTTPS request is being made to host 'www.erowid.org'. Adding certificate verification is strongly advised. See: https://urllib3.readthedocs.io/en/latest/advanced-usage.html#tls-warnings\n",
            "  warnings.warn(\n",
            "/usr/local/lib/python3.12/dist-packages/urllib3/connectionpool.py:1097: InsecureRequestWarning: Unverified HTTPS request is being made to host 'www.erowid.org'. Adding certificate verification is strongly advised. See: https://urllib3.readthedocs.io/en/latest/advanced-usage.html#tls-warnings\n",
            "  warnings.warn(\n",
            "/usr/local/lib/python3.12/dist-packages/urllib3/connectionpool.py:1097: InsecureRequestWarning: Unverified HTTPS request is being made to host 'www.erowid.org'. Adding certificate verification is strongly advised. See: https://urllib3.readthedocs.io/en/latest/advanced-usage.html#tls-warnings\n",
            "  warnings.warn(\n",
            "/usr/local/lib/python3.12/dist-packages/urllib3/connectionpool.py:1097: InsecureRequestWarning: Unverified HTTPS request is being made to host 'www.erowid.org'. Adding certificate verification is strongly advised. See: https://urllib3.readthedocs.io/en/latest/advanced-usage.html#tls-warnings\n",
            "  warnings.warn(\n",
            "/usr/local/lib/python3.12/dist-packages/urllib3/connectionpool.py:1097: InsecureRequestWarning: Unverified HTTPS request is being made to host 'www.erowid.org'. Adding certificate verification is strongly advised. See: https://urllib3.readthedocs.io/en/latest/advanced-usage.html#tls-warnings\n",
            "  warnings.warn(\n",
            "/usr/local/lib/python3.12/dist-packages/urllib3/connectionpool.py:1097: InsecureRequestWarning: Unverified HTTPS request is being made to host 'www.erowid.org'. Adding certificate verification is strongly advised. See: https://urllib3.readthedocs.io/en/latest/advanced-usage.html#tls-warnings\n",
            "  warnings.warn(\n",
            "/usr/local/lib/python3.12/dist-packages/urllib3/connectionpool.py:1097: InsecureRequestWarning: Unverified HTTPS request is being made to host 'www.erowid.org'. Adding certificate verification is strongly advised. See: https://urllib3.readthedocs.io/en/latest/advanced-usage.html#tls-warnings\n",
            "  warnings.warn(\n",
            "/usr/local/lib/python3.12/dist-packages/urllib3/connectionpool.py:1097: InsecureRequestWarning: Unverified HTTPS request is being made to host 'www.erowid.org'. Adding certificate verification is strongly advised. See: https://urllib3.readthedocs.io/en/latest/advanced-usage.html#tls-warnings\n",
            "  warnings.warn(\n",
            "/usr/local/lib/python3.12/dist-packages/urllib3/connectionpool.py:1097: InsecureRequestWarning: Unverified HTTPS request is being made to host 'www.erowid.org'. Adding certificate verification is strongly advised. See: https://urllib3.readthedocs.io/en/latest/advanced-usage.html#tls-warnings\n",
            "  warnings.warn(\n",
            "/usr/local/lib/python3.12/dist-packages/urllib3/connectionpool.py:1097: InsecureRequestWarning: Unverified HTTPS request is being made to host 'www.erowid.org'. Adding certificate verification is strongly advised. See: https://urllib3.readthedocs.io/en/latest/advanced-usage.html#tls-warnings\n",
            "  warnings.warn(\n",
            "/usr/local/lib/python3.12/dist-packages/urllib3/connectionpool.py:1097: InsecureRequestWarning: Unverified HTTPS request is being made to host 'www.erowid.org'. Adding certificate verification is strongly advised. See: https://urllib3.readthedocs.io/en/latest/advanced-usage.html#tls-warnings\n",
            "  warnings.warn(\n",
            "/usr/local/lib/python3.12/dist-packages/urllib3/connectionpool.py:1097: InsecureRequestWarning: Unverified HTTPS request is being made to host 'www.erowid.org'. Adding certificate verification is strongly advised. See: https://urllib3.readthedocs.io/en/latest/advanced-usage.html#tls-warnings\n",
            "  warnings.warn(\n",
            "/usr/local/lib/python3.12/dist-packages/urllib3/connectionpool.py:1097: InsecureRequestWarning: Unverified HTTPS request is being made to host 'www.erowid.org'. Adding certificate verification is strongly advised. See: https://urllib3.readthedocs.io/en/latest/advanced-usage.html#tls-warnings\n",
            "  warnings.warn(\n",
            "/usr/local/lib/python3.12/dist-packages/urllib3/connectionpool.py:1097: InsecureRequestWarning: Unverified HTTPS request is being made to host 'www.erowid.org'. Adding certificate verification is strongly advised. See: https://urllib3.readthedocs.io/en/latest/advanced-usage.html#tls-warnings\n",
            "  warnings.warn(\n",
            "/usr/local/lib/python3.12/dist-packages/urllib3/connectionpool.py:1097: InsecureRequestWarning: Unverified HTTPS request is being made to host 'www.erowid.org'. Adding certificate verification is strongly advised. See: https://urllib3.readthedocs.io/en/latest/advanced-usage.html#tls-warnings\n",
            "  warnings.warn(\n",
            "/usr/local/lib/python3.12/dist-packages/urllib3/connectionpool.py:1097: InsecureRequestWarning: Unverified HTTPS request is being made to host 'www.erowid.org'. Adding certificate verification is strongly advised. See: https://urllib3.readthedocs.io/en/latest/advanced-usage.html#tls-warnings\n",
            "  warnings.warn(\n",
            "/usr/local/lib/python3.12/dist-packages/urllib3/connectionpool.py:1097: InsecureRequestWarning: Unverified HTTPS request is being made to host 'www.erowid.org'. Adding certificate verification is strongly advised. See: https://urllib3.readthedocs.io/en/latest/advanced-usage.html#tls-warnings\n",
            "  warnings.warn(\n",
            "/usr/local/lib/python3.12/dist-packages/urllib3/connectionpool.py:1097: InsecureRequestWarning: Unverified HTTPS request is being made to host 'www.erowid.org'. Adding certificate verification is strongly advised. See: https://urllib3.readthedocs.io/en/latest/advanced-usage.html#tls-warnings\n",
            "  warnings.warn(\n",
            "/usr/local/lib/python3.12/dist-packages/urllib3/connectionpool.py:1097: InsecureRequestWarning: Unverified HTTPS request is being made to host 'www.erowid.org'. Adding certificate verification is strongly advised. See: https://urllib3.readthedocs.io/en/latest/advanced-usage.html#tls-warnings\n",
            "  warnings.warn(\n",
            "/usr/local/lib/python3.12/dist-packages/urllib3/connectionpool.py:1097: InsecureRequestWarning: Unverified HTTPS request is being made to host 'www.erowid.org'. Adding certificate verification is strongly advised. See: https://urllib3.readthedocs.io/en/latest/advanced-usage.html#tls-warnings\n",
            "  warnings.warn(\n",
            "/usr/local/lib/python3.12/dist-packages/urllib3/connectionpool.py:1097: InsecureRequestWarning: Unverified HTTPS request is being made to host 'www.erowid.org'. Adding certificate verification is strongly advised. See: https://urllib3.readthedocs.io/en/latest/advanced-usage.html#tls-warnings\n",
            "  warnings.warn(\n",
            "/usr/local/lib/python3.12/dist-packages/urllib3/connectionpool.py:1097: InsecureRequestWarning: Unverified HTTPS request is being made to host 'www.erowid.org'. Adding certificate verification is strongly advised. See: https://urllib3.readthedocs.io/en/latest/advanced-usage.html#tls-warnings\n",
            "  warnings.warn(\n",
            "/usr/local/lib/python3.12/dist-packages/urllib3/connectionpool.py:1097: InsecureRequestWarning: Unverified HTTPS request is being made to host 'www.erowid.org'. Adding certificate verification is strongly advised. See: https://urllib3.readthedocs.io/en/latest/advanced-usage.html#tls-warnings\n",
            "  warnings.warn(\n",
            "/usr/local/lib/python3.12/dist-packages/urllib3/connectionpool.py:1097: InsecureRequestWarning: Unverified HTTPS request is being made to host 'www.erowid.org'. Adding certificate verification is strongly advised. See: https://urllib3.readthedocs.io/en/latest/advanced-usage.html#tls-warnings\n",
            "  warnings.warn(\n",
            "/usr/local/lib/python3.12/dist-packages/urllib3/connectionpool.py:1097: InsecureRequestWarning: Unverified HTTPS request is being made to host 'www.erowid.org'. Adding certificate verification is strongly advised. See: https://urllib3.readthedocs.io/en/latest/advanced-usage.html#tls-warnings\n",
            "  warnings.warn(\n",
            "/usr/local/lib/python3.12/dist-packages/urllib3/connectionpool.py:1097: InsecureRequestWarning: Unverified HTTPS request is being made to host 'www.erowid.org'. Adding certificate verification is strongly advised. See: https://urllib3.readthedocs.io/en/latest/advanced-usage.html#tls-warnings\n",
            "  warnings.warn(\n",
            "/usr/local/lib/python3.12/dist-packages/urllib3/connectionpool.py:1097: InsecureRequestWarning: Unverified HTTPS request is being made to host 'www.erowid.org'. Adding certificate verification is strongly advised. See: https://urllib3.readthedocs.io/en/latest/advanced-usage.html#tls-warnings\n",
            "  warnings.warn(\n",
            "/usr/local/lib/python3.12/dist-packages/urllib3/connectionpool.py:1097: InsecureRequestWarning: Unverified HTTPS request is being made to host 'www.erowid.org'. Adding certificate verification is strongly advised. See: https://urllib3.readthedocs.io/en/latest/advanced-usage.html#tls-warnings\n",
            "  warnings.warn(\n",
            "/usr/local/lib/python3.12/dist-packages/urllib3/connectionpool.py:1097: InsecureRequestWarning: Unverified HTTPS request is being made to host 'www.erowid.org'. Adding certificate verification is strongly advised. See: https://urllib3.readthedocs.io/en/latest/advanced-usage.html#tls-warnings\n",
            "  warnings.warn(\n",
            "/usr/local/lib/python3.12/dist-packages/urllib3/connectionpool.py:1097: InsecureRequestWarning: Unverified HTTPS request is being made to host 'www.erowid.org'. Adding certificate verification is strongly advised. See: https://urllib3.readthedocs.io/en/latest/advanced-usage.html#tls-warnings\n",
            "  warnings.warn(\n",
            "/usr/local/lib/python3.12/dist-packages/urllib3/connectionpool.py:1097: InsecureRequestWarning: Unverified HTTPS request is being made to host 'www.erowid.org'. Adding certificate verification is strongly advised. See: https://urllib3.readthedocs.io/en/latest/advanced-usage.html#tls-warnings\n",
            "  warnings.warn(\n",
            "/usr/local/lib/python3.12/dist-packages/urllib3/connectionpool.py:1097: InsecureRequestWarning: Unverified HTTPS request is being made to host 'www.erowid.org'. Adding certificate verification is strongly advised. See: https://urllib3.readthedocs.io/en/latest/advanced-usage.html#tls-warnings\n",
            "  warnings.warn(\n",
            "/usr/local/lib/python3.12/dist-packages/urllib3/connectionpool.py:1097: InsecureRequestWarning: Unverified HTTPS request is being made to host 'www.erowid.org'. Adding certificate verification is strongly advised. See: https://urllib3.readthedocs.io/en/latest/advanced-usage.html#tls-warnings\n",
            "  warnings.warn(\n",
            "/usr/local/lib/python3.12/dist-packages/urllib3/connectionpool.py:1097: InsecureRequestWarning: Unverified HTTPS request is being made to host 'www.erowid.org'. Adding certificate verification is strongly advised. See: https://urllib3.readthedocs.io/en/latest/advanced-usage.html#tls-warnings\n",
            "  warnings.warn(\n",
            "/usr/local/lib/python3.12/dist-packages/urllib3/connectionpool.py:1097: InsecureRequestWarning: Unverified HTTPS request is being made to host 'www.erowid.org'. Adding certificate verification is strongly advised. See: https://urllib3.readthedocs.io/en/latest/advanced-usage.html#tls-warnings\n",
            "  warnings.warn(\n",
            "/usr/local/lib/python3.12/dist-packages/urllib3/connectionpool.py:1097: InsecureRequestWarning: Unverified HTTPS request is being made to host 'www.erowid.org'. Adding certificate verification is strongly advised. See: https://urllib3.readthedocs.io/en/latest/advanced-usage.html#tls-warnings\n",
            "  warnings.warn(\n",
            "/usr/local/lib/python3.12/dist-packages/urllib3/connectionpool.py:1097: InsecureRequestWarning: Unverified HTTPS request is being made to host 'www.erowid.org'. Adding certificate verification is strongly advised. See: https://urllib3.readthedocs.io/en/latest/advanced-usage.html#tls-warnings\n",
            "  warnings.warn(\n",
            "/usr/local/lib/python3.12/dist-packages/urllib3/connectionpool.py:1097: InsecureRequestWarning: Unverified HTTPS request is being made to host 'www.erowid.org'. Adding certificate verification is strongly advised. See: https://urllib3.readthedocs.io/en/latest/advanced-usage.html#tls-warnings\n",
            "  warnings.warn(\n",
            "/usr/local/lib/python3.12/dist-packages/urllib3/connectionpool.py:1097: InsecureRequestWarning: Unverified HTTPS request is being made to host 'www.erowid.org'. Adding certificate verification is strongly advised. See: https://urllib3.readthedocs.io/en/latest/advanced-usage.html#tls-warnings\n",
            "  warnings.warn(\n",
            "/usr/local/lib/python3.12/dist-packages/urllib3/connectionpool.py:1097: InsecureRequestWarning: Unverified HTTPS request is being made to host 'www.erowid.org'. Adding certificate verification is strongly advised. See: https://urllib3.readthedocs.io/en/latest/advanced-usage.html#tls-warnings\n",
            "  warnings.warn(\n",
            "/usr/local/lib/python3.12/dist-packages/urllib3/connectionpool.py:1097: InsecureRequestWarning: Unverified HTTPS request is being made to host 'www.erowid.org'. Adding certificate verification is strongly advised. See: https://urllib3.readthedocs.io/en/latest/advanced-usage.html#tls-warnings\n",
            "  warnings.warn(\n",
            "/usr/local/lib/python3.12/dist-packages/urllib3/connectionpool.py:1097: InsecureRequestWarning: Unverified HTTPS request is being made to host 'www.erowid.org'. Adding certificate verification is strongly advised. See: https://urllib3.readthedocs.io/en/latest/advanced-usage.html#tls-warnings\n",
            "  warnings.warn(\n",
            "/usr/local/lib/python3.12/dist-packages/urllib3/connectionpool.py:1097: InsecureRequestWarning: Unverified HTTPS request is being made to host 'www.erowid.org'. Adding certificate verification is strongly advised. See: https://urllib3.readthedocs.io/en/latest/advanced-usage.html#tls-warnings\n",
            "  warnings.warn(\n",
            "/usr/local/lib/python3.12/dist-packages/urllib3/connectionpool.py:1097: InsecureRequestWarning: Unverified HTTPS request is being made to host 'www.erowid.org'. Adding certificate verification is strongly advised. See: https://urllib3.readthedocs.io/en/latest/advanced-usage.html#tls-warnings\n",
            "  warnings.warn(\n",
            "/usr/local/lib/python3.12/dist-packages/urllib3/connectionpool.py:1097: InsecureRequestWarning: Unverified HTTPS request is being made to host 'www.erowid.org'. Adding certificate verification is strongly advised. See: https://urllib3.readthedocs.io/en/latest/advanced-usage.html#tls-warnings\n",
            "  warnings.warn(\n",
            "/usr/local/lib/python3.12/dist-packages/urllib3/connectionpool.py:1097: InsecureRequestWarning: Unverified HTTPS request is being made to host 'www.erowid.org'. Adding certificate verification is strongly advised. See: https://urllib3.readthedocs.io/en/latest/advanced-usage.html#tls-warnings\n",
            "  warnings.warn(\n",
            "/usr/local/lib/python3.12/dist-packages/urllib3/connectionpool.py:1097: InsecureRequestWarning: Unverified HTTPS request is being made to host 'www.erowid.org'. Adding certificate verification is strongly advised. See: https://urllib3.readthedocs.io/en/latest/advanced-usage.html#tls-warnings\n",
            "  warnings.warn(\n",
            "/usr/local/lib/python3.12/dist-packages/urllib3/connectionpool.py:1097: InsecureRequestWarning: Unverified HTTPS request is being made to host 'www.erowid.org'. Adding certificate verification is strongly advised. See: https://urllib3.readthedocs.io/en/latest/advanced-usage.html#tls-warnings\n",
            "  warnings.warn(\n",
            "/usr/local/lib/python3.12/dist-packages/urllib3/connectionpool.py:1097: InsecureRequestWarning: Unverified HTTPS request is being made to host 'www.erowid.org'. Adding certificate verification is strongly advised. See: https://urllib3.readthedocs.io/en/latest/advanced-usage.html#tls-warnings\n",
            "  warnings.warn(\n",
            "/usr/local/lib/python3.12/dist-packages/urllib3/connectionpool.py:1097: InsecureRequestWarning: Unverified HTTPS request is being made to host 'www.erowid.org'. Adding certificate verification is strongly advised. See: https://urllib3.readthedocs.io/en/latest/advanced-usage.html#tls-warnings\n",
            "  warnings.warn(\n",
            "/usr/local/lib/python3.12/dist-packages/urllib3/connectionpool.py:1097: InsecureRequestWarning: Unverified HTTPS request is being made to host 'www.erowid.org'. Adding certificate verification is strongly advised. See: https://urllib3.readthedocs.io/en/latest/advanced-usage.html#tls-warnings\n",
            "  warnings.warn(\n",
            "/usr/local/lib/python3.12/dist-packages/urllib3/connectionpool.py:1097: InsecureRequestWarning: Unverified HTTPS request is being made to host 'www.erowid.org'. Adding certificate verification is strongly advised. See: https://urllib3.readthedocs.io/en/latest/advanced-usage.html#tls-warnings\n",
            "  warnings.warn(\n",
            "/usr/local/lib/python3.12/dist-packages/urllib3/connectionpool.py:1097: InsecureRequestWarning: Unverified HTTPS request is being made to host 'www.erowid.org'. Adding certificate verification is strongly advised. See: https://urllib3.readthedocs.io/en/latest/advanced-usage.html#tls-warnings\n",
            "  warnings.warn(\n",
            "/usr/local/lib/python3.12/dist-packages/urllib3/connectionpool.py:1097: InsecureRequestWarning: Unverified HTTPS request is being made to host 'www.erowid.org'. Adding certificate verification is strongly advised. See: https://urllib3.readthedocs.io/en/latest/advanced-usage.html#tls-warnings\n",
            "  warnings.warn(\n",
            "/usr/local/lib/python3.12/dist-packages/urllib3/connectionpool.py:1097: InsecureRequestWarning: Unverified HTTPS request is being made to host 'www.erowid.org'. Adding certificate verification is strongly advised. See: https://urllib3.readthedocs.io/en/latest/advanced-usage.html#tls-warnings\n",
            "  warnings.warn(\n",
            "/usr/local/lib/python3.12/dist-packages/urllib3/connectionpool.py:1097: InsecureRequestWarning: Unverified HTTPS request is being made to host 'www.erowid.org'. Adding certificate verification is strongly advised. See: https://urllib3.readthedocs.io/en/latest/advanced-usage.html#tls-warnings\n",
            "  warnings.warn(\n",
            "/usr/local/lib/python3.12/dist-packages/urllib3/connectionpool.py:1097: InsecureRequestWarning: Unverified HTTPS request is being made to host 'www.erowid.org'. Adding certificate verification is strongly advised. See: https://urllib3.readthedocs.io/en/latest/advanced-usage.html#tls-warnings\n",
            "  warnings.warn(\n",
            "/usr/local/lib/python3.12/dist-packages/urllib3/connectionpool.py:1097: InsecureRequestWarning: Unverified HTTPS request is being made to host 'www.erowid.org'. Adding certificate verification is strongly advised. See: https://urllib3.readthedocs.io/en/latest/advanced-usage.html#tls-warnings\n",
            "  warnings.warn(\n",
            "/usr/local/lib/python3.12/dist-packages/urllib3/connectionpool.py:1097: InsecureRequestWarning: Unverified HTTPS request is being made to host 'www.erowid.org'. Adding certificate verification is strongly advised. See: https://urllib3.readthedocs.io/en/latest/advanced-usage.html#tls-warnings\n",
            "  warnings.warn(\n",
            "/usr/local/lib/python3.12/dist-packages/urllib3/connectionpool.py:1097: InsecureRequestWarning: Unverified HTTPS request is being made to host 'www.erowid.org'. Adding certificate verification is strongly advised. See: https://urllib3.readthedocs.io/en/latest/advanced-usage.html#tls-warnings\n",
            "  warnings.warn(\n",
            "/usr/local/lib/python3.12/dist-packages/urllib3/connectionpool.py:1097: InsecureRequestWarning: Unverified HTTPS request is being made to host 'www.erowid.org'. Adding certificate verification is strongly advised. See: https://urllib3.readthedocs.io/en/latest/advanced-usage.html#tls-warnings\n",
            "  warnings.warn(\n",
            "/usr/local/lib/python3.12/dist-packages/urllib3/connectionpool.py:1097: InsecureRequestWarning: Unverified HTTPS request is being made to host 'www.erowid.org'. Adding certificate verification is strongly advised. See: https://urllib3.readthedocs.io/en/latest/advanced-usage.html#tls-warnings\n",
            "  warnings.warn(\n",
            "/usr/local/lib/python3.12/dist-packages/urllib3/connectionpool.py:1097: InsecureRequestWarning: Unverified HTTPS request is being made to host 'www.erowid.org'. Adding certificate verification is strongly advised. See: https://urllib3.readthedocs.io/en/latest/advanced-usage.html#tls-warnings\n",
            "  warnings.warn(\n",
            "/usr/local/lib/python3.12/dist-packages/urllib3/connectionpool.py:1097: InsecureRequestWarning: Unverified HTTPS request is being made to host 'www.erowid.org'. Adding certificate verification is strongly advised. See: https://urllib3.readthedocs.io/en/latest/advanced-usage.html#tls-warnings\n",
            "  warnings.warn(\n",
            "/usr/local/lib/python3.12/dist-packages/urllib3/connectionpool.py:1097: InsecureRequestWarning: Unverified HTTPS request is being made to host 'www.erowid.org'. Adding certificate verification is strongly advised. See: https://urllib3.readthedocs.io/en/latest/advanced-usage.html#tls-warnings\n",
            "  warnings.warn(\n",
            "/usr/local/lib/python3.12/dist-packages/urllib3/connectionpool.py:1097: InsecureRequestWarning: Unverified HTTPS request is being made to host 'www.erowid.org'. Adding certificate verification is strongly advised. See: https://urllib3.readthedocs.io/en/latest/advanced-usage.html#tls-warnings\n",
            "  warnings.warn(\n",
            "/usr/local/lib/python3.12/dist-packages/urllib3/connectionpool.py:1097: InsecureRequestWarning: Unverified HTTPS request is being made to host 'www.erowid.org'. Adding certificate verification is strongly advised. See: https://urllib3.readthedocs.io/en/latest/advanced-usage.html#tls-warnings\n",
            "  warnings.warn(\n",
            "/usr/local/lib/python3.12/dist-packages/urllib3/connectionpool.py:1097: InsecureRequestWarning: Unverified HTTPS request is being made to host 'www.erowid.org'. Adding certificate verification is strongly advised. See: https://urllib3.readthedocs.io/en/latest/advanced-usage.html#tls-warnings\n",
            "  warnings.warn(\n",
            "/usr/local/lib/python3.12/dist-packages/urllib3/connectionpool.py:1097: InsecureRequestWarning: Unverified HTTPS request is being made to host 'www.erowid.org'. Adding certificate verification is strongly advised. See: https://urllib3.readthedocs.io/en/latest/advanced-usage.html#tls-warnings\n",
            "  warnings.warn(\n",
            "/usr/local/lib/python3.12/dist-packages/urllib3/connectionpool.py:1097: InsecureRequestWarning: Unverified HTTPS request is being made to host 'www.erowid.org'. Adding certificate verification is strongly advised. See: https://urllib3.readthedocs.io/en/latest/advanced-usage.html#tls-warnings\n",
            "  warnings.warn(\n",
            "/usr/local/lib/python3.12/dist-packages/urllib3/connectionpool.py:1097: InsecureRequestWarning: Unverified HTTPS request is being made to host 'www.erowid.org'. Adding certificate verification is strongly advised. See: https://urllib3.readthedocs.io/en/latest/advanced-usage.html#tls-warnings\n",
            "  warnings.warn(\n",
            "/usr/local/lib/python3.12/dist-packages/urllib3/connectionpool.py:1097: InsecureRequestWarning: Unverified HTTPS request is being made to host 'www.erowid.org'. Adding certificate verification is strongly advised. See: https://urllib3.readthedocs.io/en/latest/advanced-usage.html#tls-warnings\n",
            "  warnings.warn(\n",
            "/usr/local/lib/python3.12/dist-packages/urllib3/connectionpool.py:1097: InsecureRequestWarning: Unverified HTTPS request is being made to host 'www.erowid.org'. Adding certificate verification is strongly advised. See: https://urllib3.readthedocs.io/en/latest/advanced-usage.html#tls-warnings\n",
            "  warnings.warn(\n",
            "/usr/local/lib/python3.12/dist-packages/urllib3/connectionpool.py:1097: InsecureRequestWarning: Unverified HTTPS request is being made to host 'www.erowid.org'. Adding certificate verification is strongly advised. See: https://urllib3.readthedocs.io/en/latest/advanced-usage.html#tls-warnings\n",
            "  warnings.warn(\n",
            "/usr/local/lib/python3.12/dist-packages/urllib3/connectionpool.py:1097: InsecureRequestWarning: Unverified HTTPS request is being made to host 'www.erowid.org'. Adding certificate verification is strongly advised. See: https://urllib3.readthedocs.io/en/latest/advanced-usage.html#tls-warnings\n",
            "  warnings.warn(\n",
            "/usr/local/lib/python3.12/dist-packages/urllib3/connectionpool.py:1097: InsecureRequestWarning: Unverified HTTPS request is being made to host 'www.erowid.org'. Adding certificate verification is strongly advised. See: https://urllib3.readthedocs.io/en/latest/advanced-usage.html#tls-warnings\n",
            "  warnings.warn(\n",
            "/usr/local/lib/python3.12/dist-packages/urllib3/connectionpool.py:1097: InsecureRequestWarning: Unverified HTTPS request is being made to host 'www.erowid.org'. Adding certificate verification is strongly advised. See: https://urllib3.readthedocs.io/en/latest/advanced-usage.html#tls-warnings\n",
            "  warnings.warn(\n"
          ]
        },
        {
          "output_type": "display_data",
          "data": {
            "text/plain": [
              "[{'link': 'https://www.erowid.org/experiences/exp.php?ID=118252',\n",
              "  'substance': 'DMT Fumarate & Harmala Alkaloids',\n",
              "  'dosechart': '<table class=\"dosechart\">\\n<tr>\\n<td align=\"right\" class=\"dosechart-time\">DOSE:<br/> T+ 0:00</td>\\n<td align=\"center\" class=\"dosechart-amount\">1 - 3 g</td>\\n<td align=\"center\" class=\"dosechart-method\">oral</td>\\n<td class=\"dosechart-substance\"><a href=\"/plants/kratom/\">Kratom</a></td>\\n<td class=\"dosechart-form\">(daily)</td>\\n</tr>\\n<tr>\\n<td align=\"right\" class=\"dosechart-time\">\\xa0 T+ 0:00</td>\\n<td align=\"center\" class=\"dosechart-amount\">210 mg</td>\\n<td align=\"center\" class=\"dosechart-method\">oral</td>\\n<td class=\"dosechart-substance\">Harmine</td>\\n<td class=\"dosechart-form\">(capsule)</td>\\n</tr>\\n<tr>\\n<td align=\"right\" class=\"dosechart-time\">\\xa0 T+ 0:00</td>\\n<td align=\"center\" class=\"dosechart-amount\">210 mg</td>\\n<td align=\"center\" class=\"dosechart-method\">oral</td>\\n<td class=\"dosechart-substance\"><a href=\"/chemicals/harmala/\">Tetrahydroharmine</a></td>\\n<td class=\"dosechart-form\">(capsule)</td>\\n</tr>\\n<tr>\\n<td align=\"right\" class=\"dosechart-time\">\\xa0 T+ 0:20</td>\\n<td align=\"center\" class=\"dosechart-amount\">50 mg</td>\\n<td align=\"center\" class=\"dosechart-method\">oral</td>\\n<td class=\"dosechart-substance\"><a href=\"/chemicals/dmt/\">DMT</a></td>\\n<td class=\"dosechart-form\">(capsule)</td>\\n</tr>\\n<tr>\\n<td align=\"right\" class=\"dosechart-time\">\\xa0 T+ 1:20</td>\\n<td align=\"center\" class=\"dosechart-amount\">35 mg</td>\\n<td align=\"center\" class=\"dosechart-method\">oral</td>\\n<td class=\"dosechart-substance\"><a href=\"/chemicals/dmt/\">DMT</a></td>\\n<td class=\"dosechart-form\">(capsule)</td>\\n</tr>\\n<tr>\\n<td align=\"right\" class=\"dosechart-time\">\\xa0 T+ 4:50</td>\\n<td align=\"center\" class=\"dosechart-amount\">2 tablets</td>\\n<td align=\"center\" class=\"dosechart-method\">oral</td>\\n<td class=\"dosechart-substance\">Skullcap</td>\\n<td class=\"dosechart-form\">(extract)</td>\\n</tr>\\n<tr>\\n<td align=\"right\" class=\"dosechart-time\">\\xa0 T+ 4:50</td>\\n<td align=\"center\" class=\"dosechart-amount\">100 ug</td>\\n<td align=\"center\" class=\"dosechart-method\">oral</td>\\n<td class=\"dosechart-substance\"><a href=\"/pharms/clonidine/\">Pharms - Clonidine</a></td>\\n<td class=\"dosechart-form\">(pill / tablet)</td>\\n</tr>\\n<tr>\\n<td align=\"right\" class=\"dosechart-time\">\\xa0 T+ 0:00</td>\\n<td align=\"center\" class=\"dosechart-amount\">100 ug</td>\\n<td align=\"center\" class=\"dosechart-method\">oral</td>\\n<td class=\"dosechart-substance\"><a href=\"/pharms/clonidine/\">Pharms - Clonidine</a></td>\\n<td class=\"dosechart-form\">(pill / tablet)</td>\\n</tr>\\n<tr>\\n<td align=\"right\" class=\"dosechart-time\">\\xa0 T+ 24:00</td>\\n<td align=\"center\" class=\"dosechart-amount\">210 mg</td>\\n<td align=\"center\" class=\"dosechart-method\">oral</td>\\n<td class=\"dosechart-substance\">Harmine</td>\\n<td class=\"dosechart-form\">(capsule)</td>\\n</tr>\\n<tr>\\n<td align=\"right\" class=\"dosechart-time\">\\xa0 T+ 24:00</td>\\n<td align=\"center\" class=\"dosechart-amount\">210 mg</td>\\n<td align=\"center\" class=\"dosechart-method\">oral</td>\\n<td class=\"dosechart-substance\"><a href=\"/chemicals/harmala/\">Tetrahydroharmine</a></td>\\n<td class=\"dosechart-form\">(capsule)</td>\\n</tr>\\n<tr>\\n<td align=\"right\" class=\"dosechart-time\">\\xa0 T+ 24:20</td>\\n<td align=\"center\" class=\"dosechart-amount\">60 mg</td>\\n<td align=\"center\" class=\"dosechart-method\">oral</td>\\n<td class=\"dosechart-substance\"><a href=\"/chemicals/dmt/\">DMT</a></td>\\n<td class=\"dosechart-form\">(capsule)</td>\\n</tr>\\n<tr>\\n<td align=\"right\" class=\"dosechart-time\">\\xa0 T+ 25:30</td>\\n<td align=\"center\" class=\"dosechart-amount\">210 mg</td>\\n<td align=\"center\" class=\"dosechart-method\">oral</td>\\n<td class=\"dosechart-substance\"><a href=\"/chemicals/harmala/\">Tetrahydroharmine</a></td>\\n<td class=\"dosechart-form\">(capsule)</td>\\n</tr>\\n<tr>\\n<td align=\"right\" class=\"dosechart-time\">\\xa0 T+ 25:30</td>\\n<td align=\"center\" class=\"dosechart-amount\">210 mg</td>\\n<td align=\"center\" class=\"dosechart-method\">oral</td>\\n<td class=\"dosechart-substance\">Harmine</td>\\n<td class=\"dosechart-form\">(capsule)</td>\\n</tr>\\n<tr>\\n<td align=\"right\" class=\"dosechart-time\">\\xa0 T+ 25:30</td>\\n<td align=\"center\" class=\"dosechart-amount\">20 mg</td>\\n<td align=\"center\" class=\"dosechart-method\">oral</td>\\n<td class=\"dosechart-substance\">Harmaline</td>\\n<td class=\"dosechart-form\">(capsule)</td>\\n</tr>\\n</table>',\n",
              "  'bodyweight': '<table class=\"bodyweight\">\\n<tr>\\n<td class=\"bodyweight-title\">BODY WEIGHT:</td>\\n<td class=\"bodyweight-amount\">135 lb</td>\\n</tr>\\n</table>',\n",
              "  'footdata': '<table class=\"footdata\">\\n<tr><td class=\"footdata-expyear\">Exp Year: 2024</td><td class=\"footdata-expid\">ExpID: 118252</td></tr>\\n<tr><td class=\"footdata-gender\">Gender: Female</td><td>\\xa0</td></tr>\\n<tr><td class=\"footdata-ageofexp\" colspan=\"2\">Age at time of experience: 36</td></tr>\\n<tr><td class=\"footdata-pubdate\">Published: Oct 25, 2024</td><td class=\"footdata-numviews\">Views: 17</td></tr>\\n<tr><td class=\"footdata-other-formats\" colspan=\"2\">[ <a href=\"exp.php?ID=118252&amp;format=pdf\" type=\"text/pdf\">View PDF (to print)</a> ] [ <a href=\"exp_pdf.php?ID=118252&amp;format=latex\">View LaTeX (for geeks)</a> ]\\n[\\xa0<a href=\"#\" onclick=\"expChangeColors(); return false;\">Swap\\xa0Dark/Light</a>\\xa0]\\n</td></tr>\\n<tr><td class=\"footdata-topic-list\" colspan=\"2\">Pharmahuasca\\xa0(822), Tetrahydroharmine\\xa0(473), Harmine\\xa0(315), DMT\\xa0(18) : Small Group (2-9)\\xa0(17), Therapeutic Intent or Outcome\\xa0(49), Combinations\\xa0(3)</td></tr>\\n<!--  <img src=\"/images/new.gif\" alt=\"May\"> -->\\n</table>'},\n",
              " {'link': 'https://www.erowid.org/experiences/exp.php?ID=112397',\n",
              "  'substance': 'DMT & Changa',\n",
              "  'dosechart': '<table class=\"dosechart\">\\n<tr>\\n<td align=\"right\" class=\"dosechart-time\">DOSE:<br/> T+ 0:00</td>\\n<td align=\"center\" class=\"dosechart-amount\">138 mg</td>\\n<td align=\"center\" class=\"dosechart-method\">smoked</td>\\n<td class=\"dosechart-substance\">Changa</td>\\n<td class=\"dosechart-form\">\\xa0</td>\\n</tr>\\n<tr>\\n<td align=\"right\" class=\"dosechart-time\">\\xa0 T+ 0:05</td>\\n<td align=\"center\" class=\"dosechart-amount\">37 mg</td>\\n<td align=\"center\" class=\"dosechart-method\">vaporized</td>\\n<td class=\"dosechart-substance\"><a href=\"/chemicals/dmt/\">DMT</a></td>\\n<td class=\"dosechart-form\">(powder / crystals)</td>\\n</tr>\\n<tr>\\n<td align=\"right\" class=\"dosechart-time\">\\xa0 T+ 0:27</td>\\n<td align=\"center\" class=\"dosechart-amount\">\\xa0 repeated</td>\\n<td align=\"center\" class=\"dosechart-method\">smoked</td>\\n<td class=\"dosechart-substance\">Changa</td>\\n<td class=\"dosechart-form\">\\xa0</td>\\n</tr>\\n</table>',\n",
              "  'bodyweight': '<table class=\"bodyweight\">\\n<tr>\\n<td class=\"bodyweight-title\">BODY WEIGHT:</td>\\n<td class=\"bodyweight-amount\">125 lb</td>\\n</tr>\\n</table>',\n",
              "  'footdata': '<table class=\"footdata\">\\n<tr><td class=\"footdata-expyear\">Exp Year: 2018</td><td class=\"footdata-expid\">ExpID: 112397</td></tr>\\n<tr><td class=\"footdata-gender\">Gender: Female</td><td>\\xa0</td></tr>\\n<tr><td class=\"footdata-ageofexp\" colspan=\"2\">Age at time of experience: 25</td></tr>\\n<tr><td class=\"footdata-pubdate\">Published: Sep 24, 2018</td><td class=\"footdata-numviews\">Views: 16,930</td></tr>\\n<tr><td class=\"footdata-other-formats\" colspan=\"2\">[ <a href=\"exp.php?ID=112397&amp;format=pdf\" type=\"text/pdf\">View PDF (to print)</a> ] [ <a href=\"exp_pdf.php?ID=112397&amp;format=latex\">View LaTeX (for geeks)</a> ]\\n[\\xa0<a href=\"#\" onclick=\"expChangeColors(); return false;\">Swap\\xa0Dark/Light</a>\\xa0]\\n</td></tr>\\n<tr><td class=\"footdata-topic-list\" colspan=\"2\">Changa\\xa0(816), DMT\\xa0(18) : Small Group (2-9)\\xa0(17), Guides / Sitters\\xa0(39), Nature / Outdoors\\xa0(23), Glowing Experiences\\xa0(4), Combinations\\xa0(3), First Times\\xa0(2), General\\xa0(1)</td></tr>\\n<!--  <img src=\"/images/new.gif\" alt=\"May\"> -->\\n</table>'},\n",
              " {'link': 'https://www.erowid.org/experiences/exp.php?ID=96444',\n",
              "  'substance': 'DMT & Methoxetamine',\n",
              "  'dosechart': '<table class=\"dosechart\">\\n<tr>\\n<td align=\"right\" class=\"dosechart-time\">DOSE:<br/></td>\\n<td align=\"center\" class=\"dosechart-amount\">75 mg</td>\\n<td align=\"center\" class=\"dosechart-method\">insufflated</td>\\n<td class=\"dosechart-substance\"><a href=\"/chemicals/methoxetamine/\">Methoxetamine</a></td>\\n<td class=\"dosechart-form\">(powder / crystals)</td>\\n</tr>\\n<tr>\\n<td align=\"right\" class=\"dosechart-time\">\\xa0</td>\\n<td align=\"center\" class=\"dosechart-amount\">75 mg</td>\\n<td align=\"center\" class=\"dosechart-method\">smoked</td>\\n<td class=\"dosechart-substance\"><a href=\"/chemicals/dmt/\">DMT</a></td>\\n<td class=\"dosechart-form\">(powder / crystals)</td>\\n</tr>\\n</table>',\n",
              "  'bodyweight': '<table class=\"bodyweight\">\\n<tr>\\n<td class=\"bodyweight-title\">BODY WEIGHT:</td>\\n<td class=\"bodyweight-amount\">150 lb</td>\\n</tr>\\n</table>',\n",
              "  'footdata': '<table class=\"footdata\">\\n<tr><td class=\"footdata-expyear\">Exp Year: 2011</td><td class=\"footdata-expid\">ExpID: 96444</td></tr>\\n<tr><td class=\"footdata-gender\">Gender: Male</td><td>\\xa0</td></tr>\\n<tr><td class=\"footdata-ageofexp\" colspan=\"2\">Age at time of experience: 21</td></tr>\\n<tr><td class=\"footdata-pubdate\">Published: Oct 10, 2012</td><td class=\"footdata-numviews\">Views: 137,210</td></tr>\\n<tr><td class=\"footdata-other-formats\" colspan=\"2\">[ <a href=\"exp.php?ID=96444&amp;format=pdf\" type=\"text/pdf\">View PDF (to print)</a> ] [ <a href=\"exp_pdf.php?ID=96444&amp;format=latex\">View LaTeX (for geeks)</a> ]\\n[\\xa0<a href=\"#\" onclick=\"expChangeColors(); return false;\">Swap\\xa0Dark/Light</a>\\xa0]\\n</td></tr>\\n<tr><td class=\"footdata-topic-list\" colspan=\"2\">DMT\\xa0(18), Methoxetamine\\xa0(527) : General\\xa0(1), First Times\\xa0(2), Combinations\\xa0(3), Mystical Experiences\\xa0(9), Music Discussion\\xa0(22), Entities / Beings\\xa0(37), Hangover / Days After\\xa0(46), Alone\\xa0(16)</td></tr>\\n<!--  <img src=\"/images/new.gif\" alt=\"May\"> -->\\n</table>'},\n",
              " {'link': 'https://www.erowid.org/experiences/exp.php?ID=64048',\n",
              "  'substance': 'Syrian Rue, Cacti - T. peruvianus, 2C-E, 4-AcO-DMT & DMT',\n",
              "  'dosechart': '<table class=\"dosechart\">\\n<tr>\\n<td align=\"right\" class=\"dosechart-time\">DOSE:<br/> T+ 0:00</td>\\n<td align=\"center\" class=\"dosechart-amount\">3.0 g</td>\\n<td align=\"center\" class=\"dosechart-method\">oral</td>\\n<td class=\"dosechart-substance\"><a href=\"/plants/syrian_rue/\">Syrian Rue</a></td>\\n<td class=\"dosechart-form\">(ground / crushed)</td>\\n</tr>\\n<tr>\\n<td align=\"right\" class=\"dosechart-time\">\\xa0 T+ 0:00</td>\\n<td align=\"center\" class=\"dosechart-amount\">30 g</td>\\n<td align=\"center\" class=\"dosechart-method\">oral</td>\\n<td class=\"dosechart-substance\"><a href=\"/plants/cacti/\">Cacti - T. peruvianus</a></td>\\n<td class=\"dosechart-form\">(dried)</td>\\n</tr>\\n<tr>\\n<td align=\"right\" class=\"dosechart-time\">\\xa0 T+ 2:00</td>\\n<td align=\"center\" class=\"dosechart-amount\">3.0 mg</td>\\n<td align=\"center\" class=\"dosechart-method\">IM</td>\\n<td class=\"dosechart-substance\"><a href=\"/chemicals/2ce/\">2C-E</a></td>\\n<td class=\"dosechart-form\">\\xa0</td>\\n</tr>\\n<tr>\\n<td align=\"right\" class=\"dosechart-time\">\\xa0 T+ 3:00</td>\\n<td align=\"center\" class=\"dosechart-amount\">10 mg</td>\\n<td align=\"center\" class=\"dosechart-method\">oral</td>\\n<td class=\"dosechart-substance\"><a href=\"/chemicals/4_acetoxy_dmt/\">4-AcO-DMT</a></td>\\n<td class=\"dosechart-form\">(liquid)</td>\\n</tr>\\n<tr>\\n<td align=\"right\" class=\"dosechart-time\">\\xa0 T+ 5:00</td>\\n<td align=\"center\" class=\"dosechart-amount\">25 mg</td>\\n<td align=\"center\" class=\"dosechart-method\">IM</td>\\n<td class=\"dosechart-substance\"><a href=\"/chemicals/dmt/\">DMT</a></td>\\n<td class=\"dosechart-form\">\\xa0</td>\\n</tr>\\n<tr>\\n<td align=\"right\" class=\"dosechart-time\">\\xa0 T+ 5:09</td>\\n<td align=\"center\" class=\"dosechart-amount\">25 mg</td>\\n<td align=\"center\" class=\"dosechart-method\">IM</td>\\n<td class=\"dosechart-substance\"><a href=\"/chemicals/dmt/\">DMT</a></td>\\n<td class=\"dosechart-form\">\\xa0</td>\\n</tr>\\n</table>',\n",
              "  'bodyweight': '<table class=\"bodyweight\">\\n<tr>\\n<td class=\"bodyweight-title\">BODY WEIGHT:</td>\\n<td class=\"bodyweight-amount\">170 lb</td>\\n</tr>\\n</table>',\n",
              "  'footdata': '<table class=\"footdata\">\\n<tr><td class=\"footdata-expyear\">Exp Year: 2007</td><td class=\"footdata-expid\">ExpID: 64048</td></tr>\\n<tr><td class=\"footdata-gender\">Gender: Male</td><td>\\xa0</td></tr>\\n<tr><td class=\"footdata-ageofexp\" colspan=\"2\">Age at time of experience: Not Given</td></tr>\\n<tr><td class=\"footdata-pubdate\">Published: Jun 28, 2007</td><td class=\"footdata-numviews\">Views: 67,270</td></tr>\\n<tr><td class=\"footdata-other-formats\" colspan=\"2\">[ <a href=\"exp.php?ID=64048&amp;format=pdf\" type=\"text/pdf\">View PDF (to print)</a> ] [ <a href=\"exp_pdf.php?ID=64048&amp;format=latex\">View LaTeX (for geeks)</a> ]\\n[\\xa0<a href=\"#\" onclick=\"expChangeColors(); return false;\">Swap\\xa0Dark/Light</a>\\xa0]\\n</td></tr>\\n<tr><td class=\"footdata-topic-list\" colspan=\"2\">Huasca Combo\\xa0(269), 2C-E\\xa0(137), 4-AcO-DMT\\xa0(387), DMT\\xa0(18), Cacti - T. peruvianus\\xa0(69), Syrian Rue\\xa0(45) : Alone\\xa0(16), Combinations\\xa0(3)</td></tr>\\n<!--  <img src=\"/images/new.gif\" alt=\"May\"> -->\\n</table>'},\n",
              " {'link': 'https://www.erowid.org/experiences/exp.php?ID=62835',\n",
              "  'substance': 'DMT',\n",
              "  'dosechart': '<table class=\"dosechart\">\\n<tr>\\n<td align=\"right\" class=\"dosechart-time\">DOSE:<br/></td>\\n<td align=\"center\" class=\"dosechart-amount\">\\xa0 </td>\\n<td align=\"center\" class=\"dosechart-method\">smoked</td>\\n<td class=\"dosechart-substance\"><a href=\"/chemicals/dmt/\">DMT</a></td>\\n<td class=\"dosechart-form\">(freebase)</td>\\n</tr>\\n</table>',\n",
              "  'bodyweight': '<table class=\"bodyweight\">\\n<tr>\\n<td class=\"bodyweight-title\">BODY WEIGHT:</td>\\n<td class=\"bodyweight-amount\">70 kg</td>\\n</tr>\\n</table>',\n",
              "  'footdata': '<table class=\"footdata\">\\n<tr><td class=\"footdata-expyear\">Exp Year: 2007</td><td class=\"footdata-expid\">ExpID: 62835</td></tr>\\n<tr><td class=\"footdata-gender\">Gender: Male</td><td>\\xa0</td></tr>\\n<tr><td class=\"footdata-ageofexp\" colspan=\"2\">Age at time of experience: Not Given</td></tr>\\n<tr><td class=\"footdata-pubdate\">Published: May 24, 2007</td><td class=\"footdata-numviews\">Views: 163,085</td></tr>\\n<tr><td class=\"footdata-other-formats\" colspan=\"2\">[ <a href=\"exp.php?ID=62835&amp;format=pdf\" type=\"text/pdf\">View PDF (to print)</a> ] [ <a href=\"exp_pdf.php?ID=62835&amp;format=latex\">View LaTeX (for geeks)</a> ]\\n[\\xa0<a href=\"#\" onclick=\"expChangeColors(); return false;\">Swap\\xa0Dark/Light</a>\\xa0]\\n</td></tr>\\n<tr><td class=\"footdata-topic-list\" colspan=\"2\">DMT\\xa0(18) : Alone\\xa0(16), Retrospective / Summary\\xa0(11), General\\xa0(1)</td></tr>\\n<!--  <img src=\"/images/new.gif\" alt=\"May\"> -->\\n</table>'},\n",
              " {'link': 'https://www.erowid.org/experiences/exp.php?ID=34866',\n",
              "  'substance': 'Pharmahuasca (Harmaline & 5-MeO-DMT) & DMT',\n",
              "  'dosechart': '<table class=\"dosechart\">\\n<tr>\\n<td align=\"right\" class=\"dosechart-time\">DOSE:<br/> T+ 0:00</td>\\n<td align=\"center\" class=\"dosechart-amount\">150 mg</td>\\n<td align=\"center\" class=\"dosechart-method\">oral</td>\\n<td class=\"dosechart-substance\">Harmaline</td>\\n<td class=\"dosechart-form\">(pill / tablet)</td>\\n</tr>\\n<tr>\\n<td align=\"right\" class=\"dosechart-time\">\\xa0 T+ 0:20</td>\\n<td align=\"center\" class=\"dosechart-amount\">40 mg</td>\\n<td align=\"center\" class=\"dosechart-method\">oral</td>\\n<td class=\"dosechart-substance\"><a href=\"/chemicals/5meo_dmt/\">5-MeO-DMT</a></td>\\n<td class=\"dosechart-form\">(pill / tablet)</td>\\n</tr>\\n<tr>\\n<td align=\"right\" class=\"dosechart-time\">\\xa0 T+ 24:00</td>\\n<td align=\"center\" class=\"dosechart-amount\">20 mg</td>\\n<td align=\"center\" class=\"dosechart-method\">smoked</td>\\n<td class=\"dosechart-substance\"><a href=\"/chemicals/dmt/\">DMT</a></td>\\n<td class=\"dosechart-form\">(powder / crystals)</td>\\n</tr>\\n</table>',\n",
              "  'bodyweight': '<table class=\"bodyweight\">\\n<tr>\\n<td class=\"bodyweight-title\">BODY WEIGHT:</td>\\n<td class=\"bodyweight-amount\">115 lb</td>\\n</tr>\\n</table>',\n",
              "  'footdata': '<table class=\"footdata\">\\n<tr><td class=\"footdata-expyear\">Exp Year: 1999</td><td class=\"footdata-expid\">ExpID: 34866</td></tr>\\n<tr><td class=\"footdata-gender\">Gender: Male</td><td>\\xa0</td></tr>\\n<tr><td class=\"footdata-ageofexp\" colspan=\"2\">Age at time of experience: Not Given</td></tr>\\n<tr><td class=\"footdata-pubdate\">Published: Jul 7, 2004</td><td class=\"footdata-numviews\">Views: 142,077</td></tr>\\n<tr><td class=\"footdata-other-formats\" colspan=\"2\">[ <a href=\"exp.php?ID=34866&amp;format=pdf\" type=\"text/pdf\">View PDF (to print)</a> ] [ <a href=\"exp_pdf.php?ID=34866&amp;format=latex\">View LaTeX (for geeks)</a> ]\\n[\\xa0<a href=\"#\" onclick=\"expChangeColors(); return false;\">Swap\\xa0Dark/Light</a>\\xa0]\\n</td></tr>\\n<tr><td class=\"footdata-topic-list\" colspan=\"2\">DMT\\xa0(18), 5-MeO-DMT\\xa0(58), Harmaline\\xa0(314), Pharmahuasca\\xa0(822) : Small Group (2-9)\\xa0(17), Multi-Day Experience\\xa0(13), Guides / Sitters\\xa0(39), Entities / Beings\\xa0(37), Nature / Outdoors\\xa0(23), Mystical Experiences\\xa0(9), Glowing Experiences\\xa0(4), Difficult Experiences\\xa0(5), Combinations\\xa0(3), First Times\\xa0(2), General\\xa0(1)</td></tr>\\n<!--  <img src=\"/images/new.gif\" alt=\"May\"> -->\\n</table>'},\n",
              " {'link': 'https://www.erowid.org/experiences/exp.php?ID=113441',\n",
              "  'substance': 'Ketamine & DMT',\n",
              "  'dosechart': '<table class=\"dosechart\">\\n<tr>\\n<td align=\"right\" class=\"dosechart-time\">DOSE:<br/> T+ 0:00</td>\\n<td align=\"center\" class=\"dosechart-amount\">35 mg</td>\\n<td align=\"center\" class=\"dosechart-method\">insufflated</td>\\n<td class=\"dosechart-substance\"><a href=\"/chemicals/ketamine/\">Ketamine</a></td>\\n<td class=\"dosechart-form\">(powder / crystals)</td>\\n</tr>\\n<tr>\\n<td align=\"right\" class=\"dosechart-time\">\\xa0 T+ 0:21</td>\\n<td align=\"center\" class=\"dosechart-amount\">96 mg</td>\\n<td align=\"center\" class=\"dosechart-method\">insufflated</td>\\n<td class=\"dosechart-substance\"><a href=\"/chemicals/ketamine/\">Ketamine</a></td>\\n<td class=\"dosechart-form\">(powder / crystals)</td>\\n</tr>\\n<tr>\\n<td align=\"right\" class=\"dosechart-time\">\\xa0 T+ 0:53</td>\\n<td align=\"center\" class=\"dosechart-amount\">31 mg</td>\\n<td align=\"center\" class=\"dosechart-method\">vaporized</td>\\n<td class=\"dosechart-substance\"><a href=\"/chemicals/dmt/\">DMT</a></td>\\n<td class=\"dosechart-form\">(powder / crystals)</td>\\n</tr>\\n<tr>\\n<td align=\"right\" class=\"dosechart-time\">\\xa0 T+ 2:00</td>\\n<td align=\"center\" class=\"dosechart-amount\">12 oz</td>\\n<td align=\"center\" class=\"dosechart-method\">oral</td>\\n<td class=\"dosechart-substance\"><a href=\"/chemicals/alcohol/\">Alcohol - Beer/Wine</a></td>\\n<td class=\"dosechart-form\">(liquid)</td>\\n</tr>\\n<tr>\\n<td align=\"right\" class=\"dosechart-time\">\\xa0 T+ 2:19</td>\\n<td align=\"center\" class=\"dosechart-amount\">12 oz</td>\\n<td align=\"center\" class=\"dosechart-method\">oral</td>\\n<td class=\"dosechart-substance\"><a href=\"/chemicals/alcohol/\">Alcohol - Beer/Wine</a></td>\\n<td class=\"dosechart-form\">(liquid)</td>\\n</tr>\\n</table>',\n",
              "  'bodyweight': '<table class=\"bodyweight\">\\n<tr>\\n<td class=\"bodyweight-title\">BODY WEIGHT:</td>\\n<td class=\"bodyweight-amount\">184 lb</td>\\n</tr>\\n</table>',\n",
              "  'footdata': '<table class=\"footdata\">\\n<tr><td class=\"footdata-expyear\">Exp Year: 2019</td><td class=\"footdata-expid\">ExpID: 113441</td></tr>\\n<tr><td class=\"footdata-gender\">Gender: Male</td><td>\\xa0</td></tr>\\n<tr><td class=\"footdata-ageofexp\" colspan=\"2\">Age at time of experience: 29</td></tr>\\n<tr><td class=\"footdata-pubdate\">Published: Aug 2, 2019</td><td class=\"footdata-numviews\">Views: 9,750</td></tr>\\n<tr><td class=\"footdata-other-formats\" colspan=\"2\">[ <a href=\"exp.php?ID=113441&amp;format=pdf\" type=\"text/pdf\">View PDF (to print)</a> ] [ <a href=\"exp_pdf.php?ID=113441&amp;format=latex\">View LaTeX (for geeks)</a> ]\\n[\\xa0<a href=\"#\" onclick=\"expChangeColors(); return false;\">Swap\\xa0Dark/Light</a>\\xa0]\\n</td></tr>\\n<tr><td class=\"footdata-topic-list\" colspan=\"2\">DMT\\xa0(18), Ketamine\\xa0(31) : Small Group (2-9)\\xa0(17), Personal Preparation\\xa0(45), Combinations\\xa0(3)</td></tr>\\n<!--  <img src=\"/images/new.gif\" alt=\"May\"> -->\\n</table>'},\n",
              " {'link': 'https://www.erowid.org/experiences/exp.php?ID=113133',\n",
              "  'substance': 'DMT',\n",
              "  'dosechart': '<table class=\"dosechart\">\\n<tr>\\n<td align=\"right\" class=\"dosechart-time\">DOSE:<br/></td>\\n<td align=\"center\" class=\"dosechart-amount\">2 hits</td>\\n<td align=\"center\" class=\"dosechart-method\">vaporized</td>\\n<td class=\"dosechart-substance\"><a href=\"/chemicals/dmt/\">DMT</a></td>\\n</tr>\\n</table>',\n",
              "  'bodyweight': '<table class=\"bodyweight\">\\n<tr>\\n<td class=\"bodyweight-title\">BODY WEIGHT:</td>\\n<td class=\"bodyweight-amount\">150 lb</td>\\n</tr>\\n</table>',\n",
              "  'footdata': '<table class=\"footdata\">\\n<tr><td class=\"footdata-expyear\">Exp Year: 2018</td><td class=\"footdata-expid\">ExpID: 113133</td></tr>\\n<tr><td class=\"footdata-gender\">Gender: Male</td><td>\\xa0</td></tr>\\n<tr><td class=\"footdata-ageofexp\" colspan=\"2\">Age at time of experience: 23</td></tr>\\n<tr><td class=\"footdata-pubdate\">Published: May 4, 2019</td><td class=\"footdata-numviews\">Views: 21,572</td></tr>\\n<tr><td class=\"footdata-other-formats\" colspan=\"2\">[ <a href=\"exp.php?ID=113133&amp;format=pdf\" type=\"text/pdf\">View PDF (to print)</a> ] [ <a href=\"exp_pdf.php?ID=113133&amp;format=latex\">View LaTeX (for geeks)</a> ]\\n[\\xa0<a href=\"#\" onclick=\"expChangeColors(); return false;\">Swap\\xa0Dark/Light</a>\\xa0]\\n</td></tr>\\n<tr><td class=\"footdata-topic-list\" colspan=\"2\">DMT\\xa0(18) : Small Group (2-9)\\xa0(17), First Times\\xa0(2), General\\xa0(1)</td></tr>\\n<!--  <img src=\"/images/new.gif\" alt=\"May\"> -->\\n</table>'},\n",
              " {'link': 'https://www.erowid.org/experiences/exp.php?ID=99695',\n",
              "  'substance': 'DMT',\n",
              "  'dosechart': '<table class=\"dosechart\">\\n<tr>\\n<td align=\"right\" class=\"dosechart-time\">DOSE:<br/></td>\\n<td align=\"center\" class=\"dosechart-amount\">40 mg</td>\\n<td align=\"center\" class=\"dosechart-method\">smoked</td>\\n<td class=\"dosechart-substance\"><a href=\"/chemicals/dmt/\">DMT</a></td>\\n<td class=\"dosechart-form\">(powder / crystals)</td>\\n</tr>\\n<tr>\\n<td align=\"right\" class=\"dosechart-time\">\\xa0</td>\\n<td align=\"center\" class=\"dosechart-amount\">\\xa0 </td>\\n<td align=\"center\" class=\"dosechart-method\">smoked</td>\\n<td class=\"dosechart-substance\"><a href=\"/plants/cannabis/\">Cannabis</a></td>\\n<td class=\"dosechart-form\">\\xa0</td>\\n</tr>\\n</table>',\n",
              "  'bodyweight': '<table class=\"bodyweight\">\\n<tr>\\n<td class=\"bodyweight-title\">BODY WEIGHT:</td>\\n<td class=\"bodyweight-amount\">160 lb</td>\\n</tr>\\n</table>',\n",
              "  'footdata': '<table class=\"footdata\">\\n<tr><td class=\"footdata-expyear\">Exp Year: 2011</td><td class=\"footdata-expid\">ExpID: 99695</td></tr>\\n<tr><td class=\"footdata-gender\">Gender: Male</td><td>\\xa0</td></tr>\\n<tr><td class=\"footdata-ageofexp\" colspan=\"2\">Age at time of experience: 19</td></tr>\\n<tr><td class=\"footdata-pubdate\">Published: Nov 30, 2017</td><td class=\"footdata-numviews\">Views: 17,122</td></tr>\\n<tr><td class=\"footdata-other-formats\" colspan=\"2\">[ <a href=\"exp.php?ID=99695&amp;format=pdf\" type=\"text/pdf\">View PDF (to print)</a> ] [ <a href=\"exp_pdf.php?ID=99695&amp;format=latex\">View LaTeX (for geeks)</a> ]\\n[\\xa0<a href=\"#\" onclick=\"expChangeColors(); return false;\">Swap\\xa0Dark/Light</a>\\xa0]\\n</td></tr>\\n<tr><td class=\"footdata-topic-list\" colspan=\"2\">DMT\\xa0(18) : Families\\xa0(41), Entities / Beings\\xa0(37), Guides / Sitters\\xa0(39), First Times\\xa0(2), Small Group (2-9)\\xa0(17)</td></tr>\\n<!--  <img src=\"/images/new.gif\" alt=\"May\"> -->\\n</table>'},\n",
              " {'link': 'https://www.erowid.org/experiences/exp.php?ID=94632',\n",
              "  'substance': 'DMT',\n",
              "  'dosechart': '<table class=\"dosechart\">\\n<tr>\\n<td align=\"right\" class=\"dosechart-time\">DOSE:<br/></td>\\n<td align=\"center\" class=\"dosechart-amount\">35 mg</td>\\n<td align=\"center\" class=\"dosechart-method\">smoked</td>\\n<td class=\"dosechart-substance\"><a href=\"/chemicals/dmt/\">DMT</a></td>\\n<td class=\"dosechart-form\">(powder / crystals)</td>\\n</tr>\\n<tr>\\n<td align=\"right\" class=\"dosechart-time\">\\xa0</td>\\n<td align=\"center\" class=\"dosechart-amount\">\\xa0 </td>\\n<td align=\"center\" class=\"dosechart-method\">smoked</td>\\n<td class=\"dosechart-substance\"><a href=\"/plants/cannabis/\">Cannabis</a></td>\\n<td class=\"dosechart-form\">(plant material)</td>\\n</tr>\\n</table>',\n",
              "  'bodyweight': '<table class=\"bodyweight\">\\n<tr>\\n<td class=\"bodyweight-title\">BODY WEIGHT:</td>\\n<td class=\"bodyweight-amount\">185 lb</td>\\n</tr>\\n</table>',\n",
              "  'footdata': '<table class=\"footdata\">\\n<tr><td class=\"footdata-expyear\">Exp Year: 2012</td><td class=\"footdata-expid\">ExpID: 94632</td></tr>\\n<tr><td class=\"footdata-gender\">Gender: Male</td><td>\\xa0</td></tr>\\n<tr><td class=\"footdata-ageofexp\" colspan=\"2\">Age at time of experience: 21</td></tr>\\n<tr><td class=\"footdata-pubdate\">Published: Oct 27, 2016</td><td class=\"footdata-numviews\">Views: 14,636</td></tr>\\n<tr><td class=\"footdata-other-formats\" colspan=\"2\">[ <a href=\"exp.php?ID=94632&amp;format=pdf\" type=\"text/pdf\">View PDF (to print)</a> ] [ <a href=\"exp_pdf.php?ID=94632&amp;format=latex\">View LaTeX (for geeks)</a> ]\\n[\\xa0<a href=\"#\" onclick=\"expChangeColors(); return false;\">Swap\\xa0Dark/Light</a>\\xa0]\\n</td></tr>\\n<tr><td class=\"footdata-topic-list\" colspan=\"2\">DMT\\xa0(18) : Small Group (2-9)\\xa0(17), Personal Preparation\\xa0(45), Hangover / Days After\\xa0(46), Guides / Sitters\\xa0(39), Entities / Beings\\xa0(37), Mystical Experiences\\xa0(9)</td></tr>\\n<!--  <img src=\"/images/new.gif\" alt=\"May\"> -->\\n</table>'},\n",
              " {'link': 'https://www.erowid.org/experiences/exp.php?ID=103790',\n",
              "  'substance': 'Huasca Combo (Syrian Rue & DMT)',\n",
              "  'dosechart': '<table class=\"dosechart\">\\n<tr>\\n<td align=\"right\" class=\"dosechart-time\">DOSE:<br/> T+ 0:00</td>\\n<td align=\"center\" class=\"dosechart-amount\">3.5 g</td>\\n<td align=\"center\" class=\"dosechart-method\">oral</td>\\n<td class=\"dosechart-substance\"><a href=\"/plants/syrian_rue/\">Syrian Rue</a></td>\\n<td class=\"dosechart-form\">(tea)</td>\\n</tr>\\n<tr>\\n<td align=\"right\" class=\"dosechart-time\">\\xa0 T+ 4:00</td>\\n<td align=\"center\" class=\"dosechart-amount\">50 mg</td>\\n<td align=\"center\" class=\"dosechart-method\">vaporized</td>\\n<td class=\"dosechart-substance\"><a href=\"/chemicals/dmt/\">DMT</a></td>\\n<td class=\"dosechart-form\">(powder / crystals)</td>\\n</tr>\\n</table>',\n",
              "  'bodyweight': '<table class=\"bodyweight\">\\n<tr>\\n<td class=\"bodyweight-title\">BODY WEIGHT:</td>\\n<td class=\"bodyweight-amount\">140 lb</td>\\n</tr>\\n</table>',\n",
              "  'footdata': '<table class=\"footdata\">\\n<tr><td class=\"footdata-expyear\">Exp Year: 2014</td><td class=\"footdata-expid\">ExpID: 103790</td></tr>\\n<tr><td class=\"footdata-gender\">Gender: Male</td><td>\\xa0</td></tr>\\n<tr><td class=\"footdata-ageofexp\" colspan=\"2\">Age at time of experience: 22</td></tr>\\n<tr><td class=\"footdata-pubdate\">Published: Jul 11, 2016</td><td class=\"footdata-numviews\">Views: 21,507</td></tr>\\n<tr><td class=\"footdata-other-formats\" colspan=\"2\">[ <a href=\"exp.php?ID=103790&amp;format=pdf\" type=\"text/pdf\">View PDF (to print)</a> ] [ <a href=\"exp_pdf.php?ID=103790&amp;format=latex\">View LaTeX (for geeks)</a> ]\\n[\\xa0<a href=\"#\" onclick=\"expChangeColors(); return false;\">Swap\\xa0Dark/Light</a>\\xa0]\\n</td></tr>\\n<tr><td class=\"footdata-topic-list\" colspan=\"2\">Huasca Combo\\xa0(269), Syrian Rue\\xa0(45), DMT\\xa0(18) : Small Group (2-9)\\xa0(17), General\\xa0(1)</td></tr>\\n<!--  <img src=\"/images/new.gif\" alt=\"May\"> -->\\n</table>'},\n",
              " {'link': 'https://www.erowid.org/experiences/exp.php?ID=96614',\n",
              "  'substance': 'DMT',\n",
              "  'dosechart': '<table class=\"dosechart\">\\n<tr>\\n<td align=\"right\" class=\"dosechart-time\">DOSE:<br/> T+ 0:00</td>\\n<td align=\"center\" class=\"dosechart-amount\">60 mg</td>\\n<td align=\"center\" class=\"dosechart-method\">vaporized</td>\\n<td class=\"dosechart-substance\"><a href=\"/chemicals/dmt/\">DMT</a></td>\\n<td class=\"dosechart-form\">(powder / crystals)</td>\\n</tr>\\n<tr>\\n<td align=\"right\" class=\"dosechart-time\">\\xa0 T+ 3:00</td>\\n<td align=\"center\" class=\"dosechart-amount\">170 mg</td>\\n<td align=\"center\" class=\"dosechart-method\">vaporized</td>\\n<td class=\"dosechart-substance\"><a href=\"/chemicals/dmt/\">DMT</a></td>\\n<td class=\"dosechart-form\">(powder / crystals)</td>\\n</tr>\\n</table>',\n",
              "  'bodyweight': '<table class=\"bodyweight\">\\n<tr>\\n<td class=\"bodyweight-title\">BODY WEIGHT:</td>\\n<td class=\"bodyweight-amount\">160 lb</td>\\n</tr>\\n</table>',\n",
              "  'footdata': '<table class=\"footdata\">\\n<tr><td class=\"footdata-expyear\">Exp Year: 2012</td><td class=\"footdata-expid\">ExpID: 96614</td></tr>\\n<tr><td class=\"footdata-gender\">Gender: Male</td><td>\\xa0</td></tr>\\n<tr><td class=\"footdata-ageofexp\" colspan=\"2\">Age at time of experience: 25</td></tr>\\n<tr><td class=\"footdata-pubdate\">Published: Jun 27, 2016</td><td class=\"footdata-numviews\">Views: 37,617</td></tr>\\n<tr><td class=\"footdata-other-formats\" colspan=\"2\">[ <a href=\"exp.php?ID=96614&amp;format=pdf\" type=\"text/pdf\">View PDF (to print)</a> ] [ <a href=\"exp_pdf.php?ID=96614&amp;format=latex\">View LaTeX (for geeks)</a> ]\\n[\\xa0<a href=\"#\" onclick=\"expChangeColors(); return false;\">Swap\\xa0Dark/Light</a>\\xa0]\\n</td></tr>\\n<tr><td class=\"footdata-topic-list\" colspan=\"2\">DMT\\xa0(18) : Guides / Sitters\\xa0(39), Mystical Experiences\\xa0(9), General\\xa0(1), Alone\\xa0(16)</td></tr>\\n<!--  <img src=\"/images/new.gif\" alt=\"May\"> -->\\n</table>'},\n",
              " {'link': 'https://www.erowid.org/experiences/exp.php?ID=106677',\n",
              "  'substance': 'DMT',\n",
              "  'dosechart': '<table class=\"dosechart\">\\n<tr>\\n<td align=\"right\" class=\"dosechart-time\">DOSE:<br/></td>\\n<td align=\"center\" class=\"dosechart-amount\">\\xa0 </td>\\n<td align=\"center\" class=\"dosechart-method\">smoked</td>\\n<td class=\"dosechart-substance\"><a href=\"/chemicals/dmt/\">DMT</a></td>\\n</tr>\\n</table>',\n",
              "  'bodyweight': '<table class=\"bodyweight\">\\n<tr>\\n<td class=\"bodyweight-title\">BODY WEIGHT:</td>\\n<td class=\"bodyweight-amount\">170 lb</td>\\n</tr>\\n</table>',\n",
              "  'footdata': '<table class=\"footdata\">\\n<tr><td class=\"footdata-expyear\">Exp Year: 2014</td><td class=\"footdata-expid\">ExpID: 106677</td></tr>\\n<tr><td class=\"footdata-gender\">Gender: Male</td><td>\\xa0</td></tr>\\n<tr><td class=\"footdata-ageofexp\" colspan=\"2\">Age at time of experience: 45</td></tr>\\n<tr><td class=\"footdata-pubdate\">Published: Jun 9, 2016</td><td class=\"footdata-numviews\">Views: 11,068</td></tr>\\n<tr><td class=\"footdata-other-formats\" colspan=\"2\">[ <a href=\"exp.php?ID=106677&amp;format=pdf\" type=\"text/pdf\">View PDF (to print)</a> ] [ <a href=\"exp_pdf.php?ID=106677&amp;format=latex\">View LaTeX (for geeks)</a> ]\\n[\\xa0<a href=\"#\" onclick=\"expChangeColors(); return false;\">Swap\\xa0Dark/Light</a>\\xa0]\\n</td></tr>\\n<tr><td class=\"footdata-topic-list\" colspan=\"2\">DMT\\xa0(18) : Small Group (2-9)\\xa0(17), Entities / Beings\\xa0(37), Retrospective / Summary\\xa0(11)</td></tr>\\n<!--  <img src=\"/images/new.gif\" alt=\"May\"> -->\\n</table>'},\n",
              " {'link': 'https://www.erowid.org/experiences/exp.php?ID=89887',\n",
              "  'substance': 'DMT',\n",
              "  'dosechart': '<table class=\"dosechart\">\\n<tr>\\n<td align=\"right\" class=\"dosechart-time\">DOSE:<br/> T+ 0:00</td>\\n<td align=\"center\" class=\"dosechart-amount\">50 mg</td>\\n<td align=\"center\" class=\"dosechart-method\">vaporized</td>\\n<td class=\"dosechart-substance\"><a href=\"/chemicals/dmt/\">DMT</a></td>\\n<td class=\"dosechart-form\">(powder / crystals)</td>\\n</tr>\\n<tr>\\n<td align=\"right\" class=\"dosechart-time\">\\xa0 T+ 24:00</td>\\n<td align=\"center\" class=\"dosechart-amount\">50 mg</td>\\n<td align=\"center\" class=\"dosechart-method\">vaporized</td>\\n<td class=\"dosechart-substance\"><a href=\"/chemicals/dmt/\">DMT</a></td>\\n<td class=\"dosechart-form\">(powder / crystals)</td>\\n</tr>\\n<tr>\\n<td align=\"right\" class=\"dosechart-time\">\\xa0 T+ 48:00</td>\\n<td align=\"center\" class=\"dosechart-amount\">50 mg</td>\\n<td align=\"center\" class=\"dosechart-method\">vaporized</td>\\n<td class=\"dosechart-substance\"><a href=\"/chemicals/dmt/\">DMT</a></td>\\n<td class=\"dosechart-form\">(powder / crystals)</td>\\n</tr>\\n</table>',\n",
              "  'bodyweight': '<table class=\"bodyweight\">\\n<tr>\\n<td class=\"bodyweight-title\">BODY WEIGHT:</td>\\n<td class=\"bodyweight-amount\">125 lb</td>\\n</tr>\\n</table>',\n",
              "  'footdata': '<table class=\"footdata\">\\n<tr><td class=\"footdata-expyear\">Exp Year: 2011</td><td class=\"footdata-expid\">ExpID: 89887</td></tr>\\n<tr><td class=\"footdata-gender\">Gender: Male</td><td>\\xa0</td></tr>\\n<tr><td class=\"footdata-ageofexp\" colspan=\"2\">Age at time of experience: 18</td></tr>\\n<tr><td class=\"footdata-pubdate\">Published: Feb 7, 2016</td><td class=\"footdata-numviews\">Views: 29,061</td></tr>\\n<tr><td class=\"footdata-other-formats\" colspan=\"2\">[ <a href=\"exp.php?ID=89887&amp;format=pdf\" type=\"text/pdf\">View PDF (to print)</a> ] [ <a href=\"exp_pdf.php?ID=89887&amp;format=latex\">View LaTeX (for geeks)</a> ]\\n[\\xa0<a href=\"#\" onclick=\"expChangeColors(); return false;\">Swap\\xa0Dark/Light</a>\\xa0]\\n</td></tr>\\n<tr><td class=\"footdata-topic-list\" colspan=\"2\">DMT\\xa0(18) : First Times\\xa0(2), Retrospective / Summary\\xa0(11), Entities / Beings\\xa0(37), Mystical Experiences\\xa0(9), Alone\\xa0(16)</td></tr>\\n<!--  <img src=\"/images/new.gif\" alt=\"May\"> -->\\n</table>'},\n",
              " {'link': 'https://www.erowid.org/experiences/exp.php?ID=98866',\n",
              "  'substance': 'Mescaline, LSD, DMT, XLR-11',\n",
              "  'dosechart': '<table class=\"dosechart\">\\n<tr>\\n<td align=\"right\" class=\"dosechart-time\">DOSE:<br/> T+ 0:00</td>\\n<td align=\"center\" class=\"dosechart-amount\">10 mg</td>\\n<td align=\"center\" class=\"dosechart-method\">oral</td>\\n<td class=\"dosechart-substance\">Pharms - Escitalopram</td>\\n<td class=\"dosechart-form\">(pill / tablet)</td>\\n</tr>\\n<tr>\\n<td align=\"right\" class=\"dosechart-time\">\\xa0 T+ 0:00</td>\\n<td align=\"center\" class=\"dosechart-amount\">500 mg</td>\\n<td align=\"center\" class=\"dosechart-method\">oral</td>\\n<td class=\"dosechart-substance\"><a href=\"/chemicals/mescaline/\">Mescaline</a></td>\\n<td class=\"dosechart-form\">(powder / crystals)</td>\\n</tr>\\n<tr>\\n<td align=\"right\" class=\"dosechart-time\">\\xa0 T+ 0:00</td>\\n<td align=\"center\" class=\"dosechart-amount\">30 ml</td>\\n<td align=\"center\" class=\"dosechart-method\">oral</td>\\n<td class=\"dosechart-substance\">Bismuth Subsalicylate</td>\\n<td class=\"dosechart-form\">(liquid)</td>\\n</tr>\\n<tr>\\n<td align=\"right\" class=\"dosechart-time\">\\xa0 T+ 3:00</td>\\n<td align=\"center\" class=\"dosechart-amount\">0 hits</td>\\n<td align=\"center\" class=\"dosechart-method\">smoked</td>\\n<td class=\"dosechart-substance\"><a href=\"/chemicals/cannabinoids/\">XLR-11</a></td>\\n<td class=\"dosechart-form\">(plant material)</td>\\n</tr>\\n<tr>\\n<td align=\"right\" class=\"dosechart-time\">\\xa0 T+ 4:00</td>\\n<td align=\"center\" class=\"dosechart-amount\">100 ug</td>\\n<td align=\"center\" class=\"dosechart-method\">oral</td>\\n<td class=\"dosechart-substance\"><a href=\"/chemicals/lsd/\">LSD</a></td>\\n<td class=\"dosechart-form\">(blotter / tab)</td>\\n</tr>\\n<tr>\\n<td align=\"right\" class=\"dosechart-time\">\\xa0 T+ 5:00</td>\\n<td align=\"center\" class=\"dosechart-amount\">50 mg</td>\\n<td align=\"center\" class=\"dosechart-method\">smoked</td>\\n<td class=\"dosechart-substance\"><a href=\"/chemicals/dmt/\">DMT</a></td>\\n<td class=\"dosechart-form\">(powder / crystals)</td>\\n</tr>\\n<tr>\\n<td align=\"right\" class=\"dosechart-time\">\\xa0 T+ 5:30</td>\\n<td align=\"center\" class=\"dosechart-amount\">2 hits</td>\\n<td align=\"center\" class=\"dosechart-method\">smoked</td>\\n<td class=\"dosechart-substance\"><a href=\"/chemicals/cannabinoids/\">XLR-11</a></td>\\n<td class=\"dosechart-form\">(plant material)</td>\\n</tr>\\n<tr>\\n<td align=\"right\" class=\"dosechart-time\">\\xa0 T+ 7:00</td>\\n<td align=\"center\" class=\"dosechart-amount\">3 hits</td>\\n<td align=\"center\" class=\"dosechart-method\">smoked</td>\\n<td class=\"dosechart-substance\"><a href=\"/chemicals/cannabinoids/\">XLR-11</a></td>\\n<td class=\"dosechart-form\">(plant material)</td>\\n</tr>\\n<tr>\\n<td align=\"right\" class=\"dosechart-time\">\\xa0 T+ 10:00</td>\\n<td align=\"center\" class=\"dosechart-amount\">30 mg</td>\\n<td align=\"center\" class=\"dosechart-method\">oral</td>\\n<td class=\"dosechart-substance\"><a href=\"/pharms/codeine/\">Codeine</a></td>\\n<td class=\"dosechart-form\">(pill / tablet)</td>\\n</tr>\\n</table>',\n",
              "  'bodyweight': '<table class=\"bodyweight\">\\n<tr>\\n<td class=\"bodyweight-title\">BODY WEIGHT:</td>\\n<td class=\"bodyweight-amount\">120 lb</td>\\n</tr>\\n</table>',\n",
              "  'footdata': '<table class=\"footdata\">\\n<tr><td class=\"footdata-expyear\">Exp Year: 2012</td><td class=\"footdata-expid\">ExpID: 98866</td></tr>\\n<tr><td class=\"footdata-gender\">Gender: Male</td><td>\\xa0</td></tr>\\n<tr><td class=\"footdata-ageofexp\" colspan=\"2\">Age at time of experience: 19</td></tr>\\n<tr><td class=\"footdata-pubdate\">Published: Sep 10, 2014</td><td class=\"footdata-numviews\">Views: 42,172</td></tr>\\n<tr><td class=\"footdata-other-formats\" colspan=\"2\">[ <a href=\"exp.php?ID=98866&amp;format=pdf\" type=\"text/pdf\">View PDF (to print)</a> ] [ <a href=\"exp_pdf.php?ID=98866&amp;format=latex\">View LaTeX (for geeks)</a> ]\\n[\\xa0<a href=\"#\" onclick=\"expChangeColors(); return false;\">Swap\\xa0Dark/Light</a>\\xa0]\\n</td></tr>\\n<tr><td class=\"footdata-topic-list\" colspan=\"2\">DMT\\xa0(18), LSD\\xa0(2), Mescaline\\xa0(36), XLR-11\\xa0(666) : Small Group (2-9)\\xa0(17), Music Discussion\\xa0(22), Mystical Experiences\\xa0(9), Glowing Experiences\\xa0(4), Combinations\\xa0(3)</td></tr>\\n<!--  <img src=\"/images/new.gif\" alt=\"May\"> -->\\n</table>'},\n",
              " {'link': 'https://www.erowid.org/experiences/exp.php?ID=101485',\n",
              "  'substance': 'DMT (with 4-HO-MiPT, 4-AcO-DiPT, LSD, DPT, Ketamine, Methoxetamine, 5-MeO-DMT, Nitrous Oxide, & MDMA)',\n",
              "  'dosechart': '<table class=\"dosechart\">\\n<tr>\\n<td align=\"right\" class=\"dosechart-time\">DOSE:<br/></td>\\n<td align=\"center\" class=\"dosechart-amount\">\\xa0 </td>\\n<td align=\"center\" class=\"dosechart-method\">smoked</td>\\n<td class=\"dosechart-substance\"><a href=\"/chemicals/dmt/\">DMT</a></td>\\n<td class=\"dosechart-form\">(freebase)</td>\\n</tr>\\n<tr>\\n<td align=\"right\" class=\"dosechart-time\">\\xa0</td>\\n<td align=\"center\" class=\"dosechart-amount\">35 mg</td>\\n<td align=\"center\" class=\"dosechart-method\">oral</td>\\n<td class=\"dosechart-substance\"><a href=\"/chemicals/4_acetoxy_mipt/\">4-AcO-MiPT</a></td>\\n<td class=\"dosechart-form\">(powder / crystals)</td>\\n</tr>\\n<tr>\\n<td align=\"right\" class=\"dosechart-time\">\\xa0</td>\\n<td align=\"center\" class=\"dosechart-amount\">14 mg</td>\\n<td align=\"center\" class=\"dosechart-method\">oral</td>\\n<td class=\"dosechart-substance\"><a href=\"/chemicals/4_acetoxy_dipt/\">4-AcO-DiPT</a></td>\\n<td class=\"dosechart-form\">(powder / crystals)</td>\\n</tr>\\n<tr>\\n<td align=\"right\" class=\"dosechart-time\">\\xa0</td>\\n<td align=\"center\" class=\"dosechart-amount\">1 hit</td>\\n<td align=\"center\" class=\"dosechart-method\">oral</td>\\n<td class=\"dosechart-substance\"><a href=\"/chemicals/lsd/\">LSD</a></td>\\n<td class=\"dosechart-form\">(blotter / tab)</td>\\n</tr>\\n<tr>\\n<td align=\"right\" class=\"dosechart-time\">\\xa0</td>\\n<td align=\"center\" class=\"dosechart-amount\">30 mg</td>\\n<td align=\"center\" class=\"dosechart-method\">insufflated</td>\\n<td class=\"dosechart-substance\"><a href=\"/chemicals/dpt/\">DPT</a></td>\\n<td class=\"dosechart-form\">(powder / crystals)</td>\\n</tr>\\n<tr>\\n<td align=\"right\" class=\"dosechart-time\">\\xa0</td>\\n<td align=\"center\" class=\"dosechart-amount\">120 mg</td>\\n<td align=\"center\" class=\"dosechart-method\">oral</td>\\n<td class=\"dosechart-substance\"><a href=\"/chemicals/mdma/\">MDMA</a></td>\\n<td class=\"dosechart-form\">(powder / crystals)</td>\\n</tr>\\n</table>',\n",
              "  'bodyweight': '<table class=\"bodyweight\">\\n<tr>\\n<td class=\"bodyweight-title\">BODY WEIGHT:</td>\\n<td class=\"bodyweight-amount\">95 lb</td>\\n</tr>\\n</table>',\n",
              "  'footdata': '<table class=\"footdata\">\\n<tr><td class=\"footdata-expyear\">Exp Year: 2011-2013</td><td class=\"footdata-expid\">ExpID: 101485</td></tr>\\n<tr><td class=\"footdata-gender\">Gender: Female</td><td>\\xa0</td></tr>\\n<tr><td class=\"footdata-ageofexp\" colspan=\"2\">Age at time of experience: Not Given</td></tr>\\n<tr><td class=\"footdata-pubdate\">Published: May 16, 2014</td><td class=\"footdata-numviews\">Views: 23,586</td></tr>\\n<tr><td class=\"footdata-other-formats\" colspan=\"2\">[ <a href=\"exp.php?ID=101485&amp;format=pdf\" type=\"text/pdf\">View PDF (to print)</a> ] [ <a href=\"exp_pdf.php?ID=101485&amp;format=latex\">View LaTeX (for geeks)</a> ]\\n[\\xa0<a href=\"#\" onclick=\"expChangeColors(); return false;\">Swap\\xa0Dark/Light</a>\\xa0]\\n</td></tr>\\n<tr><td class=\"footdata-topic-list\" colspan=\"2\">Mindfulness\\xa0(405), DMT\\xa0(18) : Various\\xa0(28), Therapeutic Intent or Outcome\\xa0(49), Personal Preparation\\xa0(45), Relationships\\xa0(44), Entities / Beings\\xa0(37), Mystical Experiences\\xa0(9), Glowing Experiences\\xa0(4), Retrospective / Summary\\xa0(11), Combinations\\xa0(3), General\\xa0(1)</td></tr>\\n<!--  <img src=\"/images/new.gif\" alt=\"May\"> -->\\n</table>'},\n",
              " {'link': 'https://www.erowid.org/experiences/exp.php?ID=101541',\n",
              "  'substance': 'Mushrooms, B. caapi, & DMT',\n",
              "  'dosechart': '<table class=\"dosechart\">\\n<tr>\\n<td align=\"right\" class=\"dosechart-time\">DOSE:<br/> T+ 0:00</td>\\n<td align=\"center\" class=\"dosechart-amount\">1 g</td>\\n<td align=\"center\" class=\"dosechart-method\">oral</td>\\n<td class=\"dosechart-substance\"><a href=\"/plants/mushrooms/\">Mushrooms</a></td>\\n<td class=\"dosechart-form\">(tea)</td>\\n</tr>\\n<tr>\\n<td align=\"right\" class=\"dosechart-time\">\\xa0 T+ 1:00</td>\\n<td align=\"center\" class=\"dosechart-amount\">3 bowls</td>\\n<td align=\"center\" class=\"dosechart-method\">smoked</td>\\n<td class=\"dosechart-substance\"><a href=\"/plants/banisteriopsis/\">Banisteriopsis caapi</a></td>\\n<td class=\"dosechart-form\">(plant material)</td>\\n</tr>\\n<tr>\\n<td align=\"right\" class=\"dosechart-time\">\\xa0 T+ 1:00</td>\\n<td align=\"center\" class=\"dosechart-amount\">3 bowls</td>\\n<td align=\"center\" class=\"dosechart-method\">smoked</td>\\n<td class=\"dosechart-substance\"><a href=\"/plants/cannabis/\">Cannabis</a></td>\\n<td class=\"dosechart-form\">(plant material)</td>\\n</tr>\\n<tr>\\n<td align=\"right\" class=\"dosechart-time\">\\xa0 T+ 3:00</td>\\n<td align=\"center\" class=\"dosechart-amount\">20 mg</td>\\n<td align=\"center\" class=\"dosechart-method\">smoked</td>\\n<td class=\"dosechart-substance\"><a href=\"/chemicals/dmt/\">DMT</a></td>\\n<td class=\"dosechart-form\">(freebase)</td>\\n</tr>\\n<tr>\\n<td align=\"right\" class=\"dosechart-time\">\\xa0 T+ 4:00</td>\\n<td align=\"center\" class=\"dosechart-amount\">3 bowls</td>\\n<td align=\"center\" class=\"dosechart-method\">smoked</td>\\n<td class=\"dosechart-substance\"><a href=\"/plants/banisteriopsis/\">Banisteriopsis caapi</a></td>\\n<td class=\"dosechart-form\">(plant material)</td>\\n</tr>\\n<tr>\\n<td align=\"right\" class=\"dosechart-time\">\\xa0 T+ 4:00</td>\\n<td align=\"center\" class=\"dosechart-amount\">3 bowls</td>\\n<td align=\"center\" class=\"dosechart-method\">smoked</td>\\n<td class=\"dosechart-substance\"><a href=\"/plants/cannabis/\">Cannabis</a></td>\\n<td class=\"dosechart-form\">(plant material)</td>\\n</tr>\\n<tr>\\n<td align=\"right\" class=\"dosechart-time\">\\xa0 T+ 4:00</td>\\n<td align=\"center\" class=\"dosechart-amount\">20 mg</td>\\n<td align=\"center\" class=\"dosechart-method\">smoked</td>\\n<td class=\"dosechart-substance\"><a href=\"/chemicals/dmt/\">DMT</a></td>\\n<td class=\"dosechart-form\">(freebase)</td>\\n</tr>\\n</table>',\n",
              "  'bodyweight': '<table class=\"bodyweight\">\\n<tr>\\n<td class=\"bodyweight-title\">BODY WEIGHT:</td>\\n<td class=\"bodyweight-amount\">95 lb</td>\\n</tr>\\n</table>',\n",
              "  'footdata': '<table class=\"footdata\">\\n<tr><td class=\"footdata-expyear\">Exp Year: 2013</td><td class=\"footdata-expid\">ExpID: 101541</td></tr>\\n<tr><td class=\"footdata-gender\">Gender: Female</td><td>\\xa0</td></tr>\\n<tr><td class=\"footdata-ageofexp\" colspan=\"2\">Age at time of experience: 24</td></tr>\\n<tr><td class=\"footdata-pubdate\">Published: May 7, 2014</td><td class=\"footdata-numviews\">Views: 18,461</td></tr>\\n<tr><td class=\"footdata-other-formats\" colspan=\"2\">[ <a href=\"exp.php?ID=101541&amp;format=pdf\" type=\"text/pdf\">View PDF (to print)</a> ] [ <a href=\"exp_pdf.php?ID=101541&amp;format=latex\">View LaTeX (for geeks)</a> ]\\n[\\xa0<a href=\"#\" onclick=\"expChangeColors(); return false;\">Swap\\xa0Dark/Light</a>\\xa0]\\n</td></tr>\\n<tr><td class=\"footdata-topic-list\" colspan=\"2\">DMT\\xa0(18), Mushrooms\\xa0(39), Banisteriopsis caapi\\xa0(169), Mindfulness\\xa0(405) : Various\\xa0(28), Entities / Beings\\xa0(37), Nature / Outdoors\\xa0(23), Glowing Experiences\\xa0(4), Preparation / Recipes\\xa0(30), Combinations\\xa0(3), General\\xa0(1)</td></tr>\\n<!--  <img src=\"/images/new.gif\" alt=\"May\"> -->\\n</table>'},\n",
              " {'link': 'https://www.erowid.org/experiences/exp.php?ID=93315',\n",
              "  'substance': 'DMT, Mushrooms & Alcohol',\n",
              "  'dosechart': '<table class=\"dosechart\">\\n<tr>\\n<td align=\"right\" class=\"dosechart-time\">DOSE:<br/> T+ 0:00</td>\\n<td align=\"center\" class=\"dosechart-amount\">1 hit</td>\\n<td align=\"center\" class=\"dosechart-method\">smoked</td>\\n<td class=\"dosechart-substance\"><a href=\"/chemicals/dmt/\">DMT</a></td>\\n<td class=\"dosechart-form\">(ground / crushed)</td>\\n</tr>\\n<tr>\\n<td align=\"right\" class=\"dosechart-time\">\\xa0 T+ 1:30</td>\\n<td align=\"center\" class=\"dosechart-amount\">1 cig.</td>\\n<td align=\"center\" class=\"dosechart-method\">smoked</td>\\n<td class=\"dosechart-substance\"><a href=\"/plants/tobacco/\">Tobacco</a></td>\\n<td class=\"dosechart-form\">\\xa0</td>\\n</tr>\\n<tr>\\n<td align=\"right\" class=\"dosechart-time\">\\xa0 T+ 12:00</td>\\n<td align=\"center\" class=\"dosechart-amount\">2 g</td>\\n<td align=\"center\" class=\"dosechart-method\">oral</td>\\n<td class=\"dosechart-substance\"><a href=\"/plants/mushrooms/\">Mushrooms</a></td>\\n<td class=\"dosechart-form\">\\xa0</td>\\n</tr>\\n<tr>\\n<td align=\"right\" class=\"dosechart-time\">\\xa0 T+ 14:00</td>\\n<td align=\"center\" class=\"dosechart-amount\">1 hit</td>\\n<td align=\"center\" class=\"dosechart-method\">smoked</td>\\n<td class=\"dosechart-substance\"><a href=\"/chemicals/dmt/\">DMT</a></td>\\n<td class=\"dosechart-form\">\\xa0</td>\\n</tr>\\n<tr>\\n<td align=\"right\" class=\"dosechart-time\">\\xa0 T+ 17:00</td>\\n<td align=\"center\" class=\"dosechart-amount\">1 hit</td>\\n<td align=\"center\" class=\"dosechart-method\">smoked</td>\\n<td class=\"dosechart-substance\"><a href=\"/chemicals/dmt/\">DMT</a></td>\\n<td class=\"dosechart-form\">\\xa0</td>\\n</tr>\\n<tr>\\n<td align=\"right\" class=\"dosechart-time\">\\xa0 T+ 26:00</td>\\n<td align=\"center\" class=\"dosechart-amount\">1 hit</td>\\n<td align=\"center\" class=\"dosechart-method\">smoked</td>\\n<td class=\"dosechart-substance\"><a href=\"/chemicals/dmt/\">DMT</a></td>\\n<td class=\"dosechart-form\">\\xa0</td>\\n</tr>\\n</table>',\n",
              "  'bodyweight': '<table class=\"bodyweight\">\\n<tr>\\n<td class=\"bodyweight-title\">BODY WEIGHT:</td>\\n<td class=\"bodyweight-amount\">140 lb</td>\\n</tr>\\n</table>',\n",
              "  'footdata': '<table class=\"footdata\">\\n<tr><td class=\"footdata-expyear\">Exp Year: 2011</td><td class=\"footdata-expid\">ExpID: 93315</td></tr>\\n<tr><td class=\"footdata-gender\">Gender: Male</td><td>\\xa0</td></tr>\\n<tr><td class=\"footdata-ageofexp\" colspan=\"2\">Age at time of experience: 28</td></tr>\\n<tr><td class=\"footdata-pubdate\">Published: Jun 8, 2013</td><td class=\"footdata-numviews\">Views: 57,422</td></tr>\\n<tr><td class=\"footdata-other-formats\" colspan=\"2\">[ <a href=\"exp.php?ID=93315&amp;format=pdf\" type=\"text/pdf\">View PDF (to print)</a> ] [ <a href=\"exp_pdf.php?ID=93315&amp;format=latex\">View LaTeX (for geeks)</a> ]\\n[\\xa0<a href=\"#\" onclick=\"expChangeColors(); return false;\">Swap\\xa0Dark/Light</a>\\xa0]\\n</td></tr>\\n<tr><td class=\"footdata-topic-list\" colspan=\"2\">Alcohol - Beer/Wine\\xa0(199), Mushrooms\\xa0(39), DMT\\xa0(18) : Small Group (2-9)\\xa0(17), Glowing Experiences\\xa0(4), First Times\\xa0(2), General\\xa0(1)</td></tr>\\n<!--  <img src=\"/images/new.gif\" alt=\"May\"> -->\\n</table>'},\n",
              " {'link': 'https://www.erowid.org/experiences/exp.php?ID=96521',\n",
              "  'substance': 'DMT',\n",
              "  'dosechart': '<table class=\"dosechart\">\\n<tr>\\n<td align=\"right\" class=\"dosechart-time\">DOSE:<br/></td>\\n<td align=\"center\" class=\"dosechart-amount\">1 hit</td>\\n<td align=\"center\" class=\"dosechart-method\">smoked</td>\\n<td class=\"dosechart-substance\"><a href=\"/chemicals/dmt/\">DMT</a></td>\\n<td class=\"dosechart-form\">(powder / crystals)</td>\\n</tr>\\n</table>',\n",
              "  'bodyweight': '<table class=\"bodyweight\">\\n<tr>\\n<td class=\"bodyweight-title\">BODY WEIGHT:</td>\\n<td class=\"bodyweight-amount\">165 lb</td>\\n</tr>\\n</table>',\n",
              "  'footdata': '<table class=\"footdata\">\\n<tr><td class=\"footdata-expyear\">Exp Year: 2011</td><td class=\"footdata-expid\">ExpID: 96521</td></tr>\\n<tr><td class=\"footdata-gender\">Gender: Male</td><td>\\xa0</td></tr>\\n<tr><td class=\"footdata-ageofexp\" colspan=\"2\">Age at time of experience: 18</td></tr>\\n<tr><td class=\"footdata-pubdate\">Published: Jun 22, 2012</td><td class=\"footdata-numviews\">Views: 49,701</td></tr>\\n<tr><td class=\"footdata-other-formats\" colspan=\"2\">[ <a href=\"exp.php?ID=96521&amp;format=pdf\" type=\"text/pdf\">View PDF (to print)</a> ] [ <a href=\"exp_pdf.php?ID=96521&amp;format=latex\">View LaTeX (for geeks)</a> ]\\n[\\xa0<a href=\"#\" onclick=\"expChangeColors(); return false;\">Swap\\xa0Dark/Light</a>\\xa0]\\n</td></tr>\\n<tr><td class=\"footdata-topic-list\" colspan=\"2\">DMT\\xa0(18) : Entities / Beings\\xa0(37), Overdose\\xa0(29), Post Trip Problems\\xa0(8), HPPD / Lasting Visuals\\xa0(40), Difficult Experiences\\xa0(5), Small Group (2-9)\\xa0(17)</td></tr>\\n<!--  <img src=\"/images/new.gif\" alt=\"May\"> -->\\n</table>'},\n",
              " {'link': 'https://www.erowid.org/experiences/exp.php?ID=94429',\n",
              "  'substance': 'DMT',\n",
              "  'dosechart': '<table class=\"dosechart\">\\n<tr>\\n<td align=\"right\" class=\"dosechart-time\">DOSE:<br/></td>\\n<td align=\"center\" class=\"dosechart-amount\">\\xa0 </td>\\n<td align=\"center\" class=\"dosechart-method\">smoked</td>\\n<td class=\"dosechart-substance\"><a href=\"/chemicals/dmt/\">DMT</a></td>\\n<td class=\"dosechart-form\">(powder / crystals)</td>\\n</tr>\\n</table>',\n",
              "  'bodyweight': '<table class=\"bodyweight\">\\n<tr>\\n<td class=\"bodyweight-title\">BODY WEIGHT:</td>\\n<td class=\"bodyweight-amount\">58 kg</td>\\n</tr>\\n</table>',\n",
              "  'footdata': '<table class=\"footdata\">\\n<tr><td class=\"footdata-expyear\">Exp Year: 2010</td><td class=\"footdata-expid\">ExpID: 94429</td></tr>\\n<tr><td class=\"footdata-gender\">Gender: Male</td><td>\\xa0</td></tr>\\n<tr><td class=\"footdata-ageofexp\" colspan=\"2\">Age at time of experience: 16</td></tr>\\n<tr><td class=\"footdata-pubdate\">Published: Apr 11, 2012</td><td class=\"footdata-numviews\">Views: 63,448</td></tr>\\n<tr><td class=\"footdata-other-formats\" colspan=\"2\">[ <a href=\"exp.php?ID=94429&amp;format=pdf\" type=\"text/pdf\">View PDF (to print)</a> ] [ <a href=\"exp_pdf.php?ID=94429&amp;format=latex\">View LaTeX (for geeks)</a> ]\\n[\\xa0<a href=\"#\" onclick=\"expChangeColors(); return false;\">Swap\\xa0Dark/Light</a>\\xa0]\\n</td></tr>\\n<tr><td class=\"footdata-topic-list\" colspan=\"2\">DMT\\xa0(18) : General\\xa0(1), First Times\\xa0(2), Glowing Experiences\\xa0(4), Mystical Experiences\\xa0(9), Small Group (2-9)\\xa0(17)</td></tr>\\n<!--  <img src=\"/images/new.gif\" alt=\"May\"> -->\\n</table>'},\n",
              " {'link': 'https://www.erowid.org/experiences/exp.php?ID=93145',\n",
              "  'substance': '25C-NBOMe & DMT (?)',\n",
              "  'dosechart': '<table class=\"dosechart\">\\n<tr>\\n<td align=\"right\" class=\"dosechart-time\">DOSE:<br/> T+ 0:00</td>\\n<td align=\"center\" class=\"dosechart-amount\">830 ug</td>\\n<td align=\"center\" class=\"dosechart-method\">\\xa0</td>\\n<td class=\"dosechart-substance\"><a href=\"/chemicals/2cc_nbome/\">25C-NBOMe</a></td>\\n<td class=\"dosechart-form\">(powder / crystals)</td>\\n</tr>\\n<tr>\\n<td align=\"right\" class=\"dosechart-time\">\\xa0 T+ 4:00</td>\\n<td align=\"center\" class=\"dosechart-amount\">\\xa0 </td>\\n<td align=\"center\" class=\"dosechart-method\">smoked</td>\\n<td class=\"dosechart-substance\"><a href=\"/chemicals/dmt/\">DMT</a></td>\\n<td class=\"dosechart-form\">(powder / crystals)</td>\\n</tr>\\n</table>',\n",
              "  'bodyweight': '<table class=\"bodyweight\">\\n<tr>\\n<td class=\"bodyweight-title\">BODY WEIGHT:</td>\\n<td class=\"bodyweight-amount\">135 lb</td>\\n</tr>\\n</table>',\n",
              "  'footdata': '<table class=\"footdata\">\\n<tr><td class=\"footdata-expyear\">Exp Year: 2011</td><td class=\"footdata-expid\">ExpID: 93145</td></tr>\\n<tr><td class=\"footdata-gender\">Gender: Male</td><td>\\xa0</td></tr>\\n<tr><td class=\"footdata-ageofexp\" colspan=\"2\">Age at time of experience: 21</td></tr>\\n<tr><td class=\"footdata-pubdate\">Published: Oct 7, 2011</td><td class=\"footdata-numviews\">Views: 40,674</td></tr>\\n<tr><td class=\"footdata-other-formats\" colspan=\"2\">[ <a href=\"exp.php?ID=93145&amp;format=pdf\" type=\"text/pdf\">View PDF (to print)</a> ] [ <a href=\"exp_pdf.php?ID=93145&amp;format=latex\">View LaTeX (for geeks)</a> ]\\n[\\xa0<a href=\"#\" onclick=\"expChangeColors(); return false;\">Swap\\xa0Dark/Light</a>\\xa0]\\n</td></tr>\\n<tr><td class=\"footdata-topic-list\" colspan=\"2\">25C-NBOMe\\xa0(540), DMT\\xa0(18) : Small Group (2-9)\\xa0(17), Glowing Experiences\\xa0(4), Retrospective / Summary\\xa0(11), General\\xa0(1)</td></tr>\\n<!--  <img src=\"/images/new.gif\" alt=\"May\"> -->\\n</table>'},\n",
              " {'link': 'https://www.erowid.org/experiences/exp.php?ID=80226',\n",
              "  'substance': 'DMT, MDMA (Ecstasy) & LSD',\n",
              "  'dosechart': '<table class=\"dosechart\">\\n<tr>\\n<td align=\"right\" class=\"dosechart-time\">DOSE:<br/> T+ 0:00</td>\\n<td align=\"center\" class=\"dosechart-amount\">350 mg</td>\\n<td align=\"center\" class=\"dosechart-method\">oral</td>\\n<td class=\"dosechart-substance\"><a href=\"/chemicals/mdma/\">MDMA</a></td>\\n<td class=\"dosechart-form\">(capsule)</td>\\n</tr>\\n<tr>\\n<td align=\"right\" class=\"dosechart-time\">\\xa0 T+ 13:00</td>\\n<td align=\"center\" class=\"dosechart-amount\">4 hits</td>\\n<td align=\"center\" class=\"dosechart-method\">oral</td>\\n<td class=\"dosechart-substance\"><a href=\"/chemicals/lsd/\">LSD</a></td>\\n<td class=\"dosechart-form\">\\xa0</td>\\n</tr>\\n<tr>\\n<td align=\"right\" class=\"dosechart-time\">\\xa0 T+ 13:00</td>\\n<td align=\"center\" class=\"dosechart-amount\">200 mg</td>\\n<td align=\"center\" class=\"dosechart-method\">oral</td>\\n<td class=\"dosechart-substance\"><a href=\"/chemicals/mdma/\">MDMA</a></td>\\n<td class=\"dosechart-form\">(capsule)</td>\\n</tr>\\n<tr>\\n<td align=\"right\" class=\"dosechart-time\">\\xa0 T+ 13:30</td>\\n<td align=\"center\" class=\"dosechart-amount\">75 mg</td>\\n<td align=\"center\" class=\"dosechart-method\">smoked</td>\\n<td class=\"dosechart-substance\"><a href=\"/chemicals/dmt/\">DMT</a></td>\\n<td class=\"dosechart-form\">(extract)</td>\\n</tr>\\n<tr>\\n<td align=\"right\" class=\"dosechart-time\">\\xa0 T+ 0:00</td>\\n<td align=\"center\" class=\"dosechart-amount\">\\xa0 </td>\\n<td align=\"center\" class=\"dosechart-method\">smoked</td>\\n<td class=\"dosechart-substance\"><a href=\"/chemicals/dmt/\">DMT</a></td>\\n<td class=\"dosechart-form\">(extract)</td>\\n</tr>\\n</table>',\n",
              "  'bodyweight': '<table class=\"bodyweight\">\\n<tr>\\n<td class=\"bodyweight-title\">BODY WEIGHT:</td>\\n<td class=\"bodyweight-amount\">120 lb</td>\\n</tr>\\n</table>',\n",
              "  'footdata': '<table class=\"footdata\">\\n<tr><td class=\"footdata-expyear\">Exp Year: 2008</td><td class=\"footdata-expid\">ExpID: 80226</td></tr>\\n<tr><td class=\"footdata-gender\">Gender: Male</td><td>\\xa0</td></tr>\\n<tr><td class=\"footdata-ageofexp\" colspan=\"2\">Age at time of experience: 24</td></tr>\\n<tr><td class=\"footdata-pubdate\">Published: Oct 6, 2010</td><td class=\"footdata-numviews\">Views: 74,919</td></tr>\\n<tr><td class=\"footdata-other-formats\" colspan=\"2\">[ <a href=\"exp.php?ID=80226&amp;format=pdf\" type=\"text/pdf\">View PDF (to print)</a> ] [ <a href=\"exp_pdf.php?ID=80226&amp;format=latex\">View LaTeX (for geeks)</a> ]\\n[\\xa0<a href=\"#\" onclick=\"expChangeColors(); return false;\">Swap\\xa0Dark/Light</a>\\xa0]\\n</td></tr>\\n<tr><td class=\"footdata-topic-list\" colspan=\"2\">DMT\\xa0(18), MDMA\\xa0(3), LSD\\xa0(2) : Various\\xa0(28), Relationships\\xa0(44), Difficult Experiences\\xa0(5), Combinations\\xa0(3)</td></tr>\\n<!--  <img src=\"/images/new.gif\" alt=\"May\"> -->\\n</table>'},\n",
              " {'link': 'https://www.erowid.org/experiences/exp.php?ID=82934',\n",
              "  'substance': 'DMT',\n",
              "  'dosechart': '<table class=\"dosechart\">\\n<tr>\\n<td align=\"right\" class=\"dosechart-time\">DOSE:<br/></td>\\n<td align=\"center\" class=\"dosechart-amount\">50 mg</td>\\n<td align=\"center\" class=\"dosechart-method\">smoked</td>\\n<td class=\"dosechart-substance\"><a href=\"/chemicals/dmt/\">DMT</a></td>\\n<td class=\"dosechart-form\">(powder / crystals)</td>\\n</tr>\\n</table>',\n",
              "  'bodyweight': '<table class=\"bodyweight\">\\n<tr>\\n<td class=\"bodyweight-title\">BODY WEIGHT:</td>\\n<td class=\"bodyweight-amount\">180 lb</td>\\n</tr>\\n</table>',\n",
              "  'footdata': '<table class=\"footdata\">\\n<tr><td class=\"footdata-expyear\">Exp Year: 2009</td><td class=\"footdata-expid\">ExpID: 82934</td></tr>\\n<tr><td class=\"footdata-gender\">Gender: Male</td><td>\\xa0</td></tr>\\n<tr><td class=\"footdata-ageofexp\" colspan=\"2\">Age at time of experience: 20</td></tr>\\n<tr><td class=\"footdata-pubdate\">Published: Sep 22, 2010</td><td class=\"footdata-numviews\">Views: 46,071</td></tr>\\n<tr><td class=\"footdata-other-formats\" colspan=\"2\">[ <a href=\"exp.php?ID=82934&amp;format=pdf\" type=\"text/pdf\">View PDF (to print)</a> ] [ <a href=\"exp_pdf.php?ID=82934&amp;format=latex\">View LaTeX (for geeks)</a> ]\\n[\\xa0<a href=\"#\" onclick=\"expChangeColors(); return false;\">Swap\\xa0Dark/Light</a>\\xa0]\\n</td></tr>\\n<tr><td class=\"footdata-topic-list\" colspan=\"2\">DMT\\xa0(18) : Glowing Experiences\\xa0(4), Entities / Beings\\xa0(37), Relationships\\xa0(44), Mystical Experiences\\xa0(9), Small Group (2-9)\\xa0(17)</td></tr>\\n<!--  <img src=\"/images/new.gif\" alt=\"May\"> -->\\n</table>'},\n",
              " {'link': 'https://www.erowid.org/experiences/exp.php?ID=86665',\n",
              "  'substance': 'DMT & Cannabis',\n",
              "  'dosechart': '<table class=\"dosechart\">\\n<tr>\\n<td align=\"right\" class=\"dosechart-time\">DOSE:<br/></td>\\n<td align=\"center\" class=\"dosechart-amount\">15 mg</td>\\n<td align=\"center\" class=\"dosechart-method\">smoked</td>\\n<td class=\"dosechart-substance\"><a href=\"/chemicals/dmt/\">DMT</a></td>\\n<td class=\"dosechart-form\">(powder / crystals)</td>\\n</tr>\\n<tr>\\n<td align=\"right\" class=\"dosechart-time\">\\xa0</td>\\n<td align=\"center\" class=\"dosechart-amount\">2 hits</td>\\n<td align=\"center\" class=\"dosechart-method\">smoked</td>\\n<td class=\"dosechart-substance\"><a href=\"/plants/cannabis/\">Cannabis</a></td>\\n<td class=\"dosechart-form\">(plant material)</td>\\n</tr>\\n</table>',\n",
              "  'bodyweight': '<table class=\"bodyweight\">\\n<tr>\\n<td class=\"bodyweight-title\">BODY WEIGHT:</td>\\n<td class=\"bodyweight-amount\">195 lb</td>\\n</tr>\\n</table>',\n",
              "  'footdata': '<table class=\"footdata\">\\n<tr><td class=\"footdata-expyear\">Exp Year: 2010</td><td class=\"footdata-expid\">ExpID: 86665</td></tr>\\n<tr><td class=\"footdata-gender\">Gender: Male</td><td>\\xa0</td></tr>\\n<tr><td class=\"footdata-ageofexp\" colspan=\"2\">Age at time of experience: 33</td></tr>\\n<tr><td class=\"footdata-pubdate\">Published: Sep 14, 2010</td><td class=\"footdata-numviews\">Views: 68,823</td></tr>\\n<tr><td class=\"footdata-other-formats\" colspan=\"2\">[ <a href=\"exp.php?ID=86665&amp;format=pdf\" type=\"text/pdf\">View PDF (to print)</a> ] [ <a href=\"exp_pdf.php?ID=86665&amp;format=latex\">View LaTeX (for geeks)</a> ]\\n[\\xa0<a href=\"#\" onclick=\"expChangeColors(); return false;\">Swap\\xa0Dark/Light</a>\\xa0]\\n</td></tr>\\n<tr><td class=\"footdata-topic-list\" colspan=\"2\">DMT\\xa0(18) : General\\xa0(1), First Times\\xa0(2), Mystical Experiences\\xa0(9), Festival / Lg. Crowd\\xa0(24)</td></tr>\\n<!--  <img src=\"/images/new.gif\" alt=\"May\"> -->\\n</table>'},\n",
              " {'link': 'https://www.erowid.org/experiences/exp.php?ID=83719',\n",
              "  'substance': 'DMT & Cannabis',\n",
              "  'dosechart': '<table class=\"dosechart\">\\n<tr>\\n<td align=\"right\" class=\"dosechart-time\">DOSE:<br/></td>\\n<td align=\"center\" class=\"dosechart-amount\">\\xa0 </td>\\n<td align=\"center\" class=\"dosechart-method\">smoked</td>\\n<td class=\"dosechart-substance\"><a href=\"/chemicals/dmt/\">DMT</a></td>\\n<td class=\"dosechart-form\">(powder / crystals)</td>\\n</tr>\\n<tr>\\n<td align=\"right\" class=\"dosechart-time\">\\xa0</td>\\n<td align=\"center\" class=\"dosechart-amount\">\\xa0 </td>\\n<td align=\"center\" class=\"dosechart-method\">smoked</td>\\n<td class=\"dosechart-substance\"><a href=\"/plants/cannabis/\">Cannabis</a></td>\\n<td class=\"dosechart-form\">(plant material)</td>\\n</tr>\\n</table>',\n",
              "  'bodyweight': '<table class=\"bodyweight\">\\n<tr>\\n<td class=\"bodyweight-title\">BODY WEIGHT:</td>\\n<td class=\"bodyweight-amount\">77 kg</td>\\n</tr>\\n</table>',\n",
              "  'footdata': '<table class=\"footdata\">\\n<tr><td class=\"footdata-expyear\">Exp Year: 2010</td><td class=\"footdata-expid\">ExpID: 83719</td></tr>\\n<tr><td class=\"footdata-gender\">Gender: Male</td><td>\\xa0</td></tr>\\n<tr><td class=\"footdata-ageofexp\" colspan=\"2\">Age at time of experience: 26</td></tr>\\n<tr><td class=\"footdata-pubdate\">Published: Sep 7, 2010</td><td class=\"footdata-numviews\">Views: 46,759</td></tr>\\n<tr><td class=\"footdata-other-formats\" colspan=\"2\">[ <a href=\"exp.php?ID=83719&amp;format=pdf\" type=\"text/pdf\">View PDF (to print)</a> ] [ <a href=\"exp_pdf.php?ID=83719&amp;format=latex\">View LaTeX (for geeks)</a> ]\\n[\\xa0<a href=\"#\" onclick=\"expChangeColors(); return false;\">Swap\\xa0Dark/Light</a>\\xa0]\\n</td></tr>\\n<tr><td class=\"footdata-topic-list\" colspan=\"2\">DMT\\xa0(18) : General\\xa0(1), Alone\\xa0(16)</td></tr>\\n<!--  <img src=\"/images/new.gif\" alt=\"May\"> -->\\n</table>'},\n",
              " {'link': 'https://www.erowid.org/experiences/exp.php?ID=82837',\n",
              "  'substance': 'DMT, LSD & Cannabis',\n",
              "  'dosechart': '<table class=\"dosechart\">\\n<tr>\\n<td align=\"right\" class=\"dosechart-time\">DOSE:<br/> T+ 0:00</td>\\n<td align=\"center\" class=\"dosechart-amount\">3 hits</td>\\n<td align=\"center\" class=\"dosechart-method\">smoked</td>\\n<td class=\"dosechart-substance\"><a href=\"/chemicals/dmt/\">DMT</a></td>\\n</tr>\\n<tr>\\n<td align=\"right\" class=\"dosechart-time\">\\xa0 T+ 1:00</td>\\n<td align=\"center\" class=\"dosechart-amount\">1 hit</td>\\n<td align=\"center\" class=\"dosechart-method\">oral</td>\\n<td class=\"dosechart-substance\"><a href=\"/chemicals/lsd/\">LSD</a></td>\\n</tr>\\n<tr>\\n<td align=\"right\" class=\"dosechart-time\">\\xa0 T+ 1:15</td>\\n<td align=\"center\" class=\"dosechart-amount\">1 hit</td>\\n<td align=\"center\" class=\"dosechart-method\">oral</td>\\n<td class=\"dosechart-substance\"><a href=\"/chemicals/lsd/\">LSD</a></td>\\n</tr>\\n<tr>\\n<td align=\"right\" class=\"dosechart-time\">\\xa0 T+ 0:00</td>\\n<td align=\"center\" class=\"dosechart-amount\">\\xa0 repeated</td>\\n<td align=\"center\" class=\"dosechart-method\">smoked</td>\\n<td class=\"dosechart-substance\"><a href=\"/chemicals/dmt/\">DMT</a></td>\\n</tr>\\n<tr>\\n<td align=\"right\" class=\"dosechart-time\">\\xa0 T+ 0:00</td>\\n<td align=\"center\" class=\"dosechart-amount\">\\xa0 repeated</td>\\n<td align=\"center\" class=\"dosechart-method\">smoked</td>\\n<td class=\"dosechart-substance\"><a href=\"/plants/cannabis/\">Cannabis</a></td>\\n</tr>\\n</table>',\n",
              "  'bodyweight': '<table class=\"bodyweight\">\\n<tr>\\n<td class=\"bodyweight-title\">BODY WEIGHT:</td>\\n<td class=\"bodyweight-amount\">135 lb</td>\\n</tr>\\n</table>',\n",
              "  'footdata': '<table class=\"footdata\">\\n<tr><td class=\"footdata-expyear\">Exp Year: 2009</td><td class=\"footdata-expid\">ExpID: 82837</td></tr>\\n<tr><td class=\"footdata-gender\">Gender: Male</td><td>\\xa0</td></tr>\\n<tr><td class=\"footdata-ageofexp\" colspan=\"2\">Age at time of experience: 26</td></tr>\\n<tr><td class=\"footdata-pubdate\">Published: Aug 19, 2010</td><td class=\"footdata-numviews\">Views: 38,817</td></tr>\\n<tr><td class=\"footdata-other-formats\" colspan=\"2\">[ <a href=\"exp.php?ID=82837&amp;format=pdf\" type=\"text/pdf\">View PDF (to print)</a> ] [ <a href=\"exp_pdf.php?ID=82837&amp;format=latex\">View LaTeX (for geeks)</a> ]\\n[\\xa0<a href=\"#\" onclick=\"expChangeColors(); return false;\">Swap\\xa0Dark/Light</a>\\xa0]\\n</td></tr>\\n<tr><td class=\"footdata-topic-list\" colspan=\"2\">DMT\\xa0(18), LSD\\xa0(2) : Combinations\\xa0(3), Mystical Experiences\\xa0(9), Small Group (2-9)\\xa0(17)</td></tr>\\n<!--  <img src=\"/images/new.gif\" alt=\"May\"> -->\\n</table>'},\n",
              " {'link': 'https://www.erowid.org/experiences/exp.php?ID=80880',\n",
              "  'substance': 'DMT',\n",
              "  'dosechart': '<table class=\"dosechart\">\\n<tr>\\n<td align=\"right\" class=\"dosechart-time\">DOSE:<br/></td>\\n<td align=\"center\" class=\"dosechart-amount\">\\xa0 repeated</td>\\n<td align=\"center\" class=\"dosechart-method\">smoked</td>\\n<td class=\"dosechart-substance\"><a href=\"/chemicals/dmt/\">DMT</a></td>\\n<td class=\"dosechart-form\">(powder / crystals)</td>\\n</tr>\\n</table>',\n",
              "  'bodyweight': '<table class=\"bodyweight\">\\n<tr>\\n<td class=\"bodyweight-title\">BODY WEIGHT:</td>\\n<td class=\"bodyweight-amount\">190 lb</td>\\n</tr>\\n</table>',\n",
              "  'footdata': '<table class=\"footdata\">\\n<tr><td class=\"footdata-expyear\">Exp Year: 2009</td><td class=\"footdata-expid\">ExpID: 80880</td></tr>\\n<tr><td class=\"footdata-gender\">Gender: Male</td><td>\\xa0</td></tr>\\n<tr><td class=\"footdata-ageofexp\" colspan=\"2\">Age at time of experience: 27</td></tr>\\n<tr><td class=\"footdata-pubdate\">Published: Aug 12, 2010</td><td class=\"footdata-numviews\">Views: 66,487</td></tr>\\n<tr><td class=\"footdata-other-formats\" colspan=\"2\">[ <a href=\"exp.php?ID=80880&amp;format=pdf\" type=\"text/pdf\">View PDF (to print)</a> ] [ <a href=\"exp_pdf.php?ID=80880&amp;format=latex\">View LaTeX (for geeks)</a> ]\\n[\\xa0<a href=\"#\" onclick=\"expChangeColors(); return false;\">Swap\\xa0Dark/Light</a>\\xa0]\\n</td></tr>\\n<tr><td class=\"footdata-topic-list\" colspan=\"2\">DMT\\xa0(18) : Not Applicable\\xa0(38), Entities / Beings\\xa0(37), Mystical Experiences\\xa0(9), Glowing Experiences\\xa0(4), Retrospective / Summary\\xa0(11)</td></tr>\\n<!--  <img src=\"/images/new.gif\" alt=\"May\"> -->\\n</table>'},\n",
              " {'link': 'https://www.erowid.org/experiences/exp.php?ID=76614',\n",
              "  'substance': 'DMT (extracted from M. tenuiflora) & Salvia divinorum',\n",
              "  'dosechart': '<table class=\"dosechart\">\\n<tr>\\n<td align=\"right\" class=\"dosechart-time\">DOSE:<br/></td>\\n<td align=\"center\" class=\"dosechart-amount\">70 mg</td>\\n<td align=\"center\" class=\"dosechart-method\">oral</td>\\n<td class=\"dosechart-substance\"><a href=\"/chemicals/dmt/\">DMT</a></td>\\n<td class=\"dosechart-form\">(powder / crystals)</td>\\n</tr>\\n</table>',\n",
              "  'bodyweight': '<table class=\"bodyweight\">\\n<tr>\\n<td class=\"bodyweight-title\">BODY WEIGHT:</td>\\n<td class=\"bodyweight-amount\">220 lb</td>\\n</tr>\\n</table>',\n",
              "  'footdata': '<table class=\"footdata\">\\n<tr><td class=\"footdata-expyear\">Exp Year: 2009</td><td class=\"footdata-expid\">ExpID: 76614</td></tr>\\n<tr><td class=\"footdata-gender\">Gender: Male</td><td>\\xa0</td></tr>\\n<tr><td class=\"footdata-ageofexp\" colspan=\"2\">Age at time of experience: Not Given</td></tr>\\n<tr><td class=\"footdata-pubdate\">Published: Jun 13, 2009</td><td class=\"footdata-numviews\">Views: 56,863</td></tr>\\n<tr><td class=\"footdata-other-formats\" colspan=\"2\">[ <a href=\"exp.php?ID=76614&amp;format=pdf\" type=\"text/pdf\">View PDF (to print)</a> ] [ <a href=\"exp_pdf.php?ID=76614&amp;format=latex\">View LaTeX (for geeks)</a> ]\\n[\\xa0<a href=\"#\" onclick=\"expChangeColors(); return false;\">Swap\\xa0Dark/Light</a>\\xa0]\\n</td></tr>\\n<tr><td class=\"footdata-topic-list\" colspan=\"2\">DMT\\xa0(18), Mimosa tenuiflora\\xa0(74) : Alone\\xa0(16), Therapeutic Intent or Outcome\\xa0(49), Entities / Beings\\xa0(37), Mystical Experiences\\xa0(9), Preparation / Recipes\\xa0(30), Retrospective / Summary\\xa0(11)</td></tr>\\n<!--  <img src=\"/images/new.gif\" alt=\"May\"> -->\\n</table>'},\n",
              " {'link': 'https://www.erowid.org/experiences/exp.php?ID=75003',\n",
              "  'substance': 'DMT, 5-MeO-DMT & Salvia divinorum',\n",
              "  'dosechart': '<table class=\"dosechart\">\\n<tr>\\n<td align=\"right\" class=\"dosechart-time\">DOSE:<br/></td>\\n<td align=\"center\" class=\"dosechart-amount\">15 mg</td>\\n<td align=\"center\" class=\"dosechart-method\">smoked</td>\\n<td class=\"dosechart-substance\"><a href=\"/chemicals/dmt/\">DMT</a></td>\\n<td class=\"dosechart-form\">\\xa0</td>\\n</tr>\\n<tr>\\n<td align=\"right\" class=\"dosechart-time\">\\xa0</td>\\n<td align=\"center\" class=\"dosechart-amount\">15 mg</td>\\n<td align=\"center\" class=\"dosechart-method\">smoked</td>\\n<td class=\"dosechart-substance\"><a href=\"/chemicals/5meo_dmt/\">5-MeO-DMT</a></td>\\n<td class=\"dosechart-form\">\\xa0</td>\\n</tr>\\n<tr>\\n<td align=\"right\" class=\"dosechart-time\">\\xa0</td>\\n<td align=\"center\" class=\"dosechart-amount\">2 leaves</td>\\n<td align=\"center\" class=\"dosechart-method\">buccal</td>\\n<td class=\"dosechart-substance\"><a href=\"/plants/salvia/\">Salvia divinorum</a></td>\\n<td class=\"dosechart-form\">(dried)</td>\\n</tr>\\n</table>',\n",
              "  'bodyweight': '<table class=\"bodyweight\">\\n<tr>\\n<td class=\"bodyweight-title\">BODY WEIGHT:</td>\\n<td class=\"bodyweight-amount\">125 lb</td>\\n</tr>\\n</table>',\n",
              "  'footdata': '<table class=\"footdata\">\\n<tr><td class=\"footdata-expyear\">Exp Year: 2008</td><td class=\"footdata-expid\">ExpID: 75003</td></tr>\\n<tr><td class=\"footdata-gender\">Gender: Male</td><td>\\xa0</td></tr>\\n<tr><td class=\"footdata-ageofexp\" colspan=\"2\">Age at time of experience: Not Given</td></tr>\\n<tr><td class=\"footdata-pubdate\">Published: Feb 24, 2009</td><td class=\"footdata-numviews\">Views: 59,611</td></tr>\\n<tr><td class=\"footdata-other-formats\" colspan=\"2\">[ <a href=\"exp.php?ID=75003&amp;format=pdf\" type=\"text/pdf\">View PDF (to print)</a> ] [ <a href=\"exp_pdf.php?ID=75003&amp;format=latex\">View LaTeX (for geeks)</a> ]\\n[\\xa0<a href=\"#\" onclick=\"expChangeColors(); return false;\">Swap\\xa0Dark/Light</a>\\xa0]\\n</td></tr>\\n<tr><td class=\"footdata-topic-list\" colspan=\"2\">DMT\\xa0(18), 5-MeO-DMT\\xa0(58), Salvia divinorum\\xa0(44) : Various\\xa0(28), Entities / Beings\\xa0(37), Nature / Outdoors\\xa0(23), Retrospective / Summary\\xa0(11), Combinations\\xa0(3)</td></tr>\\n<!--  <img src=\"/images/new.gif\" alt=\"May\"> -->\\n</table>'},\n",
              " {'link': 'https://www.erowid.org/experiences/exp.php?ID=70283',\n",
              "  'substance': 'Mushrooms - P. cubensis, LSD, 2C-B, MDMA (Ecstasy), DMT, Ketamine, Mescaline & Cannabis',\n",
              "  'dosechart': '<table class=\"dosechart\">\\n<tr>\\n<td align=\"right\" class=\"dosechart-time\">DOSE:<br/> T+ 0:00</td>\\n<td align=\"center\" class=\"dosechart-amount\">2.0 g</td>\\n<td align=\"center\" class=\"dosechart-method\">oral</td>\\n<td class=\"dosechart-substance\"><a href=\"/plants/mushrooms/\">Mushrooms - P. cubensis</a></td>\\n<td class=\"dosechart-form\">(dried)</td>\\n</tr>\\n<tr>\\n<td align=\"right\" class=\"dosechart-time\">\\xa0 T+ 3:30</td>\\n<td align=\"center\" class=\"dosechart-amount\">3.0 g</td>\\n<td align=\"center\" class=\"dosechart-method\">oral</td>\\n<td class=\"dosechart-substance\"><a href=\"/plants/mushrooms/\">Mushrooms - P. cubensis</a></td>\\n<td class=\"dosechart-form\">(dried)</td>\\n</tr>\\n<tr>\\n<td align=\"right\" class=\"dosechart-time\">\\xa0 T+ 3:30</td>\\n<td align=\"center\" class=\"dosechart-amount\">3 hits</td>\\n<td align=\"center\" class=\"dosechart-method\">oral</td>\\n<td class=\"dosechart-substance\"><a href=\"/chemicals/lsd/\">LSD</a></td>\\n<td class=\"dosechart-form\">(blotter / tab)</td>\\n</tr>\\n<tr>\\n<td align=\"right\" class=\"dosechart-time\">\\xa0 T+ 6:00</td>\\n<td align=\"center\" class=\"dosechart-amount\">2 hits</td>\\n<td align=\"center\" class=\"dosechart-method\">oral</td>\\n<td class=\"dosechart-substance\"><a href=\"/chemicals/lsd/\">LSD</a></td>\\n<td class=\"dosechart-form\">(blotter / tab)</td>\\n</tr>\\n<tr>\\n<td align=\"right\" class=\"dosechart-time\">\\xa0 T+ 6:00</td>\\n<td align=\"center\" class=\"dosechart-amount\">1 capsl</td>\\n<td align=\"center\" class=\"dosechart-method\">oral</td>\\n<td class=\"dosechart-substance\"><a href=\"/chemicals/2cb/\">2C-B</a></td>\\n<td class=\"dosechart-form\">(capsule)</td>\\n</tr>\\n<tr>\\n<td align=\"right\" class=\"dosechart-time\">\\xa0 T+ 6:00</td>\\n<td align=\"center\" class=\"dosechart-amount\">2 lines</td>\\n<td align=\"center\" class=\"dosechart-method\">insufflated</td>\\n<td class=\"dosechart-substance\"><a href=\"/chemicals/mdma/\">MDMA</a></td>\\n<td class=\"dosechart-form\">(powder / crystals)</td>\\n</tr>\\n<tr>\\n<td align=\"right\" class=\"dosechart-time\">\\xa0 T+ 10:00</td>\\n<td align=\"center\" class=\"dosechart-amount\">1 hit</td>\\n<td align=\"center\" class=\"dosechart-method\">smoked</td>\\n<td class=\"dosechart-substance\"><a href=\"/chemicals/dmt/\">DMT</a></td>\\n<td class=\"dosechart-form\">(powder / crystals)</td>\\n</tr>\\n<tr>\\n<td align=\"right\" class=\"dosechart-time\">\\xa0 T+ 10:45</td>\\n<td align=\"center\" class=\"dosechart-amount\">1 capsl</td>\\n<td align=\"center\" class=\"dosechart-method\">oral</td>\\n<td class=\"dosechart-substance\"><a href=\"/chemicals/2cb/\">2C-B</a></td>\\n<td class=\"dosechart-form\">(capsule)</td>\\n</tr>\\n<tr>\\n<td align=\"right\" class=\"dosechart-time\">\\xa0 T+ 14:30</td>\\n<td align=\"center\" class=\"dosechart-amount\">1 capsl</td>\\n<td align=\"center\" class=\"dosechart-method\">oral</td>\\n<td class=\"dosechart-substance\"><a href=\"/chemicals/mdma/\">MDMA</a></td>\\n<td class=\"dosechart-form\">(capsule)</td>\\n</tr>\\n<tr>\\n<td align=\"right\" class=\"dosechart-time\">\\xa0 T+ 15:30</td>\\n<td align=\"center\" class=\"dosechart-amount\">1 bump</td>\\n<td align=\"center\" class=\"dosechart-method\">insufflated</td>\\n<td class=\"dosechart-substance\"><a href=\"/chemicals/ketamine/\">Ketamine</a></td>\\n<td class=\"dosechart-form\">(powder / crystals)</td>\\n</tr>\\n<tr>\\n<td align=\"right\" class=\"dosechart-time\">\\xa0 T+ 16:30</td>\\n<td align=\"center\" class=\"dosechart-amount\">2 bumps</td>\\n<td align=\"center\" class=\"dosechart-method\">insufflated</td>\\n<td class=\"dosechart-substance\"><a href=\"/chemicals/ketamine/\">Ketamine</a></td>\\n<td class=\"dosechart-form\">(powder / crystals)</td>\\n</tr>\\n<tr>\\n<td align=\"right\" class=\"dosechart-time\">\\xa0 T+ 18:00</td>\\n<td align=\"center\" class=\"dosechart-amount\">2 capsls</td>\\n<td align=\"center\" class=\"dosechart-method\">oral</td>\\n<td class=\"dosechart-substance\"><a href=\"/chemicals/mdma/\">MDMA</a></td>\\n<td class=\"dosechart-form\">(capsule)</td>\\n</tr>\\n<tr>\\n<td align=\"right\" class=\"dosechart-time\">\\xa0 T+ 23:00</td>\\n<td align=\"center\" class=\"dosechart-amount\">5.0 g</td>\\n<td align=\"center\" class=\"dosechart-method\">oral</td>\\n<td class=\"dosechart-substance\"><a href=\"/plants/mushrooms/\">Mushrooms - P. cubensis</a></td>\\n<td class=\"dosechart-form\">(dried)</td>\\n</tr>\\n<tr>\\n<td align=\"right\" class=\"dosechart-time\">\\xa0 T+ 23:00</td>\\n<td align=\"center\" class=\"dosechart-amount\">2 bumps</td>\\n<td align=\"center\" class=\"dosechart-method\">insufflated</td>\\n<td class=\"dosechart-substance\"><a href=\"/chemicals/ketamine/\">Ketamine</a></td>\\n<td class=\"dosechart-form\">(powder / crystals)</td>\\n</tr>\\n</table>',\n",
              "  'bodyweight': '<table class=\"bodyweight\">\\n<tr>\\n<td class=\"bodyweight-title\">BODY WEIGHT:</td>\\n<td class=\"bodyweight-amount\">95 kg</td>\\n</tr>\\n</table>',\n",
              "  'footdata': '<table class=\"footdata\">\\n<tr><td class=\"footdata-expyear\">Exp Year: 2008</td><td class=\"footdata-expid\">ExpID: 70283</td></tr>\\n<tr><td class=\"footdata-gender\">Gender: Male</td><td>\\xa0</td></tr>\\n<tr><td class=\"footdata-ageofexp\" colspan=\"2\">Age at time of experience: Not Given</td></tr>\\n<tr><td class=\"footdata-pubdate\">Published: Jun 21, 2008</td><td class=\"footdata-numviews\">Views: 303,937</td></tr>\\n<tr><td class=\"footdata-other-formats\" colspan=\"2\">[ <a href=\"exp.php?ID=70283&amp;format=pdf\" type=\"text/pdf\">View PDF (to print)</a> ] [ <a href=\"exp_pdf.php?ID=70283&amp;format=latex\">View LaTeX (for geeks)</a> ]\\n[\\xa0<a href=\"#\" onclick=\"expChangeColors(); return false;\">Swap\\xa0Dark/Light</a>\\xa0]\\n</td></tr>\\n<tr><td class=\"footdata-topic-list\" colspan=\"2\">Ketamine\\xa0(31), DMT\\xa0(18), MDMA\\xa0(3), Mescaline\\xa0(36), 2C-B\\xa0(52), LSD\\xa0(2), Mushrooms - P. cubensis\\xa0(66) : Glowing Experiences\\xa0(4), Difficult Experiences\\xa0(5), Mystical Experiences\\xa0(9), Entities / Beings\\xa0(37), Multi-Day Experience\\xa0(13), Combinations\\xa0(3), Festival / Lg. Crowd\\xa0(24)</td></tr>\\n<!--  <img src=\"/images/new.gif\" alt=\"May\"> -->\\n</table>'},\n",
              " {'link': 'https://www.erowid.org/experiences/exp.php?ID=66730',\n",
              "  'substance': 'MDMA, Cacti - T. bridgesii & DMT',\n",
              "  'dosechart': '<table class=\"dosechart\">\\n<tr>\\n<td align=\"right\" class=\"dosechart-time\">DOSE:<br/> T+ 0:00</td>\\n<td align=\"center\" class=\"dosechart-amount\">300 mg</td>\\n<td align=\"center\" class=\"dosechart-method\">oral</td>\\n<td class=\"dosechart-substance\"><a href=\"/chemicals/mdma/\">MDMA</a></td>\\n<td class=\"dosechart-form\">\\xa0</td>\\n</tr>\\n<tr>\\n<td align=\"right\" class=\"dosechart-time\">\\xa0 T+ 0:30</td>\\n<td align=\"center\" class=\"dosechart-amount\">7.0 g</td>\\n<td align=\"center\" class=\"dosechart-method\">oral</td>\\n<td class=\"dosechart-substance\"><a href=\"/plants/cacti/\">Cacti - T. bridgesii</a></td>\\n<td class=\"dosechart-form\">(dried)</td>\\n</tr>\\n<tr>\\n<td align=\"right\" class=\"dosechart-time\">\\xa0 T+ 0:00</td>\\n<td align=\"center\" class=\"dosechart-amount\">\\xa0 </td>\\n<td align=\"center\" class=\"dosechart-method\">smoked</td>\\n<td class=\"dosechart-substance\"><a href=\"/plants/cannabis/\">Cannabis</a></td>\\n<td class=\"dosechart-form\">(plant material)</td>\\n</tr>\\n<tr>\\n<td align=\"right\" class=\"dosechart-time\">\\xa0 T+ 10:00</td>\\n<td align=\"center\" class=\"dosechart-amount\">2 hits</td>\\n<td align=\"center\" class=\"dosechart-method\">smoked</td>\\n<td class=\"dosechart-substance\"><a href=\"/chemicals/dmt/\">DMT</a></td>\\n<td class=\"dosechart-form\">\\xa0</td>\\n</tr>\\n</table>',\n",
              "  'bodyweight': '<table class=\"bodyweight\">\\n<tr>\\n<td class=\"bodyweight-title\">BODY WEIGHT:</td>\\n<td class=\"bodyweight-amount\">120 lb</td>\\n</tr>\\n</table>',\n",
              "  'footdata': '<table class=\"footdata\">\\n<tr><td class=\"footdata-expyear\">Exp Year: 2007</td><td class=\"footdata-expid\">ExpID: 66730</td></tr>\\n<tr><td class=\"footdata-gender\">Gender: Male</td><td>\\xa0</td></tr>\\n<tr><td class=\"footdata-ageofexp\" colspan=\"2\">Age at time of experience: Not Given</td></tr>\\n<tr><td class=\"footdata-pubdate\">Published: Dec 1, 2007</td><td class=\"footdata-numviews\">Views: 44,652</td></tr>\\n<tr><td class=\"footdata-other-formats\" colspan=\"2\">[ <a href=\"exp.php?ID=66730&amp;format=pdf\" type=\"text/pdf\">View PDF (to print)</a> ] [ <a href=\"exp_pdf.php?ID=66730&amp;format=latex\">View LaTeX (for geeks)</a> ]\\n[\\xa0<a href=\"#\" onclick=\"expChangeColors(); return false;\">Swap\\xa0Dark/Light</a>\\xa0]\\n</td></tr>\\n<tr><td class=\"footdata-topic-list\" colspan=\"2\">Cacti - T. bridgesii\\xa0(448), MDMA\\xa0(3), DMT\\xa0(18) : Small Group (2-9)\\xa0(17), Glowing Experiences\\xa0(4), Combinations\\xa0(3)</td></tr>\\n<!--  <img src=\"/images/new.gif\" alt=\"May\"> -->\\n</table>'},\n",
              " {'link': 'https://www.erowid.org/experiences/exp.php?ID=65793',\n",
              "  'substance': 'LSD, DMT & Cannabis',\n",
              "  'dosechart': '<table class=\"dosechart\">\\n<tr>\\n<td align=\"right\" class=\"dosechart-time\">DOSE:<br/></td>\\n<td align=\"center\" class=\"dosechart-amount\">3 hits</td>\\n<td align=\"center\" class=\"dosechart-method\">oral</td>\\n<td class=\"dosechart-substance\"><a href=\"/chemicals/lsd/\">LSD</a></td>\\n<td class=\"dosechart-form\">(blotter / tab)</td>\\n</tr>\\n<tr>\\n<td align=\"right\" class=\"dosechart-time\">\\xa0</td>\\n<td align=\"center\" class=\"dosechart-amount\">\\xa0 repeated</td>\\n<td align=\"center\" class=\"dosechart-method\">smoked</td>\\n<td class=\"dosechart-substance\"><a href=\"/plants/cannabis/\">Cannabis</a></td>\\n<td class=\"dosechart-form\">(plant material)</td>\\n</tr>\\n<tr>\\n<td align=\"right\" class=\"dosechart-time\">\\xa0</td>\\n<td align=\"center\" class=\"dosechart-amount\">\\xa0 </td>\\n<td align=\"center\" class=\"dosechart-method\">smoked</td>\\n<td class=\"dosechart-substance\"><a href=\"/chemicals/dmt/\">DMT</a></td>\\n<td class=\"dosechart-form\">(powder / crystals)</td>\\n</tr>\\n</table>',\n",
              "  'bodyweight': '<table class=\"bodyweight\">\\n<tr>\\n<td class=\"bodyweight-title\">BODY WEIGHT:</td>\\n<td class=\"bodyweight-amount\">150 lb</td>\\n</tr>\\n</table>',\n",
              "  'footdata': '<table class=\"footdata\">\\n<tr><td class=\"footdata-expyear\">Exp Year: 2007</td><td class=\"footdata-expid\">ExpID: 65793</td></tr>\\n<tr><td class=\"footdata-gender\">Gender: Male</td><td>\\xa0</td></tr>\\n<tr><td class=\"footdata-ageofexp\" colspan=\"2\">Age at time of experience: Not Given</td></tr>\\n<tr><td class=\"footdata-pubdate\">Published: Oct 9, 2007</td><td class=\"footdata-numviews\">Views: 42,948</td></tr>\\n<tr><td class=\"footdata-other-formats\" colspan=\"2\">[ <a href=\"exp.php?ID=65793&amp;format=pdf\" type=\"text/pdf\">View PDF (to print)</a> ] [ <a href=\"exp_pdf.php?ID=65793&amp;format=latex\">View LaTeX (for geeks)</a> ]\\n[\\xa0<a href=\"#\" onclick=\"expChangeColors(); return false;\">Swap\\xa0Dark/Light</a>\\xa0]\\n</td></tr>\\n<tr><td class=\"footdata-topic-list\" colspan=\"2\">DMT\\xa0(18), LSD\\xa0(2) : Alone\\xa0(16), Mystical Experiences\\xa0(9), Entities / Beings\\xa0(37), Nature / Outdoors\\xa0(23), Combinations\\xa0(3)</td></tr>\\n<!--  <img src=\"/images/new.gif\" alt=\"May\"> -->\\n</table>'},\n",
              " {'link': 'https://www.erowid.org/experiences/exp.php?ID=65384',\n",
              "  'substance': 'DMT (Extracted from M. tenuiflora)',\n",
              "  'dosechart': '<table class=\"dosechart\">\\n<tr>\\n<td align=\"right\" class=\"dosechart-time\">DOSE:<br/></td>\\n<td align=\"center\" class=\"dosechart-amount\">\\xa0 </td>\\n<td align=\"center\" class=\"dosechart-method\">smoked</td>\\n<td class=\"dosechart-substance\"><a href=\"/chemicals/dmt/\">DMT</a></td>\\n<td class=\"dosechart-form\">(powder / crystals)</td>\\n</tr>\\n<tr>\\n<td align=\"right\" class=\"dosechart-time\">\\xa0</td>\\n<td align=\"center\" class=\"dosechart-amount\">\\xa0 </td>\\n<td align=\"center\" class=\"dosechart-method\">smoked</td>\\n<td class=\"dosechart-substance\"><a href=\"/plants/cannabis/\">Cannabis</a></td>\\n<td class=\"dosechart-form\">(plant material)</td>\\n</tr>\\n</table>',\n",
              "  'bodyweight': '<table class=\"bodyweight\">\\n<tr>\\n<td class=\"bodyweight-title\">BODY WEIGHT:</td>\\n<td class=\"bodyweight-amount\">180 lb</td>\\n</tr>\\n</table>',\n",
              "  'footdata': '<table class=\"footdata\">\\n<tr><td class=\"footdata-expyear\">Exp Year: 2007</td><td class=\"footdata-expid\">ExpID: 65384</td></tr>\\n<tr><td class=\"footdata-gender\">Gender: Male</td><td>\\xa0</td></tr>\\n<tr><td class=\"footdata-ageofexp\" colspan=\"2\">Age at time of experience: Not Given</td></tr>\\n<tr><td class=\"footdata-pubdate\">Published: Oct 3, 2007</td><td class=\"footdata-numviews\">Views: 56,492</td></tr>\\n<tr><td class=\"footdata-other-formats\" colspan=\"2\">[ <a href=\"exp.php?ID=65384&amp;format=pdf\" type=\"text/pdf\">View PDF (to print)</a> ] [ <a href=\"exp_pdf.php?ID=65384&amp;format=latex\">View LaTeX (for geeks)</a> ]\\n[\\xa0<a href=\"#\" onclick=\"expChangeColors(); return false;\">Swap\\xa0Dark/Light</a>\\xa0]\\n</td></tr>\\n<tr><td class=\"footdata-topic-list\" colspan=\"2\">Mimosa tenuiflora\\xa0(74), DMT\\xa0(18) : Small Group (2-9)\\xa0(17), Entities / Beings\\xa0(37), Mystical Experiences\\xa0(9), Difficult Experiences\\xa0(5)</td></tr>\\n<!--  <img src=\"/images/new.gif\" alt=\"May\"> -->\\n</table>'},\n",
              " {'link': 'https://www.erowid.org/experiences/exp.php?ID=58800',\n",
              "  'substance': 'Huasca Combo (Syrian Rue & DMT)',\n",
              "  'dosechart': '<table class=\"dosechart\">\\n<tr>\\n<td align=\"right\" class=\"dosechart-time\">DOSE:<br/> T+ 0:00</td>\\n<td align=\"center\" class=\"dosechart-amount\">3.0 g</td>\\n<td align=\"center\" class=\"dosechart-method\">oral</td>\\n<td class=\"dosechart-substance\"><a href=\"/plants/syrian_rue/\">Syrian Rue</a></td>\\n<td class=\"dosechart-form\">(powder / crystals)</td>\\n</tr>\\n<tr>\\n<td align=\"right\" class=\"dosechart-time\">\\xa0 T+ 0:45</td>\\n<td align=\"center\" class=\"dosechart-amount\">50 mg</td>\\n<td align=\"center\" class=\"dosechart-method\">oral</td>\\n<td class=\"dosechart-substance\"><a href=\"/chemicals/dmt/\">DMT</a></td>\\n<td class=\"dosechart-form\">(powder / crystals)</td>\\n</tr>\\n</table>',\n",
              "  'bodyweight': '<table class=\"bodyweight\">\\n<tr>\\n<td class=\"bodyweight-title\">BODY WEIGHT:</td>\\n<td class=\"bodyweight-amount\">165 lb</td>\\n</tr>\\n</table>',\n",
              "  'footdata': '<table class=\"footdata\">\\n<tr><td class=\"footdata-expyear\">Exp Year: 2006</td><td class=\"footdata-expid\">ExpID: 58800</td></tr>\\n<tr><td class=\"footdata-gender\">Gender: Male</td><td>\\xa0</td></tr>\\n<tr><td class=\"footdata-ageofexp\" colspan=\"2\">Age at time of experience: Not Given</td></tr>\\n<tr><td class=\"footdata-pubdate\">Published: Jan 20, 2007</td><td class=\"footdata-numviews\">Views: 68,525</td></tr>\\n<tr><td class=\"footdata-other-formats\" colspan=\"2\">[ <a href=\"exp.php?ID=58800&amp;format=pdf\" type=\"text/pdf\">View PDF (to print)</a> ] [ <a href=\"exp_pdf.php?ID=58800&amp;format=latex\">View LaTeX (for geeks)</a> ]\\n[\\xa0<a href=\"#\" onclick=\"expChangeColors(); return false;\">Swap\\xa0Dark/Light</a>\\xa0]\\n</td></tr>\\n<tr><td class=\"footdata-topic-list\" colspan=\"2\">Huasca Combo\\xa0(269), DMT\\xa0(18), Syrian Rue\\xa0(45) : Small Group (2-9)\\xa0(17), Mystical Experiences\\xa0(9), Difficult Experiences\\xa0(5), Combinations\\xa0(3)</td></tr>\\n<!--  <img src=\"/images/new.gif\" alt=\"May\"> -->\\n</table>'},\n",
              " {'link': 'https://www.erowid.org/experiences/exp.php?ID=58907',\n",
              "  'substance': 'DMT',\n",
              "  'dosechart': '<table class=\"dosechart\">\\n<tr>\\n<td align=\"right\" class=\"dosechart-time\">DOSE:<br/></td>\\n<td align=\"center\" class=\"dosechart-amount\">35 mg</td>\\n<td align=\"center\" class=\"dosechart-method\">smoked</td>\\n<td class=\"dosechart-substance\"><a href=\"/chemicals/dmt/\">DMT</a></td>\\n<td class=\"dosechart-form\">(powder / crystals)</td>\\n</tr>\\n</table>',\n",
              "  'bodyweight': '<table class=\"bodyweight\">\\n<tr>\\n<td class=\"bodyweight-title\">BODY WEIGHT:</td>\\n<td class=\"bodyweight-amount\">160 lb</td>\\n</tr>\\n</table>',\n",
              "  'footdata': '<table class=\"footdata\">\\n<tr><td class=\"footdata-expyear\">Exp Year: 2007</td><td class=\"footdata-expid\">ExpID: 58907</td></tr>\\n<tr><td class=\"footdata-gender\">Gender: Male</td><td>\\xa0</td></tr>\\n<tr><td class=\"footdata-ageofexp\" colspan=\"2\">Age at time of experience: Not Given</td></tr>\\n<tr><td class=\"footdata-pubdate\">Published: Jan 19, 2007</td><td class=\"footdata-numviews\">Views: 70,642</td></tr>\\n<tr><td class=\"footdata-other-formats\" colspan=\"2\">[ <a href=\"exp.php?ID=58907&amp;format=pdf\" type=\"text/pdf\">View PDF (to print)</a> ] [ <a href=\"exp_pdf.php?ID=58907&amp;format=latex\">View LaTeX (for geeks)</a> ]\\n[\\xa0<a href=\"#\" onclick=\"expChangeColors(); return false;\">Swap\\xa0Dark/Light</a>\\xa0]\\n</td></tr>\\n<tr><td class=\"footdata-topic-list\" colspan=\"2\">DMT\\xa0(18) : Alone\\xa0(16), Mystical Experiences\\xa0(9), Entities / Beings\\xa0(37), First Times\\xa0(2)</td></tr>\\n<!--  <img src=\"/images/new.gif\" alt=\"May\"> -->\\n</table>'},\n",
              " {'link': 'https://www.erowid.org/experiences/exp.php?ID=52797',\n",
              "  'substance': 'DMT',\n",
              "  'dosechart': '<table class=\"dosechart\">\\n<tr>\\n<td align=\"right\" class=\"dosechart-time\">DOSE:<br/></td>\\n<td align=\"center\" class=\"dosechart-amount\">70 mg</td>\\n<td align=\"center\" class=\"dosechart-method\">smoked</td>\\n<td class=\"dosechart-substance\"><a href=\"/chemicals/dmt/\">DMT</a></td>\\n<td class=\"dosechart-form\">(powder / crystals)</td>\\n</tr>\\n</table>',\n",
              "  'bodyweight': '<table class=\"bodyweight\">\\n<tr>\\n<td class=\"bodyweight-title\">BODY WEIGHT:</td>\\n<td class=\"bodyweight-amount\">175 lb</td>\\n</tr>\\n</table>',\n",
              "  'footdata': '<table class=\"footdata\">\\n<tr><td class=\"footdata-expyear\">Exp Year: 2005</td><td class=\"footdata-expid\">ExpID: 52797</td></tr>\\n<tr><td class=\"footdata-gender\">Gender: Male</td><td>\\xa0</td></tr>\\n<tr><td class=\"footdata-ageofexp\" colspan=\"2\">Age at time of experience: Not Given</td></tr>\\n<tr><td class=\"footdata-pubdate\">Published: May 31, 2006</td><td class=\"footdata-numviews\">Views: 84,835</td></tr>\\n<tr><td class=\"footdata-other-formats\" colspan=\"2\">[ <a href=\"exp.php?ID=52797&amp;format=pdf\" type=\"text/pdf\">View PDF (to print)</a> ] [ <a href=\"exp_pdf.php?ID=52797&amp;format=latex\">View LaTeX (for geeks)</a> ]\\n[\\xa0<a href=\"#\" onclick=\"expChangeColors(); return false;\">Swap\\xa0Dark/Light</a>\\xa0]\\n</td></tr>\\n<tr><td class=\"footdata-topic-list\" colspan=\"2\">DMT\\xa0(18) : Alone\\xa0(16), Entities / Beings\\xa0(37), Glowing Experiences\\xa0(4)</td></tr>\\n<!--  <img src=\"/images/new.gif\" alt=\"May\"> -->\\n</table>'},\n",
              " {'link': 'https://www.erowid.org/experiences/exp.php?ID=46854',\n",
              "  'substance': 'DMT & Moclobemide',\n",
              "  'dosechart': '<table class=\"dosechart\">\\n<tr>\\n<td align=\"right\" class=\"dosechart-time\">DOSE:<br/> T+ 0:00</td>\\n<td align=\"center\" class=\"dosechart-amount\">150 mg</td>\\n<td align=\"center\" class=\"dosechart-method\">oral</td>\\n<td class=\"dosechart-substance\"><a href=\"/pharms/moclobemide/\">Moclobemide</a></td>\\n</tr>\\n<tr>\\n<td align=\"right\" class=\"dosechart-time\">\\xa0 T+ 0:30</td>\\n<td align=\"center\" class=\"dosechart-amount\">50 mg</td>\\n<td align=\"center\" class=\"dosechart-method\">oral</td>\\n<td class=\"dosechart-substance\"><a href=\"/chemicals/dmt/\">DMT</a></td>\\n</tr>\\n<tr>\\n<td align=\"right\" class=\"dosechart-time\">\\xa0 T+ 1:00</td>\\n<td align=\"center\" class=\"dosechart-amount\">30 mg</td>\\n<td align=\"center\" class=\"dosechart-method\">oral</td>\\n<td class=\"dosechart-substance\"><a href=\"/chemicals/dmt/\">DMT</a></td>\\n</tr>\\n</table>',\n",
              "  'bodyweight': '<table class=\"bodyweight\">\\n<tr>\\n<td class=\"bodyweight-title\">BODY WEIGHT:</td>\\n<td class=\"bodyweight-amount\">150 lb</td>\\n</tr>\\n</table>',\n",
              "  'footdata': '<table class=\"footdata\">\\n<tr><td class=\"footdata-expyear\">Exp Year: 2004</td><td class=\"footdata-expid\">ExpID: 46854</td></tr>\\n<tr><td class=\"footdata-gender\">Gender: Male</td><td>\\xa0</td></tr>\\n<tr><td class=\"footdata-ageofexp\" colspan=\"2\">Age at time of experience: Not Given</td></tr>\\n<tr><td class=\"footdata-pubdate\">Published: Nov 1, 2005</td><td class=\"footdata-numviews\">Views: 79,649</td></tr>\\n<tr><td class=\"footdata-other-formats\" colspan=\"2\">[ <a href=\"exp.php?ID=46854&amp;format=pdf\" type=\"text/pdf\">View PDF (to print)</a> ] [ <a href=\"exp_pdf.php?ID=46854&amp;format=latex\">View LaTeX (for geeks)</a> ]\\n[\\xa0<a href=\"#\" onclick=\"expChangeColors(); return false;\">Swap\\xa0Dark/Light</a>\\xa0]\\n</td></tr>\\n<tr><td class=\"footdata-topic-list\" colspan=\"2\">DMT\\xa0(18), Moclobemide\\xa0(75) : Entities / Beings\\xa0(37), First Times\\xa0(2), Small Group (2-9)\\xa0(17)</td></tr>\\n<!--  <img src=\"/images/new.gif\" alt=\"May\"> -->\\n</table>'},\n",
              " {'link': 'https://www.erowid.org/experiences/exp.php?ID=46856',\n",
              "  'substance': 'DMT & Cannabis',\n",
              "  'dosechart': '<table class=\"dosechart\">\\n<tr>\\n<td align=\"right\" class=\"dosechart-time\">DOSE:<br/></td>\\n<td align=\"center\" class=\"dosechart-amount\">\\xa0 repeated</td>\\n<td align=\"center\" class=\"dosechart-method\">smoked</td>\\n<td class=\"dosechart-substance\"><a href=\"/chemicals/dmt/\">DMT</a></td>\\n<td class=\"dosechart-form\">(powder / crystals)</td>\\n</tr>\\n<tr>\\n<td align=\"right\" class=\"dosechart-time\">\\xa0</td>\\n<td align=\"center\" class=\"dosechart-amount\">\\xa0 repeated</td>\\n<td align=\"center\" class=\"dosechart-method\">smoked</td>\\n<td class=\"dosechart-substance\"><a href=\"/plants/cannabis/\">Cannabis</a></td>\\n<td class=\"dosechart-form\">(plant material)</td>\\n</tr>\\n</table>',\n",
              "  'bodyweight': '<table class=\"bodyweight\">\\n<tr>\\n<td class=\"bodyweight-title\">BODY WEIGHT:</td>\\n<td class=\"bodyweight-amount\">150 lb</td>\\n</tr>\\n</table>',\n",
              "  'footdata': '<table class=\"footdata\">\\n<tr><td class=\"footdata-expyear\">Exp Year: 2005</td><td class=\"footdata-expid\">ExpID: 46856</td></tr>\\n<tr><td class=\"footdata-gender\">Gender: Male</td><td>\\xa0</td></tr>\\n<tr><td class=\"footdata-ageofexp\" colspan=\"2\">Age at time of experience: Not Given</td></tr>\\n<tr><td class=\"footdata-pubdate\">Published: Oct 20, 2005</td><td class=\"footdata-numviews\">Views: 91,781</td></tr>\\n<tr><td class=\"footdata-other-formats\" colspan=\"2\">[ <a href=\"exp.php?ID=46856&amp;format=pdf\" type=\"text/pdf\">View PDF (to print)</a> ] [ <a href=\"exp_pdf.php?ID=46856&amp;format=latex\">View LaTeX (for geeks)</a> ]\\n[\\xa0<a href=\"#\" onclick=\"expChangeColors(); return false;\">Swap\\xa0Dark/Light</a>\\xa0]\\n</td></tr>\\n<tr><td class=\"footdata-topic-list\" colspan=\"2\">DMT\\xa0(18), Cannabis\\xa0(1) : Combinations\\xa0(3), Glowing Experiences\\xa0(4), Mystical Experiences\\xa0(9), Entities / Beings\\xa0(37), Small Group (2-9)\\xa0(17)</td></tr>\\n<!--  <img src=\"/images/new.gif\" alt=\"May\"> -->\\n</table>'},\n",
              " {'link': 'https://www.erowid.org/experiences/exp.php?ID=41106',\n",
              "  'substance': 'DMT, DPT, Moclobemide & Nitrous Oxide',\n",
              "  'dosechart': '<table class=\"dosechart\">\\n<tr>\\n<td align=\"right\" class=\"dosechart-time\">DOSE:<br/> T+ 0:00</td>\\n<td align=\"center\" class=\"dosechart-amount\">150 mg</td>\\n<td align=\"center\" class=\"dosechart-method\">oral</td>\\n<td class=\"dosechart-substance\"><a href=\"/pharms/moclobemide/\">Moclobemide</a></td>\\n<td class=\"dosechart-form\">\\xa0</td>\\n</tr>\\n<tr>\\n<td align=\"right\" class=\"dosechart-time\">\\xa0 T+ 0:00</td>\\n<td align=\"center\" class=\"dosechart-amount\">55 mg</td>\\n<td align=\"center\" class=\"dosechart-method\">insufflated</td>\\n<td class=\"dosechart-substance\"><a href=\"/chemicals/dpt/\">DPT</a></td>\\n<td class=\"dosechart-form\">(powder / crystals)</td>\\n</tr>\\n<tr>\\n<td align=\"right\" class=\"dosechart-time\">\\xa0 T+ 0:00</td>\\n<td align=\"center\" class=\"dosechart-amount\">1 cart.</td>\\n<td align=\"center\" class=\"dosechart-method\">inhaled</td>\\n<td class=\"dosechart-substance\"><a href=\"/chemicals/nitrous/\">Nitrous Oxide</a></td>\\n<td class=\"dosechart-form\">(gas)</td>\\n</tr>\\n<tr>\\n<td align=\"right\" class=\"dosechart-time\">\\xa0 T+ 0:20</td>\\n<td align=\"center\" class=\"dosechart-amount\">20 carts.</td>\\n<td align=\"center\" class=\"dosechart-method\">inhaled</td>\\n<td class=\"dosechart-substance\"><a href=\"/chemicals/nitrous/\">Nitrous Oxide</a></td>\\n<td class=\"dosechart-form\">(gas)</td>\\n</tr>\\n<tr>\\n<td align=\"right\" class=\"dosechart-time\">\\xa0 T+ 2:15</td>\\n<td align=\"center\" class=\"dosechart-amount\">80 mg</td>\\n<td align=\"center\" class=\"dosechart-method\">smoked</td>\\n<td class=\"dosechart-substance\"><a href=\"/chemicals/dmt/\">DMT</a></td>\\n<td class=\"dosechart-form\">(freebase)</td>\\n</tr>\\n<tr>\\n<td align=\"right\" class=\"dosechart-time\">\\xa0 T+ 4:00</td>\\n<td align=\"center\" class=\"dosechart-amount\">50 mg</td>\\n<td align=\"center\" class=\"dosechart-method\">insufflated</td>\\n<td class=\"dosechart-substance\"><a href=\"/chemicals/dpt/\">DPT</a></td>\\n<td class=\"dosechart-form\">(powder / crystals)</td>\\n</tr>\\n<tr>\\n<td align=\"right\" class=\"dosechart-time\">\\xa0 T+ 0:00</td>\\n<td align=\"center\" class=\"dosechart-amount\">\\xa0 repeated</td>\\n<td align=\"center\" class=\"dosechart-method\">inhaled</td>\\n<td class=\"dosechart-substance\"><a href=\"/chemicals/nitrous/\">Nitrous Oxide</a></td>\\n<td class=\"dosechart-form\">(gas)</td>\\n</tr>\\n</table>',\n",
              "  'bodyweight': '<table class=\"bodyweight\">\\n<tr>\\n<td class=\"bodyweight-title\">BODY WEIGHT:</td>\\n<td class=\"bodyweight-amount\">125 lb</td>\\n</tr>\\n</table>',\n",
              "  'footdata': '<table class=\"footdata\">\\n<tr><td class=\"footdata-expyear\">Exp Year: 2004</td><td class=\"footdata-expid\">ExpID: 41106</td></tr>\\n<tr><td class=\"footdata-gender\">Gender: Male</td><td>\\xa0</td></tr>\\n<tr><td class=\"footdata-ageofexp\" colspan=\"2\">Age at time of experience: Not Given</td></tr>\\n<tr><td class=\"footdata-pubdate\">Published: Jun 7, 2005</td><td class=\"footdata-numviews\">Views: 34,261</td></tr>\\n<tr><td class=\"footdata-other-formats\" colspan=\"2\">[ <a href=\"exp.php?ID=41106&amp;format=pdf\" type=\"text/pdf\">View PDF (to print)</a> ] [ <a href=\"exp_pdf.php?ID=41106&amp;format=latex\">View LaTeX (for geeks)</a> ]\\n[\\xa0<a href=\"#\" onclick=\"expChangeColors(); return false;\">Swap\\xa0Dark/Light</a>\\xa0]\\n</td></tr>\\n<tr><td class=\"footdata-topic-list\" colspan=\"2\">DMT\\xa0(18), DPT\\xa0(21) : Entities / Beings\\xa0(37), Combinations\\xa0(3), Alone\\xa0(16)</td></tr>\\n<!--  <img src=\"/images/new.gif\" alt=\"May\"> -->\\n</table>'},\n",
              " {'link': 'https://www.erowid.org/experiences/exp.php?ID=30919',\n",
              "  'substance': 'DMT',\n",
              "  'dosechart': '<table class=\"dosechart\">\\n<tr>\\n<td align=\"right\" class=\"dosechart-time\">DOSE:<br/> T+ 0:00</td>\\n<td align=\"center\" class=\"dosechart-amount\">25 mg</td>\\n<td align=\"center\" class=\"dosechart-method\">smoked</td>\\n<td class=\"dosechart-substance\"><a href=\"/chemicals/dmt/\">DMT</a></td>\\n</tr>\\n<tr>\\n<td align=\"right\" class=\"dosechart-time\">\\xa0 T+ 0:15</td>\\n<td align=\"center\" class=\"dosechart-amount\">50 mg</td>\\n<td align=\"center\" class=\"dosechart-method\">smoked</td>\\n<td class=\"dosechart-substance\"><a href=\"/chemicals/dmt/\">DMT</a></td>\\n</tr>\\n</table>',\n",
              "  'bodyweight': '<table class=\"bodyweight\">\\n<tr>\\n<td class=\"bodyweight-title\">BODY WEIGHT:</td>\\n<td class=\"bodyweight-amount\">135 lb</td>\\n</tr>\\n</table>',\n",
              "  'footdata': '<table class=\"footdata\">\\n<tr><td class=\"footdata-expyear\">Exp Year: 2004</td><td class=\"footdata-expid\">ExpID: 30919</td></tr>\\n<tr><td class=\"footdata-gender\">Gender: Male</td><td>\\xa0</td></tr>\\n<tr><td class=\"footdata-ageofexp\" colspan=\"2\">Age at time of experience: Not Given</td></tr>\\n<tr><td class=\"footdata-pubdate\">Published: Sep 28, 2004</td><td class=\"footdata-numviews\">Views: 70,517</td></tr>\\n<tr><td class=\"footdata-other-formats\" colspan=\"2\">[ <a href=\"exp.php?ID=30919&amp;format=pdf\" type=\"text/pdf\">View PDF (to print)</a> ] [ <a href=\"exp_pdf.php?ID=30919&amp;format=latex\">View LaTeX (for geeks)</a> ]\\n[\\xa0<a href=\"#\" onclick=\"expChangeColors(); return false;\">Swap\\xa0Dark/Light</a>\\xa0]\\n</td></tr>\\n<tr><td class=\"footdata-topic-list\" colspan=\"2\">DMT\\xa0(18) : Small Group (2-9)\\xa0(17), Entities / Beings\\xa0(37), Nature / Outdoors\\xa0(23), Glowing Experiences\\xa0(4), First Times\\xa0(2)</td></tr>\\n<!--  <img src=\"/images/new.gif\" alt=\"May\"> -->\\n</table>'},\n",
              " {'link': 'https://www.erowid.org/experiences/exp.php?ID=22238',\n",
              "  'substance': 'DMT',\n",
              "  'dosechart': '<table class=\"dosechart\">\\n<tr>\\n<td align=\"right\" class=\"dosechart-time\">DOSE:<br/></td>\\n<td align=\"center\" class=\"dosechart-amount\">50 mg</td>\\n<td align=\"center\" class=\"dosechart-method\">smoked</td>\\n<td class=\"dosechart-substance\"><a href=\"/chemicals/dmt/\">DMT</a></td>\\n</tr>\\n</table>',\n",
              "  'bodyweight': '<table class=\"bodyweight\">\\n<tr>\\n<td class=\"bodyweight-title\">BODY WEIGHT:</td>\\n<td class=\"bodyweight-amount\">155 lb</td>\\n</tr>\\n</table>',\n",
              "  'footdata': '<table class=\"footdata\">\\n<tr><td class=\"footdata-expyear\">Exp Year: 2003</td><td class=\"footdata-expid\">ExpID: 22238</td></tr>\\n<tr><td class=\"footdata-gender\">Gender: Male</td><td>\\xa0</td></tr>\\n<tr><td class=\"footdata-ageofexp\" colspan=\"2\">Age at time of experience: Not Given</td></tr>\\n<tr><td class=\"footdata-pubdate\">Published: Sep 27, 2004</td><td class=\"footdata-numviews\">Views: 51,465</td></tr>\\n<tr><td class=\"footdata-other-formats\" colspan=\"2\">[ <a href=\"exp.php?ID=22238&amp;format=pdf\" type=\"text/pdf\">View PDF (to print)</a> ] [ <a href=\"exp_pdf.php?ID=22238&amp;format=latex\">View LaTeX (for geeks)</a> ]\\n[\\xa0<a href=\"#\" onclick=\"expChangeColors(); return false;\">Swap\\xa0Dark/Light</a>\\xa0]\\n</td></tr>\\n<tr><td class=\"footdata-topic-list\" colspan=\"2\">DMT\\xa0(18) : First Times\\xa0(2), Entities / Beings\\xa0(37), Personal Preparation\\xa0(45), Mystical Experiences\\xa0(9), Small Group (2-9)\\xa0(17)</td></tr>\\n<!--  <img src=\"/images/new.gif\" alt=\"May\"> -->\\n</table>'},\n",
              " {'link': 'https://www.erowid.org/experiences/exp.php?ID=31979',\n",
              "  'substance': 'DMT',\n",
              "  'dosechart': '<table class=\"dosechart\">\\n<tr>\\n<td align=\"right\" class=\"dosechart-time\">DOSE:<br/></td>\\n<td align=\"center\" class=\"dosechart-amount\">\\xa0 </td>\\n<td align=\"center\" class=\"dosechart-method\">smoked</td>\\n<td class=\"dosechart-substance\"><a href=\"/chemicals/dmt/\">DMT</a></td>\\n<td class=\"dosechart-form\">(powder / crystals)</td>\\n</tr>\\n</table>',\n",
              "  'bodyweight': '<table class=\"bodyweight\">\\n<tr>\\n<td class=\"bodyweight-title\">BODY WEIGHT:</td>\\n<td class=\"bodyweight-amount\">90 kg</td>\\n</tr>\\n</table>',\n",
              "  'footdata': '<table class=\"footdata\">\\n<tr><td class=\"footdata-expyear\">Exp Year: 2000</td><td class=\"footdata-expid\">ExpID: 31979</td></tr>\\n<tr><td class=\"footdata-gender\">Gender: Male</td><td>\\xa0</td></tr>\\n<tr><td class=\"footdata-ageofexp\" colspan=\"2\">Age at time of experience: Not Given</td></tr>\\n<tr><td class=\"footdata-pubdate\">Published: Mar 21, 2004</td><td class=\"footdata-numviews\">Views: 122,851</td></tr>\\n<tr><td class=\"footdata-other-formats\" colspan=\"2\">[ <a href=\"exp.php?ID=31979&amp;format=pdf\" type=\"text/pdf\">View PDF (to print)</a> ] [ <a href=\"exp_pdf.php?ID=31979&amp;format=latex\">View LaTeX (for geeks)</a> ]\\n[\\xa0<a href=\"#\" onclick=\"expChangeColors(); return false;\">Swap\\xa0Dark/Light</a>\\xa0]\\n</td></tr>\\n<tr><td class=\"footdata-topic-list\" colspan=\"2\">DMT\\xa0(18) : Small Group (2-9)\\xa0(17), Entities / Beings\\xa0(37), Mystical Experiences\\xa0(9), General\\xa0(1)</td></tr>\\n<!--  <img src=\"/images/new.gif\" alt=\"May\"> -->\\n</table>'},\n",
              " {'link': 'https://www.erowid.org/experiences/exp.php?ID=25157',\n",
              "  'substance': 'Pharmahuasca (Syrian Rue & DMT)',\n",
              "  'dosechart': '<table class=\"dosechart\">\\n<tr>\\n<td align=\"right\" class=\"dosechart-time\">DOSE:<br/></td>\\n<td align=\"center\" class=\"dosechart-amount\">\\xa0 </td>\\n<td align=\"center\" class=\"dosechart-method\">oral</td>\\n<td class=\"dosechart-substance\"><a href=\"/chemicals/dmt/\">DMT</a></td>\\n<td class=\"dosechart-form\">(powder / crystals)</td>\\n</tr>\\n<tr>\\n<td align=\"right\" class=\"dosechart-time\">\\xa0</td>\\n<td align=\"center\" class=\"dosechart-amount\">\\xa0 </td>\\n<td align=\"center\" class=\"dosechart-method\">oral</td>\\n<td class=\"dosechart-substance\"><a href=\"/plants/syrian_rue/\">Syrian Rue</a></td>\\n<td class=\"dosechart-form\">(extract)</td>\\n</tr>\\n</table>',\n",
              "  'bodyweight': None,\n",
              "  'footdata': '<table class=\"footdata\">\\n<tr><td class=\"footdata-expyear\">Exp Year: 2003</td><td class=\"footdata-expid\">ExpID: 25157</td></tr>\\n<tr><td class=\"footdata-gender\">Gender: Male</td><td>\\xa0</td></tr>\\n<tr><td class=\"footdata-ageofexp\" colspan=\"2\">Age at time of experience: Not Given</td></tr>\\n<tr><td class=\"footdata-pubdate\">Published: Jul 10, 2003</td><td class=\"footdata-numviews\">Views: 81,644</td></tr>\\n<tr><td class=\"footdata-other-formats\" colspan=\"2\">[ <a href=\"exp.php?ID=25157&amp;format=pdf\" type=\"text/pdf\">View PDF (to print)</a> ] [ <a href=\"exp_pdf.php?ID=25157&amp;format=latex\">View LaTeX (for geeks)</a> ]\\n[\\xa0<a href=\"#\" onclick=\"expChangeColors(); return false;\">Swap\\xa0Dark/Light</a>\\xa0]\\n</td></tr>\\n<tr><td class=\"footdata-topic-list\" colspan=\"2\">Pharmahuasca\\xa0(822), DMT\\xa0(18), Syrian Rue\\xa0(45) : Large Group (10+)\\xa0(19), Preparation / Recipes\\xa0(30), Retrospective / Summary\\xa0(11)</td></tr>\\n<!--  <img src=\"/images/new.gif\" alt=\"May\"> -->\\n</table>'},\n",
              " {'link': 'https://www.erowid.org/experiences/exp.php?ID=23350',\n",
              "  'substance': 'Mushrooms & DMT',\n",
              "  'dosechart': '<table class=\"dosechart\">\\n<tr>\\n<td align=\"right\" class=\"dosechart-time\">DOSE:<br/></td>\\n<td align=\"center\" class=\"dosechart-amount\">3.0 g</td>\\n<td align=\"center\" class=\"dosechart-method\">oral</td>\\n<td class=\"dosechart-substance\"><a href=\"/plants/mushrooms/\">Mushrooms</a></td>\\n<td class=\"dosechart-form\">(edible / food)</td>\\n</tr>\\n<tr>\\n<td align=\"right\" class=\"dosechart-time\">\\xa0</td>\\n<td align=\"center\" class=\"dosechart-amount\">50 mg</td>\\n<td align=\"center\" class=\"dosechart-method\">smoked</td>\\n<td class=\"dosechart-substance\"><a href=\"/chemicals/dmt/\">DMT</a></td>\\n<td class=\"dosechart-form\">(powder / crystals)</td>\\n</tr>\\n</table>',\n",
              "  'bodyweight': '<table class=\"bodyweight\">\\n<tr>\\n<td class=\"bodyweight-title\">BODY WEIGHT:</td>\\n<td class=\"bodyweight-amount\">130 lb</td>\\n</tr>\\n</table>',\n",
              "  'footdata': '<table class=\"footdata\">\\n<tr><td class=\"footdata-expyear\">Exp Year: 2003</td><td class=\"footdata-expid\">ExpID: 23350</td></tr>\\n<tr><td class=\"footdata-gender\">Gender: Male</td><td>\\xa0</td></tr>\\n<tr><td class=\"footdata-ageofexp\" colspan=\"2\">Age at time of experience: Not Given</td></tr>\\n<tr><td class=\"footdata-pubdate\">Published: Apr 29, 2003</td><td class=\"footdata-numviews\">Views: 133,235</td></tr>\\n<tr><td class=\"footdata-other-formats\" colspan=\"2\">[ <a href=\"exp.php?ID=23350&amp;format=pdf\" type=\"text/pdf\">View PDF (to print)</a> ] [ <a href=\"exp_pdf.php?ID=23350&amp;format=latex\">View LaTeX (for geeks)</a> ]\\n[\\xa0<a href=\"#\" onclick=\"expChangeColors(); return false;\">Swap\\xa0Dark/Light</a>\\xa0]\\n</td></tr>\\n<tr><td class=\"footdata-topic-list\" colspan=\"2\">DMT\\xa0(18), Mushrooms\\xa0(39) : Small Group (2-9)\\xa0(17), Mystical Experiences\\xa0(9), Glowing Experiences\\xa0(4), Combinations\\xa0(3), First Times\\xa0(2)</td></tr>\\n<!--  <img src=\"/images/new.gif\" alt=\"May\"> -->\\n</table>'},\n",
              " {'link': 'https://www.erowid.org/experiences/exp.php?ID=16314',\n",
              "  'substance': 'DMT',\n",
              "  'dosechart': '<table class=\"dosechart\">\\n<tr>\\n<td align=\"right\" class=\"dosechart-time\">DOSE:<br/></td>\\n<td align=\"center\" class=\"dosechart-amount\">\\xa0 </td>\\n<td align=\"center\" class=\"dosechart-method\">smoked</td>\\n<td class=\"dosechart-substance\"><a href=\"/chemicals/dmt/\">DMT</a></td>\\n<td class=\"dosechart-form\">(powder / crystals)</td>\\n</tr>\\n</table>',\n",
              "  'bodyweight': '<table class=\"bodyweight\">\\n<tr>\\n<td class=\"bodyweight-title\">BODY WEIGHT:</td>\\n<td class=\"bodyweight-amount\">175 lb</td>\\n</tr>\\n</table>',\n",
              "  'footdata': '<table class=\"footdata\">\\n<tr><td class=\"footdata-expyear\">Exp Year: 2001</td><td class=\"footdata-expid\">ExpID: 16314</td></tr>\\n<tr><td class=\"footdata-gender\">Gender: Male</td><td>\\xa0</td></tr>\\n<tr><td class=\"footdata-ageofexp\" colspan=\"2\">Age at time of experience: Not Given</td></tr>\\n<tr><td class=\"footdata-pubdate\">Published: Jul 25, 2002</td><td class=\"footdata-numviews\">Views: 255,712</td></tr>\\n<tr><td class=\"footdata-other-formats\" colspan=\"2\">[ <a href=\"exp.php?ID=16314&amp;format=pdf\" type=\"text/pdf\">View PDF (to print)</a> ] [ <a href=\"exp_pdf.php?ID=16314&amp;format=latex\">View LaTeX (for geeks)</a> ]\\n[\\xa0<a href=\"#\" onclick=\"expChangeColors(); return false;\">Swap\\xa0Dark/Light</a>\\xa0]\\n</td></tr>\\n<tr><td class=\"footdata-topic-list\" colspan=\"2\">DMT\\xa0(18) : Small Group (2-9)\\xa0(17), Glowing Experiences\\xa0(4), First Times\\xa0(2)</td></tr>\\n<!--  <img src=\"/images/new.gif\" alt=\"May\"> -->\\n</table>'},\n",
              " {'link': 'https://www.erowid.org/experiences/exp.php?ID=8842',\n",
              "  'substance': 'Salvia divinorum (5x extract) & DMT',\n",
              "  'dosechart': '<table class=\"dosechart\">\\n<tr>\\n<td align=\"right\" class=\"dosechart-time\">DOSE:<br/></td>\\n<td align=\"center\" class=\"dosechart-amount\">250 mg</td>\\n<td align=\"center\" class=\"dosechart-method\">smoked</td>\\n<td class=\"dosechart-substance\"><a href=\"/plants/salvia/\">Salvia divinorum</a></td>\\n<td class=\"dosechart-form\">(extract - 5x)</td>\\n</tr>\\n<tr>\\n<td align=\"right\" class=\"dosechart-time\">\\xa0</td>\\n<td align=\"center\" class=\"dosechart-amount\">50 mg</td>\\n<td align=\"center\" class=\"dosechart-method\">smoked</td>\\n<td class=\"dosechart-substance\"><a href=\"/chemicals/dmt/\">DMT</a></td>\\n<td class=\"dosechart-form\">(powder / crystals)</td>\\n</tr>\\n</table>',\n",
              "  'bodyweight': '<table class=\"bodyweight\">\\n<tr>\\n<td class=\"bodyweight-title\">BODY WEIGHT:</td>\\n<td class=\"bodyweight-amount\">55 kg</td>\\n</tr>\\n</table>',\n",
              "  'footdata': '<table class=\"footdata\">\\n<tr><td class=\"footdata-expyear\">Exp Year: 2001</td><td class=\"footdata-expid\">ExpID: 8842</td></tr>\\n<tr><td class=\"footdata-gender\">Gender: Male</td><td>\\xa0</td></tr>\\n<tr><td class=\"footdata-ageofexp\" colspan=\"2\">Age at time of experience: Not Given</td></tr>\\n<tr><td class=\"footdata-pubdate\">Published: May 20, 2002</td><td class=\"footdata-numviews\">Views: 61,977</td></tr>\\n<tr><td class=\"footdata-other-formats\" colspan=\"2\">[ <a href=\"exp.php?ID=8842&amp;format=pdf\" type=\"text/pdf\">View PDF (to print)</a> ] [ <a href=\"exp_pdf.php?ID=8842&amp;format=latex\">View LaTeX (for geeks)</a> ]\\n[\\xa0<a href=\"#\" onclick=\"expChangeColors(); return false;\">Swap\\xa0Dark/Light</a>\\xa0]\\n</td></tr>\\n<tr><td class=\"footdata-topic-list\" colspan=\"2\">DMT\\xa0(18), Salvia divinorum\\xa0(44) : Unknown Context\\xa0(20), Combinations\\xa0(3), Entities / Beings\\xa0(37)</td></tr>\\n<!--  <img src=\"/images/new.gif\" alt=\"May\"> -->\\n</table>'},\n",
              " {'link': 'https://www.erowid.org/experiences/exp.php?ID=2205',\n",
              "  'substance': '2C-T-7 & DMT',\n",
              "  'dosechart': '<table class=\"dosechart\">\\n<tr>\\n<td align=\"right\" class=\"dosechart-time\">DOSE:<br/> T+ 0:00</td>\\n<td align=\"center\" class=\"dosechart-amount\">30 mg</td>\\n<td align=\"center\" class=\"dosechart-method\">oral</td>\\n<td class=\"dosechart-substance\"><a href=\"/chemicals/2ct7/\">2C-T-7</a></td>\\n<td class=\"dosechart-form\">(capsule)</td>\\n</tr>\\n<tr>\\n<td align=\"right\" class=\"dosechart-time\">\\xa0 T+ 3:00</td>\\n<td align=\"center\" class=\"dosechart-amount\">5.0 mg</td>\\n<td align=\"center\" class=\"dosechart-method\">oral</td>\\n<td class=\"dosechart-substance\"><a href=\"/chemicals/2ct7/\">2C-T-7</a></td>\\n<td class=\"dosechart-form\">\\xa0</td>\\n</tr>\\n<tr>\\n<td align=\"right\" class=\"dosechart-time\">\\xa0 T+ 0:59</td>\\n<td align=\"center\" class=\"dosechart-amount\">1 hit</td>\\n<td align=\"center\" class=\"dosechart-method\">smoked</td>\\n<td class=\"dosechart-substance\"><a href=\"/chemicals/dmt/\">DMT</a></td>\\n<td class=\"dosechart-form\">(powder / crystals)</td>\\n</tr>\\n</table>',\n",
              "  'bodyweight': '<table class=\"bodyweight\">\\n<tr>\\n<td class=\"bodyweight-title\">BODY WEIGHT:</td>\\n<td class=\"bodyweight-amount\">162 lb</td>\\n</tr>\\n</table>',\n",
              "  'footdata': '<table class=\"footdata\">\\n<tr><td class=\"footdata-expyear\">Exp Year: 2000</td><td class=\"footdata-expid\">ExpID: 2205</td></tr>\\n<tr><td class=\"footdata-gender\">Gender: Male</td><td>\\xa0</td></tr>\\n<tr><td class=\"footdata-ageofexp\" colspan=\"2\">Age at time of experience: Not Given</td></tr>\\n<tr><td class=\"footdata-pubdate\">Published: Jun 27, 2000</td><td class=\"footdata-numviews\">Views: 29,778</td></tr>\\n<tr><td class=\"footdata-other-formats\" colspan=\"2\">[ <a href=\"exp.php?ID=2205&amp;format=pdf\" type=\"text/pdf\">View PDF (to print)</a> ] [ <a href=\"exp_pdf.php?ID=2205&amp;format=latex\">View LaTeX (for geeks)</a> ]\\n[\\xa0<a href=\"#\" onclick=\"expChangeColors(); return false;\">Swap\\xa0Dark/Light</a>\\xa0]\\n</td></tr>\\n<tr><td class=\"footdata-topic-list\" colspan=\"2\">DMT\\xa0(18), 2C-T-7\\xa0(54) : Small Group (2-9)\\xa0(17), Combinations\\xa0(3)</td></tr>\\n<!--  <img src=\"/images/new.gif\" alt=\"May\"> -->\\n</table>'},\n",
              " {'link': 'https://www.erowid.org/experiences/exp.php?ID=1851',\n",
              "  'substance': 'DMT',\n",
              "  'dosechart': '<table class=\"dosechart\">\\n<tr>\\n<td align=\"right\" class=\"dosechart-time\">DOSE:<br/></td>\\n<td align=\"center\" class=\"dosechart-amount\">50 mg</td>\\n<td align=\"center\" class=\"dosechart-method\">smoked</td>\\n<td class=\"dosechart-substance\"><a href=\"/chemicals/dmt/\">DMT</a></td>\\n<td class=\"dosechart-form\">(powder / crystals)</td>\\n</tr>\\n</table>',\n",
              "  'bodyweight': None,\n",
              "  'footdata': '<table class=\"footdata\">\\n<tr><td class=\"footdata-expyear\">Exp Year: 1998</td><td class=\"footdata-expid\">ExpID: 1851</td></tr>\\n<tr><td class=\"footdata-gender\">Gender: Male</td><td>\\xa0</td></tr>\\n<tr><td class=\"footdata-ageofexp\" colspan=\"2\">Age at time of experience: Not Given</td></tr>\\n<tr><td class=\"footdata-pubdate\">Published: Jun 15, 2000</td><td class=\"footdata-numviews\">Views: 63,571</td></tr>\\n<tr><td class=\"footdata-other-formats\" colspan=\"2\">[ <a href=\"exp.php?ID=1851&amp;format=pdf\" type=\"text/pdf\">View PDF (to print)</a> ] [ <a href=\"exp_pdf.php?ID=1851&amp;format=latex\">View LaTeX (for geeks)</a> ]\\n[\\xa0<a href=\"#\" onclick=\"expChangeColors(); return false;\">Swap\\xa0Dark/Light</a>\\xa0]\\n</td></tr>\\n<tr><td class=\"footdata-topic-list\" colspan=\"2\">DMT\\xa0(18) : Small Group (2-9)\\xa0(17), Mystical Experiences\\xa0(9), Glowing Experiences\\xa0(4)</td></tr>\\n<!--  <img src=\"/images/new.gif\" alt=\"May\"> -->\\n</table>'},\n",
              " {'link': 'https://www.erowid.org/experiences/exp.php?ID=1841',\n",
              "  'substance': 'DMT',\n",
              "  'dosechart': '<table class=\"dosechart\">\\n<tr>\\n<td align=\"right\" class=\"dosechart-time\">DOSE:<br/></td>\\n<td align=\"center\" class=\"dosechart-amount\">\\xa0 </td>\\n<td align=\"center\" class=\"dosechart-method\">smoked</td>\\n<td class=\"dosechart-substance\"><a href=\"/chemicals/dmt/\">DMT</a></td>\\n<td class=\"dosechart-form\">(freebase)</td>\\n</tr>\\n</table>',\n",
              "  'bodyweight': None,\n",
              "  'footdata': '<table class=\"footdata\">\\n<tr><td class=\"footdata-expyear\">Exp Year: 1995</td><td class=\"footdata-expid\">ExpID: 1841</td></tr>\\n<tr><td class=\"footdata-gender\">Gender: Male</td><td>\\xa0</td></tr>\\n<tr><td class=\"footdata-ageofexp\" colspan=\"2\">Age at time of experience: Not Given</td></tr>\\n<tr><td class=\"footdata-pubdate\">Published: Jun 14, 2000</td><td class=\"footdata-numviews\">Views: 140,317</td></tr>\\n<tr><td class=\"footdata-other-formats\" colspan=\"2\">[ <a href=\"exp.php?ID=1841&amp;format=pdf\" type=\"text/pdf\">View PDF (to print)</a> ] [ <a href=\"exp_pdf.php?ID=1841&amp;format=latex\">View LaTeX (for geeks)</a> ]\\n[\\xa0<a href=\"#\" onclick=\"expChangeColors(); return false;\">Swap\\xa0Dark/Light</a>\\xa0]\\n</td></tr>\\n<tr><td class=\"footdata-topic-list\" colspan=\"2\">DMT\\xa0(18) : Small Group (2-9)\\xa0(17), Entities / Beings\\xa0(37), First Times\\xa0(2), General\\xa0(1)</td></tr>\\n<!--  <img src=\"/images/new.gif\" alt=\"May\"> -->\\n</table>'},\n",
              " {'link': 'https://www.erowid.org/experiences/exp.php?ID=1839',\n",
              "  'substance': 'DMT',\n",
              "  'dosechart': '<table class=\"dosechart\">\\n<tr>\\n<td align=\"right\" class=\"dosechart-time\">DOSE:<br/></td>\\n<td align=\"center\" class=\"dosechart-amount\">\\xa0 </td>\\n<td align=\"center\" class=\"dosechart-method\">smoked</td>\\n<td class=\"dosechart-substance\"><a href=\"/chemicals/dmt/\">DMT</a></td>\\n<td class=\"dosechart-form\">(freebase)</td>\\n</tr>\\n</table>',\n",
              "  'bodyweight': None,\n",
              "  'footdata': '<table class=\"footdata\">\\n<tr><td class=\"footdata-expyear\">Exp Year: 1998</td><td class=\"footdata-expid\">ExpID: 1839</td></tr>\\n<tr><td class=\"footdata-gender\">Gender: Male</td><td>\\xa0</td></tr>\\n<tr><td class=\"footdata-ageofexp\" colspan=\"2\">Age at time of experience: Not Given</td></tr>\\n<tr><td class=\"footdata-pubdate\">Published: Jun 14, 2000</td><td class=\"footdata-numviews\">Views: 182,274</td></tr>\\n<tr><td class=\"footdata-other-formats\" colspan=\"2\">[ <a href=\"exp.php?ID=1839&amp;format=pdf\" type=\"text/pdf\">View PDF (to print)</a> ] [ <a href=\"exp_pdf.php?ID=1839&amp;format=latex\">View LaTeX (for geeks)</a> ]\\n[\\xa0<a href=\"#\" onclick=\"expChangeColors(); return false;\">Swap\\xa0Dark/Light</a>\\xa0]\\n</td></tr>\\n<tr><td class=\"footdata-topic-list\" colspan=\"2\">DMT\\xa0(18) : Small Group (2-9)\\xa0(17), Difficult Experiences\\xa0(5), General\\xa0(1)</td></tr>\\n<!--  <img src=\"/images/new.gif\" alt=\"May\"> -->\\n</table>'},\n",
              " {'link': 'https://www.erowid.org/experiences/exp.php?ID=118625',\n",
              "  'substance': 'DMT & Cannabis',\n",
              "  'dosechart': '<table class=\"dosechart\">\\n<tr>\\n<td align=\"right\" class=\"dosechart-time\">DOSE:<br/></td>\\n<td align=\"center\" class=\"dosechart-amount\">3 hits</td>\\n<td align=\"center\" class=\"dosechart-method\">smoked</td>\\n<td class=\"dosechart-substance\"><a href=\"/chemicals/dmt/\">DMT</a></td>\\n<td class=\"dosechart-form\">(powder / crystals)</td>\\n</tr>\\n<tr>\\n<td align=\"right\" class=\"dosechart-time\">\\xa0</td>\\n<td align=\"center\" class=\"dosechart-amount\">3 hits</td>\\n<td align=\"center\" class=\"dosechart-method\">smoked</td>\\n<td class=\"dosechart-substance\"><a href=\"/plants/cannabis/\">Cannabis</a></td>\\n<td class=\"dosechart-form\">(flowers)</td>\\n</tr>\\n</table>',\n",
              "  'bodyweight': '<table class=\"bodyweight\">\\n<tr>\\n<td class=\"bodyweight-title\">BODY WEIGHT:</td>\\n<td class=\"bodyweight-amount\">160 lb</td>\\n</tr>\\n</table>',\n",
              "  'footdata': '<table class=\"footdata\">\\n<tr><td class=\"footdata-expyear\">Exp Year: 2009</td><td class=\"footdata-expid\">ExpID: 118625</td></tr>\\n<tr><td class=\"footdata-gender\">Gender: Male</td><td>\\xa0</td></tr>\\n<tr><td class=\"footdata-ageofexp\" colspan=\"2\">Age at time of experience: 19</td></tr>\\n<tr><td class=\"footdata-pubdate\">Published: Apr 18, 2025</td><td class=\"footdata-numviews\">Views: 15</td></tr>\\n<tr><td class=\"footdata-other-formats\" colspan=\"2\">[ <a href=\"exp.php?ID=118625&amp;format=pdf\" type=\"text/pdf\">View PDF (to print)</a> ] [ <a href=\"exp_pdf.php?ID=118625&amp;format=latex\">View LaTeX (for geeks)</a> ]\\n[\\xa0<a href=\"#\" onclick=\"expChangeColors(); return false;\">Swap\\xa0Dark/Light</a>\\xa0]\\n</td></tr>\\n<tr><td class=\"footdata-topic-list\" colspan=\"2\">Cannabis\\xa0(1), DMT\\xa0(18) : Small Group (2-9)\\xa0(17), Personal Preparation\\xa0(45), Guides / Sitters\\xa0(39), Entities / Beings\\xa0(37), Mystical Experiences\\xa0(9), Glowing Experiences\\xa0(4), First Times\\xa0(2)</td></tr>\\n<!--  <img src=\"/images/new.gif\" alt=\"May\"> -->\\n</table>'},\n",
              " {'link': 'https://www.erowid.org/experiences/exp.php?ID=117294',\n",
              "  'substance': 'DMT',\n",
              "  'dosechart': '<table class=\"dosechart\">\\n<tr>\\n<td align=\"right\" class=\"dosechart-time\">DOSE:<br/></td>\\n<td align=\"center\" class=\"dosechart-amount\">\\xa0 </td>\\n<td align=\"center\" class=\"dosechart-method\">smoked</td>\\n<td class=\"dosechart-substance\"><a href=\"/chemicals/dmt/\">DMT</a></td>\\n<td class=\"dosechart-form\">(powder / crystals)</td>\\n</tr>\\n</table>',\n",
              "  'bodyweight': '<table class=\"bodyweight\">\\n<tr>\\n<td class=\"bodyweight-title\">BODY WEIGHT:</td>\\n<td class=\"bodyweight-amount\">80 lb</td>\\n</tr>\\n</table>',\n",
              "  'footdata': '<table class=\"footdata\">\\n<tr><td class=\"footdata-expyear\">Exp Year: 2023</td><td class=\"footdata-expid\">ExpID: 117294</td></tr>\\n<tr><td class=\"footdata-gender\">Gender: Male</td><td>\\xa0</td></tr>\\n<tr><td class=\"footdata-ageofexp\" colspan=\"2\">Age at time of experience: Not Given</td></tr>\\n<tr><td class=\"footdata-pubdate\">Published: Jan 4, 2025</td><td class=\"footdata-numviews\">Views: 15</td></tr>\\n<tr><td class=\"footdata-other-formats\" colspan=\"2\">[ <a href=\"exp.php?ID=117294&amp;format=pdf\" type=\"text/pdf\">View PDF (to print)</a> ] [ <a href=\"exp_pdf.php?ID=117294&amp;format=latex\">View LaTeX (for geeks)</a> ]\\n[\\xa0<a href=\"#\" onclick=\"expChangeColors(); return false;\">Swap\\xa0Dark/Light</a>\\xa0]\\n</td></tr>\\n<tr><td class=\"footdata-topic-list\" colspan=\"2\">DMT\\xa0(18) : Alone\\xa0(16), Entities / Beings\\xa0(37), Glowing Experiences\\xa0(4), Retrospective / Summary\\xa0(11)</td></tr>\\n<!--  <img src=\"/images/new.gif\" alt=\"May\"> -->\\n</table>'},\n",
              " {'link': 'https://www.erowid.org/experiences/exp.php?ID=117473',\n",
              "  'substance': 'DMT',\n",
              "  'dosechart': '<table class=\"dosechart\">\\n<tr>\\n<td align=\"right\" class=\"dosechart-time\">DOSE:<br/></td>\\n<td align=\"center\" class=\"dosechart-amount\">11 mg</td>\\n<td align=\"center\" class=\"dosechart-method\">vaporized</td>\\n<td class=\"dosechart-substance\"><a href=\"/chemicals/dmt/\">DMT</a></td>\\n</tr>\\n<tr>\\n<td align=\"right\" class=\"dosechart-time\">\\xa0</td>\\n<td align=\"center\" class=\"dosechart-amount\">17 mg</td>\\n<td align=\"center\" class=\"dosechart-method\">vaporized</td>\\n<td class=\"dosechart-substance\"><a href=\"/chemicals/dmt/\">DMT</a></td>\\n</tr>\\n<tr>\\n<td align=\"right\" class=\"dosechart-time\">\\xa0</td>\\n<td align=\"center\" class=\"dosechart-amount\">22 mg</td>\\n<td align=\"center\" class=\"dosechart-method\">vaporized</td>\\n<td class=\"dosechart-substance\"><a href=\"/chemicals/dmt/\">DMT</a></td>\\n</tr>\\n</table>',\n",
              "  'bodyweight': '<table class=\"bodyweight\">\\n<tr>\\n<td class=\"bodyweight-title\">BODY WEIGHT:</td>\\n<td class=\"bodyweight-amount\">130 lb</td>\\n</tr>\\n</table>',\n",
              "  'footdata': '<table class=\"footdata\">\\n<tr><td class=\"footdata-expyear\">Exp Year: 2023</td><td class=\"footdata-expid\">ExpID: 117473</td></tr>\\n<tr><td class=\"footdata-gender\">Gender: Female</td><td>\\xa0</td></tr>\\n<tr><td class=\"footdata-ageofexp\" colspan=\"2\">Age at time of experience: 55</td></tr>\\n<tr><td class=\"footdata-pubdate\">Published: Nov 6, 2024</td><td class=\"footdata-numviews\">Views: 16</td></tr>\\n<tr><td class=\"footdata-other-formats\" colspan=\"2\">[ <a href=\"exp.php?ID=117473&amp;format=pdf\" type=\"text/pdf\">View PDF (to print)</a> ] [ <a href=\"exp_pdf.php?ID=117473&amp;format=latex\">View LaTeX (for geeks)</a> ]\\n[\\xa0<a href=\"#\" onclick=\"expChangeColors(); return false;\">Swap\\xa0Dark/Light</a>\\xa0]\\n</td></tr>\\n<tr><td class=\"footdata-topic-list\" colspan=\"2\">DMT\\xa0(18) : Small Group (2-9)\\xa0(17), Entities / Beings\\xa0(37), General\\xa0(1)</td></tr>\\n<!--  <img src=\"/images/new.gif\" alt=\"May\"> -->\\n</table>'},\n",
              " {'link': 'https://www.erowid.org/experiences/exp.php?ID=102105',\n",
              "  'substance': 'DMT',\n",
              "  'dosechart': '<table class=\"dosechart\">\\n<tr>\\n<td align=\"right\" class=\"dosechart-time\">DOSE:<br/></td>\\n<td align=\"center\" class=\"dosechart-amount\">1 hit</td>\\n<td align=\"center\" class=\"dosechart-method\">smoked</td>\\n<td class=\"dosechart-substance\"><a href=\"/chemicals/dmt/\">DMT</a></td>\\n</tr>\\n</table>',\n",
              "  'bodyweight': '<table class=\"bodyweight\">\\n<tr>\\n<td class=\"bodyweight-title\">BODY WEIGHT:</td>\\n<td class=\"bodyweight-amount\">250 lb</td>\\n</tr>\\n</table>',\n",
              "  'footdata': '<table class=\"footdata\">\\n<tr><td class=\"footdata-expyear\">Exp Year: 2012</td><td class=\"footdata-expid\">ExpID: 102105</td></tr>\\n<tr><td class=\"footdata-gender\">Gender: Male</td><td>\\xa0</td></tr>\\n<tr><td class=\"footdata-ageofexp\" colspan=\"2\">Age at time of experience: Not Given</td></tr>\\n<tr><td class=\"footdata-pubdate\">Published: Jun 14, 2021</td><td class=\"footdata-numviews\">Views: 8,238</td></tr>\\n<tr><td class=\"footdata-other-formats\" colspan=\"2\">[ <a href=\"exp.php?ID=102105&amp;format=pdf\" type=\"text/pdf\">View PDF (to print)</a> ] [ <a href=\"exp_pdf.php?ID=102105&amp;format=latex\">View LaTeX (for geeks)</a> ]\\n[\\xa0<a href=\"#\" onclick=\"expChangeColors(); return false;\">Swap\\xa0Dark/Light</a>\\xa0]\\n</td></tr>\\n<tr><td class=\"footdata-topic-list\" colspan=\"2\">DMT\\xa0(18) : First Times\\xa0(2), Entities / Beings\\xa0(37), Small Group (2-9)\\xa0(17)</td></tr>\\n<!--  <img src=\"/images/new.gif\" alt=\"May\"> -->\\n</table>'},\n",
              " {'link': 'https://www.erowid.org/experiences/exp.php?ID=115502',\n",
              "  'substance': 'DMT',\n",
              "  'dosechart': '<table class=\"dosechart\">\\n<tr>\\n<td align=\"right\" class=\"dosechart-time\">DOSE:<br/></td>\\n<td align=\"center\" class=\"dosechart-amount\">2 hits</td>\\n<td align=\"center\" class=\"dosechart-method\">smoked</td>\\n<td class=\"dosechart-substance\"><a href=\"/chemicals/dmt/\">DMT</a></td>\\n<td class=\"dosechart-form\">(freebase)</td>\\n</tr>\\n</table>',\n",
              "  'bodyweight': '<table class=\"bodyweight\">\\n<tr>\\n<td class=\"bodyweight-title\">BODY WEIGHT:</td>\\n<td class=\"bodyweight-amount\">150 lb</td>\\n</tr>\\n</table>',\n",
              "  'footdata': '<table class=\"footdata\">\\n<tr><td class=\"footdata-expyear\">Exp Year: 2021</td><td class=\"footdata-expid\">ExpID: 115502</td></tr>\\n<tr><td class=\"footdata-gender\">Gender: Female</td><td>\\xa0</td></tr>\\n<tr><td class=\"footdata-ageofexp\" colspan=\"2\">Age at time of experience: 41</td></tr>\\n<tr><td class=\"footdata-pubdate\">Published: Jun 14, 2021</td><td class=\"footdata-numviews\">Views: 4,350</td></tr>\\n<tr><td class=\"footdata-other-formats\" colspan=\"2\">[ <a href=\"exp.php?ID=115502&amp;format=pdf\" type=\"text/pdf\">View PDF (to print)</a> ] [ <a href=\"exp_pdf.php?ID=115502&amp;format=latex\">View LaTeX (for geeks)</a> ]\\n[\\xa0<a href=\"#\" onclick=\"expChangeColors(); return false;\">Swap\\xa0Dark/Light</a>\\xa0]\\n</td></tr>\\n<tr><td class=\"footdata-topic-list\" colspan=\"2\">DMT\\xa0(18) : General\\xa0(1), Entities / Beings\\xa0(37), First Times\\xa0(2), Alone\\xa0(16)</td></tr>\\n<!--  <img src=\"/images/new.gif\" alt=\"May\"> -->\\n</table>'},\n",
              " {'link': 'https://www.erowid.org/experiences/exp.php?ID=114947',\n",
              "  'substance': 'DMT, MET, MPT, MiPT, EPT, DPT, 5-MeO-MiPT & 5-MeO-EiPT',\n",
              "  'dosechart': '<table class=\"dosechart\">\\n<tr>\\n<td align=\"right\" class=\"dosechart-time\">DOSE:<br/></td>\\n<td align=\"center\" class=\"dosechart-amount\">10 mg</td>\\n<td align=\"center\" class=\"dosechart-method\">smoked</td>\\n<td class=\"dosechart-substance\"><a href=\"/chemicals/met/\">MET</a></td>\\n<td class=\"dosechart-form\">(powder / crystals)</td>\\n</tr>\\n<tr>\\n<td align=\"right\" class=\"dosechart-time\">\\xa0</td>\\n<td align=\"center\" class=\"dosechart-amount\">15 mg</td>\\n<td align=\"center\" class=\"dosechart-method\">smoked</td>\\n<td class=\"dosechart-substance\"><a href=\"/chemicals/mipt/\">MIPT</a></td>\\n<td class=\"dosechart-form\">(powder / crystals)</td>\\n</tr>\\n<tr>\\n<td align=\"right\" class=\"dosechart-time\">\\xa0</td>\\n<td align=\"center\" class=\"dosechart-amount\">10 mg</td>\\n<td align=\"center\" class=\"dosechart-method\">smoked</td>\\n<td class=\"dosechart-substance\">MPT</td>\\n<td class=\"dosechart-form\">(powder / crystals)</td>\\n</tr>\\n<tr>\\n<td align=\"right\" class=\"dosechart-time\">\\xa0</td>\\n<td align=\"center\" class=\"dosechart-amount\">45 mg</td>\\n<td align=\"center\" class=\"dosechart-method\">\\xa0</td>\\n<td class=\"dosechart-substance\"><a href=\"/chemicals/tma2/\">TMA-2</a></td>\\n<td class=\"dosechart-form\">\\xa0</td>\\n</tr>\\n<tr>\\n<td align=\"right\" class=\"dosechart-time\">\\xa0</td>\\n<td align=\"center\" class=\"dosechart-amount\">20 mg</td>\\n<td align=\"center\" class=\"dosechart-method\">smoked</td>\\n<td class=\"dosechart-substance\"><a href=\"/chemicals/met/\">MET</a></td>\\n<td class=\"dosechart-form\">(powder / crystals)</td>\\n</tr>\\n<tr>\\n<td align=\"right\" class=\"dosechart-time\">\\xa0</td>\\n<td align=\"center\" class=\"dosechart-amount\">20 mg</td>\\n<td align=\"center\" class=\"dosechart-method\">smoked</td>\\n<td class=\"dosechart-substance\">MPT</td>\\n<td class=\"dosechart-form\">(powder / crystals)</td>\\n</tr>\\n<tr>\\n<td align=\"right\" class=\"dosechart-time\">\\xa0</td>\\n<td align=\"center\" class=\"dosechart-amount\">20 mg</td>\\n<td align=\"center\" class=\"dosechart-method\">smoked</td>\\n<td class=\"dosechart-substance\">MPT</td>\\n<td class=\"dosechart-form\">(powder / crystals)</td>\\n</tr>\\n<tr>\\n<td align=\"right\" class=\"dosechart-time\">\\xa0</td>\\n<td align=\"center\" class=\"dosechart-amount\">30 mg</td>\\n<td align=\"center\" class=\"dosechart-method\">smoked</td>\\n<td class=\"dosechart-substance\"><a href=\"/chemicals/dpt/\">DPT</a></td>\\n<td class=\"dosechart-form\">(powder / crystals)</td>\\n</tr>\\n<tr>\\n<td align=\"right\" class=\"dosechart-time\">\\xa0</td>\\n<td align=\"center\" class=\"dosechart-amount\">10 mg</td>\\n<td align=\"center\" class=\"dosechart-method\">smoked</td>\\n<td class=\"dosechart-substance\">5-MeO-EIPT</td>\\n<td class=\"dosechart-form\">(powder / crystals)</td>\\n</tr>\\n<tr>\\n<td align=\"right\" class=\"dosechart-time\">\\xa0</td>\\n<td align=\"center\" class=\"dosechart-amount\">5 mg</td>\\n<td align=\"center\" class=\"dosechart-method\">smoked</td>\\n<td class=\"dosechart-substance\"><a href=\"/chemicals/5meo_mipt/\">5-MeO-MIPT</a></td>\\n<td class=\"dosechart-form\">(powder / crystals)</td>\\n</tr>\\n<tr>\\n<td align=\"right\" class=\"dosechart-time\">\\xa0</td>\\n<td align=\"center\" class=\"dosechart-amount\">30 mg</td>\\n<td align=\"center\" class=\"dosechart-method\">smoked</td>\\n<td class=\"dosechart-substance\"><a href=\"/chemicals/met/\">MET</a></td>\\n<td class=\"dosechart-form\">(powder / crystals)</td>\\n</tr>\\n<tr>\\n<td align=\"right\" class=\"dosechart-time\">\\xa0</td>\\n<td align=\"center\" class=\"dosechart-amount\">30 mg</td>\\n<td align=\"center\" class=\"dosechart-method\">smoked</td>\\n<td class=\"dosechart-substance\"><a href=\"/\">EPT</a></td>\\n<td class=\"dosechart-form\">(powder / crystals)</td>\\n</tr>\\n<tr>\\n<td align=\"right\" class=\"dosechart-time\">\\xa0</td>\\n<td align=\"center\" class=\"dosechart-amount\">10 mg</td>\\n<td align=\"center\" class=\"dosechart-method\">smoked</td>\\n<td class=\"dosechart-substance\"><a href=\"/chemicals/5meo_mipt/\">5-MeO-MIPT</a></td>\\n<td class=\"dosechart-form\">(powder / crystals)</td>\\n</tr>\\n<tr>\\n<td align=\"right\" class=\"dosechart-time\">\\xa0</td>\\n<td align=\"center\" class=\"dosechart-amount\">15 mg</td>\\n<td align=\"center\" class=\"dosechart-method\">smoked</td>\\n<td class=\"dosechart-substance\">5-MeO-EIPT</td>\\n<td class=\"dosechart-form\">(powder / crystals)</td>\\n</tr>\\n</table>',\n",
              "  'bodyweight': None,\n",
              "  'footdata': '<table class=\"footdata\">\\n<tr><td class=\"footdata-expyear\">Exp Year: 2020</td><td class=\"footdata-expid\">ExpID: 114947</td></tr>\\n<tr><td class=\"footdata-gender\">Gender: Female</td><td>\\xa0</td></tr>\\n<tr><td class=\"footdata-ageofexp\" colspan=\"2\">Age at time of experience: 29</td></tr>\\n<tr><td class=\"footdata-pubdate\">Published: Nov 21, 2020</td><td class=\"footdata-numviews\">Views: 5,940</td></tr>\\n<tr><td class=\"footdata-other-formats\" colspan=\"2\">[ <a href=\"exp.php?ID=114947&amp;format=pdf\" type=\"text/pdf\">View PDF (to print)</a> ] [ <a href=\"exp_pdf.php?ID=114947&amp;format=latex\">View LaTeX (for geeks)</a> ]\\n[\\xa0<a href=\"#\" onclick=\"expChangeColors(); return false;\">Swap\\xa0Dark/Light</a>\\xa0]\\n</td></tr>\\n<tr><td class=\"footdata-topic-list\" colspan=\"2\">5-MeO-EIPT\\xa0(727), 5-MeO-MIPT\\xa0(287), DPT\\xa0(21), EPT\\xa0(776), MIPT\\xa0(251), MPT\\xa0(804), MET\\xa0(381), DMT\\xa0(18) : General\\xa0(1), First Times\\xa0(2), Combinations\\xa0(3), Retrospective / Summary\\xa0(11), Not Applicable\\xa0(38)</td></tr>\\n<!--  <img src=\"/images/new.gif\" alt=\"May\"> -->\\n</table>'},\n",
              " {'link': 'https://www.erowid.org/experiences/exp.php?ID=100673',\n",
              "  'substance': 'DMT & Cannabis',\n",
              "  'dosechart': '<table class=\"dosechart\">\\n<tr>\\n<td align=\"right\" class=\"dosechart-time\">DOSE:<br/></td>\\n<td align=\"center\" class=\"dosechart-amount\">1 bowl</td>\\n<td align=\"center\" class=\"dosechart-method\">smoked</td>\\n<td class=\"dosechart-substance\"><a href=\"/plants/cannabis/\">Cannabis</a></td>\\n<td class=\"dosechart-form\">\\xa0</td>\\n</tr>\\n<tr>\\n<td align=\"right\" class=\"dosechart-time\">\\xa0</td>\\n<td align=\"center\" class=\"dosechart-amount\">\\xa0 </td>\\n<td align=\"center\" class=\"dosechart-method\">smoked</td>\\n<td class=\"dosechart-substance\"><a href=\"/chemicals/dmt/\">DMT</a></td>\\n<td class=\"dosechart-form\">(powder / crystals)</td>\\n</tr>\\n</table>',\n",
              "  'bodyweight': '<table class=\"bodyweight\">\\n<tr>\\n<td class=\"bodyweight-title\">BODY WEIGHT:</td>\\n<td class=\"bodyweight-amount\">155 lb</td>\\n</tr>\\n</table>',\n",
              "  'footdata': '<table class=\"footdata\">\\n<tr><td class=\"footdata-expyear\">Exp Year: 2013</td><td class=\"footdata-expid\">ExpID: 100673</td></tr>\\n<tr><td class=\"footdata-gender\">Gender: Male</td><td>\\xa0</td></tr>\\n<tr><td class=\"footdata-ageofexp\" colspan=\"2\">Age at time of experience: 20</td></tr>\\n<tr><td class=\"footdata-pubdate\">Published: Nov 9, 2020</td><td class=\"footdata-numviews\">Views: 2,526</td></tr>\\n<tr><td class=\"footdata-other-formats\" colspan=\"2\">[ <a href=\"exp.php?ID=100673&amp;format=pdf\" type=\"text/pdf\">View PDF (to print)</a> ] [ <a href=\"exp_pdf.php?ID=100673&amp;format=latex\">View LaTeX (for geeks)</a> ]\\n[\\xa0<a href=\"#\" onclick=\"expChangeColors(); return false;\">Swap\\xa0Dark/Light</a>\\xa0]\\n</td></tr>\\n<tr><td class=\"footdata-topic-list\" colspan=\"2\">DMT\\xa0(18) : Combinations\\xa0(3), Entities / Beings\\xa0(37), Glowing Experiences\\xa0(4), Small Group (2-9)\\xa0(17)</td></tr>\\n<!--  <img src=\"/images/new.gif\" alt=\"May\"> -->\\n</table>'},\n",
              " {'link': 'https://www.erowid.org/experiences/exp.php?ID=99247',\n",
              "  'substance': 'DMT',\n",
              "  'dosechart': '<table class=\"dosechart\">\\n<tr>\\n<td align=\"right\" class=\"dosechart-time\">DOSE:<br/></td>\\n<td align=\"center\" class=\"dosechart-amount\">2 hits</td>\\n<td align=\"center\" class=\"dosechart-method\">vaporized</td>\\n<td class=\"dosechart-substance\"><a href=\"/chemicals/dmt/\">DMT</a></td>\\n</tr>\\n</table>',\n",
              "  'bodyweight': '<table class=\"bodyweight\">\\n<tr>\\n<td class=\"bodyweight-title\">BODY WEIGHT:</td>\\n<td class=\"bodyweight-amount\">185 lb</td>\\n</tr>\\n</table>',\n",
              "  'footdata': '<table class=\"footdata\">\\n<tr><td class=\"footdata-expyear\">Exp Year: 2011</td><td class=\"footdata-expid\">ExpID: 99247</td></tr>\\n<tr><td class=\"footdata-gender\">Gender: Male</td><td>\\xa0</td></tr>\\n<tr><td class=\"footdata-ageofexp\" colspan=\"2\">Age at time of experience: 19</td></tr>\\n<tr><td class=\"footdata-pubdate\">Published: Oct 14, 2020</td><td class=\"footdata-numviews\">Views: 3,281</td></tr>\\n<tr><td class=\"footdata-other-formats\" colspan=\"2\">[ <a href=\"exp.php?ID=99247&amp;format=pdf\" type=\"text/pdf\">View PDF (to print)</a> ] [ <a href=\"exp_pdf.php?ID=99247&amp;format=latex\">View LaTeX (for geeks)</a> ]\\n[\\xa0<a href=\"#\" onclick=\"expChangeColors(); return false;\">Swap\\xa0Dark/Light</a>\\xa0]\\n</td></tr>\\n<tr><td class=\"footdata-topic-list\" colspan=\"2\">DMT\\xa0(18) : General\\xa0(1), Mystical Experiences\\xa0(9), Nature / Outdoors\\xa0(23), Entities / Beings\\xa0(37), Glowing Experiences\\xa0(4), Small Group (2-9)\\xa0(17)</td></tr>\\n<!--  <img src=\"/images/new.gif\" alt=\"May\"> -->\\n</table>'},\n",
              " {'link': 'https://www.erowid.org/experiences/exp.php?ID=106448',\n",
              "  'substance': 'DMT',\n",
              "  'dosechart': '<table class=\"dosechart\">\\n<tr>\\n<td align=\"right\" class=\"dosechart-time\">DOSE:<br/></td>\\n<td align=\"center\" class=\"dosechart-amount\">2 hits</td>\\n<td align=\"center\" class=\"dosechart-method\">smoked</td>\\n<td class=\"dosechart-substance\"><a href=\"/chemicals/dmt/\">DMT</a></td>\\n</tr>\\n</table>',\n",
              "  'bodyweight': '<table class=\"bodyweight\">\\n<tr>\\n<td class=\"bodyweight-title\">BODY WEIGHT:</td>\\n<td class=\"bodyweight-amount\">110 lb</td>\\n</tr>\\n</table>',\n",
              "  'footdata': '<table class=\"footdata\">\\n<tr><td class=\"footdata-expyear\">Exp Year: 2015</td><td class=\"footdata-expid\">ExpID: 106448</td></tr>\\n<tr><td class=\"footdata-gender\">Gender: Female</td><td>\\xa0</td></tr>\\n<tr><td class=\"footdata-ageofexp\" colspan=\"2\">Age at time of experience: 26</td></tr>\\n<tr><td class=\"footdata-pubdate\">Published: Jul 24, 2020</td><td class=\"footdata-numviews\">Views: 8,387</td></tr>\\n<tr><td class=\"footdata-other-formats\" colspan=\"2\">[ <a href=\"exp.php?ID=106448&amp;format=pdf\" type=\"text/pdf\">View PDF (to print)</a> ] [ <a href=\"exp_pdf.php?ID=106448&amp;format=latex\">View LaTeX (for geeks)</a> ]\\n[\\xa0<a href=\"#\" onclick=\"expChangeColors(); return false;\">Swap\\xa0Dark/Light</a>\\xa0]\\n</td></tr>\\n<tr><td class=\"footdata-topic-list\" colspan=\"2\">DMT\\xa0(18) : Glowing Experiences\\xa0(4), Entities / Beings\\xa0(37), First Times\\xa0(2), Small Group (2-9)\\xa0(17)</td></tr>\\n<!--  <img src=\"/images/new.gif\" alt=\"May\"> -->\\n</table>'},\n",
              " {'link': 'https://www.erowid.org/experiences/exp.php?ID=106105',\n",
              "  'substance': 'DMT',\n",
              "  'dosechart': '<table class=\"dosechart\">\\n<tr>\\n<td align=\"right\" class=\"dosechart-time\">DOSE:<br/></td>\\n<td align=\"center\" class=\"dosechart-amount\">25 - 30 mg</td>\\n<td align=\"center\" class=\"dosechart-method\">vaporized</td>\\n<td class=\"dosechart-substance\"><a href=\"/chemicals/dmt/\">DMT</a></td>\\n<td class=\"dosechart-form\">(powder / crystals)</td>\\n</tr>\\n</table>',\n",
              "  'bodyweight': '<table class=\"bodyweight\">\\n<tr>\\n<td class=\"bodyweight-title\">BODY WEIGHT:</td>\\n<td class=\"bodyweight-amount\">205 lb</td>\\n</tr>\\n</table>',\n",
              "  'footdata': '<table class=\"footdata\">\\n<tr><td class=\"footdata-expyear\">Exp Year: 2015</td><td class=\"footdata-expid\">ExpID: 106105</td></tr>\\n<tr><td class=\"footdata-gender\">Gender: Male</td><td>\\xa0</td></tr>\\n<tr><td class=\"footdata-ageofexp\" colspan=\"2\">Age at time of experience: 26</td></tr>\\n<tr><td class=\"footdata-pubdate\">Published: Jun 4, 2020</td><td class=\"footdata-numviews\">Views: 4,390</td></tr>\\n<tr><td class=\"footdata-other-formats\" colspan=\"2\">[ <a href=\"exp.php?ID=106105&amp;format=pdf\" type=\"text/pdf\">View PDF (to print)</a> ] [ <a href=\"exp_pdf.php?ID=106105&amp;format=latex\">View LaTeX (for geeks)</a> ]\\n[\\xa0<a href=\"#\" onclick=\"expChangeColors(); return false;\">Swap\\xa0Dark/Light</a>\\xa0]\\n</td></tr>\\n<tr><td class=\"footdata-topic-list\" colspan=\"2\">DMT\\xa0(18) : Glowing Experiences\\xa0(4), Personal Preparation\\xa0(45), First Times\\xa0(2), Alone\\xa0(16)</td></tr>\\n<!--  <img src=\"/images/new.gif\" alt=\"May\"> -->\\n</table>'},\n",
              " {'link': 'https://www.erowid.org/experiences/exp.php?ID=108109',\n",
              "  'substance': 'DMT',\n",
              "  'dosechart': '<table class=\"dosechart\">\\n<tr>\\n<td align=\"right\" class=\"dosechart-time\">DOSE:<br/></td>\\n<td align=\"center\" class=\"dosechart-amount\">1 hit</td>\\n<td align=\"center\" class=\"dosechart-method\">smoked</td>\\n<td class=\"dosechart-substance\"><a href=\"/chemicals/dmt/\">DMT</a></td>\\n</tr>\\n</table>',\n",
              "  'bodyweight': '<table class=\"bodyweight\">\\n<tr>\\n<td class=\"bodyweight-title\">BODY WEIGHT:</td>\\n<td class=\"bodyweight-amount\">100 kg</td>\\n</tr>\\n</table>',\n",
              "  'footdata': '<table class=\"footdata\">\\n<tr><td class=\"footdata-expyear\">Exp Year: 2016</td><td class=\"footdata-expid\">ExpID: 108109</td></tr>\\n<tr><td class=\"footdata-gender\">Gender: Male</td><td>\\xa0</td></tr>\\n<tr><td class=\"footdata-ageofexp\" colspan=\"2\">Age at time of experience: 35</td></tr>\\n<tr><td class=\"footdata-pubdate\">Published: Feb 3, 2020</td><td class=\"footdata-numviews\">Views: 12,200</td></tr>\\n<tr><td class=\"footdata-other-formats\" colspan=\"2\">[ <a href=\"exp.php?ID=108109&amp;format=pdf\" type=\"text/pdf\">View PDF (to print)</a> ] [ <a href=\"exp_pdf.php?ID=108109&amp;format=latex\">View LaTeX (for geeks)</a> ]\\n[\\xa0<a href=\"#\" onclick=\"expChangeColors(); return false;\">Swap\\xa0Dark/Light</a>\\xa0]\\n</td></tr>\\n<tr><td class=\"footdata-topic-list\" colspan=\"2\">DMT\\xa0(18) : Alone\\xa0(16), Therapeutic Intent or Outcome\\xa0(49), Bad Trips\\xa0(6), First Times\\xa0(2), General\\xa0(1)</td></tr>\\n<!--  <img src=\"/images/new.gif\" alt=\"May\"> -->\\n</table>'},\n",
              " {'link': 'https://www.erowid.org/experiences/exp.php?ID=113511',\n",
              "  'substance': 'DMT',\n",
              "  'dosechart': '<table class=\"dosechart\">\\n<tr>\\n<td align=\"right\" class=\"dosechart-time\">DOSE:<br/></td>\\n<td align=\"center\" class=\"dosechart-amount\">40 mg</td>\\n<td align=\"center\" class=\"dosechart-method\">vaporized</td>\\n<td class=\"dosechart-substance\"><a href=\"/chemicals/dmt/\">DMT</a></td>\\n<td class=\"dosechart-form\">(powder / crystals)</td>\\n</tr>\\n</table>',\n",
              "  'bodyweight': '<table class=\"bodyweight\">\\n<tr>\\n<td class=\"bodyweight-title\">BODY WEIGHT:</td>\\n<td class=\"bodyweight-amount\">125 lb</td>\\n</tr>\\n</table>',\n",
              "  'footdata': '<table class=\"footdata\">\\n<tr><td class=\"footdata-expyear\">Exp Year: 2019</td><td class=\"footdata-expid\">ExpID: 113511</td></tr>\\n<tr><td class=\"footdata-gender\">Gender: Female</td><td>\\xa0</td></tr>\\n<tr><td class=\"footdata-ageofexp\" colspan=\"2\">Age at time of experience: 33</td></tr>\\n<tr><td class=\"footdata-pubdate\">Published: Oct 21, 2019</td><td class=\"footdata-numviews\">Views: 7,025</td></tr>\\n<tr><td class=\"footdata-other-formats\" colspan=\"2\">[ <a href=\"exp.php?ID=113511&amp;format=pdf\" type=\"text/pdf\">View PDF (to print)</a> ] [ <a href=\"exp_pdf.php?ID=113511&amp;format=latex\">View LaTeX (for geeks)</a> ]\\n[\\xa0<a href=\"#\" onclick=\"expChangeColors(); return false;\">Swap\\xa0Dark/Light</a>\\xa0]\\n</td></tr>\\n<tr><td class=\"footdata-topic-list\" colspan=\"2\">DMT\\xa0(18) : Small Group (2-9)\\xa0(17), Post Trip Problems\\xa0(8), Entities / Beings\\xa0(37), Health Problems\\xa0(27), Difficult Experiences\\xa0(5)</td></tr>\\n<!--  <img src=\"/images/new.gif\" alt=\"May\"> -->\\n</table>'},\n",
              " {'link': 'https://www.erowid.org/experiences/exp.php?ID=106818',\n",
              "  'substance': 'Pharmahuasca (Syrian Rue & DMT)',\n",
              "  'dosechart': '<table class=\"dosechart\">\\n<tr>\\n<td align=\"right\" class=\"dosechart-time\">DOSE:<br/> T+ 0:00</td>\\n<td align=\"center\" class=\"dosechart-amount\">3.5 g</td>\\n<td align=\"center\" class=\"dosechart-method\">oral</td>\\n<td class=\"dosechart-substance\"><a href=\"/plants/syrian_rue/\">Syrian Rue</a></td>\\n<td class=\"dosechart-form\">(tea)</td>\\n</tr>\\n<tr>\\n<td align=\"right\" class=\"dosechart-time\">\\xa0 T+ 1:00</td>\\n<td align=\"center\" class=\"dosechart-amount\">150 mg</td>\\n<td align=\"center\" class=\"dosechart-method\">oral</td>\\n<td class=\"dosechart-substance\"><a href=\"/chemicals/dmt/\">DMT</a></td>\\n<td class=\"dosechart-form\">(freebase)</td>\\n</tr>\\n</table>',\n",
              "  'bodyweight': '<table class=\"bodyweight\">\\n<tr>\\n<td class=\"bodyweight-title\">BODY WEIGHT:</td>\\n<td class=\"bodyweight-amount\">140 lb</td>\\n</tr>\\n</table>',\n",
              "  'footdata': '<table class=\"footdata\">\\n<tr><td class=\"footdata-expyear\">Exp Year: 2015</td><td class=\"footdata-expid\">ExpID: 106818</td></tr>\\n<tr><td class=\"footdata-gender\">Gender: Male</td><td>\\xa0</td></tr>\\n<tr><td class=\"footdata-ageofexp\" colspan=\"2\">Age at time of experience: 22</td></tr>\\n<tr><td class=\"footdata-pubdate\">Published: Oct 10, 2019</td><td class=\"footdata-numviews\">Views: 3,584</td></tr>\\n<tr><td class=\"footdata-other-formats\" colspan=\"2\">[ <a href=\"exp.php?ID=106818&amp;format=pdf\" type=\"text/pdf\">View PDF (to print)</a> ] [ <a href=\"exp_pdf.php?ID=106818&amp;format=latex\">View LaTeX (for geeks)</a> ]\\n[\\xa0<a href=\"#\" onclick=\"expChangeColors(); return false;\">Swap\\xa0Dark/Light</a>\\xa0]\\n</td></tr>\\n<tr><td class=\"footdata-topic-list\" colspan=\"2\">DMT\\xa0(18), Syrian Rue\\xa0(45), Pharmahuasca\\xa0(822) : Alone\\xa0(16), Entities / Beings\\xa0(37), Combinations\\xa0(3)</td></tr>\\n<!--  <img src=\"/images/new.gif\" alt=\"May\"> -->\\n</table>'},\n",
              " {'link': 'https://www.erowid.org/experiences/exp.php?ID=101367',\n",
              "  'substance': 'DMT',\n",
              "  'dosechart': '<table class=\"dosechart\">\\n<tr>\\n<td align=\"right\" class=\"dosechart-time\">DOSE:<br/></td>\\n<td align=\"center\" class=\"dosechart-amount\">3 hits</td>\\n<td align=\"center\" class=\"dosechart-method\">smoked</td>\\n<td class=\"dosechart-substance\"><a href=\"/chemicals/dmt/\">DMT</a></td>\\n</tr>\\n</table>',\n",
              "  'bodyweight': '<table class=\"bodyweight\">\\n<tr>\\n<td class=\"bodyweight-title\">BODY WEIGHT:</td>\\n<td class=\"bodyweight-amount\">69 kg</td>\\n</tr>\\n</table>',\n",
              "  'footdata': '<table class=\"footdata\">\\n<tr><td class=\"footdata-expyear\">Exp Year: 2013</td><td class=\"footdata-expid\">ExpID: 101367</td></tr>\\n<tr><td class=\"footdata-gender\">Gender: Male</td><td>\\xa0</td></tr>\\n<tr><td class=\"footdata-ageofexp\" colspan=\"2\">Age at time of experience: 21</td></tr>\\n<tr><td class=\"footdata-pubdate\">Published: Oct 2, 2019</td><td class=\"footdata-numviews\">Views: 8,583</td></tr>\\n<tr><td class=\"footdata-other-formats\" colspan=\"2\">[ <a href=\"exp.php?ID=101367&amp;format=pdf\" type=\"text/pdf\">View PDF (to print)</a> ] [ <a href=\"exp_pdf.php?ID=101367&amp;format=latex\">View LaTeX (for geeks)</a> ]\\n[\\xa0<a href=\"#\" onclick=\"expChangeColors(); return false;\">Swap\\xa0Dark/Light</a>\\xa0]\\n</td></tr>\\n<tr><td class=\"footdata-topic-list\" colspan=\"2\">DMT\\xa0(18) : Entities / Beings\\xa0(37), First Times\\xa0(2), Small Group (2-9)\\xa0(17)</td></tr>\\n<!--  <img src=\"/images/new.gif\" alt=\"May\"> -->\\n</table>'},\n",
              " {'link': 'https://www.erowid.org/experiences/exp.php?ID=102952',\n",
              "  'substance': 'DiPT & DMT',\n",
              "  'dosechart': '<table class=\"dosechart\">\\n<tr>\\n<td align=\"right\" class=\"dosechart-time\">DOSE:<br/> T+ 0:00</td>\\n<td align=\"center\" class=\"dosechart-amount\">45 mg</td>\\n<td align=\"center\" class=\"dosechart-method\">oral</td>\\n<td class=\"dosechart-substance\"><a href=\"/chemicals/dipt/\">DiPT</a></td>\\n<td class=\"dosechart-form\">(capsule)</td>\\n</tr>\\n<tr>\\n<td align=\"right\" class=\"dosechart-time\">\\xa0 T+ 3:30</td>\\n<td align=\"center\" class=\"dosechart-amount\">22 mg</td>\\n<td align=\"center\" class=\"dosechart-method\">vaporized</td>\\n<td class=\"dosechart-substance\"><a href=\"/chemicals/dmt/\">DMT</a></td>\\n<td class=\"dosechart-form\">(powder / crystals)</td>\\n</tr>\\n<tr>\\n<td align=\"right\" class=\"dosechart-time\">\\xa0 T+ 0:00</td>\\n<td align=\"center\" class=\"dosechart-amount\">\\xa0 </td>\\n<td align=\"center\" class=\"dosechart-method\">smoked</td>\\n<td class=\"dosechart-substance\"><a href=\"/plants/cannabis/\">Cannabis</a></td>\\n<td class=\"dosechart-form\">\\xa0</td>\\n</tr>\\n</table>',\n",
              "  'bodyweight': '<table class=\"bodyweight\">\\n<tr>\\n<td class=\"bodyweight-title\">BODY WEIGHT:</td>\\n<td class=\"bodyweight-amount\">145 lb</td>\\n</tr>\\n</table>',\n",
              "  'footdata': '<table class=\"footdata\">\\n<tr><td class=\"footdata-expyear\">Exp Year: 2014</td><td class=\"footdata-expid\">ExpID: 102952</td></tr>\\n<tr><td class=\"footdata-gender\">Gender: Male</td><td>\\xa0</td></tr>\\n<tr><td class=\"footdata-ageofexp\" colspan=\"2\">Age at time of experience: 18</td></tr>\\n<tr><td class=\"footdata-pubdate\">Published: Mar 29, 2019</td><td class=\"footdata-numviews\">Views: 3,050</td></tr>\\n<tr><td class=\"footdata-other-formats\" colspan=\"2\">[ <a href=\"exp.php?ID=102952&amp;format=pdf\" type=\"text/pdf\">View PDF (to print)</a> ] [ <a href=\"exp_pdf.php?ID=102952&amp;format=latex\">View LaTeX (for geeks)</a> ]\\n[\\xa0<a href=\"#\" onclick=\"expChangeColors(); return false;\">Swap\\xa0Dark/Light</a>\\xa0]\\n</td></tr>\\n<tr><td class=\"footdata-topic-list\" colspan=\"2\">DiPT\\xa0(110), DMT\\xa0(18) : Glowing Experiences\\xa0(4), Entities / Beings\\xa0(37), Combinations\\xa0(3), Alone\\xa0(16)</td></tr>\\n<!--  <img src=\"/images/new.gif\" alt=\"May\"> -->\\n</table>'},\n",
              " {'link': 'https://www.erowid.org/experiences/exp.php?ID=112845',\n",
              "  'substance': 'DMT',\n",
              "  'dosechart': '<table class=\"dosechart\">\\n<tr>\\n<td align=\"right\" class=\"dosechart-time\">DOSE:<br/></td>\\n<td align=\"center\" class=\"dosechart-amount\">2 hits</td>\\n<td align=\"center\" class=\"dosechart-method\">vaporized</td>\\n<td class=\"dosechart-substance\"><a href=\"/chemicals/dmt/\">DMT</a></td>\\n<td class=\"dosechart-form\">(powder / crystals)</td>\\n</tr>\\n</table>',\n",
              "  'bodyweight': '<table class=\"bodyweight\">\\n<tr>\\n<td class=\"bodyweight-title\">BODY WEIGHT:</td>\\n<td class=\"bodyweight-amount\">180 lb</td>\\n</tr>\\n</table>',\n",
              "  'footdata': '<table class=\"footdata\">\\n<tr><td class=\"footdata-expyear\">Exp Year: 2017</td><td class=\"footdata-expid\">ExpID: 112845</td></tr>\\n<tr><td class=\"footdata-gender\">Gender: Male</td><td>\\xa0</td></tr>\\n<tr><td class=\"footdata-ageofexp\" colspan=\"2\">Age at time of experience: 23</td></tr>\\n<tr><td class=\"footdata-pubdate\">Published: Feb 22, 2019</td><td class=\"footdata-numviews\">Views: 3,641</td></tr>\\n<tr><td class=\"footdata-other-formats\" colspan=\"2\">[ <a href=\"exp.php?ID=112845&amp;format=pdf\" type=\"text/pdf\">View PDF (to print)</a> ] [ <a href=\"exp_pdf.php?ID=112845&amp;format=latex\">View LaTeX (for geeks)</a> ]\\n[\\xa0<a href=\"#\" onclick=\"expChangeColors(); return false;\">Swap\\xa0Dark/Light</a>\\xa0]\\n</td></tr>\\n<tr><td class=\"footdata-topic-list\" colspan=\"2\">DMT\\xa0(18) : Alone\\xa0(16), Entities / Beings\\xa0(37), Mystical Experiences\\xa0(9), Difficult Experiences\\xa0(5), General\\xa0(1)</td></tr>\\n<!--  <img src=\"/images/new.gif\" alt=\"May\"> -->\\n</table>'},\n",
              " {'link': 'https://www.erowid.org/experiences/exp.php?ID=112640',\n",
              "  'substance': 'DMT',\n",
              "  'dosechart': '<table class=\"dosechart\">\\n<tr>\\n<td align=\"right\" class=\"dosechart-time\">DOSE:<br/></td>\\n<td align=\"center\" class=\"dosechart-amount\">\\xa0 </td>\\n<td align=\"center\" class=\"dosechart-method\">IV</td>\\n<td class=\"dosechart-substance\"><a href=\"/chemicals/dmt/\">DMT</a></td>\\n</tr>\\n</table>',\n",
              "  'bodyweight': '<table class=\"bodyweight\">\\n<tr>\\n<td class=\"bodyweight-title\">BODY WEIGHT:</td>\\n<td class=\"bodyweight-amount\">92 kg</td>\\n</tr>\\n</table>',\n",
              "  'footdata': '<table class=\"footdata\">\\n<tr><td class=\"footdata-expyear\">Exp Year: 2018</td><td class=\"footdata-expid\">ExpID: 112640</td></tr>\\n<tr><td class=\"footdata-gender\">Gender: Male</td><td>\\xa0</td></tr>\\n<tr><td class=\"footdata-ageofexp\" colspan=\"2\">Age at time of experience: 33</td></tr>\\n<tr><td class=\"footdata-pubdate\">Published: Feb 12, 2019</td><td class=\"footdata-numviews\">Views: 10,798</td></tr>\\n<tr><td class=\"footdata-other-formats\" colspan=\"2\">[ <a href=\"exp.php?ID=112640&amp;format=pdf\" type=\"text/pdf\">View PDF (to print)</a> ] [ <a href=\"exp_pdf.php?ID=112640&amp;format=latex\">View LaTeX (for geeks)</a> ]\\n[\\xa0<a href=\"#\" onclick=\"expChangeColors(); return false;\">Swap\\xa0Dark/Light</a>\\xa0]\\n</td></tr>\\n<tr><td class=\"footdata-topic-list\" colspan=\"2\">DMT\\xa0(18) : Multi-Day Experience\\xa0(13), General\\xa0(1), Hospital\\xa0(36)</td></tr>\\n<!--  <img src=\"/images/new.gif\" alt=\"May\"> -->\\n</table>'},\n",
              " {'link': 'https://www.erowid.org/experiences/exp.php?ID=112771',\n",
              "  'substance': 'DMT',\n",
              "  'dosechart': '<table class=\"dosechart\">\\n<tr>\\n<td align=\"right\" class=\"dosechart-time\">DOSE:<br/></td>\\n<td align=\"center\" class=\"dosechart-amount\">40 mg</td>\\n<td align=\"center\" class=\"dosechart-method\">vaporized</td>\\n<td class=\"dosechart-substance\"><a href=\"/chemicals/dmt/\">DMT</a></td>\\n</tr>\\n<tr>\\n<td align=\"right\" class=\"dosechart-time\">\\xa0</td>\\n<td align=\"center\" class=\"dosechart-amount\">45 mg</td>\\n<td align=\"center\" class=\"dosechart-method\">vaporized</td>\\n<td class=\"dosechart-substance\"><a href=\"/chemicals/dmt/\">DMT</a></td>\\n</tr>\\n</table>',\n",
              "  'bodyweight': '<table class=\"bodyweight\">\\n<tr>\\n<td class=\"bodyweight-title\">BODY WEIGHT:</td>\\n<td class=\"bodyweight-amount\">80 kg</td>\\n</tr>\\n</table>',\n",
              "  'footdata': '<table class=\"footdata\">\\n<tr><td class=\"footdata-expyear\">Exp Year: 2018</td><td class=\"footdata-expid\">ExpID: 112771</td></tr>\\n<tr><td class=\"footdata-gender\">Gender: Male</td><td>\\xa0</td></tr>\\n<tr><td class=\"footdata-ageofexp\" colspan=\"2\">Age at time of experience: 25</td></tr>\\n<tr><td class=\"footdata-pubdate\">Published: Jan 12, 2019</td><td class=\"footdata-numviews\">Views: 8,111</td></tr>\\n<tr><td class=\"footdata-other-formats\" colspan=\"2\">[ <a href=\"exp.php?ID=112771&amp;format=pdf\" type=\"text/pdf\">View PDF (to print)</a> ] [ <a href=\"exp_pdf.php?ID=112771&amp;format=latex\">View LaTeX (for geeks)</a> ]\\n[\\xa0<a href=\"#\" onclick=\"expChangeColors(); return false;\">Swap\\xa0Dark/Light</a>\\xa0]\\n</td></tr>\\n<tr><td class=\"footdata-topic-list\" colspan=\"2\">DMT\\xa0(18) : Alone\\xa0(16), Glowing Experiences\\xa0(4)</td></tr>\\n<!--  <img src=\"/images/new.gif\" alt=\"May\"> -->\\n</table>'},\n",
              " {'link': 'https://www.erowid.org/experiences/exp.php?ID=111847',\n",
              "  'substance': 'DMT',\n",
              "  'dosechart': '<table class=\"dosechart\">\\n<tr>\\n<td align=\"right\" class=\"dosechart-time\">DOSE:<br/></td>\\n<td align=\"center\" class=\"dosechart-amount\">3 hits</td>\\n<td align=\"center\" class=\"dosechart-method\">vaporized</td>\\n<td class=\"dosechart-substance\"><a href=\"/chemicals/dmt/\">DMT</a></td>\\n</tr>\\n<tr>\\n<td align=\"right\" class=\"dosechart-time\">\\xa0</td>\\n<td align=\"center\" class=\"dosechart-amount\">\\xa0 </td>\\n<td align=\"center\" class=\"dosechart-method\">oral</td>\\n<td class=\"dosechart-substance\"><a href=\"/chemicals/maois/\">MAOIs</a></td>\\n</tr>\\n</table>',\n",
              "  'bodyweight': '<table class=\"bodyweight\">\\n<tr>\\n<td class=\"bodyweight-title\">BODY WEIGHT:</td>\\n<td class=\"bodyweight-amount\">160 lb</td>\\n</tr>\\n</table>',\n",
              "  'footdata': '<table class=\"footdata\">\\n<tr><td class=\"footdata-expyear\">Exp Year: 2016</td><td class=\"footdata-expid\">ExpID: 111847</td></tr>\\n<tr><td class=\"footdata-gender\">Gender: Male</td><td>\\xa0</td></tr>\\n<tr><td class=\"footdata-ageofexp\" colspan=\"2\">Age at time of experience: 27</td></tr>\\n<tr><td class=\"footdata-pubdate\">Published: Apr 24, 2018</td><td class=\"footdata-numviews\">Views: 5,420</td></tr>\\n<tr><td class=\"footdata-other-formats\" colspan=\"2\">[ <a href=\"exp.php?ID=111847&amp;format=pdf\" type=\"text/pdf\">View PDF (to print)</a> ] [ <a href=\"exp_pdf.php?ID=111847&amp;format=latex\">View LaTeX (for geeks)</a> ]\\n[\\xa0<a href=\"#\" onclick=\"expChangeColors(); return false;\">Swap\\xa0Dark/Light</a>\\xa0]\\n</td></tr>\\n<tr><td class=\"footdata-topic-list\" colspan=\"2\">DMT\\xa0(18), MAOIs\\xa0(83) : Small Group (2-9)\\xa0(17), Guides / Sitters\\xa0(39), Entities / Beings\\xa0(37), General\\xa0(1)</td></tr>\\n<!--  <img src=\"/images/new.gif\" alt=\"May\"> -->\\n</table>'},\n",
              " {'link': 'https://www.erowid.org/experiences/exp.php?ID=87759',\n",
              "  'substance': 'DMT',\n",
              "  'dosechart': '<table class=\"dosechart\">\\n<tr>\\n<td align=\"right\" class=\"dosechart-time\">DOSE:<br/></td>\\n<td align=\"center\" class=\"dosechart-amount\">1 hit</td>\\n<td align=\"center\" class=\"dosechart-method\">smoked</td>\\n<td class=\"dosechart-substance\"><a href=\"/chemicals/dmt/\">DMT</a></td>\\n<td class=\"dosechart-form\">(powder / crystals)</td>\\n</tr>\\n</table>',\n",
              "  'bodyweight': '<table class=\"bodyweight\">\\n<tr>\\n<td class=\"bodyweight-title\">BODY WEIGHT:</td>\\n<td class=\"bodyweight-amount\">160 lb</td>\\n</tr>\\n</table>',\n",
              "  'footdata': '<table class=\"footdata\">\\n<tr><td class=\"footdata-expyear\">Exp Year: 2010</td><td class=\"footdata-expid\">ExpID: 87759</td></tr>\\n<tr><td class=\"footdata-gender\">Gender: Male</td><td>\\xa0</td></tr>\\n<tr><td class=\"footdata-ageofexp\" colspan=\"2\">Age at time of experience: 25</td></tr>\\n<tr><td class=\"footdata-pubdate\">Published: Apr 4, 2018</td><td class=\"footdata-numviews\">Views: 8,663</td></tr>\\n<tr><td class=\"footdata-other-formats\" colspan=\"2\">[ <a href=\"exp.php?ID=87759&amp;format=pdf\" type=\"text/pdf\">View PDF (to print)</a> ] [ <a href=\"exp_pdf.php?ID=87759&amp;format=latex\">View LaTeX (for geeks)</a> ]\\n[\\xa0<a href=\"#\" onclick=\"expChangeColors(); return false;\">Swap\\xa0Dark/Light</a>\\xa0]\\n</td></tr>\\n<tr><td class=\"footdata-topic-list\" colspan=\"2\">DMT\\xa0(18) : Small Group (2-9)\\xa0(17), First Times\\xa0(2)</td></tr>\\n<!--  <img src=\"/images/new.gif\" alt=\"May\"> -->\\n</table>'},\n",
              " {'link': 'https://www.erowid.org/experiences/exp.php?ID=96140',\n",
              "  'substance': 'DMT',\n",
              "  'dosechart': '<table class=\"dosechart\">\\n<tr>\\n<td align=\"right\" class=\"dosechart-time\">DOSE:<br/></td>\\n<td align=\"center\" class=\"dosechart-amount\">40 mg</td>\\n<td align=\"center\" class=\"dosechart-method\">smoked</td>\\n<td class=\"dosechart-substance\"><a href=\"/chemicals/dmt/\">DMT</a></td>\\n<td class=\"dosechart-form\">(freebase)</td>\\n</tr>\\n</table>',\n",
              "  'bodyweight': '<table class=\"bodyweight\">\\n<tr>\\n<td class=\"bodyweight-title\">BODY WEIGHT:</td>\\n<td class=\"bodyweight-amount\">200 lb</td>\\n</tr>\\n</table>',\n",
              "  'footdata': '<table class=\"footdata\">\\n<tr><td class=\"footdata-expyear\">Exp Year: 2012</td><td class=\"footdata-expid\">ExpID: 96140</td></tr>\\n<tr><td class=\"footdata-gender\">Gender: Male</td><td>\\xa0</td></tr>\\n<tr><td class=\"footdata-ageofexp\" colspan=\"2\">Age at time of experience: 35</td></tr>\\n<tr><td class=\"footdata-pubdate\">Published: Mar 8, 2018</td><td class=\"footdata-numviews\">Views: 4,797</td></tr>\\n<tr><td class=\"footdata-other-formats\" colspan=\"2\">[ <a href=\"exp.php?ID=96140&amp;format=pdf\" type=\"text/pdf\">View PDF (to print)</a> ] [ <a href=\"exp_pdf.php?ID=96140&amp;format=latex\">View LaTeX (for geeks)</a> ]\\n[\\xa0<a href=\"#\" onclick=\"expChangeColors(); return false;\">Swap\\xa0Dark/Light</a>\\xa0]\\n</td></tr>\\n<tr><td class=\"footdata-topic-list\" colspan=\"2\">DMT\\xa0(18) : General\\xa0(1), First Times\\xa0(2), Glowing Experiences\\xa0(4), Entities / Beings\\xa0(37), Alone\\xa0(16)</td></tr>\\n<!--  <img src=\"/images/new.gif\" alt=\"May\"> -->\\n</table>'},\n",
              " {'link': 'https://www.erowid.org/experiences/exp.php?ID=85721',\n",
              "  'substance': 'DMT',\n",
              "  'dosechart': '<table class=\"dosechart\">\\n<tr>\\n<td align=\"right\" class=\"dosechart-time\">DOSE:<br/></td>\\n<td align=\"center\" class=\"dosechart-amount\">1 bowl</td>\\n<td align=\"center\" class=\"dosechart-method\">smoked</td>\\n<td class=\"dosechart-substance\"><a href=\"/herbs/damiana/\">Damiana</a></td>\\n</tr>\\n<tr>\\n<td align=\"right\" class=\"dosechart-time\">\\xa0</td>\\n<td align=\"center\" class=\"dosechart-amount\">1 bowl</td>\\n<td align=\"center\" class=\"dosechart-method\">smoked</td>\\n<td class=\"dosechart-substance\"><a href=\"/chemicals/dmt/\">DMT</a></td>\\n</tr>\\n</table>',\n",
              "  'bodyweight': '<table class=\"bodyweight\">\\n<tr>\\n<td class=\"bodyweight-title\">BODY WEIGHT:</td>\\n<td class=\"bodyweight-amount\">145 lb</td>\\n</tr>\\n</table>',\n",
              "  'footdata': '<table class=\"footdata\">\\n<tr><td class=\"footdata-expyear\">Exp Year: 2010</td><td class=\"footdata-expid\">ExpID: 85721</td></tr>\\n<tr><td class=\"footdata-gender\">Gender: Male</td><td>\\xa0</td></tr>\\n<tr><td class=\"footdata-ageofexp\" colspan=\"2\">Age at time of experience: 21</td></tr>\\n<tr><td class=\"footdata-pubdate\">Published: Mar 4, 2018</td><td class=\"footdata-numviews\">Views: 14,816</td></tr>\\n<tr><td class=\"footdata-other-formats\" colspan=\"2\">[ <a href=\"exp.php?ID=85721&amp;format=pdf\" type=\"text/pdf\">View PDF (to print)</a> ] [ <a href=\"exp_pdf.php?ID=85721&amp;format=latex\">View LaTeX (for geeks)</a> ]\\n[\\xa0<a href=\"#\" onclick=\"expChangeColors(); return false;\">Swap\\xa0Dark/Light</a>\\xa0]\\n</td></tr>\\n<tr><td class=\"footdata-topic-list\" colspan=\"2\">DMT\\xa0(18) : Small Group (2-9)\\xa0(17), Train Wrecks &amp; Trip Disasters\\xa0(7), Difficult Experiences\\xa0(5), First Times\\xa0(2)</td></tr>\\n<!--  <img src=\"/images/new.gif\" alt=\"May\"> -->\\n</table>'},\n",
              " {'link': 'https://www.erowid.org/experiences/exp.php?ID=100953',\n",
              "  'substance': 'DMT',\n",
              "  'dosechart': '<table class=\"dosechart\">\\n<tr>\\n<td align=\"right\" class=\"dosechart-time\">DOSE:<br/> T+ 0:00</td>\\n<td align=\"center\" class=\"dosechart-amount\">1 hit</td>\\n<td align=\"center\" class=\"dosechart-method\">smoked</td>\\n<td class=\"dosechart-substance\"><a href=\"/chemicals/dmt/\">DMT</a></td>\\n</tr>\\n<tr>\\n<td align=\"right\" class=\"dosechart-time\">\\xa0 T+ 1:10</td>\\n<td align=\"center\" class=\"dosechart-amount\">1 hit</td>\\n<td align=\"center\" class=\"dosechart-method\">smoked</td>\\n<td class=\"dosechart-substance\"><a href=\"/chemicals/dmt/\">DMT</a></td>\\n</tr>\\n<tr>\\n<td align=\"right\" class=\"dosechart-time\">\\xa0 T+ 2:05</td>\\n<td align=\"center\" class=\"dosechart-amount\">1 hit</td>\\n<td align=\"center\" class=\"dosechart-method\">smoked</td>\\n<td class=\"dosechart-substance\"><a href=\"/chemicals/dmt/\">DMT</a></td>\\n</tr>\\n<tr>\\n<td align=\"right\" class=\"dosechart-time\">\\xa0 T+ 2:50</td>\\n<td align=\"center\" class=\"dosechart-amount\">2 hits</td>\\n<td align=\"center\" class=\"dosechart-method\">smoked</td>\\n<td class=\"dosechart-substance\"><a href=\"/chemicals/dmt/\">DMT</a></td>\\n</tr>\\n</table>',\n",
              "  'bodyweight': '<table class=\"bodyweight\">\\n<tr>\\n<td class=\"bodyweight-title\">BODY WEIGHT:</td>\\n<td class=\"bodyweight-amount\">180 lb</td>\\n</tr>\\n</table>',\n",
              "  'footdata': '<table class=\"footdata\">\\n<tr><td class=\"footdata-expyear\">Exp Year: 2007</td><td class=\"footdata-expid\">ExpID: 100953</td></tr>\\n<tr><td class=\"footdata-gender\">Gender: Male</td><td>\\xa0</td></tr>\\n<tr><td class=\"footdata-ageofexp\" colspan=\"2\">Age at time of experience: 50</td></tr>\\n<tr><td class=\"footdata-pubdate\">Published: Jan 19, 2018</td><td class=\"footdata-numviews\">Views: 6,614</td></tr>\\n<tr><td class=\"footdata-other-formats\" colspan=\"2\">[ <a href=\"exp.php?ID=100953&amp;format=pdf\" type=\"text/pdf\">View PDF (to print)</a> ] [ <a href=\"exp_pdf.php?ID=100953&amp;format=latex\">View LaTeX (for geeks)</a> ]\\n[\\xa0<a href=\"#\" onclick=\"expChangeColors(); return false;\">Swap\\xa0Dark/Light</a>\\xa0]\\n</td></tr>\\n<tr><td class=\"footdata-topic-list\" colspan=\"2\">DMT\\xa0(18) : Alone\\xa0(16), Therapeutic Intent or Outcome\\xa0(49), Retrospective / Summary\\xa0(11), First Times\\xa0(2)</td></tr>\\n<!--  <img src=\"/images/new.gif\" alt=\"May\"> -->\\n</table>'},\n",
              " {'link': 'https://www.erowid.org/experiences/exp.php?ID=99900',\n",
              "  'substance': 'DMT & Phenethylamines',\n",
              "  'dosechart': '<table class=\"dosechart\">\\n<tr>\\n<td align=\"right\" class=\"dosechart-time\">DOSE:<br/> T+ 0:00</td>\\n<td align=\"center\" class=\"dosechart-amount\">48 mg</td>\\n<td align=\"center\" class=\"dosechart-method\">vaporized</td>\\n<td class=\"dosechart-substance\"><a href=\"/chemicals/dmt/\">DMT</a></td>\\n<td class=\"dosechart-form\">(powder / crystals)</td>\\n</tr>\\n<tr>\\n<td align=\"right\" class=\"dosechart-time\">\\xa0 T+ 0:00</td>\\n<td align=\"center\" class=\"dosechart-amount\">170 mg</td>\\n<td align=\"center\" class=\"dosechart-method\">oral</td>\\n<td class=\"dosechart-substance\"><a href=\"/chemicals/mdma/\">MDMA</a></td>\\n<td class=\"dosechart-form\">(capsule)</td>\\n</tr>\\n<tr>\\n<td align=\"right\" class=\"dosechart-time\">\\xa0 T+ 0:00</td>\\n<td align=\"center\" class=\"dosechart-amount\">5 mg</td>\\n<td align=\"center\" class=\"dosechart-method\">insufflated</td>\\n<td class=\"dosechart-substance\"><a href=\"/chemicals/mdma/\">MDMA</a></td>\\n<td class=\"dosechart-form\">(powder / crystals)</td>\\n</tr>\\n<tr>\\n<td align=\"right\" class=\"dosechart-time\">\\xa0 T+ 0:00</td>\\n<td align=\"center\" class=\"dosechart-amount\">5 mg</td>\\n<td align=\"center\" class=\"dosechart-method\">insufflated</td>\\n<td class=\"dosechart-substance\"><a href=\"/chemicals/2cb/\">2C-B</a></td>\\n<td class=\"dosechart-form\">(powder / crystals)</td>\\n</tr>\\n<tr>\\n<td align=\"right\" class=\"dosechart-time\">\\xa0 T+ 0:00</td>\\n<td align=\"center\" class=\"dosechart-amount\">5 mg</td>\\n<td align=\"center\" class=\"dosechart-method\">insufflated</td>\\n<td class=\"dosechart-substance\"><a href=\"/chemicals/2ct2/\">2C-T-2</a></td>\\n<td class=\"dosechart-form\">(powder / crystals)</td>\\n</tr>\\n<tr>\\n<td align=\"right\" class=\"dosechart-time\">\\xa0 T+ 0:00</td>\\n<td align=\"center\" class=\"dosechart-amount\">\\xa0 </td>\\n<td align=\"center\" class=\"dosechart-method\">oral</td>\\n<td class=\"dosechart-substance\">Vitamin B-6</td>\\n<td class=\"dosechart-form\">\\xa0</td>\\n</tr>\\n<tr>\\n<td align=\"right\" class=\"dosechart-time\">\\xa0 T+ 24:00</td>\\n<td align=\"center\" class=\"dosechart-amount\">1 hit</td>\\n<td align=\"center\" class=\"dosechart-method\">vaporized</td>\\n<td class=\"dosechart-substance\"><a href=\"/chemicals/dmt/\">DMT</a></td>\\n<td class=\"dosechart-form\">(powder / crystals)</td>\\n</tr>\\n<tr>\\n<td align=\"right\" class=\"dosechart-time\">\\xa0 T+ 24:00</td>\\n<td align=\"center\" class=\"dosechart-amount\">1 capsl</td>\\n<td align=\"center\" class=\"dosechart-method\">oral</td>\\n<td class=\"dosechart-substance\"><a href=\"/chemicals/mdma/\">MDMA</a></td>\\n<td class=\"dosechart-form\">(powder / crystals)</td>\\n</tr>\\n<tr>\\n<td align=\"right\" class=\"dosechart-time\">\\xa0 T+ 24:00</td>\\n<td align=\"center\" class=\"dosechart-amount\">85 mg</td>\\n<td align=\"center\" class=\"dosechart-method\">oral</td>\\n<td class=\"dosechart-substance\"><a href=\"/chemicals/mdma/\">MDMA</a></td>\\n<td class=\"dosechart-form\">(capsule)</td>\\n</tr>\\n<tr>\\n<td align=\"right\" class=\"dosechart-time\">\\xa0 T+ 0:00</td>\\n<td align=\"center\" class=\"dosechart-amount\">\\xa0 </td>\\n<td align=\"center\" class=\"dosechart-method\">oral</td>\\n<td class=\"dosechart-substance\"><a href=\"/chemicals/alcohol/\">Alcohol - Beer/Wine</a></td>\\n<td class=\"dosechart-form\">\\xa0</td>\\n</tr>\\n<tr>\\n<td align=\"right\" class=\"dosechart-time\">\\xa0 T+ 96:00</td>\\n<td align=\"center\" class=\"dosechart-amount\">4 mg</td>\\n<td align=\"center\" class=\"dosechart-method\">oral</td>\\n<td class=\"dosechart-substance\"><a href=\"/chemicals/2ci/\">2C-I</a></td>\\n<td class=\"dosechart-form\">\\xa0</td>\\n</tr>\\n<tr>\\n<td align=\"right\" class=\"dosechart-time\">\\xa0 T+ 96:00</td>\\n<td align=\"center\" class=\"dosechart-amount\">\\xa0 </td>\\n<td align=\"center\" class=\"dosechart-method\">oral</td>\\n<td class=\"dosechart-substance\">Vitamins - Choline</td>\\n<td class=\"dosechart-form\">\\xa0</td>\\n</tr>\\n<tr>\\n<td align=\"right\" class=\"dosechart-time\">\\xa0 T+ 96:00</td>\\n<td align=\"center\" class=\"dosechart-amount\">\\xa0 </td>\\n<td align=\"center\" class=\"dosechart-method\">oral</td>\\n<td class=\"dosechart-substance\"><a href=\"/smarts/\">Smarts</a></td>\\n<td class=\"dosechart-form\">\\xa0</td>\\n</tr>\\n<tr>\\n<td align=\"right\" class=\"dosechart-time\">\\xa0 T+ 96:00</td>\\n<td align=\"center\" class=\"dosechart-amount\">12 mg</td>\\n<td align=\"center\" class=\"dosechart-method\">oral</td>\\n<td class=\"dosechart-substance\"><a href=\"/chemicals/2ce/\">2C-E</a></td>\\n<td class=\"dosechart-form\">(capsule)</td>\\n</tr>\\n</table>',\n",
              "  'bodyweight': '<table class=\"bodyweight\">\\n<tr>\\n<td class=\"bodyweight-title\">BODY WEIGHT:</td>\\n<td class=\"bodyweight-amount\">190 lb</td>\\n</tr>\\n</table>',\n",
              "  'footdata': '<table class=\"footdata\">\\n<tr><td class=\"footdata-expyear\">Exp Year: 2012</td><td class=\"footdata-expid\">ExpID: 99900</td></tr>\\n<tr><td class=\"footdata-gender\">Gender: Male</td><td>\\xa0</td></tr>\\n<tr><td class=\"footdata-ageofexp\" colspan=\"2\">Age at time of experience: 23</td></tr>\\n<tr><td class=\"footdata-pubdate\">Published: Dec 30, 2017</td><td class=\"footdata-numviews\">Views: 5,234</td></tr>\\n<tr><td class=\"footdata-other-formats\" colspan=\"2\">[ <a href=\"exp.php?ID=99900&amp;format=pdf\" type=\"text/pdf\">View PDF (to print)</a> ] [ <a href=\"exp_pdf.php?ID=99900&amp;format=latex\">View LaTeX (for geeks)</a> ]\\n[\\xa0<a href=\"#\" onclick=\"expChangeColors(); return false;\">Swap\\xa0Dark/Light</a>\\xa0]\\n</td></tr>\\n<tr><td class=\"footdata-topic-list\" colspan=\"2\">MDMA\\xa0(3), DMT\\xa0(18) : Small Group (2-9)\\xa0(17), Relationships\\xa0(44), Multi-Day Experience\\xa0(13), Glowing Experiences\\xa0(4), Combinations\\xa0(3)</td></tr>\\n<!--  <img src=\"/images/new.gif\" alt=\"May\"> -->\\n</table>'},\n",
              " {'link': 'https://www.erowid.org/experiences/exp.php?ID=103249',\n",
              "  'substance': 'DMT',\n",
              "  'dosechart': '<table class=\"dosechart\">\\n<tr>\\n<td align=\"right\" class=\"dosechart-time\">DOSE:<br/></td>\\n<td align=\"center\" class=\"dosechart-amount\">4 hits</td>\\n<td align=\"center\" class=\"dosechart-method\">smoked</td>\\n<td class=\"dosechart-substance\"><a href=\"/chemicals/dmt/\">DMT</a></td>\\n<td class=\"dosechart-form\">(powder / crystals)</td>\\n</tr>\\n</table>',\n",
              "  'bodyweight': '<table class=\"bodyweight\">\\n<tr>\\n<td class=\"bodyweight-title\">BODY WEIGHT:</td>\\n<td class=\"bodyweight-amount\">165 lb</td>\\n</tr>\\n</table>',\n",
              "  'footdata': '<table class=\"footdata\">\\n<tr><td class=\"footdata-expyear\">Exp Year: 2011</td><td class=\"footdata-expid\">ExpID: 103249</td></tr>\\n<tr><td class=\"footdata-gender\">Gender: Male</td><td>\\xa0</td></tr>\\n<tr><td class=\"footdata-ageofexp\" colspan=\"2\">Age at time of experience: 54</td></tr>\\n<tr><td class=\"footdata-pubdate\">Published: Dec 8, 2017</td><td class=\"footdata-numviews\">Views: 5,525</td></tr>\\n<tr><td class=\"footdata-other-formats\" colspan=\"2\">[ <a href=\"exp.php?ID=103249&amp;format=pdf\" type=\"text/pdf\">View PDF (to print)</a> ] [ <a href=\"exp_pdf.php?ID=103249&amp;format=latex\">View LaTeX (for geeks)</a> ]\\n[\\xa0<a href=\"#\" onclick=\"expChangeColors(); return false;\">Swap\\xa0Dark/Light</a>\\xa0]\\n</td></tr>\\n<tr><td class=\"footdata-topic-list\" colspan=\"2\">DMT\\xa0(18) : Glowing Experiences\\xa0(4), Entities / Beings\\xa0(37), General\\xa0(1), Small Group (2-9)\\xa0(17)</td></tr>\\n<!--  <img src=\"/images/new.gif\" alt=\"May\"> -->\\n</table>'},\n",
              " {'link': 'https://www.erowid.org/experiences/exp.php?ID=109084',\n",
              "  'substance': 'Pharmahuasca (Moclobemide & DMT)',\n",
              "  'dosechart': '<table class=\"dosechart\">\\n<tr>\\n<td align=\"right\" class=\"dosechart-time\">DOSE:<br/> T+ 0:00</td>\\n<td align=\"center\" class=\"dosechart-amount\">150 mg</td>\\n<td align=\"center\" class=\"dosechart-method\">oral</td>\\n<td class=\"dosechart-substance\"><a href=\"/pharms/moclobemide/\">Moclobemide</a></td>\\n<td class=\"dosechart-form\">(pill / tablet)</td>\\n</tr>\\n<tr>\\n<td align=\"right\" class=\"dosechart-time\">\\xa0 T+ 0:00</td>\\n<td align=\"center\" class=\"dosechart-amount\">8 mg</td>\\n<td align=\"center\" class=\"dosechart-method\">oral</td>\\n<td class=\"dosechart-substance\">Ondansetron</td>\\n<td class=\"dosechart-form\">(pill / tablet)</td>\\n</tr>\\n<tr>\\n<td align=\"right\" class=\"dosechart-time\">\\xa0 T+ 0:15</td>\\n<td align=\"center\" class=\"dosechart-amount\">70 mg</td>\\n<td align=\"center\" class=\"dosechart-method\">oral</td>\\n<td class=\"dosechart-substance\"><a href=\"/chemicals/dmt/\">DMT</a></td>\\n<td class=\"dosechart-form\">(liquid)</td>\\n</tr>\\n<tr>\\n<td align=\"right\" class=\"dosechart-time\">\\xa0 T+ 1:00</td>\\n<td align=\"center\" class=\"dosechart-amount\">4 mg</td>\\n<td align=\"center\" class=\"dosechart-method\">oral</td>\\n<td class=\"dosechart-substance\">Ondansetron</td>\\n<td class=\"dosechart-form\">(pill / tablet)</td>\\n</tr>\\n<tr>\\n<td align=\"right\" class=\"dosechart-time\">\\xa0 T+ 1:00</td>\\n<td align=\"center\" class=\"dosechart-amount\">70 mg</td>\\n<td align=\"center\" class=\"dosechart-method\">oral</td>\\n<td class=\"dosechart-substance\"><a href=\"/chemicals/dmt/\">DMT</a></td>\\n<td class=\"dosechart-form\">(liquid)</td>\\n</tr>\\n</table>',\n",
              "  'bodyweight': '<table class=\"bodyweight\">\\n<tr>\\n<td class=\"bodyweight-title\">BODY WEIGHT:</td>\\n<td class=\"bodyweight-amount\">70 kg</td>\\n</tr>\\n</table>',\n",
              "  'footdata': '<table class=\"footdata\">\\n<tr><td class=\"footdata-expyear\">Exp Year: 2016</td><td class=\"footdata-expid\">ExpID: 109084</td></tr>\\n<tr><td class=\"footdata-gender\">Gender: Male</td><td>\\xa0</td></tr>\\n<tr><td class=\"footdata-ageofexp\" colspan=\"2\">Age at time of experience: 23</td></tr>\\n<tr><td class=\"footdata-pubdate\">Published: Dec 1, 2017</td><td class=\"footdata-numviews\">Views: 4,641</td></tr>\\n<tr><td class=\"footdata-other-formats\" colspan=\"2\">[ <a href=\"exp.php?ID=109084&amp;format=pdf\" type=\"text/pdf\">View PDF (to print)</a> ] [ <a href=\"exp_pdf.php?ID=109084&amp;format=latex\">View LaTeX (for geeks)</a> ]\\n[\\xa0<a href=\"#\" onclick=\"expChangeColors(); return false;\">Swap\\xa0Dark/Light</a>\\xa0]\\n</td></tr>\\n<tr><td class=\"footdata-topic-list\" colspan=\"2\">Meditation\\xa0(128), Moclobemide\\xa0(75), DMT\\xa0(18), Pharmahuasca\\xa0(822) : Small Group (2-9)\\xa0(17), Combinations\\xa0(3), Therapeutic Intent or Outcome\\xa0(49), Entities / Beings\\xa0(37), Mystical Experiences\\xa0(9)</td></tr>\\n<!--  <img src=\"/images/new.gif\" alt=\"May\"> -->\\n</table>'},\n",
              " {'link': 'https://www.erowid.org/experiences/exp.php?ID=95151',\n",
              "  'substance': 'DMT after LSD',\n",
              "  'dosechart': '<table class=\"dosechart\">\\n<tr>\\n<td align=\"right\" class=\"dosechart-time\">DOSE:<br/></td>\\n<td align=\"center\" class=\"dosechart-amount\">\\xa0 </td>\\n<td align=\"center\" class=\"dosechart-method\">\\xa0</td>\\n<td class=\"dosechart-substance\"><a href=\"/chemicals/lsd/\">LSD</a></td>\\n</tr>\\n<tr>\\n<td align=\"right\" class=\"dosechart-time\">\\xa0</td>\\n<td align=\"center\" class=\"dosechart-amount\">3 hits</td>\\n<td align=\"center\" class=\"dosechart-method\">smoked</td>\\n<td class=\"dosechart-substance\"><a href=\"/chemicals/dmt/\">DMT</a></td>\\n</tr>\\n</table>',\n",
              "  'bodyweight': '<table class=\"bodyweight\">\\n<tr>\\n<td class=\"bodyweight-title\">BODY WEIGHT:</td>\\n<td class=\"bodyweight-amount\">155 lb</td>\\n</tr>\\n</table>',\n",
              "  'footdata': '<table class=\"footdata\">\\n<tr><td class=\"footdata-expyear\">Exp Year: 2008</td><td class=\"footdata-expid\">ExpID: 95151</td></tr>\\n<tr><td class=\"footdata-gender\">Gender: Female</td><td>\\xa0</td></tr>\\n<tr><td class=\"footdata-ageofexp\" colspan=\"2\">Age at time of experience: 24</td></tr>\\n<tr><td class=\"footdata-pubdate\">Published: Dec 1, 2017</td><td class=\"footdata-numviews\">Views: 8,527</td></tr>\\n<tr><td class=\"footdata-other-formats\" colspan=\"2\">[ <a href=\"exp.php?ID=95151&amp;format=pdf\" type=\"text/pdf\">View PDF (to print)</a> ] [ <a href=\"exp_pdf.php?ID=95151&amp;format=latex\">View LaTeX (for geeks)</a> ]\\n[\\xa0<a href=\"#\" onclick=\"expChangeColors(); return false;\">Swap\\xa0Dark/Light</a>\\xa0]\\n</td></tr>\\n<tr><td class=\"footdata-topic-list\" colspan=\"2\">DMT\\xa0(18) : Combinations\\xa0(3), First Times\\xa0(2), Small Group (2-9)\\xa0(17)</td></tr>\\n<!--  <img src=\"/images/new.gif\" alt=\"May\"> -->\\n</table>'},\n",
              " {'link': 'https://www.erowid.org/experiences/exp.php?ID=100929',\n",
              "  'substance': 'DMT',\n",
              "  'dosechart': '<table class=\"dosechart\">\\n<tr>\\n<td align=\"right\" class=\"dosechart-time\">DOSE:<br/></td>\\n<td align=\"center\" class=\"dosechart-amount\">60 mg</td>\\n<td align=\"center\" class=\"dosechart-method\">smoked</td>\\n<td class=\"dosechart-substance\"><a href=\"/chemicals/dmt/\">DMT</a></td>\\n<td class=\"dosechart-form\">(powder / crystals)</td>\\n</tr>\\n</table>',\n",
              "  'bodyweight': '<table class=\"bodyweight\">\\n<tr>\\n<td class=\"bodyweight-title\">BODY WEIGHT:</td>\\n<td class=\"bodyweight-amount\">85 kg</td>\\n</tr>\\n</table>',\n",
              "  'footdata': '<table class=\"footdata\">\\n<tr><td class=\"footdata-expyear\">Exp Year: 2013</td><td class=\"footdata-expid\">ExpID: 100929</td></tr>\\n<tr><td class=\"footdata-gender\">Gender: Male</td><td>\\xa0</td></tr>\\n<tr><td class=\"footdata-ageofexp\" colspan=\"2\">Age at time of experience: 25</td></tr>\\n<tr><td class=\"footdata-pubdate\">Published: Oct 27, 2017</td><td class=\"footdata-numviews\">Views: 3,722</td></tr>\\n<tr><td class=\"footdata-other-formats\" colspan=\"2\">[ <a href=\"exp.php?ID=100929&amp;format=pdf\" type=\"text/pdf\">View PDF (to print)</a> ] [ <a href=\"exp_pdf.php?ID=100929&amp;format=latex\">View LaTeX (for geeks)</a> ]\\n[\\xa0<a href=\"#\" onclick=\"expChangeColors(); return false;\">Swap\\xa0Dark/Light</a>\\xa0]\\n</td></tr>\\n<tr><td class=\"footdata-topic-list\" colspan=\"2\">DMT\\xa0(18) : Entities / Beings\\xa0(37), Mystical Experiences\\xa0(9), Small Group (2-9)\\xa0(17)</td></tr>\\n<!--  <img src=\"/images/new.gif\" alt=\"May\"> -->\\n</table>'},\n",
              " {'link': 'https://www.erowid.org/experiences/exp.php?ID=97363',\n",
              "  'substance': 'DMT & Damiana',\n",
              "  'dosechart': '<table class=\"dosechart\">\\n<tr>\\n<td align=\"right\" class=\"dosechart-time\">DOSE:<br/></td>\\n<td align=\"center\" class=\"dosechart-amount\">1 hit</td>\\n<td align=\"center\" class=\"dosechart-method\">smoked</td>\\n<td class=\"dosechart-substance\"><a href=\"/chemicals/dmt/\">DMT</a></td>\\n</tr>\\n<tr>\\n<td align=\"right\" class=\"dosechart-time\">\\xa0</td>\\n<td align=\"center\" class=\"dosechart-amount\">1 hit</td>\\n<td align=\"center\" class=\"dosechart-method\">smoked</td>\\n<td class=\"dosechart-substance\"><a href=\"/herbs/damiana/\">Damiana</a></td>\\n</tr>\\n</table>',\n",
              "  'bodyweight': '<table class=\"bodyweight\">\\n<tr>\\n<td class=\"bodyweight-title\">BODY WEIGHT:</td>\\n<td class=\"bodyweight-amount\">150 lb</td>\\n</tr>\\n</table>',\n",
              "  'footdata': '<table class=\"footdata\">\\n<tr><td class=\"footdata-expyear\">Exp Year: 2010</td><td class=\"footdata-expid\">ExpID: 97363</td></tr>\\n<tr><td class=\"footdata-gender\">Gender: Male</td><td>\\xa0</td></tr>\\n<tr><td class=\"footdata-ageofexp\" colspan=\"2\">Age at time of experience: 21</td></tr>\\n<tr><td class=\"footdata-pubdate\">Published: Oct 26, 2017</td><td class=\"footdata-numviews\">Views: 4,472</td></tr>\\n<tr><td class=\"footdata-other-formats\" colspan=\"2\">[ <a href=\"exp.php?ID=97363&amp;format=pdf\" type=\"text/pdf\">View PDF (to print)</a> ] [ <a href=\"exp_pdf.php?ID=97363&amp;format=latex\">View LaTeX (for geeks)</a> ]\\n[\\xa0<a href=\"#\" onclick=\"expChangeColors(); return false;\">Swap\\xa0Dark/Light</a>\\xa0]\\n</td></tr>\\n<tr><td class=\"footdata-topic-list\" colspan=\"2\">DMT\\xa0(18) : Combinations\\xa0(3), Hangover / Days After\\xa0(46), Difficult Experiences\\xa0(5), Small Group (2-9)\\xa0(17)</td></tr>\\n<!--  <img src=\"/images/new.gif\" alt=\"May\"> -->\\n</table>'},\n",
              " {'link': 'https://www.erowid.org/experiences/exp.php?ID=110185',\n",
              "  'substance': 'DMT',\n",
              "  'dosechart': '<table class=\"dosechart\">\\n<tr>\\n<td align=\"right\" class=\"dosechart-time\">DOSE:<br/></td>\\n<td align=\"center\" class=\"dosechart-amount\">50 mg</td>\\n<td align=\"center\" class=\"dosechart-method\">smoked</td>\\n<td class=\"dosechart-substance\"><a href=\"/chemicals/dmt/\">DMT</a></td>\\n<td class=\"dosechart-form\">(powder / crystals)</td>\\n</tr>\\n</table>',\n",
              "  'bodyweight': '<table class=\"bodyweight\">\\n<tr>\\n<td class=\"bodyweight-title\">BODY WEIGHT:</td>\\n<td class=\"bodyweight-amount\">160 lb</td>\\n</tr>\\n</table>',\n",
              "  'footdata': '<table class=\"footdata\">\\n<tr><td class=\"footdata-expyear\">Exp Year: 2017</td><td class=\"footdata-expid\">ExpID: 110185</td></tr>\\n<tr><td class=\"footdata-gender\">Gender: Male</td><td>\\xa0</td></tr>\\n<tr><td class=\"footdata-ageofexp\" colspan=\"2\">Age at time of experience: 25</td></tr>\\n<tr><td class=\"footdata-pubdate\">Published: Oct 15, 2017</td><td class=\"footdata-numviews\">Views: 14,112</td></tr>\\n<tr><td class=\"footdata-other-formats\" colspan=\"2\">[ <a href=\"exp.php?ID=110185&amp;format=pdf\" type=\"text/pdf\">View PDF (to print)</a> ] [ <a href=\"exp_pdf.php?ID=110185&amp;format=latex\">View LaTeX (for geeks)</a> ]\\n[\\xa0<a href=\"#\" onclick=\"expChangeColors(); return false;\">Swap\\xa0Dark/Light</a>\\xa0]\\n</td></tr>\\n<tr><td class=\"footdata-topic-list\" colspan=\"2\">DMT\\xa0(18) : Alone\\xa0(16), Preparation / Recipes\\xa0(30)</td></tr>\\n<!--  <img src=\"/images/new.gif\" alt=\"May\"> -->\\n</table>'},\n",
              " {'link': 'https://www.erowid.org/experiences/exp.php?ID=108821',\n",
              "  'substance': 'DMT',\n",
              "  'dosechart': '<table class=\"dosechart\">\\n<tr>\\n<td align=\"right\" class=\"dosechart-time\">DOSE:<br/></td>\\n<td align=\"center\" class=\"dosechart-amount\">1 hit</td>\\n<td align=\"center\" class=\"dosechart-method\">vaporized</td>\\n<td class=\"dosechart-substance\"><a href=\"/chemicals/dmt/\">DMT</a></td>\\n<td class=\"dosechart-form\">(powder / crystals)</td>\\n</tr>\\n</table>',\n",
              "  'bodyweight': '<table class=\"bodyweight\">\\n<tr>\\n<td class=\"bodyweight-title\">BODY WEIGHT:</td>\\n<td class=\"bodyweight-amount\">240 lb</td>\\n</tr>\\n</table>',\n",
              "  'footdata': '<table class=\"footdata\">\\n<tr><td class=\"footdata-expyear\">Exp Year: 2016</td><td class=\"footdata-expid\">ExpID: 108821</td></tr>\\n<tr><td class=\"footdata-gender\">Gender: Male</td><td>\\xa0</td></tr>\\n<tr><td class=\"footdata-ageofexp\" colspan=\"2\">Age at time of experience: 48</td></tr>\\n<tr><td class=\"footdata-pubdate\">Published: Oct 10, 2017</td><td class=\"footdata-numviews\">Views: 7,556</td></tr>\\n<tr><td class=\"footdata-other-formats\" colspan=\"2\">[ <a href=\"exp.php?ID=108821&amp;format=pdf\" type=\"text/pdf\">View PDF (to print)</a> ] [ <a href=\"exp_pdf.php?ID=108821&amp;format=latex\">View LaTeX (for geeks)</a> ]\\n[\\xa0<a href=\"#\" onclick=\"expChangeColors(); return false;\">Swap\\xa0Dark/Light</a>\\xa0]\\n</td></tr>\\n<tr><td class=\"footdata-topic-list\" colspan=\"2\">DMT\\xa0(18) : Glowing Experiences\\xa0(4), Personal Preparation\\xa0(45), General\\xa0(1), Small Group (2-9)\\xa0(17)</td></tr>\\n<!--  <img src=\"/images/new.gif\" alt=\"May\"> -->\\n</table>'},\n",
              " {'link': 'https://www.erowid.org/experiences/exp.php?ID=91964',\n",
              "  'substance': 'DMT',\n",
              "  'dosechart': '<table class=\"dosechart\">\\n<tr>\\n<td align=\"right\" class=\"dosechart-time\">DOSE:<br/></td>\\n<td align=\"center\" class=\"dosechart-amount\">25 mg</td>\\n<td align=\"center\" class=\"dosechart-method\">vaporized</td>\\n<td class=\"dosechart-substance\"><a href=\"/chemicals/dmt/\">DMT</a></td>\\n<td class=\"dosechart-form\">(extract)</td>\\n</tr>\\n</table>',\n",
              "  'bodyweight': '<table class=\"bodyweight\">\\n<tr>\\n<td class=\"bodyweight-title\">BODY WEIGHT:</td>\\n<td class=\"bodyweight-amount\">190 lb</td>\\n</tr>\\n</table>',\n",
              "  'footdata': '<table class=\"footdata\">\\n<tr><td class=\"footdata-expyear\">Exp Year: 2011</td><td class=\"footdata-expid\">ExpID: 91964</td></tr>\\n<tr><td class=\"footdata-gender\">Gender: Male</td><td>\\xa0</td></tr>\\n<tr><td class=\"footdata-ageofexp\" colspan=\"2\">Age at time of experience: 30</td></tr>\\n<tr><td class=\"footdata-pubdate\">Published: Aug 17, 2017</td><td class=\"footdata-numviews\">Views: 4,462</td></tr>\\n<tr><td class=\"footdata-other-formats\" colspan=\"2\">[ <a href=\"exp.php?ID=91964&amp;format=pdf\" type=\"text/pdf\">View PDF (to print)</a> ] [ <a href=\"exp_pdf.php?ID=91964&amp;format=latex\">View LaTeX (for geeks)</a> ]\\n[\\xa0<a href=\"#\" onclick=\"expChangeColors(); return false;\">Swap\\xa0Dark/Light</a>\\xa0]\\n</td></tr>\\n<tr><td class=\"footdata-topic-list\" colspan=\"2\">DMT\\xa0(18) : Entities / Beings\\xa0(37), General\\xa0(1), Alone\\xa0(16)</td></tr>\\n<!--  <img src=\"/images/new.gif\" alt=\"May\"> -->\\n</table>'},\n",
              " {'link': 'https://www.erowid.org/experiences/exp.php?ID=110432',\n",
              "  'substance': 'Pharmahuasca (Syrian Rue & DMT)',\n",
              "  'dosechart': '<table class=\"dosechart\">\\n<tr>\\n<td align=\"right\" class=\"dosechart-time\">DOSE:<br/> T+ 0:00</td>\\n<td align=\"center\" class=\"dosechart-amount\">10 g</td>\\n<td align=\"center\" class=\"dosechart-method\">oral</td>\\n<td class=\"dosechart-substance\"><a href=\"/plants/syrian_rue/\">Syrian Rue</a></td>\\n<td class=\"dosechart-form\">(tea)</td>\\n</tr>\\n<tr>\\n<td align=\"right\" class=\"dosechart-time\">\\xa0 T+ 0:45</td>\\n<td align=\"center\" class=\"dosechart-amount\">200 mg</td>\\n<td align=\"center\" class=\"dosechart-method\">oral</td>\\n<td class=\"dosechart-substance\"><a href=\"/chemicals/dmt/\">DMT</a></td>\\n<td class=\"dosechart-form\">(capsule)</td>\\n</tr>\\n<tr>\\n<td align=\"right\" class=\"dosechart-time\">\\xa0 T+ 1:00</td>\\n<td align=\"center\" class=\"dosechart-amount\">200 mg</td>\\n<td align=\"center\" class=\"dosechart-method\">oral</td>\\n<td class=\"dosechart-substance\"><a href=\"/chemicals/dmt/\">DMT</a></td>\\n<td class=\"dosechart-form\">(capsule)</td>\\n</tr>\\n<tr>\\n<td align=\"right\" class=\"dosechart-time\">\\xa0 T+ 0:00</td>\\n<td align=\"center\" class=\"dosechart-amount\">1 hit</td>\\n<td align=\"center\" class=\"dosechart-method\">vaporized</td>\\n<td class=\"dosechart-substance\"><a href=\"/chemicals/dmt/\">DMT</a></td>\\n<td class=\"dosechart-form\">\\xa0</td>\\n</tr>\\n<tr>\\n<td align=\"right\" class=\"dosechart-time\">\\xa0 T+ 24:00</td>\\n<td align=\"center\" class=\"dosechart-amount\">3 mg</td>\\n<td align=\"center\" class=\"dosechart-method\">oral</td>\\n<td class=\"dosechart-substance\"><a href=\"/smarts/melatonin/\">Melatonin</a></td>\\n<td class=\"dosechart-form\">\\xa0</td>\\n</tr>\\n</table>',\n",
              "  'bodyweight': '<table class=\"bodyweight\">\\n<tr>\\n<td class=\"bodyweight-title\">BODY WEIGHT:</td>\\n<td class=\"bodyweight-amount\">150 lb</td>\\n</tr>\\n</table>',\n",
              "  'footdata': '<table class=\"footdata\">\\n<tr><td class=\"footdata-expyear\">Exp Year: 2014</td><td class=\"footdata-expid\">ExpID: 110432</td></tr>\\n<tr><td class=\"footdata-gender\">Gender: Male</td><td>\\xa0</td></tr>\\n<tr><td class=\"footdata-ageofexp\" colspan=\"2\">Age at time of experience: 24</td></tr>\\n<tr><td class=\"footdata-pubdate\">Published: Jun 29, 2017</td><td class=\"footdata-numviews\">Views: 5,468</td></tr>\\n<tr><td class=\"footdata-other-formats\" colspan=\"2\">[ <a href=\"exp.php?ID=110432&amp;format=pdf\" type=\"text/pdf\">View PDF (to print)</a> ] [ <a href=\"exp_pdf.php?ID=110432&amp;format=latex\">View LaTeX (for geeks)</a> ]\\n[\\xa0<a href=\"#\" onclick=\"expChangeColors(); return false;\">Swap\\xa0Dark/Light</a>\\xa0]\\n</td></tr>\\n<tr><td class=\"footdata-topic-list\" colspan=\"2\">Yoga / Bodywork\\xa0(202), Pharmahuasca\\xa0(822), DMT\\xa0(18), Syrian Rue\\xa0(45) : Alone\\xa0(16), Multi-Day Experience\\xa0(13), Entities / Beings\\xa0(37), Combinations\\xa0(3)</td></tr>\\n<!--  <img src=\"/images/new.gif\" alt=\"May\"> -->\\n</table>'},\n",
              " {'link': 'https://www.erowid.org/experiences/exp.php?ID=81462',\n",
              "  'substance': 'Huasca Combo (Syrian Rue & DMT)',\n",
              "  'dosechart': '<table class=\"dosechart\">\\n<tr>\\n<td align=\"right\" class=\"dosechart-time\">DOSE:<br/> T+ 0:00</td>\\n<td align=\"center\" class=\"dosechart-amount\">3 g</td>\\n<td align=\"center\" class=\"dosechart-method\">oral</td>\\n<td class=\"dosechart-substance\"><a href=\"/plants/syrian_rue/\">Syrian Rue</a></td>\\n<td class=\"dosechart-form\">(extract)</td>\\n</tr>\\n<tr>\\n<td align=\"right\" class=\"dosechart-time\">\\xa0 T+ 0:40</td>\\n<td align=\"center\" class=\"dosechart-amount\">320 mg</td>\\n<td align=\"center\" class=\"dosechart-method\">oral</td>\\n<td class=\"dosechart-substance\"><a href=\"/chemicals/dmt/\">DMT</a></td>\\n<td class=\"dosechart-form\">(capsule)</td>\\n</tr>\\n</table>',\n",
              "  'bodyweight': '<table class=\"bodyweight\">\\n<tr>\\n<td class=\"bodyweight-title\">BODY WEIGHT:</td>\\n<td class=\"bodyweight-amount\">73 kg</td>\\n</tr>\\n</table>',\n",
              "  'footdata': '<table class=\"footdata\">\\n<tr><td class=\"footdata-expyear\">Exp Year: 2008</td><td class=\"footdata-expid\">ExpID: 81462</td></tr>\\n<tr><td class=\"footdata-gender\">Gender: Male</td><td>\\xa0</td></tr>\\n<tr><td class=\"footdata-ageofexp\" colspan=\"2\">Age at time of experience: 43</td></tr>\\n<tr><td class=\"footdata-pubdate\">Published: Feb 13, 2017</td><td class=\"footdata-numviews\">Views: 4,452</td></tr>\\n<tr><td class=\"footdata-other-formats\" colspan=\"2\">[ <a href=\"exp.php?ID=81462&amp;format=pdf\" type=\"text/pdf\">View PDF (to print)</a> ] [ <a href=\"exp_pdf.php?ID=81462&amp;format=latex\">View LaTeX (for geeks)</a> ]\\n[\\xa0<a href=\"#\" onclick=\"expChangeColors(); return false;\">Swap\\xa0Dark/Light</a>\\xa0]\\n</td></tr>\\n<tr><td class=\"footdata-topic-list\" colspan=\"2\">DMT\\xa0(18), Syrian Rue\\xa0(45), Huasca Combo\\xa0(269) : Alone\\xa0(16), Entities / Beings\\xa0(37), Difficult Experiences\\xa0(5), Combinations\\xa0(3)</td></tr>\\n<!--  <img src=\"/images/new.gif\" alt=\"May\"> -->\\n</table>'},\n",
              " {'link': 'https://www.erowid.org/experiences/exp.php?ID=101884',\n",
              "  'substance': 'DMT',\n",
              "  'dosechart': '<table class=\"dosechart\">\\n<tr>\\n<td align=\"right\" class=\"dosechart-time\">DOSE:<br/></td>\\n<td align=\"center\" class=\"dosechart-amount\">\\xa0 repeated</td>\\n<td align=\"center\" class=\"dosechart-method\">vaporized</td>\\n<td class=\"dosechart-substance\"><a href=\"/chemicals/dmt/\">DMT</a></td>\\n</tr>\\n</table>',\n",
              "  'bodyweight': '<table class=\"bodyweight\">\\n<tr>\\n<td class=\"bodyweight-title\">BODY WEIGHT:</td>\\n<td class=\"bodyweight-amount\">240 lb</td>\\n</tr>\\n</table>',\n",
              "  'footdata': '<table class=\"footdata\">\\n<tr><td class=\"footdata-expyear\">Exp Year: 2013</td><td class=\"footdata-expid\">ExpID: 101884</td></tr>\\n<tr><td class=\"footdata-gender\">Gender: Female</td><td>\\xa0</td></tr>\\n<tr><td class=\"footdata-ageofexp\" colspan=\"2\">Age at time of experience: 35</td></tr>\\n<tr><td class=\"footdata-pubdate\">Published: Dec 11, 2016</td><td class=\"footdata-numviews\">Views: 6,830</td></tr>\\n<tr><td class=\"footdata-other-formats\" colspan=\"2\">[ <a href=\"exp.php?ID=101884&amp;format=pdf\" type=\"text/pdf\">View PDF (to print)</a> ] [ <a href=\"exp_pdf.php?ID=101884&amp;format=latex\">View LaTeX (for geeks)</a> ]\\n[\\xa0<a href=\"#\" onclick=\"expChangeColors(); return false;\">Swap\\xa0Dark/Light</a>\\xa0]\\n</td></tr>\\n<tr><td class=\"footdata-topic-list\" colspan=\"2\">DMT\\xa0(18) : Glowing Experiences\\xa0(4), Entities / Beings\\xa0(37), Guides / Sitters\\xa0(39), Multi-Day Experience\\xa0(13), Relationships\\xa0(44), Personal Preparation\\xa0(45), Therapeutic Intent or Outcome\\xa0(49), Retrospective / Summary\\xa0(11), Small Group (2-9)\\xa0(17)</td></tr>\\n<!--  <img src=\"/images/new.gif\" alt=\"May\"> -->\\n</table>'},\n",
              " {'link': 'https://www.erowid.org/experiences/exp.php?ID=108077',\n",
              "  'substance': 'DOC, Clonazolam & DMT',\n",
              "  'dosechart': '<table class=\"dosechart\">\\n<tr>\\n<td align=\"right\" class=\"dosechart-time\">DOSE:<br/> T+ 0:00</td>\\n<td align=\"center\" class=\"dosechart-amount\">7 mg</td>\\n<td align=\"center\" class=\"dosechart-method\">\\xa0</td>\\n<td class=\"dosechart-substance\"><a href=\"/chemicals/doc/\">DOC</a></td>\\n</tr>\\n<tr>\\n<td align=\"right\" class=\"dosechart-time\">\\xa0 T+ 0:00</td>\\n<td align=\"center\" class=\"dosechart-amount\">1 mg</td>\\n<td align=\"center\" class=\"dosechart-method\">\\xa0</td>\\n<td class=\"dosechart-substance\"><a href=\"/pharms/benzodiazepine/\">Clonazolam</a></td>\\n</tr>\\n<tr>\\n<td align=\"right\" class=\"dosechart-time\">\\xa0 T+ 1:45</td>\\n<td align=\"center\" class=\"dosechart-amount\">3 mg</td>\\n<td align=\"center\" class=\"dosechart-method\">IM</td>\\n<td class=\"dosechart-substance\"><a href=\"/chemicals/doc/\">DOC</a></td>\\n</tr>\\n<tr>\\n<td align=\"right\" class=\"dosechart-time\">\\xa0 T+ 0:00</td>\\n<td align=\"center\" class=\"dosechart-amount\">23 mg</td>\\n<td align=\"center\" class=\"dosechart-method\">vaporized</td>\\n<td class=\"dosechart-substance\"><a href=\"/chemicals/dmt/\">DMT</a></td>\\n</tr>\\n</table>',\n",
              "  'bodyweight': '<table class=\"bodyweight\">\\n<tr>\\n<td class=\"bodyweight-title\">BODY WEIGHT:</td>\\n<td class=\"bodyweight-amount\">150 lb</td>\\n</tr>\\n</table>',\n",
              "  'footdata': '<table class=\"footdata\">\\n<tr><td class=\"footdata-expyear\">Exp Year: 2016</td><td class=\"footdata-expid\">ExpID: 108077</td></tr>\\n<tr><td class=\"footdata-gender\">Gender: Male</td><td>\\xa0</td></tr>\\n<tr><td class=\"footdata-ageofexp\" colspan=\"2\">Age at time of experience: 39</td></tr>\\n<tr><td class=\"footdata-pubdate\">Published: Nov 3, 2016</td><td class=\"footdata-numviews\">Views: 4,926</td></tr>\\n<tr><td class=\"footdata-other-formats\" colspan=\"2\">[ <a href=\"exp.php?ID=108077&amp;format=pdf\" type=\"text/pdf\">View PDF (to print)</a> ] [ <a href=\"exp_pdf.php?ID=108077&amp;format=latex\">View LaTeX (for geeks)</a> ]\\n[\\xa0<a href=\"#\" onclick=\"expChangeColors(); return false;\">Swap\\xa0Dark/Light</a>\\xa0]\\n</td></tr>\\n<tr><td class=\"footdata-topic-list\" colspan=\"2\">DMT\\xa0(18), DOC\\xa0(357) : Small Group (2-9)\\xa0(17), Entities / Beings\\xa0(37), Combinations\\xa0(3)</td></tr>\\n<!--  <img src=\"/images/new.gif\" alt=\"May\"> -->\\n</table>'},\n",
              " {'link': 'https://www.erowid.org/experiences/exp.php?ID=94599',\n",
              "  'substance': 'DMT',\n",
              "  'dosechart': '<table class=\"dosechart\">\\n<tr>\\n<td align=\"right\" class=\"dosechart-time\">DOSE:<br/></td>\\n<td align=\"center\" class=\"dosechart-amount\">150 mg</td>\\n<td align=\"center\" class=\"dosechart-method\">smoked</td>\\n<td class=\"dosechart-substance\"><a href=\"/chemicals/dmt/\">DMT</a></td>\\n<td class=\"dosechart-form\">(powder / crystals)</td>\\n</tr>\\n</table>',\n",
              "  'bodyweight': '<table class=\"bodyweight\">\\n<tr>\\n<td class=\"bodyweight-title\">BODY WEIGHT:</td>\\n<td class=\"bodyweight-amount\">180 lb</td>\\n</tr>\\n</table>',\n",
              "  'footdata': '<table class=\"footdata\">\\n<tr><td class=\"footdata-expyear\">Exp Year: 2012</td><td class=\"footdata-expid\">ExpID: 94599</td></tr>\\n<tr><td class=\"footdata-gender\">Gender: Male</td><td>\\xa0</td></tr>\\n<tr><td class=\"footdata-ageofexp\" colspan=\"2\">Age at time of experience: 21</td></tr>\\n<tr><td class=\"footdata-pubdate\">Published: Oct 29, 2016</td><td class=\"footdata-numviews\">Views: 8,076</td></tr>\\n<tr><td class=\"footdata-other-formats\" colspan=\"2\">[ <a href=\"exp.php?ID=94599&amp;format=pdf\" type=\"text/pdf\">View PDF (to print)</a> ] [ <a href=\"exp_pdf.php?ID=94599&amp;format=latex\">View LaTeX (for geeks)</a> ]\\n[\\xa0<a href=\"#\" onclick=\"expChangeColors(); return false;\">Swap\\xa0Dark/Light</a>\\xa0]\\n</td></tr>\\n<tr><td class=\"footdata-topic-list\" colspan=\"2\">DMT\\xa0(18) : Small Group (2-9)\\xa0(17), Entities / Beings\\xa0(37), Glowing Experiences\\xa0(4), First Times\\xa0(2)</td></tr>\\n<!--  <img src=\"/images/new.gif\" alt=\"May\"> -->\\n</table>'},\n",
              " {'link': 'https://www.erowid.org/experiences/exp.php?ID=90113',\n",
              "  'substance': 'DMT',\n",
              "  'dosechart': '<table class=\"dosechart\">\\n<tr>\\n<td align=\"right\" class=\"dosechart-time\">DOSE:<br/></td>\\n<td align=\"center\" class=\"dosechart-amount\">\\xa0 </td>\\n<td align=\"center\" class=\"dosechart-method\">smoked</td>\\n<td class=\"dosechart-substance\"><a href=\"/chemicals/dmt/\">DMT</a></td>\\n</tr>\\n</table>',\n",
              "  'bodyweight': None,\n",
              "  'footdata': '<table class=\"footdata\">\\n<tr><td class=\"footdata-expyear\">Exp Year: 2011</td><td class=\"footdata-expid\">ExpID: 90113</td></tr>\\n<tr><td class=\"footdata-gender\">Gender: Female</td><td>\\xa0</td></tr>\\n<tr><td class=\"footdata-ageofexp\" colspan=\"2\">Age at time of experience: 22</td></tr>\\n<tr><td class=\"footdata-pubdate\">Published: Feb 10, 2016</td><td class=\"footdata-numviews\">Views: 9,512</td></tr>\\n<tr><td class=\"footdata-other-formats\" colspan=\"2\">[ <a href=\"exp.php?ID=90113&amp;format=pdf\" type=\"text/pdf\">View PDF (to print)</a> ] [ <a href=\"exp_pdf.php?ID=90113&amp;format=latex\">View LaTeX (for geeks)</a> ]\\n[\\xa0<a href=\"#\" onclick=\"expChangeColors(); return false;\">Swap\\xa0Dark/Light</a>\\xa0]\\n</td></tr>\\n<tr><td class=\"footdata-topic-list\" colspan=\"2\">DMT\\xa0(18) : Relationships\\xa0(44), Therapeutic Intent or Outcome\\xa0(49), General\\xa0(1), Small Group (2-9)\\xa0(17)</td></tr>\\n<!--  <img src=\"/images/new.gif\" alt=\"May\"> -->\\n</table>'},\n",
              " {'link': 'https://www.erowid.org/experiences/exp.php?ID=90263',\n",
              "  'substance': 'DMT & Cannabis',\n",
              "  'dosechart': '<table class=\"dosechart\">\\n<tr>\\n<td align=\"right\" class=\"dosechart-time\">DOSE:<br/></td>\\n<td align=\"center\" class=\"dosechart-amount\">\\xa0 </td>\\n<td align=\"center\" class=\"dosechart-method\">smoked</td>\\n<td class=\"dosechart-substance\"><a href=\"/plants/cannabis/\">Cannabis</a></td>\\n<td class=\"dosechart-form\">(plant material)</td>\\n</tr>\\n<tr>\\n<td align=\"right\" class=\"dosechart-time\">\\xa0</td>\\n<td align=\"center\" class=\"dosechart-amount\">\\xa0 </td>\\n<td align=\"center\" class=\"dosechart-method\">vaporized</td>\\n<td class=\"dosechart-substance\"><a href=\"/chemicals/dmt/\">DMT</a></td>\\n<td class=\"dosechart-form\">(powder / crystals)</td>\\n</tr>\\n</table>',\n",
              "  'bodyweight': '<table class=\"bodyweight\">\\n<tr>\\n<td class=\"bodyweight-title\">BODY WEIGHT:</td>\\n<td class=\"bodyweight-amount\">61 kg</td>\\n</tr>\\n</table>',\n",
              "  'footdata': '<table class=\"footdata\">\\n<tr><td class=\"footdata-expyear\">Exp Year: 2011</td><td class=\"footdata-expid\">ExpID: 90263</td></tr>\\n<tr><td class=\"footdata-gender\">Gender: Male</td><td>\\xa0</td></tr>\\n<tr><td class=\"footdata-ageofexp\" colspan=\"2\">Age at time of experience: 22</td></tr>\\n<tr><td class=\"footdata-pubdate\">Published: Feb 7, 2016</td><td class=\"footdata-numviews\">Views: 12,459</td></tr>\\n<tr><td class=\"footdata-other-formats\" colspan=\"2\">[ <a href=\"exp.php?ID=90263&amp;format=pdf\" type=\"text/pdf\">View PDF (to print)</a> ] [ <a href=\"exp_pdf.php?ID=90263&amp;format=latex\">View LaTeX (for geeks)</a> ]\\n[\\xa0<a href=\"#\" onclick=\"expChangeColors(); return false;\">Swap\\xa0Dark/Light</a>\\xa0]\\n</td></tr>\\n<tr><td class=\"footdata-topic-list\" colspan=\"2\">DMT\\xa0(18) : First Times\\xa0(2), Glowing Experiences\\xa0(4), Entities / Beings\\xa0(37), Small Group (2-9)\\xa0(17)</td></tr>\\n<!--  <img src=\"/images/new.gif\" alt=\"May\"> -->\\n</table>'},\n",
              " {'link': 'https://www.erowid.org/experiences/exp.php?ID=88428',\n",
              "  'substance': 'LSD & DMT',\n",
              "  'dosechart': '<table class=\"dosechart\">\\n<tr>\\n<td align=\"right\" class=\"dosechart-time\">DOSE:<br/></td>\\n<td align=\"center\" class=\"dosechart-amount\">\\xa0 </td>\\n<td align=\"center\" class=\"dosechart-method\">\\xa0</td>\\n<td class=\"dosechart-substance\"><a href=\"/chemicals/lsd/\">LSD</a></td>\\n<td class=\"dosechart-form\">\\xa0</td>\\n</tr>\\n<tr>\\n<td align=\"right\" class=\"dosechart-time\">\\xa0</td>\\n<td align=\"center\" class=\"dosechart-amount\">70 mg</td>\\n<td align=\"center\" class=\"dosechart-method\">vaporized</td>\\n<td class=\"dosechart-substance\"><a href=\"/chemicals/dmt/\">DMT</a></td>\\n<td class=\"dosechart-form\">(powder / crystals)</td>\\n</tr>\\n</table>',\n",
              "  'bodyweight': '<table class=\"bodyweight\">\\n<tr>\\n<td class=\"bodyweight-title\">BODY WEIGHT:</td>\\n<td class=\"bodyweight-amount\">170 lb</td>\\n</tr>\\n</table>',\n",
              "  'footdata': '<table class=\"footdata\">\\n<tr><td class=\"footdata-expyear\">Exp Year: 2010</td><td class=\"footdata-expid\">ExpID: 88428</td></tr>\\n<tr><td class=\"footdata-gender\">Gender: Male</td><td>\\xa0</td></tr>\\n<tr><td class=\"footdata-ageofexp\" colspan=\"2\">Age at time of experience: 16</td></tr>\\n<tr><td class=\"footdata-pubdate\">Published: Feb 7, 2016</td><td class=\"footdata-numviews\">Views: 11,897</td></tr>\\n<tr><td class=\"footdata-other-formats\" colspan=\"2\">[ <a href=\"exp.php?ID=88428&amp;format=pdf\" type=\"text/pdf\">View PDF (to print)</a> ] [ <a href=\"exp_pdf.php?ID=88428&amp;format=latex\">View LaTeX (for geeks)</a> ]\\n[\\xa0<a href=\"#\" onclick=\"expChangeColors(); return false;\">Swap\\xa0Dark/Light</a>\\xa0]\\n</td></tr>\\n<tr><td class=\"footdata-topic-list\" colspan=\"2\">DMT\\xa0(18) : First Times\\xa0(2), Glowing Experiences\\xa0(4), Therapeutic Intent or Outcome\\xa0(49), Mystical Experiences\\xa0(9), Small Group (2-9)\\xa0(17)</td></tr>\\n<!--  <img src=\"/images/new.gif\" alt=\"May\"> -->\\n</table>'},\n",
              " {'link': 'https://www.erowid.org/experiences/exp.php?ID=107582',\n",
              "  'substance': 'Changa (Smoked B. caapi & DMT)',\n",
              "  'dosechart': '<table class=\"dosechart\">\\n<tr>\\n<td align=\"right\" class=\"dosechart-time\">DOSE:<br/></td>\\n<td align=\"center\" class=\"dosechart-amount\">3 hits</td>\\n<td align=\"center\" class=\"dosechart-method\">smoked</td>\\n<td class=\"dosechart-substance\">Changa</td>\\n<td class=\"dosechart-form\">(plant material)</td>\\n</tr>\\n</table>',\n",
              "  'bodyweight': '<table class=\"bodyweight\">\\n<tr>\\n<td class=\"bodyweight-title\">BODY WEIGHT:</td>\\n<td class=\"bodyweight-amount\">70 kg</td>\\n</tr>\\n</table>',\n",
              "  'footdata': '<table class=\"footdata\">\\n<tr><td class=\"footdata-expyear\">Exp Year: 2015</td><td class=\"footdata-expid\">ExpID: 107582</td></tr>\\n<tr><td class=\"footdata-gender\">Gender: Male</td><td>\\xa0</td></tr>\\n<tr><td class=\"footdata-ageofexp\" colspan=\"2\">Age at time of experience: 31</td></tr>\\n<tr><td class=\"footdata-pubdate\">Published: Jan 8, 2016</td><td class=\"footdata-numviews\">Views: 9,167</td></tr>\\n<tr><td class=\"footdata-other-formats\" colspan=\"2\">[ <a href=\"exp.php?ID=107582&amp;format=pdf\" type=\"text/pdf\">View PDF (to print)</a> ] [ <a href=\"exp_pdf.php?ID=107582&amp;format=latex\">View LaTeX (for geeks)</a> ]\\n[\\xa0<a href=\"#\" onclick=\"expChangeColors(); return false;\">Swap\\xa0Dark/Light</a>\\xa0]\\n</td></tr>\\n<tr><td class=\"footdata-topic-list\" colspan=\"2\">DMT\\xa0(18), Banisteriopsis caapi\\xa0(169), Changa\\xa0(816) : Combinations\\xa0(3), First Times\\xa0(2), General\\xa0(1), Music Discussion\\xa0(22), Small Group (2-9)\\xa0(17)</td></tr>\\n<!--  <img src=\"/images/new.gif\" alt=\"May\"> -->\\n</table>'},\n",
              " {'link': 'https://www.erowid.org/experiences/exp.php?ID=100109',\n",
              "  'substance': 'Mushrooms, DMT, & Cannabis',\n",
              "  'dosechart': '<table class=\"dosechart\">\\n<tr>\\n<td align=\"right\" class=\"dosechart-time\">DOSE:<br/> T+ 0:00</td>\\n<td align=\"center\" class=\"dosechart-amount\">3.5 g</td>\\n<td align=\"center\" class=\"dosechart-method\">oral</td>\\n<td class=\"dosechart-substance\"><a href=\"/plants/mushrooms/\">Mushrooms</a></td>\\n<td class=\"dosechart-form\">(dried)</td>\\n</tr>\\n<tr>\\n<td align=\"right\" class=\"dosechart-time\">\\xa0 T+ 0:30</td>\\n<td align=\"center\" class=\"dosechart-amount\">\\xa0 </td>\\n<td align=\"center\" class=\"dosechart-method\">smoked</td>\\n<td class=\"dosechart-substance\"><a href=\"/plants/cannabis/\">Cannabis - Hash</a></td>\\n<td class=\"dosechart-form\">(plant material)</td>\\n</tr>\\n<tr>\\n<td align=\"right\" class=\"dosechart-time\">\\xa0 T+ 3:00</td>\\n<td align=\"center\" class=\"dosechart-amount\">4 hits</td>\\n<td align=\"center\" class=\"dosechart-method\">smoked</td>\\n<td class=\"dosechart-substance\"><a href=\"/chemicals/dmt/\">DMT</a></td>\\n<td class=\"dosechart-form\">(powder / crystals)</td>\\n</tr>\\n</table>',\n",
              "  'bodyweight': '<table class=\"bodyweight\">\\n<tr>\\n<td class=\"bodyweight-title\">BODY WEIGHT:</td>\\n<td class=\"bodyweight-amount\">170 lb</td>\\n</tr>\\n</table>',\n",
              "  'footdata': '<table class=\"footdata\">\\n<tr><td class=\"footdata-expyear\">Exp Year: 2012</td><td class=\"footdata-expid\">ExpID: 100109</td></tr>\\n<tr><td class=\"footdata-gender\">Gender: Male</td><td>\\xa0</td></tr>\\n<tr><td class=\"footdata-ageofexp\" colspan=\"2\">Age at time of experience: 20</td></tr>\\n<tr><td class=\"footdata-pubdate\">Published: Dec 28, 2015</td><td class=\"footdata-numviews\">Views: 7,763</td></tr>\\n<tr><td class=\"footdata-other-formats\" colspan=\"2\">[ <a href=\"exp.php?ID=100109&amp;format=pdf\" type=\"text/pdf\">View PDF (to print)</a> ] [ <a href=\"exp_pdf.php?ID=100109&amp;format=latex\">View LaTeX (for geeks)</a> ]\\n[\\xa0<a href=\"#\" onclick=\"expChangeColors(); return false;\">Swap\\xa0Dark/Light</a>\\xa0]\\n</td></tr>\\n<tr><td class=\"footdata-topic-list\" colspan=\"2\">Mushrooms\\xa0(39), DMT\\xa0(18) : Small Group (2-9)\\xa0(17), Mystical Experiences\\xa0(9), Glowing Experiences\\xa0(4), Combinations\\xa0(3)</td></tr>\\n<!--  <img src=\"/images/new.gif\" alt=\"May\"> -->\\n</table>'},\n",
              " {'link': 'https://www.erowid.org/experiences/exp.php?ID=97591',\n",
              "  'substance': 'DMT',\n",
              "  'dosechart': '<table class=\"dosechart\">\\n<tr>\\n<td align=\"right\" class=\"dosechart-time\">DOSE:<br/></td>\\n<td align=\"center\" class=\"dosechart-amount\">\\xa0 </td>\\n<td align=\"center\" class=\"dosechart-method\">smoked</td>\\n<td class=\"dosechart-substance\"><a href=\"/chemicals/dmt/\">DMT</a></td>\\n</tr>\\n</table>',\n",
              "  'bodyweight': '<table class=\"bodyweight\">\\n<tr>\\n<td class=\"bodyweight-title\">BODY WEIGHT:</td>\\n<td class=\"bodyweight-amount\">160 lb</td>\\n</tr>\\n</table>',\n",
              "  'footdata': '<table class=\"footdata\">\\n<tr><td class=\"footdata-expyear\">Exp Year: 2012</td><td class=\"footdata-expid\">ExpID: 97591</td></tr>\\n<tr><td class=\"footdata-gender\">Gender: Male</td><td>\\xa0</td></tr>\\n<tr><td class=\"footdata-ageofexp\" colspan=\"2\">Age at time of experience: 29</td></tr>\\n<tr><td class=\"footdata-pubdate\">Published: May 13, 2015</td><td class=\"footdata-numviews\">Views: 9,364</td></tr>\\n<tr><td class=\"footdata-other-formats\" colspan=\"2\">[ <a href=\"exp.php?ID=97591&amp;format=pdf\" type=\"text/pdf\">View PDF (to print)</a> ] [ <a href=\"exp_pdf.php?ID=97591&amp;format=latex\">View LaTeX (for geeks)</a> ]\\n[\\xa0<a href=\"#\" onclick=\"expChangeColors(); return false;\">Swap\\xa0Dark/Light</a>\\xa0]\\n</td></tr>\\n<tr><td class=\"footdata-topic-list\" colspan=\"2\">DMT\\xa0(18) : Entities / Beings\\xa0(37), General\\xa0(1), Alone\\xa0(16)</td></tr>\\n<!--  <img src=\"/images/new.gif\" alt=\"May\"> -->\\n</table>'},\n",
              " {'link': 'https://www.erowid.org/experiences/exp.php?ID=90557',\n",
              "  'substance': 'DMT',\n",
              "  'dosechart': '<table class=\"dosechart\">\\n<tr>\\n<td align=\"right\" class=\"dosechart-time\">DOSE:<br/></td>\\n<td align=\"center\" class=\"dosechart-amount\">100 mg</td>\\n<td align=\"center\" class=\"dosechart-method\">vaporized</td>\\n<td class=\"dosechart-substance\"><a href=\"/chemicals/dmt/\">DMT</a></td>\\n<td class=\"dosechart-form\">(powder / crystals)</td>\\n</tr>\\n</table>',\n",
              "  'bodyweight': None,\n",
              "  'footdata': '<table class=\"footdata\">\\n<tr><td class=\"footdata-expyear\">Exp Year: 2009</td><td class=\"footdata-expid\">ExpID: 90557</td></tr>\\n<tr><td class=\"footdata-gender\">Gender: Not Specified</td><td>\\xa0</td></tr>\\n<tr><td class=\"footdata-ageofexp\" colspan=\"2\">Age at time of experience: Not Given</td></tr>\\n<tr><td class=\"footdata-pubdate\">Published: Mar 17, 2014</td><td class=\"footdata-numviews\">Views: 15,630</td></tr>\\n<tr><td class=\"footdata-other-formats\" colspan=\"2\">[ <a href=\"exp.php?ID=90557&amp;format=pdf\" type=\"text/pdf\">View PDF (to print)</a> ] [ <a href=\"exp_pdf.php?ID=90557&amp;format=latex\">View LaTeX (for geeks)</a> ]\\n[\\xa0<a href=\"#\" onclick=\"expChangeColors(); return false;\">Swap\\xa0Dark/Light</a>\\xa0]\\n</td></tr>\\n<tr><td class=\"footdata-topic-list\" colspan=\"2\">DMT\\xa0(18) : General\\xa0(1), Mystical Experiences\\xa0(9), Music Discussion\\xa0(22), Entities / Beings\\xa0(37), Small Group (2-9)\\xa0(17)</td></tr>\\n<!--  <img src=\"/images/new.gif\" alt=\"May\"> -->\\n</table>'},\n",
              " {'link': 'https://www.erowid.org/experiences/exp.php?ID=101998',\n",
              "  'substance': 'DMT',\n",
              "  'dosechart': '<table class=\"dosechart\">\\n<tr>\\n<td align=\"right\" class=\"dosechart-time\">DOSE:<br/></td>\\n<td align=\"center\" class=\"dosechart-amount\">\\xa0 repeated</td>\\n<td align=\"center\" class=\"dosechart-method\">smoked</td>\\n<td class=\"dosechart-substance\"><a href=\"/chemicals/dmt/\">DMT</a></td>\\n</tr>\\n</table>',\n",
              "  'bodyweight': None,\n",
              "  'footdata': '<table class=\"footdata\">\\n<tr><td class=\"footdata-expyear\">Exp Year: 2013</td><td class=\"footdata-expid\">ExpID: 101998</td></tr>\\n<tr><td class=\"footdata-gender\">Gender: Female</td><td>\\xa0</td></tr>\\n<tr><td class=\"footdata-ageofexp\" colspan=\"2\">Age at time of experience: 22</td></tr>\\n<tr><td class=\"footdata-pubdate\">Published: Jan 28, 2014</td><td class=\"footdata-numviews\">Views: 21,572</td></tr>\\n<tr><td class=\"footdata-other-formats\" colspan=\"2\">[ <a href=\"exp.php?ID=101998&amp;format=pdf\" type=\"text/pdf\">View PDF (to print)</a> ] [ <a href=\"exp_pdf.php?ID=101998&amp;format=latex\">View LaTeX (for geeks)</a> ]\\n[\\xa0<a href=\"#\" onclick=\"expChangeColors(); return false;\">Swap\\xa0Dark/Light</a>\\xa0]\\n</td></tr>\\n<tr><td class=\"footdata-topic-list\" colspan=\"2\">DMT\\xa0(18) : General\\xa0(1), Entities / Beings\\xa0(37), Multi-Day Experience\\xa0(13), Alone\\xa0(16)</td></tr>\\n<!--  <img src=\"/images/new.gif\" alt=\"May\"> -->\\n</table>'},\n",
              " {'link': 'https://www.erowid.org/experiences/exp.php?ID=87447',\n",
              "  'substance': 'DMT',\n",
              "  'dosechart': '<table class=\"dosechart\">\\n<tr>\\n<td align=\"right\" class=\"dosechart-time\">DOSE:<br/></td>\\n<td align=\"center\" class=\"dosechart-amount\">30 mg</td>\\n<td align=\"center\" class=\"dosechart-method\">smoked</td>\\n<td class=\"dosechart-substance\"><a href=\"/chemicals/dmt/\">DMT</a></td>\\n</tr>\\n</table>',\n",
              "  'bodyweight': '<table class=\"bodyweight\">\\n<tr>\\n<td class=\"bodyweight-title\">BODY WEIGHT:</td>\\n<td class=\"bodyweight-amount\">150 lb</td>\\n</tr>\\n</table>',\n",
              "  'footdata': '<table class=\"footdata\">\\n<tr><td class=\"footdata-expyear\">Exp Year: 2010</td><td class=\"footdata-expid\">ExpID: 87447</td></tr>\\n<tr><td class=\"footdata-gender\">Gender: Male</td><td>\\xa0</td></tr>\\n<tr><td class=\"footdata-ageofexp\" colspan=\"2\">Age at time of experience: 18</td></tr>\\n<tr><td class=\"footdata-pubdate\">Published: Jan 14, 2014</td><td class=\"footdata-numviews\">Views: 8,549</td></tr>\\n<tr><td class=\"footdata-other-formats\" colspan=\"2\">[ <a href=\"exp.php?ID=87447&amp;format=pdf\" type=\"text/pdf\">View PDF (to print)</a> ] [ <a href=\"exp_pdf.php?ID=87447&amp;format=latex\">View LaTeX (for geeks)</a> ]\\n[\\xa0<a href=\"#\" onclick=\"expChangeColors(); return false;\">Swap\\xa0Dark/Light</a>\\xa0]\\n</td></tr>\\n<tr><td class=\"footdata-topic-list\" colspan=\"2\">DMT\\xa0(18) : Mystical Experiences\\xa0(9), Entities / Beings\\xa0(37), Small Group (2-9)\\xa0(17)</td></tr>\\n<!--  <img src=\"/images/new.gif\" alt=\"May\"> -->\\n</table>'},\n",
              " {'link': 'https://www.erowid.org/experiences/exp.php?ID=80512',\n",
              "  'substance': 'DMT',\n",
              "  'dosechart': '<table class=\"dosechart\">\\n<tr>\\n<td align=\"right\" class=\"dosechart-time\">DOSE:<br/></td>\\n<td align=\"center\" class=\"dosechart-amount\">40 mg</td>\\n<td align=\"center\" class=\"dosechart-method\">smoked</td>\\n<td class=\"dosechart-substance\"><a href=\"/chemicals/dmt/\">DMT</a></td>\\n</tr>\\n<tr>\\n<td align=\"right\" class=\"dosechart-time\">\\xa0</td>\\n<td align=\"center\" class=\"dosechart-amount\">55 mg</td>\\n<td align=\"center\" class=\"dosechart-method\">smoked</td>\\n<td class=\"dosechart-substance\"><a href=\"/chemicals/dmt/\">DMT</a></td>\\n</tr>\\n</table>',\n",
              "  'bodyweight': '<table class=\"bodyweight\">\\n<tr>\\n<td class=\"bodyweight-title\">BODY WEIGHT:</td>\\n<td class=\"bodyweight-amount\">175 lb</td>\\n</tr>\\n</table>',\n",
              "  'footdata': '<table class=\"footdata\">\\n<tr><td class=\"footdata-expyear\">Exp Year: 2009</td><td class=\"footdata-expid\">ExpID: 80512</td></tr>\\n<tr><td class=\"footdata-gender\">Gender: Female</td><td>\\xa0</td></tr>\\n<tr><td class=\"footdata-ageofexp\" colspan=\"2\">Age at time of experience: Not Given</td></tr>\\n<tr><td class=\"footdata-pubdate\">Published: Jan 11, 2014</td><td class=\"footdata-numviews\">Views: 25,491</td></tr>\\n<tr><td class=\"footdata-other-formats\" colspan=\"2\">[ <a href=\"exp.php?ID=80512&amp;format=pdf\" type=\"text/pdf\">View PDF (to print)</a> ] [ <a href=\"exp_pdf.php?ID=80512&amp;format=latex\">View LaTeX (for geeks)</a> ]\\n[\\xa0<a href=\"#\" onclick=\"expChangeColors(); return false;\">Swap\\xa0Dark/Light</a>\\xa0]\\n</td></tr>\\n<tr><td class=\"footdata-topic-list\" colspan=\"2\">DMT\\xa0(18) : First Times\\xa0(2), Mystical Experiences\\xa0(9), Alone\\xa0(16)</td></tr>\\n<!--  <img src=\"/images/new.gif\" alt=\"May\"> -->\\n</table>'},\n",
              " {'link': 'https://www.erowid.org/experiences/exp.php?ID=90269',\n",
              "  'substance': 'DMT',\n",
              "  'dosechart': '<table class=\"dosechart\">\\n<tr>\\n<td align=\"right\" class=\"dosechart-time\">DOSE:<br/></td>\\n<td align=\"center\" class=\"dosechart-amount\">50 mg</td>\\n<td align=\"center\" class=\"dosechart-method\">smoked</td>\\n<td class=\"dosechart-substance\"><a href=\"/chemicals/dmt/\">DMT</a></td>\\n<td class=\"dosechart-form\">(powder / crystals)</td>\\n</tr>\\n</table>',\n",
              "  'bodyweight': '<table class=\"bodyweight\">\\n<tr>\\n<td class=\"bodyweight-title\">BODY WEIGHT:</td>\\n<td class=\"bodyweight-amount\">240 lb</td>\\n</tr>\\n</table>',\n",
              "  'footdata': '<table class=\"footdata\">\\n<tr><td class=\"footdata-expyear\">Exp Year: 2010</td><td class=\"footdata-expid\">ExpID: 90269</td></tr>\\n<tr><td class=\"footdata-gender\">Gender: Male</td><td>\\xa0</td></tr>\\n<tr><td class=\"footdata-ageofexp\" colspan=\"2\">Age at time of experience: 20</td></tr>\\n<tr><td class=\"footdata-pubdate\">Published: Dec 24, 2013</td><td class=\"footdata-numviews\">Views: 34,130</td></tr>\\n<tr><td class=\"footdata-other-formats\" colspan=\"2\">[ <a href=\"exp.php?ID=90269&amp;format=pdf\" type=\"text/pdf\">View PDF (to print)</a> ] [ <a href=\"exp_pdf.php?ID=90269&amp;format=latex\">View LaTeX (for geeks)</a> ]\\n[\\xa0<a href=\"#\" onclick=\"expChangeColors(); return false;\">Swap\\xa0Dark/Light</a>\\xa0]\\n</td></tr>\\n<tr><td class=\"footdata-topic-list\" colspan=\"2\">DMT\\xa0(18) : First Times\\xa0(2), Glowing Experiences\\xa0(4), Small Group (2-9)\\xa0(17)</td></tr>\\n<!--  <img src=\"/images/new.gif\" alt=\"May\"> -->\\n</table>'},\n",
              " {'link': 'https://www.erowid.org/experiences/exp.php?ID=83098',\n",
              "  'substance': 'DMT',\n",
              "  'dosechart': '<table class=\"dosechart\">\\n<tr>\\n<td align=\"right\" class=\"dosechart-time\">DOSE:<br/></td>\\n<td align=\"center\" class=\"dosechart-amount\">\\xa0 </td>\\n<td align=\"center\" class=\"dosechart-method\">\\xa0</td>\\n<td class=\"dosechart-substance\">Vitamins / Supplements</td>\\n<td class=\"dosechart-form\">(pill / tablet)</td>\\n</tr>\\n<tr>\\n<td align=\"right\" class=\"dosechart-time\">\\xa0</td>\\n<td align=\"center\" class=\"dosechart-amount\">100 ug</td>\\n<td align=\"center\" class=\"dosechart-method\">insufflated</td>\\n<td class=\"dosechart-substance\"><a href=\"/chemicals/dmt/\">DMT</a></td>\\n<td class=\"dosechart-form\">(powder / crystals)</td>\\n</tr>\\n</table>',\n",
              "  'bodyweight': '<table class=\"bodyweight\">\\n<tr>\\n<td class=\"bodyweight-title\">BODY WEIGHT:</td>\\n<td class=\"bodyweight-amount\">151 lb</td>\\n</tr>\\n</table>',\n",
              "  'footdata': '<table class=\"footdata\">\\n<tr><td class=\"footdata-expyear\">Exp Year: 2010</td><td class=\"footdata-expid\">ExpID: 83098</td></tr>\\n<tr><td class=\"footdata-gender\">Gender: Male</td><td>\\xa0</td></tr>\\n<tr><td class=\"footdata-ageofexp\" colspan=\"2\">Age at time of experience: 26</td></tr>\\n<tr><td class=\"footdata-pubdate\">Published: Dec 15, 2013</td><td class=\"footdata-numviews\">Views: 41,026</td></tr>\\n<tr><td class=\"footdata-other-formats\" colspan=\"2\">[ <a href=\"exp.php?ID=83098&amp;format=pdf\" type=\"text/pdf\">View PDF (to print)</a> ] [ <a href=\"exp_pdf.php?ID=83098&amp;format=latex\">View LaTeX (for geeks)</a> ]\\n[\\xa0<a href=\"#\" onclick=\"expChangeColors(); return false;\">Swap\\xa0Dark/Light</a>\\xa0]\\n</td></tr>\\n<tr><td class=\"footdata-topic-list\" colspan=\"2\">DMT\\xa0(18) : Small Group (2-9)\\xa0(17), Guides / Sitters\\xa0(39), Entities / Beings\\xa0(37), Music Discussion\\xa0(22), General\\xa0(1)</td></tr>\\n<!--  <img src=\"/images/new.gif\" alt=\"May\"> -->\\n</table>'},\n",
              " {'link': 'https://www.erowid.org/experiences/exp.php?ID=92381',\n",
              "  'substance': 'DMT & LSD',\n",
              "  'dosechart': '<table class=\"dosechart\">\\n<tr>\\n<td align=\"right\" class=\"dosechart-time\">DOSE:<br/> T+ 0:00</td>\\n<td align=\"center\" class=\"dosechart-amount\">0.5 hits</td>\\n<td align=\"center\" class=\"dosechart-method\">oral</td>\\n<td class=\"dosechart-substance\"><a href=\"/chemicals/lsd/\">LSD</a></td>\\n</tr>\\n<tr>\\n<td align=\"right\" class=\"dosechart-time\">\\xa0 T+ 0:45</td>\\n<td align=\"center\" class=\"dosechart-amount\">3 hits</td>\\n<td align=\"center\" class=\"dosechart-method\">smoked</td>\\n<td class=\"dosechart-substance\"><a href=\"/chemicals/dmt/\">DMT</a></td>\\n</tr>\\n</table>',\n",
              "  'bodyweight': None,\n",
              "  'footdata': '<table class=\"footdata\">\\n<tr><td class=\"footdata-expyear\">Exp Year: 2011</td><td class=\"footdata-expid\">ExpID: 92381</td></tr>\\n<tr><td class=\"footdata-gender\">Gender: Female</td><td>\\xa0</td></tr>\\n<tr><td class=\"footdata-ageofexp\" colspan=\"2\">Age at time of experience: 27</td></tr>\\n<tr><td class=\"footdata-pubdate\">Published: Jul 20, 2013</td><td class=\"footdata-numviews\">Views: 26,619</td></tr>\\n<tr><td class=\"footdata-other-formats\" colspan=\"2\">[ <a href=\"exp.php?ID=92381&amp;format=pdf\" type=\"text/pdf\">View PDF (to print)</a> ] [ <a href=\"exp_pdf.php?ID=92381&amp;format=latex\">View LaTeX (for geeks)</a> ]\\n[\\xa0<a href=\"#\" onclick=\"expChangeColors(); return false;\">Swap\\xa0Dark/Light</a>\\xa0]\\n</td></tr>\\n<tr><td class=\"footdata-topic-list\" colspan=\"2\">DMT\\xa0(18), LSD\\xa0(2) : First Times\\xa0(2), Combinations\\xa0(3), Festival / Lg. Crowd\\xa0(24)</td></tr>\\n<!--  <img src=\"/images/new.gif\" alt=\"May\"> -->\\n</table>'}]"
            ]
          },
          "metadata": {}
        }
      ]
    },
    {
      "cell_type": "code",
      "source": [],
      "metadata": {
        "id": "wMQ3sojwOcjo"
      },
      "execution_count": null,
      "outputs": []
    },
    {
      "cell_type": "code",
      "source": [
        "#mapping scrapted tables html to schema\n",
        "import pandas as pd\n",
        "from bs4 import BeautifulSoup\n",
        "\n",
        "schema_fields = [\n",
        "    \"previous_experience\",\n",
        "    \"set_and_setting\",\n",
        "    \"dose_amount\", # Renamed dose_and_route to dose_amount\n",
        "    \"dose_method\", # Added new field for dose method\n",
        "    \"before_after_changes\",\n",
        "    \"extraordinary_thinking\",\n",
        "    \"combination_with_other_substances\",\n",
        "    \"intention\",\n",
        "    \"experience_phases\",\n",
        "    \"onset_description\",\n",
        "    \"perceived_realness\",\n",
        "    \"objective_elements\",\n",
        "    \"entities_or_other_beings\",\n",
        "    \"childhood_trauma\",\n",
        "    \"time_relation\",\n",
        "    \"sex_effects\",\n",
        "    \"self_love_experience\",\n",
        "    \"semantic_relations\",\n",
        "    \"year_of_experience\",\n",
        "    \"age\",\n",
        "    \"gender\",\n",
        "    \"substance_used\",\n",
        "    \"most_important_element\"\n",
        "]\n",
        "\n",
        "processed_reports = []\n",
        "\n",
        "for report_data in extracted_data:\n",
        "    processed_report = {}\n",
        "    for field in schema_fields:\n",
        "        processed_report[field] = None  # Initialize all fields to None\n",
        "\n",
        "    # Map scraped data to schema_fields\n",
        "    if report_data.get('substance'):\n",
        "        processed_report['substance_used'] = report_data['substance']\n",
        "\n",
        "    if report_data.get('bodyweight'):\n",
        "        bodyweight_soup = BeautifulSoup(report_data['bodyweight'], 'html.parser')\n",
        "        bodyweight_td = bodyweight_soup.find('td', class_='bodyweight-amount')\n",
        "        processed_report['age'] = bodyweight_td.text.strip() if bodyweight_td else None\n",
        "\n",
        "    if report_data.get('footdata'):\n",
        "        footdata_soup = BeautifulSoup(report_data['footdata'], 'html.parser')\n",
        "\n",
        "        year_td = footdata_soup.find('td', class_='footdata-expyear')\n",
        "        processed_report['year_of_experience'] = year_td.text.replace('Exp Year:', '').strip() if year_td else None\n",
        "\n",
        "        gender_td = footdata_soup.find('td', class_='footdata-gender')\n",
        "        processed_report['gender'] = gender_td.text.replace('Gender:', '').strip() if gender_td else None\n",
        "\n",
        "        age_td = footdata_soup.find('td', class_='footdata-ageofexp')\n",
        "        processed_report['age'] = age_td.text.replace('Age at time of experience:', '').strip() if age_td else None\n",
        "\n",
        "    # Extract dose amount and method from dosechart\n",
        "    if report_data.get('dosechart'):\n",
        "        dosechart_soup = BeautifulSoup(report_data['dosechart'], 'html.parser')\n",
        "        amount_td = dosechart_soup.find('td', class_='dosechart-amount')\n",
        "        method_td = dosechart_soup.find('td', class_='dosechart-method')\n",
        "\n",
        "        processed_report['dose_amount'] = amount_td.text.strip() if amount_td else None\n",
        "        processed_report['dose_method'] = method_td.text.strip() if method_td else None\n",
        "\n",
        "    processed_reports.append(processed_report)\n",
        "\n",
        "# Create a pandas DataFrame from the processed data\n",
        "df_processed_reports = pd.DataFrame(processed_reports)\n",
        "\n",
        "# Display the first few rows of the DataFrame\n",
        "display(df_processed_reports.head())"
      ],
      "metadata": {
        "colab": {
          "base_uri": "https://localhost:8080/",
          "height": 342
        },
        "id": "BpczTyB7L8jn",
        "outputId": "08803eb0-7a88-4b4b-ac38-64261c525e51",
        "collapsed": true
      },
      "execution_count": 5,
      "outputs": [
        {
          "output_type": "display_data",
          "data": {
            "text/plain": [
              "  previous_experience set_and_setting dose_amount  dose_method  \\\n",
              "0                None            None     1 - 3 g         oral   \n",
              "1                None            None      138 mg       smoked   \n",
              "2                None            None       75 mg  insufflated   \n",
              "3                None            None       3.0 g         oral   \n",
              "4                None            None                   smoked   \n",
              "\n",
              "  before_after_changes extraordinary_thinking  \\\n",
              "0                 None                   None   \n",
              "1                 None                   None   \n",
              "2                 None                   None   \n",
              "3                 None                   None   \n",
              "4                 None                   None   \n",
              "\n",
              "  combination_with_other_substances intention experience_phases  \\\n",
              "0                              None      None              None   \n",
              "1                              None      None              None   \n",
              "2                              None      None              None   \n",
              "3                              None      None              None   \n",
              "4                              None      None              None   \n",
              "\n",
              "  onset_description  ... childhood_trauma time_relation sex_effects  \\\n",
              "0              None  ...             None          None        None   \n",
              "1              None  ...             None          None        None   \n",
              "2              None  ...             None          None        None   \n",
              "3              None  ...             None          None        None   \n",
              "4              None  ...             None          None        None   \n",
              "\n",
              "  self_love_experience semantic_relations year_of_experience        age  \\\n",
              "0                 None               None               2024         36   \n",
              "1                 None               None               2018         25   \n",
              "2                 None               None               2011         21   \n",
              "3                 None               None               2007  Not Given   \n",
              "4                 None               None               2007  Not Given   \n",
              "\n",
              "   gender                                     substance_used  \\\n",
              "0  Female                   DMT Fumarate & Harmala Alkaloids   \n",
              "1  Female                                       DMT & Changa   \n",
              "2    Male                                DMT & Methoxetamine   \n",
              "3    Male  Syrian Rue, Cacti - T. peruvianus, 2C-E, 4-AcO...   \n",
              "4    Male                                                DMT   \n",
              "\n",
              "  most_important_element  \n",
              "0                   None  \n",
              "1                   None  \n",
              "2                   None  \n",
              "3                   None  \n",
              "4                   None  \n",
              "\n",
              "[5 rows x 23 columns]"
            ],
            "text/html": [
              "\n",
              "  <div id=\"df-e8d38f7a-be43-45f0-9fb6-9e8a8dbb2bf8\" class=\"colab-df-container\">\n",
              "    <div>\n",
              "<style scoped>\n",
              "    .dataframe tbody tr th:only-of-type {\n",
              "        vertical-align: middle;\n",
              "    }\n",
              "\n",
              "    .dataframe tbody tr th {\n",
              "        vertical-align: top;\n",
              "    }\n",
              "\n",
              "    .dataframe thead th {\n",
              "        text-align: right;\n",
              "    }\n",
              "</style>\n",
              "<table border=\"1\" class=\"dataframe\">\n",
              "  <thead>\n",
              "    <tr style=\"text-align: right;\">\n",
              "      <th></th>\n",
              "      <th>previous_experience</th>\n",
              "      <th>set_and_setting</th>\n",
              "      <th>dose_amount</th>\n",
              "      <th>dose_method</th>\n",
              "      <th>before_after_changes</th>\n",
              "      <th>extraordinary_thinking</th>\n",
              "      <th>combination_with_other_substances</th>\n",
              "      <th>intention</th>\n",
              "      <th>experience_phases</th>\n",
              "      <th>onset_description</th>\n",
              "      <th>...</th>\n",
              "      <th>childhood_trauma</th>\n",
              "      <th>time_relation</th>\n",
              "      <th>sex_effects</th>\n",
              "      <th>self_love_experience</th>\n",
              "      <th>semantic_relations</th>\n",
              "      <th>year_of_experience</th>\n",
              "      <th>age</th>\n",
              "      <th>gender</th>\n",
              "      <th>substance_used</th>\n",
              "      <th>most_important_element</th>\n",
              "    </tr>\n",
              "  </thead>\n",
              "  <tbody>\n",
              "    <tr>\n",
              "      <th>0</th>\n",
              "      <td>None</td>\n",
              "      <td>None</td>\n",
              "      <td>1 - 3 g</td>\n",
              "      <td>oral</td>\n",
              "      <td>None</td>\n",
              "      <td>None</td>\n",
              "      <td>None</td>\n",
              "      <td>None</td>\n",
              "      <td>None</td>\n",
              "      <td>None</td>\n",
              "      <td>...</td>\n",
              "      <td>None</td>\n",
              "      <td>None</td>\n",
              "      <td>None</td>\n",
              "      <td>None</td>\n",
              "      <td>None</td>\n",
              "      <td>2024</td>\n",
              "      <td>36</td>\n",
              "      <td>Female</td>\n",
              "      <td>DMT Fumarate &amp; Harmala Alkaloids</td>\n",
              "      <td>None</td>\n",
              "    </tr>\n",
              "    <tr>\n",
              "      <th>1</th>\n",
              "      <td>None</td>\n",
              "      <td>None</td>\n",
              "      <td>138 mg</td>\n",
              "      <td>smoked</td>\n",
              "      <td>None</td>\n",
              "      <td>None</td>\n",
              "      <td>None</td>\n",
              "      <td>None</td>\n",
              "      <td>None</td>\n",
              "      <td>None</td>\n",
              "      <td>...</td>\n",
              "      <td>None</td>\n",
              "      <td>None</td>\n",
              "      <td>None</td>\n",
              "      <td>None</td>\n",
              "      <td>None</td>\n",
              "      <td>2018</td>\n",
              "      <td>25</td>\n",
              "      <td>Female</td>\n",
              "      <td>DMT &amp; Changa</td>\n",
              "      <td>None</td>\n",
              "    </tr>\n",
              "    <tr>\n",
              "      <th>2</th>\n",
              "      <td>None</td>\n",
              "      <td>None</td>\n",
              "      <td>75 mg</td>\n",
              "      <td>insufflated</td>\n",
              "      <td>None</td>\n",
              "      <td>None</td>\n",
              "      <td>None</td>\n",
              "      <td>None</td>\n",
              "      <td>None</td>\n",
              "      <td>None</td>\n",
              "      <td>...</td>\n",
              "      <td>None</td>\n",
              "      <td>None</td>\n",
              "      <td>None</td>\n",
              "      <td>None</td>\n",
              "      <td>None</td>\n",
              "      <td>2011</td>\n",
              "      <td>21</td>\n",
              "      <td>Male</td>\n",
              "      <td>DMT &amp; Methoxetamine</td>\n",
              "      <td>None</td>\n",
              "    </tr>\n",
              "    <tr>\n",
              "      <th>3</th>\n",
              "      <td>None</td>\n",
              "      <td>None</td>\n",
              "      <td>3.0 g</td>\n",
              "      <td>oral</td>\n",
              "      <td>None</td>\n",
              "      <td>None</td>\n",
              "      <td>None</td>\n",
              "      <td>None</td>\n",
              "      <td>None</td>\n",
              "      <td>None</td>\n",
              "      <td>...</td>\n",
              "      <td>None</td>\n",
              "      <td>None</td>\n",
              "      <td>None</td>\n",
              "      <td>None</td>\n",
              "      <td>None</td>\n",
              "      <td>2007</td>\n",
              "      <td>Not Given</td>\n",
              "      <td>Male</td>\n",
              "      <td>Syrian Rue, Cacti - T. peruvianus, 2C-E, 4-AcO...</td>\n",
              "      <td>None</td>\n",
              "    </tr>\n",
              "    <tr>\n",
              "      <th>4</th>\n",
              "      <td>None</td>\n",
              "      <td>None</td>\n",
              "      <td></td>\n",
              "      <td>smoked</td>\n",
              "      <td>None</td>\n",
              "      <td>None</td>\n",
              "      <td>None</td>\n",
              "      <td>None</td>\n",
              "      <td>None</td>\n",
              "      <td>None</td>\n",
              "      <td>...</td>\n",
              "      <td>None</td>\n",
              "      <td>None</td>\n",
              "      <td>None</td>\n",
              "      <td>None</td>\n",
              "      <td>None</td>\n",
              "      <td>2007</td>\n",
              "      <td>Not Given</td>\n",
              "      <td>Male</td>\n",
              "      <td>DMT</td>\n",
              "      <td>None</td>\n",
              "    </tr>\n",
              "  </tbody>\n",
              "</table>\n",
              "<p>5 rows × 23 columns</p>\n",
              "</div>\n",
              "    <div class=\"colab-df-buttons\">\n",
              "\n",
              "  <div class=\"colab-df-container\">\n",
              "    <button class=\"colab-df-convert\" onclick=\"convertToInteractive('df-e8d38f7a-be43-45f0-9fb6-9e8a8dbb2bf8')\"\n",
              "            title=\"Convert this dataframe to an interactive table.\"\n",
              "            style=\"display:none;\">\n",
              "\n",
              "  <svg xmlns=\"http://www.w3.org/2000/svg\" height=\"24px\" viewBox=\"0 -960 960 960\">\n",
              "    <path d=\"M120-120v-720h720v720H120Zm60-500h600v-160H180v160Zm220 220h160v-160H400v160Zm0 220h160v-160H400v160ZM180-400h160v-160H180v160Zm440 0h160v-160H620v160ZM180-180h160v-160H180v160Zm440 0h160v-160H620v160Z\"/>\n",
              "  </svg>\n",
              "    </button>\n",
              "\n",
              "  <style>\n",
              "    .colab-df-container {\n",
              "      display:flex;\n",
              "      gap: 12px;\n",
              "    }\n",
              "\n",
              "    .colab-df-convert {\n",
              "      background-color: #E8F0FE;\n",
              "      border: none;\n",
              "      border-radius: 50%;\n",
              "      cursor: pointer;\n",
              "      display: none;\n",
              "      fill: #1967D2;\n",
              "      height: 32px;\n",
              "      padding: 0 0 0 0;\n",
              "      width: 32px;\n",
              "    }\n",
              "\n",
              "    .colab-df-convert:hover {\n",
              "      background-color: #E2EBFA;\n",
              "      box-shadow: 0px 1px 2px rgba(60, 64, 67, 0.3), 0px 1px 3px 1px rgba(60, 64, 67, 0.15);\n",
              "      fill: #174EA6;\n",
              "    }\n",
              "\n",
              "    .colab-df-buttons div {\n",
              "      margin-bottom: 4px;\n",
              "    }\n",
              "\n",
              "    [theme=dark] .colab-df-convert {\n",
              "      background-color: #3B4455;\n",
              "      fill: #D2E3FC;\n",
              "    }\n",
              "\n",
              "    [theme=dark] .colab-df-convert:hover {\n",
              "      background-color: #434B5C;\n",
              "      box-shadow: 0px 1px 3px 1px rgba(0, 0, 0, 0.15);\n",
              "      filter: drop-shadow(0px 1px 2px rgba(0, 0, 0, 0.3));\n",
              "      fill: #FFFFFF;\n",
              "    }\n",
              "  </style>\n",
              "\n",
              "    <script>\n",
              "      const buttonEl =\n",
              "        document.querySelector('#df-e8d38f7a-be43-45f0-9fb6-9e8a8dbb2bf8 button.colab-df-convert');\n",
              "      buttonEl.style.display =\n",
              "        google.colab.kernel.accessAllowed ? 'block' : 'none';\n",
              "\n",
              "      async function convertToInteractive(key) {\n",
              "        const element = document.querySelector('#df-e8d38f7a-be43-45f0-9fb6-9e8a8dbb2bf8');\n",
              "        const dataTable =\n",
              "          await google.colab.kernel.invokeFunction('convertToInteractive',\n",
              "                                                    [key], {});\n",
              "        if (!dataTable) return;\n",
              "\n",
              "        const docLinkHtml = 'Like what you see? Visit the ' +\n",
              "          '<a target=\"_blank\" href=https://colab.research.google.com/notebooks/data_table.ipynb>data table notebook</a>'\n",
              "          + ' to learn more about interactive tables.';\n",
              "        element.innerHTML = '';\n",
              "        dataTable['output_type'] = 'display_data';\n",
              "        await google.colab.output.renderOutput(dataTable, element);\n",
              "        const docLink = document.createElement('div');\n",
              "        docLink.innerHTML = docLinkHtml;\n",
              "        element.appendChild(docLink);\n",
              "      }\n",
              "    </script>\n",
              "  </div>\n",
              "\n",
              "\n",
              "    <div id=\"df-ddc44cea-373b-4178-8bf6-c3e72a8ede87\">\n",
              "      <button class=\"colab-df-quickchart\" onclick=\"quickchart('df-ddc44cea-373b-4178-8bf6-c3e72a8ede87')\"\n",
              "                title=\"Suggest charts\"\n",
              "                style=\"display:none;\">\n",
              "\n",
              "<svg xmlns=\"http://www.w3.org/2000/svg\" height=\"24px\"viewBox=\"0 0 24 24\"\n",
              "     width=\"24px\">\n",
              "    <g>\n",
              "        <path d=\"M19 3H5c-1.1 0-2 .9-2 2v14c0 1.1.9 2 2 2h14c1.1 0 2-.9 2-2V5c0-1.1-.9-2-2-2zM9 17H7v-7h2v7zm4 0h-2V7h2v10zm4 0h-2v-4h2v4z\"/>\n",
              "    </g>\n",
              "</svg>\n",
              "      </button>\n",
              "\n",
              "<style>\n",
              "  .colab-df-quickchart {\n",
              "      --bg-color: #E8F0FE;\n",
              "      --fill-color: #1967D2;\n",
              "      --hover-bg-color: #E2EBFA;\n",
              "      --hover-fill-color: #174EA6;\n",
              "      --disabled-fill-color: #AAA;\n",
              "      --disabled-bg-color: #DDD;\n",
              "  }\n",
              "\n",
              "  [theme=dark] .colab-df-quickchart {\n",
              "      --bg-color: #3B4455;\n",
              "      --fill-color: #D2E3FC;\n",
              "      --hover-bg-color: #434B5C;\n",
              "      --hover-fill-color: #FFFFFF;\n",
              "      --disabled-bg-color: #3B4455;\n",
              "      --disabled-fill-color: #666;\n",
              "  }\n",
              "\n",
              "  .colab-df-quickchart {\n",
              "    background-color: var(--bg-color);\n",
              "    border: none;\n",
              "    border-radius: 50%;\n",
              "    cursor: pointer;\n",
              "    display: none;\n",
              "    fill: var(--fill-color);\n",
              "    height: 32px;\n",
              "    padding: 0;\n",
              "    width: 32px;\n",
              "  }\n",
              "\n",
              "  .colab-df-quickchart:hover {\n",
              "    background-color: var(--hover-bg-color);\n",
              "    box-shadow: 0 1px 2px rgba(60, 64, 67, 0.3), 0 1px 3px 1px rgba(60, 64, 67, 0.15);\n",
              "    fill: var(--button-hover-fill-color);\n",
              "  }\n",
              "\n",
              "  .colab-df-quickchart-complete:disabled,\n",
              "  .colab-df-quickchart-complete:disabled:hover {\n",
              "    background-color: var(--disabled-bg-color);\n",
              "    fill: var(--disabled-fill-color);\n",
              "    box-shadow: none;\n",
              "  }\n",
              "\n",
              "  .colab-df-spinner {\n",
              "    border: 2px solid var(--fill-color);\n",
              "    border-color: transparent;\n",
              "    border-bottom-color: var(--fill-color);\n",
              "    animation:\n",
              "      spin 1s steps(1) infinite;\n",
              "  }\n",
              "\n",
              "  @keyframes spin {\n",
              "    0% {\n",
              "      border-color: transparent;\n",
              "      border-bottom-color: var(--fill-color);\n",
              "      border-left-color: var(--fill-color);\n",
              "    }\n",
              "    20% {\n",
              "      border-color: transparent;\n",
              "      border-left-color: var(--fill-color);\n",
              "      border-top-color: var(--fill-color);\n",
              "    }\n",
              "    30% {\n",
              "      border-color: transparent;\n",
              "      border-left-color: var(--fill-color);\n",
              "      border-top-color: var(--fill-color);\n",
              "      border-right-color: var(--fill-color);\n",
              "    }\n",
              "    40% {\n",
              "      border-color: transparent;\n",
              "      border-right-color: var(--fill-color);\n",
              "      border-top-color: var(--fill-color);\n",
              "    }\n",
              "    60% {\n",
              "      border-color: transparent;\n",
              "      border-right-color: var(--fill-color);\n",
              "    }\n",
              "    80% {\n",
              "      border-color: transparent;\n",
              "      border-right-color: var(--fill-color);\n",
              "      border-bottom-color: var(--fill-color);\n",
              "    }\n",
              "    90% {\n",
              "      border-color: transparent;\n",
              "      border-bottom-color: var(--fill-color);\n",
              "    }\n",
              "  }\n",
              "</style>\n",
              "\n",
              "      <script>\n",
              "        async function quickchart(key) {\n",
              "          const quickchartButtonEl =\n",
              "            document.querySelector('#' + key + ' button');\n",
              "          quickchartButtonEl.disabled = true;  // To prevent multiple clicks.\n",
              "          quickchartButtonEl.classList.add('colab-df-spinner');\n",
              "          try {\n",
              "            const charts = await google.colab.kernel.invokeFunction(\n",
              "                'suggestCharts', [key], {});\n",
              "          } catch (error) {\n",
              "            console.error('Error during call to suggestCharts:', error);\n",
              "          }\n",
              "          quickchartButtonEl.classList.remove('colab-df-spinner');\n",
              "          quickchartButtonEl.classList.add('colab-df-quickchart-complete');\n",
              "        }\n",
              "        (() => {\n",
              "          let quickchartButtonEl =\n",
              "            document.querySelector('#df-ddc44cea-373b-4178-8bf6-c3e72a8ede87 button');\n",
              "          quickchartButtonEl.style.display =\n",
              "            google.colab.kernel.accessAllowed ? 'block' : 'none';\n",
              "        })();\n",
              "      </script>\n",
              "    </div>\n",
              "    </div>\n",
              "  </div>\n"
            ],
            "application/vnd.google.colaboratory.intrinsic+json": {
              "type": "dataframe"
            }
          },
          "metadata": {}
        }
      ]
    },
    {
      "cell_type": "code",
      "source": [
        "#extracting reports html\n",
        "import requests\n",
        "from bs4 import BeautifulSoup\n",
        "import json\n",
        "\n",
        "# Assuming 'links' list is available from the previous scraping step\n",
        "\n",
        "report_html_contents = []\n",
        "\n",
        "for link in links:\n",
        "    try:\n",
        "        response = requests.get(link, verify=False) # Disable SSL verification\n",
        "        response.raise_for_status() # Raise an HTTPError for bad responses (4xx or 5xx)\n",
        "        report_html_contents.append({\n",
        "            'link': link,\n",
        "            'html_content': response.text # Store text content instead of bytes\n",
        "        })\n",
        "        print(f\"Fetched content for: {link}\")\n",
        "    except requests.exceptions.RequestException as e:\n",
        "        print(f\"Error fetching content for {link}: {e}\")\n",
        "    except Exception as e:\n",
        "        print(f\"An unexpected error occurred while fetching {link}: {e}\")\n",
        "\n",
        "print(f\"Finished fetching content for {len(report_html_contents)} reports.\")\n",
        "\n",
        "# Save the scraped data to a JSON file\n",
        "with open('reports_html.json', 'w') as f:\n",
        "    json.dump(report_html_contents, f, indent=4)\n",
        "\n",
        "print(\"Scraped HTML data saved to reports_html.json\")"
      ],
      "metadata": {
        "colab": {
          "base_uri": "https://localhost:8080/"
        },
        "collapsed": true,
        "id": "tcszCoFqPNxk",
        "outputId": "ecbfb55c-2a0a-4f52-b78a-8dffc1103d69"
      },
      "execution_count": 6,
      "outputs": [
        {
          "output_type": "stream",
          "name": "stderr",
          "text": [
            "/usr/local/lib/python3.12/dist-packages/urllib3/connectionpool.py:1097: InsecureRequestWarning: Unverified HTTPS request is being made to host 'www.erowid.org'. Adding certificate verification is strongly advised. See: https://urllib3.readthedocs.io/en/latest/advanced-usage.html#tls-warnings\n",
            "  warnings.warn(\n"
          ]
        },
        {
          "output_type": "stream",
          "name": "stdout",
          "text": [
            "Fetched content for: https://www.erowid.org/experiences/exp.php?ID=118252\n"
          ]
        },
        {
          "output_type": "stream",
          "name": "stderr",
          "text": [
            "/usr/local/lib/python3.12/dist-packages/urllib3/connectionpool.py:1097: InsecureRequestWarning: Unverified HTTPS request is being made to host 'www.erowid.org'. Adding certificate verification is strongly advised. See: https://urllib3.readthedocs.io/en/latest/advanced-usage.html#tls-warnings\n",
            "  warnings.warn(\n"
          ]
        },
        {
          "output_type": "stream",
          "name": "stdout",
          "text": [
            "Fetched content for: https://www.erowid.org/experiences/exp.php?ID=112397\n"
          ]
        },
        {
          "output_type": "stream",
          "name": "stderr",
          "text": [
            "/usr/local/lib/python3.12/dist-packages/urllib3/connectionpool.py:1097: InsecureRequestWarning: Unverified HTTPS request is being made to host 'www.erowid.org'. Adding certificate verification is strongly advised. See: https://urllib3.readthedocs.io/en/latest/advanced-usage.html#tls-warnings\n",
            "  warnings.warn(\n"
          ]
        },
        {
          "output_type": "stream",
          "name": "stdout",
          "text": [
            "Fetched content for: https://www.erowid.org/experiences/exp.php?ID=96444\n"
          ]
        },
        {
          "output_type": "stream",
          "name": "stderr",
          "text": [
            "/usr/local/lib/python3.12/dist-packages/urllib3/connectionpool.py:1097: InsecureRequestWarning: Unverified HTTPS request is being made to host 'www.erowid.org'. Adding certificate verification is strongly advised. See: https://urllib3.readthedocs.io/en/latest/advanced-usage.html#tls-warnings\n",
            "  warnings.warn(\n"
          ]
        },
        {
          "output_type": "stream",
          "name": "stdout",
          "text": [
            "Fetched content for: https://www.erowid.org/experiences/exp.php?ID=64048\n"
          ]
        },
        {
          "output_type": "stream",
          "name": "stderr",
          "text": [
            "/usr/local/lib/python3.12/dist-packages/urllib3/connectionpool.py:1097: InsecureRequestWarning: Unverified HTTPS request is being made to host 'www.erowid.org'. Adding certificate verification is strongly advised. See: https://urllib3.readthedocs.io/en/latest/advanced-usage.html#tls-warnings\n",
            "  warnings.warn(\n"
          ]
        },
        {
          "output_type": "stream",
          "name": "stdout",
          "text": [
            "Fetched content for: https://www.erowid.org/experiences/exp.php?ID=62835\n"
          ]
        },
        {
          "output_type": "stream",
          "name": "stderr",
          "text": [
            "/usr/local/lib/python3.12/dist-packages/urllib3/connectionpool.py:1097: InsecureRequestWarning: Unverified HTTPS request is being made to host 'www.erowid.org'. Adding certificate verification is strongly advised. See: https://urllib3.readthedocs.io/en/latest/advanced-usage.html#tls-warnings\n",
            "  warnings.warn(\n"
          ]
        },
        {
          "output_type": "stream",
          "name": "stdout",
          "text": [
            "Fetched content for: https://www.erowid.org/experiences/exp.php?ID=34866\n"
          ]
        },
        {
          "output_type": "stream",
          "name": "stderr",
          "text": [
            "/usr/local/lib/python3.12/dist-packages/urllib3/connectionpool.py:1097: InsecureRequestWarning: Unverified HTTPS request is being made to host 'www.erowid.org'. Adding certificate verification is strongly advised. See: https://urllib3.readthedocs.io/en/latest/advanced-usage.html#tls-warnings\n",
            "  warnings.warn(\n"
          ]
        },
        {
          "output_type": "stream",
          "name": "stdout",
          "text": [
            "Fetched content for: https://www.erowid.org/experiences/exp.php?ID=113441\n"
          ]
        },
        {
          "output_type": "stream",
          "name": "stderr",
          "text": [
            "/usr/local/lib/python3.12/dist-packages/urllib3/connectionpool.py:1097: InsecureRequestWarning: Unverified HTTPS request is being made to host 'www.erowid.org'. Adding certificate verification is strongly advised. See: https://urllib3.readthedocs.io/en/latest/advanced-usage.html#tls-warnings\n",
            "  warnings.warn(\n"
          ]
        },
        {
          "output_type": "stream",
          "name": "stdout",
          "text": [
            "Fetched content for: https://www.erowid.org/experiences/exp.php?ID=113133\n"
          ]
        },
        {
          "output_type": "stream",
          "name": "stderr",
          "text": [
            "/usr/local/lib/python3.12/dist-packages/urllib3/connectionpool.py:1097: InsecureRequestWarning: Unverified HTTPS request is being made to host 'www.erowid.org'. Adding certificate verification is strongly advised. See: https://urllib3.readthedocs.io/en/latest/advanced-usage.html#tls-warnings\n",
            "  warnings.warn(\n"
          ]
        },
        {
          "output_type": "stream",
          "name": "stdout",
          "text": [
            "Fetched content for: https://www.erowid.org/experiences/exp.php?ID=99695\n"
          ]
        },
        {
          "output_type": "stream",
          "name": "stderr",
          "text": [
            "/usr/local/lib/python3.12/dist-packages/urllib3/connectionpool.py:1097: InsecureRequestWarning: Unverified HTTPS request is being made to host 'www.erowid.org'. Adding certificate verification is strongly advised. See: https://urllib3.readthedocs.io/en/latest/advanced-usage.html#tls-warnings\n",
            "  warnings.warn(\n"
          ]
        },
        {
          "output_type": "stream",
          "name": "stdout",
          "text": [
            "Fetched content for: https://www.erowid.org/experiences/exp.php?ID=94632\n"
          ]
        },
        {
          "output_type": "stream",
          "name": "stderr",
          "text": [
            "/usr/local/lib/python3.12/dist-packages/urllib3/connectionpool.py:1097: InsecureRequestWarning: Unverified HTTPS request is being made to host 'www.erowid.org'. Adding certificate verification is strongly advised. See: https://urllib3.readthedocs.io/en/latest/advanced-usage.html#tls-warnings\n",
            "  warnings.warn(\n"
          ]
        },
        {
          "output_type": "stream",
          "name": "stdout",
          "text": [
            "Fetched content for: https://www.erowid.org/experiences/exp.php?ID=103790\n"
          ]
        },
        {
          "output_type": "stream",
          "name": "stderr",
          "text": [
            "/usr/local/lib/python3.12/dist-packages/urllib3/connectionpool.py:1097: InsecureRequestWarning: Unverified HTTPS request is being made to host 'www.erowid.org'. Adding certificate verification is strongly advised. See: https://urllib3.readthedocs.io/en/latest/advanced-usage.html#tls-warnings\n",
            "  warnings.warn(\n"
          ]
        },
        {
          "output_type": "stream",
          "name": "stdout",
          "text": [
            "Fetched content for: https://www.erowid.org/experiences/exp.php?ID=96614\n"
          ]
        },
        {
          "output_type": "stream",
          "name": "stderr",
          "text": [
            "/usr/local/lib/python3.12/dist-packages/urllib3/connectionpool.py:1097: InsecureRequestWarning: Unverified HTTPS request is being made to host 'www.erowid.org'. Adding certificate verification is strongly advised. See: https://urllib3.readthedocs.io/en/latest/advanced-usage.html#tls-warnings\n",
            "  warnings.warn(\n"
          ]
        },
        {
          "output_type": "stream",
          "name": "stdout",
          "text": [
            "Fetched content for: https://www.erowid.org/experiences/exp.php?ID=106677\n"
          ]
        },
        {
          "output_type": "stream",
          "name": "stderr",
          "text": [
            "/usr/local/lib/python3.12/dist-packages/urllib3/connectionpool.py:1097: InsecureRequestWarning: Unverified HTTPS request is being made to host 'www.erowid.org'. Adding certificate verification is strongly advised. See: https://urllib3.readthedocs.io/en/latest/advanced-usage.html#tls-warnings\n",
            "  warnings.warn(\n"
          ]
        },
        {
          "output_type": "stream",
          "name": "stdout",
          "text": [
            "Fetched content for: https://www.erowid.org/experiences/exp.php?ID=89887\n"
          ]
        },
        {
          "output_type": "stream",
          "name": "stderr",
          "text": [
            "/usr/local/lib/python3.12/dist-packages/urllib3/connectionpool.py:1097: InsecureRequestWarning: Unverified HTTPS request is being made to host 'www.erowid.org'. Adding certificate verification is strongly advised. See: https://urllib3.readthedocs.io/en/latest/advanced-usage.html#tls-warnings\n",
            "  warnings.warn(\n"
          ]
        },
        {
          "output_type": "stream",
          "name": "stdout",
          "text": [
            "Fetched content for: https://www.erowid.org/experiences/exp.php?ID=98866\n"
          ]
        },
        {
          "output_type": "stream",
          "name": "stderr",
          "text": [
            "/usr/local/lib/python3.12/dist-packages/urllib3/connectionpool.py:1097: InsecureRequestWarning: Unverified HTTPS request is being made to host 'www.erowid.org'. Adding certificate verification is strongly advised. See: https://urllib3.readthedocs.io/en/latest/advanced-usage.html#tls-warnings\n",
            "  warnings.warn(\n"
          ]
        },
        {
          "output_type": "stream",
          "name": "stdout",
          "text": [
            "Fetched content for: https://www.erowid.org/experiences/exp.php?ID=101485\n"
          ]
        },
        {
          "output_type": "stream",
          "name": "stderr",
          "text": [
            "/usr/local/lib/python3.12/dist-packages/urllib3/connectionpool.py:1097: InsecureRequestWarning: Unverified HTTPS request is being made to host 'www.erowid.org'. Adding certificate verification is strongly advised. See: https://urllib3.readthedocs.io/en/latest/advanced-usage.html#tls-warnings\n",
            "  warnings.warn(\n"
          ]
        },
        {
          "output_type": "stream",
          "name": "stdout",
          "text": [
            "Fetched content for: https://www.erowid.org/experiences/exp.php?ID=101541\n"
          ]
        },
        {
          "output_type": "stream",
          "name": "stderr",
          "text": [
            "/usr/local/lib/python3.12/dist-packages/urllib3/connectionpool.py:1097: InsecureRequestWarning: Unverified HTTPS request is being made to host 'www.erowid.org'. Adding certificate verification is strongly advised. See: https://urllib3.readthedocs.io/en/latest/advanced-usage.html#tls-warnings\n",
            "  warnings.warn(\n"
          ]
        },
        {
          "output_type": "stream",
          "name": "stdout",
          "text": [
            "Fetched content for: https://www.erowid.org/experiences/exp.php?ID=93315\n"
          ]
        },
        {
          "output_type": "stream",
          "name": "stderr",
          "text": [
            "/usr/local/lib/python3.12/dist-packages/urllib3/connectionpool.py:1097: InsecureRequestWarning: Unverified HTTPS request is being made to host 'www.erowid.org'. Adding certificate verification is strongly advised. See: https://urllib3.readthedocs.io/en/latest/advanced-usage.html#tls-warnings\n",
            "  warnings.warn(\n"
          ]
        },
        {
          "output_type": "stream",
          "name": "stdout",
          "text": [
            "Fetched content for: https://www.erowid.org/experiences/exp.php?ID=96521\n"
          ]
        },
        {
          "output_type": "stream",
          "name": "stderr",
          "text": [
            "/usr/local/lib/python3.12/dist-packages/urllib3/connectionpool.py:1097: InsecureRequestWarning: Unverified HTTPS request is being made to host 'www.erowid.org'. Adding certificate verification is strongly advised. See: https://urllib3.readthedocs.io/en/latest/advanced-usage.html#tls-warnings\n",
            "  warnings.warn(\n"
          ]
        },
        {
          "output_type": "stream",
          "name": "stdout",
          "text": [
            "Fetched content for: https://www.erowid.org/experiences/exp.php?ID=94429\n"
          ]
        },
        {
          "output_type": "stream",
          "name": "stderr",
          "text": [
            "/usr/local/lib/python3.12/dist-packages/urllib3/connectionpool.py:1097: InsecureRequestWarning: Unverified HTTPS request is being made to host 'www.erowid.org'. Adding certificate verification is strongly advised. See: https://urllib3.readthedocs.io/en/latest/advanced-usage.html#tls-warnings\n",
            "  warnings.warn(\n"
          ]
        },
        {
          "output_type": "stream",
          "name": "stdout",
          "text": [
            "Fetched content for: https://www.erowid.org/experiences/exp.php?ID=93145\n"
          ]
        },
        {
          "output_type": "stream",
          "name": "stderr",
          "text": [
            "/usr/local/lib/python3.12/dist-packages/urllib3/connectionpool.py:1097: InsecureRequestWarning: Unverified HTTPS request is being made to host 'www.erowid.org'. Adding certificate verification is strongly advised. See: https://urllib3.readthedocs.io/en/latest/advanced-usage.html#tls-warnings\n",
            "  warnings.warn(\n"
          ]
        },
        {
          "output_type": "stream",
          "name": "stdout",
          "text": [
            "Fetched content for: https://www.erowid.org/experiences/exp.php?ID=80226\n"
          ]
        },
        {
          "output_type": "stream",
          "name": "stderr",
          "text": [
            "/usr/local/lib/python3.12/dist-packages/urllib3/connectionpool.py:1097: InsecureRequestWarning: Unverified HTTPS request is being made to host 'www.erowid.org'. Adding certificate verification is strongly advised. See: https://urllib3.readthedocs.io/en/latest/advanced-usage.html#tls-warnings\n",
            "  warnings.warn(\n"
          ]
        },
        {
          "output_type": "stream",
          "name": "stdout",
          "text": [
            "Fetched content for: https://www.erowid.org/experiences/exp.php?ID=82934\n"
          ]
        },
        {
          "output_type": "stream",
          "name": "stderr",
          "text": [
            "/usr/local/lib/python3.12/dist-packages/urllib3/connectionpool.py:1097: InsecureRequestWarning: Unverified HTTPS request is being made to host 'www.erowid.org'. Adding certificate verification is strongly advised. See: https://urllib3.readthedocs.io/en/latest/advanced-usage.html#tls-warnings\n",
            "  warnings.warn(\n"
          ]
        },
        {
          "output_type": "stream",
          "name": "stdout",
          "text": [
            "Fetched content for: https://www.erowid.org/experiences/exp.php?ID=86665\n"
          ]
        },
        {
          "output_type": "stream",
          "name": "stderr",
          "text": [
            "/usr/local/lib/python3.12/dist-packages/urllib3/connectionpool.py:1097: InsecureRequestWarning: Unverified HTTPS request is being made to host 'www.erowid.org'. Adding certificate verification is strongly advised. See: https://urllib3.readthedocs.io/en/latest/advanced-usage.html#tls-warnings\n",
            "  warnings.warn(\n"
          ]
        },
        {
          "output_type": "stream",
          "name": "stdout",
          "text": [
            "Fetched content for: https://www.erowid.org/experiences/exp.php?ID=83719\n"
          ]
        },
        {
          "output_type": "stream",
          "name": "stderr",
          "text": [
            "/usr/local/lib/python3.12/dist-packages/urllib3/connectionpool.py:1097: InsecureRequestWarning: Unverified HTTPS request is being made to host 'www.erowid.org'. Adding certificate verification is strongly advised. See: https://urllib3.readthedocs.io/en/latest/advanced-usage.html#tls-warnings\n",
            "  warnings.warn(\n"
          ]
        },
        {
          "output_type": "stream",
          "name": "stdout",
          "text": [
            "Fetched content for: https://www.erowid.org/experiences/exp.php?ID=82837\n"
          ]
        },
        {
          "output_type": "stream",
          "name": "stderr",
          "text": [
            "/usr/local/lib/python3.12/dist-packages/urllib3/connectionpool.py:1097: InsecureRequestWarning: Unverified HTTPS request is being made to host 'www.erowid.org'. Adding certificate verification is strongly advised. See: https://urllib3.readthedocs.io/en/latest/advanced-usage.html#tls-warnings\n",
            "  warnings.warn(\n"
          ]
        },
        {
          "output_type": "stream",
          "name": "stdout",
          "text": [
            "Fetched content for: https://www.erowid.org/experiences/exp.php?ID=80880\n"
          ]
        },
        {
          "output_type": "stream",
          "name": "stderr",
          "text": [
            "/usr/local/lib/python3.12/dist-packages/urllib3/connectionpool.py:1097: InsecureRequestWarning: Unverified HTTPS request is being made to host 'www.erowid.org'. Adding certificate verification is strongly advised. See: https://urllib3.readthedocs.io/en/latest/advanced-usage.html#tls-warnings\n",
            "  warnings.warn(\n"
          ]
        },
        {
          "output_type": "stream",
          "name": "stdout",
          "text": [
            "Fetched content for: https://www.erowid.org/experiences/exp.php?ID=76614\n"
          ]
        },
        {
          "output_type": "stream",
          "name": "stderr",
          "text": [
            "/usr/local/lib/python3.12/dist-packages/urllib3/connectionpool.py:1097: InsecureRequestWarning: Unverified HTTPS request is being made to host 'www.erowid.org'. Adding certificate verification is strongly advised. See: https://urllib3.readthedocs.io/en/latest/advanced-usage.html#tls-warnings\n",
            "  warnings.warn(\n"
          ]
        },
        {
          "output_type": "stream",
          "name": "stdout",
          "text": [
            "Fetched content for: https://www.erowid.org/experiences/exp.php?ID=75003\n"
          ]
        },
        {
          "output_type": "stream",
          "name": "stderr",
          "text": [
            "/usr/local/lib/python3.12/dist-packages/urllib3/connectionpool.py:1097: InsecureRequestWarning: Unverified HTTPS request is being made to host 'www.erowid.org'. Adding certificate verification is strongly advised. See: https://urllib3.readthedocs.io/en/latest/advanced-usage.html#tls-warnings\n",
            "  warnings.warn(\n"
          ]
        },
        {
          "output_type": "stream",
          "name": "stdout",
          "text": [
            "Fetched content for: https://www.erowid.org/experiences/exp.php?ID=70283\n"
          ]
        },
        {
          "output_type": "stream",
          "name": "stderr",
          "text": [
            "/usr/local/lib/python3.12/dist-packages/urllib3/connectionpool.py:1097: InsecureRequestWarning: Unverified HTTPS request is being made to host 'www.erowid.org'. Adding certificate verification is strongly advised. See: https://urllib3.readthedocs.io/en/latest/advanced-usage.html#tls-warnings\n",
            "  warnings.warn(\n"
          ]
        },
        {
          "output_type": "stream",
          "name": "stdout",
          "text": [
            "Fetched content for: https://www.erowid.org/experiences/exp.php?ID=66730\n"
          ]
        },
        {
          "output_type": "stream",
          "name": "stderr",
          "text": [
            "/usr/local/lib/python3.12/dist-packages/urllib3/connectionpool.py:1097: InsecureRequestWarning: Unverified HTTPS request is being made to host 'www.erowid.org'. Adding certificate verification is strongly advised. See: https://urllib3.readthedocs.io/en/latest/advanced-usage.html#tls-warnings\n",
            "  warnings.warn(\n"
          ]
        },
        {
          "output_type": "stream",
          "name": "stdout",
          "text": [
            "Fetched content for: https://www.erowid.org/experiences/exp.php?ID=65793\n"
          ]
        },
        {
          "output_type": "stream",
          "name": "stderr",
          "text": [
            "/usr/local/lib/python3.12/dist-packages/urllib3/connectionpool.py:1097: InsecureRequestWarning: Unverified HTTPS request is being made to host 'www.erowid.org'. Adding certificate verification is strongly advised. See: https://urllib3.readthedocs.io/en/latest/advanced-usage.html#tls-warnings\n",
            "  warnings.warn(\n"
          ]
        },
        {
          "output_type": "stream",
          "name": "stdout",
          "text": [
            "Fetched content for: https://www.erowid.org/experiences/exp.php?ID=65384\n"
          ]
        },
        {
          "output_type": "stream",
          "name": "stderr",
          "text": [
            "/usr/local/lib/python3.12/dist-packages/urllib3/connectionpool.py:1097: InsecureRequestWarning: Unverified HTTPS request is being made to host 'www.erowid.org'. Adding certificate verification is strongly advised. See: https://urllib3.readthedocs.io/en/latest/advanced-usage.html#tls-warnings\n",
            "  warnings.warn(\n"
          ]
        },
        {
          "output_type": "stream",
          "name": "stdout",
          "text": [
            "Fetched content for: https://www.erowid.org/experiences/exp.php?ID=58800\n"
          ]
        },
        {
          "output_type": "stream",
          "name": "stderr",
          "text": [
            "/usr/local/lib/python3.12/dist-packages/urllib3/connectionpool.py:1097: InsecureRequestWarning: Unverified HTTPS request is being made to host 'www.erowid.org'. Adding certificate verification is strongly advised. See: https://urllib3.readthedocs.io/en/latest/advanced-usage.html#tls-warnings\n",
            "  warnings.warn(\n"
          ]
        },
        {
          "output_type": "stream",
          "name": "stdout",
          "text": [
            "Fetched content for: https://www.erowid.org/experiences/exp.php?ID=58907\n"
          ]
        },
        {
          "output_type": "stream",
          "name": "stderr",
          "text": [
            "/usr/local/lib/python3.12/dist-packages/urllib3/connectionpool.py:1097: InsecureRequestWarning: Unverified HTTPS request is being made to host 'www.erowid.org'. Adding certificate verification is strongly advised. See: https://urllib3.readthedocs.io/en/latest/advanced-usage.html#tls-warnings\n",
            "  warnings.warn(\n"
          ]
        },
        {
          "output_type": "stream",
          "name": "stdout",
          "text": [
            "Fetched content for: https://www.erowid.org/experiences/exp.php?ID=52797\n"
          ]
        },
        {
          "output_type": "stream",
          "name": "stderr",
          "text": [
            "/usr/local/lib/python3.12/dist-packages/urllib3/connectionpool.py:1097: InsecureRequestWarning: Unverified HTTPS request is being made to host 'www.erowid.org'. Adding certificate verification is strongly advised. See: https://urllib3.readthedocs.io/en/latest/advanced-usage.html#tls-warnings\n",
            "  warnings.warn(\n"
          ]
        },
        {
          "output_type": "stream",
          "name": "stdout",
          "text": [
            "Fetched content for: https://www.erowid.org/experiences/exp.php?ID=46854\n"
          ]
        },
        {
          "output_type": "stream",
          "name": "stderr",
          "text": [
            "/usr/local/lib/python3.12/dist-packages/urllib3/connectionpool.py:1097: InsecureRequestWarning: Unverified HTTPS request is being made to host 'www.erowid.org'. Adding certificate verification is strongly advised. See: https://urllib3.readthedocs.io/en/latest/advanced-usage.html#tls-warnings\n",
            "  warnings.warn(\n"
          ]
        },
        {
          "output_type": "stream",
          "name": "stdout",
          "text": [
            "Fetched content for: https://www.erowid.org/experiences/exp.php?ID=46856\n"
          ]
        },
        {
          "output_type": "stream",
          "name": "stderr",
          "text": [
            "/usr/local/lib/python3.12/dist-packages/urllib3/connectionpool.py:1097: InsecureRequestWarning: Unverified HTTPS request is being made to host 'www.erowid.org'. Adding certificate verification is strongly advised. See: https://urllib3.readthedocs.io/en/latest/advanced-usage.html#tls-warnings\n",
            "  warnings.warn(\n"
          ]
        },
        {
          "output_type": "stream",
          "name": "stdout",
          "text": [
            "Fetched content for: https://www.erowid.org/experiences/exp.php?ID=41106\n"
          ]
        },
        {
          "output_type": "stream",
          "name": "stderr",
          "text": [
            "/usr/local/lib/python3.12/dist-packages/urllib3/connectionpool.py:1097: InsecureRequestWarning: Unverified HTTPS request is being made to host 'www.erowid.org'. Adding certificate verification is strongly advised. See: https://urllib3.readthedocs.io/en/latest/advanced-usage.html#tls-warnings\n",
            "  warnings.warn(\n"
          ]
        },
        {
          "output_type": "stream",
          "name": "stdout",
          "text": [
            "Fetched content for: https://www.erowid.org/experiences/exp.php?ID=30919\n"
          ]
        },
        {
          "output_type": "stream",
          "name": "stderr",
          "text": [
            "/usr/local/lib/python3.12/dist-packages/urllib3/connectionpool.py:1097: InsecureRequestWarning: Unverified HTTPS request is being made to host 'www.erowid.org'. Adding certificate verification is strongly advised. See: https://urllib3.readthedocs.io/en/latest/advanced-usage.html#tls-warnings\n",
            "  warnings.warn(\n"
          ]
        },
        {
          "output_type": "stream",
          "name": "stdout",
          "text": [
            "Fetched content for: https://www.erowid.org/experiences/exp.php?ID=22238\n"
          ]
        },
        {
          "output_type": "stream",
          "name": "stderr",
          "text": [
            "/usr/local/lib/python3.12/dist-packages/urllib3/connectionpool.py:1097: InsecureRequestWarning: Unverified HTTPS request is being made to host 'www.erowid.org'. Adding certificate verification is strongly advised. See: https://urllib3.readthedocs.io/en/latest/advanced-usage.html#tls-warnings\n",
            "  warnings.warn(\n"
          ]
        },
        {
          "output_type": "stream",
          "name": "stdout",
          "text": [
            "Fetched content for: https://www.erowid.org/experiences/exp.php?ID=31979\n"
          ]
        },
        {
          "output_type": "stream",
          "name": "stderr",
          "text": [
            "/usr/local/lib/python3.12/dist-packages/urllib3/connectionpool.py:1097: InsecureRequestWarning: Unverified HTTPS request is being made to host 'www.erowid.org'. Adding certificate verification is strongly advised. See: https://urllib3.readthedocs.io/en/latest/advanced-usage.html#tls-warnings\n",
            "  warnings.warn(\n"
          ]
        },
        {
          "output_type": "stream",
          "name": "stdout",
          "text": [
            "Fetched content for: https://www.erowid.org/experiences/exp.php?ID=25157\n"
          ]
        },
        {
          "output_type": "stream",
          "name": "stderr",
          "text": [
            "/usr/local/lib/python3.12/dist-packages/urllib3/connectionpool.py:1097: InsecureRequestWarning: Unverified HTTPS request is being made to host 'www.erowid.org'. Adding certificate verification is strongly advised. See: https://urllib3.readthedocs.io/en/latest/advanced-usage.html#tls-warnings\n",
            "  warnings.warn(\n"
          ]
        },
        {
          "output_type": "stream",
          "name": "stdout",
          "text": [
            "Fetched content for: https://www.erowid.org/experiences/exp.php?ID=23350\n"
          ]
        },
        {
          "output_type": "stream",
          "name": "stderr",
          "text": [
            "/usr/local/lib/python3.12/dist-packages/urllib3/connectionpool.py:1097: InsecureRequestWarning: Unverified HTTPS request is being made to host 'www.erowid.org'. Adding certificate verification is strongly advised. See: https://urllib3.readthedocs.io/en/latest/advanced-usage.html#tls-warnings\n",
            "  warnings.warn(\n"
          ]
        },
        {
          "output_type": "stream",
          "name": "stdout",
          "text": [
            "Fetched content for: https://www.erowid.org/experiences/exp.php?ID=16314\n"
          ]
        },
        {
          "output_type": "stream",
          "name": "stderr",
          "text": [
            "/usr/local/lib/python3.12/dist-packages/urllib3/connectionpool.py:1097: InsecureRequestWarning: Unverified HTTPS request is being made to host 'www.erowid.org'. Adding certificate verification is strongly advised. See: https://urllib3.readthedocs.io/en/latest/advanced-usage.html#tls-warnings\n",
            "  warnings.warn(\n"
          ]
        },
        {
          "output_type": "stream",
          "name": "stdout",
          "text": [
            "Fetched content for: https://www.erowid.org/experiences/exp.php?ID=8842\n"
          ]
        },
        {
          "output_type": "stream",
          "name": "stderr",
          "text": [
            "/usr/local/lib/python3.12/dist-packages/urllib3/connectionpool.py:1097: InsecureRequestWarning: Unverified HTTPS request is being made to host 'www.erowid.org'. Adding certificate verification is strongly advised. See: https://urllib3.readthedocs.io/en/latest/advanced-usage.html#tls-warnings\n",
            "  warnings.warn(\n"
          ]
        },
        {
          "output_type": "stream",
          "name": "stdout",
          "text": [
            "Fetched content for: https://www.erowid.org/experiences/exp.php?ID=2205\n"
          ]
        },
        {
          "output_type": "stream",
          "name": "stderr",
          "text": [
            "/usr/local/lib/python3.12/dist-packages/urllib3/connectionpool.py:1097: InsecureRequestWarning: Unverified HTTPS request is being made to host 'www.erowid.org'. Adding certificate verification is strongly advised. See: https://urllib3.readthedocs.io/en/latest/advanced-usage.html#tls-warnings\n",
            "  warnings.warn(\n"
          ]
        },
        {
          "output_type": "stream",
          "name": "stdout",
          "text": [
            "Fetched content for: https://www.erowid.org/experiences/exp.php?ID=1851\n"
          ]
        },
        {
          "output_type": "stream",
          "name": "stderr",
          "text": [
            "/usr/local/lib/python3.12/dist-packages/urllib3/connectionpool.py:1097: InsecureRequestWarning: Unverified HTTPS request is being made to host 'www.erowid.org'. Adding certificate verification is strongly advised. See: https://urllib3.readthedocs.io/en/latest/advanced-usage.html#tls-warnings\n",
            "  warnings.warn(\n"
          ]
        },
        {
          "output_type": "stream",
          "name": "stdout",
          "text": [
            "Fetched content for: https://www.erowid.org/experiences/exp.php?ID=1841\n"
          ]
        },
        {
          "output_type": "stream",
          "name": "stderr",
          "text": [
            "/usr/local/lib/python3.12/dist-packages/urllib3/connectionpool.py:1097: InsecureRequestWarning: Unverified HTTPS request is being made to host 'www.erowid.org'. Adding certificate verification is strongly advised. See: https://urllib3.readthedocs.io/en/latest/advanced-usage.html#tls-warnings\n",
            "  warnings.warn(\n"
          ]
        },
        {
          "output_type": "stream",
          "name": "stdout",
          "text": [
            "Fetched content for: https://www.erowid.org/experiences/exp.php?ID=1839\n"
          ]
        },
        {
          "output_type": "stream",
          "name": "stderr",
          "text": [
            "/usr/local/lib/python3.12/dist-packages/urllib3/connectionpool.py:1097: InsecureRequestWarning: Unverified HTTPS request is being made to host 'www.erowid.org'. Adding certificate verification is strongly advised. See: https://urllib3.readthedocs.io/en/latest/advanced-usage.html#tls-warnings\n",
            "  warnings.warn(\n"
          ]
        },
        {
          "output_type": "stream",
          "name": "stdout",
          "text": [
            "Fetched content for: https://www.erowid.org/experiences/exp.php?ID=118625\n"
          ]
        },
        {
          "output_type": "stream",
          "name": "stderr",
          "text": [
            "/usr/local/lib/python3.12/dist-packages/urllib3/connectionpool.py:1097: InsecureRequestWarning: Unverified HTTPS request is being made to host 'www.erowid.org'. Adding certificate verification is strongly advised. See: https://urllib3.readthedocs.io/en/latest/advanced-usage.html#tls-warnings\n",
            "  warnings.warn(\n"
          ]
        },
        {
          "output_type": "stream",
          "name": "stdout",
          "text": [
            "Fetched content for: https://www.erowid.org/experiences/exp.php?ID=117294\n"
          ]
        },
        {
          "output_type": "stream",
          "name": "stderr",
          "text": [
            "/usr/local/lib/python3.12/dist-packages/urllib3/connectionpool.py:1097: InsecureRequestWarning: Unverified HTTPS request is being made to host 'www.erowid.org'. Adding certificate verification is strongly advised. See: https://urllib3.readthedocs.io/en/latest/advanced-usage.html#tls-warnings\n",
            "  warnings.warn(\n"
          ]
        },
        {
          "output_type": "stream",
          "name": "stdout",
          "text": [
            "Fetched content for: https://www.erowid.org/experiences/exp.php?ID=117473\n"
          ]
        },
        {
          "output_type": "stream",
          "name": "stderr",
          "text": [
            "/usr/local/lib/python3.12/dist-packages/urllib3/connectionpool.py:1097: InsecureRequestWarning: Unverified HTTPS request is being made to host 'www.erowid.org'. Adding certificate verification is strongly advised. See: https://urllib3.readthedocs.io/en/latest/advanced-usage.html#tls-warnings\n",
            "  warnings.warn(\n"
          ]
        },
        {
          "output_type": "stream",
          "name": "stdout",
          "text": [
            "Fetched content for: https://www.erowid.org/experiences/exp.php?ID=102105\n"
          ]
        },
        {
          "output_type": "stream",
          "name": "stderr",
          "text": [
            "/usr/local/lib/python3.12/dist-packages/urllib3/connectionpool.py:1097: InsecureRequestWarning: Unverified HTTPS request is being made to host 'www.erowid.org'. Adding certificate verification is strongly advised. See: https://urllib3.readthedocs.io/en/latest/advanced-usage.html#tls-warnings\n",
            "  warnings.warn(\n"
          ]
        },
        {
          "output_type": "stream",
          "name": "stdout",
          "text": [
            "Fetched content for: https://www.erowid.org/experiences/exp.php?ID=115502\n"
          ]
        },
        {
          "output_type": "stream",
          "name": "stderr",
          "text": [
            "/usr/local/lib/python3.12/dist-packages/urllib3/connectionpool.py:1097: InsecureRequestWarning: Unverified HTTPS request is being made to host 'www.erowid.org'. Adding certificate verification is strongly advised. See: https://urllib3.readthedocs.io/en/latest/advanced-usage.html#tls-warnings\n",
            "  warnings.warn(\n"
          ]
        },
        {
          "output_type": "stream",
          "name": "stdout",
          "text": [
            "Fetched content for: https://www.erowid.org/experiences/exp.php?ID=114947\n"
          ]
        },
        {
          "output_type": "stream",
          "name": "stderr",
          "text": [
            "/usr/local/lib/python3.12/dist-packages/urllib3/connectionpool.py:1097: InsecureRequestWarning: Unverified HTTPS request is being made to host 'www.erowid.org'. Adding certificate verification is strongly advised. See: https://urllib3.readthedocs.io/en/latest/advanced-usage.html#tls-warnings\n",
            "  warnings.warn(\n"
          ]
        },
        {
          "output_type": "stream",
          "name": "stdout",
          "text": [
            "Fetched content for: https://www.erowid.org/experiences/exp.php?ID=100673\n"
          ]
        },
        {
          "output_type": "stream",
          "name": "stderr",
          "text": [
            "/usr/local/lib/python3.12/dist-packages/urllib3/connectionpool.py:1097: InsecureRequestWarning: Unverified HTTPS request is being made to host 'www.erowid.org'. Adding certificate verification is strongly advised. See: https://urllib3.readthedocs.io/en/latest/advanced-usage.html#tls-warnings\n",
            "  warnings.warn(\n"
          ]
        },
        {
          "output_type": "stream",
          "name": "stdout",
          "text": [
            "Fetched content for: https://www.erowid.org/experiences/exp.php?ID=99247\n"
          ]
        },
        {
          "output_type": "stream",
          "name": "stderr",
          "text": [
            "/usr/local/lib/python3.12/dist-packages/urllib3/connectionpool.py:1097: InsecureRequestWarning: Unverified HTTPS request is being made to host 'www.erowid.org'. Adding certificate verification is strongly advised. See: https://urllib3.readthedocs.io/en/latest/advanced-usage.html#tls-warnings\n",
            "  warnings.warn(\n"
          ]
        },
        {
          "output_type": "stream",
          "name": "stdout",
          "text": [
            "Fetched content for: https://www.erowid.org/experiences/exp.php?ID=106448\n"
          ]
        },
        {
          "output_type": "stream",
          "name": "stderr",
          "text": [
            "/usr/local/lib/python3.12/dist-packages/urllib3/connectionpool.py:1097: InsecureRequestWarning: Unverified HTTPS request is being made to host 'www.erowid.org'. Adding certificate verification is strongly advised. See: https://urllib3.readthedocs.io/en/latest/advanced-usage.html#tls-warnings\n",
            "  warnings.warn(\n"
          ]
        },
        {
          "output_type": "stream",
          "name": "stdout",
          "text": [
            "Fetched content for: https://www.erowid.org/experiences/exp.php?ID=106105\n"
          ]
        },
        {
          "output_type": "stream",
          "name": "stderr",
          "text": [
            "/usr/local/lib/python3.12/dist-packages/urllib3/connectionpool.py:1097: InsecureRequestWarning: Unverified HTTPS request is being made to host 'www.erowid.org'. Adding certificate verification is strongly advised. See: https://urllib3.readthedocs.io/en/latest/advanced-usage.html#tls-warnings\n",
            "  warnings.warn(\n"
          ]
        },
        {
          "output_type": "stream",
          "name": "stdout",
          "text": [
            "Fetched content for: https://www.erowid.org/experiences/exp.php?ID=108109\n"
          ]
        },
        {
          "output_type": "stream",
          "name": "stderr",
          "text": [
            "/usr/local/lib/python3.12/dist-packages/urllib3/connectionpool.py:1097: InsecureRequestWarning: Unverified HTTPS request is being made to host 'www.erowid.org'. Adding certificate verification is strongly advised. See: https://urllib3.readthedocs.io/en/latest/advanced-usage.html#tls-warnings\n",
            "  warnings.warn(\n"
          ]
        },
        {
          "output_type": "stream",
          "name": "stdout",
          "text": [
            "Fetched content for: https://www.erowid.org/experiences/exp.php?ID=113511\n"
          ]
        },
        {
          "output_type": "stream",
          "name": "stderr",
          "text": [
            "/usr/local/lib/python3.12/dist-packages/urllib3/connectionpool.py:1097: InsecureRequestWarning: Unverified HTTPS request is being made to host 'www.erowid.org'. Adding certificate verification is strongly advised. See: https://urllib3.readthedocs.io/en/latest/advanced-usage.html#tls-warnings\n",
            "  warnings.warn(\n"
          ]
        },
        {
          "output_type": "stream",
          "name": "stdout",
          "text": [
            "Fetched content for: https://www.erowid.org/experiences/exp.php?ID=106818\n"
          ]
        },
        {
          "output_type": "stream",
          "name": "stderr",
          "text": [
            "/usr/local/lib/python3.12/dist-packages/urllib3/connectionpool.py:1097: InsecureRequestWarning: Unverified HTTPS request is being made to host 'www.erowid.org'. Adding certificate verification is strongly advised. See: https://urllib3.readthedocs.io/en/latest/advanced-usage.html#tls-warnings\n",
            "  warnings.warn(\n"
          ]
        },
        {
          "output_type": "stream",
          "name": "stdout",
          "text": [
            "Fetched content for: https://www.erowid.org/experiences/exp.php?ID=101367\n"
          ]
        },
        {
          "output_type": "stream",
          "name": "stderr",
          "text": [
            "/usr/local/lib/python3.12/dist-packages/urllib3/connectionpool.py:1097: InsecureRequestWarning: Unverified HTTPS request is being made to host 'www.erowid.org'. Adding certificate verification is strongly advised. See: https://urllib3.readthedocs.io/en/latest/advanced-usage.html#tls-warnings\n",
            "  warnings.warn(\n"
          ]
        },
        {
          "output_type": "stream",
          "name": "stdout",
          "text": [
            "Fetched content for: https://www.erowid.org/experiences/exp.php?ID=102952\n"
          ]
        },
        {
          "output_type": "stream",
          "name": "stderr",
          "text": [
            "/usr/local/lib/python3.12/dist-packages/urllib3/connectionpool.py:1097: InsecureRequestWarning: Unverified HTTPS request is being made to host 'www.erowid.org'. Adding certificate verification is strongly advised. See: https://urllib3.readthedocs.io/en/latest/advanced-usage.html#tls-warnings\n",
            "  warnings.warn(\n"
          ]
        },
        {
          "output_type": "stream",
          "name": "stdout",
          "text": [
            "Fetched content for: https://www.erowid.org/experiences/exp.php?ID=112845\n"
          ]
        },
        {
          "output_type": "stream",
          "name": "stderr",
          "text": [
            "/usr/local/lib/python3.12/dist-packages/urllib3/connectionpool.py:1097: InsecureRequestWarning: Unverified HTTPS request is being made to host 'www.erowid.org'. Adding certificate verification is strongly advised. See: https://urllib3.readthedocs.io/en/latest/advanced-usage.html#tls-warnings\n",
            "  warnings.warn(\n"
          ]
        },
        {
          "output_type": "stream",
          "name": "stdout",
          "text": [
            "Fetched content for: https://www.erowid.org/experiences/exp.php?ID=112640\n"
          ]
        },
        {
          "output_type": "stream",
          "name": "stderr",
          "text": [
            "/usr/local/lib/python3.12/dist-packages/urllib3/connectionpool.py:1097: InsecureRequestWarning: Unverified HTTPS request is being made to host 'www.erowid.org'. Adding certificate verification is strongly advised. See: https://urllib3.readthedocs.io/en/latest/advanced-usage.html#tls-warnings\n",
            "  warnings.warn(\n"
          ]
        },
        {
          "output_type": "stream",
          "name": "stdout",
          "text": [
            "Fetched content for: https://www.erowid.org/experiences/exp.php?ID=112771\n"
          ]
        },
        {
          "output_type": "stream",
          "name": "stderr",
          "text": [
            "/usr/local/lib/python3.12/dist-packages/urllib3/connectionpool.py:1097: InsecureRequestWarning: Unverified HTTPS request is being made to host 'www.erowid.org'. Adding certificate verification is strongly advised. See: https://urllib3.readthedocs.io/en/latest/advanced-usage.html#tls-warnings\n",
            "  warnings.warn(\n"
          ]
        },
        {
          "output_type": "stream",
          "name": "stdout",
          "text": [
            "Fetched content for: https://www.erowid.org/experiences/exp.php?ID=111847\n"
          ]
        },
        {
          "output_type": "stream",
          "name": "stderr",
          "text": [
            "/usr/local/lib/python3.12/dist-packages/urllib3/connectionpool.py:1097: InsecureRequestWarning: Unverified HTTPS request is being made to host 'www.erowid.org'. Adding certificate verification is strongly advised. See: https://urllib3.readthedocs.io/en/latest/advanced-usage.html#tls-warnings\n",
            "  warnings.warn(\n"
          ]
        },
        {
          "output_type": "stream",
          "name": "stdout",
          "text": [
            "Fetched content for: https://www.erowid.org/experiences/exp.php?ID=87759\n"
          ]
        },
        {
          "output_type": "stream",
          "name": "stderr",
          "text": [
            "/usr/local/lib/python3.12/dist-packages/urllib3/connectionpool.py:1097: InsecureRequestWarning: Unverified HTTPS request is being made to host 'www.erowid.org'. Adding certificate verification is strongly advised. See: https://urllib3.readthedocs.io/en/latest/advanced-usage.html#tls-warnings\n",
            "  warnings.warn(\n"
          ]
        },
        {
          "output_type": "stream",
          "name": "stdout",
          "text": [
            "Fetched content for: https://www.erowid.org/experiences/exp.php?ID=96140\n"
          ]
        },
        {
          "output_type": "stream",
          "name": "stderr",
          "text": [
            "/usr/local/lib/python3.12/dist-packages/urllib3/connectionpool.py:1097: InsecureRequestWarning: Unverified HTTPS request is being made to host 'www.erowid.org'. Adding certificate verification is strongly advised. See: https://urllib3.readthedocs.io/en/latest/advanced-usage.html#tls-warnings\n",
            "  warnings.warn(\n"
          ]
        },
        {
          "output_type": "stream",
          "name": "stdout",
          "text": [
            "Fetched content for: https://www.erowid.org/experiences/exp.php?ID=85721\n"
          ]
        },
        {
          "output_type": "stream",
          "name": "stderr",
          "text": [
            "/usr/local/lib/python3.12/dist-packages/urllib3/connectionpool.py:1097: InsecureRequestWarning: Unverified HTTPS request is being made to host 'www.erowid.org'. Adding certificate verification is strongly advised. See: https://urllib3.readthedocs.io/en/latest/advanced-usage.html#tls-warnings\n",
            "  warnings.warn(\n"
          ]
        },
        {
          "output_type": "stream",
          "name": "stdout",
          "text": [
            "Fetched content for: https://www.erowid.org/experiences/exp.php?ID=100953\n"
          ]
        },
        {
          "output_type": "stream",
          "name": "stderr",
          "text": [
            "/usr/local/lib/python3.12/dist-packages/urllib3/connectionpool.py:1097: InsecureRequestWarning: Unverified HTTPS request is being made to host 'www.erowid.org'. Adding certificate verification is strongly advised. See: https://urllib3.readthedocs.io/en/latest/advanced-usage.html#tls-warnings\n",
            "  warnings.warn(\n"
          ]
        },
        {
          "output_type": "stream",
          "name": "stdout",
          "text": [
            "Fetched content for: https://www.erowid.org/experiences/exp.php?ID=99900\n"
          ]
        },
        {
          "output_type": "stream",
          "name": "stderr",
          "text": [
            "/usr/local/lib/python3.12/dist-packages/urllib3/connectionpool.py:1097: InsecureRequestWarning: Unverified HTTPS request is being made to host 'www.erowid.org'. Adding certificate verification is strongly advised. See: https://urllib3.readthedocs.io/en/latest/advanced-usage.html#tls-warnings\n",
            "  warnings.warn(\n"
          ]
        },
        {
          "output_type": "stream",
          "name": "stdout",
          "text": [
            "Fetched content for: https://www.erowid.org/experiences/exp.php?ID=103249\n"
          ]
        },
        {
          "output_type": "stream",
          "name": "stderr",
          "text": [
            "/usr/local/lib/python3.12/dist-packages/urllib3/connectionpool.py:1097: InsecureRequestWarning: Unverified HTTPS request is being made to host 'www.erowid.org'. Adding certificate verification is strongly advised. See: https://urllib3.readthedocs.io/en/latest/advanced-usage.html#tls-warnings\n",
            "  warnings.warn(\n"
          ]
        },
        {
          "output_type": "stream",
          "name": "stdout",
          "text": [
            "Fetched content for: https://www.erowid.org/experiences/exp.php?ID=109084\n"
          ]
        },
        {
          "output_type": "stream",
          "name": "stderr",
          "text": [
            "/usr/local/lib/python3.12/dist-packages/urllib3/connectionpool.py:1097: InsecureRequestWarning: Unverified HTTPS request is being made to host 'www.erowid.org'. Adding certificate verification is strongly advised. See: https://urllib3.readthedocs.io/en/latest/advanced-usage.html#tls-warnings\n",
            "  warnings.warn(\n"
          ]
        },
        {
          "output_type": "stream",
          "name": "stdout",
          "text": [
            "Fetched content for: https://www.erowid.org/experiences/exp.php?ID=95151\n"
          ]
        },
        {
          "output_type": "stream",
          "name": "stderr",
          "text": [
            "/usr/local/lib/python3.12/dist-packages/urllib3/connectionpool.py:1097: InsecureRequestWarning: Unverified HTTPS request is being made to host 'www.erowid.org'. Adding certificate verification is strongly advised. See: https://urllib3.readthedocs.io/en/latest/advanced-usage.html#tls-warnings\n",
            "  warnings.warn(\n"
          ]
        },
        {
          "output_type": "stream",
          "name": "stdout",
          "text": [
            "Fetched content for: https://www.erowid.org/experiences/exp.php?ID=100929\n"
          ]
        },
        {
          "output_type": "stream",
          "name": "stderr",
          "text": [
            "/usr/local/lib/python3.12/dist-packages/urllib3/connectionpool.py:1097: InsecureRequestWarning: Unverified HTTPS request is being made to host 'www.erowid.org'. Adding certificate verification is strongly advised. See: https://urllib3.readthedocs.io/en/latest/advanced-usage.html#tls-warnings\n",
            "  warnings.warn(\n"
          ]
        },
        {
          "output_type": "stream",
          "name": "stdout",
          "text": [
            "Fetched content for: https://www.erowid.org/experiences/exp.php?ID=97363\n"
          ]
        },
        {
          "output_type": "stream",
          "name": "stderr",
          "text": [
            "/usr/local/lib/python3.12/dist-packages/urllib3/connectionpool.py:1097: InsecureRequestWarning: Unverified HTTPS request is being made to host 'www.erowid.org'. Adding certificate verification is strongly advised. See: https://urllib3.readthedocs.io/en/latest/advanced-usage.html#tls-warnings\n",
            "  warnings.warn(\n"
          ]
        },
        {
          "output_type": "stream",
          "name": "stdout",
          "text": [
            "Fetched content for: https://www.erowid.org/experiences/exp.php?ID=110185\n"
          ]
        },
        {
          "output_type": "stream",
          "name": "stderr",
          "text": [
            "/usr/local/lib/python3.12/dist-packages/urllib3/connectionpool.py:1097: InsecureRequestWarning: Unverified HTTPS request is being made to host 'www.erowid.org'. Adding certificate verification is strongly advised. See: https://urllib3.readthedocs.io/en/latest/advanced-usage.html#tls-warnings\n",
            "  warnings.warn(\n"
          ]
        },
        {
          "output_type": "stream",
          "name": "stdout",
          "text": [
            "Fetched content for: https://www.erowid.org/experiences/exp.php?ID=108821\n"
          ]
        },
        {
          "output_type": "stream",
          "name": "stderr",
          "text": [
            "/usr/local/lib/python3.12/dist-packages/urllib3/connectionpool.py:1097: InsecureRequestWarning: Unverified HTTPS request is being made to host 'www.erowid.org'. Adding certificate verification is strongly advised. See: https://urllib3.readthedocs.io/en/latest/advanced-usage.html#tls-warnings\n",
            "  warnings.warn(\n"
          ]
        },
        {
          "output_type": "stream",
          "name": "stdout",
          "text": [
            "Fetched content for: https://www.erowid.org/experiences/exp.php?ID=91964\n"
          ]
        },
        {
          "output_type": "stream",
          "name": "stderr",
          "text": [
            "/usr/local/lib/python3.12/dist-packages/urllib3/connectionpool.py:1097: InsecureRequestWarning: Unverified HTTPS request is being made to host 'www.erowid.org'. Adding certificate verification is strongly advised. See: https://urllib3.readthedocs.io/en/latest/advanced-usage.html#tls-warnings\n",
            "  warnings.warn(\n"
          ]
        },
        {
          "output_type": "stream",
          "name": "stdout",
          "text": [
            "Fetched content for: https://www.erowid.org/experiences/exp.php?ID=110432\n"
          ]
        },
        {
          "output_type": "stream",
          "name": "stderr",
          "text": [
            "/usr/local/lib/python3.12/dist-packages/urllib3/connectionpool.py:1097: InsecureRequestWarning: Unverified HTTPS request is being made to host 'www.erowid.org'. Adding certificate verification is strongly advised. See: https://urllib3.readthedocs.io/en/latest/advanced-usage.html#tls-warnings\n",
            "  warnings.warn(\n"
          ]
        },
        {
          "output_type": "stream",
          "name": "stdout",
          "text": [
            "Fetched content for: https://www.erowid.org/experiences/exp.php?ID=81462\n"
          ]
        },
        {
          "output_type": "stream",
          "name": "stderr",
          "text": [
            "/usr/local/lib/python3.12/dist-packages/urllib3/connectionpool.py:1097: InsecureRequestWarning: Unverified HTTPS request is being made to host 'www.erowid.org'. Adding certificate verification is strongly advised. See: https://urllib3.readthedocs.io/en/latest/advanced-usage.html#tls-warnings\n",
            "  warnings.warn(\n"
          ]
        },
        {
          "output_type": "stream",
          "name": "stdout",
          "text": [
            "Fetched content for: https://www.erowid.org/experiences/exp.php?ID=101884\n"
          ]
        },
        {
          "output_type": "stream",
          "name": "stderr",
          "text": [
            "/usr/local/lib/python3.12/dist-packages/urllib3/connectionpool.py:1097: InsecureRequestWarning: Unverified HTTPS request is being made to host 'www.erowid.org'. Adding certificate verification is strongly advised. See: https://urllib3.readthedocs.io/en/latest/advanced-usage.html#tls-warnings\n",
            "  warnings.warn(\n"
          ]
        },
        {
          "output_type": "stream",
          "name": "stdout",
          "text": [
            "Fetched content for: https://www.erowid.org/experiences/exp.php?ID=108077\n"
          ]
        },
        {
          "output_type": "stream",
          "name": "stderr",
          "text": [
            "/usr/local/lib/python3.12/dist-packages/urllib3/connectionpool.py:1097: InsecureRequestWarning: Unverified HTTPS request is being made to host 'www.erowid.org'. Adding certificate verification is strongly advised. See: https://urllib3.readthedocs.io/en/latest/advanced-usage.html#tls-warnings\n",
            "  warnings.warn(\n"
          ]
        },
        {
          "output_type": "stream",
          "name": "stdout",
          "text": [
            "Fetched content for: https://www.erowid.org/experiences/exp.php?ID=94599\n"
          ]
        },
        {
          "output_type": "stream",
          "name": "stderr",
          "text": [
            "/usr/local/lib/python3.12/dist-packages/urllib3/connectionpool.py:1097: InsecureRequestWarning: Unverified HTTPS request is being made to host 'www.erowid.org'. Adding certificate verification is strongly advised. See: https://urllib3.readthedocs.io/en/latest/advanced-usage.html#tls-warnings\n",
            "  warnings.warn(\n"
          ]
        },
        {
          "output_type": "stream",
          "name": "stdout",
          "text": [
            "Fetched content for: https://www.erowid.org/experiences/exp.php?ID=90113\n"
          ]
        },
        {
          "output_type": "stream",
          "name": "stderr",
          "text": [
            "/usr/local/lib/python3.12/dist-packages/urllib3/connectionpool.py:1097: InsecureRequestWarning: Unverified HTTPS request is being made to host 'www.erowid.org'. Adding certificate verification is strongly advised. See: https://urllib3.readthedocs.io/en/latest/advanced-usage.html#tls-warnings\n",
            "  warnings.warn(\n"
          ]
        },
        {
          "output_type": "stream",
          "name": "stdout",
          "text": [
            "Fetched content for: https://www.erowid.org/experiences/exp.php?ID=90263\n"
          ]
        },
        {
          "output_type": "stream",
          "name": "stderr",
          "text": [
            "/usr/local/lib/python3.12/dist-packages/urllib3/connectionpool.py:1097: InsecureRequestWarning: Unverified HTTPS request is being made to host 'www.erowid.org'. Adding certificate verification is strongly advised. See: https://urllib3.readthedocs.io/en/latest/advanced-usage.html#tls-warnings\n",
            "  warnings.warn(\n"
          ]
        },
        {
          "output_type": "stream",
          "name": "stdout",
          "text": [
            "Fetched content for: https://www.erowid.org/experiences/exp.php?ID=88428\n"
          ]
        },
        {
          "output_type": "stream",
          "name": "stderr",
          "text": [
            "/usr/local/lib/python3.12/dist-packages/urllib3/connectionpool.py:1097: InsecureRequestWarning: Unverified HTTPS request is being made to host 'www.erowid.org'. Adding certificate verification is strongly advised. See: https://urllib3.readthedocs.io/en/latest/advanced-usage.html#tls-warnings\n",
            "  warnings.warn(\n"
          ]
        },
        {
          "output_type": "stream",
          "name": "stdout",
          "text": [
            "Fetched content for: https://www.erowid.org/experiences/exp.php?ID=107582\n"
          ]
        },
        {
          "output_type": "stream",
          "name": "stderr",
          "text": [
            "/usr/local/lib/python3.12/dist-packages/urllib3/connectionpool.py:1097: InsecureRequestWarning: Unverified HTTPS request is being made to host 'www.erowid.org'. Adding certificate verification is strongly advised. See: https://urllib3.readthedocs.io/en/latest/advanced-usage.html#tls-warnings\n",
            "  warnings.warn(\n"
          ]
        },
        {
          "output_type": "stream",
          "name": "stdout",
          "text": [
            "Fetched content for: https://www.erowid.org/experiences/exp.php?ID=100109\n"
          ]
        },
        {
          "output_type": "stream",
          "name": "stderr",
          "text": [
            "/usr/local/lib/python3.12/dist-packages/urllib3/connectionpool.py:1097: InsecureRequestWarning: Unverified HTTPS request is being made to host 'www.erowid.org'. Adding certificate verification is strongly advised. See: https://urllib3.readthedocs.io/en/latest/advanced-usage.html#tls-warnings\n",
            "  warnings.warn(\n"
          ]
        },
        {
          "output_type": "stream",
          "name": "stdout",
          "text": [
            "Fetched content for: https://www.erowid.org/experiences/exp.php?ID=97591\n"
          ]
        },
        {
          "output_type": "stream",
          "name": "stderr",
          "text": [
            "/usr/local/lib/python3.12/dist-packages/urllib3/connectionpool.py:1097: InsecureRequestWarning: Unverified HTTPS request is being made to host 'www.erowid.org'. Adding certificate verification is strongly advised. See: https://urllib3.readthedocs.io/en/latest/advanced-usage.html#tls-warnings\n",
            "  warnings.warn(\n"
          ]
        },
        {
          "output_type": "stream",
          "name": "stdout",
          "text": [
            "Fetched content for: https://www.erowid.org/experiences/exp.php?ID=90557\n"
          ]
        },
        {
          "output_type": "stream",
          "name": "stderr",
          "text": [
            "/usr/local/lib/python3.12/dist-packages/urllib3/connectionpool.py:1097: InsecureRequestWarning: Unverified HTTPS request is being made to host 'www.erowid.org'. Adding certificate verification is strongly advised. See: https://urllib3.readthedocs.io/en/latest/advanced-usage.html#tls-warnings\n",
            "  warnings.warn(\n"
          ]
        },
        {
          "output_type": "stream",
          "name": "stdout",
          "text": [
            "Fetched content for: https://www.erowid.org/experiences/exp.php?ID=101998\n"
          ]
        },
        {
          "output_type": "stream",
          "name": "stderr",
          "text": [
            "/usr/local/lib/python3.12/dist-packages/urllib3/connectionpool.py:1097: InsecureRequestWarning: Unverified HTTPS request is being made to host 'www.erowid.org'. Adding certificate verification is strongly advised. See: https://urllib3.readthedocs.io/en/latest/advanced-usage.html#tls-warnings\n",
            "  warnings.warn(\n"
          ]
        },
        {
          "output_type": "stream",
          "name": "stdout",
          "text": [
            "Fetched content for: https://www.erowid.org/experiences/exp.php?ID=87447\n"
          ]
        },
        {
          "output_type": "stream",
          "name": "stderr",
          "text": [
            "/usr/local/lib/python3.12/dist-packages/urllib3/connectionpool.py:1097: InsecureRequestWarning: Unverified HTTPS request is being made to host 'www.erowid.org'. Adding certificate verification is strongly advised. See: https://urllib3.readthedocs.io/en/latest/advanced-usage.html#tls-warnings\n",
            "  warnings.warn(\n"
          ]
        },
        {
          "output_type": "stream",
          "name": "stdout",
          "text": [
            "Fetched content for: https://www.erowid.org/experiences/exp.php?ID=80512\n"
          ]
        },
        {
          "output_type": "stream",
          "name": "stderr",
          "text": [
            "/usr/local/lib/python3.12/dist-packages/urllib3/connectionpool.py:1097: InsecureRequestWarning: Unverified HTTPS request is being made to host 'www.erowid.org'. Adding certificate verification is strongly advised. See: https://urllib3.readthedocs.io/en/latest/advanced-usage.html#tls-warnings\n",
            "  warnings.warn(\n"
          ]
        },
        {
          "output_type": "stream",
          "name": "stdout",
          "text": [
            "Fetched content for: https://www.erowid.org/experiences/exp.php?ID=90269\n"
          ]
        },
        {
          "output_type": "stream",
          "name": "stderr",
          "text": [
            "/usr/local/lib/python3.12/dist-packages/urllib3/connectionpool.py:1097: InsecureRequestWarning: Unverified HTTPS request is being made to host 'www.erowid.org'. Adding certificate verification is strongly advised. See: https://urllib3.readthedocs.io/en/latest/advanced-usage.html#tls-warnings\n",
            "  warnings.warn(\n"
          ]
        },
        {
          "output_type": "stream",
          "name": "stdout",
          "text": [
            "Fetched content for: https://www.erowid.org/experiences/exp.php?ID=83098\n",
            "Fetched content for: https://www.erowid.org/experiences/exp.php?ID=92381\n",
            "Finished fetching content for 100 reports.\n",
            "Scraped HTML data saved to reports_html.json\n"
          ]
        },
        {
          "output_type": "stream",
          "name": "stderr",
          "text": [
            "/usr/local/lib/python3.12/dist-packages/urllib3/connectionpool.py:1097: InsecureRequestWarning: Unverified HTTPS request is being made to host 'www.erowid.org'. Adding certificate verification is strongly advised. See: https://urllib3.readthedocs.io/en/latest/advanced-usage.html#tls-warnings\n",
            "  warnings.warn(\n"
          ]
        }
      ]
    },
    {
      "cell_type": "code",
      "source": [
        "#cleaning reports html\n",
        "from bs4 import BeautifulSoup, Comment # Import Comment to find HTML comments\n",
        "import json\n",
        "\n",
        "cleaned_reports = []\n",
        "\n",
        "for report_data in report_html_contents:\n",
        "    link = report_data['link']\n",
        "    html_content = report_data['html_content']\n",
        "\n",
        "    try:\n",
        "        soup = BeautifulSoup(html_content, 'html.parser')\n",
        "\n",
        "        # Find the div containing the report text\n",
        "        report_div = soup.find('div', class_='report-text-surround')\n",
        "        report_text = None\n",
        "\n",
        "        if report_div:\n",
        "            # The main report text is often between <!-- Start Body --> and <!-- End Body --> comments\n",
        "            # within the 'report-text-surround' div. We need to iterate through the contents\n",
        "            # to find the text nodes and handle <br> tags.\n",
        "            content_started = False\n",
        "            extracted_lines = []\n",
        "            for content in report_div.contents:\n",
        "                if isinstance(content, Comment) and \"Start Body\" in content:\n",
        "                    content_started = True\n",
        "                    continue\n",
        "                if isinstance(content, Comment) and \"End Body\" in content:\n",
        "                    content_started = False\n",
        "                    break\n",
        "                if content_started:\n",
        "                    if content.name == 'br':\n",
        "                        extracted_lines.append('\\n') # Replace <br> with newline\n",
        "                    elif isinstance(content, str):\n",
        "                        extracted_lines.append(content)\n",
        "                    # You might need to handle other tags within the text if they exist,\n",
        "                    # but for simple text and line breaks, this should work.\n",
        "                    # If there are nested tags with text, you might need a recursive approach\n",
        "                    # or use get_text() on specific elements if they consistently contain text.\n",
        "                    elif hasattr(content, 'get_text'):\n",
        "                         extracted_lines.append(content.get_text())\n",
        "\n",
        "\n",
        "            report_text = \"\".join(extracted_lines).strip()\n",
        "\n",
        "        if report_text:\n",
        "            cleaned_reports.append({\n",
        "                'link': link,\n",
        "                'report_text': report_text\n",
        "            })\n",
        "            print(f\"Successfully extracted report text for {link}\")\n",
        "        else:\n",
        "            print(f\"Warning: Could not extract report text for {link}\")\n",
        "\n",
        "    except Exception as e:\n",
        "        print(f\"Error processing HTML for {link}: {e}\")\n",
        "\n",
        "print(f\"Finished extracting report text for {len(cleaned_reports)} reports.\")\n",
        "\n",
        "# Save the cleaned reports to a JSON file\n",
        "with open('cleaned_reports.json', 'w') as f:\n",
        "    json.dump(cleaned_reports, f, indent=4)\n",
        "\n",
        "print(\"Cleaned report data saved to cleaned_reports.json\")"
      ],
      "metadata": {
        "colab": {
          "base_uri": "https://localhost:8080/"
        },
        "collapsed": true,
        "id": "uJSPHAnMP7rk",
        "outputId": "b0bfbf20-87cb-4fe4-a935-98e8b35cbdd8"
      },
      "execution_count": 7,
      "outputs": [
        {
          "output_type": "stream",
          "name": "stdout",
          "text": [
            "Successfully extracted report text for https://www.erowid.org/experiences/exp.php?ID=118252\n",
            "Successfully extracted report text for https://www.erowid.org/experiences/exp.php?ID=112397\n",
            "Successfully extracted report text for https://www.erowid.org/experiences/exp.php?ID=96444\n",
            "Successfully extracted report text for https://www.erowid.org/experiences/exp.php?ID=64048\n",
            "Successfully extracted report text for https://www.erowid.org/experiences/exp.php?ID=62835\n",
            "Successfully extracted report text for https://www.erowid.org/experiences/exp.php?ID=34866\n",
            "Successfully extracted report text for https://www.erowid.org/experiences/exp.php?ID=113441\n",
            "Successfully extracted report text for https://www.erowid.org/experiences/exp.php?ID=113133\n",
            "Successfully extracted report text for https://www.erowid.org/experiences/exp.php?ID=99695\n",
            "Successfully extracted report text for https://www.erowid.org/experiences/exp.php?ID=94632\n",
            "Successfully extracted report text for https://www.erowid.org/experiences/exp.php?ID=103790\n",
            "Successfully extracted report text for https://www.erowid.org/experiences/exp.php?ID=96614\n",
            "Successfully extracted report text for https://www.erowid.org/experiences/exp.php?ID=106677\n",
            "Successfully extracted report text for https://www.erowid.org/experiences/exp.php?ID=89887\n",
            "Successfully extracted report text for https://www.erowid.org/experiences/exp.php?ID=98866\n",
            "Successfully extracted report text for https://www.erowid.org/experiences/exp.php?ID=101485\n",
            "Successfully extracted report text for https://www.erowid.org/experiences/exp.php?ID=101541\n",
            "Successfully extracted report text for https://www.erowid.org/experiences/exp.php?ID=93315\n",
            "Successfully extracted report text for https://www.erowid.org/experiences/exp.php?ID=96521\n",
            "Successfully extracted report text for https://www.erowid.org/experiences/exp.php?ID=94429\n",
            "Successfully extracted report text for https://www.erowid.org/experiences/exp.php?ID=93145\n",
            "Successfully extracted report text for https://www.erowid.org/experiences/exp.php?ID=80226\n",
            "Successfully extracted report text for https://www.erowid.org/experiences/exp.php?ID=82934\n",
            "Successfully extracted report text for https://www.erowid.org/experiences/exp.php?ID=86665\n",
            "Successfully extracted report text for https://www.erowid.org/experiences/exp.php?ID=83719\n",
            "Successfully extracted report text for https://www.erowid.org/experiences/exp.php?ID=82837\n",
            "Successfully extracted report text for https://www.erowid.org/experiences/exp.php?ID=80880\n",
            "Successfully extracted report text for https://www.erowid.org/experiences/exp.php?ID=76614\n",
            "Successfully extracted report text for https://www.erowid.org/experiences/exp.php?ID=75003\n",
            "Successfully extracted report text for https://www.erowid.org/experiences/exp.php?ID=70283\n",
            "Successfully extracted report text for https://www.erowid.org/experiences/exp.php?ID=66730\n",
            "Successfully extracted report text for https://www.erowid.org/experiences/exp.php?ID=65793\n",
            "Successfully extracted report text for https://www.erowid.org/experiences/exp.php?ID=65384\n",
            "Successfully extracted report text for https://www.erowid.org/experiences/exp.php?ID=58800\n",
            "Successfully extracted report text for https://www.erowid.org/experiences/exp.php?ID=58907\n",
            "Successfully extracted report text for https://www.erowid.org/experiences/exp.php?ID=52797\n",
            "Successfully extracted report text for https://www.erowid.org/experiences/exp.php?ID=46854\n",
            "Successfully extracted report text for https://www.erowid.org/experiences/exp.php?ID=46856\n",
            "Successfully extracted report text for https://www.erowid.org/experiences/exp.php?ID=41106\n",
            "Successfully extracted report text for https://www.erowid.org/experiences/exp.php?ID=30919\n",
            "Successfully extracted report text for https://www.erowid.org/experiences/exp.php?ID=22238\n",
            "Successfully extracted report text for https://www.erowid.org/experiences/exp.php?ID=31979\n",
            "Successfully extracted report text for https://www.erowid.org/experiences/exp.php?ID=25157\n",
            "Successfully extracted report text for https://www.erowid.org/experiences/exp.php?ID=23350\n",
            "Successfully extracted report text for https://www.erowid.org/experiences/exp.php?ID=16314\n",
            "Successfully extracted report text for https://www.erowid.org/experiences/exp.php?ID=8842\n",
            "Successfully extracted report text for https://www.erowid.org/experiences/exp.php?ID=2205\n",
            "Successfully extracted report text for https://www.erowid.org/experiences/exp.php?ID=1851\n",
            "Successfully extracted report text for https://www.erowid.org/experiences/exp.php?ID=1841\n",
            "Successfully extracted report text for https://www.erowid.org/experiences/exp.php?ID=1839\n",
            "Successfully extracted report text for https://www.erowid.org/experiences/exp.php?ID=118625\n",
            "Successfully extracted report text for https://www.erowid.org/experiences/exp.php?ID=117294\n",
            "Successfully extracted report text for https://www.erowid.org/experiences/exp.php?ID=117473\n",
            "Successfully extracted report text for https://www.erowid.org/experiences/exp.php?ID=102105\n",
            "Successfully extracted report text for https://www.erowid.org/experiences/exp.php?ID=115502\n",
            "Successfully extracted report text for https://www.erowid.org/experiences/exp.php?ID=114947\n",
            "Successfully extracted report text for https://www.erowid.org/experiences/exp.php?ID=100673\n",
            "Successfully extracted report text for https://www.erowid.org/experiences/exp.php?ID=99247\n",
            "Successfully extracted report text for https://www.erowid.org/experiences/exp.php?ID=106448\n",
            "Successfully extracted report text for https://www.erowid.org/experiences/exp.php?ID=106105\n",
            "Successfully extracted report text for https://www.erowid.org/experiences/exp.php?ID=108109\n",
            "Successfully extracted report text for https://www.erowid.org/experiences/exp.php?ID=113511\n",
            "Successfully extracted report text for https://www.erowid.org/experiences/exp.php?ID=106818\n",
            "Successfully extracted report text for https://www.erowid.org/experiences/exp.php?ID=101367\n",
            "Successfully extracted report text for https://www.erowid.org/experiences/exp.php?ID=102952\n",
            "Successfully extracted report text for https://www.erowid.org/experiences/exp.php?ID=112845\n",
            "Successfully extracted report text for https://www.erowid.org/experiences/exp.php?ID=112640\n",
            "Successfully extracted report text for https://www.erowid.org/experiences/exp.php?ID=112771\n",
            "Successfully extracted report text for https://www.erowid.org/experiences/exp.php?ID=111847\n",
            "Successfully extracted report text for https://www.erowid.org/experiences/exp.php?ID=87759\n",
            "Successfully extracted report text for https://www.erowid.org/experiences/exp.php?ID=96140\n",
            "Successfully extracted report text for https://www.erowid.org/experiences/exp.php?ID=85721\n",
            "Successfully extracted report text for https://www.erowid.org/experiences/exp.php?ID=100953\n",
            "Successfully extracted report text for https://www.erowid.org/experiences/exp.php?ID=99900\n",
            "Successfully extracted report text for https://www.erowid.org/experiences/exp.php?ID=103249\n",
            "Successfully extracted report text for https://www.erowid.org/experiences/exp.php?ID=109084\n",
            "Successfully extracted report text for https://www.erowid.org/experiences/exp.php?ID=95151\n",
            "Successfully extracted report text for https://www.erowid.org/experiences/exp.php?ID=100929\n",
            "Successfully extracted report text for https://www.erowid.org/experiences/exp.php?ID=97363\n",
            "Successfully extracted report text for https://www.erowid.org/experiences/exp.php?ID=110185\n",
            "Successfully extracted report text for https://www.erowid.org/experiences/exp.php?ID=108821\n",
            "Successfully extracted report text for https://www.erowid.org/experiences/exp.php?ID=91964\n",
            "Successfully extracted report text for https://www.erowid.org/experiences/exp.php?ID=110432\n",
            "Successfully extracted report text for https://www.erowid.org/experiences/exp.php?ID=81462\n",
            "Successfully extracted report text for https://www.erowid.org/experiences/exp.php?ID=101884\n",
            "Successfully extracted report text for https://www.erowid.org/experiences/exp.php?ID=108077\n",
            "Successfully extracted report text for https://www.erowid.org/experiences/exp.php?ID=94599\n",
            "Successfully extracted report text for https://www.erowid.org/experiences/exp.php?ID=90113\n",
            "Successfully extracted report text for https://www.erowid.org/experiences/exp.php?ID=90263\n",
            "Successfully extracted report text for https://www.erowid.org/experiences/exp.php?ID=88428\n",
            "Successfully extracted report text for https://www.erowid.org/experiences/exp.php?ID=107582\n",
            "Successfully extracted report text for https://www.erowid.org/experiences/exp.php?ID=100109\n",
            "Successfully extracted report text for https://www.erowid.org/experiences/exp.php?ID=97591\n",
            "Successfully extracted report text for https://www.erowid.org/experiences/exp.php?ID=90557\n",
            "Successfully extracted report text for https://www.erowid.org/experiences/exp.php?ID=101998\n",
            "Successfully extracted report text for https://www.erowid.org/experiences/exp.php?ID=87447\n",
            "Successfully extracted report text for https://www.erowid.org/experiences/exp.php?ID=80512\n",
            "Successfully extracted report text for https://www.erowid.org/experiences/exp.php?ID=90269\n",
            "Successfully extracted report text for https://www.erowid.org/experiences/exp.php?ID=83098\n",
            "Successfully extracted report text for https://www.erowid.org/experiences/exp.php?ID=92381\n",
            "Finished extracting report text for 100 reports.\n",
            "Cleaned report data saved to cleaned_reports.json\n"
          ]
        }
      ]
    }
  ]
}